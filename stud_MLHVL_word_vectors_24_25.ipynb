{
  "cells": [
    {
      "cell_type": "markdown",
      "metadata": {
        "id": "CuydOXTs7w4o"
      },
      "source": [
        "# Vectorial Word Representations"
      ]
    },
    {
      "cell_type": "markdown",
      "metadata": {
        "id": "SIjOQt-Rgelp"
      },
      "source": [
        "## Background\n",
        "Representing words as dense vectors over a finite-dimensional space was one of the recent breakthroughs in Natural Language Processing. Vectorial representations allow space-efficient, informationally rich storage of words that adequately captures their semantic content and enables numerical computation on them. Word vectors are the standard input representation for machine learning architectures for language processing. Even though new methods for constructing such representations emerge frequently, the original set of published papers remain a de facto point of reference as well as a good starting point. For this assignment, you will be asked to implement a small-scale variant of one such paper, namely [Global Word Vectors for Word Representation](https://nlp.stanford.edu/pubs/glove.pdf) (\"the GloVe paper\").\n",
        "\n",
        "Notes on the paper will appear throughout the notebook to guide you along the code. It is, however, important to read and understand the paper, its terminology and the theory behind it before attempting to go through with the assignment. Some of the tasks will also require addressing the paper directly.\n",
        "\n",
        "---\n",
        "\n",
        "There are 2 types of tasks in this assignment:\n",
        "- coding tasks --- asking you to write code following specifications provided; Most of the tasks come with test cases for sanity-check. Still, if something is not clear, <ins>do ask questions to lab teachers</ins>. When working with tensors, you have to use tensor-related operations instead of, e.g., inefficiently looping through tensor rows and columns.\n",
        "- interpretation questions --- asking you to interpret the data or the results of the model\n",
        "\n",
        "Each comes with its predefined points (totaling to 50pt). Some coding tasks have 0 points but solving them will be useful for you.\n",
        "\n",
        "---\n",
        "\n",
        "You are greatly encouraged to add comments to your code describing what particular lines of code do (in general, a great habit to have in your coding life).\n",
        "Additionally please follow these rules when submitting the notebook:\n",
        "\n",
        "* Put all code in the cell with the `# YOUR CODE HERE` comment.\n",
        "* For theoretical questions, put your solution in the `YOUR ANSWER HERE` cell and keep the header(!).\n",
        "* Don't change or delete any initially provided cells, either text or code, unless explicitly instructed to do so.\n",
        "* Don't delete the comment lines `# TEST...` or edit their code cells. The test cells are for sanity checking. Passing them doesn't necessarily means that your code is fine.\n",
        "* Don't change the names of provided functions and variables or arguments of the functions.\n",
        "* Don't clear the output of your code cells.\n",
        "* Don't output unnecessary info (e.g., printing variables for debugging purposes). This clutters the notebook and slows down the grading. You can have print() in the code, but comment them out before submitting the notebook.\n",
        "* Delete those cells that you inserted for your own debuging/testing purposes.\n",
        "* Don't forget to fill in the contribution information.\n",
        "* Test your code and **make sure we can run your notebook** in the colab environment.\n",
        "* A single notebook file (without archiving) per group should be submitted via BB.\n",
        "\n",
        "<font color=\"red\">You following these rules helps us to grade the submissions relatively efficiently. If these rules are violated, a submission will be subject to penalty points.</font>\n"
      ]
    },
    {
      "cell_type": "markdown",
      "metadata": {
        "id": "nNT1WNEnlkBC"
      },
      "source": [
        "# <font color=\"red\">Contributions</font>\n",
        "\n",
        "[\"Cem Kaya\", \"Murat Karaca\"]\n",
        "Equal contribution "
      ]
    },
    {
      "cell_type": "markdown",
      "metadata": {
        "id": "AyHEls6Agelp"
      },
      "source": [
        "## Corpus Statistics\n",
        "\n",
        "The paper's proposed model, GloVe, aims to densely represent words in a way that captures the global corpus statistics.\n",
        "\n",
        "The construction it encodes is the word __co-occurrence matrix__. A co-occurrence matrix is a simplistic data structure that counts the number of times each word has appeared within the context of every other word. The definition of a context varies; usually, context is implied to be a fixed-length span (that may or may not be allowed to escape sentence boundaries) around a word.\n",
        "\n",
        "For instance, in the sentence below and for a context length of 2, the word <span style=\"color:pink\">__Earth__</span> occurs in the context of <span style=\"color:lightgreen\">made</span> (1), <span style=\"color:lightgreen\">on</span> (1), <span style=\"color:lightgreen\">as</span> (1), <span style=\"color:lightgreen\">an</span> (1).\n",
        "\n",
        "> \"He struck most of the friends he had <span style=\"color:lightgreen\">made on</span> <span style=\"color:pink\">__Earth__</span> <span style=\"color:lightgreen\">as an</span> eccentric\"\n",
        "\n",
        "Similarly, the word <span style=\"color:pink\">__friends__</span> occurs in the context of <span style=\"color:lightgreen\">of</span> (1), <span style=\"color:lightgreen\">the</span> (1), <span style=\"color:lightgreen\">he</span> (1), <span style=\"color:lightgreen\">had</span> (1).\n",
        "\n",
        "> \"He struck most <span style=\"color:lightgreen\">of the</span> <span style=\"color:pink\">__friends__</span> <span style=\"color:lightgreen\">he had</span> made on Earth as an eccentric\"\n",
        "\n",
        "An alternative definition of a context would be, for instance, the variable-length windows spanned by a full sentence.\n",
        "\n",
        "Contexts may be summed across sentences or entire corpora; the summed context of <span style=\"color:pink\">__he__</span> in the example sentence is: <span style=\"color:lightgreen\">struck</span> (1), <span style=\"color:lightgreen\">most</span> (1), <span style=\"color:lightgreen\">the</span> (1), <span style=\"color:lightgreen\">friends</span> (1), <span style=\"color:lightgreen\">had</span> (1), <span style=\"color:lightgreen\">made</span> (1).\n",
        "\n"
      ]
    },
    {
      "cell_type": "markdown",
      "metadata": {
        "id": "JcPQmxFagelp"
      },
      "source": [
        "For the purposes of this assignment, we have prepared a co-occurrence matrix over a minimally processed version of the Harry Potter books.\n",
        "\n",
        "(A few interpretation tasks in this assignment presuppose some minimal level of familiarity with the Harry Potter books/films. If no one in your group is familiar with Harry Potter, you might find the [fandom page](https://harrypotter.fandom.com/wiki/Main_Page) useful or the [synopsis sections](https://en.wikipedia.org/wiki/Harry_Potter_and_the_Philosopher%27s_Stone) of the corresponding wiki pages.\n",
        "\n",
        "The pickle file contains three items:\n",
        "1. `vocab`: a dictionary mapping words to unique ids, containing $N$ unique words\n",
        "2. `contexts`: a dictionary mapping words to their contexts, where contexts are themselves dicts from words to integers that show the number of co-occurrences between these words.\n",
        "    E.g. `{\"portrait\": {\"harry\": 124, \"said\": 114, ...}, ...}` meaning that the word \"harry\" has appeared in the context of the word \"portrait\" 124 times, etc.\n",
        "3. `X`: a torch LongTensor ${X}$ of size $N \\times N$, where ${X}[i,j]$ denotes the number of times the word with id $j$ has appeared in the context of the word with id $i$\n",
        "\n",
        "Extremely common or uncommon words (i.e. words with too few or too many global occurrences) have been filtered out for practical reasons."
      ]
    },
    {
      "cell_type": "code",
      "execution_count": 1,
      "metadata": {
        "id": "M4xXGmBsgelp"
      },
      "outputs": [
        {
          "name": "stdout",
          "output_type": "stream",
          "text": [
            "GPU available:  True\n"
          ]
        }
      ],
      "source": [
        "import pickle, math\n",
        "import torch\n",
        "#import numpy as np\n",
        "from torch import FloatTensor, LongTensor\n",
        "from typing import Dict, Callable, List\n",
        "import matplotlib.pyplot as plt\n",
        "# torch.set_printoptions(precision=8) #to increase precision of printing floats\n",
        "#print gpu support\n",
        "print(\"GPU available: \", torch.cuda.is_available())\n",
        "torch.set_printoptions(precision=3, sci_mode=False)\n",
        "MY_DEVICE = \"cuda\" if torch.cuda.is_available() else \"cpu\""
      ]
    },
    {
      "cell_type": "code",
      "execution_count": 2,
      "metadata": {
        "id": "j8FXEspuud42"
      },
      "outputs": [],
      "source": [
        "# this command downloads the pickle file.\n",
        "# This is not a python code, it is a unix code. You can run system commands in jupyter notebooks.\n",
        "# !wget -nv -O HP-Counts.p https://www.dropbox.com/scl/fi/dnm7s38j8d0k0bguisiby/HP-Counts.p?rlkey=j0fc11rlnkow7jqb02sel6gz6&dl=1\n",
        "# try this if download from the dropbox link doesn't work\n",
        "\n",
        "#TODO delete comment before submition \n",
        "#!wget -nv -O HP-Counts.p https://naturallogic.pro/_files_/download/MLHVL/HP-Counts.p"
      ]
    },
    {
      "cell_type": "code",
      "execution_count": 3,
      "metadata": {
        "id": "LvW_GgYDgelr",
        "nbgrader": {
          "grade": false,
          "grade_id": "file-open",
          "locked": true,
          "schema_version": 3,
          "solution": false,
          "task": false
        },
        "tags": []
      },
      "outputs": [],
      "source": [
        "with open(\"HP-Counts.p\", \"rb\") as f:\n",
        "    vocab, contexts, X = pickle.load(f)"
      ]
    },
    {
      "cell_type": "markdown",
      "metadata": {
        "id": "KAYhg1c9gels"
      },
      "source": [
        "Let's inspect the top 10 most frequent words in the context of the word 'portrait'."
      ]
    },
    {
      "cell_type": "code",
      "execution_count": 4,
      "metadata": {
        "id": "y6Z-eEFcgelt",
        "tags": []
      },
      "outputs": [
        {
          "data": {
            "text/plain": [
              "[('harry', 124),\n",
              " ('said', 114),\n",
              " ('hole', 85),\n",
              " ('ron', 57),\n",
              " ('hermione', 54),\n",
              " ('room', 48),\n",
              " ('fat', 45),\n",
              " ('lady', 43),\n",
              " ('common', 37),\n",
              " ('back', 31)]"
            ]
          },
          "execution_count": 4,
          "metadata": {},
          "output_type": "execute_result"
        }
      ],
      "source": [
        "sorted([(item, value) for item, value in contexts[\"portrait\"].items()], key=lambda x: x[1], reverse=True)[:10]"
      ]
    },
    {
      "cell_type": "markdown",
      "metadata": {
        "id": "rTRNE9o7gelt"
      },
      "source": [
        "The co-occurrence matrix of a very large corpus should give a meaningful summary of how a word is used in general. A single row of that matrix is already a __word vector__ of size $N$. However such vectors are extremely sparse, and for large corpora the size of $N$ will become unwieldy. We will follow the paper in designing an algorithm that can compress the word vectors while retaining most of their informational content.\n",
        "\n",
        "<div class=\"alert alert-block alert-info\">\n",
        "<b>Note:</b>\n",
        "For the resulting vectors to actually be informative, the source corpus should have a size of at least a few billion words; on the contrary, our corpus enumerates merely a million words, so we can't expect our results to be as great.\n",
        "</div>"
      ]
    },
    {
      "cell_type": "markdown",
      "metadata": {
        "id": "Hd45Trplgelu"
      },
      "source": [
        "### From co-occurrence to probabilities\n",
        "\n",
        "Our matrix $X$ is very sparse; most of its elements are zero.\n",
        "\n",
        "Find what the ratio of non-zero elements is.  \n",
        "Check if the matrix is symmetric (think about why it should (not) be).\n",
        "\n",
        "_Hint_: The function `non_zero_ratio` should return a `float` rather than a `FloatTensor`. Remember `.item()`."
      ]
    },
    {
      "cell_type": "code",
      "execution_count": 5,
      "metadata": {
        "id": "kVb5uBzngelu",
        "nbgrader": {
          "grade": false,
          "grade_id": "non_zero_ratio",
          "locked": false,
          "schema_version": 3,
          "solution": true,
          "task": false
        },
        "tags": []
      },
      "outputs": [],
      "source": [
        "# @title c1.1 [0pt]\n",
        "def non_zero_ratio(sparse_matrix: LongTensor) -> float:\n",
        "    num_zero= 0\n",
        "    num_nan_zero = 0\n",
        "    for i in range(sparse_matrix.shape[0]):\n",
        "        for j in range(sparse_matrix.shape[1]):\n",
        "            if sparse_matrix[i][j]== 0:\n",
        "                num_zero += 1.0\n",
        "            else:\n",
        "                num_nan_zero += 1.0\n",
        "                \n",
        "    return num_nan_zero / (num_nan_zero + num_zero)\n",
        "#non_zero_ratio(X)"
      ]
    },
    {
      "cell_type": "code",
      "execution_count": 6,
      "metadata": {
        "id": "SqLY3Kmugelu",
        "nbgrader": {
          "grade": true,
          "grade_id": "non_zero_ratio_tests",
          "locked": true,
          "points": 1,
          "schema_version": 3,
          "solution": false,
          "task": false
        },
        "tags": []
      },
      "outputs": [],
      "source": [
        "# TEST c1.1\n",
        "assert 0.1 < non_zero_ratio(X) < 0.2"
      ]
    },
    {
      "cell_type": "markdown",
      "metadata": {
        "id": "pJsqVzO_gelu"
      },
      "source": [
        "We will soon need to perform division and find the logarithm of ${X}$. Neither of the two operations are well-defined for $0$. That's why for further processing we want to have a matrix without any zero elements.\n",
        "\n",
        "Change the matrix's datatype to a `torch.float` and add a small constant to it such as $0.1$ to ensure numerical stability while maintaining sparsity. The obtained matrix will be used in the remaining sections (not the original one)."
      ]
    },
    {
      "cell_type": "code",
      "execution_count": 7,
      "metadata": {
        "id": "Atv-IK8dgelv",
        "nbgrader": {
          "grade": false,
          "grade_id": "X1",
          "locked": false,
          "schema_version": 3,
          "solution": true,
          "task": false
        },
        "tags": []
      },
      "outputs": [],
      "source": [
        "# @title c1.2 [0pt]\n",
        "X1 =  X.float() +0.1 \n"
      ]
    },
    {
      "cell_type": "code",
      "execution_count": 8,
      "metadata": {
        "id": "_OVZ556bgelv",
        "nbgrader": {
          "grade": true,
          "grade_id": "X1_tests",
          "locked": true,
          "points": 1,
          "schema_version": 3,
          "solution": false,
          "task": false
        },
        "tags": []
      },
      "outputs": [],
      "source": [
        "# TEST c1.2\n",
        "assert non_zero_ratio(X1) == 1"
      ]
    },
    {
      "cell_type": "markdown",
      "metadata": {
        "id": "k1ZXji04gelw"
      },
      "source": [
        "From the paper:\n",
        "> Let the matrix of word-word co-occurrence counts be denoted by $X$, whose entries $X_{ij}$ tabulate the number of times word $j$ occurs in the context of word $i$.  Let $X_i$= $\\sum_{k} X_{ik}$ be the number of times any word appears in the context of word $i$. Finally, let $P_{ij} = P(j  | i) =  X_{ij}/X_i$ be the probability that word $j$ appears in the context of word $i$.\n",
        "\n",
        "Complete the function `to_probabilities` that accepts a co-occurrence matrix and returns the probability matrix $P$. Use tensor-specific functions and methods hiel doing this (e.g., don't loop through colums and rows of the tensor).\n",
        "\n",
        "_Hint_: Remember broadcasting and `torch.sum()`."
      ]
    },
    {
      "cell_type": "code",
      "execution_count": 9,
      "metadata": {
        "id": "NZQ0Upzogelw",
        "nbgrader": {
          "grade": false,
          "grade_id": "to_probabilities",
          "locked": false,
          "schema_version": 3,
          "solution": true,
          "task": false
        },
        "tags": []
      },
      "outputs": [
        {
          "data": {
            "text/plain": [
              "tensor([[    0.167,     0.333,     0.500],\n",
              "        [    0.000,     1.000,     0.000],\n",
              "        [    0.000,     0.000,     1.000]])"
            ]
          },
          "execution_count": 9,
          "metadata": {},
          "output_type": "execute_result"
        }
      ],
      "source": [
        "# @title c1.3 [1pt]\n",
        "def to_probabilities(count_matrix: FloatTensor) -> FloatTensor:\n",
        "    Xi_vec = torch.sum(count_matrix, axis=1)\n",
        "    #print(\"Xi_vec:  \",Xi_vec)\n",
        "    return (count_matrix.T / Xi_vec).T \n",
        "# make a torch tensor to test the function\n",
        "X = FloatTensor([[1.0001, 2.0001, 3.0001], \n",
        "                 [0.0001, 1.0001, 0.0001],\n",
        "                 [0.0001, 0.0001, 1.0001]])\n",
        "to_probabilities(X)"
      ]
    },
    {
      "cell_type": "code",
      "execution_count": 10,
      "metadata": {
        "id": "AFs3I2hLgelw",
        "nbgrader": {
          "grade": false,
          "grade_id": "to_probabilities_run",
          "locked": true,
          "schema_version": 3,
          "solution": false,
          "task": false
        },
        "tags": []
      },
      "outputs": [],
      "source": [
        "P = to_probabilities(X1) # note that we use X1 not X here"
      ]
    },
    {
      "cell_type": "code",
      "execution_count": 11,
      "metadata": {
        "id": "a1ulUiEjgelw",
        "nbgrader": {
          "grade": true,
          "grade_id": "to_probabilities_tests",
          "locked": true,
          "points": 1,
          "schema_version": 3,
          "solution": false,
          "task": false
        },
        "tags": []
      },
      "outputs": [],
      "source": [
        "# TEST c1.3\n",
        "assert P.shape == torch.Size([len(vocab), len(vocab)])"
      ]
    },
    {
      "cell_type": "markdown",
      "metadata": {
        "id": "KLZwxb3Mgelx"
      },
      "source": [
        "### Probing words\n",
        "\n",
        "From the paper:\n",
        "> Consider two words $i$ and $j$ that exhibit a particular aspect of interest. The relationship of these words can be examined by studying the ratio of their co-occurrence probabilities with various probe words, $k$.  For words $k$ related to $i$ but not $j$, we expect the ratio $P_{ik}/P_{jk}$ will be large.  Similarly, for words $k$ related to $j$ but not $i$, the ratio should be small. For words $k$ that are either related to both $i$ and $j$, or to neither, the ratio should be close to one.\n",
        "\n",
        "Complete the function `query` that accepts two words $w_i$ and $w_j$, a vocab $V$ and a probability matrix ${P}$, maps each word to its corresponding index and returns the probability $P(j  |  i)$. If such probability is impossible to compute for input words, return float 0. probability.  "
      ]
    },
    {
      "cell_type": "code",
      "execution_count": 12,
      "metadata": {
        "id": "uBdjawQGgelx",
        "nbgrader": {
          "grade": false,
          "grade_id": "query",
          "locked": false,
          "schema_version": 3,
          "solution": true,
          "task": false
        },
        "tags": []
      },
      "outputs": [
        {
          "name": "stdout",
          "output_type": "stream",
          "text": [
            "0.0035331191029399633\n",
            "0.00353\n"
          ]
        }
      ],
      "source": [
        "# @title c2.1 [1pt]\n",
        "def query(word_i: str, word_j: str, vocab: Dict[str, int], prob_matrix: FloatTensor) -> float:\n",
        "    if word_i in vocab.keys() and word_j in vocab.keys():\n",
        "        w_i_idx = vocab[word_i]\n",
        "        w_j_idx = vocab[word_j]\n",
        "        \n",
        "        prob_matrix = prob_matrix.double() \n",
        "        # P(j | i) = P(i, j) / P(i)\n",
        "        P_i_j = prob_matrix[w_i_idx, w_j_idx]\n",
        "        P_i = torch.sum(prob_matrix[w_i_idx])    \n",
        "          \n",
        "        result = P_i_j/P_i\n",
        "        return float(result.float())\n",
        "    else:\n",
        "        return 0.0   \n",
        "    \n",
        "print(query('harry', 'potter', vocab, P) )\n",
        "print(round(query('harry', 'potter', vocab, P), 5))"
      ]
    },
    {
      "cell_type": "code",
      "execution_count": 13,
      "metadata": {
        "id": "RSnC-kk-gelx",
        "nbgrader": {
          "grade": true,
          "grade_id": "query_tests",
          "locked": true,
          "points": 1,
          "schema_version": 3,
          "solution": false,
          "task": false
        },
        "tags": []
      },
      "outputs": [],
      "source": [
        "# TEST c2.1\n",
        "\n",
        "assert round(query('harry', 'potter', vocab, P), 5) == 0.00353"
      ]
    },
    {
      "cell_type": "markdown",
      "metadata": {
        "id": "NlVGaJVbgelx"
      },
      "source": [
        "Then, complete the function `probe` that accepts three words $w_i$, $w_j$ and $w_k$, a vocab $V$ and a probability matrix ${P}$, calls `query` and returns the ratio $P(k |  i) / P(k  |  j)$. Let the function return 0 in case of division by 0."
      ]
    },
    {
      "cell_type": "code",
      "execution_count": 14,
      "metadata": {
        "id": "m9wW_9WLgelx",
        "nbgrader": {
          "grade": false,
          "grade_id": "probe",
          "locked": false,
          "schema_version": 3,
          "solution": true,
          "task": false
        },
        "tags": []
      },
      "outputs": [
        {
          "name": "stdout",
          "output_type": "stream",
          "text": [
            "1.3872\n"
          ]
        }
      ],
      "source": [
        "# @title c2.2 [1pt]\n",
        "def probe(word_i: str, word_j: str, word_k: str, vocab: Dict[str, int], prob_matrix: FloatTensor) -> float:\n",
        "    if word_i in vocab.keys() and word_j in vocab.keys() and word_k in vocab.keys():\n",
        "        w_i_idx = vocab[word_i]\n",
        "        w_j_idx = vocab[word_j]\n",
        "        w_k_idx = vocab[word_k]\n",
        "        \n",
        "        prob_matrix = prob_matrix.double() \n",
        "        \n",
        "        P_k_i = prob_matrix[w_i_idx, w_k_idx]\n",
        "        P_k_j = prob_matrix[w_j_idx, w_k_idx]\n",
        "        P_i = torch.sum(prob_matrix[w_i_idx])    \n",
        "        P_j = torch.sum(prob_matrix[w_j_idx])\n",
        "        \n",
        "        result_k_i = P_k_i/P_i\n",
        "        result_k_j = P_k_j/P_j\n",
        "        if result_k_i == 0 or result_k_j == 0:\n",
        "            return 0.0         \n",
        "        else:\n",
        "            return float(result_k_i / result_k_j) \n",
        "    else:\n",
        "        return 0.0   \n",
        "print(round(probe('harry', 'potter', 'stone', vocab, P), 4)) "
      ]
    },
    {
      "cell_type": "code",
      "execution_count": 15,
      "metadata": {
        "id": "C1_riqA8gely",
        "nbgrader": {
          "grade": true,
          "grade_id": "probe_tests",
          "locked": true,
          "points": 1,
          "schema_version": 3,
          "solution": false,
          "task": false
        },
        "tags": []
      },
      "outputs": [],
      "source": [
        "# TEST c2.2\n",
        "assert round(probe('harry', 'potter', 'stone', vocab, P), 4) == 1.3872"
      ]
    },
    {
      "cell_type": "markdown",
      "metadata": {
        "id": "491Qc7WJgely"
      },
      "source": [
        "Let's probe a few words and examine whether the authors' claim holds even for our (tiny) corpus. **Add two pairs of your own word triplets** and experiment on them."
      ]
    },
    {
      "cell_type": "code",
      "execution_count": 16,
      "metadata": {
        "id": "4XVgjB7lgely",
        "nbgrader": {
          "grade": true,
          "grade_id": "probing",
          "locked": false,
          "points": 0,
          "schema_version": 3,
          "solution": true,
          "task": false
        },
        "tags": []
      },
      "outputs": [
        {
          "name": "stdout",
          "output_type": "stream",
          "text": [
            "tea wand magic 0.01844294403415497\n",
            "tea wand cup 26.142657031012345\n",
            "\n",
            "broom fly race 0.5891650549330356\n",
            "horse store magic 0.6862182070504376\n",
            "train school magic 0.09433587186475488\n"
          ]
        }
      ],
      "source": [
        "print(\"tea\", \"wand\", \"magic\", probe(\"tea\", \"wand\", \"magic\", vocab, P))\n",
        "print(\"tea\", \"wand\", \"cup\", probe(\"tea\", \"wand\", \"cup\", vocab, P))\n",
        "print()\n",
        "# YOUR CODE HERE\n",
        "print(\"broom\", \"fly\", \"race\", probe(\"broom\", \"fly\", \"race\", vocab, P))\n",
        "\n",
        "print(\"horse\", \"store\",  \"magic\", probe(\"horse\", \"store\",  \"magic\", vocab, P))\n",
        "\n",
        "print(\"train\", \"school\", \"magic\", probe(\"train\", \"school\", \"magic\", vocab, P))\n"
      ]
    },
    {
      "cell_type": "markdown",
      "metadata": {
        "id": "UGDY0xucgelz"
      },
      "source": [
        "#### i1 [1pt]\n",
        "Give a brief interpretation of the results you got. Do they correspond to your expectations? Why or why not?\n",
        "\n",
        "*Hint*: When do we expect the ratio value to be high, low or close to 1? Refer to the GloVe paper for guidance."
      ]
    },
    {
      "cell_type": "markdown",
      "metadata": {
        "id": "HCC40-wBgelz",
        "nbgrader": {
          "grade": true,
          "grade_id": "interpretation1",
          "locked": false,
          "points": 1,
          "schema_version": 3,
          "solution": true,
          "task": false
        },
        "tags": []
      },
      "source": [
        "**ANSWER**: <font color=\"red\">YOUR ANSWER HERE</font>\n",
        "\n",
        "\n",
        "\n",
        "\n",
        "Yes, the results we got corespond to our expectations. \n",
        "\n",
        "For the words tea wand magic example we were expecting a score of less then 1. Which we got. Since the word pairs  (tea, magic) are not strongly correlated in our daily lexicon and the word pairs (magic, wand) are strongly correlated the ratio should have been less then 1 which it was. This further suggests the word distribution of harry potter is somewhat similar to our daily use word distribution. \n",
        "\n",
        "The second example tea wand cup results were also in an expected ratio. We were expecting a high value due to the words pair (tea,cup) are very strongly corolated in our daily lexicon, while tea wand are not common. \n",
        "\n",
        "By relying on the previous test we have run an experiment to see the correlation between the broom fly race words. (broom, race) / (fly, race). As per our knowledge of HP universe there is a race game with flying brooms. However, we were not sure of the authors phrasing of this sport so we have run this test as an experiment. We were expecting a result close to 1 where we got 0.5 which suggests (fly, race) is more common. \n",
        "\n",
        "The words horse store magicwere also used as an experiment to test if magic horses were more common then the magic stores and this resulted in  a result of 0.68 which suggests magic stores were more common in the HP books by not a significant ratio. \n",
        "\n",
        "The words train school magic were also used as an experiment. Which resulted in a score of 0.09 which suggests that the word pair (school, magic ) is significantly more common then the word pair (train, magic). \n"
      ]
    },
    {
      "cell_type": "markdown",
      "metadata": {
        "id": "DNpZ5cpUgelz"
      },
      "source": [
        "What would happen if we tried probing out-of-domain words? Use the words \"solid\", \"gas\", \"water\", and \"fashion\", which the authors report in the paper in the context of \"ice\" and \"steam\" (Table 1). Make your code to clearly print the details."
      ]
    },
    {
      "cell_type": "code",
      "execution_count": 17,
      "metadata": {
        "id": "l2mZvmINgelz",
        "nbgrader": {
          "grade": true,
          "grade_id": "ice_steam",
          "locked": false,
          "points": 1,
          "schema_version": 3,
          "solution": true,
          "task": false
        },
        "tags": []
      },
      "outputs": [
        {
          "name": "stdout",
          "output_type": "stream",
          "text": [
            "ice steam solid 0.07830312919204734\n",
            "ice steam gas 0.8613344137869313\n",
            "ice steam water 1.2714936818107796\n",
            "ice steam fashion 0.8613344137869313\n"
          ]
        }
      ],
      "source": [
        "print(\"ice\", \"steam\", \"solid\", probe(\"ice\", \"steam\", \"solid\", vocab, P))\n",
        "print(\"ice\", \"steam\", \"gas\", probe(\"ice\", \"steam\", \"gas\", vocab, P))\n",
        "print(\"ice\", \"steam\", \"water\", probe(\"ice\", \"steam\", \"water\", vocab, P))\n",
        "print(\"ice\", \"steam\", \"fashion\", probe(\"ice\", \"steam\", \"fashion\", vocab, P))"
      ]
    },
    {
      "cell_type": "markdown",
      "metadata": {
        "id": "ydVy5ca4gelz"
      },
      "source": [
        "#### i2 [3pt]\n",
        "Give an interpretation of the results you got. Do they match what the authors report in the paper? Why or why not?"
      ]
    },
    {
      "cell_type": "markdown",
      "metadata": {
        "id": "_-WHvhh1gel0",
        "nbgrader": {
          "grade": true,
          "grade_id": "interpretation2",
          "locked": false,
          "points": 1,
          "schema_version": 3,
          "solution": true,
          "task": false
        },
        "tags": []
      },
      "source": [
        "**ANSWER**: <font color=\"red\">YOUR ANSWER HERE</font>\n",
        "\n",
        "\n",
        "|     | Our result | Paper result   |\n",
        "|-----------|-----------|-----------|\n",
        "| ice steam solid | 0.078 | 8.9 |\n",
        "| ice steam gas| 0.861 |  0.085 |\n",
        "| ice steam water | 1.271 | 1.36 |\n",
        "| ice steam fashion | 0.861 | 0.96 |\n",
        "\n",
        "\n",
        "Some results are with in the expected range of deviation  from the results from the paper given the word count and domain differences of our word corpus. (i.e. ice steam fashion  and  ice steam water) are very close to the authors results. For these words  our results were 10% off the results form the paper. However, the results for ( ice steam gas)and especially  (ice steam solid ) were significantly off from the results from the paper. The ( ice steam gas) was off by  an order of magnitude  and the ( ice steam solid) was off by two orders of magnitude.  We suspect that this difference stems from the differences in our word corpus. There might be a spell or a place which contains the words which were used for the comparison. This would require more intimate knowledge of harry potter and some data mining to be investigated further.  "
      ]
    },
    {
      "cell_type": "markdown",
      "metadata": {
        "id": "S4tjPd5Qgel0"
      },
      "source": [
        "## Dense Vectors\n",
        "\n",
        "Now, we would like to convert these long sparse vectors into short dense ones.\n",
        "\n",
        "The conversion should be such that the probability ratios we inspected earlier may still be reconstructed via some (for now, unknown) operation $F$ on the dense vectors.\n",
        "\n",
        "To restrict the search space over potential functions, the authors impose a number of constraints they think $F$ should satisfy:\n",
        "1. > While $F$ could be taken to be a complicated function parameterized by, e.g., a neural network, doing so would obfuscate the linear structure we are trying to capture. $F$ should be dot-product based.\n",
        "2. > The distinction between a word and a context word is arbitrary and we are free to exchange the two roles. To do so consistently, we must not only exchange $w \\leftrightarrow \\tilde{w}$ but also $X \\leftrightarrow X^T$.\n",
        "3. > It should be well-defined for all values in $X$.\n",
        "\n",
        "Given these three constraints, each word $i$ in our vocabulary is represented by four vectors:\n",
        "1. A vector $w_i \\in \\mathbb{R}^D$\n",
        "2. A bias $b_i \\in \\mathbb{R}$\n",
        "3. A context vector $\\tilde{w}_i \\in \\mathbb{R}^D$\n",
        "4. A context bias $\\tilde{b}_i \\in \\mathbb{R}$\n",
        "\n",
        "and $F: \\mathbb{R}^D \\times \\mathbb{R} \\times \\mathbb{R}^D \\times \\mathbb{R} \\to \\mathbb{R}$ is defined as:\n",
        "\n",
        "$F(w_i, \\tilde{w}_k, b_i, \\tilde{b}_k) = w_i^T\\tilde{w}_k + b_i + \\tilde{b}_k$.\n",
        "\n",
        "Or equivalently the least squares error $J$ is minimized, where:\n",
        "\n",
        "$J = \\sum_{i,j=1}^{V} f(X_{ij})(w_{i}^T\\tilde{w}_j + b_i + \\tilde{b}_j - log(X_{ij}))^2$\n",
        "\n",
        "with $f$ being a weighting function, defined as\n",
        "\n",
        "$$\n",
        "f(x) = \\begin{cases}\n",
        "    \\left(\\frac{x}{x_{\\text{max}}}\\right)^\\alpha, & \\text{if } x < x_{\\text{max}} \\\\\n",
        "    1, & \\text{otherwise}.\n",
        "  \\end{cases}\n",
        "$$"
      ]
    },
    {
      "cell_type": "markdown",
      "metadata": {
        "id": "1k0pPj8cgel0"
      },
      "source": [
        "### Weighting Function\n",
        "\n",
        "Let's start with the last part.\n",
        "\n",
        "Complete the weighting function `weight_fn` which accepts a co-occurrence matrix ${X}$, a maximum value $x_{max}$ and a fractional power $\\alpha$, and returns the weighted co-occurrence matrix $f({X})$.\n",
        "\n",
        "Then, compute $\\text{X\\_weighted}$, the matrix $X$ after weighting, using the paper's suggested parameters.\n",
        "\n",
        "\n",
        "_Hint_: Note that $f$ is defined pointwise, so our weighting function should also be pointwise. Use tensor-specific functions/methods."
      ]
    },
    {
      "cell_type": "code",
      "execution_count": 18,
      "metadata": {
        "id": "NT840aDLgel0",
        "nbgrader": {
          "grade": false,
          "grade_id": "weight_fn",
          "locked": false,
          "schema_version": 3,
          "solution": true,
          "task": false
        },
        "tags": []
      },
      "outputs": [],
      "source": [
        "# @title c3 [1pt]\n",
        "def weight_fn(X: FloatTensor, x_max: int, alpha: float) -> FloatTensor:\n",
        "    weight = torch.where(X < x_max, ((X / x_max) ** alpha), 1)\n",
        "    return weight\n",
        "\n",
        "\n",
        "def weight_fn_2(X: FloatTensor, x_max: int, alpha: float) -> FloatTensor:\n",
        "    weight = torch.ones_like(X) \n",
        "    \n",
        "    mask = X < x_max  \n",
        "    weight[mask] = (X[mask] / x_max) ** alpha  \n",
        "        \n",
        "    return weight\n"
      ]
    },
    {
      "cell_type": "code",
      "execution_count": 19,
      "metadata": {
        "id": "IIkY4abRgel0",
        "nbgrader": {
          "grade": false,
          "grade_id": "X_weighted",
          "locked": true,
          "schema_version": 3,
          "solution": false,
          "task": false
        },
        "tags": []
      },
      "outputs": [],
      "source": [
        "X_weighted = weight_fn(X1, x_max=100, alpha=3/4)"
      ]
    },
    {
      "cell_type": "code",
      "execution_count": 20,
      "metadata": {
        "id": "AuQFRuWrgel0",
        "nbgrader": {
          "grade": true,
          "grade_id": "weight_fn_tests",
          "locked": true,
          "points": 1,
          "schema_version": 3,
          "solution": false,
          "task": false
        },
        "tags": []
      },
      "outputs": [],
      "source": [
        "# TEST c3\n",
        "assert X_weighted.shape == X1.shape"
      ]
    },
    {
      "cell_type": "markdown",
      "metadata": {
        "id": "B1c6SOjTgel1"
      },
      "source": [
        "Try to get an understanding of how the weighting affects different co-occurrence values (high and low). Think of some word pairs with high and low co-occurrence and look them up in $X$ and in $\\text{X\\_weighted}$ to get a better idea."
      ]
    },
    {
      "cell_type": "code",
      "execution_count": 21,
      "metadata": {
        "id": "vImSYqq1gel1",
        "nbgrader": {
          "grade": true,
          "grade_id": "loss_sandbox",
          "locked": false,
          "points": 0,
          "schema_version": 3,
          "solution": true,
          "task": false
        },
        "tags": []
      },
      "outputs": [
        {
          "name": "stdout",
          "output_type": "stream",
          "text": [
            "expecto patronum           0.05129\n",
            "weighted: expecto patronum 0.01829\n",
            "horse store           0.00007\n",
            "weighted: horse store 0.00012\n"
          ]
        }
      ],
      "source": [
        "# YOUR CODE HERE\n",
        "\n",
        "X_high = round(query('expecto', 'patronum', vocab, X1), 5)  # Harry Potter magic\n",
        "X_low = round(query('horse', 'store', vocab, X1), 5)\n",
        "\n",
        "X_high_weight = round(query('expecto', 'patronum', vocab, X_weighted), 5)\n",
        "X_low_weight = round(query('horse', 'store', vocab, X_weighted), 5)\n",
        "\n",
        "print(f\"expecto patronum           {X_high:.5f}\")\n",
        "print(f\"weighted: expecto patronum {X_high_weight:.5f}\")\n",
        "\n",
        "print(f\"horse store           {X_low:.5f}\")\n",
        "print(f\"weighted: horse store {X_low_weight:.5f}\")\n"
      ]
    },
    {
      "cell_type": "markdown",
      "metadata": {
        "id": "aGc4Dp0agel2"
      },
      "source": [
        "### Loss Function\n",
        "\n",
        "The next step is to write the loss function.\n",
        "\n",
        "We can write it as a pointwise function, apply it iteratively over each pair of words and then sum the result; that's however extremely inefficient.\n",
        "\n",
        "Inspecting the formulation of $J$, it is fairly straightforward to see that it can be immediately implemented using matrix-matrix operations, as:\n",
        "\n",
        "$J = \\sum_{i,j=1}^{V}f(\\mathbf{X})\\cdot(W\\tilde{W}^T + b + \\tilde{b}^T - log(X))^2$,\n",
        "\n",
        "where $W$, $\\tilde{W}$ are the $N \\times D$ matrices containing the $D$-dimensional vectors of all our $N$ vocabulary words, and $b$, $\\tilde{b}$ are the $N \\times 1$ matrices containing the $1$-dimensional biases of our words.\n",
        "\n",
        "Complete `loss_fn`, a function that accepts a weighted co-occurrence matrix $f({X})$, the word vectors and biases $W$, $\\tilde{W}$, $b$, $\\tilde{b}$ and the co-occurrence matrix ${X}$, and computes $J$."
      ]
    },
    {
      "cell_type": "code",
      "execution_count": 22,
      "metadata": {
        "id": "kA4W3vXjgel2",
        "nbgrader": {
          "grade": false,
          "grade_id": "loss_fn",
          "locked": false,
          "schema_version": 3,
          "solution": true,
          "task": false
        },
        "tags": []
      },
      "outputs": [],
      "source": [
        "# @title c4 [1pt]\n",
        "def loss_fn(\n",
        "    X_weighted: FloatTensor,\n",
        "    W: FloatTensor,\n",
        "    W_context: FloatTensor,\n",
        "    B: FloatTensor,\n",
        "    B_context: FloatTensor,\n",
        "    X: FloatTensor\n",
        ") -> FloatTensor: # we need a tensor type as an output to be able to do backward propagation with it\n",
        "    \n",
        "    \n",
        "    loss = torch.sum( X_weighted * ((W @ W_context.T + B + B_context.T - torch.log(X))**2 ) ) \n",
        "    \n",
        "    return loss"
      ]
    },
    {
      "cell_type": "markdown",
      "metadata": {
        "id": "wti3lircgel2"
      },
      "source": [
        "Let's make sure that we are on a right track. For this we calculate the loss function with toy input: matrices are of size $2 \\times 2$ while bias vectors of size $2 \\times 1$. You can verify the answer manually and with your implementation of `loss_fn`."
      ]
    },
    {
      "cell_type": "code",
      "execution_count": 23,
      "metadata": {
        "id": "rOPO7NLmgel2",
        "nbgrader": {
          "grade": true,
          "grade_id": "loss_fn_tests",
          "locked": true,
          "points": 1,
          "schema_version": 3,
          "solution": false,
          "task": false
        },
        "tags": []
      },
      "outputs": [],
      "source": [
        "# TEST c4\n",
        "toy_X_weighted = torch.FloatTensor([[.5,1],[.2,.1]])\n",
        "toy_X1 = torch.FloatTensor([[2,1],[1,5]])\n",
        "toy_W1 = torch.FloatTensor([[1,2],[1,0]]) # for W\n",
        "toy_W2 = torch.FloatTensor([[0,1],[1,2]]) # for W~\n",
        "toy_b1 = torch.FloatTensor([[0],[2]]) # for b\n",
        "toy_b2 = torch.FloatTensor([[2],[1]]) # for b~\n",
        "# fill the correct value\n",
        "assert loss_fn(toy_X_weighted, toy_W1, toy_W2, toy_b1, toy_b2, toy_X1).isclose((torch.tensor([45.239116])))\n",
        "#print(loss_fn(toy_X_weighted, toy_W1, toy_W2, toy_b1, toy_b2, toy_X1)) #Checked by TA"
      ]
    },
    {
      "cell_type": "markdown",
      "metadata": {
        "id": "XuW6mKUygel2"
      },
      "source": [
        "### GloVe\n",
        "\n",
        "We have the normalized co-occurrence matrix ${X}$, the weighting function $f$, and the loss function $J$ that implements $F$.\n",
        "\n",
        "What we need now is a mapping from words (or word ids) to unique, parametric and trainable vectors.\n",
        "\n",
        "Torch provides this abstraction in the form of [Embedding layers](https://pytorch.org/docs/stable/generated/torch.nn.Embedding.html?highlight=embedding#torch.nn.Embedding). Each such layer may be viewed as a stand-alone network that can be optimized using the standard procedure we have already seen. It is recommended to read about Embedding class. In general, it does the same job as `nn.Parameter(torch.rand(...))` but additionally allows to select row vectors by giving a list of token indices.   \n",
        "\n",
        "We will utilize the `nn.Module` class to contain all our embedding layers and streamline their joint optimization.\n",
        "The container class will be responsible for a few things:\n",
        "\n",
        "1. Wrapping the embedding layers:\n",
        "    1. A vector embedding that maps words to $w \\in \\mathbb{R}^D$\n",
        "    2. A context vector embedding that maps words to $w_c \\in \\mathbb{R}^D$\n",
        "    3. A bias embedding that maps words to $b \\in \\mathbb{R}^1$\n",
        "    4. A context bias embedding that maps words to $b_c \\in \\mathbb{R}^1$\n",
        "2. Implementing `forward`, a function that accepts a weighted co-occurrence matrix $f(X)$, the co-occurrence matrix $X$, then finds the embeddings of all words and finally calls `loss_fn` as defined above.\n",
        "3. Implementing `get_vectors`, a function that receives no input and produces the word vectors and context word vectors of all words, adds them together and returns the result, in accordance with the paper:\n",
        "> ...With this in mind, we choose to use the sum $W + \\tilde{W}$ as our word vectors.\n",
        "\n",
        "Complete the network class following the above specifications.  "
      ]
    },
    {
      "cell_type": "code",
      "execution_count": 24,
      "metadata": {
        "id": "QpMpVqe-gel2",
        "nbgrader": {
          "grade": true,
          "grade_id": "GloVe",
          "locked": false,
          "points": 3,
          "schema_version": 3,
          "solution": true,
          "task": false
        },
        "tags": []
      },
      "outputs": [],
      "source": [
        "# @title c5 [4pt]\n",
        "class GloVe(torch.nn.Module):\n",
        "    def __init__(self, vocab: Dict[str, int], vector_dim: int=30, device: str=\"cpu\", seed: int=0) -> None:\n",
        "        super(GloVe, self).__init__()\n",
        "        self.device = device\n",
        "        self.vocab_len = len(vocab)\n",
        "        torch.manual_seed(seed) #random initialization of w, wc, b, bc is fixed by the seed\n",
        "        self.w = torch.nn.Embedding(self.vocab_len, vector_dim, device = self.device)\n",
        "        self.wc = torch.nn.Embedding(self.vocab_len, vector_dim, device = self.device)\n",
        "        self.b = torch.nn.Embedding(self.vocab_len, 1, device = self.device)\n",
        "        self.bc = torch.nn.Embedding(self.vocab_len, 1, device = self.device)\n",
        "\n",
        "    def forward(self, X_weighted: FloatTensor, X: FloatTensor) -> FloatTensor:\n",
        "        embedding_input = torch.arange(self.vocab_len).to(self.device)\n",
        "        W = self.w(embedding_input).to(self.device)\n",
        "        W_context = self.wc(embedding_input).to(self.device)\n",
        "        B = self.b(embedding_input).to(self.device)\n",
        "        B_context = self.bc(embedding_input).to(self.device)\n",
        "\n",
        "        X_weighted = X_weighted.to(self.device)\n",
        "        X = X.to(self.device)\n",
        "\n",
        "        loss = loss_fn(X_weighted, W, W_context, B, B_context, X)\n",
        "        return loss\n",
        "\n",
        "    def get_vectors(self) -> FloatTensor:\n",
        "        embedding_input = torch.arange(self.vocab_len).to(self.device)\n",
        "        W = self.w(embedding_input)\n",
        "        W_context = self.wc(embedding_input)\n",
        "        \n",
        "        return W + W_context"
      ]
    },
    {
      "cell_type": "code",
      "execution_count": 25,
      "metadata": {
        "id": "LWb-G60hXXcw"
      },
      "outputs": [],
      "source": [
        "# TEST c5\n",
        "assert GloVe(vocab, vector_dim=30, seed=0).w.num_embeddings == len(vocab)\n",
        "assert GloVe(vocab, vector_dim=30, seed=0).bc.num_embeddings == len(vocab)"
      ]
    },
    {
      "cell_type": "markdown",
      "metadata": {
        "id": "nHNF2C8Jgel3"
      },
      "source": [
        "### Training\n",
        "\n",
        "Everything is in place; now we may begin optimizing our embedding layers (and in doing so, the vectors they assign).\n",
        "\n",
        "Instantiate the network class you just defined using $D = 30$. Then instantiate an `Adam` optimizer with a learning rate of 0.05 and train your network for 300 epochs (don't change the default seed value).\n",
        "\n",
        "When writing the training script, remember that your network's forward pass is __already__ computing the loss. Make sure to **print a loss value for each epoch**.\n",
        "\n",
        "Training won't take too long on a CPU. In case you want to use a GPU, make sure that variables are correctly moved to a GPU with a `device` argument of class `GloVe`."
      ]
    },
    {
      "cell_type": "code",
      "execution_count": 26,
      "metadata": {
        "id": "2U-QMxyngel3",
        "nbgrader": {
          "grade": true,
          "grade_id": "training",
          "locked": false,
          "points": 0.5,
          "schema_version": 3,
          "solution": true,
          "task": false
        },
        "scrolled": true,
        "tags": []
      },
      "outputs": [],
      "source": [
        "# @title c6.1 [4pt]\n",
        "def train_glove_vectors(voc: Dict[str, int], X_weighted: FloatTensor, X1:FloatTensor,\n",
        "                        vector_dim: int=30, seed: int=0, lr: float=0.05, num_epochs: int=300):\n",
        "    \n",
        "    network = GloVe(voc, vector_dim, seed=seed, device=MY_DEVICE) #self, vocab: Dict[str, int], vector_dim: int=30, device: str=\"cpu\", seed: int=0\n",
        "    opt = torch.optim.Adam(network.parameters(), lr=lr)\n",
        "\n",
        "    \n",
        "    losses = [] # collect losses for each epoch here\n",
        "    for i in range(num_epochs):\n",
        "        loss = network.forward(X_weighted, X1)\n",
        "        opt.zero_grad()\n",
        "        loss.backward()\n",
        "        opt.step()\n",
        "        \n",
        "        #for matplotlib to cpu \n",
        "        losses.append(loss.detach().cpu().numpy())\n",
        "        \n",
        "        print(f\"Epoch {i:>3}: training Loss: {loss}\")\n",
        "        \n",
        "    return losses, network\n",
        "\n"
      ]
    },
    {
      "cell_type": "code",
      "execution_count": 27,
      "metadata": {
        "id": "1pYdq9fK4RS-"
      },
      "outputs": [
        {
          "name": "stdout",
          "output_type": "stream",
          "text": [
            "Epoch   0: training Loss: 11367346.0\n",
            "Epoch   1: training Loss: 9867104.0\n",
            "Epoch   2: training Loss: 8570608.0\n",
            "Epoch   3: training Loss: 7455399.0\n",
            "Epoch   4: training Loss: 6498993.5\n",
            "Epoch   5: training Loss: 5680457.0\n",
            "Epoch   6: training Loss: 4980712.0\n",
            "Epoch   7: training Loss: 4382609.0\n",
            "Epoch   8: training Loss: 3870921.5\n",
            "Epoch   9: training Loss: 3432295.25\n",
            "Epoch  10: training Loss: 3055150.25\n",
            "Epoch  11: training Loss: 2729535.5\n",
            "Epoch  12: training Loss: 2446973.0\n",
            "Epoch  13: training Loss: 2200302.75\n",
            "Epoch  14: training Loss: 1983546.625\n",
            "Epoch  15: training Loss: 1791783.25\n",
            "Epoch  16: training Loss: 1621044.0\n",
            "Epoch  17: training Loss: 1468217.75\n",
            "Epoch  18: training Loss: 1330956.75\n",
            "Epoch  19: training Loss: 1207572.25\n",
            "Epoch  20: training Loss: 1096907.25\n",
            "Epoch  21: training Loss: 998182.875\n",
            "Epoch  22: training Loss: 910820.1875\n",
            "Epoch  23: training Loss: 834264.125\n",
            "Epoch  24: training Loss: 767845.25\n",
            "Epoch  25: training Loss: 710710.9375\n",
            "Epoch  26: training Loss: 661839.0\n",
            "Epoch  27: training Loss: 620113.4375\n",
            "Epoch  28: training Loss: 584423.375\n",
            "Epoch  29: training Loss: 553746.125\n",
            "Epoch  30: training Loss: 527195.25\n",
            "Epoch  31: training Loss: 504036.375\n",
            "Epoch  32: training Loss: 483680.15625\n",
            "Epoch  33: training Loss: 465664.25\n",
            "Epoch  34: training Loss: 449631.78125\n",
            "Epoch  35: training Loss: 435309.0\n",
            "Epoch  36: training Loss: 422482.625\n",
            "Epoch  37: training Loss: 410979.625\n",
            "Epoch  38: training Loss: 400651.6875\n",
            "Epoch  39: training Loss: 391365.59375\n",
            "Epoch  40: training Loss: 382999.5\n",
            "Epoch  41: training Loss: 375442.6875\n",
            "Epoch  42: training Loss: 368597.34375\n",
            "Epoch  43: training Loss: 362379.625\n",
            "Epoch  44: training Loss: 356719.71875\n",
            "Epoch  45: training Loss: 351560.34375\n",
            "Epoch  46: training Loss: 346854.4375\n",
            "Epoch  47: training Loss: 342562.15625\n",
            "Epoch  48: training Loss: 338648.40625\n",
            "Epoch  49: training Loss: 335080.46875\n",
            "Epoch  50: training Loss: 331827.1875\n",
            "Epoch  51: training Loss: 328858.25\n",
            "Epoch  52: training Loss: 326144.59375\n",
            "Epoch  53: training Loss: 323658.9375\n",
            "Epoch  54: training Loss: 321376.1875\n",
            "Epoch  55: training Loss: 319273.71875\n",
            "Epoch  56: training Loss: 317331.625\n",
            "Epoch  57: training Loss: 315532.4375\n",
            "Epoch  58: training Loss: 313861.25\n",
            "Epoch  59: training Loss: 312304.90625\n",
            "Epoch  60: training Loss: 310852.125\n",
            "Epoch  61: training Loss: 309492.75\n",
            "Epoch  62: training Loss: 308217.4375\n",
            "Epoch  63: training Loss: 307017.75\n",
            "Epoch  64: training Loss: 305885.84375\n",
            "Epoch  65: training Loss: 304814.59375\n",
            "Epoch  66: training Loss: 303797.59375\n",
            "Epoch  67: training Loss: 302829.1875\n",
            "Epoch  68: training Loss: 301904.375\n",
            "Epoch  69: training Loss: 301018.65625\n",
            "Epoch  70: training Loss: 300168.0\n",
            "Epoch  71: training Loss: 299348.6875\n",
            "Epoch  72: training Loss: 298557.25\n",
            "Epoch  73: training Loss: 297790.375\n",
            "Epoch  74: training Loss: 297045.0625\n",
            "Epoch  75: training Loss: 296318.53125\n",
            "Epoch  76: training Loss: 295608.3125\n",
            "Epoch  77: training Loss: 294912.3125\n",
            "Epoch  78: training Loss: 294228.625\n",
            "Epoch  79: training Loss: 293555.875\n",
            "Epoch  80: training Loss: 292892.84375\n",
            "Epoch  81: training Loss: 292238.59375\n",
            "Epoch  82: training Loss: 291592.3125\n",
            "Epoch  83: training Loss: 290953.34375\n",
            "Epoch  84: training Loss: 290321.1875\n",
            "Epoch  85: training Loss: 289695.25\n",
            "Epoch  86: training Loss: 289075.3125\n",
            "Epoch  87: training Loss: 288461.0625\n",
            "Epoch  88: training Loss: 287852.53125\n",
            "Epoch  89: training Loss: 287249.78125\n",
            "Epoch  90: training Loss: 286653.125\n",
            "Epoch  91: training Loss: 286063.0\n",
            "Epoch  92: training Loss: 285479.84375\n",
            "Epoch  93: training Loss: 284904.1875\n",
            "Epoch  94: training Loss: 284336.4375\n",
            "Epoch  95: training Loss: 283776.9375\n",
            "Epoch  96: training Loss: 283225.96875\n",
            "Epoch  97: training Loss: 282683.8125\n",
            "Epoch  98: training Loss: 282150.53125\n",
            "Epoch  99: training Loss: 281626.3125\n",
            "Epoch 100: training Loss: 281111.15625\n",
            "Epoch 101: training Loss: 280605.1875\n",
            "Epoch 102: training Loss: 280108.375\n",
            "Epoch 103: training Loss: 279620.75\n",
            "Epoch 104: training Loss: 279142.25\n",
            "Epoch 105: training Loss: 278672.6875\n",
            "Epoch 106: training Loss: 278211.90625\n",
            "Epoch 107: training Loss: 277759.65625\n",
            "Epoch 108: training Loss: 277315.625\n",
            "Epoch 109: training Loss: 276879.5625\n",
            "Epoch 110: training Loss: 276451.0625\n",
            "Epoch 111: training Loss: 276029.875\n",
            "Epoch 112: training Loss: 275615.59375\n",
            "Epoch 113: training Loss: 275207.9375\n",
            "Epoch 114: training Loss: 274806.6875\n",
            "Epoch 115: training Loss: 274411.5\n",
            "Epoch 116: training Loss: 274022.125\n",
            "Epoch 117: training Loss: 273638.3125\n",
            "Epoch 118: training Loss: 273259.875\n",
            "Epoch 119: training Loss: 272886.53125\n",
            "Epoch 120: training Loss: 272518.125\n",
            "Epoch 121: training Loss: 272154.5625\n",
            "Epoch 122: training Loss: 271795.5625\n",
            "Epoch 123: training Loss: 271440.96875\n",
            "Epoch 124: training Loss: 271090.71875\n",
            "Epoch 125: training Loss: 270744.65625\n",
            "Epoch 126: training Loss: 270402.6875\n",
            "Epoch 127: training Loss: 270064.65625\n",
            "Epoch 128: training Loss: 269730.5625\n",
            "Epoch 129: training Loss: 269400.3125\n",
            "Epoch 130: training Loss: 269073.84375\n",
            "Epoch 131: training Loss: 268751.15625\n",
            "Epoch 132: training Loss: 268432.15625\n",
            "Epoch 133: training Loss: 268116.8125\n",
            "Epoch 134: training Loss: 267805.1875\n",
            "Epoch 135: training Loss: 267497.125\n",
            "Epoch 136: training Loss: 267192.71875\n",
            "Epoch 137: training Loss: 266891.875\n",
            "Epoch 138: training Loss: 266594.625\n",
            "Epoch 139: training Loss: 266300.9375\n",
            "Epoch 140: training Loss: 266010.78125\n",
            "Epoch 141: training Loss: 265724.15625\n",
            "Epoch 142: training Loss: 265441.0625\n",
            "Epoch 143: training Loss: 265161.46875\n",
            "Epoch 144: training Loss: 264885.3125\n",
            "Epoch 145: training Loss: 264612.6875\n",
            "Epoch 146: training Loss: 264343.5\n",
            "Epoch 147: training Loss: 264077.71875\n",
            "Epoch 148: training Loss: 263815.375\n",
            "Epoch 149: training Loss: 263556.40625\n",
            "Epoch 150: training Loss: 263300.8125\n",
            "Epoch 151: training Loss: 263048.5625\n",
            "Epoch 152: training Loss: 262799.625\n",
            "Epoch 153: training Loss: 262553.96875\n",
            "Epoch 154: training Loss: 262311.5625\n",
            "Epoch 155: training Loss: 262072.375\n",
            "Epoch 156: training Loss: 261836.375\n",
            "Epoch 157: training Loss: 261603.5\n",
            "Epoch 158: training Loss: 261373.75\n",
            "Epoch 159: training Loss: 261147.09375\n",
            "Epoch 160: training Loss: 260923.453125\n",
            "Epoch 161: training Loss: 260702.78125\n",
            "Epoch 162: training Loss: 260485.09375\n",
            "Epoch 163: training Loss: 260270.3125\n",
            "Epoch 164: training Loss: 260058.375\n",
            "Epoch 165: training Loss: 259849.28125\n",
            "Epoch 166: training Loss: 259642.96875\n",
            "Epoch 167: training Loss: 259439.390625\n",
            "Epoch 168: training Loss: 259238.53125\n",
            "Epoch 169: training Loss: 259040.296875\n",
            "Epoch 170: training Loss: 258844.6875\n",
            "Epoch 171: training Loss: 258651.671875\n",
            "Epoch 172: training Loss: 258461.1875\n",
            "Epoch 173: training Loss: 258273.15625\n",
            "Epoch 174: training Loss: 258087.609375\n",
            "Epoch 175: training Loss: 257904.453125\n",
            "Epoch 176: training Loss: 257723.6875\n",
            "Epoch 177: training Loss: 257545.234375\n",
            "Epoch 178: training Loss: 257369.078125\n",
            "Epoch 179: training Loss: 257195.1875\n",
            "Epoch 180: training Loss: 257023.53125\n",
            "Epoch 181: training Loss: 256854.046875\n",
            "Epoch 182: training Loss: 256686.6875\n",
            "Epoch 183: training Loss: 256521.484375\n",
            "Epoch 184: training Loss: 256358.34375\n",
            "Epoch 185: training Loss: 256197.25\n",
            "Epoch 186: training Loss: 256038.15625\n",
            "Epoch 187: training Loss: 255881.09375\n",
            "Epoch 188: training Loss: 255725.9375\n",
            "Epoch 189: training Loss: 255572.71875\n",
            "Epoch 190: training Loss: 255421.40625\n",
            "Epoch 191: training Loss: 255271.921875\n",
            "Epoch 192: training Loss: 255124.28125\n",
            "Epoch 193: training Loss: 254978.46875\n",
            "Epoch 194: training Loss: 254834.40625\n",
            "Epoch 195: training Loss: 254692.125\n",
            "Epoch 196: training Loss: 254551.53125\n",
            "Epoch 197: training Loss: 254412.65625\n",
            "Epoch 198: training Loss: 254275.4375\n",
            "Epoch 199: training Loss: 254139.84375\n",
            "Epoch 200: training Loss: 254005.90625\n",
            "Epoch 201: training Loss: 253873.53125\n",
            "Epoch 202: training Loss: 253742.75\n",
            "Epoch 203: training Loss: 253613.484375\n",
            "Epoch 204: training Loss: 253485.765625\n",
            "Epoch 205: training Loss: 253359.53125\n",
            "Epoch 206: training Loss: 253234.765625\n",
            "Epoch 207: training Loss: 253111.46875\n",
            "Epoch 208: training Loss: 252989.59375\n",
            "Epoch 209: training Loss: 252869.109375\n",
            "Epoch 210: training Loss: 252750.03125\n",
            "Epoch 211: training Loss: 252632.3125\n",
            "Epoch 212: training Loss: 252515.953125\n",
            "Epoch 213: training Loss: 252400.875\n",
            "Epoch 214: training Loss: 252287.125\n",
            "Epoch 215: training Loss: 252174.65625\n",
            "Epoch 216: training Loss: 252063.4375\n",
            "Epoch 217: training Loss: 251953.46875\n",
            "Epoch 218: training Loss: 251844.71875\n",
            "Epoch 219: training Loss: 251737.1875\n",
            "Epoch 220: training Loss: 251630.8125\n",
            "Epoch 221: training Loss: 251525.609375\n",
            "Epoch 222: training Loss: 251421.546875\n",
            "Epoch 223: training Loss: 251318.625\n",
            "Epoch 224: training Loss: 251216.8125\n",
            "Epoch 225: training Loss: 251116.078125\n",
            "Epoch 226: training Loss: 251016.4375\n",
            "Epoch 227: training Loss: 250917.84375\n",
            "Epoch 228: training Loss: 250820.28125\n",
            "Epoch 229: training Loss: 250723.75\n",
            "Epoch 230: training Loss: 250628.25\n",
            "Epoch 231: training Loss: 250533.71875\n",
            "Epoch 232: training Loss: 250440.1875\n",
            "Epoch 233: training Loss: 250347.59375\n",
            "Epoch 234: training Loss: 250255.9375\n",
            "Epoch 235: training Loss: 250165.21875\n",
            "Epoch 236: training Loss: 250075.4375\n",
            "Epoch 237: training Loss: 249986.546875\n",
            "Epoch 238: training Loss: 249898.546875\n",
            "Epoch 239: training Loss: 249811.421875\n",
            "Epoch 240: training Loss: 249725.125\n",
            "Epoch 241: training Loss: 249639.71875\n",
            "Epoch 242: training Loss: 249555.125\n",
            "Epoch 243: training Loss: 249471.34375\n",
            "Epoch 244: training Loss: 249388.375\n",
            "Epoch 245: training Loss: 249306.203125\n",
            "Epoch 246: training Loss: 249224.828125\n",
            "Epoch 247: training Loss: 249144.203125\n",
            "Epoch 248: training Loss: 249064.328125\n",
            "Epoch 249: training Loss: 248985.21875\n",
            "Epoch 250: training Loss: 248906.84375\n",
            "Epoch 251: training Loss: 248829.1875\n",
            "Epoch 252: training Loss: 248752.234375\n",
            "Epoch 253: training Loss: 248676.0\n",
            "Epoch 254: training Loss: 248600.4375\n",
            "Epoch 255: training Loss: 248525.5625\n",
            "Epoch 256: training Loss: 248451.375\n",
            "Epoch 257: training Loss: 248377.8125\n",
            "Epoch 258: training Loss: 248304.9375\n",
            "Epoch 259: training Loss: 248232.6875\n",
            "Epoch 260: training Loss: 248161.0625\n",
            "Epoch 261: training Loss: 248090.0625\n",
            "Epoch 262: training Loss: 248019.65625\n",
            "Epoch 263: training Loss: 247949.890625\n",
            "Epoch 264: training Loss: 247880.6875\n",
            "Epoch 265: training Loss: 247812.078125\n",
            "Epoch 266: training Loss: 247744.0625\n",
            "Epoch 267: training Loss: 247676.59375\n",
            "Epoch 268: training Loss: 247609.703125\n",
            "Epoch 269: training Loss: 247543.359375\n",
            "Epoch 270: training Loss: 247477.546875\n",
            "Epoch 271: training Loss: 247412.296875\n",
            "Epoch 272: training Loss: 247347.546875\n",
            "Epoch 273: training Loss: 247283.34375\n",
            "Epoch 274: training Loss: 247219.625\n",
            "Epoch 275: training Loss: 247156.4375\n",
            "Epoch 276: training Loss: 247093.75\n",
            "Epoch 277: training Loss: 247031.546875\n",
            "Epoch 278: training Loss: 246969.84375\n",
            "Epoch 279: training Loss: 246908.59375\n",
            "Epoch 280: training Loss: 246847.828125\n",
            "Epoch 281: training Loss: 246787.53125\n",
            "Epoch 282: training Loss: 246727.703125\n",
            "Epoch 283: training Loss: 246668.3125\n",
            "Epoch 284: training Loss: 246609.375\n",
            "Epoch 285: training Loss: 246550.890625\n",
            "Epoch 286: training Loss: 246492.84375\n",
            "Epoch 287: training Loss: 246435.21875\n",
            "Epoch 288: training Loss: 246378.0\n",
            "Epoch 289: training Loss: 246321.234375\n",
            "Epoch 290: training Loss: 246264.859375\n",
            "Epoch 291: training Loss: 246208.90625\n",
            "Epoch 292: training Loss: 246153.34375\n",
            "Epoch 293: training Loss: 246098.1875\n",
            "Epoch 294: training Loss: 246043.421875\n",
            "Epoch 295: training Loss: 245989.046875\n",
            "Epoch 296: training Loss: 245935.0625\n",
            "Epoch 297: training Loss: 245881.4375\n",
            "Epoch 298: training Loss: 245828.1875\n",
            "Epoch 299: training Loss: 245775.3125\n"
          ]
        }
      ],
      "source": [
        "# TEST\n",
        "losses, network = train_glove_vectors(vocab, X_weighted, X1)\n"
      ]
    },
    {
      "cell_type": "markdown",
      "metadata": {
        "id": "Roq7Ubklgel4"
      },
      "source": [
        "<font color=\"red\">**Don't clear the output of the above cell!**</font>"
      ]
    },
    {
      "cell_type": "code",
      "execution_count": 28,
      "metadata": {
        "id": "9n6RCKKbgel4",
        "nbgrader": {
          "grade": false,
          "grade_id": "len_losses",
          "locked": true,
          "schema_version": 3,
          "solution": false,
          "task": false
        },
        "tags": []
      },
      "outputs": [],
      "source": [
        "# TEST c6.1\n",
        "assert len(losses) == 300\n",
        "assert losses[0] > losses[-1]"
      ]
    },
    {
      "cell_type": "markdown",
      "metadata": {
        "id": "f3iCGDjDgel4"
      },
      "source": [
        "Plot the losses (x axis for epoch number and y axis for loss) and examine the learning curve. Ask yourself, is its shape what you would expect it to be?"
      ]
    },
    {
      "cell_type": "code",
      "execution_count": 29,
      "metadata": {
        "id": "emLdJBO_gel4",
        "nbgrader": {
          "grade": true,
          "grade_id": "plot",
          "locked": false,
          "points": 1,
          "schema_version": 3,
          "solution": true,
          "task": false
        },
        "tags": []
      },
      "outputs": [
        {
          "data": {
            "image/png": "[encoded data removed]",
            "text/plain": [
              "<Figure size 640x480 with 1 Axes>"
            ]
          },
          "metadata": {},
          "output_type": "display_data"
        }
      ],
      "source": [
        "# @title c6.2 [0pt]\n",
        "\n",
        "plt.plot(losses,color='red')\n",
        "plt.title(\"Loss over training\")\n",
        "plt.xlabel(\"Epoch\")\n",
        "plt.ylabel(\"Loss\")\n",
        "plt.show()\n"
      ]
    },
    {
      "cell_type": "markdown",
      "metadata": {
        "id": "4pM9LESdgel4"
      },
      "source": [
        "<font color=\"red\">**Don't clear the output of the above cell!**</font>"
      ]
    },
    {
      "cell_type": "markdown",
      "metadata": {
        "id": "Uqu-EFqGgel4"
      },
      "source": [
        "### Validation (Similarity)\n",
        "\n",
        "Curious to see what this network has learned? Let's perform a simple validation experiment.\n",
        "\n",
        "We will check which words the model considers the most similar to other words. To that end, we need a notion of __similarity__. One of the most common measures of similarity in high-dimensional vector spaces is the cosine similarity.\n",
        "\n",
        "The cosine similarity of two vectors $\\vec{a}, \\vec{b}$ is given as:\n",
        "$$sim(\\vec{a}, \\vec{b}) = \\frac{\\vec{a}\\cdot \\vec{b}}{|\\vec{a}|_2 \\cdot |\\vec{b}|_2}$$\n",
        "\n",
        "where $|\\vec{x}|_2$ is the $L_2$-norm of the $\\vec{x}$.\n",
        "\n",
        "The function `similarity` below accepts two words, a vocabulary and the network's output vectors, and computes the similarity between these two words. For an outside-vocabulary word similarity is 0."
      ]
    },
    {
      "cell_type": "code",
      "execution_count": 30,
      "metadata": {
        "id": "HnFdO_3wgel5",
        "nbgrader": {
          "grade": false,
          "grade_id": "cell-ab85deea538994af",
          "locked": true,
          "schema_version": 3,
          "solution": false,
          "task": false
        },
        "tags": []
      },
      "outputs": [],
      "source": [
        "def similarity(word_i: str, word_j: str, vocab: Dict[str, int], vectors: FloatTensor) -> float:\n",
        "    if not(word_i in vocab and word_i in vocab): return 0.\n",
        "    i, j = vocab[word_i], vocab[word_j]\n",
        "    v_i = vectors[i] / torch.linalg.vector_norm(vectors[i])  # a/|a|\n",
        "    v_j = vectors[j] / torch.linalg.vector_norm(vectors[j])  # b/|b|\n",
        "    sim = torch.dot(v_i, v_j)\n",
        "    return sim"
      ]
    },
    {
      "cell_type": "markdown",
      "metadata": {
        "id": "REXzC6nzgel5"
      },
      "source": [
        "Let's check out some examples. Consider the word pairs below and, optionally, add your own word pairs if it helps to support your answer:"
      ]
    },
    {
      "cell_type": "code",
      "execution_count": 31,
      "metadata": {
        "id": "AQ8W10bOgel5",
        "nbgrader": {
          "grade": true,
          "grade_id": "similarity_sandbox",
          "locked": false,
          "points": 0,
          "schema_version": 3,
          "solution": true,
          "task": false
        },
        "tags": []
      },
      "outputs": [
        {
          "name": "stdout",
          "output_type": "stream",
          "text": [
            "Similarity between 'cruciatus' and 'imperius' is: 0.5572267770767212\n",
            "Similarity between 'avada' and 'kedavra' is: 0.7137672901153564\n",
            "Similarity between 'hogwarts' and 'school' is: 0.6364777088165283\n",
            "Similarity between 'goblin' and 'hagrid' is: 0.10509191453456879\n",
            "Similarity between 'giant' and 'hagrid' is: 0.6429957151412964\n",
            "Similarity between 'red' and 'ice' is: 0.227581188082695\n",
            "Similarity between 'ice' and 'ice' is: 1.0\n",
            "Similarity between 'ice' and 'snow' is: 0.3064606189727783\n",
            "Similarity between 'blade' and 'sword' is: 0.0\n",
            "Similarity between 'wand' and 'magic' is: 0.17227309942245483\n",
            "Similarity between 'expecto' and 'patronum' is: 0.7809162139892578\n",
            "Similarity between 'bird' and 'owl' is: 0.1517755091190338\n"
          ]
        }
      ],
      "source": [
        "word_vectors = network.get_vectors().detach()\n",
        "\n",
        "for pair in [\n",
        "    (\"cruciatus\", \"imperius\"),\n",
        "    (\"avada\", \"kedavra\"),\n",
        "    (\"hogwarts\", \"school\"),\n",
        "    (\"goblin\", \"hagrid\"),\n",
        "    (\"giant\", \"hagrid\"),\n",
        "    (\"red\", \"ice\"),\n",
        "    (\"ice\", \"ice\"),\n",
        "    (\"ice\", \"snow\"),\n",
        "    (\"blade\", \"sword\"),\n",
        "    (\"wand\", \"magic\"),\n",
        "    (\"expecto\", \"patronum\"),\n",
        "    (\"bird\", \"owl\"),     \n",
        "]:\n",
        "    print(f\"Similarity between '{pair[0]}' and '{pair[1]}' is: {similarity(pair[0], pair[1], vocab, word_vectors)}\")"
      ]
    },
    {
      "cell_type": "markdown",
      "metadata": {
        "id": "2Oh6nme_gel5"
      },
      "source": [
        "#### i3 [2pt]\n",
        "Give an interpretation of the results. Do the scores correspond well to your perceived similarity of these word pairs?"
      ]
    },
    {
      "cell_type": "markdown",
      "metadata": {
        "id": "hJjjY4PEgel5",
        "nbgrader": {
          "grade": true,
          "grade_id": "Interpretation3",
          "locked": false,
          "points": 1,
          "schema_version": 3,
          "solution": true,
          "task": false
        },
        "tags": []
      },
      "source": [
        "**ANSWER**: <font color=\"red\">YOUR ANSWER HERE</font>\n",
        "\n",
        "Yes, the results for word similarity calculations mostly make sense per our preconceived word similarities. However, given the unique word corpus of HP books there are some unexpected results.\n",
        "\n",
        "Our group watched the film series of Harry Potter years ago, but we did not read the books at all. The high cosine similarites of spell name parts make sense, since spell name parts are related to each other such as 'avada kedavra' or 'expecto patronum'. Also, Hagrid in film series looks like a giant, so 'giant' and 'hagrid' word pairs has high similarity. On the other hand, when we tried other word pairs like 'bird' and 'owl', the similarity rate of 'bird' and 'owl' were lower than we expected. This could have been due to harry potter's word corpus, it resulted in low similarity scores that should normally been higher than 0.15 per our preconceived word understaning. Especially 'blade' and 'sword' word pair, we got 0 cosine similarity, but this word pair should have a similarity which shows word corpus of harry potter is not enough to perceive some word pairs similarities. This one makes more sense since HP does not contain any significant sword play which resulted in these words beeing out of distribution.   "
      ]
    },
    {
      "cell_type": "markdown",
      "metadata": {
        "id": "MyaWr70ygel5"
      },
      "source": [
        "To obtain the similarities of one word against all other words in the corpus, use torch functions and follow the equation ($\\vec{c}_i$ is $i$th row of $\\mathbf{C}$):\n",
        "$$sim(\\vec{w}, \\mathbf{C}) = \\frac{\\vec{w}\\cdot \\mathbf{C}}{|\\vec{w}|_2 \\cdot |\\mathbf{C}|_2} = \\Big(\\frac{\\vec{w}\\cdot \\vec{c}_1}{|\\vec{w}|_2 \\cdot |\\vec{c}_1|_2},\\ldots,\\frac{\\vec{w}\\cdot \\vec{c}_N}{|\\vec{w}|_2 \\cdot |\\vec{c}_N|_2}\\Big)$$\n",
        "\n",
        "Using `similarity` as a reference, write `similarities`, which accepts one word, a vocabulary and the network's output vectors and computes the similarity between the word and the entire corpus. **If a word is out of vocabulary, it should return a matrix of 0 similarities.**\n",
        "\n",
        "_Hint_: $\\mathbf{C} \\in \\mathbb{R}^{N, D}$, $\\vec{w} \\in \\mathbb{R}^{1, D}$, $sim(\\vec{w}, \\mathbf{C}) \\in \\mathbb{R}^{1, N}$"
      ]
    },
    {
      "cell_type": "code",
      "execution_count": 32,
      "metadata": {
        "id": "O_9TvkOBgel5",
        "nbgrader": {
          "grade": true,
          "grade_id": "similarities",
          "locked": false,
          "points": 1,
          "schema_version": 3,
          "solution": true,
          "task": false
        },
        "tags": []
      },
      "outputs": [],
      "source": [
        "# @title c7 [4pt]\n",
        "def similarities(word_i: str, vocab: Dict[str, int], vectors: FloatTensor) -> FloatTensor:\n",
        "    # use torch functions. Don't iterate over rows of vectors matrix!\n",
        "    if not(word_i in vocab): return torch.zeros(len(vocab)).unsqueeze(0)\n",
        "    i = vocab[word_i]\n",
        "    v_i = vectors[i] / torch.linalg.vector_norm(vectors[i])  # a/|a|\n",
        "    sims = torch.mv(vectors, v_i)  # dot product of each row with v_i\n",
        "    return sims.unsqueeze(0).to(\"cpu\")"
      ]
    },
    {
      "cell_type": "code",
      "execution_count": 33,
      "metadata": {
        "id": "Hv37utYPZ3nQ"
      },
      "outputs": [
        {
          "data": {
            "text/plain": [
              "tensor([[1, 2, 3, 4]])"
            ]
          },
          "execution_count": 33,
          "metadata": {},
          "output_type": "execute_result"
        }
      ],
      "source": [
        "torch.tensor([1, 2, 3, 4]).unsqueeze(0)"
      ]
    },
    {
      "cell_type": "code",
      "execution_count": 34,
      "metadata": {
        "id": "ctJObbzAgel5",
        "nbgrader": {
          "grade": false,
          "grade_id": "cell-74c0c2f09dccce6c",
          "locked": true,
          "schema_version": 3,
          "solution": false,
          "task": false
        },
        "tags": []
      },
      "outputs": [],
      "source": [
        "# TEST c7a\n",
        "assert similarities('harry', vocab, word_vectors).shape == torch.Size([1, len(vocab)])\n",
        "assert similarities('cow', vocab, word_vectors).shape == torch.Size([1, len(vocab)])"
      ]
    },
    {
      "cell_type": "markdown",
      "metadata": {
        "id": "-7AaywkIgel6"
      },
      "source": [
        "Now we can manipulate the word vectors to find out what the corpus-wide most similar words to a query word are!"
      ]
    },
    {
      "cell_type": "code",
      "execution_count": 35,
      "metadata": {
        "id": "FTThuWx1gel6",
        "nbgrader": {
          "grade": false,
          "grade_id": "cell-b702f18eb2920639",
          "locked": true,
          "schema_version": 3,
          "solution": false,
          "task": false
        },
        "tags": []
      },
      "outputs": [],
      "source": [
        "def most_similar(word_i: str, vocab: Dict[str, int], vectors: FloatTensor, k: int) -> List[str]:\n",
        "    \"\"\" Returns a list of k words that are most similar to word_i\n",
        "        The list excludes word_i itself\n",
        "    \"\"\"\n",
        "    sims = similarities(word_i, vocab, vectors)\n",
        "    _, topi = sims.topk(dim=-1, k=k+1)\n",
        "    topi = topi.view(-1).cpu().numpy().tolist()\n",
        "    inv = {v: i for i, v in vocab.items()}\n",
        "    return [inv[i] for i in topi if inv[i] != word_i][:k]"
      ]
    },
    {
      "cell_type": "code",
      "execution_count": 36,
      "metadata": {
        "id": "1uZL5j6qgel6",
        "nbgrader": {
          "grade": false,
          "grade_id": "cell-de27a6b9963f32ac",
          "locked": true,
          "schema_version": 3,
          "solution": false,
          "task": false
        },
        "tags": []
      },
      "outputs": [
        {
          "name": "stdout",
          "output_type": "stream",
          "text": [
            "Most similar words to 'forbidden': ['ahead', 'hagrid', 'windows', 'forest', 'centaurs', 'icy']\n",
            "Most similar words to 'myrtle': ['bathroom', 'toilet', 'moaning', 'kreacher', 'pomfrey', 'wing']\n",
            "Most similar words to 'gryffindor': ['team', 'clock', 'slytherin', 'common', 'points', 'match']\n",
            "Most similar words to 'wand': ['harry', 'back', 'ollivander', 'elder', 'know', 'expelliarmus']\n",
            "Most similar words to 'quidditch': ['team', 'match', 'wood', 'training', 'oliver', 'angelina']\n",
            "Most similar words to 'marauder': ['map', 'goyle', 'lift', 'filch', 'pocket', 'office']\n",
            "Most similar words to 'horcrux': ['griphook', 'sword', 'hallows', 'horcruxes', 'deathly', 'wormtail']\n",
            "Most similar words to 'phoenix': ['fawkes', 'wormtail', 'archway', 'innocent', 'clunk', 'grindelwald']\n",
            "Most similar words to 'triwizard': ['tournament', 'winky', 'bagman', 'maze', 'amos', 'durmstrang']\n",
            "Most similar words to 'screaming': ['pettigrew', 'kreacher', 'giggling', 'lynch', 'darkness', 'run']\n",
            "Most similar words to 'letter': ['envelope', 'cage', 'paper', 'owl', 'hedwig', 'writing']\n"
          ]
        }
      ],
      "source": [
        "# TEST c7b\n",
        "for word in [\n",
        "    \"forbidden\", \"myrtle\", \"gryffindor\", \"wand\", \"quidditch\", \"marauder\",\n",
        "    \"horcrux\", \"phoenix\", \"triwizard\", \"screaming\", \"letter\"\n",
        "]:\n",
        "    print(f\"Most similar words to '{word}': {most_similar(word, vocab, word_vectors, 6)}\")"
      ]
    },
    {
      "cell_type": "markdown",
      "metadata": {
        "id": "7DXkuHiogel6"
      },
      "source": [
        "#### i4 [3pt]\n",
        "\n",
        "Interpret the results in the context of Harry Potter books.\n",
        "- Do these most similar words make sense (are they actually similar to the query words)?\n",
        "- Are there any patterns you can see in the \"errors\" (the words that you wouldn't consider actually similar to the query word in general, in everyday life)?\n",
        "- Which examples are instances of similarity (if any) and relatedness (if any)?\n",
        "- Any other observations are welcome.\n",
        "\n",
        "Illustrate your answers with examples from your model's output."
      ]
    },
    {
      "cell_type": "markdown",
      "metadata": {
        "id": "kBR7DEz_gel7",
        "nbgrader": {
          "grade": true,
          "grade_id": "Interpretation4",
          "locked": false,
          "points": 1,
          "schema_version": 3,
          "solution": true,
          "task": false
        },
        "tags": []
      },
      "source": [
        "**ANSWER**: <font color=\"red\">YOUR ANSWER HERE</font>\n",
        "\n",
        "Yes, these similarities mostly make sense. Especially, the words letter and its results  ['envelope', 'cage', 'paper', 'owl', 'hedwig', 'writing'] is a great example of this method resulting in in encapsulation of similarities in the vector space. This word results in a lot of related words as well however the word with highest score is literally a synonym of the input word.  However, other words such as quidditch result in related words instead of similar words. This could be due to quidditch not having a similar word in the HP books. If our corpus contained more words form the real life we would expect a sport like tennis resulting in a high similarity like a sport like badminton or table tennis. This does mean the world of HP  does not have another sport like quidditch.\n",
        "\n",
        "The word horcrux resulted in horcruxes which is literally the plural form of the input word. However, it not being the word with the highest similarity was unexpected. Furthermore, the word with the highest similarity being griphook who is a goblin working in a bank was more baffling as well.  This might  be a result of our embedding dimensions being constrained significantly. \n",
        "\n",
        "The errors of this method have mostly a common  pattern where instead of finding words which are similar in general it results in words which are used together with each other. For example forbidden resulting in words like 'ahead', 'forest'  are not similar in meaning. This corpus probably contains phrasing such as forbidden forest   ahead which made our embedding model embed them close to each other.  \n",
        "\n"
      ]
    },
    {
      "cell_type": "markdown",
      "metadata": {
        "id": "cdp1FSNbgel8"
      },
      "source": [
        "Overall it's quite impressive; we managed to encode a meaningful portion of the corpus statistics in only $30$ numbers per word!\n",
        "(A compression ratio of >99%)\n",
        "\n",
        "<div class=\"alert alert-block alert-info\">\n",
        "<b>Note:</b> The word vectors obtained by this process are (to a small extent) random, due to the random initialization of the embedding layers. If you are unhappy with your results, you can repeat the experiment a few times or try to toy around with the hyper-parameters (the smoothing factor of ${X}$, $x_{max}$, $\\alpha$, the number of epochs and the dimensionality of the vector space). But do this as your own experiments outside the submission file.\n",
        "</div>\n",
        "\n",
        "Word vectors, however, contain way more information than just word co-occurrence statistics. Hold tight until the next assignment, where we will see how word vectors may be used to infer information spanning entire phrases and sentences."
      ]
    },
    {
      "cell_type": "markdown",
      "metadata": {
        "id": "eypgbwmMgel8"
      },
      "source": [
        "### Validation (Word Analogies)\n",
        "\n",
        "From the paper:\n",
        "> The word analogy task consists of questions like \"$a$ is to $b$ as $c$ is to __?\" To correctly answer this question, we must find the word $d$ such that $w_d \\approx w_b - w_a + w_c$ according to the cosine similarity.\n",
        "\n",
        "Write your own function that performs the word analogy task.  \n",
        "In addition to the standard approximation $w_d \\approx w_b - w_a + w_c$, implement another non-standard but intuitive approximation where we are searching $w_d$ that maximizes the following similarity $w_a - w_b \\approx w_c - w_d$.  \n",
        "Let's see which criteria will give the best results, or maybe both give the same results.    \n",
        "\n",
        "_Hint_: Take a look at the code a few cells back. Most of what you need is already there."
      ]
    },
    {
      "cell_type": "code",
      "execution_count": 37,
      "metadata": {},
      "outputs": [
        {
          "name": "stdout",
          "output_type": "stream",
          "text": [
            "Most similar words to 'queen': ['abbott', 'aberforth', 'aback', '1', 'ability', 'abandoned']\n",
            "Most similar words to 'king': ['quarters', 'quaffle', 'nine', 'station', 'platform', 'express']\n",
            "Most similar words to 'man': ['narcissa', 'boy', 'headless', 'greatest', 'pale', 'dumbledore']\n",
            "Most similar words to 'woman': ['muriel', 'welcome', 'elphias', 'bathilda', 'marge', 'prophet']\n"
          ]
        }
      ],
      "source": [
        "for word in [\n",
        "    \"queen\", \"king\", \"man\", \"woman\"\n",
        "]:\n",
        "    print(f\"Most similar words to '{word}': {most_similar(word, vocab, word_vectors, 6)}\")"
      ]
    },
    {
      "cell_type": "code",
      "execution_count": 276,
      "metadata": {
        "id": "RDNEXZL2gel8",
        "nbgrader": {
          "grade": true,
          "grade_id": "analogy",
          "locked": false,
          "points": 1,
          "schema_version": 3,
          "solution": true,
          "task": false
        },
        "tags": []
      },
      "outputs": [
        {
          "name": "stdout",
          "output_type": "stream",
          "text": [
            "['disappeared', 'without', 'works', 'magic', 'catching']\n"
          ]
        }
      ],
      "source": [
        "# @title c8 [6pt]\n",
        "def analogy(\n",
        "    word_a: str, word_b: str, word_c: str, vocab: Dict[str, int],\n",
        "    vectors: FloatTensor, k: int=5, standard: bool=True\n",
        ") -> List[str]:\n",
        "    \"\"\" Return a list of k words whose vectors are most similar to the solution vector of the analogy.\n",
        "        The first element means the most similar, followed by the rest in decreasing similarity.\n",
        "        word_a, word_b, and word_c are never returned as a part of the list.\n",
        "        param standard=True uses the standard approximation equation, =False uses the alternative one.\n",
        "    \"\"\"\n",
        "    vec_a = vectors[vocab[word_a]]\n",
        "    vec_b = vectors[vocab[word_b]]\n",
        "    vec_c = vectors[vocab[word_c]]\n",
        "    \n",
        "    if standard:\n",
        "        vec_d = vec_b - vec_a + vec_c\n",
        "    else:\n",
        "        vec_d = (vec_c @ vec_b) / vec_a\n",
        "      \n",
        "      \n",
        "    cos_sim = torch.torch.nn.functional.cosine_similarity(vectors, vec_d.unsqueeze(0), dim=1)\n",
        "    _, top_di = cos_sim.topk(k=k+3, dim=-1)\n",
        "    \n",
        "    top_di = top_di.view(-1).cpu().numpy().tolist()\n",
        "    inv = {v: i for i, v in vocab.items()}\n",
        "    return [inv[i] for i in top_di if inv[i] not in {word_a, word_b, word_c}][:k]\n",
        "\n",
        "\n",
        "print(analogy(\"mom\", \"dad\", \"female\", vocab, word_vectors, 5, True ) )"
      ]
    },
    {
      "cell_type": "markdown",
      "metadata": {
        "id": "6m9PcG8jgel8"
      },
      "source": [
        "Some example triplets to test your analogies on:"
      ]
    },
    {
      "cell_type": "code",
      "execution_count": 277,
      "metadata": {
        "id": "TFkCHKT_gel8",
        "nbgrader": {
          "grade": false,
          "grade_id": "cell-3f0e833f60eafb32",
          "locked": true,
          "schema_version": 3,
          "solution": false,
          "task": false
        },
        "tags": []
      },
      "outputs": [
        {
          "name": "stdout",
          "output_type": "stream",
          "text": [
            "Mode: d ~ c - a + b\n",
            "     padma       is to     parvati      as       fred       is to\t['see', 'want', 'got', 'something', 'get']\n",
            "     avada       is to     kedavra      as     expecto      is to\t['patronum', 'stag', 'dementor', 'concentrating', 'breath']\n",
            "    dungeon      is to    slytherin     as      tower       is to\t['excitement', 'break', 'fighting', 'hogwarts', 'playing']\n",
            "    scabbers     is to       ron        as      hedwig      is to\t['walked', 'later', 'left', 'back', 'already']\n",
            "      ron        is to      molly       as      draco       is to\t['thicknesse', 'narcissa', 'cousin', 'husband', 'snarled']\n",
            "   durmstrang    is to      viktor      as   beauxbatons    is to\t['mouthed', 'cho', 'smiled', 'krum', 'settled']\n",
            "     snape       is to     potions      as    trelawney     is to\t['divination', 'chart', 'clipboard', 'subjects', 'sprout']\n",
            "     harry       is to      seeker      as       ron        is to\t['teams', 'ball', 'scored', 'chaser', 'ireland']\n",
            "     harry       is to      snape       as      potter      is to\t['trusts', 'surely', 'cornered', 'severus', 'rookwood']\n",
            "     harry       is to      malfoy      as      potter      is to\t['cruciatus', 'taught', 'trusts', 'son', 'pretend']\n",
            "\n",
            "Mode: a - b ~ c - d\n",
            "     padma       is to     parvati      as       fred       is to\t['forgot', 'piers', 'dudley', 'telephone', 'swore']\n",
            "     avada       is to     kedavra      as     expecto      is to\t['frowning', 'headmaster', 'secrets', 'binding', 'concern']\n",
            "    dungeon      is to    slytherin     as      tower       is to\t['moody', 'fixed', 'clunk', 'flask', 'potion']\n",
            "    scabbers     is to       ron        as      hedwig      is to\t['wet', 'low', 'breath', 'insides', 'swelled']\n",
            "      ron        is to      molly       as      draco       is to\t['died', 'cruciatus', 'ran', 'job', 'holiday']\n",
            "   durmstrang    is to      viktor      as   beauxbatons    is to\t['guard', 'shake', 'yards', 'control', 'minister']\n",
            "     snape       is to     potions      as    trelawney     is to\t['nice', 'checking', 'cross', 'grunted', 'anyway']\n",
            "     harry       is to      seeker      as       ron        is to\t['bird', 'immediately', 'unknown', 'pillow', 'unexpected']\n",
            "     harry       is to      snape       as      potter      is to\t['bird', 'immediately', 'unknown', 'pillow', 'unexpected']\n",
            "     harry       is to      malfoy      as      potter      is to\t['bird', 'immediately', 'unknown', 'pillow', 'unexpected']\n"
          ]
        }
      ],
      "source": [
        "# TEST c8\n",
        "triplets = [(\"padma\", \"parvati\", \"fred\"),\n",
        "            (\"avada\", \"kedavra\", \"expecto\"),\n",
        "            (\"dungeon\", \"slytherin\", \"tower\"),\n",
        "            (\"scabbers\", \"ron\", \"hedwig\"),\n",
        "            (\"ron\", \"molly\", \"draco\"),\n",
        "            (\"durmstrang\", \"viktor\", \"beauxbatons\"),\n",
        "            (\"snape\", \"potions\", \"trelawney\"),\n",
        "            (\"harry\", \"seeker\", \"ron\"),\n",
        "            \n",
        "            # ---------------------\n",
        "            # YOUR CODE HERE (3 examples)\n",
        "            (\"harry\", \"snape\", \"potter\"),\n",
        "            (\"harry\", \"malfoy\", \"potter\"),\n",
        "            # (\"mom\", \"father\", \"man\"),\n",
        "            # (\"niece\", \"nephew\", \"daughter\"),\n",
        "           ]\n",
        "\n",
        "print(\"Mode: d ~ c - a + b\")\n",
        "for a, b, c in triplets:\n",
        "    print(\"{:^16} is to {:^16} as {:^16} is to\\t{}\".format(a, b, c, analogy(a, b, c, vocab, word_vectors, 5, standard=True)))\n",
        "\n",
        "print(\"\\nMode: a - b ~ c - d\")\n",
        "for a, b, c in triplets:\n",
        "    print(\"{:^16} is to {:^16} as {:^16} is to\\t{}\".format(a, b, c, analogy(a, b, c, vocab, word_vectors, 5, standard=False)))"
      ]
    },
    {
      "cell_type": "markdown",
      "metadata": {
        "id": "NOUQSblcgel9"
      },
      "source": [
        "Some minimal emergent intelligence :) *(hopefully..)*. 🧙‍♀️"
      ]
    },
    {
      "cell_type": "markdown",
      "metadata": {
        "id": "v_V5ITEpgel9"
      },
      "source": [
        "#### i5 [3pt]\n",
        "\n",
        "Which analogy equation did give the best results for the provided analogy samples?  \n",
        "\n",
        "Come up with three additional analogies in the context of Harry Potter.\n",
        "Add them to the list of analogies in the code above and run the analogy computation.\n",
        "\n",
        "Interpret the results of the best performing analogy equation (if any):\n",
        "- For which analogies did the model manage to guess the correct answers (taking the first word in the output to be the model's \"guess\")?\n",
        "- For which analogies are the correct answers present in the top K words?\n",
        "- Do you see any patterns in the cases when the model didn't solve the task correctly? In other words, when the model's guess was wrong, can you suggest why the model guessed what it guessed?"
      ]
    },
    {
      "cell_type": "markdown",
      "metadata": {
        "id": "SKvYAag0gel9",
        "nbgrader": {
          "grade": true,
          "grade_id": "Interpretation5",
          "locked": false,
          "points": 1,
          "schema_version": 3,
          "solution": true,
          "task": false
        },
        "tags": []
      },
      "source": [
        "**ANSWER**: <font color=\"red\">YOUR ANSWER HERE</font>"
      ]
    },
    {
      "cell_type": "markdown",
      "metadata": {
        "id": "s0ne6B-pqDcW"
      },
      "source": [
        "## Counting co-occurrences\n",
        "\n",
        "In the beginning of the notebook you were provided with a pickle of co-occurrence counts. But how were these counts obtained? You will find this out when you complete this exercise.  \n",
        "\n",
        "First, we obtain the plain text corpus of the Harry Potter book series and place the book files in the current directory."
      ]
    },
    {
      "cell_type": "code",
      "execution_count": 57,
      "metadata": {
        "id": "uXyAJQ3Zvffu"
      },
      "outputs": [
        {
          "name": "stderr",
          "output_type": "stream",
          "text": [
            "fatal: destination path 'Harry-Potter-Text-Mining' already exists and is not an empty directory.\n"
          ]
        }
      ],
      "source": [
        "!git clone https://github.com/ErikaJacobs/Harry-Potter-Text-Mining.git"
      ]
    },
    {
      "cell_type": "code",
      "execution_count": 40,
      "metadata": {
        "id": "4GHUKmaywCYt"
      },
      "outputs": [
        {
          "name": "stderr",
          "output_type": "stream",
          "text": [
            "'cp' is not recognized as an internal or external command,\n",
            "operable program or batch file.\n"
          ]
        }
      ],
      "source": [
        "#!cp Harry-Potter-Text-Mining/Book\\ Text/* ."
      ]
    },
    {
      "cell_type": "markdown",
      "metadata": {
        "id": "QordGEyDXE35"
      },
      "source": [
        "In research, it is relatively common that papers don't include all necessary details for replicating the experiments. This is often due to the lack of space in the paper, overlooking certain details, or simply a bad practice.\n",
        "\n",
        "We will give you several hints on how the co-occurrence matrix was obtained. With the hints and the provided data in the pickle file, you should be able to replicate the exact content of the co-occurrence matrix from the pickle. Here are the hints:\n",
        "\n",
        "1.   Tokenization of the data was done in a shallow but effective way: replace all punctuations with white space and delimit tokens with a sequence of white spaces;\n",
        "2.   Standard libraries (!) were used for identifying punctuations and stopwords;\n",
        "3.   Context windows are symmetric and don't span across chapters (i.e., the last word of chapter $N$ is not co-occuring with the first word of chapter $N+1$).\n",
        "4.   The vocabulary was obtained based on the frequency cutoff.\n",
        "\n",
        "To replicate the co-occurrence counts, complete the function below. Then use it to find out the exact values of `cutoff` and `window_size` that result in the co-occurrence counts identical to the provided ones. No need to provide the code for finding the exact values. Just use them in the next TEST code cell.\n",
        "\n",
        "Feel free to import any standard python library. Use the same cell code for importing libraries and defining auxiliary functions (if any).\n",
        "The code will be evaluated not only on the correctness of the output but also on efficiency. It should be able to extract the counts and create the tensor in less than a minute (in the colab environment)."
      ]
    },
    {
      "cell_type": "code",
      "execution_count": 91,
      "metadata": {},
      "outputs": [
        {
          "name": "stdout",
          "output_type": "stream",
          "text": [
            "torch.Size([4298, 4298])\n"
          ]
        }
      ],
      "source": [
        "print(X1.shape)"
      ]
    },
    {
      "cell_type": "code",
      "execution_count": 260,
      "metadata": {
        "id": "qwE8faHMwqwU"
      },
      "outputs": [
        {
          "name": "stderr",
          "output_type": "stream",
          "text": [
            "[nltk_data] Downloading package stopwords to\n",
            "[nltk_data]     C:\\Users\\cemka\\AppData\\Roaming\\nltk_data...\n",
            "[nltk_data]   Package stopwords is already up-to-date!\n"
          ]
        },
        {
          "name": "stdout",
          "output_type": "stream",
          "text": [
            "Number of unique words after cutoff: 4298\n",
            "Vocabulary: {'1': 0, 'aback': 1, 'abandoned': 2, 'abbott': 3, 'aberforth': 4, 'ability': 5, 'able': 6, 'abou': 7, 'abruptly': 8, 'absence': 9, 'absolutely': 10, 'accept': 11, 'accepted': 12, 'accident': 13, 'accidentally': 14, 'accidents': 15, 'accio': 16, 'accompanied': 17, 'according': 18, 'account': 19, 'achieved': 20, 'aching': 21, 'across': 22, 'act': 23, 'acted': 24, 'acting': 25, 'action': 26, 'actually': 27, 'add': 28, 'added': 29, 'adding': 30, 'address': 31, 'addressed': 32, 'admit': 33, 'admitted': 34, 'advanced': 35, 'advancing': 36, 'advantage': 37, 'adventure': 38, 'advice': 39, 'advised': 40, 'afford': 41, 'afraid': 42, 'afternoon': 43, 'afterward': 44, 'age': 45, 'aged': 46, 'ages': 47, 'ago': 48, 'agony': 49, 'agree': 50, 'agreed': 51, 'ah': 52, 'ahead': 53, 'aid': 54, 'aim': 55, 'aimed': 56, 'aiming': 57, 'air': 58, 'aisle': 59, 'ajar': 60, 'alarm': 61, 'alarmed': 62, 'albus': 63, 'alecto': 64, 'alert': 65, 'alicia': 66, 'alive': 67, 'alley': 68, 'alleyway': 69, 'allow': 70, 'allowed': 71, 'allowing': 72, 'almost': 73, 'alone': 74, 'along': 75, 'alongside': 76, 'aloud': 77, 'already': 78, 'also': 79, 'although': 80, 'always': 81, 'amazed': 82, 'amazement': 83, 'amazing': 84, 'ambition': 85, 'among': 86, 'amongst': 87, 'amos': 88, 'amount': 89, 'amused': 90, 'amusing': 91, 'amycus': 92, 'ancient': 93, 'angelina': 94, 'anger': 95, 'angle': 96, 'angrily': 97, 'angry': 98, 'animagus': 99, 'animal': 100, 'animals': 101, 'ankle': 102, 'ankles': 103, 'announced': 104, 'annoyed': 105, 'another': 106, 'answer': 107, 'answered': 108, 'answering': 109, 'answers': 110, 'anti': 111, 'antidote': 112, 'antidotes': 113, 'anxious': 114, 'anxiously': 115, 'anybody': 116, 'anymore': 117, 'anyone': 118, 'anythin': 119, 'anything': 120, 'anyway': 121, 'anywhere': 122, 'apart': 123, 'appalled': 124, 'apparate': 125, 'apparently': 126, 'apparition': 127, 'appear': 128, 'appearance': 129, 'appeared': 130, 'appearing': 131, 'applause': 132, 'appointment': 133, 'appreciate': 134, 'apprehensive': 135, 'approach': 136, 'approached': 137, 'approaching': 138, 'approval': 139, 'aragog': 140, 'archway': 141, 'area': 142, 'argue': 143, 'arguing': 144, 'argument': 145, 'argus': 146, 'ariana': 147, 'arithmancy': 148, 'arm': 149, 'armchair': 150, 'armchairs': 151, 'armed': 152, 'armor': 153, 'arms': 154, 'army': 155, 'around': 156, 'arranged': 157, 'arrested': 158, 'arrival': 159, 'arrive': 160, 'arrived': 161, 'arriving': 162, 'arrogant': 163, 'arry': 164, 'arthur': 165, 'article': 166, 'arts': 167, 'ashamed': 168, 'aside': 169, 'ask': 170, 'asked': 171, 'asking': 172, 'asleep': 173, 'assistant': 174, 'assume': 175, 'assure': 176, 'assured': 177, 'astonished': 178, 'astonishment': 179, 'astronomy': 180, 'ate': 181, 'atmosphere': 182, 'atrium': 183, 'attached': 184, 'attack': 185, 'attacked': 186, 'attacking': 187, 'attacks': 188, 'attempt': 189, 'attempted': 190, 'attempting': 191, 'attempts': 192, 'attend': 193, 'attention': 194, 'attitude': 195, 'august': 196, 'aunt': 197, 'auntie': 198, 'auror': 199, 'aurors': 200, 'authority': 201, 'automatically': 202, 'avada': 203, 'ave': 204, 'avery': 205, 'avoid': 206, 'avoided': 207, 'avoiding': 208, 'awake': 209, 'award': 210, 'aware': 211, 'away': 212, 'awful': 213, 'awkward': 214, 'awkwardly': 215, 'awoke': 216, 'azkaban': 217, 'b': 218, 'baby': 219, 'back': 220, 'backed': 221, 'backing': 222, 'backs': 223, 'backward': 224, 'backwards': 225, 'bacon': 226, 'bad': 227, 'badge': 228, 'badges': 229, 'badly': 230, 'bag': 231, 'bagman': 232, 'bags': 233, 'bagshot': 234, 'bald': 235, 'balding': 236, 'ball': 237, 'balls': 238, 'bane': 239, 'bang': 240, 'banged': 241, 'banging': 242, 'bangs': 243, 'bank': 244, 'banned': 245, 'bar': 246, 'bare': 247, 'barely': 248, 'barked': 249, 'barman': 250, 'barn': 251, 'baron': 252, 'barrier': 253, 'bars': 254, 'barty': 255, 'basilisk': 256, 'basin': 257, 'basket': 258, 'bat': 259, 'bath': 260, 'bathilda': 261, 'bathroom': 262, 'bats': 263, 'battered': 264, 'battle': 265, 'beaded': 266, 'beak': 267, 'beam': 268, 'beamed': 269, 'beaming': 270, 'beans': 271, 'bear': 272, 'beard': 273, 'bearded': 274, 'bearing': 275, 'beast': 276, 'beat': 277, 'beaten': 278, 'beaters': 279, 'beating': 280, 'beautiful': 281, 'beauxbatons': 282, 'became': 283, 'beckoned': 284, 'become': 285, 'becoming': 286, 'bed': 287, 'bedroom': 288, 'beds': 289, 'bedside': 290, 'beedle': 291, 'beetle': 292, 'beg': 293, 'began': 294, 'begin': 295, 'beginning': 296, 'begun': 297, 'behavior': 298, 'behind': 299, 'believe': 300, 'believed': 301, 'believes': 302, 'believing': 303, 'bell': 304, 'bellatrix': 305, 'bellowed': 306, 'belong': 307, 'belonged': 308, 'belongs': 309, 'bench': 310, 'benches': 311, 'bend': 312, 'bending': 313, 'beneath': 314, 'bent': 315, 'bertha': 316, 'beside': 317, 'best': 318, 'bet': 319, 'betrayed': 320, 'better': 321, 'bewildered': 322, 'bewitched': 323, 'beyond': 324, 'bezoar': 325, 'big': 326, 'bigger': 327, 'biggest': 328, 'bike': 329, 'bill': 330, 'billowing': 331, 'bin': 332, 'binding': 333, 'binns': 334, 'bird': 335, 'birds': 336, 'birthday': 337, 'bit': 338, 'bite': 339, 'biting': 340, 'bits': 341, 'bitten': 342, 'bitter': 343, 'bitterly': 344, 'bizarre': 345, 'black': 346, 'blackboard': 347, 'blackened': 348, 'blackness': 349, 'blame': 350, 'blank': 351, 'blankets': 352, 'blankly': 353, 'blast': 354, 'blasted': 355, 'blazing': 356, 'bleeding': 357, 'blew': 358, 'blimey': 359, 'blind': 360, 'blinding': 361, 'blink': 362, 'blinked': 363, 'blinking': 364, 'block': 365, 'blocked': 366, 'blocking': 367, 'bloke': 368, 'blond': 369, 'blonde': 370, 'blood': 371, 'bloodshot': 372, 'bloody': 373, 'blotts': 374, 'blow': 375, 'blowing': 376, 'blown': 377, 'bludger': 378, 'bludgers': 379, 'blue': 380, 'blurred': 381, 'board': 382, 'boarded': 383, 'boat': 384, 'bobbing': 385, 'bode': 386, 'bodies': 387, 'body': 388, 'boggart': 389, 'boiling': 390, 'bolt': 391, 'bone': 392, 'bones': 393, 'book': 394, 'books': 395, 'boomed': 396, 'booming': 397, 'boot': 398, 'boots': 399, 'bore': 400, 'bored': 401, 'borgin': 402, 'boring': 403, 'born': 404, 'borns': 405, 'borrow': 406, 'borrowed': 407, 'bother': 408, 'bothered': 409, 'bothering': 410, 'bottle': 411, 'bottles': 412, 'bottom': 413, 'bought': 414, 'bounced': 415, 'bouncing': 416, 'bound': 417, 'bounded': 418, 'bow': 419, 'bowed': 420, 'bowing': 421, 'bowl': 422, 'bowler': 423, 'box': 424, 'boxes': 425, 'boy': 426, 'boys': 427, 'brain': 428, 'brains': 429, 'branch': 430, 'branches': 431, 'brand': 432, 'brandishing': 433, 'brass': 434, 'brave': 435, 'bread': 436, 'break': 437, 'breakfast': 438, 'breaking': 439, 'breath': 440, 'breathe': 441, 'breathed': 442, 'breathing': 443, 'breathless': 444, 'breathlessly': 445, 'breeze': 446, 'brick': 447, 'bridge': 448, 'brief': 449, 'briefly': 450, 'bright': 451, 'brightly': 452, 'brilliant': 453, 'bring': 454, 'bringing': 455, 'briskly': 456, 'britain': 457, 'broad': 458, 'broadly': 459, 'broke': 460, 'broken': 461, 'bronze': 462, 'broom': 463, 'brooms': 464, 'broomstick': 465, 'broomsticks': 466, 'brother': 467, 'brothers': 468, 'brought': 469, 'brow': 470, 'brown': 471, 'brushed': 472, 'brushing': 473, 'brutal': 474, 'bu': 475, 'bubble': 476, 'bubbles': 477, 'buckbeak': 478, 'bucket': 479, 'building': 480, 'built': 481, 'bulgarian': 482, 'bulging': 483, 'bunch': 484, 'bunk': 485, 'buried': 486, 'burkes': 487, 'burn': 488, 'burned': 489, 'burning': 490, 'burrow': 491, 'burst': 492, 'bursting': 493, 'bus': 494, 'bush': 495, 'bushes': 496, 'bushy': 497, 'business': 498, 'bustled': 499, 'bustling': 500, 'busy': 501, 'butterbeer': 502, 'button': 503, 'buy': 504, 'buying': 505, 'buzzing': 506, 'bye': 507, 'c': 508, 'cabin': 509, 'cabinet': 510, 'cackling': 511, 'cadogan': 512, 'cage': 513, 'cake': 514, 'cakes': 515, 'call': 516, 'called': 517, 'calling': 518, 'calm': 519, 'calmly': 520, 'came': 521, 'camera': 522, 'campsite': 523, 'candle': 524, 'candlelight': 525, 'candles': 526, 'cannot': 527, 'canvas': 528, 'capable': 529, 'captain': 530, 'capture': 531, 'car': 532, 'card': 533, 'cards': 534, 'care': 535, 'cared': 536, 'career': 537, 'careful': 538, 'carefully': 539, 'cares': 540, 'caretaker': 541, 'carpet': 542, 'carriage': 543, 'carriages': 544, 'carried': 545, 'carrows': 546, 'carry': 547, 'carrying': 548, 'cars': 549, 'cart': 550, 'carved': 551, 'case': 552, 'cast': 553, 'casting': 554, 'castle': 555, 'casual': 556, 'casually': 557, 'cat': 558, 'catch': 559, 'catching': 560, 'cats': 561, 'cattermole': 562, 'caught': 563, 'cauldron': 564, 'cauldrons': 565, 'cause': 566, 'caused': 567, 'causing': 568, 'caution': 569, 'cautiously': 570, 'cave': 571, 'cedric': 572, 'ceiling': 573, 'cellar': 574, 'centaur': 575, 'centaurs': 576, 'center': 577, 'centuries': 578, 'century': 579, 'certain': 580, 'certainly': 581, 'chain': 582, 'chained': 583, 'chains': 584, 'chair': 585, 'chairs': 586, 'chamber': 587, 'champion': 588, 'champions': 589, 'chance': 590, 'chances': 591, 'chandelier': 592, 'chang': 593, 'change': 594, 'changed': 595, 'changing': 596, 'chapter': 597, 'charge': 598, 'charged': 599, 'charlie': 600, 'charm': 601, 'charming': 602, 'charms': 603, 'chart': 604, 'chase': 605, 'chased': 606, 'chaser': 607, 'chasers': 608, 'chasing': 609, 'chat': 610, 'chattering': 611, 'check': 612, 'checked': 613, 'checking': 614, 'cheek': 615, 'cheeks': 616, 'cheer': 617, 'cheered': 618, 'cheerful': 619, 'cheerfully': 620, 'cheering': 621, 'cheers': 622, 'chess': 623, 'chest': 624, 'chewing': 625, 'chicken': 626, 'child': 627, 'children': 628, 'chill': 629, 'chilly': 630, 'chin': 631, 'cho': 632, 'chocolate': 633, 'choice': 634, 'choked': 635, 'choose': 636, 'chose': 637, 'chosen': 638, 'christmas': 639, 'chuckled': 640, 'church': 641, 'circle': 642, 'circling': 643, 'circular': 644, 'circumstances': 645, 'clambered': 646, 'clamped': 647, 'clanking': 648, 'clapped': 649, 'clapping': 650, 'class': 651, 'classes': 652, 'classroom': 653, 'clatter': 654, 'clattering': 655, 'clean': 656, 'cleaning': 657, 'clear': 658, 'cleared': 659, 'clearer': 660, 'clearing': 661, 'clearly': 662, 'clenched': 663, 'clever': 664, 'clicked': 665, 'clicking': 666, 'cliff': 667, 'climb': 668, 'climbed': 669, 'climbing': 670, 'clipboard': 671, 'cloak': 672, 'cloaks': 673, 'clock': 674, 'close': 675, 'closed': 676, 'closely': 677, 'closer': 678, 'closest': 679, 'closing': 680, 'clothes': 681, 'cloud': 682, 'clouds': 683, 'club': 684, 'clue': 685, 'clunk': 686, 'clutched': 687, 'clutching': 688, 'coat': 689, 'coffee': 690, 'coins': 691, 'cold': 692, 'coldly': 693, 'cole': 694, 'colin': 695, 'collapsed': 696, 'collar': 697, 'collect': 698, 'collecting': 699, 'collection': 700, 'collided': 701, 'color': 702, 'colored': 703, 'colour': 704, 'come': 705, 'comes': 706, 'comfort': 707, 'comfortable': 708, 'comin': 709, 'coming': 710, 'command': 711, 'committee': 712, 'common': 713, 'community': 714, 'company': 715, 'compared': 716, 'compartment': 717, 'compete': 718, 'complain': 719, 'complaining': 720, 'complete': 721, 'completely': 722, 'complex': 723, 'complicated': 724, 'concealed': 725, 'concentrate': 726, 'concentrating': 727, 'concentration': 728, 'concern': 729, 'concerned': 730, 'condition': 731, 'conditions': 732, 'confederation': 733, 'confidence': 734, 'confident': 735, 'confused': 736, 'confusion': 737, 'conjured': 738, 'connected': 739, 'connection': 740, 'conscious': 741, 'consider': 742, 'considerable': 743, 'considered': 744, 'considering': 745, 'constant': 746, 'contact': 747, 'contained': 748, 'containing': 749, 'contents': 750, 'continue': 751, 'continued': 752, 'continuing': 753, 'contorted': 754, 'contrary': 755, 'control': 756, 'controlled': 757, 'conversation': 758, 'convince': 759, 'convinced': 760, 'cooking': 761, 'cool': 762, 'coolly': 763, 'copies': 764, 'copy': 765, 'cornelius': 766, 'corner': 767, 'cornered': 768, 'corners': 769, 'correct': 770, 'corrected': 771, 'corridor': 772, 'corridors': 773, 'cost': 774, 'cottage': 775, 'cough': 776, 'could': 777, 'count': 778, 'counted': 779, 'counter': 780, 'counting': 781, 'country': 782, 'couple': 783, 'courage': 784, 'course': 785, 'court': 786, 'courtyard': 787, 'cousin': 788, 'cover': 789, 'covered': 790, 'covering': 791, 'covers': 792, 'cowering': 793, 'cozy': 794, 'crabbe': 795, 'crack': 796, 'cracked': 797, 'crackling': 798, 'crammed': 799, 'craning': 800, 'crash': 801, 'crashed': 802, 'crashing': 803, 'crate': 804, 'crawled': 805, 'creaked': 806, 'creaking': 807, 'cream': 808, 'creature': 809, 'creatures': 810, 'creeping': 811, 'creevey': 812, 'crept': 813, 'cried': 814, 'cries': 815, 'crime': 816, 'croaked': 817, 'crooked': 818, 'crookshanks': 819, 'cross': 820, 'crossbow': 821, 'crossed': 822, 'crossing': 823, 'crouch': 824, 'crouched': 825, 'crouching': 826, 'crowd': 827, 'crowded': 828, 'cruciatus': 829, 'cruel': 830, 'crumpled': 831, 'cry': 832, 'crying': 833, 'crystal': 834, 'cup': 835, 'cupboard': 836, 'cups': 837, 'curiosity': 838, 'curious': 839, 'curiously': 840, 'curled': 841, 'curling': 842, 'curly': 843, 'currently': 844, 'curse': 845, 'cursed': 846, 'curses': 847, 'curtain': 848, 'curtains': 849, 'curtly': 850, 'curved': 851, 'cushion': 852, 'cushions': 853, 'cut': 854, 'cuts': 855, 'cutting': 856, 'da': 857, 'dad': 858, 'daddy': 859, 'daily': 860, 'dais': 861, 'damage': 862, 'damn': 863, 'damp': 864, 'dance': 865, 'dancing': 866, 'danger': 867, 'dangerous': 868, 'dangerously': 869, 'dangling': 870, 'dare': 871, 'dared': 872, 'daresay': 873, 'daring': 874, 'dark': 875, 'darker': 876, 'darkly': 877, 'darkness': 878, 'darted': 879, 'darting': 880, 'dashed': 881, 'dashing': 882, 'date': 883, 'daughter': 884, 'davies': 885, 'dawlish': 886, 'dawn': 887, 'day': 888, 'daylight': 889, 'days': 890, 'dazed': 891, 'dazzling': 892, 'de': 893, 'dead': 894, 'deadly': 895, 'deafening': 896, 'deal': 897, 'dealing': 898, 'dean': 899, 'dear': 900, 'death': 901, 'deathly': 902, 'deaths': 903, 'decent': 904, 'decide': 905, 'decided': 906, 'decision': 907, 'decorated': 908, 'decree': 909, 'dedalus': 910, 'deep': 911, 'deeper': 912, 'deepest': 913, 'deeply': 914, 'defeated': 915, 'defence': 916, 'defend': 917, 'defense': 918, 'defensive': 919, 'defiantly': 920, 'definite': 921, 'definitely': 922, 'delacour': 923, 'deliberately': 924, 'delicious': 925, 'delight': 926, 'delighted': 927, 'deliver': 928, 'delivered': 929, 'deluminator': 930, 'demanded': 931, 'dementor': 932, 'dementors': 933, 'dennis': 934, 'deny': 935, 'departed': 936, 'department': 937, 'departure': 938, 'depths': 939, 'descended': 940, 'descending': 941, 'described': 942, 'deserted': 943, 'deserve': 944, 'deserved': 945, 'desire': 946, 'desk': 947, 'desks': 948, 'despair': 949, 'desperate': 950, 'desperately': 951, 'desperation': 952, 'despite': 953, 'destination': 954, 'destroy': 955, 'destroyed': 956, 'detail': 957, 'details': 958, 'detention': 959, 'detentions': 960, 'determination': 961, 'determined': 962, 'devil': 963, 'devoted': 964, 'diadem': 965, 'diagon': 966, 'diary': 967, 'die': 968, 'died': 969, 'difference': 970, 'different': 971, 'difficult': 972, 'difficulty': 973, 'diggory': 974, 'dim': 975, 'dimly': 976, 'dinner': 977, 'dippet': 978, 'directed': 979, 'direction': 980, 'directions': 981, 'directly': 982, 'dirk': 983, 'dirty': 984, 'disapparate': 985, 'disapparated': 986, 'disappear': 987, 'disappeared': 988, 'disappearing': 989, 'disappointed': 990, 'disappointment': 991, 'disbelief': 992, 'discover': 993, 'discovered': 994, 'discuss': 995, 'discussed': 996, 'discussing': 997, 'discussion': 998, 'disgruntled': 999, 'disguise': 1000, 'disgust': 1001, 'disgusting': 1002, 'dislike': 1003, 'display': 1004, 'dissolved': 1005, 'distance': 1006, 'distant': 1007, 'distinct': 1008, 'distinctly': 1009, 'distracted': 1010, 'distractedly': 1011, 'disturbed': 1012, 'dive': 1013, 'dived': 1014, 'divination': 1015, 'dobby': 1016, 'dodged': 1017, 'doe': 1018, 'dog': 1019, 'doge': 1020, 'doin': 1021, 'dolohov': 1022, 'dolores': 1023, 'done': 1024, 'door': 1025, 'doorknob': 1026, 'doors': 1027, 'doorway': 1028, 'dormitories': 1029, 'dormitory': 1030, 'dot': 1031, 'double': 1032, 'doubt': 1033, 'doubted': 1034, 'downstairs': 1035, 'dozen': 1036, 'draco': 1037, 'drag': 1038, 'dragged': 1039, 'dragging': 1040, 'dragon': 1041, 'dragons': 1042, 'drained': 1043, 'dramatically': 1044, 'drank': 1045, 'draped': 1046, 'draught': 1047, 'draw': 1048, 'drawer': 1049, 'drawers': 1050, 'drawing': 1051, 'drawn': 1052, 'dread': 1053, 'dreadful': 1054, 'dreading': 1055, 'dream': 1056, 'dreamed': 1057, 'dreaming': 1058, 'dreams': 1059, 'dress': 1060, 'dressed': 1061, 'dressing': 1062, 'drew': 1063, 'dried': 1064, 'drifted': 1065, 'drifting': 1066, 'drink': 1067, 'drinking': 1068, 'drinks': 1069, 'dripping': 1070, 'drive': 1071, 'driven': 1072, 'driving': 1073, 'drop': 1074, 'dropped': 1075, 'dropping': 1076, 'drops': 1077, 'drove': 1078, 'drowned': 1079, 'dry': 1080, 'duck': 1081, 'ducked': 1082, 'dudley': 1083, 'due': 1084, 'duel': 1085, 'dueling': 1086, 'dug': 1087, 'dull': 1088, 'dully': 1089, 'dumbledore': 1090, 'dumbledores': 1091, 'dung': 1092, 'dungeon': 1093, 'dungeons': 1094, 'dunno': 1095, 'durmstrang': 1096, 'dursley': 1097, 'dursleys': 1098, 'dust': 1099, 'dusty': 1100, 'duty': 1101, 'dying': 1102, 'e': 1103, 'eager': 1104, 'eagerly': 1105, 'eagle': 1106, 'ear': 1107, 'earlier': 1108, 'early': 1109, 'earned': 1110, 'earnestly': 1111, 'ears': 1112, 'earshot': 1113, 'earth': 1114, 'ease': 1115, 'easier': 1116, 'easily': 1117, 'easter': 1118, 'easy': 1119, 'eat': 1120, 'eaten': 1121, 'eater': 1122, 'eaters': 1123, 'eating': 1124, 'echoed': 1125, 'echoing': 1126, 'edge': 1127, 'edged': 1128, 'edges': 1129, 'edging': 1130, 'educational': 1131, 'eerie': 1132, 'effect': 1133, 'effort': 1134, 'efforts': 1135, 'egg': 1136, 'eggs': 1137, 'eh': 1138, 'eight': 1139, 'either': 1140, 'elbow': 1141, 'elder': 1142, 'eleven': 1143, 'elf': 1144, 'elphias': 1145, 'else': 1146, 'elves': 1147, 'em': 1148, 'embarrassed': 1149, 'emerald': 1150, 'emerged': 1151, 'emerging': 1152, 'emotion': 1153, 'emptied': 1154, 'empty': 1155, 'enchanted': 1156, 'enchantments': 1157, 'enclosure': 1158, 'end': 1159, 'ended': 1160, 'ends': 1161, 'enemies': 1162, 'enemy': 1163, 'enforcement': 1164, 'engine': 1165, 'english': 1166, 'enjoy': 1167, 'enjoyed': 1168, 'enjoying': 1169, 'enormous': 1170, 'enough': 1171, 'ensure': 1172, 'enter': 1173, 'entered': 1174, 'entering': 1175, 'enthusiasm': 1176, 'enthusiastically': 1177, 'entire': 1178, 'entirely': 1179, 'entrance': 1180, 'envelope': 1181, 'equal': 1182, 'er': 1183, 'ere': 1184, 'erm': 1185, 'ern': 1186, 'ernie': 1187, 'errol': 1188, 'erupted': 1189, 'escape': 1190, 'escaped': 1191, 'especially': 1192, 'essay': 1193, 'essential': 1194, 'etched': 1195, 'even': 1196, 'evening': 1197, 'evenings': 1198, 'events': 1199, 'ever': 1200, 'every': 1201, 'everybody': 1202, 'everyone': 1203, 'everything': 1204, 'everywhere': 1205, 'evidence': 1206, 'evidently': 1207, 'evil': 1208, 'ex': 1209, 'exactly': 1210, 'exam': 1211, 'examination': 1212, 'examine': 1213, 'examined': 1214, 'examining': 1215, 'exams': 1216, 'exasperated': 1217, 'excellent': 1218, 'except': 1219, 'exceptionally': 1220, 'exchange': 1221, 'exchanged': 1222, 'excited': 1223, 'excitedly': 1224, 'excitement': 1225, 'exciting': 1226, 'excuse': 1227, 'exhausted': 1228, 'exist': 1229, 'existence': 1230, 'expect': 1231, 'expected': 1232, 'expecting': 1233, 'expecto': 1234, 'expelled': 1235, 'expelliarmus': 1236, 'experience': 1237, 'experienced': 1238, 'explain': 1239, 'explained': 1240, 'explaining': 1241, 'explanation': 1242, 'exploded': 1243, 'exploding': 1244, 'explosion': 1245, 'express': 1246, 'expression': 1247, 'expressions': 1248, 'extendable': 1249, 'extinguished': 1250, 'extra': 1251, 'extraordinary': 1252, 'extremely': 1253, 'eye': 1254, 'eyebrows': 1255, 'eyed': 1256, 'eyeing': 1257, 'eyelids': 1258, 'eyes': 1259, 'f': 1260, 'face': 1261, 'faced': 1262, 'faces': 1263, 'facing': 1264, 'fact': 1265, 'facts': 1266, 'faded': 1267, 'fading': 1268, 'fail': 1269, 'failed': 1270, 'faint': 1271, 'faintest': 1272, 'faintly': 1273, 'fair': 1274, 'fairly': 1275, 'faithful': 1276, 'fake': 1277, 'fall': 1278, 'fallen': 1279, 'falling': 1280, 'false': 1281, 'familiar': 1282, 'families': 1283, 'family': 1284, 'famous': 1285, 'fan': 1286, 'fancy': 1287, 'fang': 1288, 'fangs': 1289, 'far': 1290, 'farther': 1291, 'fascinating': 1292, 'fashion': 1293, 'fashioned': 1294, 'fast': 1295, 'faster': 1296, 'fat': 1297, 'father': 1298, 'fault': 1299, 'favor': 1300, 'favorite': 1301, 'favourite': 1302, 'fawkes': 1303, 'fear': 1304, 'feared': 1305, 'fears': 1306, 'feast': 1307, 'feather': 1308, 'feathers': 1309, 'features': 1310, 'fed': 1311, 'feeble': 1312, 'feebly': 1313, 'feed': 1314, 'feel': 1315, 'feeling': 1316, 'feelings': 1317, 'feels': 1318, 'feet': 1319, 'felicis': 1320, 'felix': 1321, 'fell': 1322, 'fellow': 1323, 'fellows': 1324, 'felt': 1325, 'female': 1326, 'fence': 1327, 'fer': 1328, 'ferret': 1329, 'fetch': 1330, 'feverishly': 1331, 'field': 1332, 'fierce': 1333, 'fiercely': 1334, 'fiery': 1335, 'fifteen': 1336, 'fifth': 1337, 'fifty': 1338, 'figg': 1339, 'fight': 1340, 'fighting': 1341, 'figure': 1342, 'figures': 1343, 'filch': 1344, 'filed': 1345, 'fill': 1346, 'filled': 1347, 'filling': 1348, 'filth': 1349, 'filthy': 1350, 'final': 1351, 'finally': 1352, 'finch': 1353, 'find': 1354, 'finding': 1355, 'finds': 1356, 'fine': 1357, 'finger': 1358, 'fingered': 1359, 'fingers': 1360, 'finish': 1361, 'finished': 1362, 'finishing': 1363, 'finnigan': 1364, 'fire': 1365, 'firebolt': 1366, 'firelight': 1367, 'firenze': 1368, 'fireplace': 1369, 'fires': 1370, 'firewhisky': 1371, 'fireworks': 1372, 'firm': 1373, 'firmly': 1374, 'firs': 1375, 'first': 1376, 'fish': 1377, 'fist': 1378, 'fists': 1379, 'fit': 1380, 'five': 1381, 'fix': 1382, 'fixed': 1383, 'flame': 1384, 'flamel': 1385, 'flames': 1386, 'flaming': 1387, 'flapped': 1388, 'flapping': 1389, 'flash': 1390, 'flashed': 1391, 'flashing': 1392, 'flask': 1393, 'flat': 1394, 'flatly': 1395, 'flattened': 1396, 'flavor': 1397, 'fled': 1398, 'fleeting': 1399, 'flesh': 1400, 'fletcher': 1401, 'fleur': 1402, 'flew': 1403, 'flick': 1404, 'flicked': 1405, 'flickered': 1406, 'flickering': 1407, 'flight': 1408, 'flint': 1409, 'flitwick': 1410, 'floated': 1411, 'floating': 1412, 'floo': 1413, 'flooded': 1414, 'flooding': 1415, 'floor': 1416, 'floors': 1417, 'flourish': 1418, 'flowers': 1419, 'flown': 1420, 'fluffy': 1421, 'flung': 1422, 'flushed': 1423, 'fluttered': 1424, 'fluttering': 1425, 'fly': 1426, 'flying': 1427, 'focus': 1428, 'focused': 1429, 'folded': 1430, 'follow': 1431, 'followed': 1432, 'followers': 1433, 'following': 1434, 'fond': 1435, 'food': 1436, 'fool': 1437, 'foolish': 1438, 'foot': 1439, 'footsteps': 1440, 'forbidden': 1441, 'force': 1442, 'forced': 1443, 'forcefully': 1444, 'forcing': 1445, 'forehead': 1446, 'foreign': 1447, 'forest': 1448, 'forever': 1449, 'forget': 1450, 'forgetting': 1451, 'forgive': 1452, 'forgot': 1453, 'forgotten': 1454, 'fork': 1455, 'form': 1456, 'formed': 1457, 'forming': 1458, 'fortune': 1459, 'forty': 1460, 'forward': 1461, 'forwards': 1462, 'fought': 1463, 'foul': 1464, 'found': 1465, 'fountain': 1466, 'four': 1467, 'fourteen': 1468, 'fourth': 1469, 'fragment': 1470, 'fragments': 1471, 'frail': 1472, 'frame': 1473, 'frames': 1474, 'frank': 1475, 'frantic': 1476, 'frantically': 1477, 'fred': 1478, 'free': 1479, 'freedom': 1480, 'freezing': 1481, 'fresh': 1482, 'freshly': 1483, 'friday': 1484, 'friend': 1485, 'friendly': 1486, 'friends': 1487, 'friendship': 1488, 'fright': 1489, 'frightened': 1490, 'frightening': 1491, 'frog': 1492, 'front': 1493, 'frowned': 1494, 'frowning': 1495, 'froze': 1496, 'frozen': 1497, 'frustration': 1498, 'fudge': 1499, 'full': 1500, 'fully': 1501, 'fumbled': 1502, 'fun': 1503, 'funeral': 1504, 'funny': 1505, 'furious': 1506, 'furiously': 1507, 'fury': 1508, 'future': 1509, 'g': 1510, 'gain': 1511, 'gained': 1512, 'galleon': 1513, 'galleons': 1514, 'galloping': 1515, 'game': 1516, 'gamekeeper': 1517, 'games': 1518, 'gang': 1519, 'gap': 1520, 'gaped': 1521, 'gaping': 1522, 'garden': 1523, 'gargoyle': 1524, 'gas': 1525, 'gasp': 1526, 'gasped': 1527, 'gasping': 1528, 'gate': 1529, 'gates': 1530, 'gather': 1531, 'gathered': 1532, 'gathering': 1533, 'gaunt': 1534, 'gave': 1535, 'gaze': 1536, 'gazed': 1537, 'gazing': 1538, 'general': 1539, 'generally': 1540, 'gentle': 1541, 'gently': 1542, 'george': 1543, 'gesture': 1544, 'gestured': 1545, 'gesturing': 1546, 'get': 1547, 'gets': 1548, 'gettin': 1549, 'getting': 1550, 'ghost': 1551, 'ghostly': 1552, 'ghosts': 1553, 'giant': 1554, 'giants': 1555, 'gift': 1556, 'gigantic': 1557, 'giggled': 1558, 'giggling': 1559, 'gilderoy': 1560, 'ginger': 1561, 'ginny': 1562, 'girl': 1563, 'girlfriend': 1564, 'girls': 1565, 'git': 1566, 'give': 1567, 'given': 1568, 'gives': 1569, 'giving': 1570, 'glad': 1571, 'glance': 1572, 'glanced': 1573, 'glancing': 1574, 'glare': 1575, 'glared': 1576, 'glaring': 1577, 'glass': 1578, 'glasses': 1579, 'gleamed': 1580, 'gleaming': 1581, 'gleefully': 1582, 'glided': 1583, 'gliding': 1584, 'glimpse': 1585, 'glimpsed': 1586, 'glinting': 1587, 'glittered': 1588, 'glittering': 1589, 'gloom': 1590, 'gloomily': 1591, 'gloomy': 1592, 'glory': 1593, 'gloves': 1594, 'glow': 1595, 'glowed': 1596, 'glowering': 1597, 'glowing': 1598, 'gnarled': 1599, 'gnome': 1600, 'gnomes': 1601, 'go': 1602, 'goal': 1603, 'goals': 1604, 'goblet': 1605, 'goblets': 1606, 'goblin': 1607, 'goblins': 1608, 'god': 1609, 'godfather': 1610, 'godric': 1611, 'goes': 1612, 'goggling': 1613, 'goin': 1614, 'going': 1615, 'gold': 1616, 'golden': 1617, 'gone': 1618, 'good': 1619, 'goodness': 1620, 'got': 1621, 'gotta': 1622, 'gotten': 1623, 'gown': 1624, 'goyle': 1625, 'grab': 1626, 'grabbed': 1627, 'grabbing': 1628, 'grade': 1629, 'gran': 1630, 'grandfather': 1631, 'grandmother': 1632, 'granger': 1633, 'grasp': 1634, 'grasped': 1635, 'grass': 1636, 'grate': 1637, 'grateful': 1638, 'grave': 1639, 'graveyard': 1640, 'grawp': 1641, 'gray': 1642, 'greasy': 1643, 'great': 1644, 'greater': 1645, 'greatest': 1646, 'greatly': 1647, 'green': 1648, 'greenhouse': 1649, 'greenhouses': 1650, 'greenish': 1651, 'greeted': 1652, 'gregorovitch': 1653, 'grew': 1654, 'grey': 1655, 'greyback': 1656, 'grief': 1657, 'grim': 1658, 'grimly': 1659, 'grimmauld': 1660, 'grin': 1661, 'grindelwald': 1662, 'gringotts': 1663, 'grinned': 1664, 'grinning': 1665, 'grip': 1666, 'griphook': 1667, 'gripped': 1668, 'gripping': 1669, 'gritted': 1670, 'groan': 1671, 'groaned': 1672, 'groped': 1673, 'ground': 1674, 'grounds': 1675, 'group': 1676, 'groups': 1677, 'grow': 1678, 'growing': 1679, 'growled': 1680, 'grown': 1681, 'grubbly': 1682, 'grubby': 1683, 'gruffly': 1684, 'grumpily': 1685, 'grunted': 1686, 'gryffindor': 1687, 'gryffindors': 1688, 'guard': 1689, 'guarding': 1690, 'guards': 1691, 'guess': 1692, 'guessed': 1693, 'guests': 1694, 'guide': 1695, 'guilt': 1696, 'guilty': 1697, 'gulp': 1698, 'gulped': 1699, 'h': 1700, 'ha': 1701, 'habit': 1702, 'hagrid': 1703, 'hair': 1704, 'haired': 1705, 'hairs': 1706, 'hairy': 1707, 'half': 1708, 'halfway': 1709, 'hall': 1710, 'halloween': 1711, 'hallows': 1712, 'hallway': 1713, 'halt': 1714, 'hammering': 1715, 'hand': 1716, 'handbag': 1717, 'handed': 1718, 'handful': 1719, 'handing': 1720, 'handkerchief': 1721, 'handle': 1722, 'hands': 1723, 'handsome': 1724, 'hang': 1725, 'hanging': 1726, 'hangings': 1727, 'hannah': 1728, 'happen': 1729, 'happened': 1730, 'happening': 1731, 'happens': 1732, 'happier': 1733, 'happily': 1734, 'happiness': 1735, 'happy': 1736, 'hard': 1737, 'harder': 1738, 'hardly': 1739, 'harm': 1740, 'harry': 1741, 'harrys': 1742, 'harsh': 1743, 'hastily': 1744, 'hat': 1745, 'hate': 1746, 'hated': 1747, 'hatred': 1748, 'hats': 1749, 'head': 1750, 'headed': 1751, 'heading': 1752, 'headless': 1753, 'headline': 1754, 'headmaster': 1755, 'headmasters': 1756, 'headmistress': 1757, 'headquarters': 1758, 'heads': 1759, 'headstone': 1760, 'healer': 1761, 'health': 1762, 'heap': 1763, 'hear': 1764, 'heard': 1765, 'hearing': 1766, 'heart': 1767, 'heartily': 1768, 'heat': 1769, 'heaved': 1770, 'heaven': 1771, 'heavens': 1772, 'heavily': 1773, 'heaving': 1774, 'heavy': 1775, 'hedge': 1776, 'hedwig': 1777, 'heel': 1778, 'heels': 1779, 'height': 1780, 'heir': 1781, 'held': 1782, 'hell': 1783, 'hello': 1784, 'help': 1785, 'helped': 1786, 'helping': 1787, 'hem': 1788, 'hepzibah': 1789, 'herbology': 1790, 'hermione': 1791, 'hero': 1792, 'hesitated': 1793, 'hestia': 1794, 'hex': 1795, 'hexes': 1796, 'hey': 1797, 'hi': 1798, 'hic': 1799, 'hid': 1800, 'hidden': 1801, 'hide': 1802, 'hiding': 1803, 'high': 1804, 'higher': 1805, 'highest': 1806, 'highly': 1807, 'hill': 1808, 'hint': 1809, 'hippogriff': 1810, 'hiss': 1811, 'hissed': 1812, 'hissing': 1813, 'history': 1814, 'hit': 1815, 'hitting': 1816, 'hmm': 1817, 'hoarse': 1818, 'hoarsely': 1819, 'hog': 1820, 'hogsmeade': 1821, 'hogwarts': 1822, 'hoisted': 1823, 'hokey': 1824, 'hold': 1825, 'holding': 1826, 'hole': 1827, 'holes': 1828, 'holiday': 1829, 'holidays': 1830, 'hollow': 1831, 'holly': 1832, 'home': 1833, 'homework': 1834, 'honest': 1835, 'honestly': 1836, 'honeydukes': 1837, 'honor': 1838, 'hooch': 1839, 'hood': 1840, 'hooded': 1841, 'hooked': 1842, 'hoop': 1843, 'hoops': 1844, 'hooted': 1845, 'hooting': 1846, 'hope': 1847, 'hoped': 1848, 'hopeful': 1849, 'hopefully': 1850, 'hopelessly': 1851, 'hoping': 1852, 'horace': 1853, 'horcrux': 1854, 'horcruxes': 1855, 'horn': 1856, 'horned': 1857, 'horntail': 1858, 'horrible': 1859, 'horribly': 1860, 'horrified': 1861, 'horror': 1862, 'horse': 1863, 'horses': 1864, 'hospital': 1865, 'hot': 1866, 'hotly': 1867, 'hour': 1868, 'hours': 1869, 'house': 1870, 'houses': 1871, 'hovering': 1872, 'however': 1873, 'howl': 1874, 'howled': 1875, 'howler': 1876, 'howling': 1877, 'huddled': 1878, 'hufflepuff': 1879, 'hufflepuffs': 1880, 'hug': 1881, 'huge': 1882, 'hugged': 1883, 'hugging': 1884, 'human': 1885, 'humans': 1886, 'hundred': 1887, 'hundreds': 1888, 'hung': 1889, 'hungry': 1890, 'hunt': 1891, 'hunting': 1892, 'hurried': 1893, 'hurriedly': 1894, 'hurry': 1895, 'hurrying': 1896, 'hurt': 1897, 'hurting': 1898, 'hurtled': 1899, 'hurtling': 1900, 'husband': 1901, 'hushed': 1902, 'hut': 1903, 'ice': 1904, 'icy': 1905, 'id': 1906, 'idea': 1907, 'ideas': 1908, 'identical': 1909, 'idiot': 1910, 'ignore': 1911, 'ignored': 1912, 'ignoring': 1913, 'ill': 1914, 'illegal': 1915, 'illuminated': 1916, 'im': 1917, 'image': 1918, 'imagination': 1919, 'imagine': 1920, 'imagined': 1921, 'imagining': 1922, 'immediate': 1923, 'immediately': 1924, 'immense': 1925, 'immensely': 1926, 'impatiently': 1927, 'imperius': 1928, 'importance': 1929, 'important': 1930, 'impossible': 1931, 'impressed': 1932, 'impression': 1933, 'impressive': 1934, 'incantation': 1935, 'inch': 1936, 'inches': 1937, 'including': 1938, 'increased': 1939, 'increasingly': 1940, 'incredible': 1941, 'incredulously': 1942, 'indeed': 1943, 'indicated': 1944, 'indicating': 1945, 'indignantly': 1946, 'indignation': 1947, 'inferi': 1948, 'information': 1949, 'informed': 1950, 'ing': 1951, 'ingredients': 1952, 'inherited': 1953, 'injured': 1954, 'injuries': 1955, 'injury': 1956, 'ink': 1957, 'inner': 1958, 'innocent': 1959, 'inquisitor': 1960, 'insane': 1961, 'inside': 1962, 'insides': 1963, 'insisted': 1964, 'instance': 1965, 'instant': 1966, 'instantly': 1967, 'instead': 1968, 'instinctively': 1969, 'instructions': 1970, 'instruments': 1971, 'insult': 1972, 'intended': 1973, 'intent': 1974, 'intently': 1975, 'inter': 1976, 'interest': 1977, 'interested': 1978, 'interesting': 1979, 'international': 1980, 'interrupted': 1981, 'interview': 1982, 'introduce': 1983, 'invented': 1984, 'investigate': 1985, 'invisibility': 1986, 'invisible': 1987, 'invitation': 1988, 'invite': 1989, 'invited': 1990, 'involved': 1991, 'ireland': 1992, 'irish': 1993, 'iron': 1994, 'irritably': 1995, 'irritated': 1996, 'issued': 1997, 'issuing': 1998, 'jacket': 1999, 'james': 2000, 'jar': 2001, 'jaw': 2002, 'jealous': 2003, 'jeans': 2004, 'jeering': 2005, 'jerk': 2006, 'jerked': 2007, 'jerking': 2008, 'jet': 2009, 'jets': 2010, 'jinx': 2011, 'jinxes': 2012, 'job': 2013, 'johnson': 2014, 'join': 2015, 'joined': 2016, 'joining': 2017, 'joke': 2018, 'joking': 2019, 'jolt': 2020, 'jordan': 2021, 'jorkins': 2022, 'journey': 2023, 'judge': 2024, 'judges': 2025, 'judging': 2026, 'jug': 2027, 'juice': 2028, 'jump': 2029, 'jumped': 2030, 'jumping': 2031, 'june': 2032, 'jus': 2033, 'justin': 2034, 'karkaroff': 2035, 'katie': 2036, 'kedavra': 2037, 'keen': 2038, 'keep': 2039, 'keeper': 2040, 'keeping': 2041, 'keeps': 2042, 'kendra': 2043, 'kept': 2044, 'kettle': 2045, 'key': 2046, 'keys': 2047, 'kick': 2048, 'kicked': 2049, 'kid': 2050, 'kidding': 2051, 'kids': 2052, 'kill': 2053, 'killed': 2054, 'killing': 2055, 'kind': 2056, 'kindly': 2057, 'king': 2058, 'kingsley': 2059, 'kiss': 2060, 'kissed': 2061, 'kissing': 2062, 'kitchen': 2063, 'kitchens': 2064, 'knee': 2065, 'kneeling': 2066, 'knees': 2067, 'knew': 2068, 'knife': 2069, 'knight': 2070, 'knives': 2071, 'knock': 2072, 'knocked': 2073, 'knocking': 2074, 'knot': 2075, 'know': 2076, 'knowing': 2077, 'knowledge': 2078, 'known': 2079, 'knows': 2080, 'knuckles': 2081, 'kreacher': 2082, 'krum': 2083, 'l': 2084, 'lace': 2085, 'lack': 2086, 'ladder': 2087, 'laden': 2088, 'ladies': 2089, 'lady': 2090, 'laid': 2091, 'lake': 2092, 'lamp': 2093, 'lamps': 2094, 'land': 2095, 'landed': 2096, 'landing': 2097, 'lane': 2098, 'language': 2099, 'lantern': 2100, 'lap': 2101, 'large': 2102, 'larger': 2103, 'largest': 2104, 'last': 2105, 'lasted': 2106, 'late': 2107, 'lately': 2108, 'later': 2109, 'laugh': 2110, 'laughed': 2111, 'laughing': 2112, 'laughter': 2113, 'launched': 2114, 'lavender': 2115, 'law': 2116, 'lawn': 2117, 'lawns': 2118, 'lay': 2119, 'lazily': 2120, 'lead': 2121, 'leading': 2122, 'league': 2123, 'leaky': 2124, 'leaned': 2125, 'leaning': 2126, 'leanne': 2127, 'leap': 2128, 'leaping': 2129, 'leapt': 2130, 'learn': 2131, 'learned': 2132, 'learning': 2133, 'least': 2134, 'leather': 2135, 'leave': 2136, 'leaves': 2137, 'leaving': 2138, 'led': 2139, 'lee': 2140, 'left': 2141, 'leg': 2142, 'legged': 2143, 'legs': 2144, 'length': 2145, 'less': 2146, 'lesson': 2147, 'lessons': 2148, 'lestrange': 2149, 'let': 2150, 'letter': 2151, 'letters': 2152, 'letting': 2153, 'level': 2154, 'liar': 2155, 'library': 2156, 'lid': 2157, 'lie': 2158, 'lied': 2159, 'lies': 2160, 'life': 2161, 'lift': 2162, 'lifted': 2163, 'lifting': 2164, 'light': 2165, 'lightly': 2166, 'lightning': 2167, 'lights': 2168, 'like': 2169, 'liked': 2170, 'likely': 2171, 'likes': 2172, 'liking': 2173, 'lily': 2174, 'lime': 2175, 'limp': 2176, 'limped': 2177, 'limping': 2178, 'line': 2179, 'lined': 2180, 'lines': 2181, 'lingered': 2182, 'lip': 2183, 'lips': 2184, 'liquid': 2185, 'list': 2186, 'listen': 2187, 'listened': 2188, 'listening': 2189, 'lit': 2190, 'littered': 2191, 'little': 2192, 'live': 2193, 'lived': 2194, 'lives': 2195, 'livid': 2196, 'living': 2197, 'load': 2198, 'loads': 2199, 'loathed': 2200, 'lock': 2201, 'locked': 2202, 'locker': 2203, 'locket': 2204, 'lockhart': 2205, 'london': 2206, 'lonely': 2207, 'long': 2208, 'longbottom': 2209, 'longer': 2210, 'longing': 2211, 'look': 2212, 'looked': 2213, 'lookin': 2214, 'looking': 2215, 'lookout': 2216, 'looks': 2217, 'loony': 2218, 'loose': 2219, 'lopsided': 2220, 'lord': 2221, 'lose': 2222, 'losing': 2223, 'loss': 2224, 'lost': 2225, 'lot': 2226, 'lots': 2227, 'loud': 2228, 'louder': 2229, 'loudly': 2230, 'love': 2231, 'loved': 2232, 'lovegood': 2233, 'lovely': 2234, 'low': 2235, 'lower': 2236, 'lowered': 2237, 'lowering': 2238, 'lucius': 2239, 'luck': 2240, 'lucky': 2241, 'ludo': 2242, 'luggage': 2243, 'lumos': 2244, 'lump': 2245, 'luna': 2246, 'lunch': 2247, 'lunged': 2248, 'lungs': 2249, 'lupin': 2250, 'lurking': 2251, 'lying': 2252, 'lynch': 2253, 'macmillan': 2254, 'macnair': 2255, 'mad': 2256, 'madam': 2257, 'madame': 2258, 'made': 2259, 'madly': 2260, 'mafalda': 2261, 'magazine': 2262, 'magic': 2263, 'magical': 2264, 'magically': 2265, 'magnificent': 2266, 'magnified': 2267, 'magnolia': 2268, 'magorian': 2269, 'mail': 2270, 'main': 2271, 'mainly': 2272, 'make': 2273, 'makes': 2274, 'making': 2275, 'malfoy': 2276, 'malfoys': 2277, 'malkin': 2278, 'man': 2279, 'manage': 2280, 'managed': 2281, 'managing': 2282, 'mane': 2283, 'manner': 2284, 'mantelpiece': 2285, 'many': 2286, 'map': 2287, 'marauder': 2288, 'marble': 2289, 'march': 2290, 'marchbanks': 2291, 'marched': 2292, 'marching': 2293, 'marge': 2294, 'marietta': 2295, 'mark': 2296, 'marked': 2297, 'marks': 2298, 'maroon': 2299, 'marquee': 2300, 'married': 2301, 'marvolo': 2302, 'masked': 2303, 'mass': 2304, 'massive': 2305, 'master': 2306, 'masters': 2307, 'match': 2308, 'mate': 2309, 'matter': 2310, 'matters': 2311, 'maxime': 2312, 'may': 2313, 'maybe': 2314, 'maze': 2315, 'mcgonagall': 2316, 'mclaggen': 2317, 'mead': 2318, 'mean': 2319, 'meaning': 2320, 'means': 2321, 'meant': 2322, 'meantime': 2323, 'meanwhile': 2324, 'measure': 2325, 'measures': 2326, 'meet': 2327, 'meeting': 2328, 'meetings': 2329, 'member': 2330, 'members': 2331, 'memories': 2332, 'memory': 2333, 'men': 2334, 'mend': 2335, 'mental': 2336, 'mention': 2337, 'mentioned': 2338, 'mercy': 2339, 'mere': 2340, 'merely': 2341, 'merlin': 2342, 'merope': 2343, 'merpeople': 2344, 'merry': 2345, 'mess': 2346, 'message': 2347, 'messing': 2348, 'met': 2349, 'metal': 2350, 'michael': 2351, 'mid': 2352, 'midair': 2353, 'middle': 2354, 'midnight': 2355, 'midst': 2356, 'might': 2357, 'mildly': 2358, 'miles': 2359, 'milk': 2360, 'millicent': 2361, 'mind': 2362, 'minds': 2363, 'mine': 2364, 'minerva': 2365, 'mingled': 2366, 'minister': 2367, 'ministry': 2368, 'minute': 2369, 'minutes': 2370, 'mirror': 2371, 'miserable': 2372, 'miserably': 2373, 'miss': 2374, 'missed': 2375, 'missing': 2376, 'mission': 2377, 'mist': 2378, 'mistake': 2379, 'mistaken': 2380, 'mistress': 2381, 'misty': 2382, 'mixed': 2383, 'mixture': 2384, 'moan': 2385, 'moaned': 2386, 'moaning': 2387, 'model': 2388, 'molly': 2389, 'mom': 2390, 'moment': 2391, 'momentarily': 2392, 'moments': 2393, 'mon': 2394, 'monday': 2395, 'money': 2396, 'monster': 2397, 'monsters': 2398, 'monstrous': 2399, 'montague': 2400, 'month': 2401, 'months': 2402, 'mood': 2403, 'moody': 2404, 'moon': 2405, 'moonlight': 2406, 'mopping': 2407, 'morfin': 2408, 'morning': 2409, 'mortal': 2410, 'mother': 2411, 'motionless': 2412, 'motorbike': 2413, 'mountain': 2414, 'mountains': 2415, 'mounted': 2416, 'mouth': 2417, 'mouthed': 2418, 'mouthful': 2419, 'mouths': 2420, 'move': 2421, 'moved': 2422, 'movement': 2423, 'movements': 2424, 'moving': 2425, 'mr': 2426, 'mrs': 2427, 'much': 2428, 'mud': 2429, 'mudblood': 2430, 'mudbloods': 2431, 'muddy': 2432, 'muffled': 2433, 'mug': 2434, 'muggle': 2435, 'muggles': 2436, 'mum': 2437, 'mumbled': 2438, 'mundungus': 2439, 'mungo': 2440, 'murder': 2441, 'murdered': 2442, 'murderer': 2443, 'muriel': 2444, 'murmur': 2445, 'murmured': 2446, 'music': 2447, 'must': 2448, 'mustache': 2449, 'muttered': 2450, 'muttering': 2451, 'myrtle': 2452, 'mysteries': 2453, 'mysterious': 2454, 'n': 2455, 'nagini': 2456, 'nah': 2457, 'name': 2458, 'named': 2459, 'names': 2460, 'narcissa': 2461, 'narrow': 2462, 'narrowed': 2463, 'narrowly': 2464, 'nasty': 2465, 'natural': 2466, 'naturally': 2467, 'nature': 2468, 'near': 2469, 'nearby': 2470, 'nearer': 2471, 'nearest': 2472, 'nearly': 2473, 'neat': 2474, 'neatly': 2475, 'necessary': 2476, 'neck': 2477, 'necklace': 2478, 'necks': 2479, 'need': 2480, 'needed': 2481, 'needs': 2482, 'neither': 2483, 'nerve': 2484, 'nerves': 2485, 'nervous': 2486, 'nervously': 2487, 'network': 2488, 'never': 2489, 'nevertheless': 2490, 'neville': 2491, 'new': 2492, 'newly': 2493, 'news': 2494, 'newspaper': 2495, 'next': 2496, 'nice': 2497, 'nick': 2498, 'nicolas': 2499, 'nigellus': 2500, 'night': 2501, 'nightmare': 2502, 'nimbus': 2503, 'nine': 2504, 'ninety': 2505, 'noble': 2506, 'nobody': 2507, 'nod': 2508, 'nodded': 2509, 'nodding': 2510, 'noise': 2511, 'noises': 2512, 'noisy': 2513, 'non': 2514, 'none': 2515, 'nonsense': 2516, 'norbert': 2517, 'normal': 2518, 'normally': 2519, 'norris': 2520, 'north': 2521, 'nose': 2522, 'noses': 2523, 'nostrils': 2524, 'note': 2525, 'notes': 2526, 'nothin': 2527, 'nothing': 2528, 'notice': 2529, 'noticed': 2530, 'noticing': 2531, 'nowhere': 2532, 'nudged': 2533, 'numb': 2534, 'number': 2535, 'oak': 2536, 'obey': 2537, 'object': 2538, 'objects': 2539, 'obscured': 2540, 'obsessed': 2541, 'obvious': 2542, 'obviously': 2543, 'occasion': 2544, 'occasionally': 2545, 'occasions': 2546, 'occlumency': 2547, 'occurred': 2548, 'october': 2549, 'odd': 2550, 'oddly': 2551, 'offer': 2552, 'offered': 2553, 'offering': 2554, 'office': 2555, 'official': 2556, 'often': 2557, 'ogden': 2558, 'oh': 2559, 'oi': 2560, 'ok': 2561, 'okay': 2562, 'old': 2563, 'older': 2564, 'oldest': 2565, 'oliver': 2566, 'ollivander': 2567, 'ominous': 2568, 'omnioculars': 2569, 'one': 2570, 'ones': 2571, 'onto': 2572, 'oooh': 2573, 'open': 2574, 'opened': 2575, 'opening': 2576, 'opinion': 2577, 'opportunity': 2578, 'opposite': 2579, 'orange': 2580, 'order': 2581, 'ordered': 2582, 'orders': 2583, 'ordinary': 2584, 'original': 2585, 'orphanage': 2586, 'others': 2587, 'otherwise': 2588, 'ouch': 2589, 'ought': 2590, 'outline': 2591, 'outraged': 2592, 'outside': 2593, 'outstanding': 2594, 'outstretched': 2595, 'outta': 2596, 'overcome': 2597, 'overgrown': 2598, 'overhead': 2599, 'overheard': 2600, 'ow': 2601, 'owe': 2602, 'owl': 2603, 'owlery': 2604, 'owls': 2605, 'owned': 2606, 'owner': 2607, 'owners': 2608, 'p': 2609, 'pace': 2610, 'paces': 2611, 'pacing': 2612, 'pack': 2613, 'package': 2614, 'packed': 2615, 'packing': 2616, 'paddock': 2617, 'padma': 2618, 'page': 2619, 'pages': 2620, 'paid': 2621, 'pain': 2622, 'painful': 2623, 'painfully': 2624, 'painted': 2625, 'painting': 2626, 'pair': 2627, 'pairs': 2628, 'pajamas': 2629, 'pale': 2630, 'paler': 2631, 'palm': 2632, 'panic': 2633, 'panicked': 2634, 'pansy': 2635, 'panted': 2636, 'panting': 2637, 'paper': 2638, 'papers': 2639, 'parcel': 2640, 'parchment': 2641, 'parents': 2642, 'parkinson': 2643, 'parseltongue': 2644, 'part': 2645, 'parted': 2646, 'particular': 2647, 'particularly': 2648, 'partner': 2649, 'party': 2650, 'parvati': 2651, 'pass': 2652, 'passage': 2653, 'passageway': 2654, 'passed': 2655, 'passing': 2656, 'password': 2657, 'past': 2658, 'patch': 2659, 'patches': 2660, 'path': 2661, 'pathetic': 2662, 'patil': 2663, 'patronum': 2664, 'patronus': 2665, 'patted': 2666, 'patting': 2667, 'pause': 2668, 'paused': 2669, 'pausing': 2670, 'pavement': 2671, 'pay': 2672, 'paying': 2673, 'peace': 2674, 'pearly': 2675, 'peculiar': 2676, 'peeling': 2677, 'peered': 2678, 'peering': 2679, 'peeves': 2680, 'penalty': 2681, 'penetrate': 2682, 'pensieve': 2683, 'people': 2684, 'perch': 2685, 'perched': 2686, 'percy': 2687, 'perfect': 2688, 'perfectly': 2689, 'perform': 2690, 'performed': 2691, 'perhaps': 2692, 'permission': 2693, 'permit': 2694, 'permitted': 2695, 'perplexed': 2696, 'person': 2697, 'personal': 2698, 'personally': 2699, 'persuade': 2700, 'persuaded': 2701, 'pet': 2702, 'peter': 2703, 'petrified': 2704, 'pettigrew': 2705, 'petunia': 2706, 'phineas': 2707, 'phoenix': 2708, 'photograph': 2709, 'photographs': 2710, 'pick': 2711, 'picked': 2712, 'picking': 2713, 'picture': 2714, 'pictures': 2715, 'pie': 2716, 'piece': 2717, 'pieces': 2718, 'piercing': 2719, 'piers': 2720, 'pig': 2721, 'pigwidgeon': 2722, 'pile': 2723, 'piles': 2724, 'pillow': 2725, 'pillows': 2726, 'pince': 2727, 'pink': 2728, 'pinned': 2729, 'pipe': 2730, 'pit': 2731, 'pitch': 2732, 'pitched': 2733, 'pity': 2734, 'place': 2735, 'placed': 2736, 'places': 2737, 'placing': 2738, 'plain': 2739, 'plainly': 2740, 'plan': 2741, 'plank': 2742, 'planned': 2743, 'planning': 2744, 'plans': 2745, 'plant': 2746, 'plants': 2747, 'plate': 2748, 'plates': 2749, 'platform': 2750, 'play': 2751, 'played': 2752, 'player': 2753, 'players': 2754, 'playing': 2755, 'pleasant': 2756, 'pleasantly': 2757, 'please': 2758, 'pleased': 2759, 'pleasure': 2760, 'plenty': 2761, 'plump': 2762, 'plunged': 2763, 'pocket': 2764, 'pockets': 2765, 'point': 2766, 'pointed': 2767, 'pointing': 2768, 'pointless': 2769, 'points': 2770, 'poison': 2771, 'poisonous': 2772, 'poke': 2773, 'poked': 2774, 'poking': 2775, 'police': 2776, 'polished': 2777, 'polite': 2778, 'politely': 2779, 'poltergeist': 2780, 'polyjuice': 2781, 'pomfrey': 2782, 'pool': 2783, 'poor': 2784, 'pop': 2785, 'popping': 2786, 'popular': 2787, 'porridge': 2788, 'portkey': 2789, 'portrait': 2790, 'portraits': 2791, 'pose': 2792, 'position': 2793, 'positively': 2794, 'possess': 2795, 'possessed': 2796, 'possession': 2797, 'possessions': 2798, 'possibility': 2799, 'possible': 2800, 'possibly': 2801, 'post': 2802, 'poster': 2803, 'posters': 2804, 'posts': 2805, 'pot': 2806, 'potato': 2807, 'potion': 2808, 'potions': 2809, 'pots': 2810, 'potter': 2811, 'potters': 2812, 'pouch': 2813, 'pounded': 2814, 'pounding': 2815, 'poured': 2816, 'pouring': 2817, 'powder': 2818, 'power': 2819, 'powerful': 2820, 'powers': 2821, 'practical': 2822, 'practice': 2823, 'practices': 2824, 'practicing': 2825, 'practise': 2826, 'prat': 2827, 'precious': 2828, 'precisely': 2829, 'prefect': 2830, 'prefects': 2831, 'prefer': 2832, 'preferred': 2833, 'prepared': 2834, 'preparing': 2835, 'presence': 2836, 'present': 2837, 'presents': 2838, 'press': 2839, 'pressed': 2840, 'pressing': 2841, 'pressure': 2842, 'pretend': 2843, 'pretended': 2844, 'pretending': 2845, 'pretty': 2846, 'prevent': 2847, 'previous': 2848, 'previously': 2849, 'price': 2850, 'prickling': 2851, 'pride': 2852, 'prime': 2853, 'prince': 2854, 'prison': 2855, 'prisoners': 2856, 'private': 2857, 'privet': 2858, 'prize': 2859, 'probably': 2860, 'problem': 2861, 'problems': 2862, 'proceeded': 2863, 'prodding': 2864, 'produce': 2865, 'professor': 2866, 'professors': 2867, 'progress': 2868, 'promise': 2869, 'promised': 2870, 'promptly': 2871, 'pronounced': 2872, 'proof': 2873, 'proper': 2874, 'properly': 2875, 'prophecy': 2876, 'prophet': 2877, 'propped': 2878, 'prospect': 2879, 'protect': 2880, 'protected': 2881, 'protection': 2882, 'protective': 2883, 'protest': 2884, 'protruding': 2885, 'proud': 2886, 'proudly': 2887, 'prove': 2888, 'proved': 2889, 'pub': 2890, 'public': 2891, 'pudding': 2892, 'puffy': 2893, 'pull': 2894, 'pulled': 2895, 'pulling': 2896, 'pumpkin': 2897, 'punched': 2898, 'punching': 2899, 'punish': 2900, 'punished': 2901, 'punishment': 2902, 'pupils': 2903, 'pure': 2904, 'purple': 2905, 'purpose': 2906, 'pus': 2907, 'push': 2908, 'pushed': 2909, 'pushing': 2910, 'put': 2911, 'putting': 2912, 'puzzled': 2913, 'quaffle': 2914, 'quality': 2915, 'quarter': 2916, 'quarters': 2917, 'question': 2918, 'questioning': 2919, 'questions': 2920, 'queue': 2921, 'quibbler': 2922, 'quick': 2923, 'quickly': 2924, 'quidditch': 2925, 'quiet': 2926, 'quietly': 2927, 'quill': 2928, 'quills': 2929, 'quirrell': 2930, 'quite': 2931, 'quivering': 2932, 'quot': 2933, 'r': 2934, 'race': 2935, 'racing': 2936, 'rack': 2937, 'rage': 2938, 'ragged': 2939, 'rain': 2940, 'raise': 2941, 'raised': 2942, 'raising': 2943, 'ran': 2944, 'random': 2945, 'rang': 2946, 'range': 2947, 'rapidly': 2948, 'rare': 2949, 'rarely': 2950, 'rat': 2951, 'rather': 2952, 'rats': 2953, 'rattled': 2954, 'rattling': 2955, 'ravenclaw': 2956, 'ravenclaws': 2957, 'raw': 2958, 'reach': 2959, 'reached': 2960, 'reaching': 2961, 'reaction': 2962, 'read': 2963, 'reading': 2964, 'ready': 2965, 'real': 2966, 'realise': 2967, 'realised': 2968, 'realize': 2969, 'realized': 2970, 'realizing': 2971, 'really': 2972, 'reappeared': 2973, 'rear': 2974, 'reason': 2975, 'reasonable': 2976, 'reasonably': 2977, 'reasons': 2978, 'receive': 2979, 'received': 2980, 'recent': 2981, 'recently': 2982, 'reckon': 2983, 'reckons': 2984, 'recognised': 2985, 'recognize': 2986, 'recognized': 2987, 'record': 2988, 'red': 2989, 'reflected': 2990, 'reflection': 2991, 'refuse': 2992, 'refused': 2993, 'refusing': 2994, 'register': 2995, 'regret': 2996, 'regular': 2997, 'regulus': 2998, 'related': 2999, 'relatives': 3000, 'relaxed': 3001, 'release': 3002, 'released': 3003, 'relief': 3004, 'relieved': 3005, 'reluctantly': 3006, 'remain': 3007, 'remained': 3008, 'remaining': 3009, 'remains': 3010, 'remember': 3011, 'remembered': 3012, 'remembering': 3013, 'remind': 3014, 'reminded': 3015, 'reminding': 3016, 'remorse': 3017, 'remove': 3018, 'removed': 3019, 'remus': 3020, 'repair': 3021, 'repaired': 3022, 'repeat': 3023, 'repeated': 3024, 'replaced': 3025, 'replied': 3026, 'reply': 3027, 'report': 3028, 'reported': 3029, 'request': 3030, 'require': 3031, 'required': 3032, 'requirement': 3033, 'rescue': 3034, 'resembled': 3035, 'resentful': 3036, 'resigned': 3037, 'resist': 3038, 'respect': 3039, 'respond': 3040, 'response': 3041, 'responsibility': 3042, 'responsible': 3043, 'rest': 3044, 'rested': 3045, 'resting': 3046, 'results': 3047, 'resumed': 3048, 'retreated': 3049, 'retrieve': 3050, 'return': 3051, 'returned': 3052, 'returning': 3053, 'reveal': 3054, 'revealed': 3055, 'revealing': 3056, 'revenge': 3057, 'revolving': 3058, 'reward': 3059, 'ribs': 3060, 'rid': 3061, 'riddikulus': 3062, 'riddle': 3063, 'riddles': 3064, 'ride': 3065, 'ridiculous': 3066, 'righ': 3067, 'right': 3068, 'rigid': 3069, 'ring': 3070, 'ringing': 3071, 'rip': 3072, 'ripped': 3073, 'ripping': 3074, 'rippling': 3075, 'rise': 3076, 'risen': 3077, 'rising': 3078, 'risk': 3079, 'rita': 3080, 'river': 3081, 'road': 3082, 'roar': 3083, 'roared': 3084, 'roaring': 3085, 'robe': 3086, 'roberts': 3087, 'robes': 3088, 'rock': 3089, 'roger': 3090, 'roll': 3091, 'rolled': 3092, 'rolling': 3093, 'rolls': 3094, 'romilda': 3095, 'ron': 3096, 'ronald': 3097, 'ronan': 3098, 'roof': 3099, 'rookwood': 3100, 'room': 3101, 'rooms': 3102, 'roots': 3103, 'rope': 3104, 'ropes': 3105, 'rose': 3106, 'rosmerta': 3107, 'rough': 3108, 'roughly': 3109, 'round': 3110, 'rounded': 3111, 'row': 3112, 'rows': 3113, 'rubbed': 3114, 'rubbing': 3115, 'rubbish': 3116, 'rucksack': 3117, 'ruddy': 3118, 'rude': 3119, 'ruffled': 3120, 'rufus': 3121, 'ruined': 3122, 'rule': 3123, 'rules': 3124, 'rumbling': 3125, 'rummaged': 3126, 'rummaging': 3127, 'rumors': 3128, 'run': 3129, 'runes': 3130, 'running': 3131, 'rush': 3132, 'rushed': 3133, 'rushing': 3134, 'rustling': 3135, 'sack': 3136, 'sacked': 3137, 'sad': 3138, 'sadly': 3139, 'safe': 3140, 'safely': 3141, 'safety': 3142, 'said': 3143, 'sake': 3144, 'sallow': 3145, 'sank': 3146, 'sarcastically': 3147, 'sat': 3148, 'satisfaction': 3149, 'satisfied': 3150, 'saturday': 3151, 'sausages': 3152, 'savagely': 3153, 'save': 3154, 'saved': 3155, 'saving': 3156, 'saw': 3157, 'say': 3158, 'saying': 3159, 'says': 3160, 'scabbers': 3161, 'scabior': 3162, 'scales': 3163, 'scanned': 3164, 'scanning': 3165, 'scar': 3166, 'scared': 3167, 'scarlet': 3168, 'scars': 3169, 'scarves': 3170, 'scattered': 3171, 'scene': 3172, 'schedule': 3173, 'school': 3174, 'schoolbag': 3175, 'scooped': 3176, 'score': 3177, 'scored': 3178, 'scowled': 3179, 'scowling': 3180, 'scrambled': 3181, 'scratched': 3182, 'scratching': 3183, 'scream': 3184, 'screamed': 3185, 'screaming': 3186, 'screams': 3187, 'screech': 3188, 'screeched': 3189, 'screwed': 3190, 'scribbled': 3191, 'scribbling': 3192, 'scrimgeour': 3193, 'scroll': 3194, 'scum': 3195, 'scurrying': 3196, 'sea': 3197, 'sealed': 3198, 'seamus': 3199, 'search': 3200, 'searched': 3201, 'searching': 3202, 'seared': 3203, 'seat': 3204, 'seated': 3205, 'seats': 3206, 'second': 3207, 'seconds': 3208, 'secrecy': 3209, 'secret': 3210, 'secrets': 3211, 'section': 3212, 'secure': 3213, 'security': 3214, 'see': 3215, 'seeing': 3216, 'seek': 3217, 'seeker': 3218, 'seeking': 3219, 'seem': 3220, 'seemed': 3221, 'seems': 3222, 'seen': 3223, 'sees': 3224, 'seize': 3225, 'seized': 3226, 'seizing': 3227, 'self': 3228, 'sell': 3229, 'send': 3230, 'sending': 3231, 'sensation': 3232, 'sense': 3233, 'sensed': 3234, 'senses': 3235, 'sent': 3236, 'sentence': 3237, 'separate': 3238, 'separated': 3239, 'september': 3240, 'serenely': 3241, 'series': 3242, 'serious': 3243, 'seriously': 3244, 'serpent': 3245, 'servant': 3246, 'serve': 3247, 'served': 3248, 'service': 3249, 'set': 3250, 'setting': 3251, 'settle': 3252, 'settled': 3253, 'seven': 3254, 'seventeen': 3255, 'seventh': 3256, 'several': 3257, 'severe': 3258, 'severely': 3259, 'severus': 3260, 'shabby': 3261, 'shack': 3262, 'shacklebolt': 3263, 'shade': 3264, 'shadow': 3265, 'shadows': 3266, 'shadowy': 3267, 'shaggy': 3268, 'shake': 3269, 'shaken': 3270, 'shakily': 3271, 'shaking': 3272, 'shall': 3273, 'shame': 3274, 'shape': 3275, 'shaped': 3276, 'shapes': 3277, 'share': 3278, 'shared': 3279, 'sharing': 3280, 'sharp': 3281, 'sharply': 3282, 'shattered': 3283, 'sheet': 3284, 'sheets': 3285, 'shelf': 3286, 'shell': 3287, 'shelves': 3288, 'shh': 3289, 'shield': 3290, 'shifted': 3291, 'shifting': 3292, 'shimmering': 3293, 'shining': 3294, 'shiny': 3295, 'ship': 3296, 'shirt': 3297, 'shivered': 3298, 'shivering': 3299, 'shock': 3300, 'shocked': 3301, 'shoes': 3302, 'shone': 3303, 'shook': 3304, 'shooting': 3305, 'shop': 3306, 'shopping': 3307, 'shops': 3308, 'short': 3309, 'shorter': 3310, 'shortly': 3311, 'shot': 3312, 'shoulder': 3313, 'shoulders': 3314, 'shout': 3315, 'shouted': 3316, 'shouting': 3317, 'shouts': 3318, 'shoved': 3319, 'show': 3320, 'showed': 3321, 'shower': 3322, 'showing': 3323, 'shown': 3324, 'shows': 3325, 'shriek': 3326, 'shrieked': 3327, 'shrieking': 3328, 'shrilly': 3329, 'shrinking': 3330, 'shrugged': 3331, 'shrugging': 3332, 'shudder': 3333, 'shuddered': 3334, 'shuddering': 3335, 'shuffled': 3336, 'shuffling': 3337, 'shunpike': 3338, 'shut': 3339, 'sick': 3340, 'sickles': 3341, 'side': 3342, 'sidecar': 3343, 'sides': 3344, 'sideways': 3345, 'sigh': 3346, 'sighed': 3347, 'sight': 3348, 'sign': 3349, 'signed': 3350, 'signs': 3351, 'silence': 3352, 'silent': 3353, 'silently': 3354, 'silk': 3355, 'silly': 3356, 'silver': 3357, 'silvery': 3358, 'simple': 3359, 'simply': 3360, 'since': 3361, 'sincerely': 3362, 'singing': 3363, 'single': 3364, 'sinister': 3365, 'sink': 3366, 'sinking': 3367, 'sir': 3368, 'sirius': 3369, 'sister': 3370, 'sisters': 3371, 'sit': 3372, 'sitting': 3373, 'situation': 3374, 'six': 3375, 'sixteen': 3376, 'sixth': 3377, 'sixty': 3378, 'size': 3379, 'sized': 3380, 'skeeter': 3381, 'skidded': 3382, 'skin': 3383, 'skinny': 3384, 'skrewt': 3385, 'skrewts': 3386, 'skull': 3387, 'sky': 3388, 'slammed': 3389, 'slamming': 3390, 'sleek': 3391, 'sleep': 3392, 'sleeping': 3393, 'sleepy': 3394, 'sleeve': 3395, 'sleeves': 3396, 'slept': 3397, 'slid': 3398, 'slide': 3399, 'sliding': 3400, 'slight': 3401, 'slightest': 3402, 'slightly': 3403, 'slimy': 3404, 'slip': 3405, 'slipped': 3406, 'slipping': 3407, 'slit': 3408, 'slithering': 3409, 'slits': 3410, 'sloping': 3411, 'slow': 3412, 'slowed': 3413, 'slowly': 3414, 'slug': 3415, 'slughorn': 3416, 'slugs': 3417, 'slumped': 3418, 'slytherin': 3419, 'slytherins': 3420, 'small': 3421, 'smaller': 3422, 'smallest': 3423, 'smart': 3424, 'smashed': 3425, 'smell': 3426, 'smelled': 3427, 'smile': 3428, 'smiled': 3429, 'smiling': 3430, 'smirked': 3431, 'smirking': 3432, 'smith': 3433, 'smoke': 3434, 'smoking': 3435, 'smooth': 3436, 'smoothly': 3437, 'snake': 3438, 'snakelike': 3439, 'snakes': 3440, 'snap': 3441, 'snape': 3442, 'snapped': 3443, 'snapping': 3444, 'snarled': 3445, 'snatched': 3446, 'snatching': 3447, 'sneak': 3448, 'sneaked': 3449, 'sneaking': 3450, 'sneakoscope': 3451, 'sneer': 3452, 'sneered': 3453, 'sneering': 3454, 'sniffed': 3455, 'sniggered': 3456, 'snitch': 3457, 'snorted': 3458, 'snout': 3459, 'snow': 3460, 'snowy': 3461, 'soared': 3462, 'soaring': 3463, 'sob': 3464, 'sobbed': 3465, 'sobbing': 3466, 'sobs': 3467, 'socks': 3468, 'sofa': 3469, 'soft': 3470, 'softly': 3471, 'solid': 3472, 'solution': 3473, 'somebody': 3474, 'somehow': 3475, 'someone': 3476, 'something': 3477, 'sometimes': 3478, 'somewhat': 3479, 'somewhere': 3480, 'son': 3481, 'song': 3482, 'sons': 3483, 'soon': 3484, 'sooner': 3485, 'sorcerer': 3486, 'sorry': 3487, 'sort': 3488, 'sorted': 3489, 'sorting': 3490, 'sorts': 3491, 'sought': 3492, 'soul': 3493, 'sound': 3494, 'sounded': 3495, 'sounding': 3496, 'sounds': 3497, 'soup': 3498, 'source': 3499, 'space': 3500, 'spare': 3501, 'sparkling': 3502, 'sparks': 3503, 'spat': 3504, 'speak': 3505, 'speaking': 3506, 'special': 3507, 'spectacles': 3508, 'spectacular': 3509, 'sped': 3510, 'speech': 3511, 'speed': 3512, 'speeding': 3513, 'spell': 3514, 'spellbooks': 3515, 'spells': 3516, 'spend': 3517, 'spending': 3518, 'spent': 3519, 'spider': 3520, 'spiders': 3521, 'spilled': 3522, 'spilling': 3523, 'spinnet': 3524, 'spinning': 3525, 'spiral': 3526, 'spirit': 3527, 'spirits': 3528, 'spite': 3529, 'spitting': 3530, 'split': 3531, 'spluttered': 3532, 'spoke': 3533, 'spoken': 3534, 'spot': 3535, 'spots': 3536, 'spotted': 3537, 'sprang': 3538, 'sprawled': 3539, 'spread': 3540, 'spreading': 3541, 'sprinted': 3542, 'sprinting': 3543, 'sprout': 3544, 'spun': 3545, 'spy': 3546, 'squad': 3547, 'square': 3548, 'squashed': 3549, 'squeak': 3550, 'squeaked': 3551, 'squealed': 3552, 'squeezed': 3553, 'squeezing': 3554, 'squib': 3555, 'squinted': 3556, 'squinting': 3557, 'st': 3558, 'stab': 3559, 'stack': 3560, 'stadium': 3561, 'staff': 3562, 'stag': 3563, 'stage': 3564, 'staggered': 3565, 'stained': 3566, 'staircase': 3567, 'stairs': 3568, 'stalked': 3569, 'stammered': 3570, 'stamping': 3571, 'stan': 3572, 'stand': 3573, 'standard': 3574, 'standing': 3575, 'stands': 3576, 'star': 3577, 'stare': 3578, 'stared': 3579, 'staring': 3580, 'starry': 3581, 'stars': 3582, 'start': 3583, 'started': 3584, 'starting': 3585, 'startled': 3586, 'starving': 3587, 'state': 3588, 'station': 3589, 'statue': 3590, 'statues': 3591, 'stay': 3592, 'stayed': 3593, 'staying': 3594, 'steadily': 3595, 'steady': 3596, 'steak': 3597, 'steal': 3598, 'stealing': 3599, 'steam': 3600, 'steep': 3601, 'steering': 3602, 'step': 3603, 'stepped': 3604, 'steps': 3605, 'stern': 3606, 'sternly': 3607, 'stick': 3608, 'sticking': 3609, 'stiff': 3610, 'stiffly': 3611, 'still': 3612, 'stir': 3613, 'stirred': 3614, 'stirring': 3615, 'stole': 3616, 'stolen': 3617, 'stomach': 3618, 'stone': 3619, 'stones': 3620, 'stood': 3621, 'stool': 3622, 'stooped': 3623, 'stop': 3624, 'stopped': 3625, 'stopping': 3626, 'store': 3627, 'stories': 3628, 'storm': 3629, 'stormed': 3630, 'story': 3631, 'straight': 3632, 'straightened': 3633, 'straightening': 3634, 'strained': 3635, 'straining': 3636, 'strange': 3637, 'strangely': 3638, 'stranger': 3639, 'strangled': 3640, 'streaked': 3641, 'stream': 3642, 'streaming': 3643, 'street': 3644, 'strength': 3645, 'stretch': 3646, 'stretched': 3647, 'stretching': 3648, 'strewn': 3649, 'stricken': 3650, 'striding': 3651, 'strike': 3652, 'string': 3653, 'strode': 3654, 'stroke': 3655, 'stroking': 3656, 'strolled': 3657, 'strong': 3658, 'stronger': 3659, 'strongly': 3660, 'struck': 3661, 'struggle': 3662, 'struggled': 3663, 'struggling': 3664, 'stubbornly': 3665, 'stubby': 3666, 'stuck': 3667, 'student': 3668, 'students': 3669, 'study': 3670, 'studying': 3671, 'stuff': 3672, 'stuffed': 3673, 'stuffing': 3674, 'stumbled': 3675, 'stumped': 3676, 'stunned': 3677, 'stunning': 3678, 'stupefy': 3679, 'stupid': 3680, 'sturgis': 3681, 'subject': 3682, 'subjects': 3683, 'substance': 3684, 'succeeded': 3685, 'success': 3686, 'sudden': 3687, 'suddenly': 3688, 'suffered': 3689, 'suffering': 3690, 'sugar': 3691, 'suggest': 3692, 'suggested': 3693, 'suit': 3694, 'summer': 3695, 'summon': 3696, 'summoning': 3697, 'sun': 3698, 'sunday': 3699, 'sunk': 3700, 'sunken': 3701, 'sunlight': 3702, 'support': 3703, 'supported': 3704, 'supporters': 3705, 'suppose': 3706, 'supposed': 3707, 'suppress': 3708, 'sure': 3709, 'surely': 3710, 'surface': 3711, 'surge': 3712, 'surprise': 3713, 'surprised': 3714, 'surrounded': 3715, 'surrounding': 3716, 'surveyed': 3717, 'surveying': 3718, 'survive': 3719, 'survived': 3720, 'suspected': 3721, 'suspended': 3722, 'suspicion': 3723, 'suspicious': 3724, 'suspiciously': 3725, 'swallowed': 3726, 'swam': 3727, 'swarming': 3728, 'swayed': 3729, 'swaying': 3730, 'swear': 3731, 'sweat': 3732, 'sweater': 3733, 'sweating': 3734, 'sweaty': 3735, 'sweeping': 3736, 'sweet': 3737, 'sweetly': 3738, 'sweets': 3739, 'swelled': 3740, 'swelling': 3741, 'swept': 3742, 'swerved': 3743, 'swiftly': 3744, 'swig': 3745, 'swimming': 3746, 'swing': 3747, 'swinging': 3748, 'swirling': 3749, 'swollen': 3750, 'swooped': 3751, 'swooping': 3752, 'sword': 3753, 'swore': 3754, 'sworn': 3755, 'swung': 3756, 'symbol': 3757, 'table': 3758, 'tables': 3759, 'tail': 3760, 'take': 3761, 'taken': 3762, 'takes': 3763, 'taking': 3764, 'tale': 3765, 'talent': 3766, 'tales': 3767, 'talk': 3768, 'talked': 3769, 'talking': 3770, 'tall': 3771, 'taller': 3772, 'tangled': 3773, 'tank': 3774, 'tap': 3775, 'tapestry': 3776, 'tapped': 3777, 'tapping': 3778, 'task': 3779, 'tasks': 3780, 'taste': 3781, 'taught': 3782, 'tea': 3783, 'teach': 3784, 'teacher': 3785, 'teachers': 3786, 'teaching': 3787, 'teacup': 3788, 'team': 3789, 'teams': 3790, 'tear': 3791, 'tearing': 3792, 'tears': 3793, 'ted': 3794, 'teeth': 3795, 'telephone': 3796, 'telescope': 3797, 'television': 3798, 'tell': 3799, 'telling': 3800, 'tells': 3801, 'temper': 3802, 'temple': 3803, 'ten': 3804, 'tense': 3805, 'tent': 3806, 'tentatively': 3807, 'tents': 3808, 'ter': 3809, 'term': 3810, 'terms': 3811, 'terrible': 3812, 'terrified': 3813, 'terror': 3814, 'test': 3815, 'tested': 3816, 'tha': 3817, 'thank': 3818, 'thanks': 3819, 'theory': 3820, 'therefore': 3821, 'thestral': 3822, 'thestrals': 3823, 'thick': 3824, 'thickly': 3825, 'thicknesse': 3826, 'thief': 3827, 'thin': 3828, 'thing': 3829, 'things': 3830, 'think': 3831, 'thinking': 3832, 'thinks': 3833, 'third': 3834, 'thirteen': 3835, 'thirty': 3836, 'thomas': 3837, 'thoroughly': 3838, 'though': 3839, 'thought': 3840, 'thoughtfully': 3841, 'thoughts': 3842, 'thousand': 3843, 'thousands': 3844, 'thrashing': 3845, 'thread': 3846, 'threatened': 3847, 'threatening': 3848, 'three': 3849, 'threshold': 3850, 'threw': 3851, 'throat': 3852, 'throbbing': 3853, 'throughout': 3854, 'throw': 3855, 'throwing': 3856, 'thrown': 3857, 'thrust': 3858, 'thud': 3859, 'thumping': 3860, 'thundering': 3861, 'thursday': 3862, 'tickets': 3863, 'tie': 3864, 'tied': 3865, 'tight': 3866, 'tightly': 3867, 'till': 3868, 'time': 3869, 'times': 3870, 'tin': 3871, 'tiny': 3872, 'tip': 3873, 'tipped': 3874, 'tips': 3875, 'tired': 3876, 'toad': 3877, 'toast': 3878, 'today': 3879, 'toes': 3880, 'together': 3881, 'toilet': 3882, 'told': 3883, 'tom': 3884, 'tomorrow': 3885, 'tone': 3886, 'tones': 3887, 'tongue': 3888, 'tonight': 3889, 'tonks': 3890, 'took': 3891, 'top': 3892, 'topmost': 3893, 'toppled': 3894, 'torches': 3895, 'tore': 3896, 'torn': 3897, 'torture': 3898, 'tortured': 3899, 'total': 3900, 'touch': 3901, 'touched': 3902, 'touching': 3903, 'tough': 3904, 'tournament': 3905, 'toward': 3906, 'towards': 3907, 'tower': 3908, 'towering': 3909, 'trace': 3910, 'track': 3911, 'tracks': 3912, 'trailing': 3913, 'train': 3914, 'trained': 3915, 'training': 3916, 'traitor': 3917, 'transfiguration': 3918, 'transfixed': 3919, 'transform': 3920, 'transformed': 3921, 'transparent': 3922, 'trapdoor': 3923, 'trapped': 3924, 'traveled': 3925, 'traveling': 3926, 'travers': 3927, 'tray': 3928, 'treacle': 3929, 'treasure': 3930, 'treat': 3931, 'treated': 3932, 'tree': 3933, 'trees': 3934, 'trelawney': 3935, 'trembled': 3936, 'trembling': 3937, 'trevor': 3938, 'trick': 3939, 'tricks': 3940, 'tricky': 3941, 'tried': 3942, 'trip': 3943, 'tripped': 3944, 'triumph': 3945, 'triumphant': 3946, 'triwizard': 3947, 'troll': 3948, 'trolley': 3949, 'trolls': 3950, 'trouble': 3951, 'troubled': 3952, 'true': 3953, 'truly': 3954, 'trunk': 3955, 'trunks': 3956, 'trust': 3957, 'trusted': 3958, 'trusts': 3959, 'truth': 3960, 'try': 3961, 'trying': 3962, 'tucked': 3963, 'tuesday': 3964, 'tugged': 3965, 'tugging': 3966, 'tunnel': 3967, 'turban': 3968, 'turn': 3969, 'turned': 3970, 'turning': 3971, 'turns': 3972, 'twelve': 3973, 'twenty': 3974, 'twice': 3975, 'twigs': 3976, 'twin': 3977, 'twinkling': 3978, 'twins': 3979, 'twisted': 3980, 'twisting': 3981, 'twitched': 3982, 'twitching': 3983, 'two': 3984, 'tying': 3985, 'ugly': 3986, 'um': 3987, 'umbrella': 3988, 'umbridge': 3989, 'un': 3990, 'unable': 3991, 'unaware': 3992, 'uncertainly': 3993, 'uncle': 3994, 'uncomfortable': 3995, 'uncomfortably': 3996, 'unconscious': 3997, 'uncontrollably': 3998, 'underage': 3999, 'underground': 4000, 'underneath': 4001, 'understand': 4002, 'understanding': 4003, 'understood': 4004, 'undertone': 4005, 'undoubtedly': 4006, 'uneasy': 4007, 'unexpected': 4008, 'unfolded': 4009, 'unfortunate': 4010, 'unfortunately': 4011, 'unicorn': 4012, 'united': 4013, 'unknown': 4014, 'unless': 4015, 'unlike': 4016, 'unlikely': 4017, 'unpleasant': 4018, 'unpleasantly': 4019, 'untidy': 4020, 'unusual': 4021, 'unusually': 4022, 'upon': 4023, 'upper': 4024, 'upright': 4025, 'upset': 4026, 'upside': 4027, 'upstairs': 4028, 'upward': 4029, 'upwards': 4030, 'urge': 4031, 'urged': 4032, 'urgent': 4033, 'urgently': 4034, 'us': 4035, 'use': 4036, 'used': 4037, 'useful': 4038, 'useless': 4039, 'uses': 4040, 'using': 4041, 'usual': 4042, 'usually': 4043, 'utter': 4044, 'utterly': 4045, 'vaguely': 4046, 'valuable': 4047, 'vanish': 4048, 'vanished': 4049, 'vanishing': 4050, 'various': 4051, 'vast': 4052, 'vault': 4053, 'veela': 4054, 'veil': 4055, 'velvet': 4056, 'venom': 4057, 'vernon': 4058, 'version': 4059, 'vicious': 4060, 'victims': 4061, 'view': 4062, 'vigorously': 4063, 'viktor': 4064, 'village': 4065, 'violent': 4066, 'violently': 4067, 'violet': 4068, 'visible': 4069, 'vision': 4070, 'visit': 4071, 'visited': 4072, 'visiting': 4073, 'visitors': 4074, 'vivid': 4075, 'voice': 4076, 'voices': 4077, 'vol': 4078, 'voldemort': 4079, 'voldemorts': 4080, 'w': 4081, 'wailing': 4082, 'waist': 4083, 'wait': 4084, 'waited': 4085, 'waiting': 4086, 'wake': 4087, 'walk': 4088, 'walked': 4089, 'walking': 4090, 'wall': 4091, 'walls': 4092, 'wan': 4093, 'wand': 4094, 'wandered': 4095, 'wandering': 4096, 'wandlight': 4097, 'wandmaker': 4098, 'wands': 4099, 'want': 4100, 'wanted': 4101, 'wanting': 4102, 'wants': 4103, 'war': 4104, 'ward': 4105, 'wardrobe': 4106, 'warlock': 4107, 'warm': 4108, 'warmth': 4109, 'warn': 4110, 'warned': 4111, 'warning': 4112, 'warrington': 4113, 'wary': 4114, 'wash': 4115, 'washed': 4116, 'waste': 4117, 'wasted': 4118, 'wasting': 4119, 'watch': 4120, 'watched': 4121, 'watching': 4122, 'water': 4123, 'watery': 4124, 'wave': 4125, 'waved': 4126, 'waving': 4127, 'way': 4128, 'ways': 4129, 'weak': 4130, 'weakly': 4131, 'weapon': 4132, 'wear': 4133, 'wearily': 4134, 'wearing': 4135, 'weasley': 4136, 'weasleys': 4137, 'weather': 4138, 'web': 4139, 'wedding': 4140, 'wednesday': 4141, 'week': 4142, 'weekend': 4143, 'weeks': 4144, 'weight': 4145, 'weird': 4146, 'welcome': 4147, 'well': 4148, 'went': 4149, 'werewolf': 4150, 'werewolves': 4151, 'west': 4152, 'wet': 4153, 'wha': 4154, 'whatever': 4155, 'whatsoever': 4156, 'wheeled': 4157, 'wheezy': 4158, 'whenever': 4159, 'whereabouts': 4160, 'wherever': 4161, 'whether': 4162, 'whimpering': 4163, 'whinging': 4164, 'whipped': 4165, 'whirled': 4166, 'whisper': 4167, 'whispered': 4168, 'whispering': 4169, 'whistle': 4170, 'whistling': 4171, 'white': 4172, 'whoever': 4173, 'whole': 4174, 'whomping': 4175, 'whose': 4176, 'wide': 4177, 'widely': 4178, 'widened': 4179, 'widening': 4180, 'wider': 4181, 'wife': 4182, 'wild': 4183, 'wildly': 4184, 'willing': 4185, 'willow': 4186, 'win': 4187, 'winced': 4188, 'wind': 4189, 'winding': 4190, 'window': 4191, 'windows': 4192, 'windowsill': 4193, 'wine': 4194, 'wing': 4195, 'winged': 4196, 'wings': 4197, 'winked': 4198, 'winking': 4199, 'winky': 4200, 'winning': 4201, 'wipe': 4202, 'wiped': 4203, 'wiping': 4204, 'wise': 4205, 'wish': 4206, 'wished': 4207, 'wishes': 4208, 'wishing': 4209, 'witch': 4210, 'witchcraft': 4211, 'witches': 4212, 'withdrew': 4213, 'within': 4214, 'without': 4215, 'witness': 4216, 'witnessed': 4217, 'wizard': 4218, 'wizarding': 4219, 'wizardry': 4220, 'wizards': 4221, 'wizengamot': 4222, 'woke': 4223, 'woken': 4224, 'woman': 4225, 'women': 4226, 'wonder': 4227, 'wondered': 4228, 'wonderful': 4229, 'wondering': 4230, 'wood': 4231, 'wooden': 4232, 'woods': 4233, 'word': 4234, 'words': 4235, 'wore': 4236, 'work': 4237, 'worked': 4238, 'working': 4239, 'works': 4240, 'world': 4241, 'wormtail': 4242, 'worn': 4243, 'worried': 4244, 'worry': 4245, 'worrying': 4246, 'worse': 4247, 'worst': 4248, 'worth': 4249, 'worthy': 4250, 'would': 4251, 'wound': 4252, 'wounds': 4253, 'wow': 4254, 'wrapped': 4255, 'wrenched': 4256, 'wrist': 4257, 'write': 4258, 'writhing': 4259, 'writing': 4260, 'written': 4261, 'wrong': 4262, 'wrote': 4263, 'xenophilius': 4264, 'yard': 4265, 'yards': 4266, 'yawned': 4267, 'yawning': 4268, 'yaxley': 4269, 'yeah': 4270, 'year': 4271, 'years': 4272, 'yeh': 4273, 'yell': 4274, 'yelled': 4275, 'yelling': 4276, 'yellow': 4277, 'yellowish': 4278, 'yells': 4279, 'yep': 4280, 'yer': 4281, 'yes': 4282, 'yesterday': 4283, 'yet': 4284, 'young': 4285, 'younger': 4286, 'youngest': 4287, 'youth': 4288, 'zabini': 4289, 'zacharias': 4290, 'ze': 4291, 'zonko': 4292, 'zoomed': 4293, 'zooming': 4294, '¨c': 4295, '—': 4296, '”': 4297}\n",
            "Co-occurrence Matrix Shape: torch.Size([4298, 4298])\n"
          ]
        }
      ],
      "source": [
        "from typing import List, Dict, Tuple\n",
        "import string\n",
        "from collections import defaultdict\n",
        "from nltk.corpus import stopwords\n",
        "import nltk\n",
        "import torch\n",
        "import re\n",
        "import os\n",
        "import numpy as np\n",
        "\n",
        "# Make sure to download stopwords once\n",
        "nltk.download('stopwords')\n",
        "\n",
        "def read_book_files(files: List[str], cutoff: int = 10, window_size: int = 20, verbose: bool = False) -> Tuple[Dict[str, int], Dict[str, Dict[str, int]], torch.Tensor]:\n",
        "\n",
        "    list_of_books = files\n",
        "    my_vocab = defaultdict(int)\n",
        "\n",
        "    # get the standard sett  of stopwords to drop em \n",
        "    stop_words = set(stopwords.words('english'))\n",
        "\n",
        "    # Define a set of tokens to always retain :-) no other way i guess diffrent lib diffrent tokens \n",
        "    always_keep_tokens = {'—', '¨c', '1', '”'}\n",
        "\n",
        "    # remove all punctuations except the tokens in always_keep_tokens\n",
        "    punctuation_to_replace = string.punctuation.replace('—', '').replace('”', '')\n",
        "    translator = str.maketrans(punctuation_to_replace, ' ' * len(punctuation_to_replace))\n",
        "\n",
        "    # Read the books very fast (each book can parallelized if need more speed  )\n",
        "    for book in list_of_books:\n",
        "        with open(book, \"r\", encoding=\"utf-8\", errors=\"ignore\") as f:\n",
        "            \n",
        "            next(f)# skip the first line (assuming it is what has been done)\n",
        "\n",
        "            for line in f:\n",
        "                # Remove enclosing quotes if present\n",
        "                line = line.strip().strip('\"')\n",
        "\n",
        "                # Replace punctuations with a space (excluding '—' and '”') \n",
        "                my_line = line.translate(translator)\n",
        "\n",
        "                #add token \n",
        "                for word in my_line.split():\n",
        "                    word = word.lower()\n",
        "\n",
        "                    # If the word is in the always_keep_tokens, include it in the vocabulary\n",
        "                    if word in always_keep_tokens:\n",
        "                        my_vocab[word] += 1\n",
        "                    # normal rules for other words\n",
        "                    elif word not in stop_words and (word.isalpha() or word in always_keep_tokens):\n",
        "                        my_vocab[word] += 1\n",
        "\n",
        "    # Remove words with cutoff\n",
        "    my_new_vocab = {k: v for k, v in my_vocab.items() if v >= cutoff}\n",
        "    if verbose:\n",
        "        print(f\"Number of unique words after cutoff: {len(my_new_vocab)}\")\n",
        "\n",
        "    # Sort\n",
        "    sorted_vocab_list = sorted(my_new_vocab.keys())\n",
        "    \n",
        "    # make index\n",
        "    vocab_index = {word: idx for idx, word in enumerate(sorted_vocab_list)}\n",
        "\n",
        "    #  Initialize co-occurrence dictionary and matrix\n",
        "    vocab_size = len(sorted_vocab_list)\n",
        "    X = torch.zeros((vocab_size, vocab_size), dtype=torch.int32) # i think it 64 for your  thing \n",
        "\n",
        "    #  cooccurrence counts using matrix ops\n",
        "    for book in list_of_books:\n",
        "        with open(book, \"r\", encoding=\"utf-8\", errors=\"ignore\") as f:\n",
        "            next(f)\n",
        "            chapter_lines = []\n",
        "\n",
        "            # read one book\n",
        "            for line in f:\n",
        "                line = line.strip().strip('\"')\n",
        "                my_line = line.translate(translator)\n",
        "                chapter_lines.append(my_line.lower())\n",
        "\n",
        "            # Tokenize the entire chapter\n",
        "            chapter_text = ' '.join(chapter_lines)\n",
        "            tokens = chapter_text.split()\n",
        "            tokens = [t for t in tokens if t in vocab_index]\n",
        "\n",
        "            # Create a list of index\n",
        "            token_indices = [vocab_index[word] for word in tokens]\n",
        "\n",
        "            # Use a sliding window to populate co-occurrence counts\n",
        "            for idx in range(len(token_indices)):\n",
        "                word_idx = token_indices[idx]\n",
        "                left_context = token_indices[max(0, idx - window_size): idx]\n",
        "                right_context = token_indices[idx + 1: idx + 1 + window_size]\n",
        "                context = left_context + right_context\n",
        "\n",
        "                # Update co-occurrence matrix using tensor operations\n",
        "                context_indices = torch.tensor(context, dtype=torch.long)\n",
        "                X[word_idx, context_indices] += 1\n",
        "\n",
        "    return vocab_index, None, X\n",
        "\n",
        "\n",
        "# it works \n",
        "voc, _, my_X = read_book_files(\n",
        "    [\"HPBook1.txt\", \"HPBook2.txt\", \"HPBook3.txt\", \"HPBook4.txt\", \"HPBook5.txt\", \"HPBook6.txt\", \"HPBook7.txt\"],\n",
        "    cutoff=16,\n",
        "    window_size=20,\n",
        "    verbose=True\n",
        ")\n",
        "\n",
        "print(\"Vocabulary:\", voc)\n",
        "print(\"Co-occurrence Matrix Shape:\", my_X.shape)\n"
      ]
    },
    {
      "cell_type": "code",
      "execution_count": 261,
      "metadata": {},
      "outputs": [
        {
          "name": "stdout",
          "output_type": "stream",
          "text": [
            "{'1': 0, 'aback': 1, 'abandoned': 2, 'abbott': 3, 'aberforth': 4, 'ability': 5, 'able': 6, 'abou': 7, 'abruptly': 8, 'absence': 9, 'absolutely': 10, 'accept': 11, 'accepted': 12, 'accident': 13, 'accidentally': 14, 'accidents': 15, 'accio': 16, 'accompanied': 17, 'according': 18, 'account': 19, 'achieved': 20, 'aching': 21, 'across': 22, 'act': 23, 'acted': 24, 'acting': 25, 'action': 26, 'actually': 27, 'add': 28, 'added': 29, 'adding': 30, 'address': 31, 'addressed': 32, 'admit': 33, 'admitted': 34, 'advanced': 35, 'advancing': 36, 'advantage': 37, 'adventure': 38, 'advice': 39, 'advised': 40, 'afford': 41, 'afraid': 42, 'afternoon': 43, 'afterward': 44, 'age': 45, 'aged': 46, 'ages': 47, 'ago': 48, 'agony': 49, 'agree': 50, 'agreed': 51, 'ah': 52, 'ahead': 53, 'aid': 54, 'aim': 55, 'aimed': 56, 'aiming': 57, 'air': 58, 'aisle': 59, 'ajar': 60, 'alarm': 61, 'alarmed': 62, 'albus': 63, 'alecto': 64, 'alert': 65, 'alicia': 66, 'alive': 67, 'alley': 68, 'alleyway': 69, 'allow': 70, 'allowed': 71, 'allowing': 72, 'almost': 73, 'alone': 74, 'along': 75, 'alongside': 76, 'aloud': 77, 'already': 78, 'also': 79, 'although': 80, 'always': 81, 'amazed': 82, 'amazement': 83, 'amazing': 84, 'ambition': 85, 'among': 86, 'amongst': 87, 'amos': 88, 'amount': 89, 'amused': 90, 'amusing': 91, 'amycus': 92, 'ancient': 93, 'angelina': 94, 'anger': 95, 'angle': 96, 'angrily': 97, 'angry': 98, 'animagus': 99, 'animal': 100, 'animals': 101, 'ankle': 102, 'ankles': 103, 'announced': 104, 'annoyed': 105, 'another': 106, 'answer': 107, 'answered': 108, 'answering': 109, 'answers': 110, 'anti': 111, 'antidote': 112, 'antidotes': 113, 'anxious': 114, 'anxiously': 115, 'anybody': 116, 'anymore': 117, 'anyone': 118, 'anythin': 119, 'anything': 120, 'anyway': 121, 'anywhere': 122, 'apart': 123, 'appalled': 124, 'apparate': 125, 'apparently': 126, 'apparition': 127, 'appear': 128, 'appearance': 129, 'appeared': 130, 'appearing': 131, 'applause': 132, 'appointment': 133, 'appreciate': 134, 'apprehensive': 135, 'approach': 136, 'approached': 137, 'approaching': 138, 'approval': 139, 'aragog': 140, 'archway': 141, 'area': 142, 'argue': 143, 'arguing': 144, 'argument': 145, 'argus': 146, 'ariana': 147, 'arithmancy': 148, 'arm': 149, 'armchair': 150, 'armchairs': 151, 'armed': 152, 'armor': 153, 'arms': 154, 'army': 155, 'around': 156, 'arranged': 157, 'arrested': 158, 'arrival': 159, 'arrive': 160, 'arrived': 161, 'arriving': 162, 'arrogant': 163, 'arry': 164, 'arthur': 165, 'article': 166, 'arts': 167, 'ashamed': 168, 'aside': 169, 'ask': 170, 'asked': 171, 'asking': 172, 'asleep': 173, 'assistant': 174, 'assume': 175, 'assure': 176, 'assured': 177, 'astonished': 178, 'astonishment': 179, 'astronomy': 180, 'ate': 181, 'atmosphere': 182, 'atrium': 183, 'attached': 184, 'attack': 185, 'attacked': 186, 'attacking': 187, 'attacks': 188, 'attempt': 189, 'attempted': 190, 'attempting': 191, 'attempts': 192, 'attend': 193, 'attention': 194, 'attitude': 195, 'august': 196, 'aunt': 197, 'auntie': 198, 'auror': 199, 'aurors': 200, 'authority': 201, 'automatically': 202, 'avada': 203, 'ave': 204, 'avery': 205, 'avoid': 206, 'avoided': 207, 'avoiding': 208, 'awake': 209, 'award': 210, 'aware': 211, 'away': 212, 'awful': 213, 'awkward': 214, 'awkwardly': 215, 'awoke': 216, 'azkaban': 217, 'b': 218, 'baby': 219, 'back': 220, 'backed': 221, 'backing': 222, 'backs': 223, 'backward': 224, 'backwards': 225, 'bacon': 226, 'bad': 227, 'badge': 228, 'badges': 229, 'badly': 230, 'bag': 231, 'bagman': 232, 'bags': 233, 'bagshot': 234, 'bald': 235, 'balding': 236, 'ball': 237, 'balls': 238, 'bane': 239, 'bang': 240, 'banged': 241, 'banging': 242, 'bangs': 243, 'bank': 244, 'banned': 245, 'bar': 246, 'bare': 247, 'barely': 248, 'barked': 249, 'barman': 250, 'barn': 251, 'baron': 252, 'barrier': 253, 'bars': 254, 'barty': 255, 'basilisk': 256, 'basin': 257, 'basket': 258, 'bat': 259, 'bath': 260, 'bathilda': 261, 'bathroom': 262, 'bats': 263, 'battered': 264, 'battle': 265, 'beaded': 266, 'beak': 267, 'beam': 268, 'beamed': 269, 'beaming': 270, 'beans': 271, 'bear': 272, 'beard': 273, 'bearded': 274, 'bearing': 275, 'beast': 276, 'beat': 277, 'beaten': 278, 'beaters': 279, 'beating': 280, 'beautiful': 281, 'beauxbatons': 282, 'became': 283, 'beckoned': 284, 'become': 285, 'becoming': 286, 'bed': 287, 'bedroom': 288, 'beds': 289, 'bedside': 290, 'beedle': 291, 'beetle': 292, 'beg': 293, 'began': 294, 'begin': 295, 'beginning': 296, 'begun': 297, 'behavior': 298, 'behind': 299, 'believe': 300, 'believed': 301, 'believes': 302, 'believing': 303, 'bell': 304, 'bellatrix': 305, 'bellowed': 306, 'belong': 307, 'belonged': 308, 'belongs': 309, 'bench': 310, 'benches': 311, 'bend': 312, 'bending': 313, 'beneath': 314, 'bent': 315, 'bertha': 316, 'beside': 317, 'best': 318, 'bet': 319, 'betrayed': 320, 'better': 321, 'bewildered': 322, 'bewitched': 323, 'beyond': 324, 'bezoar': 325, 'big': 326, 'bigger': 327, 'biggest': 328, 'bike': 329, 'bill': 330, 'billowing': 331, 'bin': 332, 'binding': 333, 'binns': 334, 'bird': 335, 'birds': 336, 'birthday': 337, 'bit': 338, 'bite': 339, 'biting': 340, 'bits': 341, 'bitten': 342, 'bitter': 343, 'bitterly': 344, 'bizarre': 345, 'black': 346, 'blackboard': 347, 'blackened': 348, 'blackness': 349, 'blame': 350, 'blank': 351, 'blankets': 352, 'blankly': 353, 'blast': 354, 'blasted': 355, 'blazing': 356, 'bleeding': 357, 'blew': 358, 'blimey': 359, 'blind': 360, 'blinding': 361, 'blink': 362, 'blinked': 363, 'blinking': 364, 'block': 365, 'blocked': 366, 'blocking': 367, 'bloke': 368, 'blond': 369, 'blonde': 370, 'blood': 371, 'bloodshot': 372, 'bloody': 373, 'blotts': 374, 'blow': 375, 'blowing': 376, 'blown': 377, 'bludger': 378, 'bludgers': 379, 'blue': 380, 'blurred': 381, 'board': 382, 'boarded': 383, 'boat': 384, 'bobbing': 385, 'bode': 386, 'bodies': 387, 'body': 388, 'boggart': 389, 'boiling': 390, 'bolt': 391, 'bone': 392, 'bones': 393, 'book': 394, 'books': 395, 'boomed': 396, 'booming': 397, 'boot': 398, 'boots': 399, 'bore': 400, 'bored': 401, 'borgin': 402, 'boring': 403, 'born': 404, 'borns': 405, 'borrow': 406, 'borrowed': 407, 'bother': 408, 'bothered': 409, 'bothering': 410, 'bottle': 411, 'bottles': 412, 'bottom': 413, 'bought': 414, 'bounced': 415, 'bouncing': 416, 'bound': 417, 'bounded': 418, 'bow': 419, 'bowed': 420, 'bowing': 421, 'bowl': 422, 'bowler': 423, 'box': 424, 'boxes': 425, 'boy': 426, 'boys': 427, 'brain': 428, 'brains': 429, 'branch': 430, 'branches': 431, 'brand': 432, 'brandishing': 433, 'brass': 434, 'brave': 435, 'bread': 436, 'break': 437, 'breakfast': 438, 'breaking': 439, 'breath': 440, 'breathe': 441, 'breathed': 442, 'breathing': 443, 'breathless': 444, 'breathlessly': 445, 'breeze': 446, 'brick': 447, 'bridge': 448, 'brief': 449, 'briefly': 450, 'bright': 451, 'brightly': 452, 'brilliant': 453, 'bring': 454, 'bringing': 455, 'briskly': 456, 'britain': 457, 'broad': 458, 'broadly': 459, 'broke': 460, 'broken': 461, 'bronze': 462, 'broom': 463, 'brooms': 464, 'broomstick': 465, 'broomsticks': 466, 'brother': 467, 'brothers': 468, 'brought': 469, 'brow': 470, 'brown': 471, 'brushed': 472, 'brushing': 473, 'brutal': 474, 'bu': 475, 'bubble': 476, 'bubbles': 477, 'buckbeak': 478, 'bucket': 479, 'building': 480, 'built': 481, 'bulgarian': 482, 'bulging': 483, 'bunch': 484, 'bunk': 485, 'buried': 486, 'burkes': 487, 'burn': 488, 'burned': 489, 'burning': 490, 'burrow': 491, 'burst': 492, 'bursting': 493, 'bus': 494, 'bush': 495, 'bushes': 496, 'bushy': 497, 'business': 498, 'bustled': 499, 'bustling': 500, 'busy': 501, 'butterbeer': 502, 'button': 503, 'buy': 504, 'buying': 505, 'buzzing': 506, 'bye': 507, 'c': 508, 'cabin': 509, 'cabinet': 510, 'cackling': 511, 'cadogan': 512, 'cage': 513, 'cake': 514, 'cakes': 515, 'call': 516, 'called': 517, 'calling': 518, 'calm': 519, 'calmly': 520, 'came': 521, 'camera': 522, 'campsite': 523, 'candle': 524, 'candlelight': 525, 'candles': 526, 'cannot': 527, 'canvas': 528, 'capable': 529, 'captain': 530, 'capture': 531, 'car': 532, 'card': 533, 'cards': 534, 'care': 535, 'cared': 536, 'career': 537, 'careful': 538, 'carefully': 539, 'cares': 540, 'caretaker': 541, 'carpet': 542, 'carriage': 543, 'carriages': 544, 'carried': 545, 'carrows': 546, 'carry': 547, 'carrying': 548, 'cars': 549, 'cart': 550, 'carved': 551, 'case': 552, 'cast': 553, 'casting': 554, 'castle': 555, 'casual': 556, 'casually': 557, 'cat': 558, 'catch': 559, 'catching': 560, 'cats': 561, 'cattermole': 562, 'caught': 563, 'cauldron': 564, 'cauldrons': 565, 'cause': 566, 'caused': 567, 'causing': 568, 'caution': 569, 'cautiously': 570, 'cave': 571, 'cedric': 572, 'ceiling': 573, 'cellar': 574, 'centaur': 575, 'centaurs': 576, 'center': 577, 'centuries': 578, 'century': 579, 'certain': 580, 'certainly': 581, 'chain': 582, 'chained': 583, 'chains': 584, 'chair': 585, 'chairs': 586, 'chamber': 587, 'champion': 588, 'champions': 589, 'chance': 590, 'chances': 591, 'chandelier': 592, 'chang': 593, 'change': 594, 'changed': 595, 'changing': 596, 'chapter': 597, 'charge': 598, 'charged': 599, 'charlie': 600, 'charm': 601, 'charming': 602, 'charms': 603, 'chart': 604, 'chase': 605, 'chased': 606, 'chaser': 607, 'chasers': 608, 'chasing': 609, 'chat': 610, 'chattering': 611, 'check': 612, 'checked': 613, 'checking': 614, 'cheek': 615, 'cheeks': 616, 'cheer': 617, 'cheered': 618, 'cheerful': 619, 'cheerfully': 620, 'cheering': 621, 'cheers': 622, 'chess': 623, 'chest': 624, 'chewing': 625, 'chicken': 626, 'child': 627, 'children': 628, 'chill': 629, 'chilly': 630, 'chin': 631, 'cho': 632, 'chocolate': 633, 'choice': 634, 'choked': 635, 'choose': 636, 'chose': 637, 'chosen': 638, 'christmas': 639, 'chuckled': 640, 'church': 641, 'circle': 642, 'circling': 643, 'circular': 644, 'circumstances': 645, 'clambered': 646, 'clamped': 647, 'clanking': 648, 'clapped': 649, 'clapping': 650, 'class': 651, 'classes': 652, 'classroom': 653, 'clatter': 654, 'clattering': 655, 'clean': 656, 'cleaning': 657, 'clear': 658, 'cleared': 659, 'clearer': 660, 'clearing': 661, 'clearly': 662, 'clenched': 663, 'clever': 664, 'clicked': 665, 'clicking': 666, 'cliff': 667, 'climb': 668, 'climbed': 669, 'climbing': 670, 'clipboard': 671, 'cloak': 672, 'cloaks': 673, 'clock': 674, 'close': 675, 'closed': 676, 'closely': 677, 'closer': 678, 'closest': 679, 'closing': 680, 'clothes': 681, 'cloud': 682, 'clouds': 683, 'club': 684, 'clue': 685, 'clunk': 686, 'clutched': 687, 'clutching': 688, 'coat': 689, 'coffee': 690, 'coins': 691, 'cold': 692, 'coldly': 693, 'cole': 694, 'colin': 695, 'collapsed': 696, 'collar': 697, 'collect': 698, 'collecting': 699, 'collection': 700, 'collided': 701, 'color': 702, 'colored': 703, 'colour': 704, 'come': 705, 'comes': 706, 'comfort': 707, 'comfortable': 708, 'comin': 709, 'coming': 710, 'command': 711, 'committee': 712, 'common': 713, 'community': 714, 'company': 715, 'compared': 716, 'compartment': 717, 'compete': 718, 'complain': 719, 'complaining': 720, 'complete': 721, 'completely': 722, 'complex': 723, 'complicated': 724, 'concealed': 725, 'concentrate': 726, 'concentrating': 727, 'concentration': 728, 'concern': 729, 'concerned': 730, 'condition': 731, 'conditions': 732, 'confederation': 733, 'confidence': 734, 'confident': 735, 'confused': 736, 'confusion': 737, 'conjured': 738, 'connected': 739, 'connection': 740, 'conscious': 741, 'consider': 742, 'considerable': 743, 'considered': 744, 'considering': 745, 'constant': 746, 'contact': 747, 'contained': 748, 'containing': 749, 'contents': 750, 'continue': 751, 'continued': 752, 'continuing': 753, 'contorted': 754, 'contrary': 755, 'control': 756, 'controlled': 757, 'conversation': 758, 'convince': 759, 'convinced': 760, 'cooking': 761, 'cool': 762, 'coolly': 763, 'copies': 764, 'copy': 765, 'cornelius': 766, 'corner': 767, 'cornered': 768, 'corners': 769, 'correct': 770, 'corrected': 771, 'corridor': 772, 'corridors': 773, 'cost': 774, 'cottage': 775, 'cough': 776, 'could': 777, 'count': 778, 'counted': 779, 'counter': 780, 'counting': 781, 'country': 782, 'couple': 783, 'courage': 784, 'course': 785, 'court': 786, 'courtyard': 787, 'cousin': 788, 'cover': 789, 'covered': 790, 'covering': 791, 'covers': 792, 'cowering': 793, 'cozy': 794, 'crabbe': 795, 'crack': 796, 'cracked': 797, 'crackling': 798, 'crammed': 799, 'craning': 800, 'crash': 801, 'crashed': 802, 'crashing': 803, 'crate': 804, 'crawled': 805, 'creaked': 806, 'creaking': 807, 'cream': 808, 'creature': 809, 'creatures': 810, 'creeping': 811, 'creevey': 812, 'crept': 813, 'cried': 814, 'cries': 815, 'crime': 816, 'croaked': 817, 'crooked': 818, 'crookshanks': 819, 'cross': 820, 'crossbow': 821, 'crossed': 822, 'crossing': 823, 'crouch': 824, 'crouched': 825, 'crouching': 826, 'crowd': 827, 'crowded': 828, 'cruciatus': 829, 'cruel': 830, 'crumpled': 831, 'cry': 832, 'crying': 833, 'crystal': 834, 'cup': 835, 'cupboard': 836, 'cups': 837, 'curiosity': 838, 'curious': 839, 'curiously': 840, 'curled': 841, 'curling': 842, 'curly': 843, 'currently': 844, 'curse': 845, 'cursed': 846, 'curses': 847, 'curtain': 848, 'curtains': 849, 'curtly': 850, 'curved': 851, 'cushion': 852, 'cushions': 853, 'cut': 854, 'cuts': 855, 'cutting': 856, 'da': 857, 'dad': 858, 'daddy': 859, 'daily': 860, 'dais': 861, 'damage': 862, 'damn': 863, 'damp': 864, 'dance': 865, 'dancing': 866, 'danger': 867, 'dangerous': 868, 'dangerously': 869, 'dangling': 870, 'dare': 871, 'dared': 872, 'daresay': 873, 'daring': 874, 'dark': 875, 'darker': 876, 'darkly': 877, 'darkness': 878, 'darted': 879, 'darting': 880, 'dashed': 881, 'dashing': 882, 'date': 883, 'daughter': 884, 'davies': 885, 'dawlish': 886, 'dawn': 887, 'day': 888, 'daylight': 889, 'days': 890, 'dazed': 891, 'dazzling': 892, 'de': 893, 'dead': 894, 'deadly': 895, 'deafening': 896, 'deal': 897, 'dealing': 898, 'dean': 899, 'dear': 900, 'death': 901, 'deathly': 902, 'deaths': 903, 'decent': 904, 'decide': 905, 'decided': 906, 'decision': 907, 'decorated': 908, 'decree': 909, 'dedalus': 910, 'deep': 911, 'deeper': 912, 'deepest': 913, 'deeply': 914, 'defeated': 915, 'defence': 916, 'defend': 917, 'defense': 918, 'defensive': 919, 'defiantly': 920, 'definite': 921, 'definitely': 922, 'delacour': 923, 'deliberately': 924, 'delicious': 925, 'delight': 926, 'delighted': 927, 'deliver': 928, 'delivered': 929, 'deluminator': 930, 'demanded': 931, 'dementor': 932, 'dementors': 933, 'dennis': 934, 'deny': 935, 'departed': 936, 'department': 937, 'departure': 938, 'depths': 939, 'descended': 940, 'descending': 941, 'described': 942, 'deserted': 943, 'deserve': 944, 'deserved': 945, 'desire': 946, 'desk': 947, 'desks': 948, 'despair': 949, 'desperate': 950, 'desperately': 951, 'desperation': 952, 'despite': 953, 'destination': 954, 'destroy': 955, 'destroyed': 956, 'detail': 957, 'details': 958, 'detention': 959, 'detentions': 960, 'determination': 961, 'determined': 962, 'devil': 963, 'devoted': 964, 'diadem': 965, 'diagon': 966, 'diary': 967, 'die': 968, 'died': 969, 'difference': 970, 'different': 971, 'difficult': 972, 'difficulty': 973, 'diggory': 974, 'dim': 975, 'dimly': 976, 'dinner': 977, 'dippet': 978, 'directed': 979, 'direction': 980, 'directions': 981, 'directly': 982, 'dirk': 983, 'dirty': 984, 'disapparate': 985, 'disapparated': 986, 'disappear': 987, 'disappeared': 988, 'disappearing': 989, 'disappointed': 990, 'disappointment': 991, 'disbelief': 992, 'discover': 993, 'discovered': 994, 'discuss': 995, 'discussed': 996, 'discussing': 997, 'discussion': 998, 'disgruntled': 999, 'disguise': 1000, 'disgust': 1001, 'disgusting': 1002, 'dislike': 1003, 'display': 1004, 'dissolved': 1005, 'distance': 1006, 'distant': 1007, 'distinct': 1008, 'distinctly': 1009, 'distracted': 1010, 'distractedly': 1011, 'disturbed': 1012, 'dive': 1013, 'dived': 1014, 'divination': 1015, 'dobby': 1016, 'dodged': 1017, 'doe': 1018, 'dog': 1019, 'doge': 1020, 'doin': 1021, 'dolohov': 1022, 'dolores': 1023, 'done': 1024, 'door': 1025, 'doorknob': 1026, 'doors': 1027, 'doorway': 1028, 'dormitories': 1029, 'dormitory': 1030, 'dot': 1031, 'double': 1032, 'doubt': 1033, 'doubted': 1034, 'downstairs': 1035, 'dozen': 1036, 'draco': 1037, 'drag': 1038, 'dragged': 1039, 'dragging': 1040, 'dragon': 1041, 'dragons': 1042, 'drained': 1043, 'dramatically': 1044, 'drank': 1045, 'draped': 1046, 'draught': 1047, 'draw': 1048, 'drawer': 1049, 'drawers': 1050, 'drawing': 1051, 'drawn': 1052, 'dread': 1053, 'dreadful': 1054, 'dreading': 1055, 'dream': 1056, 'dreamed': 1057, 'dreaming': 1058, 'dreams': 1059, 'dress': 1060, 'dressed': 1061, 'dressing': 1062, 'drew': 1063, 'dried': 1064, 'drifted': 1065, 'drifting': 1066, 'drink': 1067, 'drinking': 1068, 'drinks': 1069, 'dripping': 1070, 'drive': 1071, 'driven': 1072, 'driving': 1073, 'drop': 1074, 'dropped': 1075, 'dropping': 1076, 'drops': 1077, 'drove': 1078, 'drowned': 1079, 'dry': 1080, 'duck': 1081, 'ducked': 1082, 'dudley': 1083, 'due': 1084, 'duel': 1085, 'dueling': 1086, 'dug': 1087, 'dull': 1088, 'dully': 1089, 'dumbledore': 1090, 'dumbledores': 1091, 'dung': 1092, 'dungeon': 1093, 'dungeons': 1094, 'dunno': 1095, 'durmstrang': 1096, 'dursley': 1097, 'dursleys': 1098, 'dust': 1099, 'dusty': 1100, 'duty': 1101, 'dying': 1102, 'e': 1103, 'eager': 1104, 'eagerly': 1105, 'eagle': 1106, 'ear': 1107, 'earlier': 1108, 'early': 1109, 'earned': 1110, 'earnestly': 1111, 'ears': 1112, 'earshot': 1113, 'earth': 1114, 'ease': 1115, 'easier': 1116, 'easily': 1117, 'easter': 1118, 'easy': 1119, 'eat': 1120, 'eaten': 1121, 'eater': 1122, 'eaters': 1123, 'eating': 1124, 'echoed': 1125, 'echoing': 1126, 'edge': 1127, 'edged': 1128, 'edges': 1129, 'edging': 1130, 'educational': 1131, 'eerie': 1132, 'effect': 1133, 'effort': 1134, 'efforts': 1135, 'egg': 1136, 'eggs': 1137, 'eh': 1138, 'eight': 1139, 'either': 1140, 'elbow': 1141, 'elder': 1142, 'eleven': 1143, 'elf': 1144, 'elphias': 1145, 'else': 1146, 'elves': 1147, 'em': 1148, 'embarrassed': 1149, 'emerald': 1150, 'emerged': 1151, 'emerging': 1152, 'emotion': 1153, 'emptied': 1154, 'empty': 1155, 'enchanted': 1156, 'enchantments': 1157, 'enclosure': 1158, 'end': 1159, 'ended': 1160, 'ends': 1161, 'enemies': 1162, 'enemy': 1163, 'enforcement': 1164, 'engine': 1165, 'english': 1166, 'enjoy': 1167, 'enjoyed': 1168, 'enjoying': 1169, 'enormous': 1170, 'enough': 1171, 'ensure': 1172, 'enter': 1173, 'entered': 1174, 'entering': 1175, 'enthusiasm': 1176, 'enthusiastically': 1177, 'entire': 1178, 'entirely': 1179, 'entrance': 1180, 'envelope': 1181, 'equal': 1182, 'er': 1183, 'ere': 1184, 'erm': 1185, 'ern': 1186, 'ernie': 1187, 'errol': 1188, 'erupted': 1189, 'escape': 1190, 'escaped': 1191, 'especially': 1192, 'essay': 1193, 'essential': 1194, 'etched': 1195, 'even': 1196, 'evening': 1197, 'evenings': 1198, 'events': 1199, 'ever': 1200, 'every': 1201, 'everybody': 1202, 'everyone': 1203, 'everything': 1204, 'everywhere': 1205, 'evidence': 1206, 'evidently': 1207, 'evil': 1208, 'ex': 1209, 'exactly': 1210, 'exam': 1211, 'examination': 1212, 'examine': 1213, 'examined': 1214, 'examining': 1215, 'exams': 1216, 'exasperated': 1217, 'excellent': 1218, 'except': 1219, 'exceptionally': 1220, 'exchange': 1221, 'exchanged': 1222, 'excited': 1223, 'excitedly': 1224, 'excitement': 1225, 'exciting': 1226, 'excuse': 1227, 'exhausted': 1228, 'exist': 1229, 'existence': 1230, 'expect': 1231, 'expected': 1232, 'expecting': 1233, 'expecto': 1234, 'expelled': 1235, 'expelliarmus': 1236, 'experience': 1237, 'experienced': 1238, 'explain': 1239, 'explained': 1240, 'explaining': 1241, 'explanation': 1242, 'exploded': 1243, 'exploding': 1244, 'explosion': 1245, 'express': 1246, 'expression': 1247, 'expressions': 1248, 'extendable': 1249, 'extinguished': 1250, 'extra': 1251, 'extraordinary': 1252, 'extremely': 1253, 'eye': 1254, 'eyebrows': 1255, 'eyed': 1256, 'eyeing': 1257, 'eyelids': 1258, 'eyes': 1259, 'f': 1260, 'face': 1261, 'faced': 1262, 'faces': 1263, 'facing': 1264, 'fact': 1265, 'facts': 1266, 'faded': 1267, 'fading': 1268, 'fail': 1269, 'failed': 1270, 'faint': 1271, 'faintest': 1272, 'faintly': 1273, 'fair': 1274, 'fairly': 1275, 'faithful': 1276, 'fake': 1277, 'fall': 1278, 'fallen': 1279, 'falling': 1280, 'false': 1281, 'familiar': 1282, 'families': 1283, 'family': 1284, 'famous': 1285, 'fan': 1286, 'fancy': 1287, 'fang': 1288, 'fangs': 1289, 'far': 1290, 'farther': 1291, 'fascinating': 1292, 'fashion': 1293, 'fashioned': 1294, 'fast': 1295, 'faster': 1296, 'fat': 1297, 'father': 1298, 'fault': 1299, 'favor': 1300, 'favorite': 1301, 'favourite': 1302, 'fawkes': 1303, 'fear': 1304, 'feared': 1305, 'fears': 1306, 'feast': 1307, 'feather': 1308, 'feathers': 1309, 'features': 1310, 'fed': 1311, 'feeble': 1312, 'feebly': 1313, 'feed': 1314, 'feel': 1315, 'feeling': 1316, 'feelings': 1317, 'feels': 1318, 'feet': 1319, 'felicis': 1320, 'felix': 1321, 'fell': 1322, 'fellow': 1323, 'fellows': 1324, 'felt': 1325, 'female': 1326, 'fence': 1327, 'fer': 1328, 'ferret': 1329, 'fetch': 1330, 'feverishly': 1331, 'field': 1332, 'fierce': 1333, 'fiercely': 1334, 'fiery': 1335, 'fifteen': 1336, 'fifth': 1337, 'fifty': 1338, 'figg': 1339, 'fight': 1340, 'fighting': 1341, 'figure': 1342, 'figures': 1343, 'filch': 1344, 'filed': 1345, 'fill': 1346, 'filled': 1347, 'filling': 1348, 'filth': 1349, 'filthy': 1350, 'final': 1351, 'finally': 1352, 'finch': 1353, 'find': 1354, 'finding': 1355, 'finds': 1356, 'fine': 1357, 'finger': 1358, 'fingered': 1359, 'fingers': 1360, 'finish': 1361, 'finished': 1362, 'finishing': 1363, 'finnigan': 1364, 'fire': 1365, 'firebolt': 1366, 'firelight': 1367, 'firenze': 1368, 'fireplace': 1369, 'fires': 1370, 'firewhisky': 1371, 'fireworks': 1372, 'firm': 1373, 'firmly': 1374, 'firs': 1375, 'first': 1376, 'fish': 1377, 'fist': 1378, 'fists': 1379, 'fit': 1380, 'five': 1381, 'fix': 1382, 'fixed': 1383, 'flame': 1384, 'flamel': 1385, 'flames': 1386, 'flaming': 1387, 'flapped': 1388, 'flapping': 1389, 'flash': 1390, 'flashed': 1391, 'flashing': 1392, 'flask': 1393, 'flat': 1394, 'flatly': 1395, 'flattened': 1396, 'flavor': 1397, 'fled': 1398, 'fleeting': 1399, 'flesh': 1400, 'fletcher': 1401, 'fleur': 1402, 'flew': 1403, 'flick': 1404, 'flicked': 1405, 'flickered': 1406, 'flickering': 1407, 'flight': 1408, 'flint': 1409, 'flitwick': 1410, 'floated': 1411, 'floating': 1412, 'floo': 1413, 'flooded': 1414, 'flooding': 1415, 'floor': 1416, 'floors': 1417, 'flourish': 1418, 'flowers': 1419, 'flown': 1420, 'fluffy': 1421, 'flung': 1422, 'flushed': 1423, 'fluttered': 1424, 'fluttering': 1425, 'fly': 1426, 'flying': 1427, 'focus': 1428, 'focused': 1429, 'folded': 1430, 'follow': 1431, 'followed': 1432, 'followers': 1433, 'following': 1434, 'fond': 1435, 'food': 1436, 'fool': 1437, 'foolish': 1438, 'foot': 1439, 'footsteps': 1440, 'forbidden': 1441, 'force': 1442, 'forced': 1443, 'forcefully': 1444, 'forcing': 1445, 'forehead': 1446, 'foreign': 1447, 'forest': 1448, 'forever': 1449, 'forget': 1450, 'forgetting': 1451, 'forgive': 1452, 'forgot': 1453, 'forgotten': 1454, 'fork': 1455, 'form': 1456, 'formed': 1457, 'forming': 1458, 'fortune': 1459, 'forty': 1460, 'forward': 1461, 'forwards': 1462, 'fought': 1463, 'foul': 1464, 'found': 1465, 'fountain': 1466, 'four': 1467, 'fourteen': 1468, 'fourth': 1469, 'fragment': 1470, 'fragments': 1471, 'frail': 1472, 'frame': 1473, 'frames': 1474, 'frank': 1475, 'frantic': 1476, 'frantically': 1477, 'fred': 1478, 'free': 1479, 'freedom': 1480, 'freezing': 1481, 'fresh': 1482, 'freshly': 1483, 'friday': 1484, 'friend': 1485, 'friendly': 1486, 'friends': 1487, 'friendship': 1488, 'fright': 1489, 'frightened': 1490, 'frightening': 1491, 'frog': 1492, 'front': 1493, 'frowned': 1494, 'frowning': 1495, 'froze': 1496, 'frozen': 1497, 'frustration': 1498, 'fudge': 1499, 'full': 1500, 'fully': 1501, 'fumbled': 1502, 'fun': 1503, 'funeral': 1504, 'funny': 1505, 'furious': 1506, 'furiously': 1507, 'fury': 1508, 'future': 1509, 'g': 1510, 'gain': 1511, 'gained': 1512, 'galleon': 1513, 'galleons': 1514, 'galloping': 1515, 'game': 1516, 'gamekeeper': 1517, 'games': 1518, 'gang': 1519, 'gap': 1520, 'gaped': 1521, 'gaping': 1522, 'garden': 1523, 'gargoyle': 1524, 'gas': 1525, 'gasp': 1526, 'gasped': 1527, 'gasping': 1528, 'gate': 1529, 'gates': 1530, 'gather': 1531, 'gathered': 1532, 'gathering': 1533, 'gaunt': 1534, 'gave': 1535, 'gaze': 1536, 'gazed': 1537, 'gazing': 1538, 'general': 1539, 'generally': 1540, 'gentle': 1541, 'gently': 1542, 'george': 1543, 'gesture': 1544, 'gestured': 1545, 'gesturing': 1546, 'get': 1547, 'gets': 1548, 'gettin': 1549, 'getting': 1550, 'ghost': 1551, 'ghostly': 1552, 'ghosts': 1553, 'giant': 1554, 'giants': 1555, 'gift': 1556, 'gigantic': 1557, 'giggled': 1558, 'giggling': 1559, 'gilderoy': 1560, 'ginger': 1561, 'ginny': 1562, 'girl': 1563, 'girlfriend': 1564, 'girls': 1565, 'git': 1566, 'give': 1567, 'given': 1568, 'gives': 1569, 'giving': 1570, 'glad': 1571, 'glance': 1572, 'glanced': 1573, 'glancing': 1574, 'glare': 1575, 'glared': 1576, 'glaring': 1577, 'glass': 1578, 'glasses': 1579, 'gleamed': 1580, 'gleaming': 1581, 'gleefully': 1582, 'glided': 1583, 'gliding': 1584, 'glimpse': 1585, 'glimpsed': 1586, 'glinting': 1587, 'glittered': 1588, 'glittering': 1589, 'gloom': 1590, 'gloomily': 1591, 'gloomy': 1592, 'glory': 1593, 'gloves': 1594, 'glow': 1595, 'glowed': 1596, 'glowering': 1597, 'glowing': 1598, 'gnarled': 1599, 'gnome': 1600, 'gnomes': 1601, 'go': 1602, 'goal': 1603, 'goals': 1604, 'goblet': 1605, 'goblets': 1606, 'goblin': 1607, 'goblins': 1608, 'god': 1609, 'godfather': 1610, 'godric': 1611, 'goes': 1612, 'goggling': 1613, 'goin': 1614, 'going': 1615, 'gold': 1616, 'golden': 1617, 'gone': 1618, 'good': 1619, 'goodness': 1620, 'got': 1621, 'gotta': 1622, 'gotten': 1623, 'gown': 1624, 'goyle': 1625, 'grab': 1626, 'grabbed': 1627, 'grabbing': 1628, 'grade': 1629, 'gran': 1630, 'grandfather': 1631, 'grandmother': 1632, 'granger': 1633, 'grasp': 1634, 'grasped': 1635, 'grass': 1636, 'grate': 1637, 'grateful': 1638, 'grave': 1639, 'graveyard': 1640, 'grawp': 1641, 'gray': 1642, 'greasy': 1643, 'great': 1644, 'greater': 1645, 'greatest': 1646, 'greatly': 1647, 'green': 1648, 'greenhouse': 1649, 'greenhouses': 1650, 'greenish': 1651, 'greeted': 1652, 'gregorovitch': 1653, 'grew': 1654, 'grey': 1655, 'greyback': 1656, 'grief': 1657, 'grim': 1658, 'grimly': 1659, 'grimmauld': 1660, 'grin': 1661, 'grindelwald': 1662, 'gringotts': 1663, 'grinned': 1664, 'grinning': 1665, 'grip': 1666, 'griphook': 1667, 'gripped': 1668, 'gripping': 1669, 'gritted': 1670, 'groan': 1671, 'groaned': 1672, 'groped': 1673, 'ground': 1674, 'grounds': 1675, 'group': 1676, 'groups': 1677, 'grow': 1678, 'growing': 1679, 'growled': 1680, 'grown': 1681, 'grubbly': 1682, 'grubby': 1683, 'gruffly': 1684, 'grumpily': 1685, 'grunted': 1686, 'gryffindor': 1687, 'gryffindors': 1688, 'guard': 1689, 'guarding': 1690, 'guards': 1691, 'guess': 1692, 'guessed': 1693, 'guests': 1694, 'guide': 1695, 'guilt': 1696, 'guilty': 1697, 'gulp': 1698, 'gulped': 1699, 'h': 1700, 'ha': 1701, 'habit': 1702, 'hagrid': 1703, 'hair': 1704, 'haired': 1705, 'hairs': 1706, 'hairy': 1707, 'half': 1708, 'halfway': 1709, 'hall': 1710, 'halloween': 1711, 'hallows': 1712, 'hallway': 1713, 'halt': 1714, 'hammering': 1715, 'hand': 1716, 'handbag': 1717, 'handed': 1718, 'handful': 1719, 'handing': 1720, 'handkerchief': 1721, 'handle': 1722, 'hands': 1723, 'handsome': 1724, 'hang': 1725, 'hanging': 1726, 'hangings': 1727, 'hannah': 1728, 'happen': 1729, 'happened': 1730, 'happening': 1731, 'happens': 1732, 'happier': 1733, 'happily': 1734, 'happiness': 1735, 'happy': 1736, 'hard': 1737, 'harder': 1738, 'hardly': 1739, 'harm': 1740, 'harry': 1741, 'harrys': 1742, 'harsh': 1743, 'hastily': 1744, 'hat': 1745, 'hate': 1746, 'hated': 1747, 'hatred': 1748, 'hats': 1749, 'head': 1750, 'headed': 1751, 'heading': 1752, 'headless': 1753, 'headline': 1754, 'headmaster': 1755, 'headmasters': 1756, 'headmistress': 1757, 'headquarters': 1758, 'heads': 1759, 'headstone': 1760, 'healer': 1761, 'health': 1762, 'heap': 1763, 'hear': 1764, 'heard': 1765, 'hearing': 1766, 'heart': 1767, 'heartily': 1768, 'heat': 1769, 'heaved': 1770, 'heaven': 1771, 'heavens': 1772, 'heavily': 1773, 'heaving': 1774, 'heavy': 1775, 'hedge': 1776, 'hedwig': 1777, 'heel': 1778, 'heels': 1779, 'height': 1780, 'heir': 1781, 'held': 1782, 'hell': 1783, 'hello': 1784, 'help': 1785, 'helped': 1786, 'helping': 1787, 'hem': 1788, 'hepzibah': 1789, 'herbology': 1790, 'hermione': 1791, 'hero': 1792, 'hesitated': 1793, 'hestia': 1794, 'hex': 1795, 'hexes': 1796, 'hey': 1797, 'hi': 1798, 'hic': 1799, 'hid': 1800, 'hidden': 1801, 'hide': 1802, 'hiding': 1803, 'high': 1804, 'higher': 1805, 'highest': 1806, 'highly': 1807, 'hill': 1808, 'hint': 1809, 'hippogriff': 1810, 'hiss': 1811, 'hissed': 1812, 'hissing': 1813, 'history': 1814, 'hit': 1815, 'hitting': 1816, 'hmm': 1817, 'hoarse': 1818, 'hoarsely': 1819, 'hog': 1820, 'hogsmeade': 1821, 'hogwarts': 1822, 'hoisted': 1823, 'hokey': 1824, 'hold': 1825, 'holding': 1826, 'hole': 1827, 'holes': 1828, 'holiday': 1829, 'holidays': 1830, 'hollow': 1831, 'holly': 1832, 'home': 1833, 'homework': 1834, 'honest': 1835, 'honestly': 1836, 'honeydukes': 1837, 'honor': 1838, 'hooch': 1839, 'hood': 1840, 'hooded': 1841, 'hooked': 1842, 'hoop': 1843, 'hoops': 1844, 'hooted': 1845, 'hooting': 1846, 'hope': 1847, 'hoped': 1848, 'hopeful': 1849, 'hopefully': 1850, 'hopelessly': 1851, 'hoping': 1852, 'horace': 1853, 'horcrux': 1854, 'horcruxes': 1855, 'horn': 1856, 'horned': 1857, 'horntail': 1858, 'horrible': 1859, 'horribly': 1860, 'horrified': 1861, 'horror': 1862, 'horse': 1863, 'horses': 1864, 'hospital': 1865, 'hot': 1866, 'hotly': 1867, 'hour': 1868, 'hours': 1869, 'house': 1870, 'houses': 1871, 'hovering': 1872, 'however': 1873, 'howl': 1874, 'howled': 1875, 'howler': 1876, 'howling': 1877, 'huddled': 1878, 'hufflepuff': 1879, 'hufflepuffs': 1880, 'hug': 1881, 'huge': 1882, 'hugged': 1883, 'hugging': 1884, 'human': 1885, 'humans': 1886, 'hundred': 1887, 'hundreds': 1888, 'hung': 1889, 'hungry': 1890, 'hunt': 1891, 'hunting': 1892, 'hurried': 1893, 'hurriedly': 1894, 'hurry': 1895, 'hurrying': 1896, 'hurt': 1897, 'hurting': 1898, 'hurtled': 1899, 'hurtling': 1900, 'husband': 1901, 'hushed': 1902, 'hut': 1903, 'ice': 1904, 'icy': 1905, 'id': 1906, 'idea': 1907, 'ideas': 1908, 'identical': 1909, 'idiot': 1910, 'ignore': 1911, 'ignored': 1912, 'ignoring': 1913, 'ill': 1914, 'illegal': 1915, 'illuminated': 1916, 'im': 1917, 'image': 1918, 'imagination': 1919, 'imagine': 1920, 'imagined': 1921, 'imagining': 1922, 'immediate': 1923, 'immediately': 1924, 'immense': 1925, 'immensely': 1926, 'impatiently': 1927, 'imperius': 1928, 'importance': 1929, 'important': 1930, 'impossible': 1931, 'impressed': 1932, 'impression': 1933, 'impressive': 1934, 'incantation': 1935, 'inch': 1936, 'inches': 1937, 'including': 1938, 'increased': 1939, 'increasingly': 1940, 'incredible': 1941, 'incredulously': 1942, 'indeed': 1943, 'indicated': 1944, 'indicating': 1945, 'indignantly': 1946, 'indignation': 1947, 'inferi': 1948, 'information': 1949, 'informed': 1950, 'ing': 1951, 'ingredients': 1952, 'inherited': 1953, 'injured': 1954, 'injuries': 1955, 'injury': 1956, 'ink': 1957, 'inner': 1958, 'innocent': 1959, 'inquisitor': 1960, 'insane': 1961, 'inside': 1962, 'insides': 1963, 'insisted': 1964, 'instance': 1965, 'instant': 1966, 'instantly': 1967, 'instead': 1968, 'instinctively': 1969, 'instructions': 1970, 'instruments': 1971, 'insult': 1972, 'intended': 1973, 'intent': 1974, 'intently': 1975, 'inter': 1976, 'interest': 1977, 'interested': 1978, 'interesting': 1979, 'international': 1980, 'interrupted': 1981, 'interview': 1982, 'introduce': 1983, 'invented': 1984, 'investigate': 1985, 'invisibility': 1986, 'invisible': 1987, 'invitation': 1988, 'invite': 1989, 'invited': 1990, 'involved': 1991, 'ireland': 1992, 'irish': 1993, 'iron': 1994, 'irritably': 1995, 'irritated': 1996, 'issued': 1997, 'issuing': 1998, 'jacket': 1999, 'james': 2000, 'jar': 2001, 'jaw': 2002, 'jealous': 2003, 'jeans': 2004, 'jeering': 2005, 'jerk': 2006, 'jerked': 2007, 'jerking': 2008, 'jet': 2009, 'jets': 2010, 'jinx': 2011, 'jinxes': 2012, 'job': 2013, 'johnson': 2014, 'join': 2015, 'joined': 2016, 'joining': 2017, 'joke': 2018, 'joking': 2019, 'jolt': 2020, 'jordan': 2021, 'jorkins': 2022, 'journey': 2023, 'judge': 2024, 'judges': 2025, 'judging': 2026, 'jug': 2027, 'juice': 2028, 'jump': 2029, 'jumped': 2030, 'jumping': 2031, 'june': 2032, 'jus': 2033, 'justin': 2034, 'karkaroff': 2035, 'katie': 2036, 'kedavra': 2037, 'keen': 2038, 'keep': 2039, 'keeper': 2040, 'keeping': 2041, 'keeps': 2042, 'kendra': 2043, 'kept': 2044, 'kettle': 2045, 'key': 2046, 'keys': 2047, 'kick': 2048, 'kicked': 2049, 'kid': 2050, 'kidding': 2051, 'kids': 2052, 'kill': 2053, 'killed': 2054, 'killing': 2055, 'kind': 2056, 'kindly': 2057, 'king': 2058, 'kingsley': 2059, 'kiss': 2060, 'kissed': 2061, 'kissing': 2062, 'kitchen': 2063, 'kitchens': 2064, 'knee': 2065, 'kneeling': 2066, 'knees': 2067, 'knew': 2068, 'knife': 2069, 'knight': 2070, 'knives': 2071, 'knock': 2072, 'knocked': 2073, 'knocking': 2074, 'knot': 2075, 'know': 2076, 'knowing': 2077, 'knowledge': 2078, 'known': 2079, 'knows': 2080, 'knuckles': 2081, 'kreacher': 2082, 'krum': 2083, 'l': 2084, 'lace': 2085, 'lack': 2086, 'ladder': 2087, 'laden': 2088, 'ladies': 2089, 'lady': 2090, 'laid': 2091, 'lake': 2092, 'lamp': 2093, 'lamps': 2094, 'land': 2095, 'landed': 2096, 'landing': 2097, 'lane': 2098, 'language': 2099, 'lantern': 2100, 'lap': 2101, 'large': 2102, 'larger': 2103, 'largest': 2104, 'last': 2105, 'lasted': 2106, 'late': 2107, 'lately': 2108, 'later': 2109, 'laugh': 2110, 'laughed': 2111, 'laughing': 2112, 'laughter': 2113, 'launched': 2114, 'lavender': 2115, 'law': 2116, 'lawn': 2117, 'lawns': 2118, 'lay': 2119, 'lazily': 2120, 'lead': 2121, 'leading': 2122, 'league': 2123, 'leaky': 2124, 'leaned': 2125, 'leaning': 2126, 'leanne': 2127, 'leap': 2128, 'leaping': 2129, 'leapt': 2130, 'learn': 2131, 'learned': 2132, 'learning': 2133, 'least': 2134, 'leather': 2135, 'leave': 2136, 'leaves': 2137, 'leaving': 2138, 'led': 2139, 'lee': 2140, 'left': 2141, 'leg': 2142, 'legged': 2143, 'legs': 2144, 'length': 2145, 'less': 2146, 'lesson': 2147, 'lessons': 2148, 'lestrange': 2149, 'let': 2150, 'letter': 2151, 'letters': 2152, 'letting': 2153, 'level': 2154, 'liar': 2155, 'library': 2156, 'lid': 2157, 'lie': 2158, 'lied': 2159, 'lies': 2160, 'life': 2161, 'lift': 2162, 'lifted': 2163, 'lifting': 2164, 'light': 2165, 'lightly': 2166, 'lightning': 2167, 'lights': 2168, 'like': 2169, 'liked': 2170, 'likely': 2171, 'likes': 2172, 'liking': 2173, 'lily': 2174, 'lime': 2175, 'limp': 2176, 'limped': 2177, 'limping': 2178, 'line': 2179, 'lined': 2180, 'lines': 2181, 'lingered': 2182, 'lip': 2183, 'lips': 2184, 'liquid': 2185, 'list': 2186, 'listen': 2187, 'listened': 2188, 'listening': 2189, 'lit': 2190, 'littered': 2191, 'little': 2192, 'live': 2193, 'lived': 2194, 'lives': 2195, 'livid': 2196, 'living': 2197, 'load': 2198, 'loads': 2199, 'loathed': 2200, 'lock': 2201, 'locked': 2202, 'locker': 2203, 'locket': 2204, 'lockhart': 2205, 'london': 2206, 'lonely': 2207, 'long': 2208, 'longbottom': 2209, 'longer': 2210, 'longing': 2211, 'look': 2212, 'looked': 2213, 'lookin': 2214, 'looking': 2215, 'lookout': 2216, 'looks': 2217, 'loony': 2218, 'loose': 2219, 'lopsided': 2220, 'lord': 2221, 'lose': 2222, 'losing': 2223, 'loss': 2224, 'lost': 2225, 'lot': 2226, 'lots': 2227, 'loud': 2228, 'louder': 2229, 'loudly': 2230, 'love': 2231, 'loved': 2232, 'lovegood': 2233, 'lovely': 2234, 'low': 2235, 'lower': 2236, 'lowered': 2237, 'lowering': 2238, 'lucius': 2239, 'luck': 2240, 'lucky': 2241, 'ludo': 2242, 'luggage': 2243, 'lumos': 2244, 'lump': 2245, 'luna': 2246, 'lunch': 2247, 'lunged': 2248, 'lungs': 2249, 'lupin': 2250, 'lurking': 2251, 'lying': 2252, 'lynch': 2253, 'macmillan': 2254, 'macnair': 2255, 'mad': 2256, 'madam': 2257, 'madame': 2258, 'made': 2259, 'madly': 2260, 'mafalda': 2261, 'magazine': 2262, 'magic': 2263, 'magical': 2264, 'magically': 2265, 'magnificent': 2266, 'magnified': 2267, 'magnolia': 2268, 'magorian': 2269, 'mail': 2270, 'main': 2271, 'mainly': 2272, 'make': 2273, 'makes': 2274, 'making': 2275, 'malfoy': 2276, 'malfoys': 2277, 'malkin': 2278, 'man': 2279, 'manage': 2280, 'managed': 2281, 'managing': 2282, 'mane': 2283, 'manner': 2284, 'mantelpiece': 2285, 'many': 2286, 'map': 2287, 'marauder': 2288, 'marble': 2289, 'march': 2290, 'marchbanks': 2291, 'marched': 2292, 'marching': 2293, 'marge': 2294, 'marietta': 2295, 'mark': 2296, 'marked': 2297, 'marks': 2298, 'maroon': 2299, 'marquee': 2300, 'married': 2301, 'marvolo': 2302, 'masked': 2303, 'mass': 2304, 'massive': 2305, 'master': 2306, 'masters': 2307, 'match': 2308, 'mate': 2309, 'matter': 2310, 'matters': 2311, 'maxime': 2312, 'may': 2313, 'maybe': 2314, 'maze': 2315, 'mcgonagall': 2316, 'mclaggen': 2317, 'mead': 2318, 'mean': 2319, 'meaning': 2320, 'means': 2321, 'meant': 2322, 'meantime': 2323, 'meanwhile': 2324, 'measure': 2325, 'measures': 2326, 'meet': 2327, 'meeting': 2328, 'meetings': 2329, 'member': 2330, 'members': 2331, 'memories': 2332, 'memory': 2333, 'men': 2334, 'mend': 2335, 'mental': 2336, 'mention': 2337, 'mentioned': 2338, 'mercy': 2339, 'mere': 2340, 'merely': 2341, 'merlin': 2342, 'merope': 2343, 'merpeople': 2344, 'merry': 2345, 'mess': 2346, 'message': 2347, 'messing': 2348, 'met': 2349, 'metal': 2350, 'michael': 2351, 'mid': 2352, 'midair': 2353, 'middle': 2354, 'midnight': 2355, 'midst': 2356, 'might': 2357, 'mildly': 2358, 'miles': 2359, 'milk': 2360, 'millicent': 2361, 'mind': 2362, 'minds': 2363, 'mine': 2364, 'minerva': 2365, 'mingled': 2366, 'minister': 2367, 'ministry': 2368, 'minute': 2369, 'minutes': 2370, 'mirror': 2371, 'miserable': 2372, 'miserably': 2373, 'miss': 2374, 'missed': 2375, 'missing': 2376, 'mission': 2377, 'mist': 2378, 'mistake': 2379, 'mistaken': 2380, 'mistress': 2381, 'misty': 2382, 'mixed': 2383, 'mixture': 2384, 'moan': 2385, 'moaned': 2386, 'moaning': 2387, 'model': 2388, 'molly': 2389, 'mom': 2390, 'moment': 2391, 'momentarily': 2392, 'moments': 2393, 'mon': 2394, 'monday': 2395, 'money': 2396, 'monster': 2397, 'monsters': 2398, 'monstrous': 2399, 'montague': 2400, 'month': 2401, 'months': 2402, 'mood': 2403, 'moody': 2404, 'moon': 2405, 'moonlight': 2406, 'mopping': 2407, 'morfin': 2408, 'morning': 2409, 'mortal': 2410, 'mother': 2411, 'motionless': 2412, 'motorbike': 2413, 'mountain': 2414, 'mountains': 2415, 'mounted': 2416, 'mouth': 2417, 'mouthed': 2418, 'mouthful': 2419, 'mouths': 2420, 'move': 2421, 'moved': 2422, 'movement': 2423, 'movements': 2424, 'moving': 2425, 'mr': 2426, 'mrs': 2427, 'much': 2428, 'mud': 2429, 'mudblood': 2430, 'mudbloods': 2431, 'muddy': 2432, 'muffled': 2433, 'mug': 2434, 'muggle': 2435, 'muggles': 2436, 'mum': 2437, 'mumbled': 2438, 'mundungus': 2439, 'mungo': 2440, 'murder': 2441, 'murdered': 2442, 'murderer': 2443, 'muriel': 2444, 'murmur': 2445, 'murmured': 2446, 'music': 2447, 'must': 2448, 'mustache': 2449, 'muttered': 2450, 'muttering': 2451, 'myrtle': 2452, 'mysteries': 2453, 'mysterious': 2454, 'n': 2455, 'nagini': 2456, 'nah': 2457, 'name': 2458, 'named': 2459, 'names': 2460, 'narcissa': 2461, 'narrow': 2462, 'narrowed': 2463, 'narrowly': 2464, 'nasty': 2465, 'natural': 2466, 'naturally': 2467, 'nature': 2468, 'near': 2469, 'nearby': 2470, 'nearer': 2471, 'nearest': 2472, 'nearly': 2473, 'neat': 2474, 'neatly': 2475, 'necessary': 2476, 'neck': 2477, 'necklace': 2478, 'necks': 2479, 'need': 2480, 'needed': 2481, 'needs': 2482, 'neither': 2483, 'nerve': 2484, 'nerves': 2485, 'nervous': 2486, 'nervously': 2487, 'network': 2488, 'never': 2489, 'nevertheless': 2490, 'neville': 2491, 'new': 2492, 'newly': 2493, 'news': 2494, 'newspaper': 2495, 'next': 2496, 'nice': 2497, 'nick': 2498, 'nicolas': 2499, 'nigellus': 2500, 'night': 2501, 'nightmare': 2502, 'nimbus': 2503, 'nine': 2504, 'ninety': 2505, 'noble': 2506, 'nobody': 2507, 'nod': 2508, 'nodded': 2509, 'nodding': 2510, 'noise': 2511, 'noises': 2512, 'noisy': 2513, 'non': 2514, 'none': 2515, 'nonsense': 2516, 'norbert': 2517, 'normal': 2518, 'normally': 2519, 'norris': 2520, 'north': 2521, 'nose': 2522, 'noses': 2523, 'nostrils': 2524, 'note': 2525, 'notes': 2526, 'nothin': 2527, 'nothing': 2528, 'notice': 2529, 'noticed': 2530, 'noticing': 2531, 'nowhere': 2532, 'nudged': 2533, 'numb': 2534, 'number': 2535, 'oak': 2536, 'obey': 2537, 'object': 2538, 'objects': 2539, 'obscured': 2540, 'obsessed': 2541, 'obvious': 2542, 'obviously': 2543, 'occasion': 2544, 'occasionally': 2545, 'occasions': 2546, 'occlumency': 2547, 'occurred': 2548, 'october': 2549, 'odd': 2550, 'oddly': 2551, 'offer': 2552, 'offered': 2553, 'offering': 2554, 'office': 2555, 'official': 2556, 'often': 2557, 'ogden': 2558, 'oh': 2559, 'oi': 2560, 'ok': 2561, 'okay': 2562, 'old': 2563, 'older': 2564, 'oldest': 2565, 'oliver': 2566, 'ollivander': 2567, 'ominous': 2568, 'omnioculars': 2569, 'one': 2570, 'ones': 2571, 'onto': 2572, 'oooh': 2573, 'open': 2574, 'opened': 2575, 'opening': 2576, 'opinion': 2577, 'opportunity': 2578, 'opposite': 2579, 'orange': 2580, 'order': 2581, 'ordered': 2582, 'orders': 2583, 'ordinary': 2584, 'original': 2585, 'orphanage': 2586, 'others': 2587, 'otherwise': 2588, 'ouch': 2589, 'ought': 2590, 'outline': 2591, 'outraged': 2592, 'outside': 2593, 'outstanding': 2594, 'outstretched': 2595, 'outta': 2596, 'overcome': 2597, 'overgrown': 2598, 'overhead': 2599, 'overheard': 2600, 'ow': 2601, 'owe': 2602, 'owl': 2603, 'owlery': 2604, 'owls': 2605, 'owned': 2606, 'owner': 2607, 'owners': 2608, 'p': 2609, 'pace': 2610, 'paces': 2611, 'pacing': 2612, 'pack': 2613, 'package': 2614, 'packed': 2615, 'packing': 2616, 'paddock': 2617, 'padma': 2618, 'page': 2619, 'pages': 2620, 'paid': 2621, 'pain': 2622, 'painful': 2623, 'painfully': 2624, 'painted': 2625, 'painting': 2626, 'pair': 2627, 'pairs': 2628, 'pajamas': 2629, 'pale': 2630, 'paler': 2631, 'palm': 2632, 'panic': 2633, 'panicked': 2634, 'pansy': 2635, 'panted': 2636, 'panting': 2637, 'paper': 2638, 'papers': 2639, 'parcel': 2640, 'parchment': 2641, 'parents': 2642, 'parkinson': 2643, 'parseltongue': 2644, 'part': 2645, 'parted': 2646, 'particular': 2647, 'particularly': 2648, 'partner': 2649, 'party': 2650, 'parvati': 2651, 'pass': 2652, 'passage': 2653, 'passageway': 2654, 'passed': 2655, 'passing': 2656, 'password': 2657, 'past': 2658, 'patch': 2659, 'patches': 2660, 'path': 2661, 'pathetic': 2662, 'patil': 2663, 'patronum': 2664, 'patronus': 2665, 'patted': 2666, 'patting': 2667, 'pause': 2668, 'paused': 2669, 'pausing': 2670, 'pavement': 2671, 'pay': 2672, 'paying': 2673, 'peace': 2674, 'pearly': 2675, 'peculiar': 2676, 'peeling': 2677, 'peered': 2678, 'peering': 2679, 'peeves': 2680, 'penalty': 2681, 'penetrate': 2682, 'pensieve': 2683, 'people': 2684, 'perch': 2685, 'perched': 2686, 'percy': 2687, 'perfect': 2688, 'perfectly': 2689, 'perform': 2690, 'performed': 2691, 'perhaps': 2692, 'permission': 2693, 'permit': 2694, 'permitted': 2695, 'perplexed': 2696, 'person': 2697, 'personal': 2698, 'personally': 2699, 'persuade': 2700, 'persuaded': 2701, 'pet': 2702, 'peter': 2703, 'petrified': 2704, 'pettigrew': 2705, 'petunia': 2706, 'phineas': 2707, 'phoenix': 2708, 'photograph': 2709, 'photographs': 2710, 'pick': 2711, 'picked': 2712, 'picking': 2713, 'picture': 2714, 'pictures': 2715, 'pie': 2716, 'piece': 2717, 'pieces': 2718, 'piercing': 2719, 'piers': 2720, 'pig': 2721, 'pigwidgeon': 2722, 'pile': 2723, 'piles': 2724, 'pillow': 2725, 'pillows': 2726, 'pince': 2727, 'pink': 2728, 'pinned': 2729, 'pipe': 2730, 'pit': 2731, 'pitch': 2732, 'pitched': 2733, 'pity': 2734, 'place': 2735, 'placed': 2736, 'places': 2737, 'placing': 2738, 'plain': 2739, 'plainly': 2740, 'plan': 2741, 'plank': 2742, 'planned': 2743, 'planning': 2744, 'plans': 2745, 'plant': 2746, 'plants': 2747, 'plate': 2748, 'plates': 2749, 'platform': 2750, 'play': 2751, 'played': 2752, 'player': 2753, 'players': 2754, 'playing': 2755, 'pleasant': 2756, 'pleasantly': 2757, 'please': 2758, 'pleased': 2759, 'pleasure': 2760, 'plenty': 2761, 'plump': 2762, 'plunged': 2763, 'pocket': 2764, 'pockets': 2765, 'point': 2766, 'pointed': 2767, 'pointing': 2768, 'pointless': 2769, 'points': 2770, 'poison': 2771, 'poisonous': 2772, 'poke': 2773, 'poked': 2774, 'poking': 2775, 'police': 2776, 'polished': 2777, 'polite': 2778, 'politely': 2779, 'poltergeist': 2780, 'polyjuice': 2781, 'pomfrey': 2782, 'pool': 2783, 'poor': 2784, 'pop': 2785, 'popping': 2786, 'popular': 2787, 'porridge': 2788, 'portkey': 2789, 'portrait': 2790, 'portraits': 2791, 'pose': 2792, 'position': 2793, 'positively': 2794, 'possess': 2795, 'possessed': 2796, 'possession': 2797, 'possessions': 2798, 'possibility': 2799, 'possible': 2800, 'possibly': 2801, 'post': 2802, 'poster': 2803, 'posters': 2804, 'posts': 2805, 'pot': 2806, 'potato': 2807, 'potion': 2808, 'potions': 2809, 'pots': 2810, 'potter': 2811, 'potters': 2812, 'pouch': 2813, 'pounded': 2814, 'pounding': 2815, 'poured': 2816, 'pouring': 2817, 'powder': 2818, 'power': 2819, 'powerful': 2820, 'powers': 2821, 'practical': 2822, 'practice': 2823, 'practices': 2824, 'practicing': 2825, 'practise': 2826, 'prat': 2827, 'precious': 2828, 'precisely': 2829, 'prefect': 2830, 'prefects': 2831, 'prefer': 2832, 'preferred': 2833, 'prepared': 2834, 'preparing': 2835, 'presence': 2836, 'present': 2837, 'presents': 2838, 'press': 2839, 'pressed': 2840, 'pressing': 2841, 'pressure': 2842, 'pretend': 2843, 'pretended': 2844, 'pretending': 2845, 'pretty': 2846, 'prevent': 2847, 'previous': 2848, 'previously': 2849, 'price': 2850, 'prickling': 2851, 'pride': 2852, 'prime': 2853, 'prince': 2854, 'prison': 2855, 'prisoners': 2856, 'private': 2857, 'privet': 2858, 'prize': 2859, 'probably': 2860, 'problem': 2861, 'problems': 2862, 'proceeded': 2863, 'prodding': 2864, 'produce': 2865, 'professor': 2866, 'professors': 2867, 'progress': 2868, 'promise': 2869, 'promised': 2870, 'promptly': 2871, 'pronounced': 2872, 'proof': 2873, 'proper': 2874, 'properly': 2875, 'prophecy': 2876, 'prophet': 2877, 'propped': 2878, 'prospect': 2879, 'protect': 2880, 'protected': 2881, 'protection': 2882, 'protective': 2883, 'protest': 2884, 'protruding': 2885, 'proud': 2886, 'proudly': 2887, 'prove': 2888, 'proved': 2889, 'pub': 2890, 'public': 2891, 'pudding': 2892, 'puffy': 2893, 'pull': 2894, 'pulled': 2895, 'pulling': 2896, 'pumpkin': 2897, 'punched': 2898, 'punching': 2899, 'punish': 2900, 'punished': 2901, 'punishment': 2902, 'pupils': 2903, 'pure': 2904, 'purple': 2905, 'purpose': 2906, 'pus': 2907, 'push': 2908, 'pushed': 2909, 'pushing': 2910, 'put': 2911, 'putting': 2912, 'puzzled': 2913, 'quaffle': 2914, 'quality': 2915, 'quarter': 2916, 'quarters': 2917, 'question': 2918, 'questioning': 2919, 'questions': 2920, 'queue': 2921, 'quibbler': 2922, 'quick': 2923, 'quickly': 2924, 'quidditch': 2925, 'quiet': 2926, 'quietly': 2927, 'quill': 2928, 'quills': 2929, 'quirrell': 2930, 'quite': 2931, 'quivering': 2932, 'quot': 2933, 'r': 2934, 'race': 2935, 'racing': 2936, 'rack': 2937, 'rage': 2938, 'ragged': 2939, 'rain': 2940, 'raise': 2941, 'raised': 2942, 'raising': 2943, 'ran': 2944, 'random': 2945, 'rang': 2946, 'range': 2947, 'rapidly': 2948, 'rare': 2949, 'rarely': 2950, 'rat': 2951, 'rather': 2952, 'rats': 2953, 'rattled': 2954, 'rattling': 2955, 'ravenclaw': 2956, 'ravenclaws': 2957, 'raw': 2958, 'reach': 2959, 'reached': 2960, 'reaching': 2961, 'reaction': 2962, 'read': 2963, 'reading': 2964, 'ready': 2965, 'real': 2966, 'realise': 2967, 'realised': 2968, 'realize': 2969, 'realized': 2970, 'realizing': 2971, 'really': 2972, 'reappeared': 2973, 'rear': 2974, 'reason': 2975, 'reasonable': 2976, 'reasonably': 2977, 'reasons': 2978, 'receive': 2979, 'received': 2980, 'recent': 2981, 'recently': 2982, 'reckon': 2983, 'reckons': 2984, 'recognised': 2985, 'recognize': 2986, 'recognized': 2987, 'record': 2988, 'red': 2989, 'reflected': 2990, 'reflection': 2991, 'refuse': 2992, 'refused': 2993, 'refusing': 2994, 'register': 2995, 'regret': 2996, 'regular': 2997, 'regulus': 2998, 'related': 2999, 'relatives': 3000, 'relaxed': 3001, 'release': 3002, 'released': 3003, 'relief': 3004, 'relieved': 3005, 'reluctantly': 3006, 'remain': 3007, 'remained': 3008, 'remaining': 3009, 'remains': 3010, 'remember': 3011, 'remembered': 3012, 'remembering': 3013, 'remind': 3014, 'reminded': 3015, 'reminding': 3016, 'remorse': 3017, 'remove': 3018, 'removed': 3019, 'remus': 3020, 'repair': 3021, 'repaired': 3022, 'repeat': 3023, 'repeated': 3024, 'replaced': 3025, 'replied': 3026, 'reply': 3027, 'report': 3028, 'reported': 3029, 'request': 3030, 'require': 3031, 'required': 3032, 'requirement': 3033, 'rescue': 3034, 'resembled': 3035, 'resentful': 3036, 'resigned': 3037, 'resist': 3038, 'respect': 3039, 'respond': 3040, 'response': 3041, 'responsibility': 3042, 'responsible': 3043, 'rest': 3044, 'rested': 3045, 'resting': 3046, 'results': 3047, 'resumed': 3048, 'retreated': 3049, 'retrieve': 3050, 'return': 3051, 'returned': 3052, 'returning': 3053, 'reveal': 3054, 'revealed': 3055, 'revealing': 3056, 'revenge': 3057, 'revolving': 3058, 'reward': 3059, 'ribs': 3060, 'rid': 3061, 'riddikulus': 3062, 'riddle': 3063, 'riddles': 3064, 'ride': 3065, 'ridiculous': 3066, 'righ': 3067, 'right': 3068, 'rigid': 3069, 'ring': 3070, 'ringing': 3071, 'rip': 3072, 'ripped': 3073, 'ripping': 3074, 'rippling': 3075, 'rise': 3076, 'risen': 3077, 'rising': 3078, 'risk': 3079, 'rita': 3080, 'river': 3081, 'road': 3082, 'roar': 3083, 'roared': 3084, 'roaring': 3085, 'robe': 3086, 'roberts': 3087, 'robes': 3088, 'rock': 3089, 'roger': 3090, 'roll': 3091, 'rolled': 3092, 'rolling': 3093, 'rolls': 3094, 'romilda': 3095, 'ron': 3096, 'ronald': 3097, 'ronan': 3098, 'roof': 3099, 'rookwood': 3100, 'room': 3101, 'rooms': 3102, 'roots': 3103, 'rope': 3104, 'ropes': 3105, 'rose': 3106, 'rosmerta': 3107, 'rough': 3108, 'roughly': 3109, 'round': 3110, 'rounded': 3111, 'row': 3112, 'rows': 3113, 'rubbed': 3114, 'rubbing': 3115, 'rubbish': 3116, 'rucksack': 3117, 'ruddy': 3118, 'rude': 3119, 'ruffled': 3120, 'rufus': 3121, 'ruined': 3122, 'rule': 3123, 'rules': 3124, 'rumbling': 3125, 'rummaged': 3126, 'rummaging': 3127, 'rumors': 3128, 'run': 3129, 'runes': 3130, 'running': 3131, 'rush': 3132, 'rushed': 3133, 'rushing': 3134, 'rustling': 3135, 'sack': 3136, 'sacked': 3137, 'sad': 3138, 'sadly': 3139, 'safe': 3140, 'safely': 3141, 'safety': 3142, 'said': 3143, 'sake': 3144, 'sallow': 3145, 'sank': 3146, 'sarcastically': 3147, 'sat': 3148, 'satisfaction': 3149, 'satisfied': 3150, 'saturday': 3151, 'sausages': 3152, 'savagely': 3153, 'save': 3154, 'saved': 3155, 'saving': 3156, 'saw': 3157, 'say': 3158, 'saying': 3159, 'says': 3160, 'scabbers': 3161, 'scabior': 3162, 'scales': 3163, 'scanned': 3164, 'scanning': 3165, 'scar': 3166, 'scared': 3167, 'scarlet': 3168, 'scars': 3169, 'scarves': 3170, 'scattered': 3171, 'scene': 3172, 'schedule': 3173, 'school': 3174, 'schoolbag': 3175, 'scooped': 3176, 'score': 3177, 'scored': 3178, 'scowled': 3179, 'scowling': 3180, 'scrambled': 3181, 'scratched': 3182, 'scratching': 3183, 'scream': 3184, 'screamed': 3185, 'screaming': 3186, 'screams': 3187, 'screech': 3188, 'screeched': 3189, 'screwed': 3190, 'scribbled': 3191, 'scribbling': 3192, 'scrimgeour': 3193, 'scroll': 3194, 'scum': 3195, 'scurrying': 3196, 'sea': 3197, 'sealed': 3198, 'seamus': 3199, 'search': 3200, 'searched': 3201, 'searching': 3202, 'seared': 3203, 'seat': 3204, 'seated': 3205, 'seats': 3206, 'second': 3207, 'seconds': 3208, 'secrecy': 3209, 'secret': 3210, 'secrets': 3211, 'section': 3212, 'secure': 3213, 'security': 3214, 'see': 3215, 'seeing': 3216, 'seek': 3217, 'seeker': 3218, 'seeking': 3219, 'seem': 3220, 'seemed': 3221, 'seems': 3222, 'seen': 3223, 'sees': 3224, 'seize': 3225, 'seized': 3226, 'seizing': 3227, 'self': 3228, 'sell': 3229, 'send': 3230, 'sending': 3231, 'sensation': 3232, 'sense': 3233, 'sensed': 3234, 'senses': 3235, 'sent': 3236, 'sentence': 3237, 'separate': 3238, 'separated': 3239, 'september': 3240, 'serenely': 3241, 'series': 3242, 'serious': 3243, 'seriously': 3244, 'serpent': 3245, 'servant': 3246, 'serve': 3247, 'served': 3248, 'service': 3249, 'set': 3250, 'setting': 3251, 'settle': 3252, 'settled': 3253, 'seven': 3254, 'seventeen': 3255, 'seventh': 3256, 'several': 3257, 'severe': 3258, 'severely': 3259, 'severus': 3260, 'shabby': 3261, 'shack': 3262, 'shacklebolt': 3263, 'shade': 3264, 'shadow': 3265, 'shadows': 3266, 'shadowy': 3267, 'shaggy': 3268, 'shake': 3269, 'shaken': 3270, 'shakily': 3271, 'shaking': 3272, 'shall': 3273, 'shame': 3274, 'shape': 3275, 'shaped': 3276, 'shapes': 3277, 'share': 3278, 'shared': 3279, 'sharing': 3280, 'sharp': 3281, 'sharply': 3282, 'shattered': 3283, 'sheet': 3284, 'sheets': 3285, 'shelf': 3286, 'shell': 3287, 'shelves': 3288, 'shh': 3289, 'shield': 3290, 'shifted': 3291, 'shifting': 3292, 'shimmering': 3293, 'shining': 3294, 'shiny': 3295, 'ship': 3296, 'shirt': 3297, 'shivered': 3298, 'shivering': 3299, 'shock': 3300, 'shocked': 3301, 'shoes': 3302, 'shone': 3303, 'shook': 3304, 'shooting': 3305, 'shop': 3306, 'shopping': 3307, 'shops': 3308, 'short': 3309, 'shorter': 3310, 'shortly': 3311, 'shot': 3312, 'shoulder': 3313, 'shoulders': 3314, 'shout': 3315, 'shouted': 3316, 'shouting': 3317, 'shouts': 3318, 'shoved': 3319, 'show': 3320, 'showed': 3321, 'shower': 3322, 'showing': 3323, 'shown': 3324, 'shows': 3325, 'shriek': 3326, 'shrieked': 3327, 'shrieking': 3328, 'shrilly': 3329, 'shrinking': 3330, 'shrugged': 3331, 'shrugging': 3332, 'shudder': 3333, 'shuddered': 3334, 'shuddering': 3335, 'shuffled': 3336, 'shuffling': 3337, 'shunpike': 3338, 'shut': 3339, 'sick': 3340, 'sickles': 3341, 'side': 3342, 'sidecar': 3343, 'sides': 3344, 'sideways': 3345, 'sigh': 3346, 'sighed': 3347, 'sight': 3348, 'sign': 3349, 'signed': 3350, 'signs': 3351, 'silence': 3352, 'silent': 3353, 'silently': 3354, 'silk': 3355, 'silly': 3356, 'silver': 3357, 'silvery': 3358, 'simple': 3359, 'simply': 3360, 'since': 3361, 'sincerely': 3362, 'singing': 3363, 'single': 3364, 'sinister': 3365, 'sink': 3366, 'sinking': 3367, 'sir': 3368, 'sirius': 3369, 'sister': 3370, 'sisters': 3371, 'sit': 3372, 'sitting': 3373, 'situation': 3374, 'six': 3375, 'sixteen': 3376, 'sixth': 3377, 'sixty': 3378, 'size': 3379, 'sized': 3380, 'skeeter': 3381, 'skidded': 3382, 'skin': 3383, 'skinny': 3384, 'skrewt': 3385, 'skrewts': 3386, 'skull': 3387, 'sky': 3388, 'slammed': 3389, 'slamming': 3390, 'sleek': 3391, 'sleep': 3392, 'sleeping': 3393, 'sleepy': 3394, 'sleeve': 3395, 'sleeves': 3396, 'slept': 3397, 'slid': 3398, 'slide': 3399, 'sliding': 3400, 'slight': 3401, 'slightest': 3402, 'slightly': 3403, 'slimy': 3404, 'slip': 3405, 'slipped': 3406, 'slipping': 3407, 'slit': 3408, 'slithering': 3409, 'slits': 3410, 'sloping': 3411, 'slow': 3412, 'slowed': 3413, 'slowly': 3414, 'slug': 3415, 'slughorn': 3416, 'slugs': 3417, 'slumped': 3418, 'slytherin': 3419, 'slytherins': 3420, 'small': 3421, 'smaller': 3422, 'smallest': 3423, 'smart': 3424, 'smashed': 3425, 'smell': 3426, 'smelled': 3427, 'smile': 3428, 'smiled': 3429, 'smiling': 3430, 'smirked': 3431, 'smirking': 3432, 'smith': 3433, 'smoke': 3434, 'smoking': 3435, 'smooth': 3436, 'smoothly': 3437, 'snake': 3438, 'snakelike': 3439, 'snakes': 3440, 'snap': 3441, 'snape': 3442, 'snapped': 3443, 'snapping': 3444, 'snarled': 3445, 'snatched': 3446, 'snatching': 3447, 'sneak': 3448, 'sneaked': 3449, 'sneaking': 3450, 'sneakoscope': 3451, 'sneer': 3452, 'sneered': 3453, 'sneering': 3454, 'sniffed': 3455, 'sniggered': 3456, 'snitch': 3457, 'snorted': 3458, 'snout': 3459, 'snow': 3460, 'snowy': 3461, 'soared': 3462, 'soaring': 3463, 'sob': 3464, 'sobbed': 3465, 'sobbing': 3466, 'sobs': 3467, 'socks': 3468, 'sofa': 3469, 'soft': 3470, 'softly': 3471, 'solid': 3472, 'solution': 3473, 'somebody': 3474, 'somehow': 3475, 'someone': 3476, 'something': 3477, 'sometimes': 3478, 'somewhat': 3479, 'somewhere': 3480, 'son': 3481, 'song': 3482, 'sons': 3483, 'soon': 3484, 'sooner': 3485, 'sorcerer': 3486, 'sorry': 3487, 'sort': 3488, 'sorted': 3489, 'sorting': 3490, 'sorts': 3491, 'sought': 3492, 'soul': 3493, 'sound': 3494, 'sounded': 3495, 'sounding': 3496, 'sounds': 3497, 'soup': 3498, 'source': 3499, 'space': 3500, 'spare': 3501, 'sparkling': 3502, 'sparks': 3503, 'spat': 3504, 'speak': 3505, 'speaking': 3506, 'special': 3507, 'spectacles': 3508, 'spectacular': 3509, 'sped': 3510, 'speech': 3511, 'speed': 3512, 'speeding': 3513, 'spell': 3514, 'spellbooks': 3515, 'spells': 3516, 'spend': 3517, 'spending': 3518, 'spent': 3519, 'spider': 3520, 'spiders': 3521, 'spilled': 3522, 'spilling': 3523, 'spinnet': 3524, 'spinning': 3525, 'spiral': 3526, 'spirit': 3527, 'spirits': 3528, 'spite': 3529, 'spitting': 3530, 'split': 3531, 'spluttered': 3532, 'spoke': 3533, 'spoken': 3534, 'spot': 3535, 'spots': 3536, 'spotted': 3537, 'sprang': 3538, 'sprawled': 3539, 'spread': 3540, 'spreading': 3541, 'sprinted': 3542, 'sprinting': 3543, 'sprout': 3544, 'spun': 3545, 'spy': 3546, 'squad': 3547, 'square': 3548, 'squashed': 3549, 'squeak': 3550, 'squeaked': 3551, 'squealed': 3552, 'squeezed': 3553, 'squeezing': 3554, 'squib': 3555, 'squinted': 3556, 'squinting': 3557, 'st': 3558, 'stab': 3559, 'stack': 3560, 'stadium': 3561, 'staff': 3562, 'stag': 3563, 'stage': 3564, 'staggered': 3565, 'stained': 3566, 'staircase': 3567, 'stairs': 3568, 'stalked': 3569, 'stammered': 3570, 'stamping': 3571, 'stan': 3572, 'stand': 3573, 'standard': 3574, 'standing': 3575, 'stands': 3576, 'star': 3577, 'stare': 3578, 'stared': 3579, 'staring': 3580, 'starry': 3581, 'stars': 3582, 'start': 3583, 'started': 3584, 'starting': 3585, 'startled': 3586, 'starving': 3587, 'state': 3588, 'station': 3589, 'statue': 3590, 'statues': 3591, 'stay': 3592, 'stayed': 3593, 'staying': 3594, 'steadily': 3595, 'steady': 3596, 'steak': 3597, 'steal': 3598, 'stealing': 3599, 'steam': 3600, 'steep': 3601, 'steering': 3602, 'step': 3603, 'stepped': 3604, 'steps': 3605, 'stern': 3606, 'sternly': 3607, 'stick': 3608, 'sticking': 3609, 'stiff': 3610, 'stiffly': 3611, 'still': 3612, 'stir': 3613, 'stirred': 3614, 'stirring': 3615, 'stole': 3616, 'stolen': 3617, 'stomach': 3618, 'stone': 3619, 'stones': 3620, 'stood': 3621, 'stool': 3622, 'stooped': 3623, 'stop': 3624, 'stopped': 3625, 'stopping': 3626, 'store': 3627, 'stories': 3628, 'storm': 3629, 'stormed': 3630, 'story': 3631, 'straight': 3632, 'straightened': 3633, 'straightening': 3634, 'strained': 3635, 'straining': 3636, 'strange': 3637, 'strangely': 3638, 'stranger': 3639, 'strangled': 3640, 'streaked': 3641, 'stream': 3642, 'streaming': 3643, 'street': 3644, 'strength': 3645, 'stretch': 3646, 'stretched': 3647, 'stretching': 3648, 'strewn': 3649, 'stricken': 3650, 'striding': 3651, 'strike': 3652, 'string': 3653, 'strode': 3654, 'stroke': 3655, 'stroking': 3656, 'strolled': 3657, 'strong': 3658, 'stronger': 3659, 'strongly': 3660, 'struck': 3661, 'struggle': 3662, 'struggled': 3663, 'struggling': 3664, 'stubbornly': 3665, 'stubby': 3666, 'stuck': 3667, 'student': 3668, 'students': 3669, 'study': 3670, 'studying': 3671, 'stuff': 3672, 'stuffed': 3673, 'stuffing': 3674, 'stumbled': 3675, 'stumped': 3676, 'stunned': 3677, 'stunning': 3678, 'stupefy': 3679, 'stupid': 3680, 'sturgis': 3681, 'subject': 3682, 'subjects': 3683, 'substance': 3684, 'succeeded': 3685, 'success': 3686, 'sudden': 3687, 'suddenly': 3688, 'suffered': 3689, 'suffering': 3690, 'sugar': 3691, 'suggest': 3692, 'suggested': 3693, 'suit': 3694, 'summer': 3695, 'summon': 3696, 'summoning': 3697, 'sun': 3698, 'sunday': 3699, 'sunk': 3700, 'sunken': 3701, 'sunlight': 3702, 'support': 3703, 'supported': 3704, 'supporters': 3705, 'suppose': 3706, 'supposed': 3707, 'suppress': 3708, 'sure': 3709, 'surely': 3710, 'surface': 3711, 'surge': 3712, 'surprise': 3713, 'surprised': 3714, 'surrounded': 3715, 'surrounding': 3716, 'surveyed': 3717, 'surveying': 3718, 'survive': 3719, 'survived': 3720, 'suspected': 3721, 'suspended': 3722, 'suspicion': 3723, 'suspicious': 3724, 'suspiciously': 3725, 'swallowed': 3726, 'swam': 3727, 'swarming': 3728, 'swayed': 3729, 'swaying': 3730, 'swear': 3731, 'sweat': 3732, 'sweater': 3733, 'sweating': 3734, 'sweaty': 3735, 'sweeping': 3736, 'sweet': 3737, 'sweetly': 3738, 'sweets': 3739, 'swelled': 3740, 'swelling': 3741, 'swept': 3742, 'swerved': 3743, 'swiftly': 3744, 'swig': 3745, 'swimming': 3746, 'swing': 3747, 'swinging': 3748, 'swirling': 3749, 'swollen': 3750, 'swooped': 3751, 'swooping': 3752, 'sword': 3753, 'swore': 3754, 'sworn': 3755, 'swung': 3756, 'symbol': 3757, 'table': 3758, 'tables': 3759, 'tail': 3760, 'take': 3761, 'taken': 3762, 'takes': 3763, 'taking': 3764, 'tale': 3765, 'talent': 3766, 'tales': 3767, 'talk': 3768, 'talked': 3769, 'talking': 3770, 'tall': 3771, 'taller': 3772, 'tangled': 3773, 'tank': 3774, 'tap': 3775, 'tapestry': 3776, 'tapped': 3777, 'tapping': 3778, 'task': 3779, 'tasks': 3780, 'taste': 3781, 'taught': 3782, 'tea': 3783, 'teach': 3784, 'teacher': 3785, 'teachers': 3786, 'teaching': 3787, 'teacup': 3788, 'team': 3789, 'teams': 3790, 'tear': 3791, 'tearing': 3792, 'tears': 3793, 'ted': 3794, 'teeth': 3795, 'telephone': 3796, 'telescope': 3797, 'television': 3798, 'tell': 3799, 'telling': 3800, 'tells': 3801, 'temper': 3802, 'temple': 3803, 'ten': 3804, 'tense': 3805, 'tent': 3806, 'tentatively': 3807, 'tents': 3808, 'ter': 3809, 'term': 3810, 'terms': 3811, 'terrible': 3812, 'terrified': 3813, 'terror': 3814, 'test': 3815, 'tested': 3816, 'tha': 3817, 'thank': 3818, 'thanks': 3819, 'theory': 3820, 'therefore': 3821, 'thestral': 3822, 'thestrals': 3823, 'thick': 3824, 'thickly': 3825, 'thicknesse': 3826, 'thief': 3827, 'thin': 3828, 'thing': 3829, 'things': 3830, 'think': 3831, 'thinking': 3832, 'thinks': 3833, 'third': 3834, 'thirteen': 3835, 'thirty': 3836, 'thomas': 3837, 'thoroughly': 3838, 'though': 3839, 'thought': 3840, 'thoughtfully': 3841, 'thoughts': 3842, 'thousand': 3843, 'thousands': 3844, 'thrashing': 3845, 'thread': 3846, 'threatened': 3847, 'threatening': 3848, 'three': 3849, 'threshold': 3850, 'threw': 3851, 'throat': 3852, 'throbbing': 3853, 'throughout': 3854, 'throw': 3855, 'throwing': 3856, 'thrown': 3857, 'thrust': 3858, 'thud': 3859, 'thumping': 3860, 'thundering': 3861, 'thursday': 3862, 'tickets': 3863, 'tie': 3864, 'tied': 3865, 'tight': 3866, 'tightly': 3867, 'till': 3868, 'time': 3869, 'times': 3870, 'tin': 3871, 'tiny': 3872, 'tip': 3873, 'tipped': 3874, 'tips': 3875, 'tired': 3876, 'toad': 3877, 'toast': 3878, 'today': 3879, 'toes': 3880, 'together': 3881, 'toilet': 3882, 'told': 3883, 'tom': 3884, 'tomorrow': 3885, 'tone': 3886, 'tones': 3887, 'tongue': 3888, 'tonight': 3889, 'tonks': 3890, 'took': 3891, 'top': 3892, 'topmost': 3893, 'toppled': 3894, 'torches': 3895, 'tore': 3896, 'torn': 3897, 'torture': 3898, 'tortured': 3899, 'total': 3900, 'touch': 3901, 'touched': 3902, 'touching': 3903, 'tough': 3904, 'tournament': 3905, 'toward': 3906, 'towards': 3907, 'tower': 3908, 'towering': 3909, 'trace': 3910, 'track': 3911, 'tracks': 3912, 'trailing': 3913, 'train': 3914, 'trained': 3915, 'training': 3916, 'traitor': 3917, 'transfiguration': 3918, 'transfixed': 3919, 'transform': 3920, 'transformed': 3921, 'transparent': 3922, 'trapdoor': 3923, 'trapped': 3924, 'traveled': 3925, 'traveling': 3926, 'travers': 3927, 'tray': 3928, 'treacle': 3929, 'treasure': 3930, 'treat': 3931, 'treated': 3932, 'tree': 3933, 'trees': 3934, 'trelawney': 3935, 'trembled': 3936, 'trembling': 3937, 'trevor': 3938, 'trick': 3939, 'tricks': 3940, 'tricky': 3941, 'tried': 3942, 'trip': 3943, 'tripped': 3944, 'triumph': 3945, 'triumphant': 3946, 'triwizard': 3947, 'troll': 3948, 'trolley': 3949, 'trolls': 3950, 'trouble': 3951, 'troubled': 3952, 'true': 3953, 'truly': 3954, 'trunk': 3955, 'trunks': 3956, 'trust': 3957, 'trusted': 3958, 'trusts': 3959, 'truth': 3960, 'try': 3961, 'trying': 3962, 'tucked': 3963, 'tuesday': 3964, 'tugged': 3965, 'tugging': 3966, 'tunnel': 3967, 'turban': 3968, 'turn': 3969, 'turned': 3970, 'turning': 3971, 'turns': 3972, 'twelve': 3973, 'twenty': 3974, 'twice': 3975, 'twigs': 3976, 'twin': 3977, 'twinkling': 3978, 'twins': 3979, 'twisted': 3980, 'twisting': 3981, 'twitched': 3982, 'twitching': 3983, 'two': 3984, 'tying': 3985, 'ugly': 3986, 'um': 3987, 'umbrella': 3988, 'umbridge': 3989, 'un': 3990, 'unable': 3991, 'unaware': 3992, 'uncertainly': 3993, 'uncle': 3994, 'uncomfortable': 3995, 'uncomfortably': 3996, 'unconscious': 3997, 'uncontrollably': 3998, 'underage': 3999, 'underground': 4000, 'underneath': 4001, 'understand': 4002, 'understanding': 4003, 'understood': 4004, 'undertone': 4005, 'undoubtedly': 4006, 'uneasy': 4007, 'unexpected': 4008, 'unfolded': 4009, 'unfortunate': 4010, 'unfortunately': 4011, 'unicorn': 4012, 'united': 4013, 'unknown': 4014, 'unless': 4015, 'unlike': 4016, 'unlikely': 4017, 'unpleasant': 4018, 'unpleasantly': 4019, 'untidy': 4020, 'unusual': 4021, 'unusually': 4022, 'upon': 4023, 'upper': 4024, 'upright': 4025, 'upset': 4026, 'upside': 4027, 'upstairs': 4028, 'upward': 4029, 'upwards': 4030, 'urge': 4031, 'urged': 4032, 'urgent': 4033, 'urgently': 4034, 'us': 4035, 'use': 4036, 'used': 4037, 'useful': 4038, 'useless': 4039, 'uses': 4040, 'using': 4041, 'usual': 4042, 'usually': 4043, 'utter': 4044, 'utterly': 4045, 'vaguely': 4046, 'valuable': 4047, 'vanish': 4048, 'vanished': 4049, 'vanishing': 4050, 'various': 4051, 'vast': 4052, 'vault': 4053, 'veela': 4054, 'veil': 4055, 'velvet': 4056, 'venom': 4057, 'vernon': 4058, 'version': 4059, 'vicious': 4060, 'victims': 4061, 'view': 4062, 'vigorously': 4063, 'viktor': 4064, 'village': 4065, 'violent': 4066, 'violently': 4067, 'violet': 4068, 'visible': 4069, 'vision': 4070, 'visit': 4071, 'visited': 4072, 'visiting': 4073, 'visitors': 4074, 'vivid': 4075, 'voice': 4076, 'voices': 4077, 'vol': 4078, 'voldemort': 4079, 'voldemorts': 4080, 'w': 4081, 'wailing': 4082, 'waist': 4083, 'wait': 4084, 'waited': 4085, 'waiting': 4086, 'wake': 4087, 'walk': 4088, 'walked': 4089, 'walking': 4090, 'wall': 4091, 'walls': 4092, 'wan': 4093, 'wand': 4094, 'wandered': 4095, 'wandering': 4096, 'wandlight': 4097, 'wandmaker': 4098, 'wands': 4099, 'want': 4100, 'wanted': 4101, 'wanting': 4102, 'wants': 4103, 'war': 4104, 'ward': 4105, 'wardrobe': 4106, 'warlock': 4107, 'warm': 4108, 'warmth': 4109, 'warn': 4110, 'warned': 4111, 'warning': 4112, 'warrington': 4113, 'wary': 4114, 'wash': 4115, 'washed': 4116, 'waste': 4117, 'wasted': 4118, 'wasting': 4119, 'watch': 4120, 'watched': 4121, 'watching': 4122, 'water': 4123, 'watery': 4124, 'wave': 4125, 'waved': 4126, 'waving': 4127, 'way': 4128, 'ways': 4129, 'weak': 4130, 'weakly': 4131, 'weapon': 4132, 'wear': 4133, 'wearily': 4134, 'wearing': 4135, 'weasley': 4136, 'weasleys': 4137, 'weather': 4138, 'web': 4139, 'wedding': 4140, 'wednesday': 4141, 'week': 4142, 'weekend': 4143, 'weeks': 4144, 'weight': 4145, 'weird': 4146, 'welcome': 4147, 'well': 4148, 'went': 4149, 'werewolf': 4150, 'werewolves': 4151, 'west': 4152, 'wet': 4153, 'wha': 4154, 'whatever': 4155, 'whatsoever': 4156, 'wheeled': 4157, 'wheezy': 4158, 'whenever': 4159, 'whereabouts': 4160, 'wherever': 4161, 'whether': 4162, 'whimpering': 4163, 'whinging': 4164, 'whipped': 4165, 'whirled': 4166, 'whisper': 4167, 'whispered': 4168, 'whispering': 4169, 'whistle': 4170, 'whistling': 4171, 'white': 4172, 'whoever': 4173, 'whole': 4174, 'whomping': 4175, 'whose': 4176, 'wide': 4177, 'widely': 4178, 'widened': 4179, 'widening': 4180, 'wider': 4181, 'wife': 4182, 'wild': 4183, 'wildly': 4184, 'willing': 4185, 'willow': 4186, 'win': 4187, 'winced': 4188, 'wind': 4189, 'winding': 4190, 'window': 4191, 'windows': 4192, 'windowsill': 4193, 'wine': 4194, 'wing': 4195, 'winged': 4196, 'wings': 4197, 'winked': 4198, 'winking': 4199, 'winky': 4200, 'winning': 4201, 'wipe': 4202, 'wiped': 4203, 'wiping': 4204, 'wise': 4205, 'wish': 4206, 'wished': 4207, 'wishes': 4208, 'wishing': 4209, 'witch': 4210, 'witchcraft': 4211, 'witches': 4212, 'withdrew': 4213, 'within': 4214, 'without': 4215, 'witness': 4216, 'witnessed': 4217, 'wizard': 4218, 'wizarding': 4219, 'wizardry': 4220, 'wizards': 4221, 'wizengamot': 4222, 'woke': 4223, 'woken': 4224, 'woman': 4225, 'women': 4226, 'wonder': 4227, 'wondered': 4228, 'wonderful': 4229, 'wondering': 4230, 'wood': 4231, 'wooden': 4232, 'woods': 4233, 'word': 4234, 'words': 4235, 'wore': 4236, 'work': 4237, 'worked': 4238, 'working': 4239, 'works': 4240, 'world': 4241, 'wormtail': 4242, 'worn': 4243, 'worried': 4244, 'worry': 4245, 'worrying': 4246, 'worse': 4247, 'worst': 4248, 'worth': 4249, 'worthy': 4250, 'would': 4251, 'wound': 4252, 'wounds': 4253, 'wow': 4254, 'wrapped': 4255, 'wrenched': 4256, 'wrist': 4257, 'write': 4258, 'writhing': 4259, 'writing': 4260, 'written': 4261, 'wrong': 4262, 'wrote': 4263, 'xenophilius': 4264, 'yard': 4265, 'yards': 4266, 'yawned': 4267, 'yawning': 4268, 'yaxley': 4269, 'yeah': 4270, 'year': 4271, 'years': 4272, 'yeh': 4273, 'yell': 4274, 'yelled': 4275, 'yelling': 4276, 'yellow': 4277, 'yellowish': 4278, 'yells': 4279, 'yep': 4280, 'yer': 4281, 'yes': 4282, 'yesterday': 4283, 'yet': 4284, 'young': 4285, 'younger': 4286, 'youngest': 4287, 'youth': 4288, 'zabini': 4289, 'zacharias': 4290, 'ze': 4291, 'zonko': 4292, 'zoomed': 4293, 'zooming': 4294, '¨c': 4295, '—': 4296, '”': 4297}\n",
            "{'1': 0, 'aback': 1, 'abandoned': 2, 'abbott': 3, 'aberforth': 4, 'ability': 5, 'able': 6, 'abou': 7, 'abruptly': 8, 'absence': 9, 'absolutely': 10, 'accept': 11, 'accepted': 12, 'accident': 13, 'accidentally': 14, 'accidents': 15, 'accio': 16, 'accompanied': 17, 'according': 18, 'account': 19, 'achieved': 20, 'aching': 21, 'across': 22, 'act': 23, 'acted': 24, 'acting': 25, 'action': 26, 'actually': 27, 'add': 28, 'added': 29, 'adding': 30, 'address': 31, 'addressed': 32, 'admit': 33, 'admitted': 34, 'advanced': 35, 'advancing': 36, 'advantage': 37, 'adventure': 38, 'advice': 39, 'advised': 40, 'afford': 41, 'afraid': 42, 'afternoon': 43, 'afterward': 44, 'age': 45, 'aged': 46, 'ages': 47, 'ago': 48, 'agony': 49, 'agree': 50, 'agreed': 51, 'ah': 52, 'ahead': 53, 'aid': 54, 'aim': 55, 'aimed': 56, 'aiming': 57, 'air': 58, 'aisle': 59, 'ajar': 60, 'alarm': 61, 'alarmed': 62, 'albus': 63, 'alecto': 64, 'alert': 65, 'alicia': 66, 'alive': 67, 'alley': 68, 'alleyway': 69, 'allow': 70, 'allowed': 71, 'allowing': 72, 'almost': 73, 'alone': 74, 'along': 75, 'alongside': 76, 'aloud': 77, 'already': 78, 'also': 79, 'although': 80, 'always': 81, 'amazed': 82, 'amazement': 83, 'amazing': 84, 'ambition': 85, 'among': 86, 'amongst': 87, 'amos': 88, 'amount': 89, 'amused': 90, 'amusing': 91, 'amycus': 92, 'ancient': 93, 'angelina': 94, 'anger': 95, 'angle': 96, 'angrily': 97, 'angry': 98, 'animagus': 99, 'animal': 100, 'animals': 101, 'ankle': 102, 'ankles': 103, 'announced': 104, 'annoyed': 105, 'another': 106, 'answer': 107, 'answered': 108, 'answering': 109, 'answers': 110, 'anti': 111, 'antidote': 112, 'antidotes': 113, 'anxious': 114, 'anxiously': 115, 'anybody': 116, 'anymore': 117, 'anyone': 118, 'anythin': 119, 'anything': 120, 'anyway': 121, 'anywhere': 122, 'apart': 123, 'appalled': 124, 'apparate': 125, 'apparently': 126, 'apparition': 127, 'appear': 128, 'appearance': 129, 'appeared': 130, 'appearing': 131, 'applause': 132, 'appointment': 133, 'appreciate': 134, 'apprehensive': 135, 'approach': 136, 'approached': 137, 'approaching': 138, 'approval': 139, 'aragog': 140, 'archway': 141, 'area': 142, 'argue': 143, 'arguing': 144, 'argument': 145, 'argus': 146, 'ariana': 147, 'arithmancy': 148, 'arm': 149, 'armchair': 150, 'armchairs': 151, 'armed': 152, 'armor': 153, 'arms': 154, 'army': 155, 'around': 156, 'arranged': 157, 'arrested': 158, 'arrival': 159, 'arrive': 160, 'arrived': 161, 'arriving': 162, 'arrogant': 163, 'arry': 164, 'arthur': 165, 'article': 166, 'arts': 167, 'ashamed': 168, 'aside': 169, 'ask': 170, 'asked': 171, 'asking': 172, 'asleep': 173, 'assistant': 174, 'assume': 175, 'assure': 176, 'assured': 177, 'astonished': 178, 'astonishment': 179, 'astronomy': 180, 'ate': 181, 'atmosphere': 182, 'atrium': 183, 'attached': 184, 'attack': 185, 'attacked': 186, 'attacking': 187, 'attacks': 188, 'attempt': 189, 'attempted': 190, 'attempting': 191, 'attempts': 192, 'attend': 193, 'attention': 194, 'attitude': 195, 'august': 196, 'aunt': 197, 'auntie': 198, 'auror': 199, 'aurors': 200, 'authority': 201, 'automatically': 202, 'avada': 203, 'ave': 204, 'avery': 205, 'avoid': 206, 'avoided': 207, 'avoiding': 208, 'awake': 209, 'award': 210, 'aware': 211, 'away': 212, 'awful': 213, 'awkward': 214, 'awkwardly': 215, 'awoke': 216, 'azkaban': 217, 'b': 218, 'baby': 219, 'back': 220, 'backed': 221, 'backing': 222, 'backs': 223, 'backward': 224, 'backwards': 225, 'bacon': 226, 'bad': 227, 'badge': 228, 'badges': 229, 'badly': 230, 'bag': 231, 'bagman': 232, 'bags': 233, 'bagshot': 234, 'bald': 235, 'balding': 236, 'ball': 237, 'balls': 238, 'bane': 239, 'bang': 240, 'banged': 241, 'banging': 242, 'bangs': 243, 'bank': 244, 'banned': 245, 'bar': 246, 'bare': 247, 'barely': 248, 'barked': 249, 'barman': 250, 'barn': 251, 'baron': 252, 'barrier': 253, 'bars': 254, 'barty': 255, 'basilisk': 256, 'basin': 257, 'basket': 258, 'bat': 259, 'bath': 260, 'bathilda': 261, 'bathroom': 262, 'bats': 263, 'battered': 264, 'battle': 265, 'beaded': 266, 'beak': 267, 'beam': 268, 'beamed': 269, 'beaming': 270, 'beans': 271, 'bear': 272, 'beard': 273, 'bearded': 274, 'bearing': 275, 'beast': 276, 'beat': 277, 'beaten': 278, 'beaters': 279, 'beating': 280, 'beautiful': 281, 'beauxbatons': 282, 'became': 283, 'beckoned': 284, 'become': 285, 'becoming': 286, 'bed': 287, 'bedroom': 288, 'beds': 289, 'bedside': 290, 'beedle': 291, 'beetle': 292, 'beg': 293, 'began': 294, 'begin': 295, 'beginning': 296, 'begun': 297, 'behavior': 298, 'behind': 299, 'believe': 300, 'believed': 301, 'believes': 302, 'believing': 303, 'bell': 304, 'bellatrix': 305, 'bellowed': 306, 'belong': 307, 'belonged': 308, 'belongs': 309, 'bench': 310, 'benches': 311, 'bend': 312, 'bending': 313, 'beneath': 314, 'bent': 315, 'bertha': 316, 'beside': 317, 'best': 318, 'bet': 319, 'betrayed': 320, 'better': 321, 'bewildered': 322, 'bewitched': 323, 'beyond': 324, 'bezoar': 325, 'big': 326, 'bigger': 327, 'biggest': 328, 'bike': 329, 'bill': 330, 'billowing': 331, 'bin': 332, 'binding': 333, 'binns': 334, 'bird': 335, 'birds': 336, 'birthday': 337, 'bit': 338, 'bite': 339, 'biting': 340, 'bits': 341, 'bitten': 342, 'bitter': 343, 'bitterly': 344, 'bizarre': 345, 'black': 346, 'blackboard': 347, 'blackened': 348, 'blackness': 349, 'blame': 350, 'blank': 351, 'blankets': 352, 'blankly': 353, 'blast': 354, 'blasted': 355, 'blazing': 356, 'bleeding': 357, 'blew': 358, 'blimey': 359, 'blind': 360, 'blinding': 361, 'blink': 362, 'blinked': 363, 'blinking': 364, 'block': 365, 'blocked': 366, 'blocking': 367, 'bloke': 368, 'blond': 369, 'blonde': 370, 'blood': 371, 'bloodshot': 372, 'bloody': 373, 'blotts': 374, 'blow': 375, 'blowing': 376, 'blown': 377, 'bludger': 378, 'bludgers': 379, 'blue': 380, 'blurred': 381, 'board': 382, 'boarded': 383, 'boat': 384, 'bobbing': 385, 'bode': 386, 'bodies': 387, 'body': 388, 'boggart': 389, 'boiling': 390, 'bolt': 391, 'bone': 392, 'bones': 393, 'book': 394, 'books': 395, 'boomed': 396, 'booming': 397, 'boot': 398, 'boots': 399, 'bore': 400, 'bored': 401, 'borgin': 402, 'boring': 403, 'born': 404, 'borns': 405, 'borrow': 406, 'borrowed': 407, 'bother': 408, 'bothered': 409, 'bothering': 410, 'bottle': 411, 'bottles': 412, 'bottom': 413, 'bought': 414, 'bounced': 415, 'bouncing': 416, 'bound': 417, 'bounded': 418, 'bow': 419, 'bowed': 420, 'bowing': 421, 'bowl': 422, 'bowler': 423, 'box': 424, 'boxes': 425, 'boy': 426, 'boys': 427, 'brain': 428, 'brains': 429, 'branch': 430, 'branches': 431, 'brand': 432, 'brandishing': 433, 'brass': 434, 'brave': 435, 'bread': 436, 'break': 437, 'breakfast': 438, 'breaking': 439, 'breath': 440, 'breathe': 441, 'breathed': 442, 'breathing': 443, 'breathless': 444, 'breathlessly': 445, 'breeze': 446, 'brick': 447, 'bridge': 448, 'brief': 449, 'briefly': 450, 'bright': 451, 'brightly': 452, 'brilliant': 453, 'bring': 454, 'bringing': 455, 'briskly': 456, 'britain': 457, 'broad': 458, 'broadly': 459, 'broke': 460, 'broken': 461, 'bronze': 462, 'broom': 463, 'brooms': 464, 'broomstick': 465, 'broomsticks': 466, 'brother': 467, 'brothers': 468, 'brought': 469, 'brow': 470, 'brown': 471, 'brushed': 472, 'brushing': 473, 'brutal': 474, 'bu': 475, 'bubble': 476, 'bubbles': 477, 'buckbeak': 478, 'bucket': 479, 'building': 480, 'built': 481, 'bulgarian': 482, 'bulging': 483, 'bunch': 484, 'bunk': 485, 'buried': 486, 'burkes': 487, 'burn': 488, 'burned': 489, 'burning': 490, 'burrow': 491, 'burst': 492, 'bursting': 493, 'bus': 494, 'bush': 495, 'bushes': 496, 'bushy': 497, 'business': 498, 'bustled': 499, 'bustling': 500, 'busy': 501, 'butterbeer': 502, 'button': 503, 'buy': 504, 'buying': 505, 'buzzing': 506, 'bye': 507, 'c': 508, 'cabin': 509, 'cabinet': 510, 'cackling': 511, 'cadogan': 512, 'cage': 513, 'cake': 514, 'cakes': 515, 'call': 516, 'called': 517, 'calling': 518, 'calm': 519, 'calmly': 520, 'came': 521, 'camera': 522, 'campsite': 523, 'candle': 524, 'candlelight': 525, 'candles': 526, 'cannot': 527, 'canvas': 528, 'capable': 529, 'captain': 530, 'capture': 531, 'car': 532, 'card': 533, 'cards': 534, 'care': 535, 'cared': 536, 'career': 537, 'careful': 538, 'carefully': 539, 'cares': 540, 'caretaker': 541, 'carpet': 542, 'carriage': 543, 'carriages': 544, 'carried': 545, 'carrows': 546, 'carry': 547, 'carrying': 548, 'cars': 549, 'cart': 550, 'carved': 551, 'case': 552, 'cast': 553, 'casting': 554, 'castle': 555, 'casual': 556, 'casually': 557, 'cat': 558, 'catch': 559, 'catching': 560, 'cats': 561, 'cattermole': 562, 'caught': 563, 'cauldron': 564, 'cauldrons': 565, 'cause': 566, 'caused': 567, 'causing': 568, 'caution': 569, 'cautiously': 570, 'cave': 571, 'cedric': 572, 'ceiling': 573, 'cellar': 574, 'centaur': 575, 'centaurs': 576, 'center': 577, 'centuries': 578, 'century': 579, 'certain': 580, 'certainly': 581, 'chain': 582, 'chained': 583, 'chains': 584, 'chair': 585, 'chairs': 586, 'chamber': 587, 'champion': 588, 'champions': 589, 'chance': 590, 'chances': 591, 'chandelier': 592, 'chang': 593, 'change': 594, 'changed': 595, 'changing': 596, 'chapter': 597, 'charge': 598, 'charged': 599, 'charlie': 600, 'charm': 601, 'charming': 602, 'charms': 603, 'chart': 604, 'chase': 605, 'chased': 606, 'chaser': 607, 'chasers': 608, 'chasing': 609, 'chat': 610, 'chattering': 611, 'check': 612, 'checked': 613, 'checking': 614, 'cheek': 615, 'cheeks': 616, 'cheer': 617, 'cheered': 618, 'cheerful': 619, 'cheerfully': 620, 'cheering': 621, 'cheers': 622, 'chess': 623, 'chest': 624, 'chewing': 625, 'chicken': 626, 'child': 627, 'children': 628, 'chill': 629, 'chilly': 630, 'chin': 631, 'cho': 632, 'chocolate': 633, 'choice': 634, 'choked': 635, 'choose': 636, 'chose': 637, 'chosen': 638, 'christmas': 639, 'chuckled': 640, 'church': 641, 'circle': 642, 'circling': 643, 'circular': 644, 'circumstances': 645, 'clambered': 646, 'clamped': 647, 'clanking': 648, 'clapped': 649, 'clapping': 650, 'class': 651, 'classes': 652, 'classroom': 653, 'clatter': 654, 'clattering': 655, 'clean': 656, 'cleaning': 657, 'clear': 658, 'cleared': 659, 'clearer': 660, 'clearing': 661, 'clearly': 662, 'clenched': 663, 'clever': 664, 'clicked': 665, 'clicking': 666, 'cliff': 667, 'climb': 668, 'climbed': 669, 'climbing': 670, 'clipboard': 671, 'cloak': 672, 'cloaks': 673, 'clock': 674, 'close': 675, 'closed': 676, 'closely': 677, 'closer': 678, 'closest': 679, 'closing': 680, 'clothes': 681, 'cloud': 682, 'clouds': 683, 'club': 684, 'clue': 685, 'clunk': 686, 'clutched': 687, 'clutching': 688, 'coat': 689, 'coffee': 690, 'coins': 691, 'cold': 692, 'coldly': 693, 'cole': 694, 'colin': 695, 'collapsed': 696, 'collar': 697, 'collect': 698, 'collecting': 699, 'collection': 700, 'collided': 701, 'color': 702, 'colored': 703, 'colour': 704, 'come': 705, 'comes': 706, 'comfort': 707, 'comfortable': 708, 'comin': 709, 'coming': 710, 'command': 711, 'committee': 712, 'common': 713, 'community': 714, 'company': 715, 'compared': 716, 'compartment': 717, 'compete': 718, 'complain': 719, 'complaining': 720, 'complete': 721, 'completely': 722, 'complex': 723, 'complicated': 724, 'concealed': 725, 'concentrate': 726, 'concentrating': 727, 'concentration': 728, 'concern': 729, 'concerned': 730, 'condition': 731, 'conditions': 732, 'confederation': 733, 'confidence': 734, 'confident': 735, 'confused': 736, 'confusion': 737, 'conjured': 738, 'connected': 739, 'connection': 740, 'conscious': 741, 'consider': 742, 'considerable': 743, 'considered': 744, 'considering': 745, 'constant': 746, 'contact': 747, 'contained': 748, 'containing': 749, 'contents': 750, 'continue': 751, 'continued': 752, 'continuing': 753, 'contorted': 754, 'contrary': 755, 'control': 756, 'controlled': 757, 'conversation': 758, 'convince': 759, 'convinced': 760, 'cooking': 761, 'cool': 762, 'coolly': 763, 'copies': 764, 'copy': 765, 'cornelius': 766, 'corner': 767, 'cornered': 768, 'corners': 769, 'correct': 770, 'corrected': 771, 'corridor': 772, 'corridors': 773, 'cost': 774, 'cottage': 775, 'cough': 776, 'could': 777, 'count': 778, 'counted': 779, 'counter': 780, 'counting': 781, 'country': 782, 'couple': 783, 'courage': 784, 'course': 785, 'court': 786, 'courtyard': 787, 'cousin': 788, 'cover': 789, 'covered': 790, 'covering': 791, 'covers': 792, 'cowering': 793, 'cozy': 794, 'crabbe': 795, 'crack': 796, 'cracked': 797, 'crackling': 798, 'crammed': 799, 'craning': 800, 'crash': 801, 'crashed': 802, 'crashing': 803, 'crate': 804, 'crawled': 805, 'creaked': 806, 'creaking': 807, 'cream': 808, 'creature': 809, 'creatures': 810, 'creeping': 811, 'creevey': 812, 'crept': 813, 'cried': 814, 'cries': 815, 'crime': 816, 'croaked': 817, 'crooked': 818, 'crookshanks': 819, 'cross': 820, 'crossbow': 821, 'crossed': 822, 'crossing': 823, 'crouch': 824, 'crouched': 825, 'crouching': 826, 'crowd': 827, 'crowded': 828, 'cruciatus': 829, 'cruel': 830, 'crumpled': 831, 'cry': 832, 'crying': 833, 'crystal': 834, 'cup': 835, 'cupboard': 836, 'cups': 837, 'curiosity': 838, 'curious': 839, 'curiously': 840, 'curled': 841, 'curling': 842, 'curly': 843, 'currently': 844, 'curse': 845, 'cursed': 846, 'curses': 847, 'curtain': 848, 'curtains': 849, 'curtly': 850, 'curved': 851, 'cushion': 852, 'cushions': 853, 'cut': 854, 'cuts': 855, 'cutting': 856, 'da': 857, 'dad': 858, 'daddy': 859, 'daily': 860, 'dais': 861, 'damage': 862, 'damn': 863, 'damp': 864, 'dance': 865, 'dancing': 866, 'danger': 867, 'dangerous': 868, 'dangerously': 869, 'dangling': 870, 'dare': 871, 'dared': 872, 'daresay': 873, 'daring': 874, 'dark': 875, 'darker': 876, 'darkly': 877, 'darkness': 878, 'darted': 879, 'darting': 880, 'dashed': 881, 'dashing': 882, 'date': 883, 'daughter': 884, 'davies': 885, 'dawlish': 886, 'dawn': 887, 'day': 888, 'daylight': 889, 'days': 890, 'dazed': 891, 'dazzling': 892, 'de': 893, 'dead': 894, 'deadly': 895, 'deafening': 896, 'deal': 897, 'dealing': 898, 'dean': 899, 'dear': 900, 'death': 901, 'deathly': 902, 'deaths': 903, 'decent': 904, 'decide': 905, 'decided': 906, 'decision': 907, 'decorated': 908, 'decree': 909, 'dedalus': 910, 'deep': 911, 'deeper': 912, 'deepest': 913, 'deeply': 914, 'defeated': 915, 'defence': 916, 'defend': 917, 'defense': 918, 'defensive': 919, 'defiantly': 920, 'definite': 921, 'definitely': 922, 'delacour': 923, 'deliberately': 924, 'delicious': 925, 'delight': 926, 'delighted': 927, 'deliver': 928, 'delivered': 929, 'deluminator': 930, 'demanded': 931, 'dementor': 932, 'dementors': 933, 'dennis': 934, 'deny': 935, 'departed': 936, 'department': 937, 'departure': 938, 'depths': 939, 'descended': 940, 'descending': 941, 'described': 942, 'deserted': 943, 'deserve': 944, 'deserved': 945, 'desire': 946, 'desk': 947, 'desks': 948, 'despair': 949, 'desperate': 950, 'desperately': 951, 'desperation': 952, 'despite': 953, 'destination': 954, 'destroy': 955, 'destroyed': 956, 'detail': 957, 'details': 958, 'detention': 959, 'detentions': 960, 'determination': 961, 'determined': 962, 'devil': 963, 'devoted': 964, 'diadem': 965, 'diagon': 966, 'diary': 967, 'die': 968, 'died': 969, 'difference': 970, 'different': 971, 'difficult': 972, 'difficulty': 973, 'diggory': 974, 'dim': 975, 'dimly': 976, 'dinner': 977, 'dippet': 978, 'directed': 979, 'direction': 980, 'directions': 981, 'directly': 982, 'dirk': 983, 'dirty': 984, 'disapparate': 985, 'disapparated': 986, 'disappear': 987, 'disappeared': 988, 'disappearing': 989, 'disappointed': 990, 'disappointment': 991, 'disbelief': 992, 'discover': 993, 'discovered': 994, 'discuss': 995, 'discussed': 996, 'discussing': 997, 'discussion': 998, 'disgruntled': 999, 'disguise': 1000, 'disgust': 1001, 'disgusting': 1002, 'dislike': 1003, 'display': 1004, 'dissolved': 1005, 'distance': 1006, 'distant': 1007, 'distinct': 1008, 'distinctly': 1009, 'distracted': 1010, 'distractedly': 1011, 'disturbed': 1012, 'dive': 1013, 'dived': 1014, 'divination': 1015, 'dobby': 1016, 'dodged': 1017, 'doe': 1018, 'dog': 1019, 'doge': 1020, 'doin': 1021, 'dolohov': 1022, 'dolores': 1023, 'done': 1024, 'door': 1025, 'doorknob': 1026, 'doors': 1027, 'doorway': 1028, 'dormitories': 1029, 'dormitory': 1030, 'dot': 1031, 'double': 1032, 'doubt': 1033, 'doubted': 1034, 'downstairs': 1035, 'dozen': 1036, 'draco': 1037, 'drag': 1038, 'dragged': 1039, 'dragging': 1040, 'dragon': 1041, 'dragons': 1042, 'drained': 1043, 'dramatically': 1044, 'drank': 1045, 'draped': 1046, 'draught': 1047, 'draw': 1048, 'drawer': 1049, 'drawers': 1050, 'drawing': 1051, 'drawn': 1052, 'dread': 1053, 'dreadful': 1054, 'dreading': 1055, 'dream': 1056, 'dreamed': 1057, 'dreaming': 1058, 'dreams': 1059, 'dress': 1060, 'dressed': 1061, 'dressing': 1062, 'drew': 1063, 'dried': 1064, 'drifted': 1065, 'drifting': 1066, 'drink': 1067, 'drinking': 1068, 'drinks': 1069, 'dripping': 1070, 'drive': 1071, 'driven': 1072, 'driving': 1073, 'drop': 1074, 'dropped': 1075, 'dropping': 1076, 'drops': 1077, 'drove': 1078, 'drowned': 1079, 'dry': 1080, 'duck': 1081, 'ducked': 1082, 'dudley': 1083, 'due': 1084, 'duel': 1085, 'dueling': 1086, 'dug': 1087, 'dull': 1088, 'dully': 1089, 'dumbledore': 1090, 'dumbledores': 1091, 'dung': 1092, 'dungeon': 1093, 'dungeons': 1094, 'dunno': 1095, 'durmstrang': 1096, 'dursley': 1097, 'dursleys': 1098, 'dust': 1099, 'dusty': 1100, 'duty': 1101, 'dying': 1102, 'e': 1103, 'eager': 1104, 'eagerly': 1105, 'eagle': 1106, 'ear': 1107, 'earlier': 1108, 'early': 1109, 'earned': 1110, 'earnestly': 1111, 'ears': 1112, 'earshot': 1113, 'earth': 1114, 'ease': 1115, 'easier': 1116, 'easily': 1117, 'easter': 1118, 'easy': 1119, 'eat': 1120, 'eaten': 1121, 'eater': 1122, 'eaters': 1123, 'eating': 1124, 'echoed': 1125, 'echoing': 1126, 'edge': 1127, 'edged': 1128, 'edges': 1129, 'edging': 1130, 'educational': 1131, 'eerie': 1132, 'effect': 1133, 'effort': 1134, 'efforts': 1135, 'egg': 1136, 'eggs': 1137, 'eh': 1138, 'eight': 1139, 'either': 1140, 'elbow': 1141, 'elder': 1142, 'eleven': 1143, 'elf': 1144, 'elphias': 1145, 'else': 1146, 'elves': 1147, 'em': 1148, 'embarrassed': 1149, 'emerald': 1150, 'emerged': 1151, 'emerging': 1152, 'emotion': 1153, 'emptied': 1154, 'empty': 1155, 'enchanted': 1156, 'enchantments': 1157, 'enclosure': 1158, 'end': 1159, 'ended': 1160, 'ends': 1161, 'enemies': 1162, 'enemy': 1163, 'enforcement': 1164, 'engine': 1165, 'english': 1166, 'enjoy': 1167, 'enjoyed': 1168, 'enjoying': 1169, 'enormous': 1170, 'enough': 1171, 'ensure': 1172, 'enter': 1173, 'entered': 1174, 'entering': 1175, 'enthusiasm': 1176, 'enthusiastically': 1177, 'entire': 1178, 'entirely': 1179, 'entrance': 1180, 'envelope': 1181, 'equal': 1182, 'er': 1183, 'ere': 1184, 'erm': 1185, 'ern': 1186, 'ernie': 1187, 'errol': 1188, 'erupted': 1189, 'escape': 1190, 'escaped': 1191, 'especially': 1192, 'essay': 1193, 'essential': 1194, 'etched': 1195, 'even': 1196, 'evening': 1197, 'evenings': 1198, 'events': 1199, 'ever': 1200, 'every': 1201, 'everybody': 1202, 'everyone': 1203, 'everything': 1204, 'everywhere': 1205, 'evidence': 1206, 'evidently': 1207, 'evil': 1208, 'ex': 1209, 'exactly': 1210, 'exam': 1211, 'examination': 1212, 'examine': 1213, 'examined': 1214, 'examining': 1215, 'exams': 1216, 'exasperated': 1217, 'excellent': 1218, 'except': 1219, 'exceptionally': 1220, 'exchange': 1221, 'exchanged': 1222, 'excited': 1223, 'excitedly': 1224, 'excitement': 1225, 'exciting': 1226, 'excuse': 1227, 'exhausted': 1228, 'exist': 1229, 'existence': 1230, 'expect': 1231, 'expected': 1232, 'expecting': 1233, 'expecto': 1234, 'expelled': 1235, 'expelliarmus': 1236, 'experience': 1237, 'experienced': 1238, 'explain': 1239, 'explained': 1240, 'explaining': 1241, 'explanation': 1242, 'exploded': 1243, 'exploding': 1244, 'explosion': 1245, 'express': 1246, 'expression': 1247, 'expressions': 1248, 'extendable': 1249, 'extinguished': 1250, 'extra': 1251, 'extraordinary': 1252, 'extremely': 1253, 'eye': 1254, 'eyebrows': 1255, 'eyed': 1256, 'eyeing': 1257, 'eyelids': 1258, 'eyes': 1259, 'f': 1260, 'face': 1261, 'faced': 1262, 'faces': 1263, 'facing': 1264, 'fact': 1265, 'facts': 1266, 'faded': 1267, 'fading': 1268, 'fail': 1269, 'failed': 1270, 'faint': 1271, 'faintest': 1272, 'faintly': 1273, 'fair': 1274, 'fairly': 1275, 'faithful': 1276, 'fake': 1277, 'fall': 1278, 'fallen': 1279, 'falling': 1280, 'false': 1281, 'familiar': 1282, 'families': 1283, 'family': 1284, 'famous': 1285, 'fan': 1286, 'fancy': 1287, 'fang': 1288, 'fangs': 1289, 'far': 1290, 'farther': 1291, 'fascinating': 1292, 'fashion': 1293, 'fashioned': 1294, 'fast': 1295, 'faster': 1296, 'fat': 1297, 'father': 1298, 'fault': 1299, 'favor': 1300, 'favorite': 1301, 'favourite': 1302, 'fawkes': 1303, 'fear': 1304, 'feared': 1305, 'fears': 1306, 'feast': 1307, 'feather': 1308, 'feathers': 1309, 'features': 1310, 'fed': 1311, 'feeble': 1312, 'feebly': 1313, 'feed': 1314, 'feel': 1315, 'feeling': 1316, 'feelings': 1317, 'feels': 1318, 'feet': 1319, 'felicis': 1320, 'felix': 1321, 'fell': 1322, 'fellow': 1323, 'fellows': 1324, 'felt': 1325, 'female': 1326, 'fence': 1327, 'fer': 1328, 'ferret': 1329, 'fetch': 1330, 'feverishly': 1331, 'field': 1332, 'fierce': 1333, 'fiercely': 1334, 'fiery': 1335, 'fifteen': 1336, 'fifth': 1337, 'fifty': 1338, 'figg': 1339, 'fight': 1340, 'fighting': 1341, 'figure': 1342, 'figures': 1343, 'filch': 1344, 'filed': 1345, 'fill': 1346, 'filled': 1347, 'filling': 1348, 'filth': 1349, 'filthy': 1350, 'final': 1351, 'finally': 1352, 'finch': 1353, 'find': 1354, 'finding': 1355, 'finds': 1356, 'fine': 1357, 'finger': 1358, 'fingered': 1359, 'fingers': 1360, 'finish': 1361, 'finished': 1362, 'finishing': 1363, 'finnigan': 1364, 'fire': 1365, 'firebolt': 1366, 'firelight': 1367, 'firenze': 1368, 'fireplace': 1369, 'fires': 1370, 'firewhisky': 1371, 'fireworks': 1372, 'firm': 1373, 'firmly': 1374, 'firs': 1375, 'first': 1376, 'fish': 1377, 'fist': 1378, 'fists': 1379, 'fit': 1380, 'five': 1381, 'fix': 1382, 'fixed': 1383, 'flame': 1384, 'flamel': 1385, 'flames': 1386, 'flaming': 1387, 'flapped': 1388, 'flapping': 1389, 'flash': 1390, 'flashed': 1391, 'flashing': 1392, 'flask': 1393, 'flat': 1394, 'flatly': 1395, 'flattened': 1396, 'flavor': 1397, 'fled': 1398, 'fleeting': 1399, 'flesh': 1400, 'fletcher': 1401, 'fleur': 1402, 'flew': 1403, 'flick': 1404, 'flicked': 1405, 'flickered': 1406, 'flickering': 1407, 'flight': 1408, 'flint': 1409, 'flitwick': 1410, 'floated': 1411, 'floating': 1412, 'floo': 1413, 'flooded': 1414, 'flooding': 1415, 'floor': 1416, 'floors': 1417, 'flourish': 1418, 'flowers': 1419, 'flown': 1420, 'fluffy': 1421, 'flung': 1422, 'flushed': 1423, 'fluttered': 1424, 'fluttering': 1425, 'fly': 1426, 'flying': 1427, 'focus': 1428, 'focused': 1429, 'folded': 1430, 'follow': 1431, 'followed': 1432, 'followers': 1433, 'following': 1434, 'fond': 1435, 'food': 1436, 'fool': 1437, 'foolish': 1438, 'foot': 1439, 'footsteps': 1440, 'forbidden': 1441, 'force': 1442, 'forced': 1443, 'forcefully': 1444, 'forcing': 1445, 'forehead': 1446, 'foreign': 1447, 'forest': 1448, 'forever': 1449, 'forget': 1450, 'forgetting': 1451, 'forgive': 1452, 'forgot': 1453, 'forgotten': 1454, 'fork': 1455, 'form': 1456, 'formed': 1457, 'forming': 1458, 'fortune': 1459, 'forty': 1460, 'forward': 1461, 'forwards': 1462, 'fought': 1463, 'foul': 1464, 'found': 1465, 'fountain': 1466, 'four': 1467, 'fourteen': 1468, 'fourth': 1469, 'fragment': 1470, 'fragments': 1471, 'frail': 1472, 'frame': 1473, 'frames': 1474, 'frank': 1475, 'frantic': 1476, 'frantically': 1477, 'fred': 1478, 'free': 1479, 'freedom': 1480, 'freezing': 1481, 'fresh': 1482, 'freshly': 1483, 'friday': 1484, 'friend': 1485, 'friendly': 1486, 'friends': 1487, 'friendship': 1488, 'fright': 1489, 'frightened': 1490, 'frightening': 1491, 'frog': 1492, 'front': 1493, 'frowned': 1494, 'frowning': 1495, 'froze': 1496, 'frozen': 1497, 'frustration': 1498, 'fudge': 1499, 'full': 1500, 'fully': 1501, 'fumbled': 1502, 'fun': 1503, 'funeral': 1504, 'funny': 1505, 'furious': 1506, 'furiously': 1507, 'fury': 1508, 'future': 1509, 'g': 1510, 'gain': 1511, 'gained': 1512, 'galleon': 1513, 'galleons': 1514, 'galloping': 1515, 'game': 1516, 'gamekeeper': 1517, 'games': 1518, 'gang': 1519, 'gap': 1520, 'gaped': 1521, 'gaping': 1522, 'garden': 1523, 'gargoyle': 1524, 'gas': 1525, 'gasp': 1526, 'gasped': 1527, 'gasping': 1528, 'gate': 1529, 'gates': 1530, 'gather': 1531, 'gathered': 1532, 'gathering': 1533, 'gaunt': 1534, 'gave': 1535, 'gaze': 1536, 'gazed': 1537, 'gazing': 1538, 'general': 1539, 'generally': 1540, 'gentle': 1541, 'gently': 1542, 'george': 1543, 'gesture': 1544, 'gestured': 1545, 'gesturing': 1546, 'get': 1547, 'gets': 1548, 'gettin': 1549, 'getting': 1550, 'ghost': 1551, 'ghostly': 1552, 'ghosts': 1553, 'giant': 1554, 'giants': 1555, 'gift': 1556, 'gigantic': 1557, 'giggled': 1558, 'giggling': 1559, 'gilderoy': 1560, 'ginger': 1561, 'ginny': 1562, 'girl': 1563, 'girlfriend': 1564, 'girls': 1565, 'git': 1566, 'give': 1567, 'given': 1568, 'gives': 1569, 'giving': 1570, 'glad': 1571, 'glance': 1572, 'glanced': 1573, 'glancing': 1574, 'glare': 1575, 'glared': 1576, 'glaring': 1577, 'glass': 1578, 'glasses': 1579, 'gleamed': 1580, 'gleaming': 1581, 'gleefully': 1582, 'glided': 1583, 'gliding': 1584, 'glimpse': 1585, 'glimpsed': 1586, 'glinting': 1587, 'glittered': 1588, 'glittering': 1589, 'gloom': 1590, 'gloomily': 1591, 'gloomy': 1592, 'glory': 1593, 'gloves': 1594, 'glow': 1595, 'glowed': 1596, 'glowering': 1597, 'glowing': 1598, 'gnarled': 1599, 'gnome': 1600, 'gnomes': 1601, 'go': 1602, 'goal': 1603, 'goals': 1604, 'goblet': 1605, 'goblets': 1606, 'goblin': 1607, 'goblins': 1608, 'god': 1609, 'godfather': 1610, 'godric': 1611, 'goes': 1612, 'goggling': 1613, 'goin': 1614, 'going': 1615, 'gold': 1616, 'golden': 1617, 'gone': 1618, 'good': 1619, 'goodness': 1620, 'got': 1621, 'gotta': 1622, 'gotten': 1623, 'gown': 1624, 'goyle': 1625, 'grab': 1626, 'grabbed': 1627, 'grabbing': 1628, 'grade': 1629, 'gran': 1630, 'grandfather': 1631, 'grandmother': 1632, 'granger': 1633, 'grasp': 1634, 'grasped': 1635, 'grass': 1636, 'grate': 1637, 'grateful': 1638, 'grave': 1639, 'graveyard': 1640, 'grawp': 1641, 'gray': 1642, 'greasy': 1643, 'great': 1644, 'greater': 1645, 'greatest': 1646, 'greatly': 1647, 'green': 1648, 'greenhouse': 1649, 'greenhouses': 1650, 'greenish': 1651, 'greeted': 1652, 'gregorovitch': 1653, 'grew': 1654, 'grey': 1655, 'greyback': 1656, 'grief': 1657, 'grim': 1658, 'grimly': 1659, 'grimmauld': 1660, 'grin': 1661, 'grindelwald': 1662, 'gringotts': 1663, 'grinned': 1664, 'grinning': 1665, 'grip': 1666, 'griphook': 1667, 'gripped': 1668, 'gripping': 1669, 'gritted': 1670, 'groan': 1671, 'groaned': 1672, 'groped': 1673, 'ground': 1674, 'grounds': 1675, 'group': 1676, 'groups': 1677, 'grow': 1678, 'growing': 1679, 'growled': 1680, 'grown': 1681, 'grubbly': 1682, 'grubby': 1683, 'gruffly': 1684, 'grumpily': 1685, 'grunted': 1686, 'gryffindor': 1687, 'gryffindors': 1688, 'guard': 1689, 'guarding': 1690, 'guards': 1691, 'guess': 1692, 'guessed': 1693, 'guests': 1694, 'guide': 1695, 'guilt': 1696, 'guilty': 1697, 'gulp': 1698, 'gulped': 1699, 'h': 1700, 'ha': 1701, 'habit': 1702, 'hagrid': 1703, 'hair': 1704, 'haired': 1705, 'hairs': 1706, 'hairy': 1707, 'half': 1708, 'halfway': 1709, 'hall': 1710, 'halloween': 1711, 'hallows': 1712, 'hallway': 1713, 'halt': 1714, 'hammering': 1715, 'hand': 1716, 'handbag': 1717, 'handed': 1718, 'handful': 1719, 'handing': 1720, 'handkerchief': 1721, 'handle': 1722, 'hands': 1723, 'handsome': 1724, 'hang': 1725, 'hanging': 1726, 'hangings': 1727, 'hannah': 1728, 'happen': 1729, 'happened': 1730, 'happening': 1731, 'happens': 1732, 'happier': 1733, 'happily': 1734, 'happiness': 1735, 'happy': 1736, 'hard': 1737, 'harder': 1738, 'hardly': 1739, 'harm': 1740, 'harry': 1741, 'harrys': 1742, 'harsh': 1743, 'hastily': 1744, 'hat': 1745, 'hate': 1746, 'hated': 1747, 'hatred': 1748, 'hats': 1749, 'head': 1750, 'headed': 1751, 'heading': 1752, 'headless': 1753, 'headline': 1754, 'headmaster': 1755, 'headmasters': 1756, 'headmistress': 1757, 'headquarters': 1758, 'heads': 1759, 'headstone': 1760, 'healer': 1761, 'health': 1762, 'heap': 1763, 'hear': 1764, 'heard': 1765, 'hearing': 1766, 'heart': 1767, 'heartily': 1768, 'heat': 1769, 'heaved': 1770, 'heaven': 1771, 'heavens': 1772, 'heavily': 1773, 'heaving': 1774, 'heavy': 1775, 'hedge': 1776, 'hedwig': 1777, 'heel': 1778, 'heels': 1779, 'height': 1780, 'heir': 1781, 'held': 1782, 'hell': 1783, 'hello': 1784, 'help': 1785, 'helped': 1786, 'helping': 1787, 'hem': 1788, 'hepzibah': 1789, 'herbology': 1790, 'hermione': 1791, 'hero': 1792, 'hesitated': 1793, 'hestia': 1794, 'hex': 1795, 'hexes': 1796, 'hey': 1797, 'hi': 1798, 'hic': 1799, 'hid': 1800, 'hidden': 1801, 'hide': 1802, 'hiding': 1803, 'high': 1804, 'higher': 1805, 'highest': 1806, 'highly': 1807, 'hill': 1808, 'hint': 1809, 'hippogriff': 1810, 'hiss': 1811, 'hissed': 1812, 'hissing': 1813, 'history': 1814, 'hit': 1815, 'hitting': 1816, 'hmm': 1817, 'hoarse': 1818, 'hoarsely': 1819, 'hog': 1820, 'hogsmeade': 1821, 'hogwarts': 1822, 'hoisted': 1823, 'hokey': 1824, 'hold': 1825, 'holding': 1826, 'hole': 1827, 'holes': 1828, 'holiday': 1829, 'holidays': 1830, 'hollow': 1831, 'holly': 1832, 'home': 1833, 'homework': 1834, 'honest': 1835, 'honestly': 1836, 'honeydukes': 1837, 'honor': 1838, 'hooch': 1839, 'hood': 1840, 'hooded': 1841, 'hooked': 1842, 'hoop': 1843, 'hoops': 1844, 'hooted': 1845, 'hooting': 1846, 'hope': 1847, 'hoped': 1848, 'hopeful': 1849, 'hopefully': 1850, 'hopelessly': 1851, 'hoping': 1852, 'horace': 1853, 'horcrux': 1854, 'horcruxes': 1855, 'horn': 1856, 'horned': 1857, 'horntail': 1858, 'horrible': 1859, 'horribly': 1860, 'horrified': 1861, 'horror': 1862, 'horse': 1863, 'horses': 1864, 'hospital': 1865, 'hot': 1866, 'hotly': 1867, 'hour': 1868, 'hours': 1869, 'house': 1870, 'houses': 1871, 'hovering': 1872, 'however': 1873, 'howl': 1874, 'howled': 1875, 'howler': 1876, 'howling': 1877, 'huddled': 1878, 'hufflepuff': 1879, 'hufflepuffs': 1880, 'hug': 1881, 'huge': 1882, 'hugged': 1883, 'hugging': 1884, 'human': 1885, 'humans': 1886, 'hundred': 1887, 'hundreds': 1888, 'hung': 1889, 'hungry': 1890, 'hunt': 1891, 'hunting': 1892, 'hurried': 1893, 'hurriedly': 1894, 'hurry': 1895, 'hurrying': 1896, 'hurt': 1897, 'hurting': 1898, 'hurtled': 1899, 'hurtling': 1900, 'husband': 1901, 'hushed': 1902, 'hut': 1903, 'ice': 1904, 'icy': 1905, 'id': 1906, 'idea': 1907, 'ideas': 1908, 'identical': 1909, 'idiot': 1910, 'ignore': 1911, 'ignored': 1912, 'ignoring': 1913, 'ill': 1914, 'illegal': 1915, 'illuminated': 1916, 'im': 1917, 'image': 1918, 'imagination': 1919, 'imagine': 1920, 'imagined': 1921, 'imagining': 1922, 'immediate': 1923, 'immediately': 1924, 'immense': 1925, 'immensely': 1926, 'impatiently': 1927, 'imperius': 1928, 'importance': 1929, 'important': 1930, 'impossible': 1931, 'impressed': 1932, 'impression': 1933, 'impressive': 1934, 'incantation': 1935, 'inch': 1936, 'inches': 1937, 'including': 1938, 'increased': 1939, 'increasingly': 1940, 'incredible': 1941, 'incredulously': 1942, 'indeed': 1943, 'indicated': 1944, 'indicating': 1945, 'indignantly': 1946, 'indignation': 1947, 'inferi': 1948, 'information': 1949, 'informed': 1950, 'ing': 1951, 'ingredients': 1952, 'inherited': 1953, 'injured': 1954, 'injuries': 1955, 'injury': 1956, 'ink': 1957, 'inner': 1958, 'innocent': 1959, 'inquisitor': 1960, 'insane': 1961, 'inside': 1962, 'insides': 1963, 'insisted': 1964, 'instance': 1965, 'instant': 1966, 'instantly': 1967, 'instead': 1968, 'instinctively': 1969, 'instructions': 1970, 'instruments': 1971, 'insult': 1972, 'intended': 1973, 'intent': 1974, 'intently': 1975, 'inter': 1976, 'interest': 1977, 'interested': 1978, 'interesting': 1979, 'international': 1980, 'interrupted': 1981, 'interview': 1982, 'introduce': 1983, 'invented': 1984, 'investigate': 1985, 'invisibility': 1986, 'invisible': 1987, 'invitation': 1988, 'invite': 1989, 'invited': 1990, 'involved': 1991, 'ireland': 1992, 'irish': 1993, 'iron': 1994, 'irritably': 1995, 'irritated': 1996, 'issued': 1997, 'issuing': 1998, 'jacket': 1999, 'james': 2000, 'jar': 2001, 'jaw': 2002, 'jealous': 2003, 'jeans': 2004, 'jeering': 2005, 'jerk': 2006, 'jerked': 2007, 'jerking': 2008, 'jet': 2009, 'jets': 2010, 'jinx': 2011, 'jinxes': 2012, 'job': 2013, 'johnson': 2014, 'join': 2015, 'joined': 2016, 'joining': 2017, 'joke': 2018, 'joking': 2019, 'jolt': 2020, 'jordan': 2021, 'jorkins': 2022, 'journey': 2023, 'judge': 2024, 'judges': 2025, 'judging': 2026, 'jug': 2027, 'juice': 2028, 'jump': 2029, 'jumped': 2030, 'jumping': 2031, 'june': 2032, 'jus': 2033, 'justin': 2034, 'karkaroff': 2035, 'katie': 2036, 'kedavra': 2037, 'keen': 2038, 'keep': 2039, 'keeper': 2040, 'keeping': 2041, 'keeps': 2042, 'kendra': 2043, 'kept': 2044, 'kettle': 2045, 'key': 2046, 'keys': 2047, 'kick': 2048, 'kicked': 2049, 'kid': 2050, 'kidding': 2051, 'kids': 2052, 'kill': 2053, 'killed': 2054, 'killing': 2055, 'kind': 2056, 'kindly': 2057, 'king': 2058, 'kingsley': 2059, 'kiss': 2060, 'kissed': 2061, 'kissing': 2062, 'kitchen': 2063, 'kitchens': 2064, 'knee': 2065, 'kneeling': 2066, 'knees': 2067, 'knew': 2068, 'knife': 2069, 'knight': 2070, 'knives': 2071, 'knock': 2072, 'knocked': 2073, 'knocking': 2074, 'knot': 2075, 'know': 2076, 'knowing': 2077, 'knowledge': 2078, 'known': 2079, 'knows': 2080, 'knuckles': 2081, 'kreacher': 2082, 'krum': 2083, 'l': 2084, 'lace': 2085, 'lack': 2086, 'ladder': 2087, 'laden': 2088, 'ladies': 2089, 'lady': 2090, 'laid': 2091, 'lake': 2092, 'lamp': 2093, 'lamps': 2094, 'land': 2095, 'landed': 2096, 'landing': 2097, 'lane': 2098, 'language': 2099, 'lantern': 2100, 'lap': 2101, 'large': 2102, 'larger': 2103, 'largest': 2104, 'last': 2105, 'lasted': 2106, 'late': 2107, 'lately': 2108, 'later': 2109, 'laugh': 2110, 'laughed': 2111, 'laughing': 2112, 'laughter': 2113, 'launched': 2114, 'lavender': 2115, 'law': 2116, 'lawn': 2117, 'lawns': 2118, 'lay': 2119, 'lazily': 2120, 'lead': 2121, 'leading': 2122, 'league': 2123, 'leaky': 2124, 'leaned': 2125, 'leaning': 2126, 'leanne': 2127, 'leap': 2128, 'leaping': 2129, 'leapt': 2130, 'learn': 2131, 'learned': 2132, 'learning': 2133, 'least': 2134, 'leather': 2135, 'leave': 2136, 'leaves': 2137, 'leaving': 2138, 'led': 2139, 'lee': 2140, 'left': 2141, 'leg': 2142, 'legged': 2143, 'legs': 2144, 'length': 2145, 'less': 2146, 'lesson': 2147, 'lessons': 2148, 'lestrange': 2149, 'let': 2150, 'letter': 2151, 'letters': 2152, 'letting': 2153, 'level': 2154, 'liar': 2155, 'library': 2156, 'lid': 2157, 'lie': 2158, 'lied': 2159, 'lies': 2160, 'life': 2161, 'lift': 2162, 'lifted': 2163, 'lifting': 2164, 'light': 2165, 'lightly': 2166, 'lightning': 2167, 'lights': 2168, 'like': 2169, 'liked': 2170, 'likely': 2171, 'likes': 2172, 'liking': 2173, 'lily': 2174, 'lime': 2175, 'limp': 2176, 'limped': 2177, 'limping': 2178, 'line': 2179, 'lined': 2180, 'lines': 2181, 'lingered': 2182, 'lip': 2183, 'lips': 2184, 'liquid': 2185, 'list': 2186, 'listen': 2187, 'listened': 2188, 'listening': 2189, 'lit': 2190, 'littered': 2191, 'little': 2192, 'live': 2193, 'lived': 2194, 'lives': 2195, 'livid': 2196, 'living': 2197, 'load': 2198, 'loads': 2199, 'loathed': 2200, 'lock': 2201, 'locked': 2202, 'locker': 2203, 'locket': 2204, 'lockhart': 2205, 'london': 2206, 'lonely': 2207, 'long': 2208, 'longbottom': 2209, 'longer': 2210, 'longing': 2211, 'look': 2212, 'looked': 2213, 'lookin': 2214, 'looking': 2215, 'lookout': 2216, 'looks': 2217, 'loony': 2218, 'loose': 2219, 'lopsided': 2220, 'lord': 2221, 'lose': 2222, 'losing': 2223, 'loss': 2224, 'lost': 2225, 'lot': 2226, 'lots': 2227, 'loud': 2228, 'louder': 2229, 'loudly': 2230, 'love': 2231, 'loved': 2232, 'lovegood': 2233, 'lovely': 2234, 'low': 2235, 'lower': 2236, 'lowered': 2237, 'lowering': 2238, 'lucius': 2239, 'luck': 2240, 'lucky': 2241, 'ludo': 2242, 'luggage': 2243, 'lumos': 2244, 'lump': 2245, 'luna': 2246, 'lunch': 2247, 'lunged': 2248, 'lungs': 2249, 'lupin': 2250, 'lurking': 2251, 'lying': 2252, 'lynch': 2253, 'macmillan': 2254, 'macnair': 2255, 'mad': 2256, 'madam': 2257, 'madame': 2258, 'made': 2259, 'madly': 2260, 'mafalda': 2261, 'magazine': 2262, 'magic': 2263, 'magical': 2264, 'magically': 2265, 'magnificent': 2266, 'magnified': 2267, 'magnolia': 2268, 'magorian': 2269, 'mail': 2270, 'main': 2271, 'mainly': 2272, 'make': 2273, 'makes': 2274, 'making': 2275, 'malfoy': 2276, 'malfoys': 2277, 'malkin': 2278, 'man': 2279, 'manage': 2280, 'managed': 2281, 'managing': 2282, 'mane': 2283, 'manner': 2284, 'mantelpiece': 2285, 'many': 2286, 'map': 2287, 'marauder': 2288, 'marble': 2289, 'march': 2290, 'marchbanks': 2291, 'marched': 2292, 'marching': 2293, 'marge': 2294, 'marietta': 2295, 'mark': 2296, 'marked': 2297, 'marks': 2298, 'maroon': 2299, 'marquee': 2300, 'married': 2301, 'marvolo': 2302, 'masked': 2303, 'mass': 2304, 'massive': 2305, 'master': 2306, 'masters': 2307, 'match': 2308, 'mate': 2309, 'matter': 2310, 'matters': 2311, 'maxime': 2312, 'may': 2313, 'maybe': 2314, 'maze': 2315, 'mcgonagall': 2316, 'mclaggen': 2317, 'mead': 2318, 'mean': 2319, 'meaning': 2320, 'means': 2321, 'meant': 2322, 'meantime': 2323, 'meanwhile': 2324, 'measure': 2325, 'measures': 2326, 'meet': 2327, 'meeting': 2328, 'meetings': 2329, 'member': 2330, 'members': 2331, 'memories': 2332, 'memory': 2333, 'men': 2334, 'mend': 2335, 'mental': 2336, 'mention': 2337, 'mentioned': 2338, 'mercy': 2339, 'mere': 2340, 'merely': 2341, 'merlin': 2342, 'merope': 2343, 'merpeople': 2344, 'merry': 2345, 'mess': 2346, 'message': 2347, 'messing': 2348, 'met': 2349, 'metal': 2350, 'michael': 2351, 'mid': 2352, 'midair': 2353, 'middle': 2354, 'midnight': 2355, 'midst': 2356, 'might': 2357, 'mildly': 2358, 'miles': 2359, 'milk': 2360, 'millicent': 2361, 'mind': 2362, 'minds': 2363, 'mine': 2364, 'minerva': 2365, 'mingled': 2366, 'minister': 2367, 'ministry': 2368, 'minute': 2369, 'minutes': 2370, 'mirror': 2371, 'miserable': 2372, 'miserably': 2373, 'miss': 2374, 'missed': 2375, 'missing': 2376, 'mission': 2377, 'mist': 2378, 'mistake': 2379, 'mistaken': 2380, 'mistress': 2381, 'misty': 2382, 'mixed': 2383, 'mixture': 2384, 'moan': 2385, 'moaned': 2386, 'moaning': 2387, 'model': 2388, 'molly': 2389, 'mom': 2390, 'moment': 2391, 'momentarily': 2392, 'moments': 2393, 'mon': 2394, 'monday': 2395, 'money': 2396, 'monster': 2397, 'monsters': 2398, 'monstrous': 2399, 'montague': 2400, 'month': 2401, 'months': 2402, 'mood': 2403, 'moody': 2404, 'moon': 2405, 'moonlight': 2406, 'mopping': 2407, 'morfin': 2408, 'morning': 2409, 'mortal': 2410, 'mother': 2411, 'motionless': 2412, 'motorbike': 2413, 'mountain': 2414, 'mountains': 2415, 'mounted': 2416, 'mouth': 2417, 'mouthed': 2418, 'mouthful': 2419, 'mouths': 2420, 'move': 2421, 'moved': 2422, 'movement': 2423, 'movements': 2424, 'moving': 2425, 'mr': 2426, 'mrs': 2427, 'much': 2428, 'mud': 2429, 'mudblood': 2430, 'mudbloods': 2431, 'muddy': 2432, 'muffled': 2433, 'mug': 2434, 'muggle': 2435, 'muggles': 2436, 'mum': 2437, 'mumbled': 2438, 'mundungus': 2439, 'mungo': 2440, 'murder': 2441, 'murdered': 2442, 'murderer': 2443, 'muriel': 2444, 'murmur': 2445, 'murmured': 2446, 'music': 2447, 'must': 2448, 'mustache': 2449, 'muttered': 2450, 'muttering': 2451, 'myrtle': 2452, 'mysteries': 2453, 'mysterious': 2454, 'n': 2455, 'nagini': 2456, 'nah': 2457, 'name': 2458, 'named': 2459, 'names': 2460, 'narcissa': 2461, 'narrow': 2462, 'narrowed': 2463, 'narrowly': 2464, 'nasty': 2465, 'natural': 2466, 'naturally': 2467, 'nature': 2468, 'near': 2469, 'nearby': 2470, 'nearer': 2471, 'nearest': 2472, 'nearly': 2473, 'neat': 2474, 'neatly': 2475, 'necessary': 2476, 'neck': 2477, 'necklace': 2478, 'necks': 2479, 'need': 2480, 'needed': 2481, 'needs': 2482, 'neither': 2483, 'nerve': 2484, 'nerves': 2485, 'nervous': 2486, 'nervously': 2487, 'network': 2488, 'never': 2489, 'nevertheless': 2490, 'neville': 2491, 'new': 2492, 'newly': 2493, 'news': 2494, 'newspaper': 2495, 'next': 2496, 'nice': 2497, 'nick': 2498, 'nicolas': 2499, 'nigellus': 2500, 'night': 2501, 'nightmare': 2502, 'nimbus': 2503, 'nine': 2504, 'ninety': 2505, 'noble': 2506, 'nobody': 2507, 'nod': 2508, 'nodded': 2509, 'nodding': 2510, 'noise': 2511, 'noises': 2512, 'noisy': 2513, 'non': 2514, 'none': 2515, 'nonsense': 2516, 'norbert': 2517, 'normal': 2518, 'normally': 2519, 'norris': 2520, 'north': 2521, 'nose': 2522, 'noses': 2523, 'nostrils': 2524, 'note': 2525, 'notes': 2526, 'nothin': 2527, 'nothing': 2528, 'notice': 2529, 'noticed': 2530, 'noticing': 2531, 'nowhere': 2532, 'nudged': 2533, 'numb': 2534, 'number': 2535, 'oak': 2536, 'obey': 2537, 'object': 2538, 'objects': 2539, 'obscured': 2540, 'obsessed': 2541, 'obvious': 2542, 'obviously': 2543, 'occasion': 2544, 'occasionally': 2545, 'occasions': 2546, 'occlumency': 2547, 'occurred': 2548, 'october': 2549, 'odd': 2550, 'oddly': 2551, 'offer': 2552, 'offered': 2553, 'offering': 2554, 'office': 2555, 'official': 2556, 'often': 2557, 'ogden': 2558, 'oh': 2559, 'oi': 2560, 'ok': 2561, 'okay': 2562, 'old': 2563, 'older': 2564, 'oldest': 2565, 'oliver': 2566, 'ollivander': 2567, 'ominous': 2568, 'omnioculars': 2569, 'one': 2570, 'ones': 2571, 'onto': 2572, 'oooh': 2573, 'open': 2574, 'opened': 2575, 'opening': 2576, 'opinion': 2577, 'opportunity': 2578, 'opposite': 2579, 'orange': 2580, 'order': 2581, 'ordered': 2582, 'orders': 2583, 'ordinary': 2584, 'original': 2585, 'orphanage': 2586, 'others': 2587, 'otherwise': 2588, 'ouch': 2589, 'ought': 2590, 'outline': 2591, 'outraged': 2592, 'outside': 2593, 'outstanding': 2594, 'outstretched': 2595, 'outta': 2596, 'overcome': 2597, 'overgrown': 2598, 'overhead': 2599, 'overheard': 2600, 'ow': 2601, 'owe': 2602, 'owl': 2603, 'owlery': 2604, 'owls': 2605, 'owned': 2606, 'owner': 2607, 'owners': 2608, 'p': 2609, 'pace': 2610, 'paces': 2611, 'pacing': 2612, 'pack': 2613, 'package': 2614, 'packed': 2615, 'packing': 2616, 'paddock': 2617, 'padma': 2618, 'page': 2619, 'pages': 2620, 'paid': 2621, 'pain': 2622, 'painful': 2623, 'painfully': 2624, 'painted': 2625, 'painting': 2626, 'pair': 2627, 'pairs': 2628, 'pajamas': 2629, 'pale': 2630, 'paler': 2631, 'palm': 2632, 'panic': 2633, 'panicked': 2634, 'pansy': 2635, 'panted': 2636, 'panting': 2637, 'paper': 2638, 'papers': 2639, 'parcel': 2640, 'parchment': 2641, 'parents': 2642, 'parkinson': 2643, 'parseltongue': 2644, 'part': 2645, 'parted': 2646, 'particular': 2647, 'particularly': 2648, 'partner': 2649, 'party': 2650, 'parvati': 2651, 'pass': 2652, 'passage': 2653, 'passageway': 2654, 'passed': 2655, 'passing': 2656, 'password': 2657, 'past': 2658, 'patch': 2659, 'patches': 2660, 'path': 2661, 'pathetic': 2662, 'patil': 2663, 'patronum': 2664, 'patronus': 2665, 'patted': 2666, 'patting': 2667, 'pause': 2668, 'paused': 2669, 'pausing': 2670, 'pavement': 2671, 'pay': 2672, 'paying': 2673, 'peace': 2674, 'pearly': 2675, 'peculiar': 2676, 'peeling': 2677, 'peered': 2678, 'peering': 2679, 'peeves': 2680, 'penalty': 2681, 'penetrate': 2682, 'pensieve': 2683, 'people': 2684, 'perch': 2685, 'perched': 2686, 'percy': 2687, 'perfect': 2688, 'perfectly': 2689, 'perform': 2690, 'performed': 2691, 'perhaps': 2692, 'permission': 2693, 'permit': 2694, 'permitted': 2695, 'perplexed': 2696, 'person': 2697, 'personal': 2698, 'personally': 2699, 'persuade': 2700, 'persuaded': 2701, 'pet': 2702, 'peter': 2703, 'petrified': 2704, 'pettigrew': 2705, 'petunia': 2706, 'phineas': 2707, 'phoenix': 2708, 'photograph': 2709, 'photographs': 2710, 'pick': 2711, 'picked': 2712, 'picking': 2713, 'picture': 2714, 'pictures': 2715, 'pie': 2716, 'piece': 2717, 'pieces': 2718, 'piercing': 2719, 'piers': 2720, 'pig': 2721, 'pigwidgeon': 2722, 'pile': 2723, 'piles': 2724, 'pillow': 2725, 'pillows': 2726, 'pince': 2727, 'pink': 2728, 'pinned': 2729, 'pipe': 2730, 'pit': 2731, 'pitch': 2732, 'pitched': 2733, 'pity': 2734, 'place': 2735, 'placed': 2736, 'places': 2737, 'placing': 2738, 'plain': 2739, 'plainly': 2740, 'plan': 2741, 'plank': 2742, 'planned': 2743, 'planning': 2744, 'plans': 2745, 'plant': 2746, 'plants': 2747, 'plate': 2748, 'plates': 2749, 'platform': 2750, 'play': 2751, 'played': 2752, 'player': 2753, 'players': 2754, 'playing': 2755, 'pleasant': 2756, 'pleasantly': 2757, 'please': 2758, 'pleased': 2759, 'pleasure': 2760, 'plenty': 2761, 'plump': 2762, 'plunged': 2763, 'pocket': 2764, 'pockets': 2765, 'point': 2766, 'pointed': 2767, 'pointing': 2768, 'pointless': 2769, 'points': 2770, 'poison': 2771, 'poisonous': 2772, 'poke': 2773, 'poked': 2774, 'poking': 2775, 'police': 2776, 'polished': 2777, 'polite': 2778, 'politely': 2779, 'poltergeist': 2780, 'polyjuice': 2781, 'pomfrey': 2782, 'pool': 2783, 'poor': 2784, 'pop': 2785, 'popping': 2786, 'popular': 2787, 'porridge': 2788, 'portkey': 2789, 'portrait': 2790, 'portraits': 2791, 'pose': 2792, 'position': 2793, 'positively': 2794, 'possess': 2795, 'possessed': 2796, 'possession': 2797, 'possessions': 2798, 'possibility': 2799, 'possible': 2800, 'possibly': 2801, 'post': 2802, 'poster': 2803, 'posters': 2804, 'posts': 2805, 'pot': 2806, 'potato': 2807, 'potion': 2808, 'potions': 2809, 'pots': 2810, 'potter': 2811, 'potters': 2812, 'pouch': 2813, 'pounded': 2814, 'pounding': 2815, 'poured': 2816, 'pouring': 2817, 'powder': 2818, 'power': 2819, 'powerful': 2820, 'powers': 2821, 'practical': 2822, 'practice': 2823, 'practices': 2824, 'practicing': 2825, 'practise': 2826, 'prat': 2827, 'precious': 2828, 'precisely': 2829, 'prefect': 2830, 'prefects': 2831, 'prefer': 2832, 'preferred': 2833, 'prepared': 2834, 'preparing': 2835, 'presence': 2836, 'present': 2837, 'presents': 2838, 'press': 2839, 'pressed': 2840, 'pressing': 2841, 'pressure': 2842, 'pretend': 2843, 'pretended': 2844, 'pretending': 2845, 'pretty': 2846, 'prevent': 2847, 'previous': 2848, 'previously': 2849, 'price': 2850, 'prickling': 2851, 'pride': 2852, 'prime': 2853, 'prince': 2854, 'prison': 2855, 'prisoners': 2856, 'private': 2857, 'privet': 2858, 'prize': 2859, 'probably': 2860, 'problem': 2861, 'problems': 2862, 'proceeded': 2863, 'prodding': 2864, 'produce': 2865, 'professor': 2866, 'professors': 2867, 'progress': 2868, 'promise': 2869, 'promised': 2870, 'promptly': 2871, 'pronounced': 2872, 'proof': 2873, 'proper': 2874, 'properly': 2875, 'prophecy': 2876, 'prophet': 2877, 'propped': 2878, 'prospect': 2879, 'protect': 2880, 'protected': 2881, 'protection': 2882, 'protective': 2883, 'protest': 2884, 'protruding': 2885, 'proud': 2886, 'proudly': 2887, 'prove': 2888, 'proved': 2889, 'pub': 2890, 'public': 2891, 'pudding': 2892, 'puffy': 2893, 'pull': 2894, 'pulled': 2895, 'pulling': 2896, 'pumpkin': 2897, 'punched': 2898, 'punching': 2899, 'punish': 2900, 'punished': 2901, 'punishment': 2902, 'pupils': 2903, 'pure': 2904, 'purple': 2905, 'purpose': 2906, 'pus': 2907, 'push': 2908, 'pushed': 2909, 'pushing': 2910, 'put': 2911, 'putting': 2912, 'puzzled': 2913, 'quaffle': 2914, 'quality': 2915, 'quarter': 2916, 'quarters': 2917, 'question': 2918, 'questioning': 2919, 'questions': 2920, 'queue': 2921, 'quibbler': 2922, 'quick': 2923, 'quickly': 2924, 'quidditch': 2925, 'quiet': 2926, 'quietly': 2927, 'quill': 2928, 'quills': 2929, 'quirrell': 2930, 'quite': 2931, 'quivering': 2932, 'quot': 2933, 'r': 2934, 'race': 2935, 'racing': 2936, 'rack': 2937, 'rage': 2938, 'ragged': 2939, 'rain': 2940, 'raise': 2941, 'raised': 2942, 'raising': 2943, 'ran': 2944, 'random': 2945, 'rang': 2946, 'range': 2947, 'rapidly': 2948, 'rare': 2949, 'rarely': 2950, 'rat': 2951, 'rather': 2952, 'rats': 2953, 'rattled': 2954, 'rattling': 2955, 'ravenclaw': 2956, 'ravenclaws': 2957, 'raw': 2958, 'reach': 2959, 'reached': 2960, 'reaching': 2961, 'reaction': 2962, 'read': 2963, 'reading': 2964, 'ready': 2965, 'real': 2966, 'realise': 2967, 'realised': 2968, 'realize': 2969, 'realized': 2970, 'realizing': 2971, 'really': 2972, 'reappeared': 2973, 'rear': 2974, 'reason': 2975, 'reasonable': 2976, 'reasonably': 2977, 'reasons': 2978, 'receive': 2979, 'received': 2980, 'recent': 2981, 'recently': 2982, 'reckon': 2983, 'reckons': 2984, 'recognised': 2985, 'recognize': 2986, 'recognized': 2987, 'record': 2988, 'red': 2989, 'reflected': 2990, 'reflection': 2991, 'refuse': 2992, 'refused': 2993, 'refusing': 2994, 'register': 2995, 'regret': 2996, 'regular': 2997, 'regulus': 2998, 'related': 2999, 'relatives': 3000, 'relaxed': 3001, 'release': 3002, 'released': 3003, 'relief': 3004, 'relieved': 3005, 'reluctantly': 3006, 'remain': 3007, 'remained': 3008, 'remaining': 3009, 'remains': 3010, 'remember': 3011, 'remembered': 3012, 'remembering': 3013, 'remind': 3014, 'reminded': 3015, 'reminding': 3016, 'remorse': 3017, 'remove': 3018, 'removed': 3019, 'remus': 3020, 'repair': 3021, 'repaired': 3022, 'repeat': 3023, 'repeated': 3024, 'replaced': 3025, 'replied': 3026, 'reply': 3027, 'report': 3028, 'reported': 3029, 'request': 3030, 'require': 3031, 'required': 3032, 'requirement': 3033, 'rescue': 3034, 'resembled': 3035, 'resentful': 3036, 'resigned': 3037, 'resist': 3038, 'respect': 3039, 'respond': 3040, 'response': 3041, 'responsibility': 3042, 'responsible': 3043, 'rest': 3044, 'rested': 3045, 'resting': 3046, 'results': 3047, 'resumed': 3048, 'retreated': 3049, 'retrieve': 3050, 'return': 3051, 'returned': 3052, 'returning': 3053, 'reveal': 3054, 'revealed': 3055, 'revealing': 3056, 'revenge': 3057, 'revolving': 3058, 'reward': 3059, 'ribs': 3060, 'rid': 3061, 'riddikulus': 3062, 'riddle': 3063, 'riddles': 3064, 'ride': 3065, 'ridiculous': 3066, 'righ': 3067, 'right': 3068, 'rigid': 3069, 'ring': 3070, 'ringing': 3071, 'rip': 3072, 'ripped': 3073, 'ripping': 3074, 'rippling': 3075, 'rise': 3076, 'risen': 3077, 'rising': 3078, 'risk': 3079, 'rita': 3080, 'river': 3081, 'road': 3082, 'roar': 3083, 'roared': 3084, 'roaring': 3085, 'robe': 3086, 'roberts': 3087, 'robes': 3088, 'rock': 3089, 'roger': 3090, 'roll': 3091, 'rolled': 3092, 'rolling': 3093, 'rolls': 3094, 'romilda': 3095, 'ron': 3096, 'ronald': 3097, 'ronan': 3098, 'roof': 3099, 'rookwood': 3100, 'room': 3101, 'rooms': 3102, 'roots': 3103, 'rope': 3104, 'ropes': 3105, 'rose': 3106, 'rosmerta': 3107, 'rough': 3108, 'roughly': 3109, 'round': 3110, 'rounded': 3111, 'row': 3112, 'rows': 3113, 'rubbed': 3114, 'rubbing': 3115, 'rubbish': 3116, 'rucksack': 3117, 'ruddy': 3118, 'rude': 3119, 'ruffled': 3120, 'rufus': 3121, 'ruined': 3122, 'rule': 3123, 'rules': 3124, 'rumbling': 3125, 'rummaged': 3126, 'rummaging': 3127, 'rumors': 3128, 'run': 3129, 'runes': 3130, 'running': 3131, 'rush': 3132, 'rushed': 3133, 'rushing': 3134, 'rustling': 3135, 'sack': 3136, 'sacked': 3137, 'sad': 3138, 'sadly': 3139, 'safe': 3140, 'safely': 3141, 'safety': 3142, 'said': 3143, 'sake': 3144, 'sallow': 3145, 'sank': 3146, 'sarcastically': 3147, 'sat': 3148, 'satisfaction': 3149, 'satisfied': 3150, 'saturday': 3151, 'sausages': 3152, 'savagely': 3153, 'save': 3154, 'saved': 3155, 'saving': 3156, 'saw': 3157, 'say': 3158, 'saying': 3159, 'says': 3160, 'scabbers': 3161, 'scabior': 3162, 'scales': 3163, 'scanned': 3164, 'scanning': 3165, 'scar': 3166, 'scared': 3167, 'scarlet': 3168, 'scars': 3169, 'scarves': 3170, 'scattered': 3171, 'scene': 3172, 'schedule': 3173, 'school': 3174, 'schoolbag': 3175, 'scooped': 3176, 'score': 3177, 'scored': 3178, 'scowled': 3179, 'scowling': 3180, 'scrambled': 3181, 'scratched': 3182, 'scratching': 3183, 'scream': 3184, 'screamed': 3185, 'screaming': 3186, 'screams': 3187, 'screech': 3188, 'screeched': 3189, 'screwed': 3190, 'scribbled': 3191, 'scribbling': 3192, 'scrimgeour': 3193, 'scroll': 3194, 'scum': 3195, 'scurrying': 3196, 'sea': 3197, 'sealed': 3198, 'seamus': 3199, 'search': 3200, 'searched': 3201, 'searching': 3202, 'seared': 3203, 'seat': 3204, 'seated': 3205, 'seats': 3206, 'second': 3207, 'seconds': 3208, 'secrecy': 3209, 'secret': 3210, 'secrets': 3211, 'section': 3212, 'secure': 3213, 'security': 3214, 'see': 3215, 'seeing': 3216, 'seek': 3217, 'seeker': 3218, 'seeking': 3219, 'seem': 3220, 'seemed': 3221, 'seems': 3222, 'seen': 3223, 'sees': 3224, 'seize': 3225, 'seized': 3226, 'seizing': 3227, 'self': 3228, 'sell': 3229, 'send': 3230, 'sending': 3231, 'sensation': 3232, 'sense': 3233, 'sensed': 3234, 'senses': 3235, 'sent': 3236, 'sentence': 3237, 'separate': 3238, 'separated': 3239, 'september': 3240, 'serenely': 3241, 'series': 3242, 'serious': 3243, 'seriously': 3244, 'serpent': 3245, 'servant': 3246, 'serve': 3247, 'served': 3248, 'service': 3249, 'set': 3250, 'setting': 3251, 'settle': 3252, 'settled': 3253, 'seven': 3254, 'seventeen': 3255, 'seventh': 3256, 'several': 3257, 'severe': 3258, 'severely': 3259, 'severus': 3260, 'shabby': 3261, 'shack': 3262, 'shacklebolt': 3263, 'shade': 3264, 'shadow': 3265, 'shadows': 3266, 'shadowy': 3267, 'shaggy': 3268, 'shake': 3269, 'shaken': 3270, 'shakily': 3271, 'shaking': 3272, 'shall': 3273, 'shame': 3274, 'shape': 3275, 'shaped': 3276, 'shapes': 3277, 'share': 3278, 'shared': 3279, 'sharing': 3280, 'sharp': 3281, 'sharply': 3282, 'shattered': 3283, 'sheet': 3284, 'sheets': 3285, 'shelf': 3286, 'shell': 3287, 'shelves': 3288, 'shh': 3289, 'shield': 3290, 'shifted': 3291, 'shifting': 3292, 'shimmering': 3293, 'shining': 3294, 'shiny': 3295, 'ship': 3296, 'shirt': 3297, 'shivered': 3298, 'shivering': 3299, 'shock': 3300, 'shocked': 3301, 'shoes': 3302, 'shone': 3303, 'shook': 3304, 'shooting': 3305, 'shop': 3306, 'shopping': 3307, 'shops': 3308, 'short': 3309, 'shorter': 3310, 'shortly': 3311, 'shot': 3312, 'shoulder': 3313, 'shoulders': 3314, 'shout': 3315, 'shouted': 3316, 'shouting': 3317, 'shouts': 3318, 'shoved': 3319, 'show': 3320, 'showed': 3321, 'shower': 3322, 'showing': 3323, 'shown': 3324, 'shows': 3325, 'shriek': 3326, 'shrieked': 3327, 'shrieking': 3328, 'shrilly': 3329, 'shrinking': 3330, 'shrugged': 3331, 'shrugging': 3332, 'shudder': 3333, 'shuddered': 3334, 'shuddering': 3335, 'shuffled': 3336, 'shuffling': 3337, 'shunpike': 3338, 'shut': 3339, 'sick': 3340, 'sickles': 3341, 'side': 3342, 'sidecar': 3343, 'sides': 3344, 'sideways': 3345, 'sigh': 3346, 'sighed': 3347, 'sight': 3348, 'sign': 3349, 'signed': 3350, 'signs': 3351, 'silence': 3352, 'silent': 3353, 'silently': 3354, 'silk': 3355, 'silly': 3356, 'silver': 3357, 'silvery': 3358, 'simple': 3359, 'simply': 3360, 'since': 3361, 'sincerely': 3362, 'singing': 3363, 'single': 3364, 'sinister': 3365, 'sink': 3366, 'sinking': 3367, 'sir': 3368, 'sirius': 3369, 'sister': 3370, 'sisters': 3371, 'sit': 3372, 'sitting': 3373, 'situation': 3374, 'six': 3375, 'sixteen': 3376, 'sixth': 3377, 'sixty': 3378, 'size': 3379, 'sized': 3380, 'skeeter': 3381, 'skidded': 3382, 'skin': 3383, 'skinny': 3384, 'skrewt': 3385, 'skrewts': 3386, 'skull': 3387, 'sky': 3388, 'slammed': 3389, 'slamming': 3390, 'sleek': 3391, 'sleep': 3392, 'sleeping': 3393, 'sleepy': 3394, 'sleeve': 3395, 'sleeves': 3396, 'slept': 3397, 'slid': 3398, 'slide': 3399, 'sliding': 3400, 'slight': 3401, 'slightest': 3402, 'slightly': 3403, 'slimy': 3404, 'slip': 3405, 'slipped': 3406, 'slipping': 3407, 'slit': 3408, 'slithering': 3409, 'slits': 3410, 'sloping': 3411, 'slow': 3412, 'slowed': 3413, 'slowly': 3414, 'slug': 3415, 'slughorn': 3416, 'slugs': 3417, 'slumped': 3418, 'slytherin': 3419, 'slytherins': 3420, 'small': 3421, 'smaller': 3422, 'smallest': 3423, 'smart': 3424, 'smashed': 3425, 'smell': 3426, 'smelled': 3427, 'smile': 3428, 'smiled': 3429, 'smiling': 3430, 'smirked': 3431, 'smirking': 3432, 'smith': 3433, 'smoke': 3434, 'smoking': 3435, 'smooth': 3436, 'smoothly': 3437, 'snake': 3438, 'snakelike': 3439, 'snakes': 3440, 'snap': 3441, 'snape': 3442, 'snapped': 3443, 'snapping': 3444, 'snarled': 3445, 'snatched': 3446, 'snatching': 3447, 'sneak': 3448, 'sneaked': 3449, 'sneaking': 3450, 'sneakoscope': 3451, 'sneer': 3452, 'sneered': 3453, 'sneering': 3454, 'sniffed': 3455, 'sniggered': 3456, 'snitch': 3457, 'snorted': 3458, 'snout': 3459, 'snow': 3460, 'snowy': 3461, 'soared': 3462, 'soaring': 3463, 'sob': 3464, 'sobbed': 3465, 'sobbing': 3466, 'sobs': 3467, 'socks': 3468, 'sofa': 3469, 'soft': 3470, 'softly': 3471, 'solid': 3472, 'solution': 3473, 'somebody': 3474, 'somehow': 3475, 'someone': 3476, 'something': 3477, 'sometimes': 3478, 'somewhat': 3479, 'somewhere': 3480, 'son': 3481, 'song': 3482, 'sons': 3483, 'soon': 3484, 'sooner': 3485, 'sorcerer': 3486, 'sorry': 3487, 'sort': 3488, 'sorted': 3489, 'sorting': 3490, 'sorts': 3491, 'sought': 3492, 'soul': 3493, 'sound': 3494, 'sounded': 3495, 'sounding': 3496, 'sounds': 3497, 'soup': 3498, 'source': 3499, 'space': 3500, 'spare': 3501, 'sparkling': 3502, 'sparks': 3503, 'spat': 3504, 'speak': 3505, 'speaking': 3506, 'special': 3507, 'spectacles': 3508, 'spectacular': 3509, 'sped': 3510, 'speech': 3511, 'speed': 3512, 'speeding': 3513, 'spell': 3514, 'spellbooks': 3515, 'spells': 3516, 'spend': 3517, 'spending': 3518, 'spent': 3519, 'spider': 3520, 'spiders': 3521, 'spilled': 3522, 'spilling': 3523, 'spinnet': 3524, 'spinning': 3525, 'spiral': 3526, 'spirit': 3527, 'spirits': 3528, 'spite': 3529, 'spitting': 3530, 'split': 3531, 'spluttered': 3532, 'spoke': 3533, 'spoken': 3534, 'spot': 3535, 'spots': 3536, 'spotted': 3537, 'sprang': 3538, 'sprawled': 3539, 'spread': 3540, 'spreading': 3541, 'sprinted': 3542, 'sprinting': 3543, 'sprout': 3544, 'spun': 3545, 'spy': 3546, 'squad': 3547, 'square': 3548, 'squashed': 3549, 'squeak': 3550, 'squeaked': 3551, 'squealed': 3552, 'squeezed': 3553, 'squeezing': 3554, 'squib': 3555, 'squinted': 3556, 'squinting': 3557, 'st': 3558, 'stab': 3559, 'stack': 3560, 'stadium': 3561, 'staff': 3562, 'stag': 3563, 'stage': 3564, 'staggered': 3565, 'stained': 3566, 'staircase': 3567, 'stairs': 3568, 'stalked': 3569, 'stammered': 3570, 'stamping': 3571, 'stan': 3572, 'stand': 3573, 'standard': 3574, 'standing': 3575, 'stands': 3576, 'star': 3577, 'stare': 3578, 'stared': 3579, 'staring': 3580, 'starry': 3581, 'stars': 3582, 'start': 3583, 'started': 3584, 'starting': 3585, 'startled': 3586, 'starving': 3587, 'state': 3588, 'station': 3589, 'statue': 3590, 'statues': 3591, 'stay': 3592, 'stayed': 3593, 'staying': 3594, 'steadily': 3595, 'steady': 3596, 'steak': 3597, 'steal': 3598, 'stealing': 3599, 'steam': 3600, 'steep': 3601, 'steering': 3602, 'step': 3603, 'stepped': 3604, 'steps': 3605, 'stern': 3606, 'sternly': 3607, 'stick': 3608, 'sticking': 3609, 'stiff': 3610, 'stiffly': 3611, 'still': 3612, 'stir': 3613, 'stirred': 3614, 'stirring': 3615, 'stole': 3616, 'stolen': 3617, 'stomach': 3618, 'stone': 3619, 'stones': 3620, 'stood': 3621, 'stool': 3622, 'stooped': 3623, 'stop': 3624, 'stopped': 3625, 'stopping': 3626, 'store': 3627, 'stories': 3628, 'storm': 3629, 'stormed': 3630, 'story': 3631, 'straight': 3632, 'straightened': 3633, 'straightening': 3634, 'strained': 3635, 'straining': 3636, 'strange': 3637, 'strangely': 3638, 'stranger': 3639, 'strangled': 3640, 'streaked': 3641, 'stream': 3642, 'streaming': 3643, 'street': 3644, 'strength': 3645, 'stretch': 3646, 'stretched': 3647, 'stretching': 3648, 'strewn': 3649, 'stricken': 3650, 'striding': 3651, 'strike': 3652, 'string': 3653, 'strode': 3654, 'stroke': 3655, 'stroking': 3656, 'strolled': 3657, 'strong': 3658, 'stronger': 3659, 'strongly': 3660, 'struck': 3661, 'struggle': 3662, 'struggled': 3663, 'struggling': 3664, 'stubbornly': 3665, 'stubby': 3666, 'stuck': 3667, 'student': 3668, 'students': 3669, 'study': 3670, 'studying': 3671, 'stuff': 3672, 'stuffed': 3673, 'stuffing': 3674, 'stumbled': 3675, 'stumped': 3676, 'stunned': 3677, 'stunning': 3678, 'stupefy': 3679, 'stupid': 3680, 'sturgis': 3681, 'subject': 3682, 'subjects': 3683, 'substance': 3684, 'succeeded': 3685, 'success': 3686, 'sudden': 3687, 'suddenly': 3688, 'suffered': 3689, 'suffering': 3690, 'sugar': 3691, 'suggest': 3692, 'suggested': 3693, 'suit': 3694, 'summer': 3695, 'summon': 3696, 'summoning': 3697, 'sun': 3698, 'sunday': 3699, 'sunk': 3700, 'sunken': 3701, 'sunlight': 3702, 'support': 3703, 'supported': 3704, 'supporters': 3705, 'suppose': 3706, 'supposed': 3707, 'suppress': 3708, 'sure': 3709, 'surely': 3710, 'surface': 3711, 'surge': 3712, 'surprise': 3713, 'surprised': 3714, 'surrounded': 3715, 'surrounding': 3716, 'surveyed': 3717, 'surveying': 3718, 'survive': 3719, 'survived': 3720, 'suspected': 3721, 'suspended': 3722, 'suspicion': 3723, 'suspicious': 3724, 'suspiciously': 3725, 'swallowed': 3726, 'swam': 3727, 'swarming': 3728, 'swayed': 3729, 'swaying': 3730, 'swear': 3731, 'sweat': 3732, 'sweater': 3733, 'sweating': 3734, 'sweaty': 3735, 'sweeping': 3736, 'sweet': 3737, 'sweetly': 3738, 'sweets': 3739, 'swelled': 3740, 'swelling': 3741, 'swept': 3742, 'swerved': 3743, 'swiftly': 3744, 'swig': 3745, 'swimming': 3746, 'swing': 3747, 'swinging': 3748, 'swirling': 3749, 'swollen': 3750, 'swooped': 3751, 'swooping': 3752, 'sword': 3753, 'swore': 3754, 'sworn': 3755, 'swung': 3756, 'symbol': 3757, 'table': 3758, 'tables': 3759, 'tail': 3760, 'take': 3761, 'taken': 3762, 'takes': 3763, 'taking': 3764, 'tale': 3765, 'talent': 3766, 'tales': 3767, 'talk': 3768, 'talked': 3769, 'talking': 3770, 'tall': 3771, 'taller': 3772, 'tangled': 3773, 'tank': 3774, 'tap': 3775, 'tapestry': 3776, 'tapped': 3777, 'tapping': 3778, 'task': 3779, 'tasks': 3780, 'taste': 3781, 'taught': 3782, 'tea': 3783, 'teach': 3784, 'teacher': 3785, 'teachers': 3786, 'teaching': 3787, 'teacup': 3788, 'team': 3789, 'teams': 3790, 'tear': 3791, 'tearing': 3792, 'tears': 3793, 'ted': 3794, 'teeth': 3795, 'telephone': 3796, 'telescope': 3797, 'television': 3798, 'tell': 3799, 'telling': 3800, 'tells': 3801, 'temper': 3802, 'temple': 3803, 'ten': 3804, 'tense': 3805, 'tent': 3806, 'tentatively': 3807, 'tents': 3808, 'ter': 3809, 'term': 3810, 'terms': 3811, 'terrible': 3812, 'terrified': 3813, 'terror': 3814, 'test': 3815, 'tested': 3816, 'tha': 3817, 'thank': 3818, 'thanks': 3819, 'theory': 3820, 'therefore': 3821, 'thestral': 3822, 'thestrals': 3823, 'thick': 3824, 'thickly': 3825, 'thicknesse': 3826, 'thief': 3827, 'thin': 3828, 'thing': 3829, 'things': 3830, 'think': 3831, 'thinking': 3832, 'thinks': 3833, 'third': 3834, 'thirteen': 3835, 'thirty': 3836, 'thomas': 3837, 'thoroughly': 3838, 'though': 3839, 'thought': 3840, 'thoughtfully': 3841, 'thoughts': 3842, 'thousand': 3843, 'thousands': 3844, 'thrashing': 3845, 'thread': 3846, 'threatened': 3847, 'threatening': 3848, 'three': 3849, 'threshold': 3850, 'threw': 3851, 'throat': 3852, 'throbbing': 3853, 'throughout': 3854, 'throw': 3855, 'throwing': 3856, 'thrown': 3857, 'thrust': 3858, 'thud': 3859, 'thumping': 3860, 'thundering': 3861, 'thursday': 3862, 'tickets': 3863, 'tie': 3864, 'tied': 3865, 'tight': 3866, 'tightly': 3867, 'till': 3868, 'time': 3869, 'times': 3870, 'tin': 3871, 'tiny': 3872, 'tip': 3873, 'tipped': 3874, 'tips': 3875, 'tired': 3876, 'toad': 3877, 'toast': 3878, 'today': 3879, 'toes': 3880, 'together': 3881, 'toilet': 3882, 'told': 3883, 'tom': 3884, 'tomorrow': 3885, 'tone': 3886, 'tones': 3887, 'tongue': 3888, 'tonight': 3889, 'tonks': 3890, 'took': 3891, 'top': 3892, 'topmost': 3893, 'toppled': 3894, 'torches': 3895, 'tore': 3896, 'torn': 3897, 'torture': 3898, 'tortured': 3899, 'total': 3900, 'touch': 3901, 'touched': 3902, 'touching': 3903, 'tough': 3904, 'tournament': 3905, 'toward': 3906, 'towards': 3907, 'tower': 3908, 'towering': 3909, 'trace': 3910, 'track': 3911, 'tracks': 3912, 'trailing': 3913, 'train': 3914, 'trained': 3915, 'training': 3916, 'traitor': 3917, 'transfiguration': 3918, 'transfixed': 3919, 'transform': 3920, 'transformed': 3921, 'transparent': 3922, 'trapdoor': 3923, 'trapped': 3924, 'traveled': 3925, 'traveling': 3926, 'travers': 3927, 'tray': 3928, 'treacle': 3929, 'treasure': 3930, 'treat': 3931, 'treated': 3932, 'tree': 3933, 'trees': 3934, 'trelawney': 3935, 'trembled': 3936, 'trembling': 3937, 'trevor': 3938, 'trick': 3939, 'tricks': 3940, 'tricky': 3941, 'tried': 3942, 'trip': 3943, 'tripped': 3944, 'triumph': 3945, 'triumphant': 3946, 'triwizard': 3947, 'troll': 3948, 'trolley': 3949, 'trolls': 3950, 'trouble': 3951, 'troubled': 3952, 'true': 3953, 'truly': 3954, 'trunk': 3955, 'trunks': 3956, 'trust': 3957, 'trusted': 3958, 'trusts': 3959, 'truth': 3960, 'try': 3961, 'trying': 3962, 'tucked': 3963, 'tuesday': 3964, 'tugged': 3965, 'tugging': 3966, 'tunnel': 3967, 'turban': 3968, 'turn': 3969, 'turned': 3970, 'turning': 3971, 'turns': 3972, 'twelve': 3973, 'twenty': 3974, 'twice': 3975, 'twigs': 3976, 'twin': 3977, 'twinkling': 3978, 'twins': 3979, 'twisted': 3980, 'twisting': 3981, 'twitched': 3982, 'twitching': 3983, 'two': 3984, 'tying': 3985, 'ugly': 3986, 'um': 3987, 'umbrella': 3988, 'umbridge': 3989, 'un': 3990, 'unable': 3991, 'unaware': 3992, 'uncertainly': 3993, 'uncle': 3994, 'uncomfortable': 3995, 'uncomfortably': 3996, 'unconscious': 3997, 'uncontrollably': 3998, 'underage': 3999, 'underground': 4000, 'underneath': 4001, 'understand': 4002, 'understanding': 4003, 'understood': 4004, 'undertone': 4005, 'undoubtedly': 4006, 'uneasy': 4007, 'unexpected': 4008, 'unfolded': 4009, 'unfortunate': 4010, 'unfortunately': 4011, 'unicorn': 4012, 'united': 4013, 'unknown': 4014, 'unless': 4015, 'unlike': 4016, 'unlikely': 4017, 'unpleasant': 4018, 'unpleasantly': 4019, 'untidy': 4020, 'unusual': 4021, 'unusually': 4022, 'upon': 4023, 'upper': 4024, 'upright': 4025, 'upset': 4026, 'upside': 4027, 'upstairs': 4028, 'upward': 4029, 'upwards': 4030, 'urge': 4031, 'urged': 4032, 'urgent': 4033, 'urgently': 4034, 'us': 4035, 'use': 4036, 'used': 4037, 'useful': 4038, 'useless': 4039, 'uses': 4040, 'using': 4041, 'usual': 4042, 'usually': 4043, 'utter': 4044, 'utterly': 4045, 'vaguely': 4046, 'valuable': 4047, 'vanish': 4048, 'vanished': 4049, 'vanishing': 4050, 'various': 4051, 'vast': 4052, 'vault': 4053, 'veela': 4054, 'veil': 4055, 'velvet': 4056, 'venom': 4057, 'vernon': 4058, 'version': 4059, 'vicious': 4060, 'victims': 4061, 'view': 4062, 'vigorously': 4063, 'viktor': 4064, 'village': 4065, 'violent': 4066, 'violently': 4067, 'violet': 4068, 'visible': 4069, 'vision': 4070, 'visit': 4071, 'visited': 4072, 'visiting': 4073, 'visitors': 4074, 'vivid': 4075, 'voice': 4076, 'voices': 4077, 'vol': 4078, 'voldemort': 4079, 'voldemorts': 4080, 'w': 4081, 'wailing': 4082, 'waist': 4083, 'wait': 4084, 'waited': 4085, 'waiting': 4086, 'wake': 4087, 'walk': 4088, 'walked': 4089, 'walking': 4090, 'wall': 4091, 'walls': 4092, 'wan': 4093, 'wand': 4094, 'wandered': 4095, 'wandering': 4096, 'wandlight': 4097, 'wandmaker': 4098, 'wands': 4099, 'want': 4100, 'wanted': 4101, 'wanting': 4102, 'wants': 4103, 'war': 4104, 'ward': 4105, 'wardrobe': 4106, 'warlock': 4107, 'warm': 4108, 'warmth': 4109, 'warn': 4110, 'warned': 4111, 'warning': 4112, 'warrington': 4113, 'wary': 4114, 'wash': 4115, 'washed': 4116, 'waste': 4117, 'wasted': 4118, 'wasting': 4119, 'watch': 4120, 'watched': 4121, 'watching': 4122, 'water': 4123, 'watery': 4124, 'wave': 4125, 'waved': 4126, 'waving': 4127, 'way': 4128, 'ways': 4129, 'weak': 4130, 'weakly': 4131, 'weapon': 4132, 'wear': 4133, 'wearily': 4134, 'wearing': 4135, 'weasley': 4136, 'weasleys': 4137, 'weather': 4138, 'web': 4139, 'wedding': 4140, 'wednesday': 4141, 'week': 4142, 'weekend': 4143, 'weeks': 4144, 'weight': 4145, 'weird': 4146, 'welcome': 4147, 'well': 4148, 'went': 4149, 'werewolf': 4150, 'werewolves': 4151, 'west': 4152, 'wet': 4153, 'wha': 4154, 'whatever': 4155, 'whatsoever': 4156, 'wheeled': 4157, 'wheezy': 4158, 'whenever': 4159, 'whereabouts': 4160, 'wherever': 4161, 'whether': 4162, 'whimpering': 4163, 'whinging': 4164, 'whipped': 4165, 'whirled': 4166, 'whisper': 4167, 'whispered': 4168, 'whispering': 4169, 'whistle': 4170, 'whistling': 4171, 'white': 4172, 'whoever': 4173, 'whole': 4174, 'whomping': 4175, 'whose': 4176, 'wide': 4177, 'widely': 4178, 'widened': 4179, 'widening': 4180, 'wider': 4181, 'wife': 4182, 'wild': 4183, 'wildly': 4184, 'willing': 4185, 'willow': 4186, 'win': 4187, 'winced': 4188, 'wind': 4189, 'winding': 4190, 'window': 4191, 'windows': 4192, 'windowsill': 4193, 'wine': 4194, 'wing': 4195, 'winged': 4196, 'wings': 4197, 'winked': 4198, 'winking': 4199, 'winky': 4200, 'winning': 4201, 'wipe': 4202, 'wiped': 4203, 'wiping': 4204, 'wise': 4205, 'wish': 4206, 'wished': 4207, 'wishes': 4208, 'wishing': 4209, 'witch': 4210, 'witchcraft': 4211, 'witches': 4212, 'withdrew': 4213, 'within': 4214, 'without': 4215, 'witness': 4216, 'witnessed': 4217, 'wizard': 4218, 'wizarding': 4219, 'wizardry': 4220, 'wizards': 4221, 'wizengamot': 4222, 'woke': 4223, 'woken': 4224, 'woman': 4225, 'women': 4226, 'wonder': 4227, 'wondered': 4228, 'wonderful': 4229, 'wondering': 4230, 'wood': 4231, 'wooden': 4232, 'woods': 4233, 'word': 4234, 'words': 4235, 'wore': 4236, 'work': 4237, 'worked': 4238, 'working': 4239, 'works': 4240, 'world': 4241, 'wormtail': 4242, 'worn': 4243, 'worried': 4244, 'worry': 4245, 'worrying': 4246, 'worse': 4247, 'worst': 4248, 'worth': 4249, 'worthy': 4250, 'would': 4251, 'wound': 4252, 'wounds': 4253, 'wow': 4254, 'wrapped': 4255, 'wrenched': 4256, 'wrist': 4257, 'write': 4258, 'writhing': 4259, 'writing': 4260, 'written': 4261, 'wrong': 4262, 'wrote': 4263, 'xenophilius': 4264, 'yard': 4265, 'yards': 4266, 'yawned': 4267, 'yawning': 4268, 'yaxley': 4269, 'yeah': 4270, 'year': 4271, 'years': 4272, 'yeh': 4273, 'yell': 4274, 'yelled': 4275, 'yelling': 4276, 'yellow': 4277, 'yellowish': 4278, 'yells': 4279, 'yep': 4280, 'yer': 4281, 'yes': 4282, 'yesterday': 4283, 'yet': 4284, 'young': 4285, 'younger': 4286, 'youngest': 4287, 'youth': 4288, 'zabini': 4289, 'zacharias': 4290, 'ze': 4291, 'zonko': 4292, 'zoomed': 4293, 'zooming': 4294, '¨c': 4295, '—': 4296, '”': 4297}\n",
            "Both vocab dictionaries are identical.\n",
            "Items in their_voc but not in my_voc:\n",
            "[]\n",
            "\n",
            "Items in my_voc but not in their_voc:\n",
            "[]\n",
            "len of only_in_my_voc: 0\n"
          ]
        }
      ],
      "source": [
        "print(voc ) \n",
        "print( vocab)\n",
        "def compare_vocab_dicts(voc1: Dict[str, int], voc2: Dict[str, int]) -> bool:\n",
        "    \"\"\"\n",
        "    Compare two vocabulary dictionaries to ensure that they have the same keys and values.\n",
        "    \n",
        "    Input:\n",
        "        voc1 - first vocabulary dictionary;\n",
        "        voc2 - second vocabulary dictionary.\n",
        "    Output:\n",
        "        True if both dictionaries are identical, False otherwise.\n",
        "    \"\"\"\n",
        "    if voc1 == voc2:\n",
        "        print(\"Both vocab dictionaries are identical.\")\n",
        "        return True\n",
        "    else:\n",
        "        print(\"Vocab dictionaries differ.\")\n",
        "        # Find keys that are in one dict but not the other\n",
        "        diff_keys_1 = set(voc1.keys()) - set(voc2.keys())\n",
        "        diff_keys_2 = set(voc2.keys()) - set(voc1.keys())\n",
        "        \n",
        "        if diff_keys_1:\n",
        "            print(f\"Keys in voc1 but not in voc2: {diff_keys_1}\")\n",
        "        if diff_keys_2:\n",
        "            print(f\"Keys in voc2 but not in voc1: {diff_keys_2}\")\n",
        "        \n",
        "        # Compare values for matching keys\n",
        "        common_keys = set(voc1.keys()).intersection(voc2.keys())\n",
        "        for key in common_keys:\n",
        "            if voc1[key] != voc2[key]:\n",
        "                print(f\"Difference in value for key '{key}': voc1={voc1[key]}, voc2={voc2[key]}\")\n",
        "        \n",
        "        return False\n",
        "\n",
        "# Example usage\n",
        "compare_vocab_dicts(vocab, voc)\n",
        "their_voc = list(vocab.keys())\n",
        "their_voc.sort()\n",
        "\n",
        "my_voc = list(voc.keys())\n",
        "my_voc.sort()\n",
        "\n",
        "##Find elements present in their_voc but not in my_voc\n",
        "only_in_their_voc = list(set(their_voc) - set(my_voc))\n",
        "\n",
        "# Find elements present in my_voc but not in their_voc\n",
        "only_in_my_voc = list(set(my_voc) - set(their_voc))\n",
        "\n",
        "print(\"Items in their_voc but not in my_voc:\")\n",
        "print(only_in_their_voc)\n",
        "\n",
        "print(\"\\nItems in my_voc but not in their_voc:\")\n",
        "print(only_in_my_voc)\n",
        "print(f\"len of only_in_my_voc: {len(only_in_my_voc)}\")\n"
      ]
    },
    {
      "cell_type": "code",
      "execution_count": null,
      "metadata": {},
      "outputs": [],
      "source": []
    },
    {
      "cell_type": "code",
      "execution_count": 270,
      "metadata": {
        "id": "qWtcGMkLpvY5"
      },
      "outputs": [],
      "source": [
        "# TEST\n",
        "# YOUR CODE HERE - Fill in the found cutoff and window_size values\n",
        "# it shouldn't take more than 2min\n",
        "#%%time\n",
        "my_vocab, my_contexts, my_X = read_book_files([ f\"HPBook{n}.txt\" for n in range(1,8) ], cutoff=42, window_size=42)"
      ]
    },
    {
      "cell_type": "code",
      "execution_count": 272,
      "metadata": {},
      "outputs": [
        {
          "ename": "AttributeError",
          "evalue": "'NoneType' object has no attribute 'keys'",
          "output_type": "error",
          "traceback": [
            "\u001b[1;31m---------------------------------------------------------------------------\u001b[0m",
            "\u001b[1;31mAttributeError\u001b[0m                            Traceback (most recent call last)",
            "Cell \u001b[1;32mIn[272], line 2\u001b[0m\n\u001b[0;32m      1\u001b[0m \u001b[38;5;66;03m# print type  of my_contexts\u001b[39;00m\n\u001b[1;32m----> 2\u001b[0m \u001b[38;5;28mprint\u001b[39m(\u001b[38;5;28mtype\u001b[39m(\u001b[43mmy_contexts\u001b[49m\u001b[38;5;241;43m.\u001b[39;49m\u001b[43mkeys\u001b[49m()))\n",
            "\u001b[1;31mAttributeError\u001b[0m: 'NoneType' object has no attribute 'keys'"
          ]
        }
      ],
      "source": [
        "# print type  of my_contexts\n",
        "print(type(my_contexts.keys()))"
      ]
    },
    {
      "cell_type": "code",
      "execution_count": 263,
      "metadata": {
        "id": "etLoCWEw5ay7"
      },
      "outputs": [
        {
          "ename": "AssertionError",
          "evalue": "",
          "output_type": "error",
          "traceback": [
            "\u001b[1;31m---------------------------------------------------------------------------\u001b[0m",
            "\u001b[1;31mAssertionError\u001b[0m                            Traceback (most recent call last)",
            "Cell \u001b[1;32mIn[263], line 5\u001b[0m\n\u001b[0;32m      3\u001b[0m \u001b[38;5;28;01massert\u001b[39;00m my_vocab[\u001b[38;5;124m'\u001b[39m\u001b[38;5;124m1\u001b[39m\u001b[38;5;124m'\u001b[39m] \u001b[38;5;241m==\u001b[39m \u001b[38;5;241m0\u001b[39m\n\u001b[0;32m      4\u001b[0m \u001b[38;5;28;01massert\u001b[39;00m \u001b[38;5;28misinstance\u001b[39m(my_vocab, \u001b[38;5;28mdict\u001b[39m)\n\u001b[1;32m----> 5\u001b[0m \u001b[38;5;28;01massert\u001b[39;00m \u001b[38;5;28misinstance\u001b[39m(my_contexts, \u001b[38;5;28mdict\u001b[39m)\n\u001b[0;32m      6\u001b[0m \u001b[38;5;28;01massert\u001b[39;00m \u001b[38;5;124m'\u001b[39m\u001b[38;5;124mpotter\u001b[39m\u001b[38;5;124m'\u001b[39m \u001b[38;5;129;01min\u001b[39;00m my_contexts[\u001b[38;5;124m'\u001b[39m\u001b[38;5;124mharry\u001b[39m\u001b[38;5;124m'\u001b[39m]\n\u001b[0;32m      7\u001b[0m \u001b[38;5;28;01massert\u001b[39;00m \u001b[38;5;28misinstance\u001b[39m(my_X, torch\u001b[38;5;241m.\u001b[39mTensor)\n",
            "\u001b[1;31mAssertionError\u001b[0m: "
          ]
        }
      ],
      "source": [
        "# TEST c9\n",
        "# This makes sure the value types are as expected\n",
        "assert my_vocab['1'] == 0\n",
        "assert isinstance(my_vocab, dict)\n",
        "assert isinstance(my_contexts, dict)\n",
        "assert 'potter' in my_contexts['harry']\n",
        "assert isinstance(my_X, torch.Tensor)\n",
        "assert my_X.size() == (4298,4298)"
      ]
    },
    {
      "cell_type": "markdown",
      "metadata": {
        "id": "t29uPQsQhBnr"
      },
      "source": [
        "<font color=\"red\">**Don't clear the output of the above cell!**</font>"
      ]
    },
    {
      "cell_type": "markdown",
      "metadata": {
        "id": "EwjIMegPnE7_"
      },
      "source": [
        "#### i6 [3pt]\n",
        "\n",
        "What are the values of `cutoff` and `window_size` that replicates the provided counts?\n",
        "\n",
        "Briefly describe the process of finding the correct underlying algorithm of `read_book_files` and the correct values of `cutoff` and `window_size`.  \n",
        "Be concise. 100-150 words can be more than enough for the description."
      ]
    },
    {
      "cell_type": "markdown",
      "metadata": {
        "id": "UIslxPDHnBWh",
        "nbgrader": {
          "grade": true,
          "grade_id": "Interpretation5",
          "locked": false,
          "points": 1,
          "schema_version": 3,
          "solution": true,
          "task": false
        },
        "tags": []
      },
      "source": [
        "**ANSWER**: <font color=\"red\">YOUR ANSWER HERE</font>"
      ]
    },
    {
      "cell_type": "markdown",
      "metadata": {
        "id": "5h2l-Sw7gel9"
      },
      "source": [
        "### Optional\n",
        "If you are done, you can continue experimenting in order to understand the system's behaviour better. For example: how does training and hyperparameter choice affect the model's performance?\n",
        "Repeat the training using your own hyperparameters (vector space dimensionality, optimizer parameters, the number of training epochs, a different random seed, etc.).\n",
        "\n",
        "During the training loop, print the qualitative benchmarks every few epochs. Do they keep improving? Is there any disadvantage to exhaustively training until convergence?\n",
        "\n",
        "Now you have all the tools at hand to train the word vectors on any textual corpus."
      ]
    },
    {
      "cell_type": "markdown",
      "metadata": {
        "id": "nbgNN_S8W9Y6"
      },
      "source": [
        "# Acknowledgment\n",
        "\n",
        "The jupyter notebook was initially created by Konstantinos Kogkalidis and Tejaswini Deoskar.  \n",
        "Recent changes, including adaptation to the Colab environment and the exercise on reconstructing a co-occurrence matrix, are by Lasha Abzianidze."
      ]
    }
  ],
  "metadata": {
    "colab": {
      "provenance": [],
      "toc_visible": true
    },
    "kernelspec": {
      "display_name": "PyTorch",
      "language": "python",
      "name": "python3"
    },
    "language_info": {
      "codemirror_mode": {
        "name": "ipython",
        "version": 3
      },
      "file_extension": ".py",
      "mimetype": "text/x-python",
      "name": "python",
      "nbconvert_exporter": "python",
      "pygments_lexer": "ipython3",
      "version": "3.10.15"
    },
    "toc-showmarkdowntxt": false
  },
  "nbformat": 4,
  "nbformat_minor": 0
}

{
  "cells": [
    {
      "cell_type": "markdown",
      "metadata": {
        "id": "CuydOXTs7w4o"
      },
      "source": [
        "# Vectorial Word Representations"
      ]
    },
    {
      "cell_type": "markdown",
      "metadata": {
        "id": "SIjOQt-Rgelp"
      },
      "source": [
        "## Background\n",
        "Representing words as dense vectors over a finite-dimensional space was one of the recent breakthroughs in Natural Language Processing. Vectorial representations allow space-efficient, informationally rich storage of words that adequately captures their semantic content and enables numerical computation on them. Word vectors are the standard input representation for machine learning architectures for language processing. Even though new methods for constructing such representations emerge frequently, the original set of published papers remain a de facto point of reference as well as a good starting point. For this assignment, you will be asked to implement a small-scale variant of one such paper, namely [Global Word Vectors for Word Representation](https://nlp.stanford.edu/pubs/glove.pdf) (\"the GloVe paper\").\n",
        "\n",
        "Notes on the paper will appear throughout the notebook to guide you along the code. It is, however, important to read and understand the paper, its terminology and the theory behind it before attempting to go through with the assignment. Some of the tasks will also require addressing the paper directly.\n",
        "\n",
        "---\n",
        "\n",
        "There are 2 types of tasks in this assignment:\n",
        "- coding tasks --- asking you to write code following specifications provided; Most of the tasks come with test cases for sanity-check. Still, if something is not clear, <ins>do ask questions to lab teachers</ins>. When working with tensors, you have to use tensor-related operations instead of, e.g., inefficiently looping through tensor rows and columns.\n",
        "- interpretation questions --- asking you to interpret the data or the results of the model\n",
        "\n",
        "Each comes with its predefined points (totaling to 50pt). Some coding tasks have 0 points but solving them will be useful for you.\n",
        "\n",
        "---\n",
        "\n",
        "You are greatly encouraged to add comments to your code describing what particular lines of code do (in general, a great habit to have in your coding life).\n",
        "Additionally please follow these rules when submitting the notebook:\n",
        "\n",
        "* Put all code in the cell with the `# YOUR CODE HERE` comment.\n",
        "* For theoretical questions, put your solution in the `YOUR ANSWER HERE` cell and keep the header(!).\n",
        "* Don't change or delete any initially provided cells, either text or code, unless explicitly instructed to do so.\n",
        "* Don't delete the comment lines `# TEST...` or edit their code cells. The test cells are for sanity checking. Passing them doesn't necessarily means that your code is fine.\n",
        "* Don't change the names of provided functions and variables or arguments of the functions.\n",
        "* Don't clear the output of your code cells.\n",
        "* Don't output unnecessary info (e.g., printing variables for debugging purposes). This clutters the notebook and slows down the grading. You can have print() in the code, but comment them out before submitting the notebook.\n",
        "* Delete those cells that you inserted for your own debuging/testing purposes.\n",
        "* Don't forget to fill in the contribution information.\n",
        "* Test your code and **make sure we can run your notebook** in the colab environment.\n",
        "* A single notebook file (without archiving) per group should be submitted via BB.\n",
        "\n",
        "<font color=\"red\">You following these rules helps us to grade the submissions relatively efficiently. If these rules are violated, a submission will be subject to penalty points.</font>\n"
      ]
    },
    {
      "cell_type": "markdown",
      "metadata": {
        "id": "nNT1WNEnlkBC"
      },
      "source": [
        "# <font color=\"red\">Contributions</font>\n",
        "\n",
        "[\"Cem Kaya\", \"Murat Karaca\"]\n",
        "Equal contribution "
      ]
    },
    {
      "cell_type": "markdown",
      "metadata": {
        "id": "AyHEls6Agelp"
      },
      "source": [
        "## Corpus Statistics\n",
        "\n",
        "The paper's proposed model, GloVe, aims to densely represent words in a way that captures the global corpus statistics.\n",
        "\n",
        "The construction it encodes is the word __co-occurrence matrix__. A co-occurrence matrix is a simplistic data structure that counts the number of times each word has appeared within the context of every other word. The definition of a context varies; usually, context is implied to be a fixed-length span (that may or may not be allowed to escape sentence boundaries) around a word.\n",
        "\n",
        "For instance, in the sentence below and for a context length of 2, the word <span style=\"color:pink\">__Earth__</span> occurs in the context of <span style=\"color:lightgreen\">made</span> (1), <span style=\"color:lightgreen\">on</span> (1), <span style=\"color:lightgreen\">as</span> (1), <span style=\"color:lightgreen\">an</span> (1).\n",
        "\n",
        "> \"He struck most of the friends he had <span style=\"color:lightgreen\">made on</span> <span style=\"color:pink\">__Earth__</span> <span style=\"color:lightgreen\">as an</span> eccentric\"\n",
        "\n",
        "Similarly, the word <span style=\"color:pink\">__friends__</span> occurs in the context of <span style=\"color:lightgreen\">of</span> (1), <span style=\"color:lightgreen\">the</span> (1), <span style=\"color:lightgreen\">he</span> (1), <span style=\"color:lightgreen\">had</span> (1).\n",
        "\n",
        "> \"He struck most <span style=\"color:lightgreen\">of the</span> <span style=\"color:pink\">__friends__</span> <span style=\"color:lightgreen\">he had</span> made on Earth as an eccentric\"\n",
        "\n",
        "An alternative definition of a context would be, for instance, the variable-length windows spanned by a full sentence.\n",
        "\n",
        "Contexts may be summed across sentences or entire corpora; the summed context of <span style=\"color:pink\">__he__</span> in the example sentence is: <span style=\"color:lightgreen\">struck</span> (1), <span style=\"color:lightgreen\">most</span> (1), <span style=\"color:lightgreen\">the</span> (1), <span style=\"color:lightgreen\">friends</span> (1), <span style=\"color:lightgreen\">had</span> (1), <span style=\"color:lightgreen\">made</span> (1).\n",
        "\n"
      ]
    },
    {
      "cell_type": "markdown",
      "metadata": {
        "id": "JcPQmxFagelp"
      },
      "source": [
        "For the purposes of this assignment, we have prepared a co-occurrence matrix over a minimally processed version of the Harry Potter books.\n",
        "\n",
        "(A few interpretation tasks in this assignment presuppose some minimal level of familiarity with the Harry Potter books/films. If no one in your group is familiar with Harry Potter, you might find the [fandom page](https://harrypotter.fandom.com/wiki/Main_Page) useful or the [synopsis sections](https://en.wikipedia.org/wiki/Harry_Potter_and_the_Philosopher%27s_Stone) of the corresponding wiki pages.\n",
        "\n",
        "The pickle file contains three items:\n",
        "1. `vocab`: a dictionary mapping words to unique ids, containing $N$ unique words\n",
        "2. `contexts`: a dictionary mapping words to their contexts, where contexts are themselves dicts from words to integers that show the number of co-occurrences between these words.\n",
        "    E.g. `{\"portrait\": {\"harry\": 124, \"said\": 114, ...}, ...}` meaning that the word \"harry\" has appeared in the context of the word \"portrait\" 124 times, etc.\n",
        "3. `X`: a torch LongTensor ${X}$ of size $N \\times N$, where ${X}[i,j]$ denotes the number of times the word with id $j$ has appeared in the context of the word with id $i$\n",
        "\n",
        "Extremely common or uncommon words (i.e. words with too few or too many global occurrences) have been filtered out for practical reasons."
      ]
    },
    {
      "cell_type": "code",
      "execution_count": 1,
      "metadata": {
        "id": "M4xXGmBsgelp"
      },
      "outputs": [
        {
          "name": "stdout",
          "output_type": "stream",
          "text": [
            "GPU available:  True\n"
          ]
        }
      ],
      "source": [
        "import pickle, math\n",
        "import torch\n",
        "#import numpy as np\n",
        "from torch import FloatTensor, LongTensor\n",
        "from typing import Dict, Callable, List\n",
        "# torch.set_printoptions(precision=8) #to increase precision of printing floats\n",
        "#print gpu support\n",
        "print(\"GPU available: \", torch.cuda.is_available())\n",
        "torch.set_printoptions(precision=3, sci_mode=False)"
      ]
    },
    {
      "cell_type": "code",
      "execution_count": 2,
      "metadata": {
        "id": "j8FXEspuud42"
      },
      "outputs": [],
      "source": [
        "# this command downloads the pickle file.\n",
        "# This is not a python code, it is a unix code. You can run system commands in jupyter notebooks.\n",
        "# !wget -nv -O HP-Counts.p https://www.dropbox.com/scl/fi/dnm7s38j8d0k0bguisiby/HP-Counts.p?rlkey=j0fc11rlnkow7jqb02sel6gz6&dl=1\n",
        "# try this if download from the dropbox link doesn't work\n",
        "\n",
        "#TODO delete comment before submition \n",
        "#!wget -nv -O HP-Counts.p https://naturallogic.pro/_files_/download/MLHVL/HP-Counts.p"
      ]
    },
    {
      "cell_type": "code",
      "execution_count": 3,
      "metadata": {
        "id": "LvW_GgYDgelr",
        "nbgrader": {
          "grade": false,
          "grade_id": "file-open",
          "locked": true,
          "schema_version": 3,
          "solution": false,
          "task": false
        },
        "tags": []
      },
      "outputs": [],
      "source": [
        "with open(\"HP-Counts.p\", \"rb\") as f:\n",
        "    vocab, contexts, X = pickle.load(f)"
      ]
    },
    {
      "cell_type": "markdown",
      "metadata": {
        "id": "KAYhg1c9gels"
      },
      "source": [
        "Let's inspect the top 10 most frequent words in the context of the word 'portrait'."
      ]
    },
    {
      "cell_type": "code",
      "execution_count": 4,
      "metadata": {
        "id": "y6Z-eEFcgelt",
        "tags": []
      },
      "outputs": [
        {
          "data": {
            "text/plain": [
              "[('harry', 124),\n",
              " ('said', 114),\n",
              " ('hole', 85),\n",
              " ('ron', 57),\n",
              " ('hermione', 54),\n",
              " ('room', 48),\n",
              " ('fat', 45),\n",
              " ('lady', 43),\n",
              " ('common', 37),\n",
              " ('back', 31)]"
            ]
          },
          "execution_count": 4,
          "metadata": {},
          "output_type": "execute_result"
        }
      ],
      "source": [
        "sorted([(item, value) for item, value in contexts[\"portrait\"].items()], key=lambda x: x[1], reverse=True)[:10]"
      ]
    },
    {
      "cell_type": "markdown",
      "metadata": {
        "id": "rTRNE9o7gelt"
      },
      "source": [
        "The co-occurrence matrix of a very large corpus should give a meaningful summary of how a word is used in general. A single row of that matrix is already a __word vector__ of size $N$. However such vectors are extremely sparse, and for large corpora the size of $N$ will become unwieldy. We will follow the paper in designing an algorithm that can compress the word vectors while retaining most of their informational content.\n",
        "\n",
        "<div class=\"alert alert-block alert-info\">\n",
        "<b>Note:</b>\n",
        "For the resulting vectors to actually be informative, the source corpus should have a size of at least a few billion words; on the contrary, our corpus enumerates merely a million words, so we can't expect our results to be as great.\n",
        "</div>"
      ]
    },
    {
      "cell_type": "markdown",
      "metadata": {
        "id": "Hd45Trplgelu"
      },
      "source": [
        "### From co-occurrence to probabilities\n",
        "\n",
        "Our matrix $X$ is very sparse; most of its elements are zero.\n",
        "\n",
        "Find what the ratio of non-zero elements is.  \n",
        "Check if the matrix is symmetric (think about why it should (not) be).\n",
        "\n",
        "_Hint_: The function `non_zero_ratio` should return a `float` rather than a `FloatTensor`. Remember `.item()`."
      ]
    },
    {
      "cell_type": "code",
      "execution_count": 5,
      "metadata": {
        "id": "kVb5uBzngelu",
        "nbgrader": {
          "grade": false,
          "grade_id": "non_zero_ratio",
          "locked": false,
          "schema_version": 3,
          "solution": true,
          "task": false
        },
        "tags": []
      },
      "outputs": [],
      "source": [
        "# @title c1.1 [0pt]\n",
        "def non_zero_ratio(sparse_matrix: LongTensor) -> float:\n",
        "    num_zero= 0\n",
        "    num_nan_zero = 0\n",
        "    for i in range(sparse_matrix.shape[0]):\n",
        "        for j in range(sparse_matrix.shape[1]):\n",
        "            if sparse_matrix[i][j]== 0:\n",
        "                num_zero += 1.0\n",
        "            else:\n",
        "                num_nan_zero += 1.0\n",
        "                \n",
        "    return num_nan_zero / (num_nan_zero + num_zero)\n",
        "#non_zero_ratio(X)"
      ]
    },
    {
      "cell_type": "code",
      "execution_count": 6,
      "metadata": {
        "id": "SqLY3Kmugelu",
        "nbgrader": {
          "grade": true,
          "grade_id": "non_zero_ratio_tests",
          "locked": true,
          "points": 1,
          "schema_version": 3,
          "solution": false,
          "task": false
        },
        "tags": []
      },
      "outputs": [],
      "source": [
        "# TEST c1.1\n",
        "assert 0.1 < non_zero_ratio(X) < 0.2"
      ]
    },
    {
      "cell_type": "markdown",
      "metadata": {
        "id": "pJsqVzO_gelu"
      },
      "source": [
        "We will soon need to perform division and find the logarithm of ${X}$. Neither of the two operations are well-defined for $0$. That's why for further processing we want to have a matrix without any zero elements.\n",
        "\n",
        "Change the matrix's datatype to a `torch.float` and add a small constant to it such as $0.1$ to ensure numerical stability while maintaining sparsity. The obtained matrix will be used in the remaining sections (not the original one)."
      ]
    },
    {
      "cell_type": "code",
      "execution_count": 7,
      "metadata": {
        "id": "Atv-IK8dgelv",
        "nbgrader": {
          "grade": false,
          "grade_id": "X1",
          "locked": false,
          "schema_version": 3,
          "solution": true,
          "task": false
        },
        "tags": []
      },
      "outputs": [],
      "source": [
        "# @title c1.2 [0pt]\n",
        "X1 =  X.float() +0.1 \n"
      ]
    },
    {
      "cell_type": "code",
      "execution_count": 8,
      "metadata": {
        "id": "_OVZ556bgelv",
        "nbgrader": {
          "grade": true,
          "grade_id": "X1_tests",
          "locked": true,
          "points": 1,
          "schema_version": 3,
          "solution": false,
          "task": false
        },
        "tags": []
      },
      "outputs": [],
      "source": [
        "# TEST c1.2\n",
        "assert non_zero_ratio(X1) == 1"
      ]
    },
    {
      "cell_type": "markdown",
      "metadata": {
        "id": "k1ZXji04gelw"
      },
      "source": [
        "From the paper:\n",
        "> Let the matrix of word-word co-occurrence counts be denoted by $X$, whose entries $X_{ij}$ tabulate the number of times word $j$ occurs in the context of word $i$.  Let $X_i$= $\\sum_{k} X_{ik}$ be the number of times any word appears in the context of word $i$. Finally, let $P_{ij} = P(j  | i) =  X_{ij}/X_i$ be the probability that word $j$ appears in the context of word $i$.\n",
        "\n",
        "Complete the function `to_probabilities` that accepts a co-occurrence matrix and returns the probability matrix $P$. Use tensor-specific functions and methods hiel doing this (e.g., don't loop through colums and rows of the tensor).\n",
        "\n",
        "_Hint_: Remember broadcasting and `torch.sum()`."
      ]
    },
    {
      "cell_type": "code",
      "execution_count": 9,
      "metadata": {
        "id": "NZQ0Upzogelw",
        "nbgrader": {
          "grade": false,
          "grade_id": "to_probabilities",
          "locked": false,
          "schema_version": 3,
          "solution": true,
          "task": false
        },
        "tags": []
      },
      "outputs": [
        {
          "data": {
            "text/plain": [
              "tensor([[    0.167,     0.333,     0.500],\n",
              "        [    0.000,     1.000,     0.000],\n",
              "        [    0.000,     0.000,     1.000]])"
            ]
          },
          "execution_count": 9,
          "metadata": {},
          "output_type": "execute_result"
        }
      ],
      "source": [
        "# @title c1.3 [1pt]\n",
        "def to_probabilities(count_matrix: FloatTensor) -> FloatTensor:\n",
        "    Xi_vec = torch.sum(count_matrix, axis=1)\n",
        "    #print(\"Xi_vec:  \",Xi_vec)\n",
        "    return (count_matrix.T / Xi_vec).T \n",
        "# make a torch tensor to test the function\n",
        "X = FloatTensor([[1.0001, 2.0001, 3.0001], \n",
        "                 [0.0001, 1.0001, 0.0001],\n",
        "                 [0.0001, 0.0001, 1.0001]])\n",
        "to_probabilities(X)"
      ]
    },
    {
      "cell_type": "code",
      "execution_count": 10,
      "metadata": {
        "id": "AFs3I2hLgelw",
        "nbgrader": {
          "grade": false,
          "grade_id": "to_probabilities_run",
          "locked": true,
          "schema_version": 3,
          "solution": false,
          "task": false
        },
        "tags": []
      },
      "outputs": [],
      "source": [
        "P = to_probabilities(X1) # note that we use X1 not X here"
      ]
    },
    {
      "cell_type": "code",
      "execution_count": 11,
      "metadata": {
        "id": "a1ulUiEjgelw",
        "nbgrader": {
          "grade": true,
          "grade_id": "to_probabilities_tests",
          "locked": true,
          "points": 1,
          "schema_version": 3,
          "solution": false,
          "task": false
        },
        "tags": []
      },
      "outputs": [],
      "source": [
        "# TEST c1.3\n",
        "assert P.shape == torch.Size([len(vocab), len(vocab)])"
      ]
    },
    {
      "cell_type": "markdown",
      "metadata": {
        "id": "KLZwxb3Mgelx"
      },
      "source": [
        "### Probing words\n",
        "\n",
        "From the paper:\n",
        "> Consider two words $i$ and $j$ that exhibit a particular aspect of interest. The relationship of these words can be examined by studying the ratio of their co-occurrence probabilities with various probe words, $k$.  For words $k$ related to $i$ but not $j$, we expect the ratio $P_{ik}/P_{jk}$ will be large.  Similarly, for words $k$ related to $j$ but not $i$, the ratio should be small. For words $k$ that are either related to both $i$ and $j$, or to neither, the ratio should be close to one.\n",
        "\n",
        "Complete the function `query` that accepts two words $w_i$ and $w_j$, a vocab $V$ and a probability matrix ${P}$, maps each word to its corresponding index and returns the probability $P(j  |  i)$. If such probability is impossible to compute for input words, return float 0. probability.  "
      ]
    },
    {
      "cell_type": "code",
      "execution_count": 17,
      "metadata": {
        "id": "uBdjawQGgelx",
        "nbgrader": {
          "grade": false,
          "grade_id": "query",
          "locked": false,
          "schema_version": 3,
          "solution": true,
          "task": false
        },
        "tags": []
      },
      "outputs": [
        {
          "name": "stdout",
          "output_type": "stream",
          "text": [
            "0.0035331191029399633\n",
            "0.00353\n"
          ]
        }
      ],
      "source": [
        "# @title c2.1 [1pt]\n",
        "def query(word_i: str, word_j: str, vocab: Dict[str, int], prob_matrix: FloatTensor) -> float:\n",
        "    if word_i in vocab.keys() and word_j in vocab.keys():\n",
        "        w_i_idx = vocab[word_i]\n",
        "        w_j_idx = vocab[word_j]\n",
        "        \n",
        "        prob_matrix = prob_matrix.double() \n",
        "        # P(j | i) = P(i, j) / P(i)\n",
        "        P_i_j = prob_matrix[w_i_idx, w_j_idx]\n",
        "        P_i = torch.sum(prob_matrix[w_i_idx])    \n",
        "          \n",
        "        result = P_i_j/P_i\n",
        "        return float(result.float())\n",
        "    else:\n",
        "        return 0.0   \n",
        "    \n",
        "print(query('harry', 'potter', vocab, P) )\n",
        "print(round(query('harry', 'potter', vocab, P), 5))"
      ]
    },
    {
      "cell_type": "code",
      "execution_count": 18,
      "metadata": {
        "id": "RSnC-kk-gelx",
        "nbgrader": {
          "grade": true,
          "grade_id": "query_tests",
          "locked": true,
          "points": 1,
          "schema_version": 3,
          "solution": false,
          "task": false
        },
        "tags": []
      },
      "outputs": [],
      "source": [
        "# TEST c2.1\n",
        "\n",
        "assert round(query('harry', 'potter', vocab, P), 5) == 0.00353"
      ]
    },
    {
      "cell_type": "markdown",
      "metadata": {
        "id": "NlVGaJVbgelx"
      },
      "source": [
        "Then, complete the function `probe` that accepts three words $w_i$, $w_j$ and $w_k$, a vocab $V$ and a probability matrix ${P}$, calls `query` and returns the ratio $P(k |  i) / P(k  |  j)$. Let the function return 0 in case of division by 0."
      ]
    },
    {
      "cell_type": "code",
      "execution_count": 25,
      "metadata": {
        "id": "m9wW_9WLgelx",
        "nbgrader": {
          "grade": false,
          "grade_id": "probe",
          "locked": false,
          "schema_version": 3,
          "solution": true,
          "task": false
        },
        "tags": []
      },
      "outputs": [
        {
          "name": "stdout",
          "output_type": "stream",
          "text": [
            "1.3872\n"
          ]
        }
      ],
      "source": [
        "# @title c2.2 [1pt]\n",
        "def probe(word_i: str, word_j: str, word_k: str, vocab: Dict[str, int], prob_matrix: FloatTensor) -> float:\n",
        "    if word_i in vocab.keys() and word_j in vocab.keys() and word_k in vocab.keys():\n",
        "        w_i_idx = vocab[word_i]\n",
        "        w_j_idx = vocab[word_j]\n",
        "        w_k_idx = vocab[word_k]\n",
        "        \n",
        "        prob_matrix = prob_matrix.double() \n",
        "        \n",
        "        P_k_i = prob_matrix[w_i_idx, w_k_idx]\n",
        "        P_k_j = prob_matrix[w_j_idx, w_k_idx]\n",
        "        P_i = torch.sum(prob_matrix[w_i_idx])    \n",
        "        P_j = torch.sum(prob_matrix[w_j_idx])\n",
        "        \n",
        "        result_k_i = P_k_i/P_i\n",
        "        result_k_j = P_k_j/P_j\n",
        "        if result_k_i == 0 or result_k_j == 0:\n",
        "            return 0.0         \n",
        "        else:\n",
        "            return float(result_k_i / result_k_j) \n",
        "    else:\n",
        "        return 0.0   \n",
        "print(round(probe('harry', 'potter', 'stone', vocab, P), 4)) "
      ]
    },
    {
      "cell_type": "code",
      "execution_count": 26,
      "metadata": {
        "id": "C1_riqA8gely",
        "nbgrader": {
          "grade": true,
          "grade_id": "probe_tests",
          "locked": true,
          "points": 1,
          "schema_version": 3,
          "solution": false,
          "task": false
        },
        "tags": []
      },
      "outputs": [],
      "source": [
        "# TEST c2.2\n",
        "assert round(probe('harry', 'potter', 'stone', vocab, P), 4) == 1.3872"
      ]
    },
    {
      "cell_type": "markdown",
      "metadata": {
        "id": "491Qc7WJgely"
      },
      "source": [
        "Let's probe a few words and examine whether the authors' claim holds even for our (tiny) corpus. **Add two pairs of your own word triplets** and experiment on them."
      ]
    },
    {
      "cell_type": "code",
      "execution_count": 38,
      "metadata": {
        "id": "4XVgjB7lgely",
        "nbgrader": {
          "grade": true,
          "grade_id": "probing",
          "locked": false,
          "points": 0,
          "schema_version": 3,
          "solution": true,
          "task": false
        },
        "tags": []
      },
      "outputs": [
        {
          "name": "stdout",
          "output_type": "stream",
          "text": [
            "tea wand magic 0.01844294403415497\n",
            "tea wand cup 26.142657031012345\n",
            "\n",
            "broom fly race 0.5891650549330356\n",
            "magic store horse 0.07348032329673805\n",
            "train school magic 0.09433587186475488\n"
          ]
        }
      ],
      "source": [
        "print(\"tea\", \"wand\", \"magic\", probe(\"tea\", \"wand\", \"magic\", vocab, P))\n",
        "print(\"tea\", \"wand\", \"cup\", probe(\"tea\", \"wand\", \"cup\", vocab, P))\n",
        "print()\n",
        "\n",
        "# YOUR CODE HERE\n",
        "print(\"broom\", \"fly\", \"race\", probe(\"broom\", \"fly\", \"race\", vocab, P))\n",
        "\n",
        "print(\"magic\", \"store\", \"horse\", probe(\"magic\", \"store\", \"horse\", vocab, P))\n",
        "\n",
        "print(\"train\", \"school\", \"magic\", probe(\"train\", \"school\", \"magic\", vocab, P))\n"
      ]
    },
    {
      "cell_type": "markdown",
      "metadata": {
        "id": "UGDY0xucgelz"
      },
      "source": [
        "#### i1 [1pt]\n",
        "Give a brief interpretation of the results you got. Do they correspond to your expectations? Why or why not?\n",
        "\n",
        "*Hint*: When do we expect the ratio value to be high, low or close to 1? Refer to the GloVe paper for guidance."
      ]
    },
    {
      "cell_type": "markdown",
      "metadata": {
        "id": "HCC40-wBgelz",
        "nbgrader": {
          "grade": true,
          "grade_id": "interpretation1",
          "locked": false,
          "points": 1,
          "schema_version": 3,
          "solution": true,
          "task": false
        },
        "tags": []
      },
      "source": [
        "**ANSWER**: <font color=\"red\">YOUR ANSWER HERE</font>"
      ]
    },
    {
      "cell_type": "markdown",
      "metadata": {
        "id": "DNpZ5cpUgelz"
      },
      "source": [
        "What would happen if we tried probing out-of-domain words? Use the words \"solid\", \"gas\", \"water\", and \"fashion\", which the authors report in the paper in the context of \"ice\" and \"steam\" (Table 1). Make your code to clearly print the details."
      ]
    },
    {
      "cell_type": "code",
      "execution_count": null,
      "metadata": {
        "id": "l2mZvmINgelz",
        "nbgrader": {
          "grade": true,
          "grade_id": "ice_steam",
          "locked": false,
          "points": 1,
          "schema_version": 3,
          "solution": true,
          "task": false
        },
        "tags": []
      },
      "outputs": [],
      "source": [
        "# YOUR CODE HERE"
      ]
    },
    {
      "cell_type": "markdown",
      "metadata": {
        "id": "ydVy5ca4gelz"
      },
      "source": [
        "#### i2 [3pt]\n",
        "Give an interpretation of the results you got. Do they match what the authors report in the paper? Why or why not?"
      ]
    },
    {
      "cell_type": "markdown",
      "metadata": {
        "id": "_-WHvhh1gel0",
        "nbgrader": {
          "grade": true,
          "grade_id": "interpretation2",
          "locked": false,
          "points": 1,
          "schema_version": 3,
          "solution": true,
          "task": false
        },
        "tags": []
      },
      "source": [
        "**ANSWER**: <font color=\"red\">YOUR ANSWER HERE</font>"
      ]
    },
    {
      "cell_type": "markdown",
      "metadata": {
        "id": "S4tjPd5Qgel0"
      },
      "source": [
        "## Dense Vectors\n",
        "\n",
        "Now, we would like to convert these long sparse vectors into short dense ones.\n",
        "\n",
        "The conversion should be such that the probability ratios we inspected earlier may still be reconstructed via some (for now, unknown) operation $F$ on the dense vectors.\n",
        "\n",
        "To restrict the search space over potential functions, the authors impose a number of constraints they think $F$ should satisfy:\n",
        "1. > While $F$ could be taken to be a complicated function parameterized by, e.g., a neural network, doing so would obfuscate the linear structure we are trying to capture. $F$ should be dot-product based.\n",
        "2. > The distinction between a word and a context word is arbitrary and we are free to exchange the two roles. To do so consistently, we must not only exchange $w \\leftrightarrow \\tilde{w}$ but also $X \\leftrightarrow X^T$.\n",
        "3. > It should be well-defined for all values in $X$.\n",
        "\n",
        "Given these three constraints, each word $i$ in our vocabulary is represented by four vectors:\n",
        "1. A vector $w_i \\in \\mathbb{R}^D$\n",
        "2. A bias $b_i \\in \\mathbb{R}$\n",
        "3. A context vector $\\tilde{w}_i \\in \\mathbb{R}^D$\n",
        "4. A context bias $\\tilde{b}_i \\in \\mathbb{R}$\n",
        "\n",
        "and $F: \\mathbb{R}^D \\times \\mathbb{R} \\times \\mathbb{R}^D \\times \\mathbb{R} \\to \\mathbb{R}$ is defined as:\n",
        "\n",
        "$F(w_i, \\tilde{w}_k, b_i, \\tilde{b}_k) = w_i^T\\tilde{w}_k + b_i + \\tilde{b}_k$.\n",
        "\n",
        "Or equivalently the least squares error $J$ is minimized, where:\n",
        "\n",
        "$J = \\sum_{i,j=1}^{V} f(X_{ij})(w_{i}^T\\tilde{w}_j + b_i + \\tilde{b}_j - log(X_{ij}))^2$\n",
        "\n",
        "with $f$ being a weighting function, defined as\n",
        "\n",
        "$f: \\mathbb{R} \\to \\mathbb{R} = \\begin{cases}\n",
        "    (x/x_{max})^\\alpha, & \\text{if $x<x_{max}$}\\\\\n",
        "    1, & \\text{otherwise}.\n",
        "  \\end{cases}$"
      ]
    },
    {
      "cell_type": "markdown",
      "metadata": {
        "id": "1k0pPj8cgel0"
      },
      "source": [
        "### Weighting Function\n",
        "\n",
        "Let's start with the last part.\n",
        "\n",
        "Complete the weighting function `weight_fn` which accepts a co-occurrence matrix ${X}$, a maximum value $x_{max}$ and a fractional power $\\alpha$, and returns the weighted co-occurrence matrix $f({X})$.\n",
        "\n",
        "Then, compute $\\text{X_weighted}$, the matrix ${X}$ after weighting, using the paper's suggested parameters.\n",
        "\n",
        "_Hint_: Note that $f$ is defined pointwise, so our weighting function should also be pointwise. Use tensor-specific functions/methods."
      ]
    },
    {
      "cell_type": "code",
      "execution_count": null,
      "metadata": {
        "id": "NT840aDLgel0",
        "nbgrader": {
          "grade": false,
          "grade_id": "weight_fn",
          "locked": false,
          "schema_version": 3,
          "solution": true,
          "task": false
        },
        "tags": []
      },
      "outputs": [],
      "source": [
        "# @title c3 [1pt]\n",
        "def weight_fn(X: FloatTensor, x_max: int, alpha: float) -> FloatTensor:\n",
        "    NotImplemented"
      ]
    },
    {
      "cell_type": "code",
      "execution_count": null,
      "metadata": {
        "id": "IIkY4abRgel0",
        "nbgrader": {
          "grade": false,
          "grade_id": "X_weighted",
          "locked": true,
          "schema_version": 3,
          "solution": false,
          "task": false
        },
        "tags": []
      },
      "outputs": [],
      "source": [
        "X_weighted = weight_fn(X1, x_max=100, alpha=3/4)"
      ]
    },
    {
      "cell_type": "code",
      "execution_count": null,
      "metadata": {
        "id": "AuQFRuWrgel0",
        "nbgrader": {
          "grade": true,
          "grade_id": "weight_fn_tests",
          "locked": true,
          "points": 1,
          "schema_version": 3,
          "solution": false,
          "task": false
        },
        "tags": []
      },
      "outputs": [],
      "source": [
        "# TEST c3\n",
        "assert X_weighted.shape == X1.shape"
      ]
    },
    {
      "cell_type": "markdown",
      "metadata": {
        "id": "B1c6SOjTgel1"
      },
      "source": [
        "Try to get an understanding of how the weighting affects different co-occurrence values (high and low). Think of some word pairs with high and low co-occurrence and look them up in $X$ and in $\\text{X_weighted}$ to get a better idea."
      ]
    },
    {
      "cell_type": "code",
      "execution_count": null,
      "metadata": {
        "id": "vImSYqq1gel1",
        "nbgrader": {
          "grade": true,
          "grade_id": "loss_sandbox",
          "locked": false,
          "points": 0,
          "schema_version": 3,
          "solution": true,
          "task": false
        },
        "tags": []
      },
      "outputs": [],
      "source": [
        "# YOUR CODE HERE"
      ]
    },
    {
      "cell_type": "markdown",
      "metadata": {
        "id": "aGc4Dp0agel2"
      },
      "source": [
        "### Loss Function\n",
        "\n",
        "The next step is to write the loss function.\n",
        "\n",
        "We can write it as a pointwise function, apply it iteratively over each pair of words and then sum the result; that's however extremely inefficient.\n",
        "\n",
        "Inspecting the formulation of $J$, it is fairly straightforward to see that it can be immediately implemented using matrix-matrix operations, as:\n",
        "\n",
        "$J = \\sum_{i,j=1}^{V}f(\\mathbf{X})\\cdot(W\\tilde{W}^T + b + \\tilde{b}^T - log(X))^2$,\n",
        "\n",
        "where $W$, $\\tilde{W}$ are the $N \\times D$ matrices containing the $D$-dimensional vectors of all our $N$ vocabulary words, and $b$, $\\tilde{b}$ are the $N \\times 1$ matrices containing the $1$-dimensional biases of our words.\n",
        "\n",
        "Complete `loss_fn`, a function that accepts a weighted co-occurrence matrix $f({X})$, the word vectors and biases $W$, $\\tilde{W}$, $b$, $\\tilde{b}$ and the co-occurrence matrix ${X}$, and computes $J$."
      ]
    },
    {
      "cell_type": "code",
      "execution_count": null,
      "metadata": {
        "id": "kA4W3vXjgel2",
        "nbgrader": {
          "grade": false,
          "grade_id": "loss_fn",
          "locked": false,
          "schema_version": 3,
          "solution": true,
          "task": false
        },
        "tags": []
      },
      "outputs": [],
      "source": [
        "# @title c4 [1pt]\n",
        "def loss_fn(\n",
        "    X_weighted: FloatTensor,\n",
        "    W: FloatTensor,\n",
        "    W_context: FloatTensor,\n",
        "    B: FloatTensor,\n",
        "    B_context: FloatTensor,\n",
        "    X: FloatTensor\n",
        ") -> FloatTensor: # we need a tensor type as an output to be able to do backward propagation with it\n",
        "    NotImplemented"
      ]
    },
    {
      "cell_type": "markdown",
      "metadata": {
        "id": "wti3lircgel2"
      },
      "source": [
        "Let's make sure that we are on a right track. For this we calculate the loss function with toy input: matrices are of size $2 \\times 2$ while bias vectors of size $2 \\times 1$. You can verify the answer manually and with your implementation of `loss_fn`."
      ]
    },
    {
      "cell_type": "code",
      "execution_count": null,
      "metadata": {
        "id": "rOPO7NLmgel2",
        "nbgrader": {
          "grade": true,
          "grade_id": "loss_fn_tests",
          "locked": true,
          "points": 1,
          "schema_version": 3,
          "solution": false,
          "task": false
        },
        "tags": []
      },
      "outputs": [],
      "source": [
        "# TEST c4\n",
        "toy_X_weighted = torch.FloatTensor([[.5,1],[.2,.1]])\n",
        "toy_X1 = torch.FloatTensor([[2,1],[1,5]])\n",
        "toy_W1 = torch.FloatTensor([[1,2],[1,0]]) # for W\n",
        "toy_W2 = torch.FloatTensor([[0,1],[1,2]]) # for W~\n",
        "toy_b1 = torch.FloatTensor([[0],[2]]) # for b\n",
        "toy_b2 = torch.FloatTensor([[2],[1]]) # for b~\n",
        "# fill the correct value\n",
        "# assert loss_fn(toy_X_weighted, toy_W1, toy_W2, toy_b1, toy_b2, toy_X1).isclose(FloatTensor([???]))"
      ]
    },
    {
      "cell_type": "markdown",
      "metadata": {
        "id": "XuW6mKUygel2"
      },
      "source": [
        "### GloVe\n",
        "\n",
        "We have the normalized co-occurrence matrix ${X}$, the weighting function $f$, and the loss function $J$ that implements $F$.\n",
        "\n",
        "What we need now is a mapping from words (or word ids) to unique, parametric and trainable vectors.\n",
        "\n",
        "Torch provides this abstraction in the form of [Embedding layers](https://pytorch.org/docs/stable/generated/torch.nn.Embedding.html?highlight=embedding#torch.nn.Embedding). Each such layer may be viewed as a stand-alone network that can be optimized using the standard procedure we have already seen. It is recommended to read about Embedding class. In general, it does the same job as `nn.Parameter(torch.rand(...))` but additionally allows to select row vectors by giving a list of token indices.   \n",
        "\n",
        "We will utilize the `nn.Module` class to contain all our embedding layers and streamline their joint optimization.\n",
        "The container class will be responsible for a few things:\n",
        "\n",
        "1. Wrapping the embedding layers:\n",
        "    1. A vector embedding that maps words to $w \\in \\mathbb{R}^D$\n",
        "    2. A context vector embedding that maps words to $w_c \\in \\mathbb{R}^D$\n",
        "    3. A bias embedding that maps words to $b \\in \\mathbb{R}^1$\n",
        "    4. A context bias embedding that maps words to $b_c \\in \\mathbb{R}^1$\n",
        "2. Implementing `forward`, a function that accepts a weighted co-occurrence matrix $f(X)$, the co-occurrence matrix $X$, then finds the embeddings of all words and finally calls `loss_fn` as defined above.\n",
        "3. Implementing `get_vectors`, a function that receives no input and produces the word vectors and context word vectors of all words, adds them together and returns the result, in accordance with the paper:\n",
        "> ...With this in mind, we choose to use the sum $W + \\tilde{W}$ as our word vectors.\n",
        "\n",
        "Complete the network class following the above specifications.  "
      ]
    },
    {
      "cell_type": "code",
      "execution_count": null,
      "metadata": {
        "id": "QpMpVqe-gel2",
        "nbgrader": {
          "grade": true,
          "grade_id": "GloVe",
          "locked": false,
          "points": 3,
          "schema_version": 3,
          "solution": true,
          "task": false
        },
        "tags": []
      },
      "outputs": [],
      "source": [
        "# @title c5 [4pt]\n",
        "class GloVe(torch.nn.Module):\n",
        "    def __init__(self, vocab: Dict[str, int], vector_dim: int=30, device: str=\"cpu\", seed: int=0) -> None:\n",
        "        super(GloVe, self).__init__()\n",
        "        self.device = device\n",
        "        self.vocab_len = len(vocab)\n",
        "        torch.manual_seed(seed) #random initialization of w, wc, b, bc is fixed by the seed\n",
        "        self.w = NotImplemented\n",
        "        self.wc = NotImplemented\n",
        "        self.b = NotImplemented\n",
        "        self.bc = NotImplemented\n",
        "\n",
        "    def forward(self, X_weighted: FloatTensor, X: FloatTensor) -> FloatTensor:\n",
        "        embedding_input = torch.arange(self.vocab_len).to(self.device)\n",
        "        W = self.w(embedding_input)\n",
        "        return NotImplemented\n",
        "\n",
        "    def get_vectors(self) -> FloatTensor:\n",
        "        embedding_input = torch.arange(self.vocab_len).to(self.device)\n",
        "        return NotImplemented"
      ]
    },
    {
      "cell_type": "code",
      "execution_count": null,
      "metadata": {
        "id": "LWb-G60hXXcw"
      },
      "outputs": [],
      "source": [
        "# TEST c5\n",
        "assert GloVe(vocab, vector_dim=30, seed=0).w.num_embeddings == len(vocab)\n",
        "assert GloVe(vocab, vector_dim=30, seed=0).bc.num_embeddings == len(vocab)"
      ]
    },
    {
      "cell_type": "markdown",
      "metadata": {
        "id": "nHNF2C8Jgel3"
      },
      "source": [
        "### Training\n",
        "\n",
        "Everything is in place; now we may begin optimizing our embedding layers (and in doing so, the vectors they assign).\n",
        "\n",
        "Instantiate the network class you just defined using $D = 30$. Then instantiate an `Adam` optimizer with a learning rate of 0.05 and train your network for 300 epochs (don't change the default seed value).\n",
        "\n",
        "When writing the training script, remember that your network's forward pass is __already__ computing the loss. Make sure to **print a loss value for each epoch**.\n",
        "\n",
        "Training won't take too long on a CPU. In case you want to use a GPU, make sure that variables are correctly moved to a GPU with a `device` argument of class `GloVe`."
      ]
    },
    {
      "cell_type": "code",
      "execution_count": null,
      "metadata": {
        "id": "2U-QMxyngel3",
        "nbgrader": {
          "grade": true,
          "grade_id": "training",
          "locked": false,
          "points": 0.5,
          "schema_version": 3,
          "solution": true,
          "task": false
        },
        "scrolled": true,
        "tags": []
      },
      "outputs": [],
      "source": [
        "# @title c6.1 [4pt]\n",
        "def train_glove_vectors(voc: Dict[str, int], X_weighted: FloatTensor, X1:FloatTensor,\n",
        "                        vector_dim: int=30, seed: int=0, lr: float=0.05, num_epochs: int=300):\n",
        "    network = NotImplemented\n",
        "    opt = NotImplemented\n",
        "\n",
        "    losses = [] # collect losses for each epoch here\n",
        "    for i in range(num_epochs):\n",
        "        loss = NotImplemented\n",
        "        # print(f\"Epoch {i:>3}: training Loss: {loss}\")\n",
        "    return losses, network"
      ]
    },
    {
      "cell_type": "code",
      "execution_count": null,
      "metadata": {
        "id": "1pYdq9fK4RS-"
      },
      "outputs": [],
      "source": [
        "# TEST\n",
        "losses, network = train_glove_vectors(vocab, X_weighted, X1)"
      ]
    },
    {
      "cell_type": "markdown",
      "metadata": {
        "id": "Roq7Ubklgel4"
      },
      "source": [
        "<font color=\"red\">**Don't clear the output of the above cell!**</font>"
      ]
    },
    {
      "cell_type": "code",
      "execution_count": null,
      "metadata": {
        "id": "9n6RCKKbgel4",
        "nbgrader": {
          "grade": false,
          "grade_id": "len_losses",
          "locked": true,
          "schema_version": 3,
          "solution": false,
          "task": false
        },
        "tags": []
      },
      "outputs": [],
      "source": [
        "# TEST c6.1\n",
        "assert len(losses) == 300\n",
        "assert losses[0] > losses[-1]"
      ]
    },
    {
      "cell_type": "markdown",
      "metadata": {
        "id": "f3iCGDjDgel4"
      },
      "source": [
        "Plot the losses (x axis for epoch number and y axis for loss) and examine the learning curve. Ask yourself, is its shape what you would expect it to be?"
      ]
    },
    {
      "cell_type": "code",
      "execution_count": null,
      "metadata": {
        "id": "emLdJBO_gel4",
        "nbgrader": {
          "grade": true,
          "grade_id": "plot",
          "locked": false,
          "points": 1,
          "schema_version": 3,
          "solution": true,
          "task": false
        },
        "tags": []
      },
      "outputs": [],
      "source": [
        "# @title c6.2 [0pt]\n",
        "# YOUR CODE HERE"
      ]
    },
    {
      "cell_type": "markdown",
      "metadata": {
        "id": "4pM9LESdgel4"
      },
      "source": [
        "<font color=\"red\">**Don't clear the output of the above cell!**</font>"
      ]
    },
    {
      "cell_type": "markdown",
      "metadata": {
        "id": "Uqu-EFqGgel4"
      },
      "source": [
        "### Validation (Similarity)\n",
        "\n",
        "Curious to see what this network has learned? Let's perform a simple validation experiment.\n",
        "\n",
        "We will check which words the model considers the most similar to other words. To that end, we need a notion of __similarity__. One of the most common measures of similarity in high-dimensional vector spaces is the cosine similarity.\n",
        "\n",
        "The cosine similarity of two vectors $\\vec{a}, \\vec{b}$ is given as:\n",
        "$$sim(\\vec{a}, \\vec{b}) = \\frac{\\vec{a}\\cdot \\vec{b}}{|\\vec{a}|_2 \\cdot |\\vec{b}|_2}$$\n",
        "\n",
        "where $|\\vec{x}|_2$ is the $L_2$-norm of the $\\vec{x}$.\n",
        "\n",
        "The function `similarity` below accepts two words, a vocabulary and the network's output vectors, and computes the similarity between these two words. For an outside-vocabulary word similarity is 0."
      ]
    },
    {
      "cell_type": "code",
      "execution_count": null,
      "metadata": {
        "id": "HnFdO_3wgel5",
        "nbgrader": {
          "grade": false,
          "grade_id": "cell-ab85deea538994af",
          "locked": true,
          "schema_version": 3,
          "solution": false,
          "task": false
        },
        "tags": []
      },
      "outputs": [],
      "source": [
        "def similarity(word_i: str, word_j: str, vocab: Dict[str, int], vectors: FloatTensor) -> float:\n",
        "    if not(word_i in vocab and word_i in vocab): return 0.\n",
        "    i, j = vocab[word_i], vocab[word_j]\n",
        "    v_i = vectors[i] / torch.linalg.vector_norm(vectors[i])  # a/|a|\n",
        "    v_j = vectors[j] / torch.linalg.vector_norm(vectors[j])  # b/|b|\n",
        "    sim = torch.dot(v_i, v_j)\n",
        "    return sim"
      ]
    },
    {
      "cell_type": "markdown",
      "metadata": {
        "id": "REXzC6nzgel5"
      },
      "source": [
        "Let's check out some examples. Consider the word pairs below and, optionally, add your own word pairs if it helps to support your answer:"
      ]
    },
    {
      "cell_type": "code",
      "execution_count": null,
      "metadata": {
        "id": "AQ8W10bOgel5",
        "nbgrader": {
          "grade": true,
          "grade_id": "similarity_sandbox",
          "locked": false,
          "points": 0,
          "schema_version": 3,
          "solution": true,
          "task": false
        },
        "tags": []
      },
      "outputs": [],
      "source": [
        "word_vectors = network.get_vectors().detach()\n",
        "\n",
        "for pair in [\n",
        "    (\"cruciatus\", \"imperius\"),\n",
        "    (\"avada\", \"kedavra\"),\n",
        "    (\"hogwarts\", \"school\"),\n",
        "    (\"goblin\", \"hagrid\"),\n",
        "    (\"giant\", \"hagrid\"),\n",
        "]:\n",
        "    print(f\"Similarity between '{pair[0]}' and '{pair[1]}' is: {similarity(pair[0], pair[1], vocab, word_vectors)}\")"
      ]
    },
    {
      "cell_type": "markdown",
      "metadata": {
        "id": "2Oh6nme_gel5"
      },
      "source": [
        "#### i3 [2pt]\n",
        "Give an interpretation of the results. Do the scores correspond well to your perceived similarity of these word pairs?"
      ]
    },
    {
      "cell_type": "markdown",
      "metadata": {
        "id": "hJjjY4PEgel5",
        "nbgrader": {
          "grade": true,
          "grade_id": "Interpretation3",
          "locked": false,
          "points": 1,
          "schema_version": 3,
          "solution": true,
          "task": false
        },
        "tags": []
      },
      "source": [
        "**ANSWER**: <font color=\"red\">YOUR ANSWER HERE</font>"
      ]
    },
    {
      "cell_type": "markdown",
      "metadata": {
        "id": "MyaWr70ygel5"
      },
      "source": [
        "To obtain the similarities of one word against all other words in the corpus, use torch functions and follow the equation ($\\vec{c}_i$ is $i$th row of $\\mathbf{C}$):\n",
        "$$sim(\\vec{w}, \\mathbf{C}) = \\frac{\\vec{w}\\cdot \\mathbf{C}}{|\\vec{w}|_2 \\cdot |\\mathbf{C}|_2} = \\Big(\\frac{\\vec{w}\\cdot \\vec{c}_1}{|\\vec{w}|_2 \\cdot |\\vec{c}_1|_2},\\ldots,\\frac{\\vec{w}\\cdot \\vec{c}_N}{|\\vec{w}|_2 \\cdot |\\vec{c}_N|_2}\\Big)$$\n",
        "\n",
        "Using `similarity` as a reference, write `similarities`, which accepts one word, a vocabulary and the network's output vectors and computes the similarity between the word and the entire corpus. **If a word is out of vocabulary, it should return a matrix of 0 similarities.**\n",
        "\n",
        "_Hint_: $\\mathbf{C} \\in \\mathbb{R}^{N, D}$, $\\vec{w} \\in \\mathbb{R}^{1, D}$, $sim(\\vec{w}, \\mathbf{C}) \\in \\mathbb{R}^{1, N}$"
      ]
    },
    {
      "cell_type": "code",
      "execution_count": null,
      "metadata": {
        "id": "O_9TvkOBgel5",
        "nbgrader": {
          "grade": true,
          "grade_id": "similarities",
          "locked": false,
          "points": 1,
          "schema_version": 3,
          "solution": true,
          "task": false
        },
        "tags": []
      },
      "outputs": [],
      "source": [
        "# @title c7 [4pt]\n",
        "def similarities(word_i: str, vocab: Dict[str, int], vectors: FloatTensor) -> FloatTensor:\n",
        "    # use torch functions. Don't iterate over rows of vectors matrix!\n",
        "    NotImplemented"
      ]
    },
    {
      "cell_type": "code",
      "execution_count": null,
      "metadata": {
        "id": "Hv37utYPZ3nQ"
      },
      "outputs": [],
      "source": [
        "torch.tensor([1, 2, 3, 4]).unsqueeze(0)"
      ]
    },
    {
      "cell_type": "code",
      "execution_count": null,
      "metadata": {
        "id": "ctJObbzAgel5",
        "nbgrader": {
          "grade": false,
          "grade_id": "cell-74c0c2f09dccce6c",
          "locked": true,
          "schema_version": 3,
          "solution": false,
          "task": false
        },
        "tags": []
      },
      "outputs": [],
      "source": [
        "# TEST c7a\n",
        "assert similarities('harry', vocab, word_vectors).shape == torch.Size([1, len(vocab)])\n",
        "assert similarities('cow', vocab, word_vectors).shape == torch.Size([1, len(vocab)])"
      ]
    },
    {
      "cell_type": "markdown",
      "metadata": {
        "id": "-7AaywkIgel6"
      },
      "source": [
        "Now we can manipulate the word vectors to find out what the corpus-wide most similar words to a query word are!"
      ]
    },
    {
      "cell_type": "code",
      "execution_count": null,
      "metadata": {
        "id": "FTThuWx1gel6",
        "nbgrader": {
          "grade": false,
          "grade_id": "cell-b702f18eb2920639",
          "locked": true,
          "schema_version": 3,
          "solution": false,
          "task": false
        },
        "tags": []
      },
      "outputs": [],
      "source": [
        "def most_similar(word_i: str, vocab: Dict[str, int], vectors: FloatTensor, k: int) -> List[str]:\n",
        "    \"\"\" Returns a list of k words that are most similar to word_i\n",
        "        The list excludes word_i itself\n",
        "    \"\"\"\n",
        "    sims = similarities(word_i, vocab, vectors)\n",
        "    _, topi = sims.topk(dim=-1, k=k+1)\n",
        "    topi = topi.view(-1).cpu().numpy().tolist()\n",
        "    inv = {v: i for i, v in vocab.items()}\n",
        "    return [inv[i] for i in topi if inv[i] != word_i][:k]"
      ]
    },
    {
      "cell_type": "code",
      "execution_count": null,
      "metadata": {
        "id": "1uZL5j6qgel6",
        "nbgrader": {
          "grade": false,
          "grade_id": "cell-de27a6b9963f32ac",
          "locked": true,
          "schema_version": 3,
          "solution": false,
          "task": false
        },
        "tags": []
      },
      "outputs": [],
      "source": [
        "# TEST c7b\n",
        "for word in [\n",
        "    \"forbidden\", \"myrtle\", \"gryffindor\", \"wand\", \"quidditch\", \"marauder\",\n",
        "    \"horcrux\", \"phoenix\", \"triwizard\", \"screaming\", \"letter\"\n",
        "]:\n",
        "    print(f\"Most similar words to '{word}': {most_similar(word, vocab, word_vectors, 6)}\")"
      ]
    },
    {
      "cell_type": "markdown",
      "metadata": {
        "id": "7DXkuHiogel6"
      },
      "source": [
        "#### i4 [3pt]\n",
        "\n",
        "Interpret the results in the context of Harry Potter books.\n",
        "- Do these most similar words make sense (are they actually similar to the query words)?\n",
        "- Are there any patterns you can see in the \"errors\" (the words that you wouldn't consider actually similar to the query word in general, in everyday life)?\n",
        "- Which examples are instances of similarity (if any) and relatedness (if any)?\n",
        "- Any other observations are welcome.\n",
        "\n",
        "Illustrate your answers with examples from your model's output."
      ]
    },
    {
      "cell_type": "markdown",
      "metadata": {
        "id": "kBR7DEz_gel7",
        "nbgrader": {
          "grade": true,
          "grade_id": "Interpretation4",
          "locked": false,
          "points": 1,
          "schema_version": 3,
          "solution": true,
          "task": false
        },
        "tags": []
      },
      "source": [
        "**ANSWER**: <font color=\"red\">YOUR ANSWER HERE</font>"
      ]
    },
    {
      "cell_type": "markdown",
      "metadata": {
        "id": "cdp1FSNbgel8"
      },
      "source": [
        "Overall it's quite impressive; we managed to encode a meaningful portion of the corpus statistics in only $30$ numbers per word!\n",
        "(A compression ratio of >99%)\n",
        "\n",
        "<div class=\"alert alert-block alert-info\">\n",
        "<b>Note:</b> The word vectors obtained by this process are (to a small extent) random, due to the random initialization of the embedding layers. If you are unhappy with your results, you can repeat the experiment a few times or try to toy around with the hyper-parameters (the smoothing factor of ${X}$, $x_{max}$, $\\alpha$, the number of epochs and the dimensionality of the vector space). But do this as your own experiments outside the submission file.\n",
        "</div>\n",
        "\n",
        "Word vectors, however, contain way more information than just word co-occurrence statistics. Hold tight until the next assignment, where we will see how word vectors may be used to infer information spanning entire phrases and sentences."
      ]
    },
    {
      "cell_type": "markdown",
      "metadata": {
        "id": "eypgbwmMgel8"
      },
      "source": [
        "### Validation (Word Analogies)\n",
        "\n",
        "From the paper:\n",
        "> The word analogy task consists of questions like \"$a$ is to $b$ as $c$ is to __?\" To correctly answer this question, we must find the word $d$ such that $w_d \\approx w_b - w_a + w_c$ according to the cosine similarity.\n",
        "\n",
        "Write your own function that performs the word analogy task.  \n",
        "In addition to the standard approximation $w_d \\approx w_b - w_a + w_c$, implement another non-standard but intuitive approximation where we are searching $w_d$ that maximizes teh following similarity $w_a - w_b \\approx w_c - w_d$.  \n",
        "Let's see which criteria will give the best results, or maybe both give the same results.    \n",
        "\n",
        "_Hint_: Take a look at the code a few cells back. Most of what you need is already there."
      ]
    },
    {
      "cell_type": "code",
      "execution_count": null,
      "metadata": {
        "id": "RDNEXZL2gel8",
        "nbgrader": {
          "grade": true,
          "grade_id": "analogy",
          "locked": false,
          "points": 1,
          "schema_version": 3,
          "solution": true,
          "task": false
        },
        "tags": []
      },
      "outputs": [],
      "source": [
        "# @title c8 [6pt]\n",
        "def analogy(\n",
        "    word_a: str, word_b: str, word_c: str, vocab: Dict[str, int],\n",
        "    vectors: FloatTensor, k: int=5, standard: bool=True\n",
        ") -> List[str]:\n",
        "    \"\"\" Return a list of k words whose vectors are most similar to the solution vector of the analogy.\n",
        "        The first element means the most similar, followed by the rest in decreasing similarity.\n",
        "        word_a, word_b, and word_c are never returned as a part of the list.\n",
        "        param standard=True uses the standard approximation equation, =False uses the alternative one.\n",
        "    \"\"\"\n",
        "    NotImplemented"
      ]
    },
    {
      "cell_type": "markdown",
      "metadata": {
        "id": "6m9PcG8jgel8"
      },
      "source": [
        "Some example triplets to test your analogies on:"
      ]
    },
    {
      "cell_type": "code",
      "execution_count": null,
      "metadata": {
        "id": "TFkCHKT_gel8",
        "nbgrader": {
          "grade": false,
          "grade_id": "cell-3f0e833f60eafb32",
          "locked": true,
          "schema_version": 3,
          "solution": false,
          "task": false
        },
        "tags": []
      },
      "outputs": [],
      "source": [
        "# TEST c8\n",
        "triplets = [(\"padma\", \"parvati\", \"fred\"),\n",
        "            (\"avada\", \"kedavra\", \"expecto\"),\n",
        "            (\"dungeon\", \"slytherin\", \"tower\"),\n",
        "            (\"scabbers\", \"ron\", \"hedwig\"),\n",
        "            (\"ron\", \"molly\", \"draco\"),\n",
        "            (\"durmstrang\", \"viktor\", \"beauxbatons\"),\n",
        "            (\"snape\", \"potions\", \"trelawney\"),\n",
        "            (\"harry\", \"seeker\", \"ron\")\n",
        "            # ---------------------\n",
        "            # YOUR CODE HERE (3 examples)\n",
        "           ]\n",
        "\n",
        "print(\"Mode: d ~ c - a + b\")\n",
        "for a, b, c in triplets:\n",
        "    print(\"{:^16} is to {:^16} as {:^16} is to\\t{}\".format(a, b, c, analogy(a, b, c, vocab, word_vectors, 5, standard=True)))\n",
        "\n",
        "print(\"\\nMode: a - b ~ c - d\")\n",
        "for a, b, c in triplets:\n",
        "    print(\"{:^16} is to {:^16} as {:^16} is to\\t{}\".format(a, b, c, analogy(a, b, c, vocab, word_vectors, 5, standard=False)))"
      ]
    },
    {
      "cell_type": "markdown",
      "metadata": {
        "id": "NOUQSblcgel9"
      },
      "source": [
        "Some minimal emergent intelligence :) *(hopefully..)*. 🧙‍♀️"
      ]
    },
    {
      "cell_type": "markdown",
      "metadata": {
        "id": "v_V5ITEpgel9"
      },
      "source": [
        "#### i5 [3pt]\n",
        "\n",
        "Which analogy equation did give the best results for the provided analogy samples?  \n",
        "\n",
        "Come up with three additional analogies in the context of Harry Potter.\n",
        "Add them to the list of analogies in the code above and run the analogy computation.\n",
        "\n",
        "Interpret the results of the best performing analogy equation (if any):\n",
        "- For which analogies did the model manage to guess the correct answers (taking the first word in the output to be the model's \"guess\")?\n",
        "- For which analogies are the correct answers present in the top K words?\n",
        "- Do you see any patterns in the cases when the model didn't solve the task correctly? In other words, when the model's guess was wrong, can you suggest why the model guessed what it guessed?"
      ]
    },
    {
      "cell_type": "markdown",
      "metadata": {
        "id": "SKvYAag0gel9",
        "nbgrader": {
          "grade": true,
          "grade_id": "Interpretation5",
          "locked": false,
          "points": 1,
          "schema_version": 3,
          "solution": true,
          "task": false
        },
        "tags": []
      },
      "source": [
        "**ANSWER**: <font color=\"red\">YOUR ANSWER HERE</font>"
      ]
    },
    {
      "cell_type": "markdown",
      "metadata": {
        "id": "s0ne6B-pqDcW"
      },
      "source": [
        "## Counting co-occurrences\n",
        "\n",
        "In the beginning of the notebook you were provided with a pickle of co-occurrence counts. But how were these counts obtained? You will find this out when you complete this exercise.  \n",
        "\n",
        "First, we obtain the plain text corpus of the Harry Potter book series and place the book files in the current directory."
      ]
    },
    {
      "cell_type": "code",
      "execution_count": null,
      "metadata": {
        "id": "uXyAJQ3Zvffu"
      },
      "outputs": [],
      "source": [
        "!git clone https://github.com/ErikaJacobs/Harry-Potter-Text-Mining.git"
      ]
    },
    {
      "cell_type": "code",
      "execution_count": null,
      "metadata": {
        "id": "4GHUKmaywCYt"
      },
      "outputs": [],
      "source": [
        "!cp Harry-Potter-Text-Mining/Book\\ Text/* ."
      ]
    },
    {
      "cell_type": "markdown",
      "metadata": {
        "id": "QordGEyDXE35"
      },
      "source": [
        "In research, it is relatively common that papers don't include all necessary details for replicating the experiments. This is often due to the lack of space in the paper, overlooking certain details, or simply a bad practice.\n",
        "\n",
        "We will give you several hints on how the co-occurrence matrix was obtained. With the hints and the provided data in the pickle file, you should be able to replicate the exact content of the co-occurrence matrix from the pickle. Here are the hints:\n",
        "\n",
        "1.   Tokenization of the data was done in a shallow but effective way: replace all punctuations with white space and delimit tokens with a sequence of white spaces;\n",
        "2.   Standard libraries (!) were used for identifying punctuations and stopwords;\n",
        "3.   Context windows are symmetric and don't span across chapters (i.e., the last word of chapter $N$ is not co-occuring with the first word of chapter $N+1$).\n",
        "4.   The vocabulary was obtained based on the frequency cutoff.\n",
        "\n",
        "To replicate the co-occurrence counts, complete the function below. Then use it to find out the exact values of `cutoff` and `window_size` that result in the co-occurrence counts identical to the provided ones. No need to provide the code for finding the exact values. Just use them in the next TEST code cell.\n",
        "\n",
        "Feel free to import any standard python library. Use the same cell code for importing libraries and defining auxiliary functions (if any).\n",
        "The code will be evaluated not only on the correctness of the output but also on efficiency. It should be able to extract the counts and create the tensor in less than a minute (in the colab environment)."
      ]
    },
    {
      "cell_type": "code",
      "execution_count": null,
      "metadata": {
        "id": "qwE8faHMwqwU"
      },
      "outputs": [],
      "source": [
        "# @title c9 [12pt]\n",
        "\n",
        "def read_book_files(files: List[str], cutoff: int=10, window_size: int=20,\n",
        "                    verbose: bool=False):\n",
        "    \"\"\" Input:\n",
        "            file - a list of file paths;\n",
        "            cutoff - vocab excludes words with occurrence counts < cutoff;\n",
        "            window_size - size of the left and right windows (individually);\n",
        "            verbose - when set to False prints nothing\n",
        "        Outputs a tuple of:\n",
        "            voc - mapping of vocabulary to indices;\n",
        "            dd_cnt - dict of dict of co-occurrence counts;\n",
        "            X - Tensor with |vocab|x|vocab| size and co-occurrence counts\n",
        "    \"\"\"\n",
        "\n",
        "    NotImplemented\n",
        "\n",
        "    return voc, dd_cnt, X"
      ]
    },
    {
      "cell_type": "code",
      "execution_count": null,
      "metadata": {
        "id": "qWtcGMkLpvY5"
      },
      "outputs": [],
      "source": [
        "# TEST\n",
        "# YOUR CODE HERE - Fill in the found cutoff and window_size values\n",
        "# it shouldn't take more than 2min\n",
        "%%time\n",
        "my_vocab, my_contexts, my_X = read_book_files([ f\"HPBook{n}.txt\" for n in range(1,8) ], cutoff=42, window_size=42)"
      ]
    },
    {
      "cell_type": "code",
      "execution_count": null,
      "metadata": {
        "id": "etLoCWEw5ay7"
      },
      "outputs": [],
      "source": [
        "# TEST c9\n",
        "# This makes sure the value types are as expected\n",
        "assert my_vocab['1'] == 0\n",
        "assert isinstance(my_vocab, dict)\n",
        "assert isinstance(my_contexts, dict)\n",
        "assert 'potter' in my_contexts['harry']\n",
        "assert isinstance(my_X, torch.Tensor)\n",
        "assert my_X.size() == (4298,4298)"
      ]
    },
    {
      "cell_type": "markdown",
      "metadata": {
        "id": "t29uPQsQhBnr"
      },
      "source": [
        "<font color=\"red\">**Don't clear the output of the above cell!**</font>"
      ]
    },
    {
      "cell_type": "markdown",
      "metadata": {
        "id": "EwjIMegPnE7_"
      },
      "source": [
        "#### i6 [3pt]\n",
        "\n",
        "What are the values of `cutoff` and `window_size` that replicates the provided counts?\n",
        "\n",
        "Briefly describe the process of finding the correct underlying algorithm of `read_book_files` and the correct values of `cutoff` and `window_size`.  \n",
        "Be concise. 100-150 words can be more than enough for the description."
      ]
    },
    {
      "cell_type": "markdown",
      "metadata": {
        "id": "UIslxPDHnBWh",
        "nbgrader": {
          "grade": true,
          "grade_id": "Interpretation5",
          "locked": false,
          "points": 1,
          "schema_version": 3,
          "solution": true,
          "task": false
        },
        "tags": []
      },
      "source": [
        "**ANSWER**: <font color=\"red\">YOUR ANSWER HERE</font>"
      ]
    },
    {
      "cell_type": "markdown",
      "metadata": {
        "id": "5h2l-Sw7gel9"
      },
      "source": [
        "### Optional\n",
        "If you are done, you can continue experimenting in order to understand the system's behaviour better. For example: how does training and hyperparameter choice affect the model's performance?\n",
        "Repeat the training using your own hyperparameters (vector space dimensionality, optimizer parameters, the number of training epochs, a different random seed, etc.).\n",
        "\n",
        "During the training loop, print the qualitative benchmarks every few epochs. Do they keep improving? Is there any disadvantage to exhaustively training until convergence?\n",
        "\n",
        "Now you have all the tools at hand to train the word vectors on any textual corpus."
      ]
    },
    {
      "cell_type": "markdown",
      "metadata": {
        "id": "nbgNN_S8W9Y6"
      },
      "source": [
        "# Acknowledgment\n",
        "\n",
        "The jupyter notebook was initially created by Konstantinos Kogkalidis and Tejaswini Deoskar.  \n",
        "Recent changes, including adaptation to the Colab environment and the exercise on reconstructing a co-occurrence matrix, are by Lasha Abzianidze."
      ]
    }
  ],
  "metadata": {
    "colab": {
      "provenance": [],
      "toc_visible": true
    },
    "kernelspec": {
      "display_name": "PyTorch",
      "language": "python",
      "name": "python3"
    },
    "language_info": {
      "codemirror_mode": {
        "name": "ipython",
        "version": 3
      },
      "file_extension": ".py",
      "mimetype": "text/x-python",
      "name": "python",
      "nbconvert_exporter": "python",
      "pygments_lexer": "ipython3",
      "version": "3.10.15"
    },
    "toc-showmarkdowntxt": false
  },
  "nbformat": 4,
  "nbformat_minor": 0
}

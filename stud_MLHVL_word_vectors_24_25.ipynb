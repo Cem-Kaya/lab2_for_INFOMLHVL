{
  "cells": [
    {
      "cell_type": "markdown",
      "metadata": {
        "id": "CuydOXTs7w4o"
      },
      "source": [
        "# Vectorial Word Representations"
      ]
    },
    {
      "cell_type": "markdown",
      "metadata": {
        "id": "SIjOQt-Rgelp"
      },
      "source": [
        "## Background\n",
        "Representing words as dense vectors over a finite-dimensional space was one of the recent breakthroughs in Natural Language Processing. Vectorial representations allow space-efficient, informationally rich storage of words that adequately captures their semantic content and enables numerical computation on them. Word vectors are the standard input representation for machine learning architectures for language processing. Even though new methods for constructing such representations emerge frequently, the original set of published papers remain a de facto point of reference as well as a good starting point. For this assignment, you will be asked to implement a small-scale variant of one such paper, namely [Global Word Vectors for Word Representation](https://nlp.stanford.edu/pubs/glove.pdf) (\"the GloVe paper\").\n",
        "\n",
        "Notes on the paper will appear throughout the notebook to guide you along the code. It is, however, important to read and understand the paper, its terminology and the theory behind it before attempting to go through with the assignment. Some of the tasks will also require addressing the paper directly.\n",
        "\n",
        "---\n",
        "\n",
        "There are 2 types of tasks in this assignment:\n",
        "- coding tasks --- asking you to write code following specifications provided; Most of the tasks come with test cases for sanity-check. Still, if something is not clear, <ins>do ask questions to lab teachers</ins>. When working with tensors, you have to use tensor-related operations instead of, e.g., inefficiently looping through tensor rows and columns.\n",
        "- interpretation questions --- asking you to interpret the data or the results of the model\n",
        "\n",
        "Each comes with its predefined points (totaling to 50pt). Some coding tasks have 0 points but solving them will be useful for you.\n",
        "\n",
        "---\n",
        "\n",
        "You are greatly encouraged to add comments to your code describing what particular lines of code do (in general, a great habit to have in your coding life).\n",
        "Additionally please follow these rules when submitting the notebook:\n",
        "\n",
        "* Put all code in the cell with the `# YOUR CODE HERE` comment.\n",
        "* For theoretical questions, put your solution in the `YOUR ANSWER HERE` cell and keep the header(!).\n",
        "* Don't change or delete any initially provided cells, either text or code, unless explicitly instructed to do so.\n",
        "* Don't delete the comment lines `# TEST...` or edit their code cells. The test cells are for sanity checking. Passing them doesn't necessarily means that your code is fine.\n",
        "* Don't change the names of provided functions and variables or arguments of the functions.\n",
        "* Don't clear the output of your code cells.\n",
        "* Don't output unnecessary info (e.g., printing variables for debugging purposes). This clutters the notebook and slows down the grading. You can have print() in the code, but comment them out before submitting the notebook.\n",
        "* Delete those cells that you inserted for your own debuging/testing purposes.\n",
        "* Don't forget to fill in the contribution information.\n",
        "* Test your code and **make sure we can run your notebook** in the colab environment.\n",
        "* A single notebook file (without archiving) per group should be submitted via BB.\n",
        "\n",
        "<font color=\"red\">You following these rules helps us to grade the submissions relatively efficiently. If these rules are violated, a submission will be subject to penalty points.</font>\n"
      ]
    },
    {
      "cell_type": "markdown",
      "metadata": {
        "id": "nNT1WNEnlkBC"
      },
      "source": [
        "# <font color=\"red\">Contributions</font>\n",
        "\n",
        "[\"Cem Kaya\", \"Murat Karaca\"]\n",
        "Equal contribution "
      ]
    },
    {
      "cell_type": "markdown",
      "metadata": {
        "id": "AyHEls6Agelp"
      },
      "source": [
        "## Corpus Statistics\n",
        "\n",
        "The paper's proposed model, GloVe, aims to densely represent words in a way that captures the global corpus statistics.\n",
        "\n",
        "The construction it encodes is the word __co-occurrence matrix__. A co-occurrence matrix is a simplistic data structure that counts the number of times each word has appeared within the context of every other word. The definition of a context varies; usually, context is implied to be a fixed-length span (that may or may not be allowed to escape sentence boundaries) around a word.\n",
        "\n",
        "For instance, in the sentence below and for a context length of 2, the word <span style=\"color:pink\">__Earth__</span> occurs in the context of <span style=\"color:lightgreen\">made</span> (1), <span style=\"color:lightgreen\">on</span> (1), <span style=\"color:lightgreen\">as</span> (1), <span style=\"color:lightgreen\">an</span> (1).\n",
        "\n",
        "> \"He struck most of the friends he had <span style=\"color:lightgreen\">made on</span> <span style=\"color:pink\">__Earth__</span> <span style=\"color:lightgreen\">as an</span> eccentric\"\n",
        "\n",
        "Similarly, the word <span style=\"color:pink\">__friends__</span> occurs in the context of <span style=\"color:lightgreen\">of</span> (1), <span style=\"color:lightgreen\">the</span> (1), <span style=\"color:lightgreen\">he</span> (1), <span style=\"color:lightgreen\">had</span> (1).\n",
        "\n",
        "> \"He struck most <span style=\"color:lightgreen\">of the</span> <span style=\"color:pink\">__friends__</span> <span style=\"color:lightgreen\">he had</span> made on Earth as an eccentric\"\n",
        "\n",
        "An alternative definition of a context would be, for instance, the variable-length windows spanned by a full sentence.\n",
        "\n",
        "Contexts may be summed across sentences or entire corpora; the summed context of <span style=\"color:pink\">__he__</span> in the example sentence is: <span style=\"color:lightgreen\">struck</span> (1), <span style=\"color:lightgreen\">most</span> (1), <span style=\"color:lightgreen\">the</span> (1), <span style=\"color:lightgreen\">friends</span> (1), <span style=\"color:lightgreen\">had</span> (1), <span style=\"color:lightgreen\">made</span> (1).\n",
        "\n"
      ]
    },
    {
      "cell_type": "markdown",
      "metadata": {
        "id": "JcPQmxFagelp"
      },
      "source": [
        "For the purposes of this assignment, we have prepared a co-occurrence matrix over a minimally processed version of the Harry Potter books.\n",
        "\n",
        "(A few interpretation tasks in this assignment presuppose some minimal level of familiarity with the Harry Potter books/films. If no one in your group is familiar with Harry Potter, you might find the [fandom page](https://harrypotter.fandom.com/wiki/Main_Page) useful or the [synopsis sections](https://en.wikipedia.org/wiki/Harry_Potter_and_the_Philosopher%27s_Stone) of the corresponding wiki pages.\n",
        "\n",
        "The pickle file contains three items:\n",
        "1. `vocab`: a dictionary mapping words to unique ids, containing $N$ unique words\n",
        "2. `contexts`: a dictionary mapping words to their contexts, where contexts are themselves dicts from words to integers that show the number of co-occurrences between these words.\n",
        "    E.g. `{\"portrait\": {\"harry\": 124, \"said\": 114, ...}, ...}` meaning that the word \"harry\" has appeared in the context of the word \"portrait\" 124 times, etc.\n",
        "3. `X`: a torch LongTensor ${X}$ of size $N \\times N$, where ${X}[i,j]$ denotes the number of times the word with id $j$ has appeared in the context of the word with id $i$\n",
        "\n",
        "Extremely common or uncommon words (i.e. words with too few or too many global occurrences) have been filtered out for practical reasons."
      ]
    },
    {
      "cell_type": "code",
      "execution_count": 1,
      "metadata": {
        "id": "M4xXGmBsgelp"
      },
      "outputs": [
        {
          "name": "stdout",
          "output_type": "stream",
          "text": [
            "GPU available:  True\n"
          ]
        }
      ],
      "source": [
        "import pickle, math\n",
        "import torch\n",
        "#import numpy as np\n",
        "from torch import FloatTensor, LongTensor\n",
        "from typing import Dict, Callable, List\n",
        "import matplotlib.pyplot as plt\n",
        "# torch.set_printoptions(precision=8) #to increase precision of printing floats\n",
        "#print gpu support\n",
        "print(\"GPU available: \", torch.cuda.is_available())\n",
        "torch.set_printoptions(precision=3, sci_mode=False)\n",
        "MY_DEVICE = \"cuda\" if torch.cuda.is_available() else \"cpu\""
      ]
    },
    {
      "cell_type": "code",
      "execution_count": 2,
      "metadata": {
        "id": "j8FXEspuud42"
      },
      "outputs": [],
      "source": [
        "# this command downloads the pickle file.\n",
        "# This is not a python code, it is a unix code. You can run system commands in jupyter notebooks.\n",
        "# !wget -nv -O HP-Counts.p https://www.dropbox.com/scl/fi/dnm7s38j8d0k0bguisiby/HP-Counts.p?rlkey=j0fc11rlnkow7jqb02sel6gz6&dl=1\n",
        "# try this if download from the dropbox link doesn't work\n",
        "\n",
        "#TODO delete comment before submition \n",
        "#!wget -nv -O HP-Counts.p https://naturallogic.pro/_files_/download/MLHVL/HP-Counts.p"
      ]
    },
    {
      "cell_type": "code",
      "execution_count": 3,
      "metadata": {
        "id": "LvW_GgYDgelr",
        "nbgrader": {
          "grade": false,
          "grade_id": "file-open",
          "locked": true,
          "schema_version": 3,
          "solution": false,
          "task": false
        },
        "tags": []
      },
      "outputs": [],
      "source": [
        "with open(\"HP-Counts.p\", \"rb\") as f:\n",
        "    vocab, contexts, X = pickle.load(f)"
      ]
    },
    {
      "cell_type": "markdown",
      "metadata": {
        "id": "KAYhg1c9gels"
      },
      "source": [
        "Let's inspect the top 10 most frequent words in the context of the word 'portrait'."
      ]
    },
    {
      "cell_type": "code",
      "execution_count": 4,
      "metadata": {
        "id": "y6Z-eEFcgelt",
        "tags": []
      },
      "outputs": [
        {
          "data": {
            "text/plain": [
              "[('harry', 124),\n",
              " ('said', 114),\n",
              " ('hole', 85),\n",
              " ('ron', 57),\n",
              " ('hermione', 54),\n",
              " ('room', 48),\n",
              " ('fat', 45),\n",
              " ('lady', 43),\n",
              " ('common', 37),\n",
              " ('back', 31)]"
            ]
          },
          "execution_count": 4,
          "metadata": {},
          "output_type": "execute_result"
        }
      ],
      "source": [
        "sorted([(item, value) for item, value in contexts[\"portrait\"].items()], key=lambda x: x[1], reverse=True)[:10]"
      ]
    },
    {
      "cell_type": "markdown",
      "metadata": {
        "id": "rTRNE9o7gelt"
      },
      "source": [
        "The co-occurrence matrix of a very large corpus should give a meaningful summary of how a word is used in general. A single row of that matrix is already a __word vector__ of size $N$. However such vectors are extremely sparse, and for large corpora the size of $N$ will become unwieldy. We will follow the paper in designing an algorithm that can compress the word vectors while retaining most of their informational content.\n",
        "\n",
        "<div class=\"alert alert-block alert-info\">\n",
        "<b>Note:</b>\n",
        "For the resulting vectors to actually be informative, the source corpus should have a size of at least a few billion words; on the contrary, our corpus enumerates merely a million words, so we can't expect our results to be as great.\n",
        "</div>"
      ]
    },
    {
      "cell_type": "markdown",
      "metadata": {
        "id": "Hd45Trplgelu"
      },
      "source": [
        "### From co-occurrence to probabilities\n",
        "\n",
        "Our matrix $X$ is very sparse; most of its elements are zero.\n",
        "\n",
        "Find what the ratio of non-zero elements is.  \n",
        "Check if the matrix is symmetric (think about why it should (not) be).\n",
        "\n",
        "_Hint_: The function `non_zero_ratio` should return a `float` rather than a `FloatTensor`. Remember `.item()`."
      ]
    },
    {
      "cell_type": "code",
      "execution_count": 5,
      "metadata": {
        "id": "kVb5uBzngelu",
        "nbgrader": {
          "grade": false,
          "grade_id": "non_zero_ratio",
          "locked": false,
          "schema_version": 3,
          "solution": true,
          "task": false
        },
        "tags": []
      },
      "outputs": [],
      "source": [
        "# @title c1.1 [0pt]\n",
        "def non_zero_ratio(sparse_matrix: LongTensor) -> float:\n",
        "    num_zero= 0\n",
        "    num_nan_zero = 0\n",
        "    for i in range(sparse_matrix.shape[0]):\n",
        "        for j in range(sparse_matrix.shape[1]):\n",
        "            if sparse_matrix[i][j]== 0:\n",
        "                num_zero += 1.0\n",
        "            else:\n",
        "                num_nan_zero += 1.0\n",
        "                \n",
        "    return num_nan_zero / (num_nan_zero + num_zero)\n",
        "#non_zero_ratio(X)"
      ]
    },
    {
      "cell_type": "code",
      "execution_count": 6,
      "metadata": {
        "id": "SqLY3Kmugelu",
        "nbgrader": {
          "grade": true,
          "grade_id": "non_zero_ratio_tests",
          "locked": true,
          "points": 1,
          "schema_version": 3,
          "solution": false,
          "task": false
        },
        "tags": []
      },
      "outputs": [],
      "source": [
        "# TEST c1.1\n",
        "assert 0.1 < non_zero_ratio(X) < 0.2"
      ]
    },
    {
      "cell_type": "markdown",
      "metadata": {
        "id": "pJsqVzO_gelu"
      },
      "source": [
        "We will soon need to perform division and find the logarithm of ${X}$. Neither of the two operations are well-defined for $0$. That's why for further processing we want to have a matrix without any zero elements.\n",
        "\n",
        "Change the matrix's datatype to a `torch.float` and add a small constant to it such as $0.1$ to ensure numerical stability while maintaining sparsity. The obtained matrix will be used in the remaining sections (not the original one)."
      ]
    },
    {
      "cell_type": "code",
      "execution_count": 7,
      "metadata": {
        "id": "Atv-IK8dgelv",
        "nbgrader": {
          "grade": false,
          "grade_id": "X1",
          "locked": false,
          "schema_version": 3,
          "solution": true,
          "task": false
        },
        "tags": []
      },
      "outputs": [],
      "source": [
        "# @title c1.2 [0pt]\n",
        "X1 =  X.float() +0.1 \n"
      ]
    },
    {
      "cell_type": "code",
      "execution_count": 8,
      "metadata": {
        "id": "_OVZ556bgelv",
        "nbgrader": {
          "grade": true,
          "grade_id": "X1_tests",
          "locked": true,
          "points": 1,
          "schema_version": 3,
          "solution": false,
          "task": false
        },
        "tags": []
      },
      "outputs": [],
      "source": [
        "# TEST c1.2\n",
        "assert non_zero_ratio(X1) == 1"
      ]
    },
    {
      "cell_type": "markdown",
      "metadata": {
        "id": "k1ZXji04gelw"
      },
      "source": [
        "From the paper:\n",
        "> Let the matrix of word-word co-occurrence counts be denoted by $X$, whose entries $X_{ij}$ tabulate the number of times word $j$ occurs in the context of word $i$.  Let $X_i$= $\\sum_{k} X_{ik}$ be the number of times any word appears in the context of word $i$. Finally, let $P_{ij} = P(j  | i) =  X_{ij}/X_i$ be the probability that word $j$ appears in the context of word $i$.\n",
        "\n",
        "Complete the function `to_probabilities` that accepts a co-occurrence matrix and returns the probability matrix $P$. Use tensor-specific functions and methods hiel doing this (e.g., don't loop through colums and rows of the tensor).\n",
        "\n",
        "_Hint_: Remember broadcasting and `torch.sum()`."
      ]
    },
    {
      "cell_type": "code",
      "execution_count": 9,
      "metadata": {
        "id": "NZQ0Upzogelw",
        "nbgrader": {
          "grade": false,
          "grade_id": "to_probabilities",
          "locked": false,
          "schema_version": 3,
          "solution": true,
          "task": false
        },
        "tags": []
      },
      "outputs": [
        {
          "data": {
            "text/plain": [
              "tensor([[    0.167,     0.333,     0.500],\n",
              "        [    0.000,     1.000,     0.000],\n",
              "        [    0.000,     0.000,     1.000]])"
            ]
          },
          "execution_count": 9,
          "metadata": {},
          "output_type": "execute_result"
        }
      ],
      "source": [
        "# @title c1.3 [1pt]\n",
        "def to_probabilities(count_matrix: FloatTensor) -> FloatTensor:\n",
        "    Xi_vec = torch.sum(count_matrix, axis=1)\n",
        "    #print(\"Xi_vec:  \",Xi_vec)\n",
        "    return (count_matrix.T / Xi_vec).T \n",
        "# make a torch tensor to test the function\n",
        "X = FloatTensor([[1.0001, 2.0001, 3.0001], \n",
        "                 [0.0001, 1.0001, 0.0001],\n",
        "                 [0.0001, 0.0001, 1.0001]])\n",
        "to_probabilities(X)"
      ]
    },
    {
      "cell_type": "code",
      "execution_count": 10,
      "metadata": {
        "id": "AFs3I2hLgelw",
        "nbgrader": {
          "grade": false,
          "grade_id": "to_probabilities_run",
          "locked": true,
          "schema_version": 3,
          "solution": false,
          "task": false
        },
        "tags": []
      },
      "outputs": [],
      "source": [
        "P = to_probabilities(X1) # note that we use X1 not X here"
      ]
    },
    {
      "cell_type": "code",
      "execution_count": 11,
      "metadata": {
        "id": "a1ulUiEjgelw",
        "nbgrader": {
          "grade": true,
          "grade_id": "to_probabilities_tests",
          "locked": true,
          "points": 1,
          "schema_version": 3,
          "solution": false,
          "task": false
        },
        "tags": []
      },
      "outputs": [],
      "source": [
        "# TEST c1.3\n",
        "assert P.shape == torch.Size([len(vocab), len(vocab)])"
      ]
    },
    {
      "cell_type": "markdown",
      "metadata": {
        "id": "KLZwxb3Mgelx"
      },
      "source": [
        "### Probing words\n",
        "\n",
        "From the paper:\n",
        "> Consider two words $i$ and $j$ that exhibit a particular aspect of interest. The relationship of these words can be examined by studying the ratio of their co-occurrence probabilities with various probe words, $k$.  For words $k$ related to $i$ but not $j$, we expect the ratio $P_{ik}/P_{jk}$ will be large.  Similarly, for words $k$ related to $j$ but not $i$, the ratio should be small. For words $k$ that are either related to both $i$ and $j$, or to neither, the ratio should be close to one.\n",
        "\n",
        "Complete the function `query` that accepts two words $w_i$ and $w_j$, a vocab $V$ and a probability matrix ${P}$, maps each word to its corresponding index and returns the probability $P(j  |  i)$. If such probability is impossible to compute for input words, return float 0. probability.  "
      ]
    },
    {
      "cell_type": "code",
      "execution_count": 12,
      "metadata": {
        "id": "uBdjawQGgelx",
        "nbgrader": {
          "grade": false,
          "grade_id": "query",
          "locked": false,
          "schema_version": 3,
          "solution": true,
          "task": false
        },
        "tags": []
      },
      "outputs": [
        {
          "name": "stdout",
          "output_type": "stream",
          "text": [
            "0.0035331191029399633\n",
            "0.00353\n"
          ]
        }
      ],
      "source": [
        "# @title c2.1 [1pt]\n",
        "def query(word_i: str, word_j: str, vocab: Dict[str, int], prob_matrix: FloatTensor) -> float:\n",
        "    if word_i in vocab.keys() and word_j in vocab.keys():\n",
        "        w_i_idx = vocab[word_i]\n",
        "        w_j_idx = vocab[word_j]\n",
        "        \n",
        "        prob_matrix = prob_matrix.double() \n",
        "        # P(j | i) = P(i, j) / P(i)\n",
        "        P_i_j = prob_matrix[w_i_idx, w_j_idx]\n",
        "        P_i = torch.sum(prob_matrix[w_i_idx])    \n",
        "          \n",
        "        result = P_i_j/P_i\n",
        "        return float(result.float())\n",
        "    else:\n",
        "        return 0.0   \n",
        "    \n",
        "print(query('harry', 'potter', vocab, P) )\n",
        "print(round(query('harry', 'potter', vocab, P), 5))"
      ]
    },
    {
      "cell_type": "code",
      "execution_count": 13,
      "metadata": {
        "id": "RSnC-kk-gelx",
        "nbgrader": {
          "grade": true,
          "grade_id": "query_tests",
          "locked": true,
          "points": 1,
          "schema_version": 3,
          "solution": false,
          "task": false
        },
        "tags": []
      },
      "outputs": [],
      "source": [
        "# TEST c2.1\n",
        "\n",
        "assert round(query('harry', 'potter', vocab, P), 5) == 0.00353"
      ]
    },
    {
      "cell_type": "markdown",
      "metadata": {
        "id": "NlVGaJVbgelx"
      },
      "source": [
        "Then, complete the function `probe` that accepts three words $w_i$, $w_j$ and $w_k$, a vocab $V$ and a probability matrix ${P}$, calls `query` and returns the ratio $P(k |  i) / P(k  |  j)$. Let the function return 0 in case of division by 0."
      ]
    },
    {
      "cell_type": "code",
      "execution_count": 14,
      "metadata": {
        "id": "m9wW_9WLgelx",
        "nbgrader": {
          "grade": false,
          "grade_id": "probe",
          "locked": false,
          "schema_version": 3,
          "solution": true,
          "task": false
        },
        "tags": []
      },
      "outputs": [
        {
          "name": "stdout",
          "output_type": "stream",
          "text": [
            "1.3872\n"
          ]
        }
      ],
      "source": [
        "# @title c2.2 [1pt]\n",
        "def probe(word_i: str, word_j: str, word_k: str, vocab: Dict[str, int], prob_matrix: FloatTensor) -> float:\n",
        "    if word_i in vocab.keys() and word_j in vocab.keys() and word_k in vocab.keys():\n",
        "        w_i_idx = vocab[word_i]\n",
        "        w_j_idx = vocab[word_j]\n",
        "        w_k_idx = vocab[word_k]\n",
        "        \n",
        "        prob_matrix = prob_matrix.double() \n",
        "        \n",
        "        P_k_i = prob_matrix[w_i_idx, w_k_idx]\n",
        "        P_k_j = prob_matrix[w_j_idx, w_k_idx]\n",
        "        P_i = torch.sum(prob_matrix[w_i_idx])    \n",
        "        P_j = torch.sum(prob_matrix[w_j_idx])\n",
        "        \n",
        "        result_k_i = P_k_i/P_i\n",
        "        result_k_j = P_k_j/P_j\n",
        "        if result_k_i == 0 or result_k_j == 0:\n",
        "            return 0.0         \n",
        "        else:\n",
        "            return float(result_k_i / result_k_j) \n",
        "    else:\n",
        "        return 0.0   \n",
        "print(round(probe('harry', 'potter', 'stone', vocab, P), 4)) "
      ]
    },
    {
      "cell_type": "code",
      "execution_count": 15,
      "metadata": {
        "id": "C1_riqA8gely",
        "nbgrader": {
          "grade": true,
          "grade_id": "probe_tests",
          "locked": true,
          "points": 1,
          "schema_version": 3,
          "solution": false,
          "task": false
        },
        "tags": []
      },
      "outputs": [],
      "source": [
        "# TEST c2.2\n",
        "assert round(probe('harry', 'potter', 'stone', vocab, P), 4) == 1.3872"
      ]
    },
    {
      "cell_type": "markdown",
      "metadata": {
        "id": "491Qc7WJgely"
      },
      "source": [
        "Let's probe a few words and examine whether the authors' claim holds even for our (tiny) corpus. **Add two pairs of your own word triplets** and experiment on them."
      ]
    },
    {
      "cell_type": "code",
      "execution_count": null,
      "metadata": {
        "id": "4XVgjB7lgely",
        "nbgrader": {
          "grade": true,
          "grade_id": "probing",
          "locked": false,
          "points": 0,
          "schema_version": 3,
          "solution": true,
          "task": false
        },
        "tags": []
      },
      "outputs": [
        {
          "name": "stdout",
          "output_type": "stream",
          "text": [
            "tea wand magic 0.01844294403415497\n",
            "tea wand cup 26.142657031012345\n",
            "\n",
            "broom fly race 0.5891650549330356\n",
            "horse store magic 0.6862182070504376\n",
            "train school magic 0.09433587186475488\n"
          ]
        }
      ],
      "source": [
        "print(\"tea\", \"wand\", \"magic\", probe(\"tea\", \"wand\", \"magic\", vocab, P))\n",
        "print(\"tea\", \"wand\", \"cup\", probe(\"tea\", \"wand\", \"cup\", vocab, P))\n",
        "print()\n",
        "# YOUR CODE HERE\n",
        "print(\"broom\", \"fly\", \"race\", probe(\"broom\", \"fly\", \"race\", vocab, P))\n",
        "\n",
        "print(\"horse\", \"store\",  \"magic\", probe(\"horse\", \"store\",  \"magic\", vocab, P))\n",
        "\n",
        "print(\"train\", \"school\", \"magic\", probe(\"train\", \"school\", \"magic\", vocab, P))\n"
      ]
    },
    {
      "cell_type": "markdown",
      "metadata": {
        "id": "UGDY0xucgelz"
      },
      "source": [
        "#### i1 [1pt]\n",
        "Give a brief interpretation of the results you got. Do they correspond to your expectations? Why or why not?\n",
        "\n",
        "*Hint*: When do we expect the ratio value to be high, low or close to 1? Refer to the GloVe paper for guidance."
      ]
    },
    {
      "cell_type": "markdown",
      "metadata": {
        "id": "HCC40-wBgelz",
        "nbgrader": {
          "grade": true,
          "grade_id": "interpretation1",
          "locked": false,
          "points": 1,
          "schema_version": 3,
          "solution": true,
          "task": false
        },
        "tags": []
      },
      "source": [
        "**ANSWER**: <font color=\"red\">YOUR ANSWER HERE</font>\n",
        "\n",
        "\n",
        "\n",
        "\n",
        "Yes, the results we got corespond to our expectations. \n",
        "\n",
        "For the words tea wand magic example we were expecting a score of less then 1. Which we got. Since the word pairs  (tea, magic) are not strongly correlated in our daily lexicon and the word pairs (magic, wand) are strongly correlated the ratio should have been less then 1 which it was. This further suggests the word distribution of harry potter is somewhat similar to our daily use word distribution. \n",
        "\n",
        "The second example tea wand cup results were also in an expected ratio. We were expecting a high value due to the words pair (tea,cup) are very strongly corolated in our daily lexicon, while tea wand are not common. \n",
        "\n",
        "By relying on the previous test we have run an experiment to see the correlation between the broom fly race words. (broom, race) / (fly, race). As per our knowledge of HP universe there is a race game with flying brooms. However, we were not sure of the authors phrasing of this sport so we have run this test as an experiment. We were expecting a result close to 1 where we got 0.5 which suggests (fly, race) is more common. \n",
        "\n",
        "The words horse store magicwere also used as an experiment to test if magic horses were more common then the magic stores and this resulted in  a result of 0.68 which suggests magic stores were more common in the HP books by not a significant ratio. \n",
        "\n",
        "The words train school magic were also used as an experiment. Which resulted in a score of 0.09 which suggests that the word pair (school, magic ) is significantly more common then the word pair (train, magic). \n"
      ]
    },
    {
      "cell_type": "markdown",
      "metadata": {
        "id": "DNpZ5cpUgelz"
      },
      "source": [
        "What would happen if we tried probing out-of-domain words? Use the words \"solid\", \"gas\", \"water\", and \"fashion\", which the authors report in the paper in the context of \"ice\" and \"steam\" (Table 1). Make your code to clearly print the details."
      ]
    },
    {
      "cell_type": "code",
      "execution_count": null,
      "metadata": {
        "id": "l2mZvmINgelz",
        "nbgrader": {
          "grade": true,
          "grade_id": "ice_steam",
          "locked": false,
          "points": 1,
          "schema_version": 3,
          "solution": true,
          "task": false
        },
        "tags": []
      },
      "outputs": [
        {
          "name": "stdout",
          "output_type": "stream",
          "text": [
            "ice steam solid 0.07830312919204734\n",
            "ice steam gas 0.8613344137869313\n",
            "ice steam water 1.2714936818107796\n",
            "ice steam fashion 0.8613344137869313\n"
          ]
        }
      ],
      "source": [
        "print(\"ice\", \"steam\", \"solid\", probe(\"ice\", \"steam\", \"solid\", vocab, P))\n",
        "print(\"ice\", \"steam\", \"gas\", probe(\"ice\", \"steam\", \"gas\", vocab, P))\n",
        "print(\"ice\", \"steam\", \"water\", probe(\"ice\", \"steam\", \"water\", vocab, P))\n",
        "print(\"ice\", \"steam\", \"fashion\", probe(\"ice\", \"steam\", \"fashion\", vocab, P))"
      ]
    },
    {
      "cell_type": "markdown",
      "metadata": {
        "id": "ydVy5ca4gelz"
      },
      "source": [
        "#### i2 [3pt]\n",
        "Give an interpretation of the results you got. Do they match what the authors report in the paper? Why or why not?"
      ]
    },
    {
      "cell_type": "markdown",
      "metadata": {
        "id": "_-WHvhh1gel0",
        "nbgrader": {
          "grade": true,
          "grade_id": "interpretation2",
          "locked": false,
          "points": 1,
          "schema_version": 3,
          "solution": true,
          "task": false
        },
        "tags": []
      },
      "source": [
        "**ANSWER**: <font color=\"red\">YOUR ANSWER HERE</font>\n",
        "\n",
        "\n",
        "|     | Our result | Paper result   |\n",
        "|-----------|-----------|-----------|\n",
        "| ice steam solid | 0.078 | 8.9 |\n",
        "| ice steam gas| 0.861 |  0.085 |\n",
        "| ice steam water | 1.271 | 1.36 |\n",
        "| ice steam fashion | 0.861 | 0.96 |\n",
        "\n",
        "\n",
        "Some results are with in the expected range of deviation  from the results from the paper given the word count and domain differences of our word corpus. (i.e. ice steam fashion  and  ice steam water) are very close to the authors results. For these words  our results were 10% off the results form the paper. However, the results for ( ice steam gas)and especially  (ice steam solid ) were significantly off from the results from the paper. The ( ice steam gas) was off by  an order of magnitude  and the ( ice steam solid) was off by two orders of magnitude.  We suspect that this difference stems from the differences in our word corpus. There might be a spell or a place which contains the words which were used for the comparison. This would require more intimate knowledge of harry potter and some data mining to be investigated further.  "
      ]
    },
    {
      "cell_type": "markdown",
      "metadata": {
        "id": "S4tjPd5Qgel0"
      },
      "source": [
        "## Dense Vectors\n",
        "\n",
        "Now, we would like to convert these long sparse vectors into short dense ones.\n",
        "\n",
        "The conversion should be such that the probability ratios we inspected earlier may still be reconstructed via some (for now, unknown) operation $F$ on the dense vectors.\n",
        "\n",
        "To restrict the search space over potential functions, the authors impose a number of constraints they think $F$ should satisfy:\n",
        "1. > While $F$ could be taken to be a complicated function parameterized by, e.g., a neural network, doing so would obfuscate the linear structure we are trying to capture. $F$ should be dot-product based.\n",
        "2. > The distinction between a word and a context word is arbitrary and we are free to exchange the two roles. To do so consistently, we must not only exchange $w \\leftrightarrow \\tilde{w}$ but also $X \\leftrightarrow X^T$.\n",
        "3. > It should be well-defined for all values in $X$.\n",
        "\n",
        "Given these three constraints, each word $i$ in our vocabulary is represented by four vectors:\n",
        "1. A vector $w_i \\in \\mathbb{R}^D$\n",
        "2. A bias $b_i \\in \\mathbb{R}$\n",
        "3. A context vector $\\tilde{w}_i \\in \\mathbb{R}^D$\n",
        "4. A context bias $\\tilde{b}_i \\in \\mathbb{R}$\n",
        "\n",
        "and $F: \\mathbb{R}^D \\times \\mathbb{R} \\times \\mathbb{R}^D \\times \\mathbb{R} \\to \\mathbb{R}$ is defined as:\n",
        "\n",
        "$F(w_i, \\tilde{w}_k, b_i, \\tilde{b}_k) = w_i^T\\tilde{w}_k + b_i + \\tilde{b}_k$.\n",
        "\n",
        "Or equivalently the least squares error $J$ is minimized, where:\n",
        "\n",
        "$J = \\sum_{i,j=1}^{V} f(X_{ij})(w_{i}^T\\tilde{w}_j + b_i + \\tilde{b}_j - log(X_{ij}))^2$\n",
        "\n",
        "with $f$ being a weighting function, defined as\n",
        "\n",
        "$$\n",
        "f(x) = \\begin{cases}\n",
        "    \\left(\\frac{x}{x_{\\text{max}}}\\right)^\\alpha, & \\text{if } x < x_{\\text{max}} \\\\\n",
        "    1, & \\text{otherwise}.\n",
        "  \\end{cases}\n",
        "$$"
      ]
    },
    {
      "cell_type": "markdown",
      "metadata": {
        "id": "1k0pPj8cgel0"
      },
      "source": [
        "### Weighting Function\n",
        "\n",
        "Let's start with the last part.\n",
        "\n",
        "Complete the weighting function `weight_fn` which accepts a co-occurrence matrix ${X}$, a maximum value $x_{max}$ and a fractional power $\\alpha$, and returns the weighted co-occurrence matrix $f({X})$.\n",
        "\n",
        "Then, compute $\\text{X\\_weighted}$, the matrix $X$ after weighting, using the paper's suggested parameters.\n",
        "\n",
        "\n",
        "_Hint_: Note that $f$ is defined pointwise, so our weighting function should also be pointwise. Use tensor-specific functions/methods."
      ]
    },
    {
      "cell_type": "code",
      "execution_count": 18,
      "metadata": {
        "id": "NT840aDLgel0",
        "nbgrader": {
          "grade": false,
          "grade_id": "weight_fn",
          "locked": false,
          "schema_version": 3,
          "solution": true,
          "task": false
        },
        "tags": []
      },
      "outputs": [],
      "source": [
        "# @title c3 [1pt]\n",
        "def weight_fn(X: FloatTensor, x_max: int, alpha: float) -> FloatTensor:\n",
        "    weight = torch.where(X < x_max, ((X / x_max) ** alpha), 1)\n",
        "    return weight\n",
        "\n",
        "\n",
        "def weight_fn_2(X: FloatTensor, x_max: int, alpha: float) -> FloatTensor:\n",
        "    weight = torch.ones_like(X) \n",
        "    \n",
        "    mask = X < x_max  \n",
        "    weight[mask] = (X[mask] / x_max) ** alpha  \n",
        "        \n",
        "    return weight\n"
      ]
    },
    {
      "cell_type": "code",
      "execution_count": 19,
      "metadata": {
        "id": "IIkY4abRgel0",
        "nbgrader": {
          "grade": false,
          "grade_id": "X_weighted",
          "locked": true,
          "schema_version": 3,
          "solution": false,
          "task": false
        },
        "tags": []
      },
      "outputs": [],
      "source": [
        "X_weighted = weight_fn(X1, x_max=100, alpha=3/4)"
      ]
    },
    {
      "cell_type": "code",
      "execution_count": 20,
      "metadata": {
        "id": "AuQFRuWrgel0",
        "nbgrader": {
          "grade": true,
          "grade_id": "weight_fn_tests",
          "locked": true,
          "points": 1,
          "schema_version": 3,
          "solution": false,
          "task": false
        },
        "tags": []
      },
      "outputs": [],
      "source": [
        "# TEST c3\n",
        "assert X_weighted.shape == X1.shape"
      ]
    },
    {
      "cell_type": "markdown",
      "metadata": {
        "id": "B1c6SOjTgel1"
      },
      "source": [
        "Try to get an understanding of how the weighting affects different co-occurrence values (high and low). Think of some word pairs with high and low co-occurrence and look them up in $X$ and in $\\text{X\\_weighted}$ to get a better idea."
      ]
    },
    {
      "cell_type": "code",
      "execution_count": 21,
      "metadata": {
        "id": "vImSYqq1gel1",
        "nbgrader": {
          "grade": true,
          "grade_id": "loss_sandbox",
          "locked": false,
          "points": 0,
          "schema_version": 3,
          "solution": true,
          "task": false
        },
        "tags": []
      },
      "outputs": [
        {
          "name": "stdout",
          "output_type": "stream",
          "text": [
            "expecto patronum           0.05129\n",
            "weighted: expecto patronum 0.01829\n",
            "horse store           0.00007\n",
            "weighted: horse store 0.00012\n"
          ]
        }
      ],
      "source": [
        "# YOUR CODE HERE\n",
        "\n",
        "X_high = round(query('expecto', 'patronum', vocab, X1), 5)  # Harry Potter magic\n",
        "X_low = round(query('horse', 'store', vocab, X1), 5)\n",
        "\n",
        "X_high_weight = round(query('expecto', 'patronum', vocab, X_weighted), 5)\n",
        "X_low_weight = round(query('horse', 'store', vocab, X_weighted), 5)\n",
        "\n",
        "print(f\"expecto patronum           {X_high:.5f}\")\n",
        "print(f\"weighted: expecto patronum {X_high_weight:.5f}\")\n",
        "\n",
        "print(f\"horse store           {X_low:.5f}\")\n",
        "print(f\"weighted: horse store {X_low_weight:.5f}\")\n"
      ]
    },
    {
      "cell_type": "markdown",
      "metadata": {
        "id": "aGc4Dp0agel2"
      },
      "source": [
        "### Loss Function\n",
        "\n",
        "The next step is to write the loss function.\n",
        "\n",
        "We can write it as a pointwise function, apply it iteratively over each pair of words and then sum the result; that's however extremely inefficient.\n",
        "\n",
        "Inspecting the formulation of $J$, it is fairly straightforward to see that it can be immediately implemented using matrix-matrix operations, as:\n",
        "\n",
        "$J = \\sum_{i,j=1}^{V}f(\\mathbf{X})\\cdot(W\\tilde{W}^T + b + \\tilde{b}^T - log(X))^2$,\n",
        "\n",
        "where $W$, $\\tilde{W}$ are the $N \\times D$ matrices containing the $D$-dimensional vectors of all our $N$ vocabulary words, and $b$, $\\tilde{b}$ are the $N \\times 1$ matrices containing the $1$-dimensional biases of our words.\n",
        "\n",
        "Complete `loss_fn`, a function that accepts a weighted co-occurrence matrix $f({X})$, the word vectors and biases $W$, $\\tilde{W}$, $b$, $\\tilde{b}$ and the co-occurrence matrix ${X}$, and computes $J$."
      ]
    },
    {
      "cell_type": "code",
      "execution_count": 22,
      "metadata": {
        "id": "kA4W3vXjgel2",
        "nbgrader": {
          "grade": false,
          "grade_id": "loss_fn",
          "locked": false,
          "schema_version": 3,
          "solution": true,
          "task": false
        },
        "tags": []
      },
      "outputs": [],
      "source": [
        "# @title c4 [1pt]\n",
        "def loss_fn(\n",
        "    X_weighted: FloatTensor,\n",
        "    W: FloatTensor,\n",
        "    W_context: FloatTensor,\n",
        "    B: FloatTensor,\n",
        "    B_context: FloatTensor,\n",
        "    X: FloatTensor\n",
        ") -> FloatTensor: # we need a tensor type as an output to be able to do backward propagation with it\n",
        "    \n",
        "    \n",
        "    loss = torch.sum( X_weighted * ((W @ W_context.T + B + B_context.T - torch.log(X))**2 ) ) \n",
        "    \n",
        "    return loss"
      ]
    },
    {
      "cell_type": "markdown",
      "metadata": {
        "id": "wti3lircgel2"
      },
      "source": [
        "Let's make sure that we are on a right track. For this we calculate the loss function with toy input: matrices are of size $2 \\times 2$ while bias vectors of size $2 \\times 1$. You can verify the answer manually and with your implementation of `loss_fn`."
      ]
    },
    {
      "cell_type": "code",
      "execution_count": 23,
      "metadata": {
        "id": "rOPO7NLmgel2",
        "nbgrader": {
          "grade": true,
          "grade_id": "loss_fn_tests",
          "locked": true,
          "points": 1,
          "schema_version": 3,
          "solution": false,
          "task": false
        },
        "tags": []
      },
      "outputs": [],
      "source": [
        "# TEST c4\n",
        "toy_X_weighted = torch.FloatTensor([[.5,1],[.2,.1]])\n",
        "toy_X1 = torch.FloatTensor([[2,1],[1,5]])\n",
        "toy_W1 = torch.FloatTensor([[1,2],[1,0]]) # for W\n",
        "toy_W2 = torch.FloatTensor([[0,1],[1,2]]) # for W~\n",
        "toy_b1 = torch.FloatTensor([[0],[2]]) # for b\n",
        "toy_b2 = torch.FloatTensor([[2],[1]]) # for b~\n",
        "# fill the correct value\n",
        "assert loss_fn(toy_X_weighted, toy_W1, toy_W2, toy_b1, toy_b2, toy_X1).isclose((torch.tensor([45.239116])))\n",
        "#print(loss_fn(toy_X_weighted, toy_W1, toy_W2, toy_b1, toy_b2, toy_X1)) #Checked by TA"
      ]
    },
    {
      "cell_type": "markdown",
      "metadata": {
        "id": "XuW6mKUygel2"
      },
      "source": [
        "### GloVe\n",
        "\n",
        "We have the normalized co-occurrence matrix ${X}$, the weighting function $f$, and the loss function $J$ that implements $F$.\n",
        "\n",
        "What we need now is a mapping from words (or word ids) to unique, parametric and trainable vectors.\n",
        "\n",
        "Torch provides this abstraction in the form of [Embedding layers](https://pytorch.org/docs/stable/generated/torch.nn.Embedding.html?highlight=embedding#torch.nn.Embedding). Each such layer may be viewed as a stand-alone network that can be optimized using the standard procedure we have already seen. It is recommended to read about Embedding class. In general, it does the same job as `nn.Parameter(torch.rand(...))` but additionally allows to select row vectors by giving a list of token indices.   \n",
        "\n",
        "We will utilize the `nn.Module` class to contain all our embedding layers and streamline their joint optimization.\n",
        "The container class will be responsible for a few things:\n",
        "\n",
        "1. Wrapping the embedding layers:\n",
        "    1. A vector embedding that maps words to $w \\in \\mathbb{R}^D$\n",
        "    2. A context vector embedding that maps words to $w_c \\in \\mathbb{R}^D$\n",
        "    3. A bias embedding that maps words to $b \\in \\mathbb{R}^1$\n",
        "    4. A context bias embedding that maps words to $b_c \\in \\mathbb{R}^1$\n",
        "2. Implementing `forward`, a function that accepts a weighted co-occurrence matrix $f(X)$, the co-occurrence matrix $X$, then finds the embeddings of all words and finally calls `loss_fn` as defined above.\n",
        "3. Implementing `get_vectors`, a function that receives no input and produces the word vectors and context word vectors of all words, adds them together and returns the result, in accordance with the paper:\n",
        "> ...With this in mind, we choose to use the sum $W + \\tilde{W}$ as our word vectors.\n",
        "\n",
        "Complete the network class following the above specifications.  "
      ]
    },
    {
      "cell_type": "code",
      "execution_count": 24,
      "metadata": {
        "id": "QpMpVqe-gel2",
        "nbgrader": {
          "grade": true,
          "grade_id": "GloVe",
          "locked": false,
          "points": 3,
          "schema_version": 3,
          "solution": true,
          "task": false
        },
        "tags": []
      },
      "outputs": [],
      "source": [
        "# @title c5 [4pt]\n",
        "class GloVe(torch.nn.Module):\n",
        "    def __init__(self, vocab: Dict[str, int], vector_dim: int=30, device: str=\"cpu\", seed: int=0) -> None:\n",
        "        super(GloVe, self).__init__()\n",
        "        self.device = device\n",
        "        self.vocab_len = len(vocab)\n",
        "        torch.manual_seed(seed) #random initialization of w, wc, b, bc is fixed by the seed\n",
        "        self.w = torch.nn.Embedding(self.vocab_len, vector_dim, device = self.device)\n",
        "        self.wc = torch.nn.Embedding(self.vocab_len, vector_dim, device = self.device)\n",
        "        self.b = torch.nn.Embedding(self.vocab_len, 1, device = self.device)\n",
        "        self.bc = torch.nn.Embedding(self.vocab_len, 1, device = self.device)\n",
        "\n",
        "    def forward(self, X_weighted: FloatTensor, X: FloatTensor) -> FloatTensor:\n",
        "        embedding_input = torch.arange(self.vocab_len).to(self.device)\n",
        "        W = self.w(embedding_input).to(self.device)\n",
        "        W_context = self.wc(embedding_input).to(self.device)\n",
        "        B = self.b(embedding_input).to(self.device)\n",
        "        B_context = self.bc(embedding_input).to(self.device)\n",
        "\n",
        "        X_weighted = X_weighted.to(self.device)\n",
        "        X = X.to(self.device)\n",
        "\n",
        "        loss = loss_fn(X_weighted, W, W_context, B, B_context, X)\n",
        "        return loss\n",
        "\n",
        "    def get_vectors(self) -> FloatTensor:\n",
        "        embedding_input = torch.arange(self.vocab_len).to(self.device)\n",
        "        W = self.w(embedding_input)\n",
        "        W_context = self.wc(embedding_input)\n",
        "        \n",
        "        return W + W_context"
      ]
    },
    {
      "cell_type": "code",
      "execution_count": 25,
      "metadata": {
        "id": "LWb-G60hXXcw"
      },
      "outputs": [],
      "source": [
        "# TEST c5\n",
        "assert GloVe(vocab, vector_dim=30, seed=0).w.num_embeddings == len(vocab)\n",
        "assert GloVe(vocab, vector_dim=30, seed=0).bc.num_embeddings == len(vocab)"
      ]
    },
    {
      "cell_type": "markdown",
      "metadata": {
        "id": "nHNF2C8Jgel3"
      },
      "source": [
        "### Training\n",
        "\n",
        "Everything is in place; now we may begin optimizing our embedding layers (and in doing so, the vectors they assign).\n",
        "\n",
        "Instantiate the network class you just defined using $D = 30$. Then instantiate an `Adam` optimizer with a learning rate of 0.05 and train your network for 300 epochs (don't change the default seed value).\n",
        "\n",
        "When writing the training script, remember that your network's forward pass is __already__ computing the loss. Make sure to **print a loss value for each epoch**.\n",
        "\n",
        "Training won't take too long on a CPU. In case you want to use a GPU, make sure that variables are correctly moved to a GPU with a `device` argument of class `GloVe`."
      ]
    },
    {
      "cell_type": "code",
      "execution_count": 26,
      "metadata": {
        "id": "2U-QMxyngel3",
        "nbgrader": {
          "grade": true,
          "grade_id": "training",
          "locked": false,
          "points": 0.5,
          "schema_version": 3,
          "solution": true,
          "task": false
        },
        "scrolled": true,
        "tags": []
      },
      "outputs": [],
      "source": [
        "# @title c6.1 [4pt]\n",
        "def train_glove_vectors(voc: Dict[str, int], X_weighted: FloatTensor, X1:FloatTensor,\n",
        "                        vector_dim: int=30, seed: int=0, lr: float=0.05, num_epochs: int=300):\n",
        "    \n",
        "    network = GloVe(voc, vector_dim, seed=seed, device=MY_DEVICE) #self, vocab: Dict[str, int], vector_dim: int=30, device: str=\"cpu\", seed: int=0\n",
        "    opt = torch.optim.Adam(network.parameters(), lr=lr)\n",
        "\n",
        "    \n",
        "    losses = [] # collect losses for each epoch here\n",
        "    for i in range(num_epochs):\n",
        "        loss = network.forward(X_weighted, X1)\n",
        "        opt.zero_grad()\n",
        "        loss.backward()\n",
        "        opt.step()\n",
        "        \n",
        "        #for matplotlib to cpu \n",
        "        losses.append(loss.detach().cpu().numpy())\n",
        "        \n",
        "        print(f\"Epoch {i:>3}: training Loss: {loss}\")\n",
        "        \n",
        "    return losses, network\n",
        "\n"
      ]
    },
    {
      "cell_type": "code",
      "execution_count": 27,
      "metadata": {
        "id": "1pYdq9fK4RS-"
      },
      "outputs": [
        {
          "name": "stdout",
          "output_type": "stream",
          "text": [
            "Epoch   0: training Loss: 11367346.0\n",
            "Epoch   1: training Loss: 9867104.0\n",
            "Epoch   2: training Loss: 8570608.0\n",
            "Epoch   3: training Loss: 7455399.0\n",
            "Epoch   4: training Loss: 6498993.5\n",
            "Epoch   5: training Loss: 5680457.0\n",
            "Epoch   6: training Loss: 4980712.0\n",
            "Epoch   7: training Loss: 4382609.0\n",
            "Epoch   8: training Loss: 3870921.5\n",
            "Epoch   9: training Loss: 3432295.25\n",
            "Epoch  10: training Loss: 3055150.25\n",
            "Epoch  11: training Loss: 2729535.5\n",
            "Epoch  12: training Loss: 2446973.0\n",
            "Epoch  13: training Loss: 2200302.75\n",
            "Epoch  14: training Loss: 1983546.625\n",
            "Epoch  15: training Loss: 1791783.25\n",
            "Epoch  16: training Loss: 1621044.0\n",
            "Epoch  17: training Loss: 1468217.75\n",
            "Epoch  18: training Loss: 1330956.75\n",
            "Epoch  19: training Loss: 1207572.25\n",
            "Epoch  20: training Loss: 1096907.25\n",
            "Epoch  21: training Loss: 998182.875\n",
            "Epoch  22: training Loss: 910820.1875\n",
            "Epoch  23: training Loss: 834264.125\n",
            "Epoch  24: training Loss: 767845.25\n",
            "Epoch  25: training Loss: 710710.9375\n",
            "Epoch  26: training Loss: 661839.0\n",
            "Epoch  27: training Loss: 620113.4375\n",
            "Epoch  28: training Loss: 584423.375\n",
            "Epoch  29: training Loss: 553746.125\n",
            "Epoch  30: training Loss: 527195.25\n",
            "Epoch  31: training Loss: 504036.375\n",
            "Epoch  32: training Loss: 483680.15625\n",
            "Epoch  33: training Loss: 465664.25\n",
            "Epoch  34: training Loss: 449631.78125\n",
            "Epoch  35: training Loss: 435309.0\n",
            "Epoch  36: training Loss: 422482.625\n",
            "Epoch  37: training Loss: 410979.625\n",
            "Epoch  38: training Loss: 400651.6875\n",
            "Epoch  39: training Loss: 391365.59375\n",
            "Epoch  40: training Loss: 382999.5\n",
            "Epoch  41: training Loss: 375442.6875\n",
            "Epoch  42: training Loss: 368597.34375\n",
            "Epoch  43: training Loss: 362379.625\n",
            "Epoch  44: training Loss: 356719.71875\n",
            "Epoch  45: training Loss: 351560.34375\n",
            "Epoch  46: training Loss: 346854.4375\n",
            "Epoch  47: training Loss: 342562.15625\n",
            "Epoch  48: training Loss: 338648.40625\n",
            "Epoch  49: training Loss: 335080.46875\n",
            "Epoch  50: training Loss: 331827.1875\n",
            "Epoch  51: training Loss: 328858.25\n",
            "Epoch  52: training Loss: 326144.59375\n",
            "Epoch  53: training Loss: 323658.9375\n",
            "Epoch  54: training Loss: 321376.1875\n",
            "Epoch  55: training Loss: 319273.71875\n",
            "Epoch  56: training Loss: 317331.625\n",
            "Epoch  57: training Loss: 315532.4375\n",
            "Epoch  58: training Loss: 313861.25\n",
            "Epoch  59: training Loss: 312304.90625\n",
            "Epoch  60: training Loss: 310852.125\n",
            "Epoch  61: training Loss: 309492.75\n",
            "Epoch  62: training Loss: 308217.4375\n",
            "Epoch  63: training Loss: 307017.75\n",
            "Epoch  64: training Loss: 305885.84375\n",
            "Epoch  65: training Loss: 304814.59375\n",
            "Epoch  66: training Loss: 303797.59375\n",
            "Epoch  67: training Loss: 302829.1875\n",
            "Epoch  68: training Loss: 301904.375\n",
            "Epoch  69: training Loss: 301018.65625\n",
            "Epoch  70: training Loss: 300168.0\n",
            "Epoch  71: training Loss: 299348.6875\n",
            "Epoch  72: training Loss: 298557.25\n",
            "Epoch  73: training Loss: 297790.375\n",
            "Epoch  74: training Loss: 297045.0625\n",
            "Epoch  75: training Loss: 296318.53125\n",
            "Epoch  76: training Loss: 295608.3125\n",
            "Epoch  77: training Loss: 294912.3125\n",
            "Epoch  78: training Loss: 294228.625\n",
            "Epoch  79: training Loss: 293555.875\n",
            "Epoch  80: training Loss: 292892.84375\n",
            "Epoch  81: training Loss: 292238.59375\n",
            "Epoch  82: training Loss: 291592.3125\n",
            "Epoch  83: training Loss: 290953.34375\n",
            "Epoch  84: training Loss: 290321.1875\n",
            "Epoch  85: training Loss: 289695.25\n",
            "Epoch  86: training Loss: 289075.3125\n",
            "Epoch  87: training Loss: 288461.0625\n",
            "Epoch  88: training Loss: 287852.53125\n",
            "Epoch  89: training Loss: 287249.78125\n",
            "Epoch  90: training Loss: 286653.125\n",
            "Epoch  91: training Loss: 286063.0\n",
            "Epoch  92: training Loss: 285479.84375\n",
            "Epoch  93: training Loss: 284904.1875\n",
            "Epoch  94: training Loss: 284336.4375\n",
            "Epoch  95: training Loss: 283776.9375\n",
            "Epoch  96: training Loss: 283225.96875\n",
            "Epoch  97: training Loss: 282683.8125\n",
            "Epoch  98: training Loss: 282150.53125\n",
            "Epoch  99: training Loss: 281626.3125\n",
            "Epoch 100: training Loss: 281111.15625\n",
            "Epoch 101: training Loss: 280605.1875\n",
            "Epoch 102: training Loss: 280108.375\n",
            "Epoch 103: training Loss: 279620.75\n",
            "Epoch 104: training Loss: 279142.25\n",
            "Epoch 105: training Loss: 278672.6875\n",
            "Epoch 106: training Loss: 278211.90625\n",
            "Epoch 107: training Loss: 277759.65625\n",
            "Epoch 108: training Loss: 277315.625\n",
            "Epoch 109: training Loss: 276879.5625\n",
            "Epoch 110: training Loss: 276451.0625\n",
            "Epoch 111: training Loss: 276029.875\n",
            "Epoch 112: training Loss: 275615.59375\n",
            "Epoch 113: training Loss: 275207.9375\n",
            "Epoch 114: training Loss: 274806.6875\n",
            "Epoch 115: training Loss: 274411.5\n",
            "Epoch 116: training Loss: 274022.125\n",
            "Epoch 117: training Loss: 273638.3125\n",
            "Epoch 118: training Loss: 273259.875\n",
            "Epoch 119: training Loss: 272886.53125\n",
            "Epoch 120: training Loss: 272518.125\n",
            "Epoch 121: training Loss: 272154.5625\n",
            "Epoch 122: training Loss: 271795.5625\n",
            "Epoch 123: training Loss: 271440.96875\n",
            "Epoch 124: training Loss: 271090.71875\n",
            "Epoch 125: training Loss: 270744.65625\n",
            "Epoch 126: training Loss: 270402.6875\n",
            "Epoch 127: training Loss: 270064.65625\n",
            "Epoch 128: training Loss: 269730.5625\n",
            "Epoch 129: training Loss: 269400.3125\n",
            "Epoch 130: training Loss: 269073.84375\n",
            "Epoch 131: training Loss: 268751.15625\n",
            "Epoch 132: training Loss: 268432.15625\n",
            "Epoch 133: training Loss: 268116.8125\n",
            "Epoch 134: training Loss: 267805.1875\n",
            "Epoch 135: training Loss: 267497.125\n",
            "Epoch 136: training Loss: 267192.71875\n",
            "Epoch 137: training Loss: 266891.875\n",
            "Epoch 138: training Loss: 266594.625\n",
            "Epoch 139: training Loss: 266300.9375\n",
            "Epoch 140: training Loss: 266010.78125\n",
            "Epoch 141: training Loss: 265724.15625\n",
            "Epoch 142: training Loss: 265441.0625\n",
            "Epoch 143: training Loss: 265161.46875\n",
            "Epoch 144: training Loss: 264885.3125\n",
            "Epoch 145: training Loss: 264612.6875\n",
            "Epoch 146: training Loss: 264343.5\n",
            "Epoch 147: training Loss: 264077.71875\n",
            "Epoch 148: training Loss: 263815.375\n",
            "Epoch 149: training Loss: 263556.40625\n",
            "Epoch 150: training Loss: 263300.8125\n",
            "Epoch 151: training Loss: 263048.5625\n",
            "Epoch 152: training Loss: 262799.625\n",
            "Epoch 153: training Loss: 262553.96875\n",
            "Epoch 154: training Loss: 262311.5625\n",
            "Epoch 155: training Loss: 262072.375\n",
            "Epoch 156: training Loss: 261836.375\n",
            "Epoch 157: training Loss: 261603.5\n",
            "Epoch 158: training Loss: 261373.75\n",
            "Epoch 159: training Loss: 261147.09375\n",
            "Epoch 160: training Loss: 260923.453125\n",
            "Epoch 161: training Loss: 260702.78125\n",
            "Epoch 162: training Loss: 260485.09375\n",
            "Epoch 163: training Loss: 260270.3125\n",
            "Epoch 164: training Loss: 260058.375\n",
            "Epoch 165: training Loss: 259849.28125\n",
            "Epoch 166: training Loss: 259642.96875\n",
            "Epoch 167: training Loss: 259439.390625\n",
            "Epoch 168: training Loss: 259238.53125\n",
            "Epoch 169: training Loss: 259040.296875\n",
            "Epoch 170: training Loss: 258844.6875\n",
            "Epoch 171: training Loss: 258651.671875\n",
            "Epoch 172: training Loss: 258461.1875\n",
            "Epoch 173: training Loss: 258273.15625\n",
            "Epoch 174: training Loss: 258087.609375\n",
            "Epoch 175: training Loss: 257904.453125\n",
            "Epoch 176: training Loss: 257723.6875\n",
            "Epoch 177: training Loss: 257545.234375\n",
            "Epoch 178: training Loss: 257369.078125\n",
            "Epoch 179: training Loss: 257195.1875\n",
            "Epoch 180: training Loss: 257023.53125\n",
            "Epoch 181: training Loss: 256854.046875\n",
            "Epoch 182: training Loss: 256686.6875\n",
            "Epoch 183: training Loss: 256521.484375\n",
            "Epoch 184: training Loss: 256358.34375\n",
            "Epoch 185: training Loss: 256197.25\n",
            "Epoch 186: training Loss: 256038.15625\n",
            "Epoch 187: training Loss: 255881.09375\n",
            "Epoch 188: training Loss: 255725.9375\n",
            "Epoch 189: training Loss: 255572.71875\n",
            "Epoch 190: training Loss: 255421.40625\n",
            "Epoch 191: training Loss: 255271.921875\n",
            "Epoch 192: training Loss: 255124.28125\n",
            "Epoch 193: training Loss: 254978.46875\n",
            "Epoch 194: training Loss: 254834.40625\n",
            "Epoch 195: training Loss: 254692.125\n",
            "Epoch 196: training Loss: 254551.53125\n",
            "Epoch 197: training Loss: 254412.65625\n",
            "Epoch 198: training Loss: 254275.4375\n",
            "Epoch 199: training Loss: 254139.84375\n",
            "Epoch 200: training Loss: 254005.90625\n",
            "Epoch 201: training Loss: 253873.53125\n",
            "Epoch 202: training Loss: 253742.75\n",
            "Epoch 203: training Loss: 253613.484375\n",
            "Epoch 204: training Loss: 253485.765625\n",
            "Epoch 205: training Loss: 253359.53125\n",
            "Epoch 206: training Loss: 253234.765625\n",
            "Epoch 207: training Loss: 253111.46875\n",
            "Epoch 208: training Loss: 252989.59375\n",
            "Epoch 209: training Loss: 252869.109375\n",
            "Epoch 210: training Loss: 252750.03125\n",
            "Epoch 211: training Loss: 252632.3125\n",
            "Epoch 212: training Loss: 252515.953125\n",
            "Epoch 213: training Loss: 252400.875\n",
            "Epoch 214: training Loss: 252287.125\n",
            "Epoch 215: training Loss: 252174.65625\n",
            "Epoch 216: training Loss: 252063.4375\n",
            "Epoch 217: training Loss: 251953.46875\n",
            "Epoch 218: training Loss: 251844.71875\n",
            "Epoch 219: training Loss: 251737.1875\n",
            "Epoch 220: training Loss: 251630.8125\n",
            "Epoch 221: training Loss: 251525.609375\n",
            "Epoch 222: training Loss: 251421.546875\n",
            "Epoch 223: training Loss: 251318.625\n",
            "Epoch 224: training Loss: 251216.8125\n",
            "Epoch 225: training Loss: 251116.078125\n",
            "Epoch 226: training Loss: 251016.4375\n",
            "Epoch 227: training Loss: 250917.84375\n",
            "Epoch 228: training Loss: 250820.28125\n",
            "Epoch 229: training Loss: 250723.75\n",
            "Epoch 230: training Loss: 250628.25\n",
            "Epoch 231: training Loss: 250533.71875\n",
            "Epoch 232: training Loss: 250440.1875\n",
            "Epoch 233: training Loss: 250347.59375\n",
            "Epoch 234: training Loss: 250255.9375\n",
            "Epoch 235: training Loss: 250165.21875\n",
            "Epoch 236: training Loss: 250075.4375\n",
            "Epoch 237: training Loss: 249986.546875\n",
            "Epoch 238: training Loss: 249898.546875\n",
            "Epoch 239: training Loss: 249811.421875\n",
            "Epoch 240: training Loss: 249725.125\n",
            "Epoch 241: training Loss: 249639.71875\n",
            "Epoch 242: training Loss: 249555.125\n",
            "Epoch 243: training Loss: 249471.34375\n",
            "Epoch 244: training Loss: 249388.375\n",
            "Epoch 245: training Loss: 249306.203125\n",
            "Epoch 246: training Loss: 249224.828125\n",
            "Epoch 247: training Loss: 249144.203125\n",
            "Epoch 248: training Loss: 249064.328125\n",
            "Epoch 249: training Loss: 248985.21875\n",
            "Epoch 250: training Loss: 248906.84375\n",
            "Epoch 251: training Loss: 248829.1875\n",
            "Epoch 252: training Loss: 248752.234375\n",
            "Epoch 253: training Loss: 248676.0\n",
            "Epoch 254: training Loss: 248600.4375\n",
            "Epoch 255: training Loss: 248525.5625\n",
            "Epoch 256: training Loss: 248451.375\n",
            "Epoch 257: training Loss: 248377.8125\n",
            "Epoch 258: training Loss: 248304.9375\n",
            "Epoch 259: training Loss: 248232.6875\n",
            "Epoch 260: training Loss: 248161.0625\n",
            "Epoch 261: training Loss: 248090.0625\n",
            "Epoch 262: training Loss: 248019.65625\n",
            "Epoch 263: training Loss: 247949.890625\n",
            "Epoch 264: training Loss: 247880.6875\n",
            "Epoch 265: training Loss: 247812.078125\n",
            "Epoch 266: training Loss: 247744.0625\n",
            "Epoch 267: training Loss: 247676.59375\n",
            "Epoch 268: training Loss: 247609.703125\n",
            "Epoch 269: training Loss: 247543.359375\n",
            "Epoch 270: training Loss: 247477.546875\n",
            "Epoch 271: training Loss: 247412.296875\n",
            "Epoch 272: training Loss: 247347.546875\n",
            "Epoch 273: training Loss: 247283.34375\n",
            "Epoch 274: training Loss: 247219.625\n",
            "Epoch 275: training Loss: 247156.4375\n",
            "Epoch 276: training Loss: 247093.75\n",
            "Epoch 277: training Loss: 247031.546875\n",
            "Epoch 278: training Loss: 246969.84375\n",
            "Epoch 279: training Loss: 246908.59375\n",
            "Epoch 280: training Loss: 246847.828125\n",
            "Epoch 281: training Loss: 246787.53125\n",
            "Epoch 282: training Loss: 246727.703125\n",
            "Epoch 283: training Loss: 246668.3125\n",
            "Epoch 284: training Loss: 246609.375\n",
            "Epoch 285: training Loss: 246550.890625\n",
            "Epoch 286: training Loss: 246492.84375\n",
            "Epoch 287: training Loss: 246435.21875\n",
            "Epoch 288: training Loss: 246378.0\n",
            "Epoch 289: training Loss: 246321.234375\n",
            "Epoch 290: training Loss: 246264.859375\n",
            "Epoch 291: training Loss: 246208.90625\n",
            "Epoch 292: training Loss: 246153.34375\n",
            "Epoch 293: training Loss: 246098.1875\n",
            "Epoch 294: training Loss: 246043.421875\n",
            "Epoch 295: training Loss: 245989.046875\n",
            "Epoch 296: training Loss: 245935.0625\n",
            "Epoch 297: training Loss: 245881.4375\n",
            "Epoch 298: training Loss: 245828.1875\n",
            "Epoch 299: training Loss: 245775.3125\n"
          ]
        }
      ],
      "source": [
        "# TEST\n",
        "losses, network = train_glove_vectors(vocab, X_weighted, X1)\n"
      ]
    },
    {
      "cell_type": "markdown",
      "metadata": {
        "id": "Roq7Ubklgel4"
      },
      "source": [
        "<font color=\"red\">**Don't clear the output of the above cell!**</font>"
      ]
    },
    {
      "cell_type": "code",
      "execution_count": 28,
      "metadata": {
        "id": "9n6RCKKbgel4",
        "nbgrader": {
          "grade": false,
          "grade_id": "len_losses",
          "locked": true,
          "schema_version": 3,
          "solution": false,
          "task": false
        },
        "tags": []
      },
      "outputs": [],
      "source": [
        "# TEST c6.1\n",
        "assert len(losses) == 300\n",
        "assert losses[0] > losses[-1]"
      ]
    },
    {
      "cell_type": "markdown",
      "metadata": {
        "id": "f3iCGDjDgel4"
      },
      "source": [
        "Plot the losses (x axis for epoch number and y axis for loss) and examine the learning curve. Ask yourself, is its shape what you would expect it to be?"
      ]
    },
    {
      "cell_type": "code",
      "execution_count": 29,
      "metadata": {
        "id": "emLdJBO_gel4",
        "nbgrader": {
          "grade": true,
          "grade_id": "plot",
          "locked": false,
          "points": 1,
          "schema_version": 3,
          "solution": true,
          "task": false
        },
        "tags": []
      },
      "outputs": [
        {
          "data": {
            "image/png": "[encoded data removed]",
            "text/plain": [
              "<Figure size 640x480 with 1 Axes>"
            ]
          },
          "metadata": {},
          "output_type": "display_data"
        }
      ],
      "source": [
        "# @title c6.2 [0pt]\n",
        "\n",
        "plt.plot(losses,color='red')\n",
        "plt.title(\"Loss over training\")\n",
        "plt.xlabel(\"Epoch\")\n",
        "plt.ylabel(\"Loss\")\n",
        "plt.show()\n"
      ]
    },
    {
      "cell_type": "markdown",
      "metadata": {
        "id": "4pM9LESdgel4"
      },
      "source": [
        "<font color=\"red\">**Don't clear the output of the above cell!**</font>"
      ]
    },
    {
      "cell_type": "markdown",
      "metadata": {
        "id": "Uqu-EFqGgel4"
      },
      "source": [
        "### Validation (Similarity)\n",
        "\n",
        "Curious to see what this network has learned? Let's perform a simple validation experiment.\n",
        "\n",
        "We will check which words the model considers the most similar to other words. To that end, we need a notion of __similarity__. One of the most common measures of similarity in high-dimensional vector spaces is the cosine similarity.\n",
        "\n",
        "The cosine similarity of two vectors $\\vec{a}, \\vec{b}$ is given as:\n",
        "$$sim(\\vec{a}, \\vec{b}) = \\frac{\\vec{a}\\cdot \\vec{b}}{|\\vec{a}|_2 \\cdot |\\vec{b}|_2}$$\n",
        "\n",
        "where $|\\vec{x}|_2$ is the $L_2$-norm of the $\\vec{x}$.\n",
        "\n",
        "The function `similarity` below accepts two words, a vocabulary and the network's output vectors, and computes the similarity between these two words. For an outside-vocabulary word similarity is 0."
      ]
    },
    {
      "cell_type": "code",
      "execution_count": 30,
      "metadata": {
        "id": "HnFdO_3wgel5",
        "nbgrader": {
          "grade": false,
          "grade_id": "cell-ab85deea538994af",
          "locked": true,
          "schema_version": 3,
          "solution": false,
          "task": false
        },
        "tags": []
      },
      "outputs": [],
      "source": [
        "def similarity(word_i: str, word_j: str, vocab: Dict[str, int], vectors: FloatTensor) -> float:\n",
        "    if not(word_i in vocab and word_i in vocab): return 0.\n",
        "    i, j = vocab[word_i], vocab[word_j]\n",
        "    v_i = vectors[i] / torch.linalg.vector_norm(vectors[i])  # a/|a|\n",
        "    v_j = vectors[j] / torch.linalg.vector_norm(vectors[j])  # b/|b|\n",
        "    sim = torch.dot(v_i, v_j)\n",
        "    return sim"
      ]
    },
    {
      "cell_type": "markdown",
      "metadata": {
        "id": "REXzC6nzgel5"
      },
      "source": [
        "Let's check out some examples. Consider the word pairs below and, optionally, add your own word pairs if it helps to support your answer:"
      ]
    },
    {
      "cell_type": "code",
      "execution_count": 31,
      "metadata": {
        "id": "AQ8W10bOgel5",
        "nbgrader": {
          "grade": true,
          "grade_id": "similarity_sandbox",
          "locked": false,
          "points": 0,
          "schema_version": 3,
          "solution": true,
          "task": false
        },
        "tags": []
      },
      "outputs": [
        {
          "name": "stdout",
          "output_type": "stream",
          "text": [
            "Similarity between 'cruciatus' and 'imperius' is: 0.5572267770767212\n",
            "Similarity between 'avada' and 'kedavra' is: 0.7137672901153564\n",
            "Similarity between 'hogwarts' and 'school' is: 0.6364777088165283\n",
            "Similarity between 'goblin' and 'hagrid' is: 0.10509191453456879\n",
            "Similarity between 'giant' and 'hagrid' is: 0.6429957151412964\n",
            "Similarity between 'red' and 'ice' is: 0.227581188082695\n",
            "Similarity between 'ice' and 'ice' is: 1.0\n",
            "Similarity between 'ice' and 'snow' is: 0.3064606189727783\n",
            "Similarity between 'blade' and 'sword' is: 0.0\n",
            "Similarity between 'wand' and 'magic' is: 0.17227309942245483\n",
            "Similarity between 'expecto' and 'patronum' is: 0.7809162139892578\n",
            "Similarity between 'bird' and 'owl' is: 0.1517755091190338\n"
          ]
        }
      ],
      "source": [
        "word_vectors = network.get_vectors().detach()\n",
        "\n",
        "for pair in [\n",
        "    (\"cruciatus\", \"imperius\"),\n",
        "    (\"avada\", \"kedavra\"),\n",
        "    (\"hogwarts\", \"school\"),\n",
        "    (\"goblin\", \"hagrid\"),\n",
        "    (\"giant\", \"hagrid\"),\n",
        "    (\"red\", \"ice\"),\n",
        "    (\"ice\", \"ice\"),\n",
        "    (\"ice\", \"snow\"),\n",
        "    (\"blade\", \"sword\"),\n",
        "    (\"wand\", \"magic\"),\n",
        "    (\"expecto\", \"patronum\"),\n",
        "    (\"bird\", \"owl\"),     \n",
        "]:\n",
        "    print(f\"Similarity between '{pair[0]}' and '{pair[1]}' is: {similarity(pair[0], pair[1], vocab, word_vectors)}\")"
      ]
    },
    {
      "cell_type": "markdown",
      "metadata": {
        "id": "2Oh6nme_gel5"
      },
      "source": [
        "#### i3 [2pt]\n",
        "Give an interpretation of the results. Do the scores correspond well to your perceived similarity of these word pairs?"
      ]
    },
    {
      "cell_type": "markdown",
      "metadata": {
        "id": "hJjjY4PEgel5",
        "nbgrader": {
          "grade": true,
          "grade_id": "Interpretation3",
          "locked": false,
          "points": 1,
          "schema_version": 3,
          "solution": true,
          "task": false
        },
        "tags": []
      },
      "source": [
        "**ANSWER**: <font color=\"red\">YOUR ANSWER HERE</font>\n",
        "\n",
        "Yes, the results for word similarity calculations mostly make sense per our preconceived word similarities. However, given the unique word corpus of HP books there are some unexpected results.\n",
        "\n",
        "Our group watched the film series of Harry Potter years ago, but we did not read the books at all. The high cosine similarites of spell name parts make sense, since spell name parts are related to each other such as 'avada kedavra' or 'expecto patronum'. Also, Hagrid in film series looks like a giant, so 'giant' and 'hagrid' word pairs has high similarity. On the other hand, when we tried other word pairs like 'bird' and 'owl', the similarity rate of 'bird' and 'owl' were lower than we expected. This could have been due to harry potter's word corpus, it resulted in low similarity scores that should normally been higher than 0.15 per our preconceived word understaning. Especially 'blade' and 'sword' word pair, we got 0 cosine similarity, but this word pair should have a similarity which shows word corpus of harry potter is not enough to perceive some word pairs similarities. This one makes more sense since HP does not contain any significant sword play which resulted in these words beeing out of distribution.   "
      ]
    },
    {
      "cell_type": "markdown",
      "metadata": {
        "id": "MyaWr70ygel5"
      },
      "source": [
        "To obtain the similarities of one word against all other words in the corpus, use torch functions and follow the equation ($\\vec{c}_i$ is $i$th row of $\\mathbf{C}$):\n",
        "$$sim(\\vec{w}, \\mathbf{C}) = \\frac{\\vec{w}\\cdot \\mathbf{C}}{|\\vec{w}|_2 \\cdot |\\mathbf{C}|_2} = \\Big(\\frac{\\vec{w}\\cdot \\vec{c}_1}{|\\vec{w}|_2 \\cdot |\\vec{c}_1|_2},\\ldots,\\frac{\\vec{w}\\cdot \\vec{c}_N}{|\\vec{w}|_2 \\cdot |\\vec{c}_N|_2}\\Big)$$\n",
        "\n",
        "Using `similarity` as a reference, write `similarities`, which accepts one word, a vocabulary and the network's output vectors and computes the similarity between the word and the entire corpus. **If a word is out of vocabulary, it should return a matrix of 0 similarities.**\n",
        "\n",
        "_Hint_: $\\mathbf{C} \\in \\mathbb{R}^{N, D}$, $\\vec{w} \\in \\mathbb{R}^{1, D}$, $sim(\\vec{w}, \\mathbf{C}) \\in \\mathbb{R}^{1, N}$"
      ]
    },
    {
      "cell_type": "code",
      "execution_count": 32,
      "metadata": {
        "id": "O_9TvkOBgel5",
        "nbgrader": {
          "grade": true,
          "grade_id": "similarities",
          "locked": false,
          "points": 1,
          "schema_version": 3,
          "solution": true,
          "task": false
        },
        "tags": []
      },
      "outputs": [],
      "source": [
        "# @title c7 [4pt]\n",
        "def similarities(word_i: str, vocab: Dict[str, int], vectors: FloatTensor) -> FloatTensor:\n",
        "    # use torch functions. Don't iterate over rows of vectors matrix!\n",
        "    if not(word_i in vocab): return torch.zeros(len(vocab)).unsqueeze(0)\n",
        "    i = vocab[word_i]\n",
        "    v_i = vectors[i] / torch.linalg.vector_norm(vectors[i])  # a/|a|\n",
        "    sims = torch.mv(vectors, v_i)  # dot product of each row with v_i\n",
        "    return sims.unsqueeze(0).to(\"cpu\")"
      ]
    },
    {
      "cell_type": "code",
      "execution_count": 33,
      "metadata": {
        "id": "Hv37utYPZ3nQ"
      },
      "outputs": [
        {
          "data": {
            "text/plain": [
              "tensor([[1, 2, 3, 4]])"
            ]
          },
          "execution_count": 33,
          "metadata": {},
          "output_type": "execute_result"
        }
      ],
      "source": [
        "torch.tensor([1, 2, 3, 4]).unsqueeze(0)"
      ]
    },
    {
      "cell_type": "code",
      "execution_count": 34,
      "metadata": {
        "id": "ctJObbzAgel5",
        "nbgrader": {
          "grade": false,
          "grade_id": "cell-74c0c2f09dccce6c",
          "locked": true,
          "schema_version": 3,
          "solution": false,
          "task": false
        },
        "tags": []
      },
      "outputs": [],
      "source": [
        "# TEST c7a\n",
        "assert similarities('harry', vocab, word_vectors).shape == torch.Size([1, len(vocab)])\n",
        "assert similarities('cow', vocab, word_vectors).shape == torch.Size([1, len(vocab)])"
      ]
    },
    {
      "cell_type": "markdown",
      "metadata": {
        "id": "-7AaywkIgel6"
      },
      "source": [
        "Now we can manipulate the word vectors to find out what the corpus-wide most similar words to a query word are!"
      ]
    },
    {
      "cell_type": "code",
      "execution_count": 35,
      "metadata": {
        "id": "FTThuWx1gel6",
        "nbgrader": {
          "grade": false,
          "grade_id": "cell-b702f18eb2920639",
          "locked": true,
          "schema_version": 3,
          "solution": false,
          "task": false
        },
        "tags": []
      },
      "outputs": [],
      "source": [
        "def most_similar(word_i: str, vocab: Dict[str, int], vectors: FloatTensor, k: int) -> List[str]:\n",
        "    \"\"\" Returns a list of k words that are most similar to word_i\n",
        "        The list excludes word_i itself\n",
        "    \"\"\"\n",
        "    sims = similarities(word_i, vocab, vectors)\n",
        "    _, topi = sims.topk(dim=-1, k=k+1)\n",
        "    topi = topi.view(-1).cpu().numpy().tolist()\n",
        "    inv = {v: i for i, v in vocab.items()}\n",
        "    return [inv[i] for i in topi if inv[i] != word_i][:k]"
      ]
    },
    {
      "cell_type": "code",
      "execution_count": 36,
      "metadata": {
        "id": "1uZL5j6qgel6",
        "nbgrader": {
          "grade": false,
          "grade_id": "cell-de27a6b9963f32ac",
          "locked": true,
          "schema_version": 3,
          "solution": false,
          "task": false
        },
        "tags": []
      },
      "outputs": [
        {
          "name": "stdout",
          "output_type": "stream",
          "text": [
            "Most similar words to 'forbidden': ['ahead', 'hagrid', 'windows', 'forest', 'centaurs', 'icy']\n",
            "Most similar words to 'myrtle': ['bathroom', 'toilet', 'moaning', 'kreacher', 'pomfrey', 'wing']\n",
            "Most similar words to 'gryffindor': ['team', 'clock', 'slytherin', 'common', 'points', 'match']\n",
            "Most similar words to 'wand': ['harry', 'back', 'ollivander', 'elder', 'know', 'expelliarmus']\n",
            "Most similar words to 'quidditch': ['team', 'match', 'wood', 'training', 'oliver', 'angelina']\n",
            "Most similar words to 'marauder': ['map', 'goyle', 'lift', 'filch', 'pocket', 'office']\n",
            "Most similar words to 'horcrux': ['griphook', 'sword', 'hallows', 'horcruxes', 'deathly', 'wormtail']\n",
            "Most similar words to 'phoenix': ['fawkes', 'wormtail', 'archway', 'innocent', 'clunk', 'grindelwald']\n",
            "Most similar words to 'triwizard': ['tournament', 'winky', 'bagman', 'maze', 'amos', 'durmstrang']\n",
            "Most similar words to 'screaming': ['pettigrew', 'kreacher', 'giggling', 'lynch', 'darkness', 'run']\n",
            "Most similar words to 'letter': ['envelope', 'cage', 'paper', 'owl', 'hedwig', 'writing']\n"
          ]
        }
      ],
      "source": [
        "# TEST c7b\n",
        "for word in [\n",
        "    \"forbidden\", \"myrtle\", \"gryffindor\", \"wand\", \"quidditch\", \"marauder\",\n",
        "    \"horcrux\", \"phoenix\", \"triwizard\", \"screaming\", \"letter\"\n",
        "]:\n",
        "    print(f\"Most similar words to '{word}': {most_similar(word, vocab, word_vectors, 6)}\")"
      ]
    },
    {
      "cell_type": "markdown",
      "metadata": {
        "id": "7DXkuHiogel6"
      },
      "source": [
        "#### i4 [3pt]\n",
        "\n",
        "Interpret the results in the context of Harry Potter books.\n",
        "- Do these most similar words make sense (are they actually similar to the query words)?\n",
        "- Are there any patterns you can see in the \"errors\" (the words that you wouldn't consider actually similar to the query word in general, in everyday life)?\n",
        "- Which examples are instances of similarity (if any) and relatedness (if any)?\n",
        "- Any other observations are welcome.\n",
        "\n",
        "Illustrate your answers with examples from your model's output."
      ]
    },
    {
      "cell_type": "markdown",
      "metadata": {
        "id": "kBR7DEz_gel7",
        "nbgrader": {
          "grade": true,
          "grade_id": "Interpretation4",
          "locked": false,
          "points": 1,
          "schema_version": 3,
          "solution": true,
          "task": false
        },
        "tags": []
      },
      "source": [
        "**ANSWER**: <font color=\"red\">YOUR ANSWER HERE</font>\n",
        "\n",
        "Yes, these similarities mostly make sense. Especially, the words letter and its results  ['envelope', 'cage', 'paper', 'owl', 'hedwig', 'writing'] is a great example of this method resulting in in encapsulation of similarities in the vector space. This word results in a lot of related words as well however the word with highest score is literally a synonym of the input word.  However, other words such as quidditch result in related words instead of similar words. This could be due to quidditch not having a similar word in the HP books. If our corpus contained more words form the real life we would expect a sport like tennis resulting in a high similarity like a sport like badminton or table tennis. This does mean the world of HP  does not have another sport like quidditch.\n",
        "\n",
        "The word horcrux resulted in horcruxes which is literally the plural form of the input word. However, it not being the word with the highest similarity was unexpected. Furthermore, the word with the highest similarity being griphook who is a goblin working in a bank was more baffling as well.  This might  be a result of our embedding dimensions being constrained significantly. \n",
        "\n",
        "The errors of this method have mostly a common  pattern where instead of finding words which are similar in general it results in words which are used together with each other. For example forbidden resulting in words like 'ahead', 'forest'  are not similar in meaning. This corpus probably contains phrasing such as forbidden forest   ahead which made our embedding model embed them close to each other.  \n",
        "\n"
      ]
    },
    {
      "cell_type": "markdown",
      "metadata": {
        "id": "cdp1FSNbgel8"
      },
      "source": [
        "Overall it's quite impressive; we managed to encode a meaningful portion of the corpus statistics in only $30$ numbers per word!\n",
        "(A compression ratio of >99%)\n",
        "\n",
        "<div class=\"alert alert-block alert-info\">\n",
        "<b>Note:</b> The word vectors obtained by this process are (to a small extent) random, due to the random initialization of the embedding layers. If you are unhappy with your results, you can repeat the experiment a few times or try to toy around with the hyper-parameters (the smoothing factor of ${X}$, $x_{max}$, $\\alpha$, the number of epochs and the dimensionality of the vector space). But do this as your own experiments outside the submission file.\n",
        "</div>\n",
        "\n",
        "Word vectors, however, contain way more information than just word co-occurrence statistics. Hold tight until the next assignment, where we will see how word vectors may be used to infer information spanning entire phrases and sentences."
      ]
    },
    {
      "cell_type": "markdown",
      "metadata": {
        "id": "eypgbwmMgel8"
      },
      "source": [
        "### Validation (Word Analogies)\n",
        "\n",
        "From the paper:\n",
        "> The word analogy task consists of questions like \"$a$ is to $b$ as $c$ is to __?\" To correctly answer this question, we must find the word $d$ such that $w_d \\approx w_b - w_a + w_c$ according to the cosine similarity.\n",
        "\n",
        "Write your own function that performs the word analogy task.  \n",
        "In addition to the standard approximation $w_d \\approx w_b - w_a + w_c$, implement another non-standard but intuitive approximation where we are searching $w_d$ that maximizes the following similarity $w_a - w_b \\approx w_c - w_d$.  \n",
        "Let's see which criteria will give the best results, or maybe both give the same results.    \n",
        "\n",
        "_Hint_: Take a look at the code a few cells back. Most of what you need is already there."
      ]
    },
    {
      "cell_type": "code",
      "execution_count": 37,
      "metadata": {},
      "outputs": [],
      "source": [
        "for word in [\n",
        "    \"queen\", \"king\", \"man\", \"woman\"\n",
        "]:\n",
        "    print(f\"Most similar words to '{word}': {most_similar(word, vocab, word_vectors, 6)}\")"
      ]
    },
    {
      "cell_type": "code",
      "execution_count": 38,
      "metadata": {
        "id": "RDNEXZL2gel8",
        "nbgrader": {
          "grade": true,
          "grade_id": "analogy",
          "locked": false,
          "points": 1,
          "schema_version": 3,
          "solution": true,
          "task": false
        },
        "tags": []
      },
      "outputs": [
        {
          "name": "stdout",
          "output_type": "stream",
          "text": [
            "['disappeared', 'without', 'works', 'magic', 'catching']\n"
          ]
        }
      ],
      "source": [
        "# @title c8 [6pt]\n",
        "def analogy(\n",
        "    word_a: str, word_b: str, word_c: str, vocab: Dict[str, int],\n",
        "    vectors: FloatTensor, k: int=5, standard: bool=True\n",
        ") -> List[str]:\n",
        "    \"\"\" Return a list of k words whose vectors are most similar to the solution vector of the analogy.\n",
        "        The first element means the most similar, followed by the rest in decreasing similarity.\n",
        "        word_a, word_b, and word_c are never returned as a part of the list.\n",
        "        param standard=True uses the standard approximation equation, =False uses the alternative one.\n",
        "    \"\"\"\n",
        "    vec_a = vectors[vocab[word_a]]\n",
        "    vec_b = vectors[vocab[word_b]]\n",
        "    vec_c = vectors[vocab[word_c]]\n",
        "    \n",
        "    if standard:\n",
        "        vec_d = vec_b - vec_a + vec_c\n",
        "    else:\n",
        "        vec_d = (vec_c @ vec_b) / vec_a\n",
        "      \n",
        "      \n",
        "    cos_sim = torch.torch.nn.functional.cosine_similarity(vectors, vec_d.unsqueeze(0), dim=1)\n",
        "    _, top_di = cos_sim.topk(k=k+3, dim=-1)\n",
        "    \n",
        "    top_di = top_di.view(-1).cpu().numpy().tolist()\n",
        "    inv = {v: i for i, v in vocab.items()}\n",
        "    return [inv[i] for i in top_di if inv[i] not in {word_a, word_b, word_c}][:k]\n",
        "\n",
        "\n",
        "print(analogy(\"mom\", \"dad\", \"female\", vocab, word_vectors, 5, True ) )"
      ]
    },
    {
      "cell_type": "markdown",
      "metadata": {
        "id": "6m9PcG8jgel8"
      },
      "source": [
        "Some example triplets to test your analogies on:"
      ]
    },
    {
      "cell_type": "code",
      "execution_count": 42,
      "metadata": {
        "id": "TFkCHKT_gel8",
        "nbgrader": {
          "grade": false,
          "grade_id": "cell-3f0e833f60eafb32",
          "locked": true,
          "schema_version": 3,
          "solution": false,
          "task": false
        },
        "tags": []
      },
      "outputs": [
        {
          "name": "stdout",
          "output_type": "stream",
          "text": [
            "Mode: d ~ c - a + b\n",
            "     padma       is to     parvati      as       fred       is to\t['see', 'want', 'got', 'something', 'get']\n",
            "     avada       is to     kedavra      as     expecto      is to\t['patronum', 'stag', 'dementor', 'concentrating', 'breath']\n",
            "    dungeon      is to    slytherin     as      tower       is to\t['excitement', 'break', 'fighting', 'hogwarts', 'playing']\n",
            "    scabbers     is to       ron        as      hedwig      is to\t['walked', 'later', 'left', 'back', 'already']\n",
            "      ron        is to      molly       as      draco       is to\t['thicknesse', 'narcissa', 'cousin', 'husband', 'snarled']\n",
            "   durmstrang    is to      viktor      as   beauxbatons    is to\t['mouthed', 'cho', 'smiled', 'krum', 'settled']\n",
            "     snape       is to     potions      as    trelawney     is to\t['divination', 'chart', 'clipboard', 'subjects', 'sprout']\n",
            "     harry       is to      seeker      as       ron        is to\t['teams', 'ball', 'scored', 'chaser', 'ireland']\n",
            "     snape       is to      harry       as     severus      is to\t['said', 'looked', 'know', 'one', 'look']\n",
            "     harry       is to      malfoy      as      potter      is to\t['cruciatus', 'taught', 'trusts', 'son', 'pretend']\n",
            "\n",
            "Mode: a - b ~ c - d\n",
            "     padma       is to     parvati      as       fred       is to\t['forgot', 'piers', 'dudley', 'telephone', 'swore']\n",
            "     avada       is to     kedavra      as     expecto      is to\t['frowning', 'headmaster', 'secrets', 'binding', 'concern']\n",
            "    dungeon      is to    slytherin     as      tower       is to\t['moody', 'fixed', 'clunk', 'flask', 'potion']\n",
            "    scabbers     is to       ron        as      hedwig      is to\t['wet', 'low', 'breath', 'insides', 'swelled']\n",
            "      ron        is to      molly       as      draco       is to\t['died', 'cruciatus', 'ran', 'job', 'holiday']\n",
            "   durmstrang    is to      viktor      as   beauxbatons    is to\t['guard', 'shake', 'yards', 'control', 'minister']\n",
            "     snape       is to     potions      as    trelawney     is to\t['nice', 'checking', 'cross', 'grunted', 'anyway']\n",
            "     harry       is to      seeker      as       ron        is to\t['bird', 'immediately', 'unknown', 'pillow', 'unexpected']\n",
            "     snape       is to      harry       as     severus      is to\t['nice', 'checking', 'cross', 'grunted', 'anyway']\n",
            "     harry       is to      malfoy      as      potter      is to\t['bird', 'immediately', 'unknown', 'pillow', 'unexpected']\n"
          ]
        }
      ],
      "source": [
        "# TEST c8\n",
        "triplets = [(\"padma\", \"parvati\", \"fred\"),\n",
        "            (\"avada\", \"kedavra\", \"expecto\"),\n",
        "            (\"dungeon\", \"slytherin\", \"tower\"),\n",
        "            (\"scabbers\", \"ron\", \"hedwig\"),\n",
        "            (\"ron\", \"molly\", \"draco\"),\n",
        "            (\"durmstrang\", \"viktor\", \"beauxbatons\"),\n",
        "            (\"snape\", \"potions\", \"trelawney\"),\n",
        "            (\"harry\", \"seeker\", \"ron\"),\n",
        "            \n",
        "            # ---------------------\n",
        "            # YOUR CODE HERE (3 examples)\n",
        "            (\"harry\", \"snape\", \"potter\"),\n",
        "            (\"harry\", \"malfoy\", \"potter\"),\n",
        "            # (\"mom\", \"father\", \"man\"),\n",
        "            # (\"niece\", \"nephew\", \"daughter\"),\n",
        "           ]\n",
        "\n",
        "print(\"Mode: d ~ c - a + b\")\n",
        "for a, b, c in triplets:\n",
        "    print(\"{:^16} is to {:^16} as {:^16} is to\\t{}\".format(a, b, c, analogy(a, b, c, vocab, word_vectors, 5, standard=True)))\n",
        "\n",
        "print(\"\\nMode: a - b ~ c - d\")\n",
        "for a, b, c in triplets:\n",
        "    print(\"{:^16} is to {:^16} as {:^16} is to\\t{}\".format(a, b, c, analogy(a, b, c, vocab, word_vectors, 5, standard=False)))"
      ]
    },
    {
      "cell_type": "markdown",
      "metadata": {
        "id": "NOUQSblcgel9"
      },
      "source": [
        "Some minimal emergent intelligence :) *(hopefully..)*. 🧙‍♀️"
      ]
    },
    {
      "cell_type": "markdown",
      "metadata": {
        "id": "v_V5ITEpgel9"
      },
      "source": [
        "#### i5 [3pt]\n",
        "\n",
        "Which analogy equation did give the best results for the provided analogy samples?  \n",
        "\n",
        "Come up with three additional analogies in the context of Harry Potter.\n",
        "Add them to the list of analogies in the code above and run the analogy computation.\n",
        "\n",
        "Interpret the results of the best performing analogy equation (if any):\n",
        "- For which analogies did the model manage to guess the correct answers (taking the first word in the output to be the model's \"guess\")?\n",
        "- For which analogies are the correct answers present in the top K words?\n",
        "- Do you see any patterns in the cases when the model didn't solve the task correctly? In other words, when the model's guess was wrong, can you suggest why the model guessed what it guessed?"
      ]
    },
    {
      "cell_type": "markdown",
      "metadata": {
        "id": "SKvYAag0gel9",
        "nbgrader": {
          "grade": true,
          "grade_id": "Interpretation5",
          "locked": false,
          "points": 1,
          "schema_version": 3,
          "solution": true,
          "task": false
        },
        "tags": []
      },
      "source": [
        "**ANSWER**: <font color=\"red\">YOUR ANSWER HERE</font>"
      ]
    },
    {
      "cell_type": "markdown",
      "metadata": {
        "id": "s0ne6B-pqDcW"
      },
      "source": [
        "## Counting co-occurrences\n",
        "\n",
        "In the beginning of the notebook you were provided with a pickle of co-occurrence counts. But how were these counts obtained? You will find this out when you complete this exercise.  \n",
        "\n",
        "First, we obtain the plain text corpus of the Harry Potter book series and place the book files in the current directory."
      ]
    },
    {
      "cell_type": "code",
      "execution_count": 57,
      "metadata": {
        "id": "uXyAJQ3Zvffu"
      },
      "outputs": [],
      "source": [
        "!git clone https://github.com/ErikaJacobs/Harry-Potter-Text-Mining.git"
      ]
    },
    {
      "cell_type": "code",
      "execution_count": 40,
      "metadata": {
        "id": "4GHUKmaywCYt"
      },
      "outputs": [],
      "source": [
        "#!cp Harry-Potter-Text-Mining/Book\\ Text/* ."
      ]
    },
    {
      "cell_type": "markdown",
      "metadata": {
        "id": "QordGEyDXE35"
      },
      "source": [
        "In research, it is relatively common that papers don't include all necessary details for replicating the experiments. This is often due to the lack of space in the paper, overlooking certain details, or simply a bad practice.\n",
        "\n",
        "We will give you several hints on how the co-occurrence matrix was obtained. With the hints and the provided data in the pickle file, you should be able to replicate the exact content of the co-occurrence matrix from the pickle. Here are the hints:\n",
        "\n",
        "1.   Tokenization of the data was done in a shallow but effective way: replace all punctuations with white space and delimit tokens with a sequence of white spaces;\n",
        "2.   Standard libraries (!) were used for identifying punctuations and stopwords;\n",
        "3.   Context windows are symmetric and don't span across chapters (i.e., the last word of chapter $N$ is not co-occuring with the first word of chapter $N+1$).\n",
        "4.   The vocabulary was obtained based on the frequency cutoff.\n",
        "\n",
        "To replicate the co-occurrence counts, complete the function below. Then use it to find out the exact values of `cutoff` and `window_size` that result in the co-occurrence counts identical to the provided ones. No need to provide the code for finding the exact values. Just use them in the next TEST code cell.\n",
        "\n",
        "Feel free to import any standard python library. Use the same cell code for importing libraries and defining auxiliary functions (if any).\n",
        "The code will be evaluated not only on the correctness of the output but also on efficiency. It should be able to extract the counts and create the tensor in less than a minute (in the colab environment)."
      ]
    },
    {
      "cell_type": "code",
      "execution_count": 40,
      "metadata": {},
      "outputs": [
        {
          "name": "stdout",
          "output_type": "stream",
          "text": [
            "torch.Size([4298, 4298])\n"
          ]
        }
      ],
      "source": [
        "print(X1.shape)"
      ]
    },
    {
      "cell_type": "code",
      "execution_count": 41,
      "metadata": {
        "id": "qwE8faHMwqwU"
      },
      "outputs": [
        {
          "name": "stderr",
          "output_type": "stream",
          "text": [
            "[nltk_data] Downloading package stopwords to\n",
            "[nltk_data]     C:\\Users\\cemka\\AppData\\Roaming\\nltk_data...\n",
            "[nltk_data]   Package stopwords is already up-to-date!\n"
          ]
        },
        {
          "name": "stdout",
          "output_type": "stream",
          "text": [
            "Number of unique words after cutoff: 4298\n",
            "Vocabulary: {'1': 0, 'aback': 1, 'abandoned': 2, 'abbott': 3, 'aberforth': 4, 'ability': 5, 'able': 6, 'abou': 7, 'abruptly': 8, 'absence': 9, 'absolutely': 10, 'accept': 11, 'accepted': 12, 'accident': 13, 'accidentally': 14, 'accidents': 15, 'accio': 16, 'accompanied': 17, 'according': 18, 'account': 19, 'achieved': 20, 'aching': 21, 'across': 22, 'act': 23, 'acted': 24, 'acting': 25, 'action': 26, 'actually': 27, 'add': 28, 'added': 29, 'adding': 30, 'address': 31, 'addressed': 32, 'admit': 33, 'admitted': 34, 'advanced': 35, 'advancing': 36, 'advantage': 37, 'adventure': 38, 'advice': 39, 'advised': 40, 'afford': 41, 'afraid': 42, 'afternoon': 43, 'afterward': 44, 'age': 45, 'aged': 46, 'ages': 47, 'ago': 48, 'agony': 49, 'agree': 50, 'agreed': 51, 'ah': 52, 'ahead': 53, 'aid': 54, 'aim': 55, 'aimed': 56, 'aiming': 57, 'air': 58, 'aisle': 59, 'ajar': 60, 'alarm': 61, 'alarmed': 62, 'albus': 63, 'alecto': 64, 'alert': 65, 'alicia': 66, 'alive': 67, 'alley': 68, 'alleyway': 69, 'allow': 70, 'allowed': 71, 'allowing': 72, 'almost': 73, 'alone': 74, 'along': 75, 'alongside': 76, 'aloud': 77, 'already': 78, 'also': 79, 'although': 80, 'always': 81, 'amazed': 82, 'amazement': 83, 'amazing': 84, 'ambition': 85, 'among': 86, 'amongst': 87, 'amos': 88, 'amount': 89, 'amused': 90, 'amusing': 91, 'amycus': 92, 'ancient': 93, 'angelina': 94, 'anger': 95, 'angle': 96, 'angrily': 97, 'angry': 98, 'animagus': 99, 'animal': 100, 'animals': 101, 'ankle': 102, 'ankles': 103, 'announced': 104, 'annoyed': 105, 'another': 106, 'answer': 107, 'answered': 108, 'answering': 109, 'answers': 110, 'anti': 111, 'antidote': 112, 'antidotes': 113, 'anxious': 114, 'anxiously': 115, 'anybody': 116, 'anymore': 117, 'anyone': 118, 'anythin': 119, 'anything': 120, 'anyway': 121, 'anywhere': 122, 'apart': 123, 'appalled': 124, 'apparate': 125, 'apparently': 126, 'apparition': 127, 'appear': 128, 'appearance': 129, 'appeared': 130, 'appearing': 131, 'applause': 132, 'appointment': 133, 'appreciate': 134, 'apprehensive': 135, 'approach': 136, 'approached': 137, 'approaching': 138, 'approval': 139, 'aragog': 140, 'archway': 141, 'area': 142, 'argue': 143, 'arguing': 144, 'argument': 145, 'argus': 146, 'ariana': 147, 'arithmancy': 148, 'arm': 149, 'armchair': 150, 'armchairs': 151, 'armed': 152, 'armor': 153, 'arms': 154, 'army': 155, 'around': 156, 'arranged': 157, 'arrested': 158, 'arrival': 159, 'arrive': 160, 'arrived': 161, 'arriving': 162, 'arrogant': 163, 'arry': 164, 'arthur': 165, 'article': 166, 'arts': 167, 'ashamed': 168, 'aside': 169, 'ask': 170, 'asked': 171, 'asking': 172, 'asleep': 173, 'assistant': 174, 'assume': 175, 'assure': 176, 'assured': 177, 'astonished': 178, 'astonishment': 179, 'astronomy': 180, 'ate': 181, 'atmosphere': 182, 'atrium': 183, 'attached': 184, 'attack': 185, 'attacked': 186, 'attacking': 187, 'attacks': 188, 'attempt': 189, 'attempted': 190, 'attempting': 191, 'attempts': 192, 'attend': 193, 'attention': 194, 'attitude': 195, 'august': 196, 'aunt': 197, 'auntie': 198, 'auror': 199, 'aurors': 200, 'authority': 201, 'automatically': 202, 'avada': 203, 'ave': 204, 'avery': 205, 'avoid': 206, 'avoided': 207, 'avoiding': 208, 'awake': 209, 'award': 210, 'aware': 211, 'away': 212, 'awful': 213, 'awkward': 214, 'awkwardly': 215, 'awoke': 216, 'azkaban': 217, 'b': 218, 'baby': 219, 'back': 220, 'backed': 221, 'backing': 222, 'backs': 223, 'backward': 224, 'backwards': 225, 'bacon': 226, 'bad': 227, 'badge': 228, 'badges': 229, 'badly': 230, 'bag': 231, 'bagman': 232, 'bags': 233, 'bagshot': 234, 'bald': 235, 'balding': 236, 'ball': 237, 'balls': 238, 'bane': 239, 'bang': 240, 'banged': 241, 'banging': 242, 'bangs': 243, 'bank': 244, 'banned': 245, 'bar': 246, 'bare': 247, 'barely': 248, 'barked': 249, 'barman': 250, 'barn': 251, 'baron': 252, 'barrier': 253, 'bars': 254, 'barty': 255, 'basilisk': 256, 'basin': 257, 'basket': 258, 'bat': 259, 'bath': 260, 'bathilda': 261, 'bathroom': 262, 'bats': 263, 'battered': 264, 'battle': 265, 'beaded': 266, 'beak': 267, 'beam': 268, 'beamed': 269, 'beaming': 270, 'beans': 271, 'bear': 272, 'beard': 273, 'bearded': 274, 'bearing': 275, 'beast': 276, 'beat': 277, 'beaten': 278, 'beaters': 279, 'beating': 280, 'beautiful': 281, 'beauxbatons': 282, 'became': 283, 'beckoned': 284, 'become': 285, 'becoming': 286, 'bed': 287, 'bedroom': 288, 'beds': 289, 'bedside': 290, 'beedle': 291, 'beetle': 292, 'beg': 293, 'began': 294, 'begin': 295, 'beginning': 296, 'begun': 297, 'behavior': 298, 'behind': 299, 'believe': 300, 'believed': 301, 'believes': 302, 'believing': 303, 'bell': 304, 'bellatrix': 305, 'bellowed': 306, 'belong': 307, 'belonged': 308, 'belongs': 309, 'bench': 310, 'benches': 311, 'bend': 312, 'bending': 313, 'beneath': 314, 'bent': 315, 'bertha': 316, 'beside': 317, 'best': 318, 'bet': 319, 'betrayed': 320, 'better': 321, 'bewildered': 322, 'bewitched': 323, 'beyond': 324, 'bezoar': 325, 'big': 326, 'bigger': 327, 'biggest': 328, 'bike': 329, 'bill': 330, 'billowing': 331, 'bin': 332, 'binding': 333, 'binns': 334, 'bird': 335, 'birds': 336, 'birthday': 337, 'bit': 338, 'bite': 339, 'biting': 340, 'bits': 341, 'bitten': 342, 'bitter': 343, 'bitterly': 344, 'bizarre': 345, 'black': 346, 'blackboard': 347, 'blackened': 348, 'blackness': 349, 'blame': 350, 'blank': 351, 'blankets': 352, 'blankly': 353, 'blast': 354, 'blasted': 355, 'blazing': 356, 'bleeding': 357, 'blew': 358, 'blimey': 359, 'blind': 360, 'blinding': 361, 'blink': 362, 'blinked': 363, 'blinking': 364, 'block': 365, 'blocked': 366, 'blocking': 367, 'bloke': 368, 'blond': 369, 'blonde': 370, 'blood': 371, 'bloodshot': 372, 'bloody': 373, 'blotts': 374, 'blow': 375, 'blowing': 376, 'blown': 377, 'bludger': 378, 'bludgers': 379, 'blue': 380, 'blurred': 381, 'board': 382, 'boarded': 383, 'boat': 384, 'bobbing': 385, 'bode': 386, 'bodies': 387, 'body': 388, 'boggart': 389, 'boiling': 390, 'bolt': 391, 'bone': 392, 'bones': 393, 'book': 394, 'books': 395, 'boomed': 396, 'booming': 397, 'boot': 398, 'boots': 399, 'bore': 400, 'bored': 401, 'borgin': 402, 'boring': 403, 'born': 404, 'borns': 405, 'borrow': 406, 'borrowed': 407, 'bother': 408, 'bothered': 409, 'bothering': 410, 'bottle': 411, 'bottles': 412, 'bottom': 413, 'bought': 414, 'bounced': 415, 'bouncing': 416, 'bound': 417, 'bounded': 418, 'bow': 419, 'bowed': 420, 'bowing': 421, 'bowl': 422, 'bowler': 423, 'box': 424, 'boxes': 425, 'boy': 426, 'boys': 427, 'brain': 428, 'brains': 429, 'branch': 430, 'branches': 431, 'brand': 432, 'brandishing': 433, 'brass': 434, 'brave': 435, 'bread': 436, 'break': 437, 'breakfast': 438, 'breaking': 439, 'breath': 440, 'breathe': 441, 'breathed': 442, 'breathing': 443, 'breathless': 444, 'breathlessly': 445, 'breeze': 446, 'brick': 447, 'bridge': 448, 'brief': 449, 'briefly': 450, 'bright': 451, 'brightly': 452, 'brilliant': 453, 'bring': 454, 'bringing': 455, 'briskly': 456, 'britain': 457, 'broad': 458, 'broadly': 459, 'broke': 460, 'broken': 461, 'bronze': 462, 'broom': 463, 'brooms': 464, 'broomstick': 465, 'broomsticks': 466, 'brother': 467, 'brothers': 468, 'brought': 469, 'brow': 470, 'brown': 471, 'brushed': 472, 'brushing': 473, 'brutal': 474, 'bu': 475, 'bubble': 476, 'bubbles': 477, 'buckbeak': 478, 'bucket': 479, 'building': 480, 'built': 481, 'bulgarian': 482, 'bulging': 483, 'bunch': 484, 'bunk': 485, 'buried': 486, 'burkes': 487, 'burn': 488, 'burned': 489, 'burning': 490, 'burrow': 491, 'burst': 492, 'bursting': 493, 'bus': 494, 'bush': 495, 'bushes': 496, 'bushy': 497, 'business': 498, 'bustled': 499, 'bustling': 500, 'busy': 501, 'butterbeer': 502, 'button': 503, 'buy': 504, 'buying': 505, 'buzzing': 506, 'bye': 507, 'c': 508, 'cabin': 509, 'cabinet': 510, 'cackling': 511, 'cadogan': 512, 'cage': 513, 'cake': 514, 'cakes': 515, 'call': 516, 'called': 517, 'calling': 518, 'calm': 519, 'calmly': 520, 'came': 521, 'camera': 522, 'campsite': 523, 'candle': 524, 'candlelight': 525, 'candles': 526, 'cannot': 527, 'canvas': 528, 'capable': 529, 'captain': 530, 'capture': 531, 'car': 532, 'card': 533, 'cards': 534, 'care': 535, 'cared': 536, 'career': 537, 'careful': 538, 'carefully': 539, 'cares': 540, 'caretaker': 541, 'carpet': 542, 'carriage': 543, 'carriages': 544, 'carried': 545, 'carrows': 546, 'carry': 547, 'carrying': 548, 'cars': 549, 'cart': 550, 'carved': 551, 'case': 552, 'cast': 553, 'casting': 554, 'castle': 555, 'casual': 556, 'casually': 557, 'cat': 558, 'catch': 559, 'catching': 560, 'cats': 561, 'cattermole': 562, 'caught': 563, 'cauldron': 564, 'cauldrons': 565, 'cause': 566, 'caused': 567, 'causing': 568, 'caution': 569, 'cautiously': 570, 'cave': 571, 'cedric': 572, 'ceiling': 573, 'cellar': 574, 'centaur': 575, 'centaurs': 576, 'center': 577, 'centuries': 578, 'century': 579, 'certain': 580, 'certainly': 581, 'chain': 582, 'chained': 583, 'chains': 584, 'chair': 585, 'chairs': 586, 'chamber': 587, 'champion': 588, 'champions': 589, 'chance': 590, 'chances': 591, 'chandelier': 592, 'chang': 593, 'change': 594, 'changed': 595, 'changing': 596, 'chapter': 597, 'charge': 598, 'charged': 599, 'charlie': 600, 'charm': 601, 'charming': 602, 'charms': 603, 'chart': 604, 'chase': 605, 'chased': 606, 'chaser': 607, 'chasers': 608, 'chasing': 609, 'chat': 610, 'chattering': 611, 'check': 612, 'checked': 613, 'checking': 614, 'cheek': 615, 'cheeks': 616, 'cheer': 617, 'cheered': 618, 'cheerful': 619, 'cheerfully': 620, 'cheering': 621, 'cheers': 622, 'chess': 623, 'chest': 624, 'chewing': 625, 'chicken': 626, 'child': 627, 'children': 628, 'chill': 629, 'chilly': 630, 'chin': 631, 'cho': 632, 'chocolate': 633, 'choice': 634, 'choked': 635, 'choose': 636, 'chose': 637, 'chosen': 638, 'christmas': 639, 'chuckled': 640, 'church': 641, 'circle': 642, 'circling': 643, 'circular': 644, 'circumstances': 645, 'clambered': 646, 'clamped': 647, 'clanking': 648, 'clapped': 649, 'clapping': 650, 'class': 651, 'classes': 652, 'classroom': 653, 'clatter': 654, 'clattering': 655, 'clean': 656, 'cleaning': 657, 'clear': 658, 'cleared': 659, 'clearer': 660, 'clearing': 661, 'clearly': 662, 'clenched': 663, 'clever': 664, 'clicked': 665, 'clicking': 666, 'cliff': 667, 'climb': 668, 'climbed': 669, 'climbing': 670, 'clipboard': 671, 'cloak': 672, 'cloaks': 673, 'clock': 674, 'close': 675, 'closed': 676, 'closely': 677, 'closer': 678, 'closest': 679, 'closing': 680, 'clothes': 681, 'cloud': 682, 'clouds': 683, 'club': 684, 'clue': 685, 'clunk': 686, 'clutched': 687, 'clutching': 688, 'coat': 689, 'coffee': 690, 'coins': 691, 'cold': 692, 'coldly': 693, 'cole': 694, 'colin': 695, 'collapsed': 696, 'collar': 697, 'collect': 698, 'collecting': 699, 'collection': 700, 'collided': 701, 'color': 702, 'colored': 703, 'colour': 704, 'come': 705, 'comes': 706, 'comfort': 707, 'comfortable': 708, 'comin': 709, 'coming': 710, 'command': 711, 'committee': 712, 'common': 713, 'community': 714, 'company': 715, 'compared': 716, 'compartment': 717, 'compete': 718, 'complain': 719, 'complaining': 720, 'complete': 721, 'completely': 722, 'complex': 723, 'complicated': 724, 'concealed': 725, 'concentrate': 726, 'concentrating': 727, 'concentration': 728, 'concern': 729, 'concerned': 730, 'condition': 731, 'conditions': 732, 'confederation': 733, 'confidence': 734, 'confident': 735, 'confused': 736, 'confusion': 737, 'conjured': 738, 'connected': 739, 'connection': 740, 'conscious': 741, 'consider': 742, 'considerable': 743, 'considered': 744, 'considering': 745, 'constant': 746, 'contact': 747, 'contained': 748, 'containing': 749, 'contents': 750, 'continue': 751, 'continued': 752, 'continuing': 753, 'contorted': 754, 'contrary': 755, 'control': 756, 'controlled': 757, 'conversation': 758, 'convince': 759, 'convinced': 760, 'cooking': 761, 'cool': 762, 'coolly': 763, 'copies': 764, 'copy': 765, 'cornelius': 766, 'corner': 767, 'cornered': 768, 'corners': 769, 'correct': 770, 'corrected': 771, 'corridor': 772, 'corridors': 773, 'cost': 774, 'cottage': 775, 'cough': 776, 'could': 777, 'count': 778, 'counted': 779, 'counter': 780, 'counting': 781, 'country': 782, 'couple': 783, 'courage': 784, 'course': 785, 'court': 786, 'courtyard': 787, 'cousin': 788, 'cover': 789, 'covered': 790, 'covering': 791, 'covers': 792, 'cowering': 793, 'cozy': 794, 'crabbe': 795, 'crack': 796, 'cracked': 797, 'crackling': 798, 'crammed': 799, 'craning': 800, 'crash': 801, 'crashed': 802, 'crashing': 803, 'crate': 804, 'crawled': 805, 'creaked': 806, 'creaking': 807, 'cream': 808, 'creature': 809, 'creatures': 810, 'creeping': 811, 'creevey': 812, 'crept': 813, 'cried': 814, 'cries': 815, 'crime': 816, 'croaked': 817, 'crooked': 818, 'crookshanks': 819, 'cross': 820, 'crossbow': 821, 'crossed': 822, 'crossing': 823, 'crouch': 824, 'crouched': 825, 'crouching': 826, 'crowd': 827, 'crowded': 828, 'cruciatus': 829, 'cruel': 830, 'crumpled': 831, 'cry': 832, 'crying': 833, 'crystal': 834, 'cup': 835, 'cupboard': 836, 'cups': 837, 'curiosity': 838, 'curious': 839, 'curiously': 840, 'curled': 841, 'curling': 842, 'curly': 843, 'currently': 844, 'curse': 845, 'cursed': 846, 'curses': 847, 'curtain': 848, 'curtains': 849, 'curtly': 850, 'curved': 851, 'cushion': 852, 'cushions': 853, 'cut': 854, 'cuts': 855, 'cutting': 856, 'da': 857, 'dad': 858, 'daddy': 859, 'daily': 860, 'dais': 861, 'damage': 862, 'damn': 863, 'damp': 864, 'dance': 865, 'dancing': 866, 'danger': 867, 'dangerous': 868, 'dangerously': 869, 'dangling': 870, 'dare': 871, 'dared': 872, 'daresay': 873, 'daring': 874, 'dark': 875, 'darker': 876, 'darkly': 877, 'darkness': 878, 'darted': 879, 'darting': 880, 'dashed': 881, 'dashing': 882, 'date': 883, 'daughter': 884, 'davies': 885, 'dawlish': 886, 'dawn': 887, 'day': 888, 'daylight': 889, 'days': 890, 'dazed': 891, 'dazzling': 892, 'de': 893, 'dead': 894, 'deadly': 895, 'deafening': 896, 'deal': 897, 'dealing': 898, 'dean': 899, 'dear': 900, 'death': 901, 'deathly': 902, 'deaths': 903, 'decent': 904, 'decide': 905, 'decided': 906, 'decision': 907, 'decorated': 908, 'decree': 909, 'dedalus': 910, 'deep': 911, 'deeper': 912, 'deepest': 913, 'deeply': 914, 'defeated': 915, 'defence': 916, 'defend': 917, 'defense': 918, 'defensive': 919, 'defiantly': 920, 'definite': 921, 'definitely': 922, 'delacour': 923, 'deliberately': 924, 'delicious': 925, 'delight': 926, 'delighted': 927, 'deliver': 928, 'delivered': 929, 'deluminator': 930, 'demanded': 931, 'dementor': 932, 'dementors': 933, 'dennis': 934, 'deny': 935, 'departed': 936, 'department': 937, 'departure': 938, 'depths': 939, 'descended': 940, 'descending': 941, 'described': 942, 'deserted': 943, 'deserve': 944, 'deserved': 945, 'desire': 946, 'desk': 947, 'desks': 948, 'despair': 949, 'desperate': 950, 'desperately': 951, 'desperation': 952, 'despite': 953, 'destination': 954, 'destroy': 955, 'destroyed': 956, 'detail': 957, 'details': 958, 'detention': 959, 'detentions': 960, 'determination': 961, 'determined': 962, 'devil': 963, 'devoted': 964, 'diadem': 965, 'diagon': 966, 'diary': 967, 'die': 968, 'died': 969, 'difference': 970, 'different': 971, 'difficult': 972, 'difficulty': 973, 'diggory': 974, 'dim': 975, 'dimly': 976, 'dinner': 977, 'dippet': 978, 'directed': 979, 'direction': 980, 'directions': 981, 'directly': 982, 'dirk': 983, 'dirty': 984, 'disapparate': 985, 'disapparated': 986, 'disappear': 987, 'disappeared': 988, 'disappearing': 989, 'disappointed': 990, 'disappointment': 991, 'disbelief': 992, 'discover': 993, 'discovered': 994, 'discuss': 995, 'discussed': 996, 'discussing': 997, 'discussion': 998, 'disgruntled': 999, 'disguise': 1000, 'disgust': 1001, 'disgusting': 1002, 'dislike': 1003, 'display': 1004, 'dissolved': 1005, 'distance': 1006, 'distant': 1007, 'distinct': 1008, 'distinctly': 1009, 'distracted': 1010, 'distractedly': 1011, 'disturbed': 1012, 'dive': 1013, 'dived': 1014, 'divination': 1015, 'dobby': 1016, 'dodged': 1017, 'doe': 1018, 'dog': 1019, 'doge': 1020, 'doin': 1021, 'dolohov': 1022, 'dolores': 1023, 'done': 1024, 'door': 1025, 'doorknob': 1026, 'doors': 1027, 'doorway': 1028, 'dormitories': 1029, 'dormitory': 1030, 'dot': 1031, 'double': 1032, 'doubt': 1033, 'doubted': 1034, 'downstairs': 1035, 'dozen': 1036, 'draco': 1037, 'drag': 1038, 'dragged': 1039, 'dragging': 1040, 'dragon': 1041, 'dragons': 1042, 'drained': 1043, 'dramatically': 1044, 'drank': 1045, 'draped': 1046, 'draught': 1047, 'draw': 1048, 'drawer': 1049, 'drawers': 1050, 'drawing': 1051, 'drawn': 1052, 'dread': 1053, 'dreadful': 1054, 'dreading': 1055, 'dream': 1056, 'dreamed': 1057, 'dreaming': 1058, 'dreams': 1059, 'dress': 1060, 'dressed': 1061, 'dressing': 1062, 'drew': 1063, 'dried': 1064, 'drifted': 1065, 'drifting': 1066, 'drink': 1067, 'drinking': 1068, 'drinks': 1069, 'dripping': 1070, 'drive': 1071, 'driven': 1072, 'driving': 1073, 'drop': 1074, 'dropped': 1075, 'dropping': 1076, 'drops': 1077, 'drove': 1078, 'drowned': 1079, 'dry': 1080, 'duck': 1081, 'ducked': 1082, 'dudley': 1083, 'due': 1084, 'duel': 1085, 'dueling': 1086, 'dug': 1087, 'dull': 1088, 'dully': 1089, 'dumbledore': 1090, 'dumbledores': 1091, 'dung': 1092, 'dungeon': 1093, 'dungeons': 1094, 'dunno': 1095, 'durmstrang': 1096, 'dursley': 1097, 'dursleys': 1098, 'dust': 1099, 'dusty': 1100, 'duty': 1101, 'dying': 1102, 'e': 1103, 'eager': 1104, 'eagerly': 1105, 'eagle': 1106, 'ear': 1107, 'earlier': 1108, 'early': 1109, 'earned': 1110, 'earnestly': 1111, 'ears': 1112, 'earshot': 1113, 'earth': 1114, 'ease': 1115, 'easier': 1116, 'easily': 1117, 'easter': 1118, 'easy': 1119, 'eat': 1120, 'eaten': 1121, 'eater': 1122, 'eaters': 1123, 'eating': 1124, 'echoed': 1125, 'echoing': 1126, 'edge': 1127, 'edged': 1128, 'edges': 1129, 'edging': 1130, 'educational': 1131, 'eerie': 1132, 'effect': 1133, 'effort': 1134, 'efforts': 1135, 'egg': 1136, 'eggs': 1137, 'eh': 1138, 'eight': 1139, 'either': 1140, 'elbow': 1141, 'elder': 1142, 'eleven': 1143, 'elf': 1144, 'elphias': 1145, 'else': 1146, 'elves': 1147, 'em': 1148, 'embarrassed': 1149, 'emerald': 1150, 'emerged': 1151, 'emerging': 1152, 'emotion': 1153, 'emptied': 1154, 'empty': 1155, 'enchanted': 1156, 'enchantments': 1157, 'enclosure': 1158, 'end': 1159, 'ended': 1160, 'ends': 1161, 'enemies': 1162, 'enemy': 1163, 'enforcement': 1164, 'engine': 1165, 'english': 1166, 'enjoy': 1167, 'enjoyed': 1168, 'enjoying': 1169, 'enormous': 1170, 'enough': 1171, 'ensure': 1172, 'enter': 1173, 'entered': 1174, 'entering': 1175, 'enthusiasm': 1176, 'enthusiastically': 1177, 'entire': 1178, 'entirely': 1179, 'entrance': 1180, 'envelope': 1181, 'equal': 1182, 'er': 1183, 'ere': 1184, 'erm': 1185, 'ern': 1186, 'ernie': 1187, 'errol': 1188, 'erupted': 1189, 'escape': 1190, 'escaped': 1191, 'especially': 1192, 'essay': 1193, 'essential': 1194, 'etched': 1195, 'even': 1196, 'evening': 1197, 'evenings': 1198, 'events': 1199, 'ever': 1200, 'every': 1201, 'everybody': 1202, 'everyone': 1203, 'everything': 1204, 'everywhere': 1205, 'evidence': 1206, 'evidently': 1207, 'evil': 1208, 'ex': 1209, 'exactly': 1210, 'exam': 1211, 'examination': 1212, 'examine': 1213, 'examined': 1214, 'examining': 1215, 'exams': 1216, 'exasperated': 1217, 'excellent': 1218, 'except': 1219, 'exceptionally': 1220, 'exchange': 1221, 'exchanged': 1222, 'excited': 1223, 'excitedly': 1224, 'excitement': 1225, 'exciting': 1226, 'excuse': 1227, 'exhausted': 1228, 'exist': 1229, 'existence': 1230, 'expect': 1231, 'expected': 1232, 'expecting': 1233, 'expecto': 1234, 'expelled': 1235, 'expelliarmus': 1236, 'experience': 1237, 'experienced': 1238, 'explain': 1239, 'explained': 1240, 'explaining': 1241, 'explanation': 1242, 'exploded': 1243, 'exploding': 1244, 'explosion': 1245, 'express': 1246, 'expression': 1247, 'expressions': 1248, 'extendable': 1249, 'extinguished': 1250, 'extra': 1251, 'extraordinary': 1252, 'extremely': 1253, 'eye': 1254, 'eyebrows': 1255, 'eyed': 1256, 'eyeing': 1257, 'eyelids': 1258, 'eyes': 1259, 'f': 1260, 'face': 1261, 'faced': 1262, 'faces': 1263, 'facing': 1264, 'fact': 1265, 'facts': 1266, 'faded': 1267, 'fading': 1268, 'fail': 1269, 'failed': 1270, 'faint': 1271, 'faintest': 1272, 'faintly': 1273, 'fair': 1274, 'fairly': 1275, 'faithful': 1276, 'fake': 1277, 'fall': 1278, 'fallen': 1279, 'falling': 1280, 'false': 1281, 'familiar': 1282, 'families': 1283, 'family': 1284, 'famous': 1285, 'fan': 1286, 'fancy': 1287, 'fang': 1288, 'fangs': 1289, 'far': 1290, 'farther': 1291, 'fascinating': 1292, 'fashion': 1293, 'fashioned': 1294, 'fast': 1295, 'faster': 1296, 'fat': 1297, 'father': 1298, 'fault': 1299, 'favor': 1300, 'favorite': 1301, 'favourite': 1302, 'fawkes': 1303, 'fear': 1304, 'feared': 1305, 'fears': 1306, 'feast': 1307, 'feather': 1308, 'feathers': 1309, 'features': 1310, 'fed': 1311, 'feeble': 1312, 'feebly': 1313, 'feed': 1314, 'feel': 1315, 'feeling': 1316, 'feelings': 1317, 'feels': 1318, 'feet': 1319, 'felicis': 1320, 'felix': 1321, 'fell': 1322, 'fellow': 1323, 'fellows': 1324, 'felt': 1325, 'female': 1326, 'fence': 1327, 'fer': 1328, 'ferret': 1329, 'fetch': 1330, 'feverishly': 1331, 'field': 1332, 'fierce': 1333, 'fiercely': 1334, 'fiery': 1335, 'fifteen': 1336, 'fifth': 1337, 'fifty': 1338, 'figg': 1339, 'fight': 1340, 'fighting': 1341, 'figure': 1342, 'figures': 1343, 'filch': 1344, 'filed': 1345, 'fill': 1346, 'filled': 1347, 'filling': 1348, 'filth': 1349, 'filthy': 1350, 'final': 1351, 'finally': 1352, 'finch': 1353, 'find': 1354, 'finding': 1355, 'finds': 1356, 'fine': 1357, 'finger': 1358, 'fingered': 1359, 'fingers': 1360, 'finish': 1361, 'finished': 1362, 'finishing': 1363, 'finnigan': 1364, 'fire': 1365, 'firebolt': 1366, 'firelight': 1367, 'firenze': 1368, 'fireplace': 1369, 'fires': 1370, 'firewhisky': 1371, 'fireworks': 1372, 'firm': 1373, 'firmly': 1374, 'firs': 1375, 'first': 1376, 'fish': 1377, 'fist': 1378, 'fists': 1379, 'fit': 1380, 'five': 1381, 'fix': 1382, 'fixed': 1383, 'flame': 1384, 'flamel': 1385, 'flames': 1386, 'flaming': 1387, 'flapped': 1388, 'flapping': 1389, 'flash': 1390, 'flashed': 1391, 'flashing': 1392, 'flask': 1393, 'flat': 1394, 'flatly': 1395, 'flattened': 1396, 'flavor': 1397, 'fled': 1398, 'fleeting': 1399, 'flesh': 1400, 'fletcher': 1401, 'fleur': 1402, 'flew': 1403, 'flick': 1404, 'flicked': 1405, 'flickered': 1406, 'flickering': 1407, 'flight': 1408, 'flint': 1409, 'flitwick': 1410, 'floated': 1411, 'floating': 1412, 'floo': 1413, 'flooded': 1414, 'flooding': 1415, 'floor': 1416, 'floors': 1417, 'flourish': 1418, 'flowers': 1419, 'flown': 1420, 'fluffy': 1421, 'flung': 1422, 'flushed': 1423, 'fluttered': 1424, 'fluttering': 1425, 'fly': 1426, 'flying': 1427, 'focus': 1428, 'focused': 1429, 'folded': 1430, 'follow': 1431, 'followed': 1432, 'followers': 1433, 'following': 1434, 'fond': 1435, 'food': 1436, 'fool': 1437, 'foolish': 1438, 'foot': 1439, 'footsteps': 1440, 'forbidden': 1441, 'force': 1442, 'forced': 1443, 'forcefully': 1444, 'forcing': 1445, 'forehead': 1446, 'foreign': 1447, 'forest': 1448, 'forever': 1449, 'forget': 1450, 'forgetting': 1451, 'forgive': 1452, 'forgot': 1453, 'forgotten': 1454, 'fork': 1455, 'form': 1456, 'formed': 1457, 'forming': 1458, 'fortune': 1459, 'forty': 1460, 'forward': 1461, 'forwards': 1462, 'fought': 1463, 'foul': 1464, 'found': 1465, 'fountain': 1466, 'four': 1467, 'fourteen': 1468, 'fourth': 1469, 'fragment': 1470, 'fragments': 1471, 'frail': 1472, 'frame': 1473, 'frames': 1474, 'frank': 1475, 'frantic': 1476, 'frantically': 1477, 'fred': 1478, 'free': 1479, 'freedom': 1480, 'freezing': 1481, 'fresh': 1482, 'freshly': 1483, 'friday': 1484, 'friend': 1485, 'friendly': 1486, 'friends': 1487, 'friendship': 1488, 'fright': 1489, 'frightened': 1490, 'frightening': 1491, 'frog': 1492, 'front': 1493, 'frowned': 1494, 'frowning': 1495, 'froze': 1496, 'frozen': 1497, 'frustration': 1498, 'fudge': 1499, 'full': 1500, 'fully': 1501, 'fumbled': 1502, 'fun': 1503, 'funeral': 1504, 'funny': 1505, 'furious': 1506, 'furiously': 1507, 'fury': 1508, 'future': 1509, 'g': 1510, 'gain': 1511, 'gained': 1512, 'galleon': 1513, 'galleons': 1514, 'galloping': 1515, 'game': 1516, 'gamekeeper': 1517, 'games': 1518, 'gang': 1519, 'gap': 1520, 'gaped': 1521, 'gaping': 1522, 'garden': 1523, 'gargoyle': 1524, 'gas': 1525, 'gasp': 1526, 'gasped': 1527, 'gasping': 1528, 'gate': 1529, 'gates': 1530, 'gather': 1531, 'gathered': 1532, 'gathering': 1533, 'gaunt': 1534, 'gave': 1535, 'gaze': 1536, 'gazed': 1537, 'gazing': 1538, 'general': 1539, 'generally': 1540, 'gentle': 1541, 'gently': 1542, 'george': 1543, 'gesture': 1544, 'gestured': 1545, 'gesturing': 1546, 'get': 1547, 'gets': 1548, 'gettin': 1549, 'getting': 1550, 'ghost': 1551, 'ghostly': 1552, 'ghosts': 1553, 'giant': 1554, 'giants': 1555, 'gift': 1556, 'gigantic': 1557, 'giggled': 1558, 'giggling': 1559, 'gilderoy': 1560, 'ginger': 1561, 'ginny': 1562, 'girl': 1563, 'girlfriend': 1564, 'girls': 1565, 'git': 1566, 'give': 1567, 'given': 1568, 'gives': 1569, 'giving': 1570, 'glad': 1571, 'glance': 1572, 'glanced': 1573, 'glancing': 1574, 'glare': 1575, 'glared': 1576, 'glaring': 1577, 'glass': 1578, 'glasses': 1579, 'gleamed': 1580, 'gleaming': 1581, 'gleefully': 1582, 'glided': 1583, 'gliding': 1584, 'glimpse': 1585, 'glimpsed': 1586, 'glinting': 1587, 'glittered': 1588, 'glittering': 1589, 'gloom': 1590, 'gloomily': 1591, 'gloomy': 1592, 'glory': 1593, 'gloves': 1594, 'glow': 1595, 'glowed': 1596, 'glowering': 1597, 'glowing': 1598, 'gnarled': 1599, 'gnome': 1600, 'gnomes': 1601, 'go': 1602, 'goal': 1603, 'goals': 1604, 'goblet': 1605, 'goblets': 1606, 'goblin': 1607, 'goblins': 1608, 'god': 1609, 'godfather': 1610, 'godric': 1611, 'goes': 1612, 'goggling': 1613, 'goin': 1614, 'going': 1615, 'gold': 1616, 'golden': 1617, 'gone': 1618, 'good': 1619, 'goodness': 1620, 'got': 1621, 'gotta': 1622, 'gotten': 1623, 'gown': 1624, 'goyle': 1625, 'grab': 1626, 'grabbed': 1627, 'grabbing': 1628, 'grade': 1629, 'gran': 1630, 'grandfather': 1631, 'grandmother': 1632, 'granger': 1633, 'grasp': 1634, 'grasped': 1635, 'grass': 1636, 'grate': 1637, 'grateful': 1638, 'grave': 1639, 'graveyard': 1640, 'grawp': 1641, 'gray': 1642, 'greasy': 1643, 'great': 1644, 'greater': 1645, 'greatest': 1646, 'greatly': 1647, 'green': 1648, 'greenhouse': 1649, 'greenhouses': 1650, 'greenish': 1651, 'greeted': 1652, 'gregorovitch': 1653, 'grew': 1654, 'grey': 1655, 'greyback': 1656, 'grief': 1657, 'grim': 1658, 'grimly': 1659, 'grimmauld': 1660, 'grin': 1661, 'grindelwald': 1662, 'gringotts': 1663, 'grinned': 1664, 'grinning': 1665, 'grip': 1666, 'griphook': 1667, 'gripped': 1668, 'gripping': 1669, 'gritted': 1670, 'groan': 1671, 'groaned': 1672, 'groped': 1673, 'ground': 1674, 'grounds': 1675, 'group': 1676, 'groups': 1677, 'grow': 1678, 'growing': 1679, 'growled': 1680, 'grown': 1681, 'grubbly': 1682, 'grubby': 1683, 'gruffly': 1684, 'grumpily': 1685, 'grunted': 1686, 'gryffindor': 1687, 'gryffindors': 1688, 'guard': 1689, 'guarding': 1690, 'guards': 1691, 'guess': 1692, 'guessed': 1693, 'guests': 1694, 'guide': 1695, 'guilt': 1696, 'guilty': 1697, 'gulp': 1698, 'gulped': 1699, 'h': 1700, 'ha': 1701, 'habit': 1702, 'hagrid': 1703, 'hair': 1704, 'haired': 1705, 'hairs': 1706, 'hairy': 1707, 'half': 1708, 'halfway': 1709, 'hall': 1710, 'halloween': 1711, 'hallows': 1712, 'hallway': 1713, 'halt': 1714, 'hammering': 1715, 'hand': 1716, 'handbag': 1717, 'handed': 1718, 'handful': 1719, 'handing': 1720, 'handkerchief': 1721, 'handle': 1722, 'hands': 1723, 'handsome': 1724, 'hang': 1725, 'hanging': 1726, 'hangings': 1727, 'hannah': 1728, 'happen': 1729, 'happened': 1730, 'happening': 1731, 'happens': 1732, 'happier': 1733, 'happily': 1734, 'happiness': 1735, 'happy': 1736, 'hard': 1737, 'harder': 1738, 'hardly': 1739, 'harm': 1740, 'harry': 1741, 'harrys': 1742, 'harsh': 1743, 'hastily': 1744, 'hat': 1745, 'hate': 1746, 'hated': 1747, 'hatred': 1748, 'hats': 1749, 'head': 1750, 'headed': 1751, 'heading': 1752, 'headless': 1753, 'headline': 1754, 'headmaster': 1755, 'headmasters': 1756, 'headmistress': 1757, 'headquarters': 1758, 'heads': 1759, 'headstone': 1760, 'healer': 1761, 'health': 1762, 'heap': 1763, 'hear': 1764, 'heard': 1765, 'hearing': 1766, 'heart': 1767, 'heartily': 1768, 'heat': 1769, 'heaved': 1770, 'heaven': 1771, 'heavens': 1772, 'heavily': 1773, 'heaving': 1774, 'heavy': 1775, 'hedge': 1776, 'hedwig': 1777, 'heel': 1778, 'heels': 1779, 'height': 1780, 'heir': 1781, 'held': 1782, 'hell': 1783, 'hello': 1784, 'help': 1785, 'helped': 1786, 'helping': 1787, 'hem': 1788, 'hepzibah': 1789, 'herbology': 1790, 'hermione': 1791, 'hero': 1792, 'hesitated': 1793, 'hestia': 1794, 'hex': 1795, 'hexes': 1796, 'hey': 1797, 'hi': 1798, 'hic': 1799, 'hid': 1800, 'hidden': 1801, 'hide': 1802, 'hiding': 1803, 'high': 1804, 'higher': 1805, 'highest': 1806, 'highly': 1807, 'hill': 1808, 'hint': 1809, 'hippogriff': 1810, 'hiss': 1811, 'hissed': 1812, 'hissing': 1813, 'history': 1814, 'hit': 1815, 'hitting': 1816, 'hmm': 1817, 'hoarse': 1818, 'hoarsely': 1819, 'hog': 1820, 'hogsmeade': 1821, 'hogwarts': 1822, 'hoisted': 1823, 'hokey': 1824, 'hold': 1825, 'holding': 1826, 'hole': 1827, 'holes': 1828, 'holiday': 1829, 'holidays': 1830, 'hollow': 1831, 'holly': 1832, 'home': 1833, 'homework': 1834, 'honest': 1835, 'honestly': 1836, 'honeydukes': 1837, 'honor': 1838, 'hooch': 1839, 'hood': 1840, 'hooded': 1841, 'hooked': 1842, 'hoop': 1843, 'hoops': 1844, 'hooted': 1845, 'hooting': 1846, 'hope': 1847, 'hoped': 1848, 'hopeful': 1849, 'hopefully': 1850, 'hopelessly': 1851, 'hoping': 1852, 'horace': 1853, 'horcrux': 1854, 'horcruxes': 1855, 'horn': 1856, 'horned': 1857, 'horntail': 1858, 'horrible': 1859, 'horribly': 1860, 'horrified': 1861, 'horror': 1862, 'horse': 1863, 'horses': 1864, 'hospital': 1865, 'hot': 1866, 'hotly': 1867, 'hour': 1868, 'hours': 1869, 'house': 1870, 'houses': 1871, 'hovering': 1872, 'however': 1873, 'howl': 1874, 'howled': 1875, 'howler': 1876, 'howling': 1877, 'huddled': 1878, 'hufflepuff': 1879, 'hufflepuffs': 1880, 'hug': 1881, 'huge': 1882, 'hugged': 1883, 'hugging': 1884, 'human': 1885, 'humans': 1886, 'hundred': 1887, 'hundreds': 1888, 'hung': 1889, 'hungry': 1890, 'hunt': 1891, 'hunting': 1892, 'hurried': 1893, 'hurriedly': 1894, 'hurry': 1895, 'hurrying': 1896, 'hurt': 1897, 'hurting': 1898, 'hurtled': 1899, 'hurtling': 1900, 'husband': 1901, 'hushed': 1902, 'hut': 1903, 'ice': 1904, 'icy': 1905, 'id': 1906, 'idea': 1907, 'ideas': 1908, 'identical': 1909, 'idiot': 1910, 'ignore': 1911, 'ignored': 1912, 'ignoring': 1913, 'ill': 1914, 'illegal': 1915, 'illuminated': 1916, 'im': 1917, 'image': 1918, 'imagination': 1919, 'imagine': 1920, 'imagined': 1921, 'imagining': 1922, 'immediate': 1923, 'immediately': 1924, 'immense': 1925, 'immensely': 1926, 'impatiently': 1927, 'imperius': 1928, 'importance': 1929, 'important': 1930, 'impossible': 1931, 'impressed': 1932, 'impression': 1933, 'impressive': 1934, 'incantation': 1935, 'inch': 1936, 'inches': 1937, 'including': 1938, 'increased': 1939, 'increasingly': 1940, 'incredible': 1941, 'incredulously': 1942, 'indeed': 1943, 'indicated': 1944, 'indicating': 1945, 'indignantly': 1946, 'indignation': 1947, 'inferi': 1948, 'information': 1949, 'informed': 1950, 'ing': 1951, 'ingredients': 1952, 'inherited': 1953, 'injured': 1954, 'injuries': 1955, 'injury': 1956, 'ink': 1957, 'inner': 1958, 'innocent': 1959, 'inquisitor': 1960, 'insane': 1961, 'inside': 1962, 'insides': 1963, 'insisted': 1964, 'instance': 1965, 'instant': 1966, 'instantly': 1967, 'instead': 1968, 'instinctively': 1969, 'instructions': 1970, 'instruments': 1971, 'insult': 1972, 'intended': 1973, 'intent': 1974, 'intently': 1975, 'inter': 1976, 'interest': 1977, 'interested': 1978, 'interesting': 1979, 'international': 1980, 'interrupted': 1981, 'interview': 1982, 'introduce': 1983, 'invented': 1984, 'investigate': 1985, 'invisibility': 1986, 'invisible': 1987, 'invitation': 1988, 'invite': 1989, 'invited': 1990, 'involved': 1991, 'ireland': 1992, 'irish': 1993, 'iron': 1994, 'irritably': 1995, 'irritated': 1996, 'issued': 1997, 'issuing': 1998, 'jacket': 1999, 'james': 2000, 'jar': 2001, 'jaw': 2002, 'jealous': 2003, 'jeans': 2004, 'jeering': 2005, 'jerk': 2006, 'jerked': 2007, 'jerking': 2008, 'jet': 2009, 'jets': 2010, 'jinx': 2011, 'jinxes': 2012, 'job': 2013, 'johnson': 2014, 'join': 2015, 'joined': 2016, 'joining': 2017, 'joke': 2018, 'joking': 2019, 'jolt': 2020, 'jordan': 2021, 'jorkins': 2022, 'journey': 2023, 'judge': 2024, 'judges': 2025, 'judging': 2026, 'jug': 2027, 'juice': 2028, 'jump': 2029, 'jumped': 2030, 'jumping': 2031, 'june': 2032, 'jus': 2033, 'justin': 2034, 'karkaroff': 2035, 'katie': 2036, 'kedavra': 2037, 'keen': 2038, 'keep': 2039, 'keeper': 2040, 'keeping': 2041, 'keeps': 2042, 'kendra': 2043, 'kept': 2044, 'kettle': 2045, 'key': 2046, 'keys': 2047, 'kick': 2048, 'kicked': 2049, 'kid': 2050, 'kidding': 2051, 'kids': 2052, 'kill': 2053, 'killed': 2054, 'killing': 2055, 'kind': 2056, 'kindly': 2057, 'king': 2058, 'kingsley': 2059, 'kiss': 2060, 'kissed': 2061, 'kissing': 2062, 'kitchen': 2063, 'kitchens': 2064, 'knee': 2065, 'kneeling': 2066, 'knees': 2067, 'knew': 2068, 'knife': 2069, 'knight': 2070, 'knives': 2071, 'knock': 2072, 'knocked': 2073, 'knocking': 2074, 'knot': 2075, 'know': 2076, 'knowing': 2077, 'knowledge': 2078, 'known': 2079, 'knows': 2080, 'knuckles': 2081, 'kreacher': 2082, 'krum': 2083, 'l': 2084, 'lace': 2085, 'lack': 2086, 'ladder': 2087, 'laden': 2088, 'ladies': 2089, 'lady': 2090, 'laid': 2091, 'lake': 2092, 'lamp': 2093, 'lamps': 2094, 'land': 2095, 'landed': 2096, 'landing': 2097, 'lane': 2098, 'language': 2099, 'lantern': 2100, 'lap': 2101, 'large': 2102, 'larger': 2103, 'largest': 2104, 'last': 2105, 'lasted': 2106, 'late': 2107, 'lately': 2108, 'later': 2109, 'laugh': 2110, 'laughed': 2111, 'laughing': 2112, 'laughter': 2113, 'launched': 2114, 'lavender': 2115, 'law': 2116, 'lawn': 2117, 'lawns': 2118, 'lay': 2119, 'lazily': 2120, 'lead': 2121, 'leading': 2122, 'league': 2123, 'leaky': 2124, 'leaned': 2125, 'leaning': 2126, 'leanne': 2127, 'leap': 2128, 'leaping': 2129, 'leapt': 2130, 'learn': 2131, 'learned': 2132, 'learning': 2133, 'least': 2134, 'leather': 2135, 'leave': 2136, 'leaves': 2137, 'leaving': 2138, 'led': 2139, 'lee': 2140, 'left': 2141, 'leg': 2142, 'legged': 2143, 'legs': 2144, 'length': 2145, 'less': 2146, 'lesson': 2147, 'lessons': 2148, 'lestrange': 2149, 'let': 2150, 'letter': 2151, 'letters': 2152, 'letting': 2153, 'level': 2154, 'liar': 2155, 'library': 2156, 'lid': 2157, 'lie': 2158, 'lied': 2159, 'lies': 2160, 'life': 2161, 'lift': 2162, 'lifted': 2163, 'lifting': 2164, 'light': 2165, 'lightly': 2166, 'lightning': 2167, 'lights': 2168, 'like': 2169, 'liked': 2170, 'likely': 2171, 'likes': 2172, 'liking': 2173, 'lily': 2174, 'lime': 2175, 'limp': 2176, 'limped': 2177, 'limping': 2178, 'line': 2179, 'lined': 2180, 'lines': 2181, 'lingered': 2182, 'lip': 2183, 'lips': 2184, 'liquid': 2185, 'list': 2186, 'listen': 2187, 'listened': 2188, 'listening': 2189, 'lit': 2190, 'littered': 2191, 'little': 2192, 'live': 2193, 'lived': 2194, 'lives': 2195, 'livid': 2196, 'living': 2197, 'load': 2198, 'loads': 2199, 'loathed': 2200, 'lock': 2201, 'locked': 2202, 'locker': 2203, 'locket': 2204, 'lockhart': 2205, 'london': 2206, 'lonely': 2207, 'long': 2208, 'longbottom': 2209, 'longer': 2210, 'longing': 2211, 'look': 2212, 'looked': 2213, 'lookin': 2214, 'looking': 2215, 'lookout': 2216, 'looks': 2217, 'loony': 2218, 'loose': 2219, 'lopsided': 2220, 'lord': 2221, 'lose': 2222, 'losing': 2223, 'loss': 2224, 'lost': 2225, 'lot': 2226, 'lots': 2227, 'loud': 2228, 'louder': 2229, 'loudly': 2230, 'love': 2231, 'loved': 2232, 'lovegood': 2233, 'lovely': 2234, 'low': 2235, 'lower': 2236, 'lowered': 2237, 'lowering': 2238, 'lucius': 2239, 'luck': 2240, 'lucky': 2241, 'ludo': 2242, 'luggage': 2243, 'lumos': 2244, 'lump': 2245, 'luna': 2246, 'lunch': 2247, 'lunged': 2248, 'lungs': 2249, 'lupin': 2250, 'lurking': 2251, 'lying': 2252, 'lynch': 2253, 'macmillan': 2254, 'macnair': 2255, 'mad': 2256, 'madam': 2257, 'madame': 2258, 'made': 2259, 'madly': 2260, 'mafalda': 2261, 'magazine': 2262, 'magic': 2263, 'magical': 2264, 'magically': 2265, 'magnificent': 2266, 'magnified': 2267, 'magnolia': 2268, 'magorian': 2269, 'mail': 2270, 'main': 2271, 'mainly': 2272, 'make': 2273, 'makes': 2274, 'making': 2275, 'malfoy': 2276, 'malfoys': 2277, 'malkin': 2278, 'man': 2279, 'manage': 2280, 'managed': 2281, 'managing': 2282, 'mane': 2283, 'manner': 2284, 'mantelpiece': 2285, 'many': 2286, 'map': 2287, 'marauder': 2288, 'marble': 2289, 'march': 2290, 'marchbanks': 2291, 'marched': 2292, 'marching': 2293, 'marge': 2294, 'marietta': 2295, 'mark': 2296, 'marked': 2297, 'marks': 2298, 'maroon': 2299, 'marquee': 2300, 'married': 2301, 'marvolo': 2302, 'masked': 2303, 'mass': 2304, 'massive': 2305, 'master': 2306, 'masters': 2307, 'match': 2308, 'mate': 2309, 'matter': 2310, 'matters': 2311, 'maxime': 2312, 'may': 2313, 'maybe': 2314, 'maze': 2315, 'mcgonagall': 2316, 'mclaggen': 2317, 'mead': 2318, 'mean': 2319, 'meaning': 2320, 'means': 2321, 'meant': 2322, 'meantime': 2323, 'meanwhile': 2324, 'measure': 2325, 'measures': 2326, 'meet': 2327, 'meeting': 2328, 'meetings': 2329, 'member': 2330, 'members': 2331, 'memories': 2332, 'memory': 2333, 'men': 2334, 'mend': 2335, 'mental': 2336, 'mention': 2337, 'mentioned': 2338, 'mercy': 2339, 'mere': 2340, 'merely': 2341, 'merlin': 2342, 'merope': 2343, 'merpeople': 2344, 'merry': 2345, 'mess': 2346, 'message': 2347, 'messing': 2348, 'met': 2349, 'metal': 2350, 'michael': 2351, 'mid': 2352, 'midair': 2353, 'middle': 2354, 'midnight': 2355, 'midst': 2356, 'might': 2357, 'mildly': 2358, 'miles': 2359, 'milk': 2360, 'millicent': 2361, 'mind': 2362, 'minds': 2363, 'mine': 2364, 'minerva': 2365, 'mingled': 2366, 'minister': 2367, 'ministry': 2368, 'minute': 2369, 'minutes': 2370, 'mirror': 2371, 'miserable': 2372, 'miserably': 2373, 'miss': 2374, 'missed': 2375, 'missing': 2376, 'mission': 2377, 'mist': 2378, 'mistake': 2379, 'mistaken': 2380, 'mistress': 2381, 'misty': 2382, 'mixed': 2383, 'mixture': 2384, 'moan': 2385, 'moaned': 2386, 'moaning': 2387, 'model': 2388, 'molly': 2389, 'mom': 2390, 'moment': 2391, 'momentarily': 2392, 'moments': 2393, 'mon': 2394, 'monday': 2395, 'money': 2396, 'monster': 2397, 'monsters': 2398, 'monstrous': 2399, 'montague': 2400, 'month': 2401, 'months': 2402, 'mood': 2403, 'moody': 2404, 'moon': 2405, 'moonlight': 2406, 'mopping': 2407, 'morfin': 2408, 'morning': 2409, 'mortal': 2410, 'mother': 2411, 'motionless': 2412, 'motorbike': 2413, 'mountain': 2414, 'mountains': 2415, 'mounted': 2416, 'mouth': 2417, 'mouthed': 2418, 'mouthful': 2419, 'mouths': 2420, 'move': 2421, 'moved': 2422, 'movement': 2423, 'movements': 2424, 'moving': 2425, 'mr': 2426, 'mrs': 2427, 'much': 2428, 'mud': 2429, 'mudblood': 2430, 'mudbloods': 2431, 'muddy': 2432, 'muffled': 2433, 'mug': 2434, 'muggle': 2435, 'muggles': 2436, 'mum': 2437, 'mumbled': 2438, 'mundungus': 2439, 'mungo': 2440, 'murder': 2441, 'murdered': 2442, 'murderer': 2443, 'muriel': 2444, 'murmur': 2445, 'murmured': 2446, 'music': 2447, 'must': 2448, 'mustache': 2449, 'muttered': 2450, 'muttering': 2451, 'myrtle': 2452, 'mysteries': 2453, 'mysterious': 2454, 'n': 2455, 'nagini': 2456, 'nah': 2457, 'name': 2458, 'named': 2459, 'names': 2460, 'narcissa': 2461, 'narrow': 2462, 'narrowed': 2463, 'narrowly': 2464, 'nasty': 2465, 'natural': 2466, 'naturally': 2467, 'nature': 2468, 'near': 2469, 'nearby': 2470, 'nearer': 2471, 'nearest': 2472, 'nearly': 2473, 'neat': 2474, 'neatly': 2475, 'necessary': 2476, 'neck': 2477, 'necklace': 2478, 'necks': 2479, 'need': 2480, 'needed': 2481, 'needs': 2482, 'neither': 2483, 'nerve': 2484, 'nerves': 2485, 'nervous': 2486, 'nervously': 2487, 'network': 2488, 'never': 2489, 'nevertheless': 2490, 'neville': 2491, 'new': 2492, 'newly': 2493, 'news': 2494, 'newspaper': 2495, 'next': 2496, 'nice': 2497, 'nick': 2498, 'nicolas': 2499, 'nigellus': 2500, 'night': 2501, 'nightmare': 2502, 'nimbus': 2503, 'nine': 2504, 'ninety': 2505, 'noble': 2506, 'nobody': 2507, 'nod': 2508, 'nodded': 2509, 'nodding': 2510, 'noise': 2511, 'noises': 2512, 'noisy': 2513, 'non': 2514, 'none': 2515, 'nonsense': 2516, 'norbert': 2517, 'normal': 2518, 'normally': 2519, 'norris': 2520, 'north': 2521, 'nose': 2522, 'noses': 2523, 'nostrils': 2524, 'note': 2525, 'notes': 2526, 'nothin': 2527, 'nothing': 2528, 'notice': 2529, 'noticed': 2530, 'noticing': 2531, 'nowhere': 2532, 'nudged': 2533, 'numb': 2534, 'number': 2535, 'oak': 2536, 'obey': 2537, 'object': 2538, 'objects': 2539, 'obscured': 2540, 'obsessed': 2541, 'obvious': 2542, 'obviously': 2543, 'occasion': 2544, 'occasionally': 2545, 'occasions': 2546, 'occlumency': 2547, 'occurred': 2548, 'october': 2549, 'odd': 2550, 'oddly': 2551, 'offer': 2552, 'offered': 2553, 'offering': 2554, 'office': 2555, 'official': 2556, 'often': 2557, 'ogden': 2558, 'oh': 2559, 'oi': 2560, 'ok': 2561, 'okay': 2562, 'old': 2563, 'older': 2564, 'oldest': 2565, 'oliver': 2566, 'ollivander': 2567, 'ominous': 2568, 'omnioculars': 2569, 'one': 2570, 'ones': 2571, 'onto': 2572, 'oooh': 2573, 'open': 2574, 'opened': 2575, 'opening': 2576, 'opinion': 2577, 'opportunity': 2578, 'opposite': 2579, 'orange': 2580, 'order': 2581, 'ordered': 2582, 'orders': 2583, 'ordinary': 2584, 'original': 2585, 'orphanage': 2586, 'others': 2587, 'otherwise': 2588, 'ouch': 2589, 'ought': 2590, 'outline': 2591, 'outraged': 2592, 'outside': 2593, 'outstanding': 2594, 'outstretched': 2595, 'outta': 2596, 'overcome': 2597, 'overgrown': 2598, 'overhead': 2599, 'overheard': 2600, 'ow': 2601, 'owe': 2602, 'owl': 2603, 'owlery': 2604, 'owls': 2605, 'owned': 2606, 'owner': 2607, 'owners': 2608, 'p': 2609, 'pace': 2610, 'paces': 2611, 'pacing': 2612, 'pack': 2613, 'package': 2614, 'packed': 2615, 'packing': 2616, 'paddock': 2617, 'padma': 2618, 'page': 2619, 'pages': 2620, 'paid': 2621, 'pain': 2622, 'painful': 2623, 'painfully': 2624, 'painted': 2625, 'painting': 2626, 'pair': 2627, 'pairs': 2628, 'pajamas': 2629, 'pale': 2630, 'paler': 2631, 'palm': 2632, 'panic': 2633, 'panicked': 2634, 'pansy': 2635, 'panted': 2636, 'panting': 2637, 'paper': 2638, 'papers': 2639, 'parcel': 2640, 'parchment': 2641, 'parents': 2642, 'parkinson': 2643, 'parseltongue': 2644, 'part': 2645, 'parted': 2646, 'particular': 2647, 'particularly': 2648, 'partner': 2649, 'party': 2650, 'parvati': 2651, 'pass': 2652, 'passage': 2653, 'passageway': 2654, 'passed': 2655, 'passing': 2656, 'password': 2657, 'past': 2658, 'patch': 2659, 'patches': 2660, 'path': 2661, 'pathetic': 2662, 'patil': 2663, 'patronum': 2664, 'patronus': 2665, 'patted': 2666, 'patting': 2667, 'pause': 2668, 'paused': 2669, 'pausing': 2670, 'pavement': 2671, 'pay': 2672, 'paying': 2673, 'peace': 2674, 'pearly': 2675, 'peculiar': 2676, 'peeling': 2677, 'peered': 2678, 'peering': 2679, 'peeves': 2680, 'penalty': 2681, 'penetrate': 2682, 'pensieve': 2683, 'people': 2684, 'perch': 2685, 'perched': 2686, 'percy': 2687, 'perfect': 2688, 'perfectly': 2689, 'perform': 2690, 'performed': 2691, 'perhaps': 2692, 'permission': 2693, 'permit': 2694, 'permitted': 2695, 'perplexed': 2696, 'person': 2697, 'personal': 2698, 'personally': 2699, 'persuade': 2700, 'persuaded': 2701, 'pet': 2702, 'peter': 2703, 'petrified': 2704, 'pettigrew': 2705, 'petunia': 2706, 'phineas': 2707, 'phoenix': 2708, 'photograph': 2709, 'photographs': 2710, 'pick': 2711, 'picked': 2712, 'picking': 2713, 'picture': 2714, 'pictures': 2715, 'pie': 2716, 'piece': 2717, 'pieces': 2718, 'piercing': 2719, 'piers': 2720, 'pig': 2721, 'pigwidgeon': 2722, 'pile': 2723, 'piles': 2724, 'pillow': 2725, 'pillows': 2726, 'pince': 2727, 'pink': 2728, 'pinned': 2729, 'pipe': 2730, 'pit': 2731, 'pitch': 2732, 'pitched': 2733, 'pity': 2734, 'place': 2735, 'placed': 2736, 'places': 2737, 'placing': 2738, 'plain': 2739, 'plainly': 2740, 'plan': 2741, 'plank': 2742, 'planned': 2743, 'planning': 2744, 'plans': 2745, 'plant': 2746, 'plants': 2747, 'plate': 2748, 'plates': 2749, 'platform': 2750, 'play': 2751, 'played': 2752, 'player': 2753, 'players': 2754, 'playing': 2755, 'pleasant': 2756, 'pleasantly': 2757, 'please': 2758, 'pleased': 2759, 'pleasure': 2760, 'plenty': 2761, 'plump': 2762, 'plunged': 2763, 'pocket': 2764, 'pockets': 2765, 'point': 2766, 'pointed': 2767, 'pointing': 2768, 'pointless': 2769, 'points': 2770, 'poison': 2771, 'poisonous': 2772, 'poke': 2773, 'poked': 2774, 'poking': 2775, 'police': 2776, 'polished': 2777, 'polite': 2778, 'politely': 2779, 'poltergeist': 2780, 'polyjuice': 2781, 'pomfrey': 2782, 'pool': 2783, 'poor': 2784, 'pop': 2785, 'popping': 2786, 'popular': 2787, 'porridge': 2788, 'portkey': 2789, 'portrait': 2790, 'portraits': 2791, 'pose': 2792, 'position': 2793, 'positively': 2794, 'possess': 2795, 'possessed': 2796, 'possession': 2797, 'possessions': 2798, 'possibility': 2799, 'possible': 2800, 'possibly': 2801, 'post': 2802, 'poster': 2803, 'posters': 2804, 'posts': 2805, 'pot': 2806, 'potato': 2807, 'potion': 2808, 'potions': 2809, 'pots': 2810, 'potter': 2811, 'potters': 2812, 'pouch': 2813, 'pounded': 2814, 'pounding': 2815, 'poured': 2816, 'pouring': 2817, 'powder': 2818, 'power': 2819, 'powerful': 2820, 'powers': 2821, 'practical': 2822, 'practice': 2823, 'practices': 2824, 'practicing': 2825, 'practise': 2826, 'prat': 2827, 'precious': 2828, 'precisely': 2829, 'prefect': 2830, 'prefects': 2831, 'prefer': 2832, 'preferred': 2833, 'prepared': 2834, 'preparing': 2835, 'presence': 2836, 'present': 2837, 'presents': 2838, 'press': 2839, 'pressed': 2840, 'pressing': 2841, 'pressure': 2842, 'pretend': 2843, 'pretended': 2844, 'pretending': 2845, 'pretty': 2846, 'prevent': 2847, 'previous': 2848, 'previously': 2849, 'price': 2850, 'prickling': 2851, 'pride': 2852, 'prime': 2853, 'prince': 2854, 'prison': 2855, 'prisoners': 2856, 'private': 2857, 'privet': 2858, 'prize': 2859, 'probably': 2860, 'problem': 2861, 'problems': 2862, 'proceeded': 2863, 'prodding': 2864, 'produce': 2865, 'professor': 2866, 'professors': 2867, 'progress': 2868, 'promise': 2869, 'promised': 2870, 'promptly': 2871, 'pronounced': 2872, 'proof': 2873, 'proper': 2874, 'properly': 2875, 'prophecy': 2876, 'prophet': 2877, 'propped': 2878, 'prospect': 2879, 'protect': 2880, 'protected': 2881, 'protection': 2882, 'protective': 2883, 'protest': 2884, 'protruding': 2885, 'proud': 2886, 'proudly': 2887, 'prove': 2888, 'proved': 2889, 'pub': 2890, 'public': 2891, 'pudding': 2892, 'puffy': 2893, 'pull': 2894, 'pulled': 2895, 'pulling': 2896, 'pumpkin': 2897, 'punched': 2898, 'punching': 2899, 'punish': 2900, 'punished': 2901, 'punishment': 2902, 'pupils': 2903, 'pure': 2904, 'purple': 2905, 'purpose': 2906, 'pus': 2907, 'push': 2908, 'pushed': 2909, 'pushing': 2910, 'put': 2911, 'putting': 2912, 'puzzled': 2913, 'quaffle': 2914, 'quality': 2915, 'quarter': 2916, 'quarters': 2917, 'question': 2918, 'questioning': 2919, 'questions': 2920, 'queue': 2921, 'quibbler': 2922, 'quick': 2923, 'quickly': 2924, 'quidditch': 2925, 'quiet': 2926, 'quietly': 2927, 'quill': 2928, 'quills': 2929, 'quirrell': 2930, 'quite': 2931, 'quivering': 2932, 'quot': 2933, 'r': 2934, 'race': 2935, 'racing': 2936, 'rack': 2937, 'rage': 2938, 'ragged': 2939, 'rain': 2940, 'raise': 2941, 'raised': 2942, 'raising': 2943, 'ran': 2944, 'random': 2945, 'rang': 2946, 'range': 2947, 'rapidly': 2948, 'rare': 2949, 'rarely': 2950, 'rat': 2951, 'rather': 2952, 'rats': 2953, 'rattled': 2954, 'rattling': 2955, 'ravenclaw': 2956, 'ravenclaws': 2957, 'raw': 2958, 'reach': 2959, 'reached': 2960, 'reaching': 2961, 'reaction': 2962, 'read': 2963, 'reading': 2964, 'ready': 2965, 'real': 2966, 'realise': 2967, 'realised': 2968, 'realize': 2969, 'realized': 2970, 'realizing': 2971, 'really': 2972, 'reappeared': 2973, 'rear': 2974, 'reason': 2975, 'reasonable': 2976, 'reasonably': 2977, 'reasons': 2978, 'receive': 2979, 'received': 2980, 'recent': 2981, 'recently': 2982, 'reckon': 2983, 'reckons': 2984, 'recognised': 2985, 'recognize': 2986, 'recognized': 2987, 'record': 2988, 'red': 2989, 'reflected': 2990, 'reflection': 2991, 'refuse': 2992, 'refused': 2993, 'refusing': 2994, 'register': 2995, 'regret': 2996, 'regular': 2997, 'regulus': 2998, 'related': 2999, 'relatives': 3000, 'relaxed': 3001, 'release': 3002, 'released': 3003, 'relief': 3004, 'relieved': 3005, 'reluctantly': 3006, 'remain': 3007, 'remained': 3008, 'remaining': 3009, 'remains': 3010, 'remember': 3011, 'remembered': 3012, 'remembering': 3013, 'remind': 3014, 'reminded': 3015, 'reminding': 3016, 'remorse': 3017, 'remove': 3018, 'removed': 3019, 'remus': 3020, 'repair': 3021, 'repaired': 3022, 'repeat': 3023, 'repeated': 3024, 'replaced': 3025, 'replied': 3026, 'reply': 3027, 'report': 3028, 'reported': 3029, 'request': 3030, 'require': 3031, 'required': 3032, 'requirement': 3033, 'rescue': 3034, 'resembled': 3035, 'resentful': 3036, 'resigned': 3037, 'resist': 3038, 'respect': 3039, 'respond': 3040, 'response': 3041, 'responsibility': 3042, 'responsible': 3043, 'rest': 3044, 'rested': 3045, 'resting': 3046, 'results': 3047, 'resumed': 3048, 'retreated': 3049, 'retrieve': 3050, 'return': 3051, 'returned': 3052, 'returning': 3053, 'reveal': 3054, 'revealed': 3055, 'revealing': 3056, 'revenge': 3057, 'revolving': 3058, 'reward': 3059, 'ribs': 3060, 'rid': 3061, 'riddikulus': 3062, 'riddle': 3063, 'riddles': 3064, 'ride': 3065, 'ridiculous': 3066, 'righ': 3067, 'right': 3068, 'rigid': 3069, 'ring': 3070, 'ringing': 3071, 'rip': 3072, 'ripped': 3073, 'ripping': 3074, 'rippling': 3075, 'rise': 3076, 'risen': 3077, 'rising': 3078, 'risk': 3079, 'rita': 3080, 'river': 3081, 'road': 3082, 'roar': 3083, 'roared': 3084, 'roaring': 3085, 'robe': 3086, 'roberts': 3087, 'robes': 3088, 'rock': 3089, 'roger': 3090, 'roll': 3091, 'rolled': 3092, 'rolling': 3093, 'rolls': 3094, 'romilda': 3095, 'ron': 3096, 'ronald': 3097, 'ronan': 3098, 'roof': 3099, 'rookwood': 3100, 'room': 3101, 'rooms': 3102, 'roots': 3103, 'rope': 3104, 'ropes': 3105, 'rose': 3106, 'rosmerta': 3107, 'rough': 3108, 'roughly': 3109, 'round': 3110, 'rounded': 3111, 'row': 3112, 'rows': 3113, 'rubbed': 3114, 'rubbing': 3115, 'rubbish': 3116, 'rucksack': 3117, 'ruddy': 3118, 'rude': 3119, 'ruffled': 3120, 'rufus': 3121, 'ruined': 3122, 'rule': 3123, 'rules': 3124, 'rumbling': 3125, 'rummaged': 3126, 'rummaging': 3127, 'rumors': 3128, 'run': 3129, 'runes': 3130, 'running': 3131, 'rush': 3132, 'rushed': 3133, 'rushing': 3134, 'rustling': 3135, 'sack': 3136, 'sacked': 3137, 'sad': 3138, 'sadly': 3139, 'safe': 3140, 'safely': 3141, 'safety': 3142, 'said': 3143, 'sake': 3144, 'sallow': 3145, 'sank': 3146, 'sarcastically': 3147, 'sat': 3148, 'satisfaction': 3149, 'satisfied': 3150, 'saturday': 3151, 'sausages': 3152, 'savagely': 3153, 'save': 3154, 'saved': 3155, 'saving': 3156, 'saw': 3157, 'say': 3158, 'saying': 3159, 'says': 3160, 'scabbers': 3161, 'scabior': 3162, 'scales': 3163, 'scanned': 3164, 'scanning': 3165, 'scar': 3166, 'scared': 3167, 'scarlet': 3168, 'scars': 3169, 'scarves': 3170, 'scattered': 3171, 'scene': 3172, 'schedule': 3173, 'school': 3174, 'schoolbag': 3175, 'scooped': 3176, 'score': 3177, 'scored': 3178, 'scowled': 3179, 'scowling': 3180, 'scrambled': 3181, 'scratched': 3182, 'scratching': 3183, 'scream': 3184, 'screamed': 3185, 'screaming': 3186, 'screams': 3187, 'screech': 3188, 'screeched': 3189, 'screwed': 3190, 'scribbled': 3191, 'scribbling': 3192, 'scrimgeour': 3193, 'scroll': 3194, 'scum': 3195, 'scurrying': 3196, 'sea': 3197, 'sealed': 3198, 'seamus': 3199, 'search': 3200, 'searched': 3201, 'searching': 3202, 'seared': 3203, 'seat': 3204, 'seated': 3205, 'seats': 3206, 'second': 3207, 'seconds': 3208, 'secrecy': 3209, 'secret': 3210, 'secrets': 3211, 'section': 3212, 'secure': 3213, 'security': 3214, 'see': 3215, 'seeing': 3216, 'seek': 3217, 'seeker': 3218, 'seeking': 3219, 'seem': 3220, 'seemed': 3221, 'seems': 3222, 'seen': 3223, 'sees': 3224, 'seize': 3225, 'seized': 3226, 'seizing': 3227, 'self': 3228, 'sell': 3229, 'send': 3230, 'sending': 3231, 'sensation': 3232, 'sense': 3233, 'sensed': 3234, 'senses': 3235, 'sent': 3236, 'sentence': 3237, 'separate': 3238, 'separated': 3239, 'september': 3240, 'serenely': 3241, 'series': 3242, 'serious': 3243, 'seriously': 3244, 'serpent': 3245, 'servant': 3246, 'serve': 3247, 'served': 3248, 'service': 3249, 'set': 3250, 'setting': 3251, 'settle': 3252, 'settled': 3253, 'seven': 3254, 'seventeen': 3255, 'seventh': 3256, 'several': 3257, 'severe': 3258, 'severely': 3259, 'severus': 3260, 'shabby': 3261, 'shack': 3262, 'shacklebolt': 3263, 'shade': 3264, 'shadow': 3265, 'shadows': 3266, 'shadowy': 3267, 'shaggy': 3268, 'shake': 3269, 'shaken': 3270, 'shakily': 3271, 'shaking': 3272, 'shall': 3273, 'shame': 3274, 'shape': 3275, 'shaped': 3276, 'shapes': 3277, 'share': 3278, 'shared': 3279, 'sharing': 3280, 'sharp': 3281, 'sharply': 3282, 'shattered': 3283, 'sheet': 3284, 'sheets': 3285, 'shelf': 3286, 'shell': 3287, 'shelves': 3288, 'shh': 3289, 'shield': 3290, 'shifted': 3291, 'shifting': 3292, 'shimmering': 3293, 'shining': 3294, 'shiny': 3295, 'ship': 3296, 'shirt': 3297, 'shivered': 3298, 'shivering': 3299, 'shock': 3300, 'shocked': 3301, 'shoes': 3302, 'shone': 3303, 'shook': 3304, 'shooting': 3305, 'shop': 3306, 'shopping': 3307, 'shops': 3308, 'short': 3309, 'shorter': 3310, 'shortly': 3311, 'shot': 3312, 'shoulder': 3313, 'shoulders': 3314, 'shout': 3315, 'shouted': 3316, 'shouting': 3317, 'shouts': 3318, 'shoved': 3319, 'show': 3320, 'showed': 3321, 'shower': 3322, 'showing': 3323, 'shown': 3324, 'shows': 3325, 'shriek': 3326, 'shrieked': 3327, 'shrieking': 3328, 'shrilly': 3329, 'shrinking': 3330, 'shrugged': 3331, 'shrugging': 3332, 'shudder': 3333, 'shuddered': 3334, 'shuddering': 3335, 'shuffled': 3336, 'shuffling': 3337, 'shunpike': 3338, 'shut': 3339, 'sick': 3340, 'sickles': 3341, 'side': 3342, 'sidecar': 3343, 'sides': 3344, 'sideways': 3345, 'sigh': 3346, 'sighed': 3347, 'sight': 3348, 'sign': 3349, 'signed': 3350, 'signs': 3351, 'silence': 3352, 'silent': 3353, 'silently': 3354, 'silk': 3355, 'silly': 3356, 'silver': 3357, 'silvery': 3358, 'simple': 3359, 'simply': 3360, 'since': 3361, 'sincerely': 3362, 'singing': 3363, 'single': 3364, 'sinister': 3365, 'sink': 3366, 'sinking': 3367, 'sir': 3368, 'sirius': 3369, 'sister': 3370, 'sisters': 3371, 'sit': 3372, 'sitting': 3373, 'situation': 3374, 'six': 3375, 'sixteen': 3376, 'sixth': 3377, 'sixty': 3378, 'size': 3379, 'sized': 3380, 'skeeter': 3381, 'skidded': 3382, 'skin': 3383, 'skinny': 3384, 'skrewt': 3385, 'skrewts': 3386, 'skull': 3387, 'sky': 3388, 'slammed': 3389, 'slamming': 3390, 'sleek': 3391, 'sleep': 3392, 'sleeping': 3393, 'sleepy': 3394, 'sleeve': 3395, 'sleeves': 3396, 'slept': 3397, 'slid': 3398, 'slide': 3399, 'sliding': 3400, 'slight': 3401, 'slightest': 3402, 'slightly': 3403, 'slimy': 3404, 'slip': 3405, 'slipped': 3406, 'slipping': 3407, 'slit': 3408, 'slithering': 3409, 'slits': 3410, 'sloping': 3411, 'slow': 3412, 'slowed': 3413, 'slowly': 3414, 'slug': 3415, 'slughorn': 3416, 'slugs': 3417, 'slumped': 3418, 'slytherin': 3419, 'slytherins': 3420, 'small': 3421, 'smaller': 3422, 'smallest': 3423, 'smart': 3424, 'smashed': 3425, 'smell': 3426, 'smelled': 3427, 'smile': 3428, 'smiled': 3429, 'smiling': 3430, 'smirked': 3431, 'smirking': 3432, 'smith': 3433, 'smoke': 3434, 'smoking': 3435, 'smooth': 3436, 'smoothly': 3437, 'snake': 3438, 'snakelike': 3439, 'snakes': 3440, 'snap': 3441, 'snape': 3442, 'snapped': 3443, 'snapping': 3444, 'snarled': 3445, 'snatched': 3446, 'snatching': 3447, 'sneak': 3448, 'sneaked': 3449, 'sneaking': 3450, 'sneakoscope': 3451, 'sneer': 3452, 'sneered': 3453, 'sneering': 3454, 'sniffed': 3455, 'sniggered': 3456, 'snitch': 3457, 'snorted': 3458, 'snout': 3459, 'snow': 3460, 'snowy': 3461, 'soared': 3462, 'soaring': 3463, 'sob': 3464, 'sobbed': 3465, 'sobbing': 3466, 'sobs': 3467, 'socks': 3468, 'sofa': 3469, 'soft': 3470, 'softly': 3471, 'solid': 3472, 'solution': 3473, 'somebody': 3474, 'somehow': 3475, 'someone': 3476, 'something': 3477, 'sometimes': 3478, 'somewhat': 3479, 'somewhere': 3480, 'son': 3481, 'song': 3482, 'sons': 3483, 'soon': 3484, 'sooner': 3485, 'sorcerer': 3486, 'sorry': 3487, 'sort': 3488, 'sorted': 3489, 'sorting': 3490, 'sorts': 3491, 'sought': 3492, 'soul': 3493, 'sound': 3494, 'sounded': 3495, 'sounding': 3496, 'sounds': 3497, 'soup': 3498, 'source': 3499, 'space': 3500, 'spare': 3501, 'sparkling': 3502, 'sparks': 3503, 'spat': 3504, 'speak': 3505, 'speaking': 3506, 'special': 3507, 'spectacles': 3508, 'spectacular': 3509, 'sped': 3510, 'speech': 3511, 'speed': 3512, 'speeding': 3513, 'spell': 3514, 'spellbooks': 3515, 'spells': 3516, 'spend': 3517, 'spending': 3518, 'spent': 3519, 'spider': 3520, 'spiders': 3521, 'spilled': 3522, 'spilling': 3523, 'spinnet': 3524, 'spinning': 3525, 'spiral': 3526, 'spirit': 3527, 'spirits': 3528, 'spite': 3529, 'spitting': 3530, 'split': 3531, 'spluttered': 3532, 'spoke': 3533, 'spoken': 3534, 'spot': 3535, 'spots': 3536, 'spotted': 3537, 'sprang': 3538, 'sprawled': 3539, 'spread': 3540, 'spreading': 3541, 'sprinted': 3542, 'sprinting': 3543, 'sprout': 3544, 'spun': 3545, 'spy': 3546, 'squad': 3547, 'square': 3548, 'squashed': 3549, 'squeak': 3550, 'squeaked': 3551, 'squealed': 3552, 'squeezed': 3553, 'squeezing': 3554, 'squib': 3555, 'squinted': 3556, 'squinting': 3557, 'st': 3558, 'stab': 3559, 'stack': 3560, 'stadium': 3561, 'staff': 3562, 'stag': 3563, 'stage': 3564, 'staggered': 3565, 'stained': 3566, 'staircase': 3567, 'stairs': 3568, 'stalked': 3569, 'stammered': 3570, 'stamping': 3571, 'stan': 3572, 'stand': 3573, 'standard': 3574, 'standing': 3575, 'stands': 3576, 'star': 3577, 'stare': 3578, 'stared': 3579, 'staring': 3580, 'starry': 3581, 'stars': 3582, 'start': 3583, 'started': 3584, 'starting': 3585, 'startled': 3586, 'starving': 3587, 'state': 3588, 'station': 3589, 'statue': 3590, 'statues': 3591, 'stay': 3592, 'stayed': 3593, 'staying': 3594, 'steadily': 3595, 'steady': 3596, 'steak': 3597, 'steal': 3598, 'stealing': 3599, 'steam': 3600, 'steep': 3601, 'steering': 3602, 'step': 3603, 'stepped': 3604, 'steps': 3605, 'stern': 3606, 'sternly': 3607, 'stick': 3608, 'sticking': 3609, 'stiff': 3610, 'stiffly': 3611, 'still': 3612, 'stir': 3613, 'stirred': 3614, 'stirring': 3615, 'stole': 3616, 'stolen': 3617, 'stomach': 3618, 'stone': 3619, 'stones': 3620, 'stood': 3621, 'stool': 3622, 'stooped': 3623, 'stop': 3624, 'stopped': 3625, 'stopping': 3626, 'store': 3627, 'stories': 3628, 'storm': 3629, 'stormed': 3630, 'story': 3631, 'straight': 3632, 'straightened': 3633, 'straightening': 3634, 'strained': 3635, 'straining': 3636, 'strange': 3637, 'strangely': 3638, 'stranger': 3639, 'strangled': 3640, 'streaked': 3641, 'stream': 3642, 'streaming': 3643, 'street': 3644, 'strength': 3645, 'stretch': 3646, 'stretched': 3647, 'stretching': 3648, 'strewn': 3649, 'stricken': 3650, 'striding': 3651, 'strike': 3652, 'string': 3653, 'strode': 3654, 'stroke': 3655, 'stroking': 3656, 'strolled': 3657, 'strong': 3658, 'stronger': 3659, 'strongly': 3660, 'struck': 3661, 'struggle': 3662, 'struggled': 3663, 'struggling': 3664, 'stubbornly': 3665, 'stubby': 3666, 'stuck': 3667, 'student': 3668, 'students': 3669, 'study': 3670, 'studying': 3671, 'stuff': 3672, 'stuffed': 3673, 'stuffing': 3674, 'stumbled': 3675, 'stumped': 3676, 'stunned': 3677, 'stunning': 3678, 'stupefy': 3679, 'stupid': 3680, 'sturgis': 3681, 'subject': 3682, 'subjects': 3683, 'substance': 3684, 'succeeded': 3685, 'success': 3686, 'sudden': 3687, 'suddenly': 3688, 'suffered': 3689, 'suffering': 3690, 'sugar': 3691, 'suggest': 3692, 'suggested': 3693, 'suit': 3694, 'summer': 3695, 'summon': 3696, 'summoning': 3697, 'sun': 3698, 'sunday': 3699, 'sunk': 3700, 'sunken': 3701, 'sunlight': 3702, 'support': 3703, 'supported': 3704, 'supporters': 3705, 'suppose': 3706, 'supposed': 3707, 'suppress': 3708, 'sure': 3709, 'surely': 3710, 'surface': 3711, 'surge': 3712, 'surprise': 3713, 'surprised': 3714, 'surrounded': 3715, 'surrounding': 3716, 'surveyed': 3717, 'surveying': 3718, 'survive': 3719, 'survived': 3720, 'suspected': 3721, 'suspended': 3722, 'suspicion': 3723, 'suspicious': 3724, 'suspiciously': 3725, 'swallowed': 3726, 'swam': 3727, 'swarming': 3728, 'swayed': 3729, 'swaying': 3730, 'swear': 3731, 'sweat': 3732, 'sweater': 3733, 'sweating': 3734, 'sweaty': 3735, 'sweeping': 3736, 'sweet': 3737, 'sweetly': 3738, 'sweets': 3739, 'swelled': 3740, 'swelling': 3741, 'swept': 3742, 'swerved': 3743, 'swiftly': 3744, 'swig': 3745, 'swimming': 3746, 'swing': 3747, 'swinging': 3748, 'swirling': 3749, 'swollen': 3750, 'swooped': 3751, 'swooping': 3752, 'sword': 3753, 'swore': 3754, 'sworn': 3755, 'swung': 3756, 'symbol': 3757, 'table': 3758, 'tables': 3759, 'tail': 3760, 'take': 3761, 'taken': 3762, 'takes': 3763, 'taking': 3764, 'tale': 3765, 'talent': 3766, 'tales': 3767, 'talk': 3768, 'talked': 3769, 'talking': 3770, 'tall': 3771, 'taller': 3772, 'tangled': 3773, 'tank': 3774, 'tap': 3775, 'tapestry': 3776, 'tapped': 3777, 'tapping': 3778, 'task': 3779, 'tasks': 3780, 'taste': 3781, 'taught': 3782, 'tea': 3783, 'teach': 3784, 'teacher': 3785, 'teachers': 3786, 'teaching': 3787, 'teacup': 3788, 'team': 3789, 'teams': 3790, 'tear': 3791, 'tearing': 3792, 'tears': 3793, 'ted': 3794, 'teeth': 3795, 'telephone': 3796, 'telescope': 3797, 'television': 3798, 'tell': 3799, 'telling': 3800, 'tells': 3801, 'temper': 3802, 'temple': 3803, 'ten': 3804, 'tense': 3805, 'tent': 3806, 'tentatively': 3807, 'tents': 3808, 'ter': 3809, 'term': 3810, 'terms': 3811, 'terrible': 3812, 'terrified': 3813, 'terror': 3814, 'test': 3815, 'tested': 3816, 'tha': 3817, 'thank': 3818, 'thanks': 3819, 'theory': 3820, 'therefore': 3821, 'thestral': 3822, 'thestrals': 3823, 'thick': 3824, 'thickly': 3825, 'thicknesse': 3826, 'thief': 3827, 'thin': 3828, 'thing': 3829, 'things': 3830, 'think': 3831, 'thinking': 3832, 'thinks': 3833, 'third': 3834, 'thirteen': 3835, 'thirty': 3836, 'thomas': 3837, 'thoroughly': 3838, 'though': 3839, 'thought': 3840, 'thoughtfully': 3841, 'thoughts': 3842, 'thousand': 3843, 'thousands': 3844, 'thrashing': 3845, 'thread': 3846, 'threatened': 3847, 'threatening': 3848, 'three': 3849, 'threshold': 3850, 'threw': 3851, 'throat': 3852, 'throbbing': 3853, 'throughout': 3854, 'throw': 3855, 'throwing': 3856, 'thrown': 3857, 'thrust': 3858, 'thud': 3859, 'thumping': 3860, 'thundering': 3861, 'thursday': 3862, 'tickets': 3863, 'tie': 3864, 'tied': 3865, 'tight': 3866, 'tightly': 3867, 'till': 3868, 'time': 3869, 'times': 3870, 'tin': 3871, 'tiny': 3872, 'tip': 3873, 'tipped': 3874, 'tips': 3875, 'tired': 3876, 'toad': 3877, 'toast': 3878, 'today': 3879, 'toes': 3880, 'together': 3881, 'toilet': 3882, 'told': 3883, 'tom': 3884, 'tomorrow': 3885, 'tone': 3886, 'tones': 3887, 'tongue': 3888, 'tonight': 3889, 'tonks': 3890, 'took': 3891, 'top': 3892, 'topmost': 3893, 'toppled': 3894, 'torches': 3895, 'tore': 3896, 'torn': 3897, 'torture': 3898, 'tortured': 3899, 'total': 3900, 'touch': 3901, 'touched': 3902, 'touching': 3903, 'tough': 3904, 'tournament': 3905, 'toward': 3906, 'towards': 3907, 'tower': 3908, 'towering': 3909, 'trace': 3910, 'track': 3911, 'tracks': 3912, 'trailing': 3913, 'train': 3914, 'trained': 3915, 'training': 3916, 'traitor': 3917, 'transfiguration': 3918, 'transfixed': 3919, 'transform': 3920, 'transformed': 3921, 'transparent': 3922, 'trapdoor': 3923, 'trapped': 3924, 'traveled': 3925, 'traveling': 3926, 'travers': 3927, 'tray': 3928, 'treacle': 3929, 'treasure': 3930, 'treat': 3931, 'treated': 3932, 'tree': 3933, 'trees': 3934, 'trelawney': 3935, 'trembled': 3936, 'trembling': 3937, 'trevor': 3938, 'trick': 3939, 'tricks': 3940, 'tricky': 3941, 'tried': 3942, 'trip': 3943, 'tripped': 3944, 'triumph': 3945, 'triumphant': 3946, 'triwizard': 3947, 'troll': 3948, 'trolley': 3949, 'trolls': 3950, 'trouble': 3951, 'troubled': 3952, 'true': 3953, 'truly': 3954, 'trunk': 3955, 'trunks': 3956, 'trust': 3957, 'trusted': 3958, 'trusts': 3959, 'truth': 3960, 'try': 3961, 'trying': 3962, 'tucked': 3963, 'tuesday': 3964, 'tugged': 3965, 'tugging': 3966, 'tunnel': 3967, 'turban': 3968, 'turn': 3969, 'turned': 3970, 'turning': 3971, 'turns': 3972, 'twelve': 3973, 'twenty': 3974, 'twice': 3975, 'twigs': 3976, 'twin': 3977, 'twinkling': 3978, 'twins': 3979, 'twisted': 3980, 'twisting': 3981, 'twitched': 3982, 'twitching': 3983, 'two': 3984, 'tying': 3985, 'ugly': 3986, 'um': 3987, 'umbrella': 3988, 'umbridge': 3989, 'un': 3990, 'unable': 3991, 'unaware': 3992, 'uncertainly': 3993, 'uncle': 3994, 'uncomfortable': 3995, 'uncomfortably': 3996, 'unconscious': 3997, 'uncontrollably': 3998, 'underage': 3999, 'underground': 4000, 'underneath': 4001, 'understand': 4002, 'understanding': 4003, 'understood': 4004, 'undertone': 4005, 'undoubtedly': 4006, 'uneasy': 4007, 'unexpected': 4008, 'unfolded': 4009, 'unfortunate': 4010, 'unfortunately': 4011, 'unicorn': 4012, 'united': 4013, 'unknown': 4014, 'unless': 4015, 'unlike': 4016, 'unlikely': 4017, 'unpleasant': 4018, 'unpleasantly': 4019, 'untidy': 4020, 'unusual': 4021, 'unusually': 4022, 'upon': 4023, 'upper': 4024, 'upright': 4025, 'upset': 4026, 'upside': 4027, 'upstairs': 4028, 'upward': 4029, 'upwards': 4030, 'urge': 4031, 'urged': 4032, 'urgent': 4033, 'urgently': 4034, 'us': 4035, 'use': 4036, 'used': 4037, 'useful': 4038, 'useless': 4039, 'uses': 4040, 'using': 4041, 'usual': 4042, 'usually': 4043, 'utter': 4044, 'utterly': 4045, 'vaguely': 4046, 'valuable': 4047, 'vanish': 4048, 'vanished': 4049, 'vanishing': 4050, 'various': 4051, 'vast': 4052, 'vault': 4053, 'veela': 4054, 'veil': 4055, 'velvet': 4056, 'venom': 4057, 'vernon': 4058, 'version': 4059, 'vicious': 4060, 'victims': 4061, 'view': 4062, 'vigorously': 4063, 'viktor': 4064, 'village': 4065, 'violent': 4066, 'violently': 4067, 'violet': 4068, 'visible': 4069, 'vision': 4070, 'visit': 4071, 'visited': 4072, 'visiting': 4073, 'visitors': 4074, 'vivid': 4075, 'voice': 4076, 'voices': 4077, 'vol': 4078, 'voldemort': 4079, 'voldemorts': 4080, 'w': 4081, 'wailing': 4082, 'waist': 4083, 'wait': 4084, 'waited': 4085, 'waiting': 4086, 'wake': 4087, 'walk': 4088, 'walked': 4089, 'walking': 4090, 'wall': 4091, 'walls': 4092, 'wan': 4093, 'wand': 4094, 'wandered': 4095, 'wandering': 4096, 'wandlight': 4097, 'wandmaker': 4098, 'wands': 4099, 'want': 4100, 'wanted': 4101, 'wanting': 4102, 'wants': 4103, 'war': 4104, 'ward': 4105, 'wardrobe': 4106, 'warlock': 4107, 'warm': 4108, 'warmth': 4109, 'warn': 4110, 'warned': 4111, 'warning': 4112, 'warrington': 4113, 'wary': 4114, 'wash': 4115, 'washed': 4116, 'waste': 4117, 'wasted': 4118, 'wasting': 4119, 'watch': 4120, 'watched': 4121, 'watching': 4122, 'water': 4123, 'watery': 4124, 'wave': 4125, 'waved': 4126, 'waving': 4127, 'way': 4128, 'ways': 4129, 'weak': 4130, 'weakly': 4131, 'weapon': 4132, 'wear': 4133, 'wearily': 4134, 'wearing': 4135, 'weasley': 4136, 'weasleys': 4137, 'weather': 4138, 'web': 4139, 'wedding': 4140, 'wednesday': 4141, 'week': 4142, 'weekend': 4143, 'weeks': 4144, 'weight': 4145, 'weird': 4146, 'welcome': 4147, 'well': 4148, 'went': 4149, 'werewolf': 4150, 'werewolves': 4151, 'west': 4152, 'wet': 4153, 'wha': 4154, 'whatever': 4155, 'whatsoever': 4156, 'wheeled': 4157, 'wheezy': 4158, 'whenever': 4159, 'whereabouts': 4160, 'wherever': 4161, 'whether': 4162, 'whimpering': 4163, 'whinging': 4164, 'whipped': 4165, 'whirled': 4166, 'whisper': 4167, 'whispered': 4168, 'whispering': 4169, 'whistle': 4170, 'whistling': 4171, 'white': 4172, 'whoever': 4173, 'whole': 4174, 'whomping': 4175, 'whose': 4176, 'wide': 4177, 'widely': 4178, 'widened': 4179, 'widening': 4180, 'wider': 4181, 'wife': 4182, 'wild': 4183, 'wildly': 4184, 'willing': 4185, 'willow': 4186, 'win': 4187, 'winced': 4188, 'wind': 4189, 'winding': 4190, 'window': 4191, 'windows': 4192, 'windowsill': 4193, 'wine': 4194, 'wing': 4195, 'winged': 4196, 'wings': 4197, 'winked': 4198, 'winking': 4199, 'winky': 4200, 'winning': 4201, 'wipe': 4202, 'wiped': 4203, 'wiping': 4204, 'wise': 4205, 'wish': 4206, 'wished': 4207, 'wishes': 4208, 'wishing': 4209, 'witch': 4210, 'witchcraft': 4211, 'witches': 4212, 'withdrew': 4213, 'within': 4214, 'without': 4215, 'witness': 4216, 'witnessed': 4217, 'wizard': 4218, 'wizarding': 4219, 'wizardry': 4220, 'wizards': 4221, 'wizengamot': 4222, 'woke': 4223, 'woken': 4224, 'woman': 4225, 'women': 4226, 'wonder': 4227, 'wondered': 4228, 'wonderful': 4229, 'wondering': 4230, 'wood': 4231, 'wooden': 4232, 'woods': 4233, 'word': 4234, 'words': 4235, 'wore': 4236, 'work': 4237, 'worked': 4238, 'working': 4239, 'works': 4240, 'world': 4241, 'wormtail': 4242, 'worn': 4243, 'worried': 4244, 'worry': 4245, 'worrying': 4246, 'worse': 4247, 'worst': 4248, 'worth': 4249, 'worthy': 4250, 'would': 4251, 'wound': 4252, 'wounds': 4253, 'wow': 4254, 'wrapped': 4255, 'wrenched': 4256, 'wrist': 4257, 'write': 4258, 'writhing': 4259, 'writing': 4260, 'written': 4261, 'wrong': 4262, 'wrote': 4263, 'xenophilius': 4264, 'yard': 4265, 'yards': 4266, 'yawned': 4267, 'yawning': 4268, 'yaxley': 4269, 'yeah': 4270, 'year': 4271, 'years': 4272, 'yeh': 4273, 'yell': 4274, 'yelled': 4275, 'yelling': 4276, 'yellow': 4277, 'yellowish': 4278, 'yells': 4279, 'yep': 4280, 'yer': 4281, 'yes': 4282, 'yesterday': 4283, 'yet': 4284, 'young': 4285, 'younger': 4286, 'youngest': 4287, 'youth': 4288, 'zabini': 4289, 'zacharias': 4290, 'ze': 4291, 'zonko': 4292, 'zoomed': 4293, 'zooming': 4294, '¨c': 4295, '—': 4296, '”': 4297}\n",
            "Co-occurrence Dictionary Sample: {'boy': defaultdict(<class 'int'>, {'lived': 18, 'mr': 33, 'mrs': 33, 'dursley': 8, 'number': 15, 'four': 14, 'privet': 3, 'drive': 4, 'proud': 5, 'say': 45, 'perfectly': 4, 'normal': 10, 'thank': 14, 'much': 51, 'last': 37, 'people': 48, 'expect': 15, 'involved': 2, 'anything': 36, 'strange': 6, 'thin': 8, 'blonde': 3, 'nearly': 15, 'twice': 3, 'usual': 13, 'amount': 2, 'neck': 3, 'came': 44, 'useful': 2, 'spent': 4, 'time': 62, 'craning': 1, 'garden': 3, 'dursleys': 15, 'small': 38, 'son': 39, 'called': 25, 'dudley': 36, 'opinion': 3, 'anywhere': 5, 'everything': 18, 'wanted': 14, 'also': 15, 'secret': 12, 'greatest': 9, 'fear': 10, 'somebody': 4, 'would': 110, 'discover': 4, 'think': 75, 'could': 122, 'bear': 1, 'anyone': 30, 'found': 29, 'potters': 8, 'potter': 124, 'good': 55, 'nothing': 36, 'husband': 2, 'possible': 6, 'shuddered': 3, 'arrived': 11, 'street': 6, 'knew': 42, 'never': 62, 'even': 37, 'seen': 29, 'another': 37, 'reason': 7, 'keeping': 5, 'away': 55, 'want': 30, 'child': 12, 'like': 112, 'woke': 5, 'dull': 2, 'gray': 4, 'tuesday': 1, 'story': 12, 'sky': 1, 'unusual': 4, 'name': 27, 'sure': 31, 'lots': 3, 'harry': 741, 'come': 59, 'might': 48, 'point': 12, 'worrying': 1, 'always': 28, 'got': 103, 'upset': 2, 'mention': 12, 'sister': 6, 'blame': 3, 'cloaks': 2, 'lot': 14, 'harder': 3, 'concentrate': 2, 'afternoon': 7, 'reached': 14, 'patted': 2, 'shoulder': 7, 'know': 149, 'said': 603, 'heavily': 4, 'professor': 78, 'mcgonagall': 29, 'voice': 71, 'trembled': 4, 'went': 35, 'saying': 28, 'tried': 17, 'kill': 28, 'little': 75, 'one': 107, 'knows': 11, 'voldemort': 106, 'power': 17, 'somehow': 7, 'broke': 11, 'gone': 21, 'dumbledore': 188, 'nodded': 10, 'true': 10, 'done': 20, 'killed': 17, 'things': 22, 'stop': 20, 'heaven': 1, 'survive': 2, 'guess': 4, 'may': 9, 'pulled': 13, 'lace': 1, 'handkerchief': 3, 'eyes': 84, 'beneath': 12, 'spectacles': 2, 'books': 10, 'written': 3, 'every': 20, 'world': 15, 'exactly': 12, 'looking': 76, 'seriously': 4, 'top': 17, 'half': 24, 'moon': 4, 'glasses': 9, 'enough': 25, 'turn': 16, 'head': 90, 'famous': 8, 'walk': 3, 'talk': 13, 'something': 51, 'remember': 24, 'see': 97, 'better': 26, 'growing': 4, 'ready': 8, 'take': 31, 'opened': 12, 'mouth': 14, 'changed': 12, 'mind': 22, 'swallowed': 5, 'yes': 53, 'right': 49, 'course': 37, 'getting': 12, 'eyed': 2, 'cloak': 7, 'suddenly': 31, 'though': 53, 'thought': 45, 'hiding': 6, 'underneath': 1, 'hagrid': 60, 'bringing': 5, 'wise': 4, 'trust': 14, 'important': 6, 'sir': 18, 'house': 43, 'almost': 24, 'destroyed': 10, 'muggles': 7, 'started': 16, 'around': 85, 'fell': 23, 'asleep': 5, 'bent': 2, 'forward': 25, 'blankets': 3, 'inside': 17, 'visible': 2, 'baby': 10, 'fast': 6, 'jet': 2, 'black': 54, 'hair': 36, 'forehead': 7, 'curiously': 8, 'shaped': 4, 'cut': 3, 'bolt': 3, 'lightning': 6, 'whispered': 17, 'bottles': 2, 'spend': 4, 'next': 37, 'weeks': 4, 'cousin': 8, 'moment': 38, 'meeting': 4, 'country': 1, 'holding': 10, 'hushed': 3, 'voices': 4, '1': 9, 'vanishing': 3, 'glass': 10, 'ten': 19, 'years': 34, 'passed': 11, 'since': 18, 'woken': 1, 'find': 26, 'front': 36, 'step': 3, 'hardly': 11, 'sun': 5, 'ago': 19, 'pictures': 4, 'looked': 83, 'large': 38, 'pink': 8, 'ball': 2, 'wearing': 17, 'different': 4, 'colored': 5, 'longer': 7, 'photographs': 3, 'showed': 6, 'blond': 11, 'first': 52, 'fair': 2, 'playing': 4, 'game': 5, 'father': 37, 'hugged': 4, 'kissed': 3, 'mother': 40, 'room': 38, 'held': 9, 'sign': 3, 'boy': 134, 'yet': 29, 'still': 77, 'long': 56, 'aunt': 51, 'petunia': 52, 'awake': 3, 'made': 27, 'noise': 4, 'day': 19, 'get': 60, 'oh': 48, 'sat': 22, 'grabbed': 4, 'nearest': 4, 'parcel': 1, 'uncle': 65, 'vernon': 68, 'chuckled': 3, 'wants': 4, 'money': 2, 'worth': 4, 'ruffled': 1, 'telephone': 2, 'rang': 4, 'answer': 7, 'watched': 16, 'racing': 4, 'bike': 1, 'camera': 2, 'control': 6, 'sorry': 17, 'figg': 6, 'broken': 13, 'leg': 3, 'easy': 4, 'reminded': 5, 'whole': 17, 'year': 42, 'look': 54, 'snowy': 1, 'marge': 13, 'suggested': 4, 'silly': 3, 'often': 7, 'spoke': 15, 'rather': 25, 'nasty': 7, 'understand': 14, 'slug': 5, 'friend': 15, 'snapped': 10, 'leave': 17, 'gap': 3, 'arms': 17, 'lord': 65, 'frantically': 2, 'later': 12, 'best': 9, 'piers': 2, 'walked': 6, 'face': 77, 'rat': 7, 'usually': 2, 'behind': 46, 'backs': 1, 'hit': 9, 'stopped': 10, 'pretending': 4, 'cry': 7, 'hour': 7, 'able': 12, 'else': 16, 'left': 35, 'taken': 10, 'aside': 10, 'warning': 4, 'putting': 3, 'purple': 8, 'close': 11, 'funny': 13, 'business': 4, 'cupboard': 4, 'christmas': 3, 'going': 65, 'honestly': 4, 'believe': 14, 'ever': 41, 'problem': 2, 'happened': 15, 'emerald': 3, 'green': 10, 'ink': 4, 'turning': 8, 'envelope': 4, 'hand': 54, 'trembling': 7, 'saw': 52, 'bearing': 7, 'coat': 6, 'eagle': 1, 'snake': 13, 'surrounding': 6, 'letter': 14, 'h': 1, 'hurry': 5, 'shouted': 18, 'kitchen': 7, 'checking': 1, 'joke': 7, 'back': 98, 'staring': 26, 'handed': 5, 'bill': 16, 'wait': 10, 'jus': 4, 'second': 24, 'leapt': 5, 'feet': 28, 'anger': 12, 'seemed': 49, 'fill': 4, 'hut': 5, 'cowering': 4, 'wall': 9, 'mean': 31, 'ter': 8, 'tell': 45, 'growled': 10, 'nothin': 2, 'abou': 2, 'bit': 13, 'far': 21, 'school': 43, 'marks': 7, 'bad': 21, 'stuff': 6, 'simply': 5, 'waved': 1, 'fingers': 8, 'bewildered': 5, 'stare': 1, 'yeh': 14, 'finally': 5, 'sit': 11, 'man': 34, 'furious': 4, 'gave': 30, 'rage': 5, 'told': 33, 'hogwarts': 64, 'reckon': 1, 'afraid': 10, 'dare': 2, 'try': 10, 'anyway': 19, 'yer': 11, 'mum': 7, 'dad': 7, 'witch': 16, 'wizard': 32, 'girl': 26, 'suppose': 12, 'em': 4, 'side': 22, 'probably': 6, 'anythin': 1, 'dark': 65, 'jumped': 9, 'forgotten': 4, 'certainly': 11, 'courage': 7, 'glaring': 3, 'fists': 3, 'clenched': 2, 'listen': 8, 'snarled': 11, 'accept': 3, 'beating': 3, 'parents': 25, 'well': 73, 'without': 13, 'asked': 35, 'mixed': 2, 'wizarding': 8, 'expected': 9, 'learn': 2, 'magic': 25, 'worry': 8, 'standing': 28, 'scratching': 1, 'keep': 20, 'gold': 8, 'nah': 1, 'fer': 1, 'us': 30, 'gringotts': 4, 'wizards': 19, 'bank': 2, 'cold': 14, 'birthday': 3, 'cake': 1, 'neither': 4, 'run': 5, 'nervous': 8, 'madam': 23, 'malkin': 10, 'smiling': 13, 'dressed': 1, 'clear': 6, 'speak': 8, 'young': 14, 'fact': 14, 'shop': 7, 'pale': 22, 'pointed': 14, 'pinned': 5, 'robes': 16, 'stood': 26, 'stool': 8, 'slipped': 5, 'robe': 5, 'began': 20, 'length': 3, 'hello': 6, 'door': 44, 'buying': 4, 'wands': 7, 'bored': 2, 'drag': 4, 'took': 24, 'brooms': 6, 'strongly': 2, 'broom': 5, 'play': 3, 'quidditch': 23, 'wondering': 4, 'earth': 4, 'says': 11, 'crime': 4, 'picked': 6, 'must': 54, 'agree': 3, 'slytherin': 12, 'family': 21, 'imagine': 4, 'hufflepuff': 10, 'wishing': 3, 'interesting': 1, 'nodding': 4, 'toward': 30, 'window': 20, 'grinning': 8, 'pointing': 12, 'two': 50, 'ice': 5, 'show': 11, 'pleased': 8, 'works': 4, 'heard': 54, 'sort': 12, 'servant': 8, 'gamekeeper': 3, 'liking': 3, 'less': 14, 'lives': 9, 'grounds': 6, 'gets': 3, 'ends': 5, 'setting': 3, 'fire': 13, 'bed': 17, 'brilliant': 3, 'coldly': 4, 'slight': 7, 'sneer': 2, 'dead': 29, 'shortly': 4, 'feel': 11, 'matter': 13, 'sounding': 5, 'kind': 19, 'really': 33, 'let': 52, 'brought': 10, 'ways': 8, 'old': 44, 'families': 7, 'dear': 56, 'excuse': 7, 'talking': 13, 'quiet': 9, 'ate': 3, 'cream': 2, 'bought': 4, 'chocolate': 3, 'lied': 3, 'buy': 2, 'parchment': 9, 'quills': 2, 'cheered': 1, 'wrote': 3, 'blimey': 6, 'make': 25, 'worse': 4, 'muggle': 17, 'allowed': 8, 'known': 16, 'grown': 9, 'everyone': 19, 'leaky': 5, 'trunk': 10, 'onto': 5, 'cart': 3, 'wheeled': 1, 'station': 6, 'strangely': 4, 'facing': 5, 'grin': 4, 'platform': 11, 'nine': 10, 'somewhere': 6, 'middle': 8, 'seem': 9, 'built': 1, 'quite': 23, 'big': 10, 'red': 12, 'headed': 5, 'mom': 9, 'go': 53, 'ginny': 23, 'percy': 31, 'oldest': 4, 'marched': 3, 'careful': 9, 'blink': 3, 'case': 7, 'missed': 6, 'barrier': 4, 'crowd': 21, 'swarming': 4, 'cleared': 5, 'vanished': 7, 'fred': 38, 'plump': 4, 'woman': 24, 'george': 30, 'call': 11, 'joking': 3, 'twin': 3, 'third': 6, 'brother': 8, 'walking': 9, 'briskly': 1, 'carriages': 1, 'already': 27, 'packed': 3, 'students': 12, 'hanging': 4, 'fighting': 6, 'seats': 8, 'pushed': 11, 'search': 4, 'empty': 11, 'seat': 7, 'round': 16, 'faced': 13, 'gran': 4, 'lost': 24, 'toad': 10, 'neville': 50, 'sigh': 4, 'surrounded': 5, 'give': 27, 'lee': 5, 'lifted': 4, 'lid': 2, 'box': 8, 'shrieked': 8, 'yelled': 9, 'poked': 5, 'hairy': 2, 'pressed': 3, 'compartment': 13, 'hidden': 12, 'watch': 10, 'haired': 28, 'hear': 22, 'ron': 121, 'nose': 25, 'youngest': 5, 'jerk': 2, 'way': 27, 'rubbing': 3, 'end': 28, 'free': 8, 'twins': 5, 'shut': 7, 'coming': 11, 'striding': 5, 'sight': 16, 'billowing': 1, 'noticed': 6, 'shiny': 3, 'silver': 10, 'badge': 14, 'chest': 12, 'p': 7, 'stay': 12, 'rubbed': 1, 'hey': 2, 'met': 12, 'train': 8, 'leaned': 6, 'quickly': 16, 'near': 8, 'eh': 6, 'please': 10, 'poor': 13, 'scar': 19, 'wonder': 2, 'alone': 14, 'wondered': 10, 'polite': 2, 'corner': 11, 'houses': 3, 'flashed': 1, 'past': 16, 'felt': 39, 'great': 37, 'leap': 1, 'excitement': 5, 'leaving': 5, 'slid': 8, 'open': 18, 'sitting': 20, 'opposite': 9, 'everywhere': 6, 'full': 15, 'shook': 11, 'glanced': 13, 'mark': 11, 'loads': 3, 'weasleys': 3, 'clearly': 8, 'diagon': 4, 'alley': 6, 'talked': 3, 'live': 7, 'horrible': 4, 'wish': 5, 'three': 20, 'brothers': 5, 'gloomy': 1, 'sixth': 2, 'charlie': 3, 'captain': 4, 'prefect': 11, 'mess': 2, 'thinks': 6, 'touch': 13, 'turned': 43, 'flying': 8, 'becoming': 4, 'neat': 3, 'woods': 2, 'twisting': 1, 'knock': 2, 'heads': 6, 'keeps': 3, 'miserably': 1, 'bothered': 2, 'lose': 3, 'quick': 6, 'scabbers': 7, 'battered': 1, 'wand': 71, 'places': 4, 'white': 25, 'glinting': 3, 'unicorn': 2, 'poking': 3, 'raised': 15, 'new': 13, 'bushy': 1, 'brown': 3, 'ravenclaw': 7, 'change': 4, 'soon': 6, 'taking': 14, 'whatever': 6, 'hope': 16, 'threw': 8, 'stupid': 8, 'spell': 6, 'bet': 5, 'gryffindor': 22, 'balls': 3, 'seven': 4, 'players': 1, 'games': 1, 'broomstick': 6, 'points': 6, 'hermione': 84, 'granger': 8, 'boys': 20, 'entered': 9, 'recognized': 6, 'interest': 5, 'shown': 2, 'extremely': 7, 'either': 6, 'crabbe': 7, 'goyle': 8, 'noticing': 3, 'malfoy': 58, 'draco': 28, 'cough': 2, 'need': 20, 'follow': 6, 'slipping': 1, 'followed': 6, 'steep': 1, 'narrow': 3, 'path': 4, 'thick': 7, 'trees': 2, 'nobody': 12, 'kept': 8, 'losing': 6, 'sniffed': 1, 'firs': 1, 'bend': 1, 'loud': 8, 'form': 1, 'line': 5, 'feeling': 6, 'oddly': 3, 'legs': 7, 'lead': 3, 'chamber': 2, 'across': 17, 'hall': 17, 'pair': 3, 'double': 2, 'doors': 3, 'imagined': 3, 'place': 23, 'lit': 4, 'liked': 5, 'finch': 4, 'justin': 9, 'sometimes': 4, 'hat': 29, 'others': 15, 'decide': 2, 'finnigan': 3, 'seamus': 5, 'minute': 2, 'ran': 18, 'eagerly': 3, 'chosen': 14, 'ages': 1, 'jerked': 5, 'obviously': 5, 'mistake': 4, 'longbottom': 15, 'spotted': 4, 'cauldron': 8, 'peculiar': 1, 'turban': 1, 'sorted': 2, 'thomas': 7, 'dean': 7, 'taller': 5, 'joined': 5, 'table': 26, 'became': 8, 'crossed': 5, 'holes': 1, 'shoes': 1, 'within': 10, 'seconds': 8, 'class': 14, 'potion': 10, 'collapsed': 3, 'moaned': 3, 'pain': 8, 'angry': 4, 'sprang': 3, 'idiot': 2, 'snape': 74, 'clearing': 4, 'spilled': 2, 'wave': 1, 'added': 10, 'pop': 2, 'tea': 5, 'package': 1, 'midnight': 3, 'duel': 1, 'believed': 3, 'meet': 8, 'hated': 5, 'gryffindors': 4, 'potions': 5, 'slytherins': 5, 'put': 20, 'least': 8, 'notice': 4, 'common': 7, 'leaning': 6, 'slightly': 17, 'whistle': 3, 'frightened': 6, 'ground': 11, 'hard': 17, 'touched': 8, 'hooch': 4, 'lips': 6, 'rising': 8, 'straight': 8, 'shot': 4, 'bottle': 5, 'twelve': 7, 'twenty': 3, 'scared': 4, 'falling': 9, 'higher': 5, 'lazily': 4, 'forbidden': 2, 'forest': 10, 'bending': 2, 'wrist': 4, 'rest': 14, 'none': 13, 'move': 7, 'hospital': 5, 'wing': 3, 'tear': 2, 'streaked': 1, 'clutching': 9, 'arm': 13, 'sooner': 3, 'flitwick': 7, 'borrow': 2, 'wood': 11, 'use': 31, 'person': 12, 'fifth': 3, 'confused': 4, 'corridor': 8, 'classroom': 1, 'oliver': 1, 'seeker': 5, 'expression': 7, 'delight': 2, 'serious': 6, 'absolutely': 2, 'natural': 2, 'silently': 1, 'clue': 2, 'expelled': 2, 'containing': 1, 'powerful': 8, 'taught': 5, 'read': 14, 'older': 6, 'studying': 1, 'advanced': 3, 'defense': 3, 'arts': 11, 'pince': 1, 'feather': 1, 'thinking': 5, 'library': 6, 'agreed': 1, 'anymore': 4, 'pajamas': 4, 'transfixed': 3, 'image': 1, 'used': 8, 'cup': 21, 'tore': 2, 'excitedly': 2, 'desk': 6, 'floor': 11, 'hundreds': 3, 'discovered': 7, 'mirror': 7, 'realized': 6, 'shows': 4, 'become': 7, 'invisible': 5, 'gently': 2, 'explain': 8, 'heart': 10, 'rose': 5, 'working': 5, 'relief': 4, 'filch': 5, 'enjoying': 3, 'mistaken': 2, 'piece': 9, 'moan': 1, 'tracks': 1, 'repeated': 9, 'sound': 7, 'cool': 6, 'centaur': 2, 'blue': 6, 'carefully': 3, 'livid': 2, 'safe': 8, 'especially': 1, 'ride': 1, 'firenze': 5, 'lowered': 6, 'galloping': 1, 'ronan': 2, 'bane': 3, 'bursting': 1, 'heaving': 2, 'sweaty': 1, 'human': 2, 'shame': 6, 'realize': 5, 'leaves': 1, 'telling': 13, 'sworn': 2, 'set': 12, 'heavens': 3, 'movements': 1, 'nervously': 6, 'tight': 6, 'tripped': 1, 'quirrell': 13, 'ignored': 3, 'work': 8, 'help': 13, 'master': 16, 'horror': 4, 'answered': 2, 'rounded': 2, 'clapped': 4, 'hands': 28, 'ropes': 3, 'binding': 3, 'slowly': 19, 'died': 18, 'mercy': 1, 'liar': 2, 'backward': 8, 'evil': 3, 'touching': 2, 'hissed': 3, 'brave': 5, 'fight': 10, 'trying': 30, 'protect': 2, 'stone': 8, 'unless': 4, 'swam': 2, 'view': 3, 'stared': 9, 'remembered': 9, 'calm': 3, 'times': 14, 'pomfrey': 3, 'thrown': 7, 'london': 4, 'pull': 4, 'feared': 2, 'late': 6, 'effort': 4, 'terrible': 4, 'blankly': 3, 'nicolas': 2, 'flamel': 1, 'terrified': 8, 'weasley': 34, 'manner': 4, 'speaking': 4, 'hung': 2, 'word': 18, 'summer': 11, 'er': 4, 'holiday': 1, 'corners': 1, 'sharp': 9, 'home': 7, 'holidays': 5, 'fresh': 1, 'witchcraft': 1, 'wizardry': 2, 'essay': 3, 'hero': 4, 'burst': 7, 'tears': 7, 'ducked': 2, 'laughing': 9, 'fought': 3, 'emerged': 3, 'making': 14, 'forcefully': 2, 'sons': 3, 'glimpse': 4, 'bow': 1, 'dinner': 2, 'upstairs': 5, 'landing': 4, 'bell': 1, 'appeared': 12, 'foot': 7, 'stairs': 9, 'bedroom': 5, 'closed': 17, 'trouble': 6, 'someone': 14, 'dobby': 14, 'arry': 2, 'managed': 9, 'handle': 4, 'devil': 2, 'gritted': 1, 'teeth': 4, 'horribly': 2, 'ruined': 6, 'born': 8, 'flat': 4, 'shaking': 13, 'friends': 11, 'mad': 8, 'dancing': 2, 'daresay': 4, 'news': 16, 'dragged': 3, 'following': 3, 'morning': 7, 'paid': 3, 'dung': 1, 'reckons': 1, 'inner': 2, 'circle': 5, 'rumors': 3, 'surprise': 6, 'whether': 16, 'malfoys': 2, 'elf': 12, 'whoever': 2, 'yeah': 13, 'exam': 2, 'results': 1, 'ordinary': 2, 'explained': 4, 'seeing': 6, 'puzzled': 2, 'stand': 11, 'term': 4, 'helped': 6, 'win': 2, 'wandered': 3, 'headmaster': 5, 'watching': 20, 'sorting': 7, 'staff': 5, 'beard': 3, 'milk': 3, 'jug': 1, 'greeted': 1, 'cheerfully': 1, 'accident': 5, 'worst': 9, 'memory': 5, 'mail': 1, 'due': 5, 'sending': 3, 'forgot': 3, 'porridge': 1, 'rushing': 4, 'pots': 1, 'plant': 1, 'draw': 1, 'tray': 1, 'curly': 1, 'spoken': 2, 'brightly': 5, 'buried': 2, 'several': 7, 'minutes': 5, 'aware': 2, 'closely': 3, 'night': 16, 'creevey': 1, 'edging': 1, 'survived': 5, 'disappeared': 3, 'dormitory': 4, 'colin': 5, 'drew': 8, 'shuddering': 1, 'breath': 4, 'amazing': 1, 'odd': 9, 'today': 5, 'field': 1, 'distracted': 1, 'six': 2, 'figures': 2, 'seventh': 7, 'smaller': 2, 'smirking': 4, 'lucius': 17, 'dislike': 3, 'flint': 1, 'drawer': 1, 'stretched': 4, 'quill': 3, 'pot': 3, 'mud': 2, 'extra': 1, 'shivering': 3, 'unpleasantly': 3, 'castle': 16, 'sentence': 4, 'streaming': 2, 'squinted': 2, 'waited': 7, 'attend': 3, 'miss': 4, 'welcome': 2, 'feast': 1, 'party': 6, 'hesitated': 4, 'excited': 4, 'possibly': 6, 'frightening': 1, 'impressive': 3, 'headless': 4, 'nick': 5, 'personally': 2, 'team': 8, 'honest': 2, 'severus': 18, 'sharply': 4, 'cat': 3, 'evidence': 7, 'wrong': 12, 'giving': 3, 'searching': 1, 'twinkling': 1, 'light': 10, 'gaze': 4, 'desks': 4, 'hurried': 2, 'lunch': 2, 'herbology': 2, 'caught': 18, 'abruptly': 3, 'sped': 1, 'direction': 2, 'desperately': 3, 'along': 12, 'automatically': 2, 'squeak': 2, 'heir': 2, 'stomach': 5, 'dropping': 1, 'inch': 3, 'crying': 6, 'thoroughly': 4, 'care': 12, 'whose': 20, 'ears': 8, 'worried': 6, 'chances': 1, 'five': 6, 'lesson': 4, 'write': 6, 'strode': 6, 'happy': 3, 'cakes': 2, 'sweets': 1, 'pumpkin': 2, 'juice': 3, 'gathered': 1, 'promised': 3, 'shouting': 6, 'needs': 3, 'thirty': 1, 'bones': 6, 'limp': 1, 'hours': 7, 'pitch': 2, 'together': 14, 'conversation': 5, 'among': 4, 'paused': 4, 'invisibility': 3, 'section': 1, 'hide': 5, 'marked': 5, 'low': 10, 'waiting': 11, 'happen': 5, 'actually': 3, 'thing': 20, 'loose': 1, 'definitely': 9, 'ernie': 2, 'anxiously': 2, 'hannah': 1, 'decent': 2, 'snakes': 6, 'serpent': 2, 'tongue': 1, 'heavy': 5, 'waving': 4, 'feathers': 1, 'bin': 1, 'swear': 2, 'ministry': 20, 'loudly': 16, 'attacked': 3, 'outside': 10, 'however': 7, 'riddle': 37, 'magical': 13, 'list': 1, 'sounds': 2, 'disgust': 1, 'hurt': 8, 'begun': 2, 'weakly': 5, 'mood': 2, 'completely': 4, 'fifty': 2, 'office': 9, 'enter': 4, 'feeble': 3, 'sixteen': 3, 'ah': 10, 'dippet': 2, 'reading': 4, 'sent': 8, 'gripping': 4, 'tightly': 2, 'kindly': 3, 'cannot': 7, 'surely': 13, 'id': 4, 'circumstances': 3, 'attacks': 4, 'moved': 15, 'closer': 15, 'missing': 5, 'precisely': 2, 'foolish': 9, 'allow': 2, 'remain': 4, 'particularly': 6, 'recent': 4, 'death': 48, 'orphanage': 4, 'outta': 1, 'c': 4, 'mon': 1, 'familiar': 7, 'stepped': 4, 'outline': 3, 'huge': 7, 'crouching': 4, 'evening': 6, 'slammed': 2, 'doin': 3, 'tom': 19, 'closing': 3, 'n': 4, 'meant': 7, 'monsters': 1, 'backing': 1, 'rustling': 2, 'clicking': 3, 'moving': 5, 'tomorrow': 3, 'daughter': 2, 'roared': 9, 'echoing': 7, 'passage': 2, 'drawing': 2, 'sudden': 4, 'flaming': 2, 'flew': 2, 'force': 3, 'knocked': 3, 'piercing': 1, 'scream': 5, 'vast': 3, 'body': 14, 'many': 29, 'tearing': 1, 'scrambled': 3, 'seized': 2, 'yelling': 4, 'scene': 3, 'whirled': 2, 'darkness': 4, 'complete': 4, 'crash': 5, 'landed': 5, 'spread': 4, 'poster': 2, 'monstrous': 1, 'creatures': 5, 'raise': 4, 'dragon': 4, 'wooden': 5, 'giant': 5, 'dog': 6, 'fluffy': 2, 'monster': 3, 'deserved': 1, 'chance': 9, 'stretch': 2, 'teachers': 6, 'atmosphere': 1, 'terror': 4, 'suspicion': 1, 'overheard': 1, 'sweat': 3, 'aragog': 1, 'angrily': 8, 'distant': 3, 'land': 3, 'egg': 4, 'cared': 3, 'protected': 8, 'socks': 3, 'job': 8, 'running': 4, 'lockhart': 5, 'straightening': 3, 'frowning': 7, 'sense': 6, 'ugly': 1, 'locked': 1, 'language': 1, 'toilet': 3, 'myrtle': 5, 'swelled': 2, 'shining': 4, 'idea': 9, 'tones': 3, 'muttered': 8, 'hopelessly': 1, 'wake': 3, 'soft': 2, 'spun': 3, 'knees': 4, 'tall': 10, 'blurred': 2, 'edges': 2, 'questions': 1, 'spat': 2, 'pleasantly': 1, 'skinny': 6, 'extraordinary': 1, 'talent': 3, 'escape': 2, 'powers': 5, 'hungry': 2, 'escaped': 7, 'sorcerer': 2, 'brain': 6, 'murder': 2, 'forced': 5, 'hatred': 2, 'yellow': 3, 'phoenix': 5, 'blood': 10, 'spitting': 3, 'agony': 4, 'screaming': 6, 'bird': 4, 'smell': 5, 'swayed': 1, 'deadly': 3, 'fawkes': 2, 'circling': 1, 'eerie': 1, 'song': 3, 'poured': 2, 'gleaming': 4, 'sword': 7, 'glittering': 4, 'size': 6, 'eggs': 2, 'basilisk': 2, 'hitting': 4, 'twisted': 3, 'bloody': 2, 'eye': 14, 'wide': 8, 'sank': 3, 'deeply': 8, 'dangerous': 8, 'barely': 6, 'connected': 4, 'clever': 10, 'handsome': 14, 'sobbed': 3, 'b': 5, 'writing': 7, 'w': 6, 'quietly': 10, 'mustache': 4, 'quivering': 3, 'upon': 26, 'gilderoy': 3, 'dimly': 1, 'words': 13, 'cast': 5, 'curious': 3, 'disbelief': 3, 'frozen': 1, 'lunged': 2, 'shall': 12, 'harm': 3, 'bang': 4, 'crashed': 2, 'crumpled': 2, 'heap': 1, 'owl': 2, 'post': 2, 'highly': 6, 'homework': 2, 'week': 6, 'photograph': 6, 'final': 5, 'perched': 5, 'horn': 1, 'flashing': 2, 'present': 7, 'spinning': 1, 'note': 1, 'express': 2, 'september': 1, 'love': 8, 'laughed': 7, 'knowing': 4, 'slits': 2, 'st': 7, 'secure': 2, 'center': 2, 'sticking': 3, 'visit': 6, 'gulp': 2, 'wiped': 3, 'send': 5, 'promptly': 4, 'barked': 4, 'curtly': 2, 'properly': 1, 'thrashing': 1, 'needed': 14, 'ninety': 1, 'hundred': 3, 'beaten': 2, 'narrowed': 4, 'tone': 6, 'casual': 3, 'perhaps': 12, 'forget': 2, 'subject': 6, 'pleasure': 5, 'presents': 1, 'daring': 1, 'ask': 21, 'throwing': 5, 'food': 5, 'starting': 6, 'burn': 5, 'excellent': 5, 'normally': 1, 'sized': 2, 'winking': 3, 'proper': 2, 'spot': 2, 'life': 13, 'emptied': 1, 'tiny': 7, 'bloodshot': 2, 'fixed': 8, 'car': 5, 'die': 9, 'suggest': 1, 'hang': 1, 'punishment': 4, 'fudge': 29, 'blinked': 2, 'law': 4, 'decree': 3, 'underage': 3, 'punish': 2, 'cried': 10, 'impatiently': 2, 'azkaban': 14, 'blowing': 1, 'archway': 1, 'days': 6, 'shops': 1, 'eating': 3, 'fellow': 5, 'showing': 2, 'messing': 1, 'discussing': 1, 'sirius': 29, 'children': 4, 'witches': 9, 'glimpsed': 1, 'newly': 2, 'mounted': 1, 'magnificent': 1, 'square': 1, 'squeaked': 5, 'younger': 2, 'swinging': 5, 'irish': 1, 'international': 3, 'order': 10, 'quality': 2, 'firebolt': 2, 'real': 6, 'flourish': 3, 'blotts': 3, 'chat': 2, 'grandmother': 3, 'hoped': 6, 'pretended': 1, 'bar': 2, 'laden': 1, 'shopping': 3, 'bags': 1, 'start': 6, 'heartily': 1, 'embarrassed': 1, 'saved': 1, 'previous': 2, 'thanks': 4, 'bowing': 1, 'pushing': 1, 'seizing': 3, 'scowled': 2, 'chair': 11, 'exciting': 1, 'brand': 1, 'swelling': 3, 'pride': 2, 'doubt': 13, 'prefects': 5, 'ajar': 1, 'bedside': 3, 'till': 2, 'shadows': 2, 'laughter': 6, 'listened': 1, 'laugh': 12, 'lay': 10, 'relieved': 4, 'alive': 8, 'nature': 3, 'dementor': 2, 'therefore': 2, 'warn': 2, 'student': 3, 'dementors': 26, 'area': 1, 'bangs': 1, 'unable': 4, 'penetrate': 3, 'mysteries': 1, 'future': 3, 'trelawney': 19, 'enormous': 6, 'gift': 1, 'toppled': 3, 'firelight': 2, 'gasped': 4, 'screamed': 6, 'breaking': 6, 'smashed': 3, 'armchair': 5, 'crowded': 4, 'pressing': 4, 'everybody': 6, 'mouths': 1, 'grim': 3, 'shocked': 2, 'understood': 4, 'cover': 3, 'magnolia': 1, 'lavender': 2, 'supposed': 9, 'bright': 6, 'orange': 2, 'allowing': 1, 'skull': 1, 'state': 3, 'plainly': 2, 'catch': 3, 'smile': 12, 'staying': 2, 'roughly': 3, 'breathed': 6, 'sneering': 1, 'maybe': 5, 'peered': 4, 'portrait': 4, 'bustling': 3, 'password': 2, 'silence': 13, 'chill': 2, 'professors': 1, 'safety': 3, 'guard': 3, 'charge': 2, 'reported': 1, 'immediately': 4, 'immensely': 1, 'ghosts': 1, 'bits': 1, 'lupin': 21, 'sighed': 1, 'whomping': 1, 'willow': 2, 'difficulty': 2, 'capable': 1, 'believing': 2, 'rosmerta': 4, 'thoughtfully': 1, 'mead': 1, 'gruffly': 2, 'widely': 3, 'bitterly': 4, 'peter': 8, 'pettigrew': 8, 'grief': 3, 'keeper': 2, 'fat': 5, 'league': 1, 'sobbing': 1, 'lily': 19, 'james': 11, 'blew': 5, 'thickly': 3, 'dueling': 3, 'ripped': 4, 'midair': 1, 'scarlet': 3, 'hugging': 1, 'alicia': 1, 'angelina': 5, 'katie': 2, 'grip': 6, 'staircase': 1, 'pulling': 8, 'dressing': 1, 'yawning': 1, 'carrying': 6, 'hurrying': 2, 'faintly': 1, 'knife': 2, 'nonsense': 1, 'startled': 3, 'buckbeak': 3, 'hippogriff': 2, 'firmly': 5, 'indeed': 11, 'scribbling': 1, 'appear': 3, 'heat': 3, 'drifted': 1, 'rise': 6, 'named': 8, 'werewolf': 6, 'bitter': 3, 'tired': 2, 'shh': 3, 'intently': 1, 'received': 2, 'bite': 1, 'makes': 5, 'animagus': 2, 'betrayed': 1, 'led': 4, 'convinced': 2, 'using': 11, 'learned': 4, 'silent': 6, 'sweet': 2, 'straightened': 5, 'offered': 2, 'proof': 3, 'clutched': 2, 'paper': 7, 'page': 5, 'transform': 2, 'god': 3, 'softly': 10, 'picture': 6, 'defiantly': 3, 'trusted': 1, 'helping': 3, 'bring': 9, 'stole': 6, 'tower': 4, 'weight': 2, 'hearing': 5, 'wind': 2, 'croaked': 5, 'crookshanks': 3, 'pet': 2, 'sleep': 1, 'crawled': 1, 'minister': 10, 'rules': 3, 'protection': 15, 'murderer': 2, 'visiting': 1, 'hogsmeade': 5, 'undoubtedly': 3, 'listening': 7, 'traveling': 2, 'difficult': 4, 'swung': 3, 'fence': 1, 'howling': 1, 'sobs': 1, 'beak': 1, 'rope': 1, 'dug': 2, 'heels': 1, 'macnair': 1, 'panted': 4, 'reach': 3, 'okay': 3, 'removed': 2, 'distractedly': 1, 'dreamed': 1, 'attempt': 7, 'kiss': 1, 'innocent': 3, 'tonight': 4, 'dragons': 2, 'entrance': 2, 'doubted': 1, 'frank': 14, 'riddles': 5, 'police': 5, 'stubbornly': 2, 'deaths': 3, 'stranger': 5, 'village': 4, 'invented': 2, 'report': 10, 'bodies': 1, 'nerve': 2, 'pause': 3, 'concern': 4, 'wormtail': 9, 'merely': 10, 'short': 17, 'disguise': 1, 'crackling': 1, 'whisper': 6, 'hiss': 4, 'reasons': 3, 'thirteen': 3, 'months': 4, 'difference': 3, 'plan': 8, 'panic': 2, 'stick': 4, 'remorse': 1, 'planning': 2, 'danger': 9, 'flash': 1, 'miles': 2, 'breathing': 5, 'vivid': 1, 'dream': 2, 'painful': 2, 'lamp': 4, 'beside': 16, 'wardrobe': 2, 'fourteen': 4, 'untidy': 5, 'examined': 1, 'reflection': 2, 'performed': 2, 'curse': 15, 'steady': 4, 'worked': 2, 'instead': 7, 'killing': 2, 'extinguished': 2, 'insisted': 4, 'fly': 7, 'bottom': 5, 'plenty': 2, 'remained': 3, 'walls': 3, 'refused': 5, 'invited': 3, 'pacing': 1, 'living': 3, 'store': 2, 'tin': 1, 'version': 1, 'rule': 1, 'fond': 2, 'faint': 1, 'popping': 1, 'air': 15, 'dropped': 6, 'fault': 3, 'purpose': 2, 'eat': 1, 'amos': 2, 'diggory': 8, 'department': 2, 'cedric': 11, 'seventeen': 5, 'hi': 5, 'except': 10, 'stir': 1, 'crouched': 1, 'tent': 5, 'happily': 1, 'grass': 5, 'level': 3, 'daddy': 1, 'carried': 1, 'yells': 1, 'farther': 3, 'broomsticks': 1, 'high': 7, 'girls': 9, 'toes': 5, 'bulgarian': 2, 'velvet': 4, 'english': 1, 'wearily': 2, 'enemies': 1, 'journey': 2, 'greatly': 1, 'resembled': 3, 'nice': 7, 'horrified': 3, 'crouch': 25, 'likely': 3, 'given': 6, 'career': 1, 'practice': 2, 'stack': 1, 'share': 3, 'including': 2, 'ireland': 1, 'exhausted': 2, 'lake': 3, 'nerves': 1, 'filed': 1, 'halt': 1, 'smallest': 1, 'wrapped': 2, 'hooked': 2, 'draped': 1, 'collar': 4, 'painfully': 1, 'lined': 2, 'scroll': 2, 'dennis': 5, 'wow': 2, 'dreams': 1, 'storm': 1, 'deep': 5, 'sea': 2, 'continued': 17, 'fright': 1, 'moody': 25, 'limping': 2, 'steps': 4, 'clunk': 1, 'rolled': 2, 'fiery': 1, 'carriage': 3, 'bore': 1, 'golden': 12, 'stars': 1, 'fumbled': 1, 'unfolded': 1, 'viktor': 2, 'warmth': 1, 'karkaroff': 7, 'beckoned': 2, 'curved': 1, 'eyebrows': 3, 'ear': 4, 'recognize': 1, 'krum': 3, 'durmstrang': 2, 'hopefully': 2, 'offering': 1, 'instant': 2, 'disgusting': 1, 'reaching': 3, 'dawn': 1, 'faces': 5, 'nudged': 2, 'glad': 5, 'entering': 1, 'pretty': 7, 'causing': 2, 'hufflepuffs': 1, 'passing': 4, 'finished': 9, 'breakfast': 3, 'buzzing': 1, 'madame': 5, 'maxime': 5, 'fleur': 8, 'headmistress': 3, 'compete': 5, 'numb': 2, 'drawn': 3, 'considerable': 2, 'height': 3, 'brushed': 2, 'candle': 1, 'filled': 7, 'chandelier': 2, 'gigantic': 1, 'ze': 1, 'meaning': 3, 'teacher': 1, 'imagining': 2, 'goblet': 4, 'object': 1, 'exceptionally': 1, 'strong': 4, 'charm': 8, 'general': 1, 'advice': 2, 'simple': 1, 'clicked': 1, 'pass': 3, 'prepared': 7, 'popular': 1, 'favorite': 4, 'champion': 1, 'useless': 2, 'brains': 1, 'lights': 2, 'dully': 1, 'lady': 2, 'music': 1, 'disgruntled': 2, 'ignoring': 1, 'parvati': 7, 'dance': 3, 'beauxbatons': 6, 'cho': 2, 'ended': 3, 'return': 6, 'satisfaction': 2, 'padma': 2, 'fine': 7, 'join': 5, 'conjured': 1, 'zoomed': 1, 'summoning': 2, 'apart': 6, 'ill': 4, 'issued': 1, 'bushes': 3, 'shapes': 1, 'catching': 1, 'ahead': 3, 'foreign': 1, 'mountain': 1, 'lessons': 1, 'guide': 2, 'inherited': 1, 'brutal': 2, 'bizarre': 1, 'friendship': 3, 'fall': 2, 'driving': 1, 'supporters': 2, 'unaware': 1, 'unpleasant': 2, 'truth': 4, 'ought': 4, 'attention': 4, 'anybody': 7, 'weekend': 1, 'trip': 2, 'grubbly': 1, 'plank': 1, 'righ': 1, 'miserable': 1, 'watery': 1, 'tha': 1, 'beat': 2, 'lying': 8, 'outstretched': 2, 'inches': 1, 'interested': 4, 'nearer': 2, 'flickered': 1, 'scars': 1, 'deeper': 2, 'darker': 2, 'happening': 2, 'lately': 3, 'daily': 4, 'prophet': 5, 'eaters': 17, 'widened': 4, 'marauder': 1, 'map': 3, 'lines': 1, 'asking': 6, 'favor': 3, 'climbed': 1, 'examining': 2, 'task': 4, 'bagman': 4, 'satisfied': 1, 'delacour': 1, 'e': 4, 'forgetting': 3, 'lap': 2, 'pages': 1, 'color': 5, 'suffering': 2, 'rita': 7, 'skeeter': 7, 'girlfriend': 2, 'curled': 5, 'fury': 2, 'article': 2, 'aloud': 2, 'burning': 3, 'pausing': 2, 'sounded': 5, 'powder': 1, 'papers': 1, 'tipped': 1, 'cutting': 2, 'ginger': 1, 'roots': 1, 'pieces': 1, 'bread': 3, 'eater': 13, 'stuffing': 2, 'company': 5, 'devoted': 2, 'amused': 2, 'bars': 1, 'member': 4, 'wife': 10, 'barty': 3, 'apparently': 6, 'afterward': 1, 'wasted': 1, 'flask': 1, 'drop': 2, 'badly': 3, 'cornelius': 2, 'warned': 3, 'letters': 3, 'false': 2, 'greenhouse': 2, 'ceiling': 5, 'midst': 4, 'bench': 1, 'albus': 10, 'smiled': 5, 'feelings': 3, 'ludo': 1, 'dim': 2, 'bludgers': 1, 'information': 16, 'darting': 1, 'hooded': 1, 'chained': 1, 'petrified': 2, 'skin': 2, 'rock': 3, 'pure': 5, 'rarely': 1, 'court': 3, 'auror': 4, 'cruciatus': 3, 'knowledge': 3, 'whereabouts': 2, 'chains': 1, 'bellowed': 7, 'planned': 2, 'sob': 2, 'deserve': 1, 'dungeon': 3, 'triumph': 4, 'gliding': 2, 'throw': 4, 'reward': 1, 'beyond': 6, 'faithful': 4, 'jeering': 2, 'swept': 3, 'struggle': 3, 'mine': 7, 'bulging': 2, 'gasp': 1, 'tortured': 2, 'jolt': 2, 'torn': 5, 'reluctantly': 1, 'newspaper': 1, 'headline': 1, 'disturbed': 1, 'defeated': 1, 'special': 3, 'recently': 1, 'behavior': 1, 'triwizard': 5, 'fourth': 2, 'couple': 2, 'temper': 2, 'club': 1, 'werewolves': 3, 'giants': 2, 'parseltongue': 2, 'ability': 4, 'considered': 3, 'vicious': 1, 'consider': 1, 'tournament': 5, 'desperation': 1, 'takes': 1, 'fiercely': 2, 'save': 6, 'admit': 2, 'cheek': 3, 'ancient': 3, 'ensure': 7, 'crooked': 2, 'fool': 4, 'bertha': 4, 'jorkins': 4, 'portkey': 3, 'experienced': 2, 'headstone': 1, 'mist': 5, 'ringing': 1, 'stronger': 1, 'lucky': 2, 'prove': 3, 'web': 1, 'emerging': 1, 'statue': 3, 'fail': 3, 'book': 12, 'early': 1, 'water': 5, 'plants': 1, 'pocket': 6, 'winky': 3, 'ones': 3, 'answering': 1, 'returned': 7, 'certain': 3, 'facts': 1, 'turns': 2, 'assume': 1, 'coolly': 2, 'avery': 1, 'names': 6, 'sake': 2, 'tales': 2, 'random': 2, 'contrary': 1, 'choice': 1, 'hedwig': 2, 'cage': 3, 'arrogant': 1, 'advancing': 1, 'pathetic': 2, 'deal': 4, 'pretend': 1, 'banned': 2, 'lawn': 1, 'retreated': 1, 'shade': 2, 'windows': 2, 'breeze': 2, 'space': 4, 'jeans': 5, 'dirty': 2, 'shirt': 4, 'faded': 1, 'peeling': 1, 'appearance': 4, 'television': 1, 'fluttered': 1, 'grunted': 2, 'cares': 2, 'prime': 5, 'towards': 7, 'hoping': 2, 'lurking': 2, 'resigned': 2, 'exchanged': 3, 'looks': 10, 'lip': 1, 'owls': 5, 'triumphant': 2, 'birds': 1, 'cost': 2, 'easily': 2, 'resist': 2, 'thoughts': 2, 'insides': 1, 'served': 1, 'cause': 3, 'crossing': 1, 'grey': 1, 'clanking': 1, 'string': 1, 'bag': 4, 'halfway': 1, 'carpet': 1, 'hurriedly': 1, 'mundungus': 6, 'fletcher': 1, 'hell': 2, 'pay': 4, 'reasonable': 2, 'hold': 1, 'ribs': 1, 'desire': 2, 'movement': 1, 'slumped': 2, 'sneak': 2, 'thief': 5, 'ere': 2, 'pile': 2, 'bat': 1, 'attacking': 2, 'stolen': 4, 'cauldrons': 1, 'june': 1, 'froze': 2, 'screwed': 1, 'explosion': 1, 'mingled': 2, 'dread': 2, 'clean': 2, 'reply': 1, 'pounded': 1, 'block': 2, 'doorway': 2, 'jinx': 2, 'raising': 7, 'astonished': 1, 'appalled': 1, 'reveal': 1, 'awful': 1, 'stunned': 3, 'single': 2, 'acting': 2, 'saving': 1, 'damage': 2, 'pack': 1, 'shooting': 3, 'fist': 5, 'pounding': 1, 'glare': 2, 'drained': 3, 'alleyway': 3, 'evidently': 2, 'hurting': 1, 'stretching': 1, 'straining': 2, 'exploding': 1, 'utterly': 3, 'throbbing': 2, 'fit': 2, 'rapidly': 2, 'upwards': 2, 'throat': 2, 'shadowy': 1, 'glowing': 1, 'eight': 2, 'lower': 2, 'thumping': 1, 'uncontrollably': 1, 'uncertainly': 1, 'conscious': 1, 'descended': 2, 'violet': 1, 'cheerful': 1, 'tonks': 5, 'deliver': 1, 'safely': 1, 'headquarters': 2, 'kingsley': 1, 'shacklebolt': 1, 'vaguely': 2, 'grimmauld': 4, 'tip': 2, 'message': 2, 'flames': 2, 'floated': 1, 'tells': 1, 'ridiculous': 1, 'stories': 4, 'spluttered': 1, 'murdered': 3, 'eyeing': 2, 'mudblood': 1, 'brass': 1, 'mistress': 4, 'kreacher': 21, 'tentatively': 1, 'faster': 1, 'furiously': 2, 'muttering': 7, 'darted': 1, 'cleaning': 1, 'urgent': 1, 'clock': 1, 'merlin': 1, 'question': 9, 'plain': 1, 'murmured': 2, 'nod': 2, 'speech': 1, 'wizengamot': 4, 'decided': 1, 'expecting': 2, 'ordered': 1, 'attack': 2, 'silvery': 2, 'hairs': 3, 'members': 2, 'orders': 7, 'mildly': 1, 'confidence': 1, 'remind': 1, 'imagination': 1, 'examine': 1, 'presence': 1, 'naturally': 3, 'witness': 1, 'matters': 2, 'distinctly': 2, 'gentle': 1, 'favourite': 2, 'indignantly': 2, 'flung': 1, 'wonderful': 2, 'noises': 2, 'detention': 2, 'failed': 2, 'iron': 2, 'tail': 3, 'luggage': 1, 'instructions': 1, 'corridors': 1, 'casting': 3, 'anxious': 2, 'replied': 2, 'placed': 5, 'glowed': 1, 'candlelight': 1, 'row': 2, 'unknown': 2, 'test': 2, 'belonged': 3, 'tables': 3, 'earlier': 1, 'stumbled': 1, 'forwards': 1, 'shoulders': 3, 'rip': 1, 'group': 3, 'grinned': 3, 'slide': 3, 'slip': 2, 'gather': 1, 'surprised': 2, 'bound': 2, 'easier': 2, 'willing': 2, 'umbridge': 9, 'ship': 1, 'roof': 1, 'exams': 2, 'practices': 1, 'defence': 1, 'classes': 2, 'mate': 1, 'michael': 2, 'boot': 2, 'recognised': 1, 'rear': 1, 'jordan': 1, 'player': 1, 'believes': 6, 'zacharias': 2, 'smith': 2, 'swiftly': 1, 'ok': 1, 'expressions': 1, 'gazing': 2, 'horse': 2, 'progress': 1, 'comes': 1, 'kid': 1, 'realise': 1, 'means': 7, 'extendable': 1, 'hammering': 1, 'dozen': 1, 'healer': 1, 'visitors': 1, 'lovely': 3, 'spots': 2, 'sternly': 2, 'beds': 2, 'ward': 1, 'stuffed': 1, 'copy': 3, 'magazine': 2, 'happiness': 2, 'reaction': 1, 'shelves': 2, 'cracked': 3, 'knuckles': 1, 'staggered': 3, 'memories': 5, 'greasy': 2, 'backwards': 2, 'covering': 1, 'crack': 2, 'shield': 1, 'heading': 1, 'cornered': 1, 'fully': 1, 'intended': 3, 'respond': 2, 'weapon': 1, 'detentions': 2, 'jump': 1, 'distance': 3, 'solid': 3, 'roll': 1, 'gazed': 2, 'fifteen': 1, 'yawned': 1, 'glance': 2, 'shock': 5, 'ease': 1, 'answers': 1, 'scratched': 1, 'chin': 4, 'chewing': 1, 'aurors': 5, 'returning': 1, 'record': 1, 'grawp': 5, 'nowhere': 2, 'tree': 5, 'whimpering': 3, 'grab': 3, 'ouch': 2, 'foul': 1, 'creature': 2, 'spells': 4, 'remove': 1, 'bleeding': 1, 'dolohov': 1, 'race': 2, 'prophecy': 5, 'position': 3, 'flushed': 2, 'bellatrix': 9, 'truly': 3, 'gaunt': 6, 'doe': 2, 'fountain': 2, 'counter': 1, 'blown': 1, 'abandoned': 1, 'enjoy': 1, 'stupefy': 1, 'edged': 1, 'goblin': 5, 'beaming': 2, 'aim': 1, 'jaw': 1, 'dying': 3, 'part': 9, 'release': 1, 'compared': 3, 'emotion': 1, 'prince': 4, 'events': 1, 'surveyed': 1, 'equal': 3, 'chose': 5, 'proved': 2, 'according': 3, 'stroke': 2, 'fortune': 1, 'building': 1, 'beginning': 1, 'risk': 2, 'confederation': 1, 'warlock': 1, 'followers': 1, 'seize': 1, 'meanwhile': 2, 'shape': 2, 'luna': 6, 'quibbler': 1, 'upside': 2, 'darkly': 1, 'handful': 1, 'immense': 2, 'cabinet': 1, 'dripping': 1, 'prison': 1, 'bowler': 1, 'north': 1, 'finishing': 1, 'luck': 1, 'persuade': 1, 'scrimgeour': 6, 'success': 1, 'official': 1, 'discussed': 1, '—': 41, 'plans': 3, 'treated': 1, 'unfortunate': 1, 'instinctively': 2, 'squeezed': 2, 'regulus': 3, 'horace': 2, 'slughorn': 38, 'collect': 1, 'collection': 1, 'particular': 1, 'ave': 1, 'longing': 1, 'delighted': 4, 'owner': 2, 'wandering': 1, 'rack': 1, 'glittered': 1, 'hem': 1, 'sleeves': 1, 'harrys': 2, 'galleons': 1, 'hastily': 2, 'whipped': 1, 'sick': 1, 'curtain': 1, 'tricks': 1, 'proudly': 1, 'range': 1, 'stern': 1, 'calmly': 4, 'shelf': 1, 'currently': 2, 'rolling': 3, 'pitched': 2, 'borgin': 1, 'caution': 1, 'um': 1, 'struggling': 4, 'misty': 1, 'etched': 1, 'although': 3, 'judging': 1, 'enthusiasm': 1, 'jumping': 1, 'covered': 3, 'remaining': 2, 'bald': 1, 'gleamed': 2, 'gesture': 1, 'guests': 2, 'squashed': 1, 'entirely': 4, 'press': 2, 'whispering': 2, 'rude': 2, 'queue': 2, 'climb': 2, 'hole': 6, 'alarm': 2, 'sniggered': 2, 'attempting': 3, 'push': 1, 'lime': 1, 'scowling': 2, 'vanish': 1, 'tugged': 1, 'drowned': 1, 'massive': 2, 'shimmering': 1, 'scales': 4, 'ingredients': 1, 'irritably': 1, 'ing': 2, 'saturday': 2, 'twitched': 1, 'morfin': 3, 'hex': 3, 'giggled': 1, 'ogden': 1, 'filthy': 3, 'dreadful': 2, 'shake': 2, 'mclaggen': 1, 'groups': 1, 'decision': 3, 'flown': 1, 'goal': 1, 'posts': 1, 'giggling': 1, 'beaters': 2, 'reasonably': 3, 'broad': 1, 'lump': 1, 'bludger': 1, 'aimed': 1, 'stands': 1, 'honeydukes': 1, 'shivered': 1, 'warm': 2, 'booming': 1, 'quarter': 2, 'determined': 5, 'demanded': 3, 'cole': 4, 'instance': 1, 'happens': 2, 'eager': 1, 'lie': 2, 'marvolo': 2, 'stayed': 2, 'measure': 2, 'dumbledores': 1, 'bare': 1, 'trace': 1, 'merope': 1, 'bye': 2, 'soaring': 1, 'strangled': 1, 'cave': 3, 'rare': 1, 'patch': 1, 'greenhouses': 1, 'weird': 2, 'correct': 2, 'gnarled': 2, 'formed': 1, 'terms': 1, 'protective': 1, 'gloves': 1, 'sunken': 1, 'cheeks': 2, 'illuminated': 1, 'borrowed': 1, 'snatching': 1, 'tugging': 3, 'elves': 1, 'obscured': 1, 'boomed': 2, 'match': 1, 'smoking': 1, 'described': 1, 'assure': 2, 'nearby': 4, 'split': 2, 'divination': 2, 'importance': 1, 'spirits': 1, 'argus': 1, 'invitation': 1, 'gate': 1, 'blackened': 1, 'creaked': 1, 'threshold': 2, 'fashioned': 1, 'sugar': 1, 'finger': 3, 'effect': 1, 'finding': 1, 'horcruxes': 9, 'serenely': 1, 'aback': 1, 'study': 1, 'phineas': 2, 'nigellus': 1, 'palm': 1, 'shout': 1, 'bezoar': 2, 'act': 1, 'antidote': 1, 'snapping': 1, 'reminding': 1, 'sink': 1, 'hoarsely': 1, 'beamed': 1, 'replaced': 1, 'pick': 2, 'drinks': 1, 'wine': 4, 'sneered': 2, 'scored': 1, 'bowed': 3, 'obey': 1, 'settled': 1, 'regular': 3, 'firm': 1, 'age': 3, 'impossible': 4, 'soul': 5, 'account': 2, 'examination': 1, 'spectacular': 1, 'award': 1, 'amongst': 3, 'visited': 1, 'hepzibah': 4, 'brushing': 1, 'flowers': 1, 'bunch': 2, 'squealed': 2, 'hokey': 2, 'features': 3, 'creaking': 1, 'hollow': 3, 'sorts': 2, 'possess': 1, 'smooth': 1, 'freshly': 2, 'addressed': 2, 'alongside': 1, 'cozy': 3, 'resentful': 1, 'dive': 2, 'unexpected': 3, 'keen': 1, 'avoid': 2, 'requirement': 1, 'arrested': 2, 'attempted': 1, 'imperius': 1, 'runes': 1, 'finish': 1, 'departed': 1, 'instantly': 3, 'ex': 1, 'ronald': 1, 'apparate': 1, 'grabbing': 2, 'bathroom': 2, 'feels': 2, 'lonely': 2, 'grave': 5, 'track': 1, 'relatives': 2, 'unusually': 1, 'contents': 1, 'singing': 1, 'bucket': 1, 'mumbled': 1, 'mug': 1, 'cries': 3, 'felix': 1, 'felicis': 1, 'leading': 2, 'paler': 1, 'aid': 1, 'destroy': 2, 'rid': 1, 'swirling': 2, 'gas': 1, 'interview': 2, 'impressed': 2, 'hog': 1, 'calling': 3, 'eaten': 1, 'concerned': 3, 'hunt': 2, 'yell': 1, 'realised': 1, 'forgive': 3, 'discuss': 3, 'pleasant': 1, 'amycus': 1, 'greyback': 5, 'curses': 2, 'blocked': 1, 'break': 3, 'caused': 1, 'blocking': 1, 'dust': 1, 'chased': 1, 'r': 1, 'g': 1, 'married': 3, 'stained': 1, 'spite': 2, 'scribbled': 1, 'offer': 2, 'happier': 1, 'shrugged': 2, 'yaxley': 5, 'dawlish': 3, 'source': 2, 'upward': 2, 'revolving': 3, 'overhead': 1, 'entire': 2, '¨c': 71, 'thicknesse': 1, 'remains': 2, 'unlikely': 1, 'destination': 1, 'advantage': 1, 'receive': 1, 'approval': 1, 'uses': 1, 'floo': 1, 'network': 1, 'controlled': 1, 'existence': 1, 'loved': 1, 'headmasters': 1, 'greater': 3, 'chapter': 2, 'sinister': 1, 'troubled': 1, 'nevertheless': 3, 'fragment': 1, 'add': 1, 'rucksack': 1, 'explanation': 1, 'hestia': 2, 'waste': 2, 'swerved': 1, 'sideways': 2, 'fake': 1, 'wear': 2, 'respect': 1, 'earned': 1, 'footsteps': 1, 'marquee': 1, 'arrival': 1, 'wedding': 1, 'polyjuice': 1, 'introduce': 1, 'hovering': 1, 'uncomfortable': 2, 'dress': 1, 'hot': 2, 'bothering': 1, 'doge': 9, 'wheezy': 1, 'arthur': 2, 'count': 1, 'aberforth': 8, 'elphias': 3, 'flooded': 1, 'frame': 3, 'played': 1, 'muffled': 2, 'distinct': 1, 'masked': 1, 'confusion': 1, 'symbol': 3, 'price': 2, 'elbow': 1, 'annoyed': 1, 'wild': 1, 'check': 1, 'bloke': 1, 'windowsill': 2, 'gregorovitch': 3, 'wished': 2, 'youth': 2, 'merry': 2, 'suppress': 1, 'desperate': 4, 'dirk': 1, 'ted': 2, 'tips': 1, 'war': 3, 'transformed': 1, 'snow': 1, 'neatly': 1, 'signed': 1, 'carved': 1, 'snatched': 1, 'lies': 1, 'bagshot': 1, 'spiders': 1, 'occasions': 1, 'hood': 1, 'cloud': 1, 'fingered': 1, 'curtains': 1, 'smoke': 2, 'hid': 1, 'trapped': 2, 'bathilda': 4, 'loss': 2, 'incredible': 2, 'approaching': 1, 'glory': 1, 'prize': 1, 'revealed': 1, 'grindelwald': 2, 'godric': 2, 'struck': 1, 'charming': 1, 'madly': 1, 'funeral': 2, 'kendra': 1, 'stab': 2, 'reflected': 1, 'strike': 2, 'blow': 2, 'mixture': 2, 'summon': 1, 'im': 2, 'scabior': 1, 'prisoners': 2, 'directly': 1, 'fireplace': 1, 'narcissa': 1, 'authority': 3, 'grasp': 3, 'capture': 1, 'cliff': 2, 'ollivander': 2, 'vault': 2, 'griphook': 1, 'wrenched': 1, 'wha': 1, 'dazed': 1, 'godfather': 1, 'released': 1, 'revealing': 1, 'elder': 5, 'erupted': 1, 'kneeling': 1, 'scattered': 1, 'vision': 1, 'diary': 1, 'acted': 4, 'suspected': 4, 'men': 5, 'precious': 1, 'burned': 2, 'boiling': 1, 'shack': 4, 'ring': 4, 'related': 2, 'connection': 4, 'locket': 1, 'horcrux': 3, 'deepest': 3, 'secrets': 2, 'nagini': 4, 'alert': 2, 'mountains': 1, 'disapparate': 1, 'strained': 1, 'briefly': 2, 'blind': 1, 'argument': 1, 'kidding': 1, 'savagely': 1, 'starry': 1, 'silk': 1, 'minerva': 1, 'situation': 1, 'disappointment': 1, 'ravenclaws': 1, 'ghost': 2, 'thrust': 1, 'icy': 1, 'fang': 1, 'bearded': 1, 'figure': 1, 'clambered': 1, 'stooped': 1, 'hug': 2, 'shattered': 1, 'confident': 1, 'diadem': 1, 'ragged': 1, 'puffy': 1, 'valuable': 4, 'seek': 1, 'serve': 1, 'slithering': 2, 'marble': 1, 'blank': 1, 'louder': 1, 'perform': 2, 'dived': 1, 'sunlight': 2, 'deserted': 2, 'clothes': 2, 'shabby': 2, 'sallow': 1, 'river': 1, 'address': 1, 'spy': 1, 'training': 1, 'fallen': 2, 'sparks': 1, 'trailing': 1, 'succeeded': 1, 'separated': 1, 'drinking': 1, 'private': 2, 'glancing': 2, 'sneaking': 4, 'defensive': 2, 'service': 1, 'spare': 1, 'flick': 1, 'seeking': 2, 'transfiguration': 1, 'perplexed': 1, 'cursed': 1, 'slow': 1, 'torture': 1, 'pronounced': 1, 'stiff': 1, 'likes': 2, 'victims': 1, 'indicated': 1, 'evenings': 1, 'essential': 4, 'prefer': 1, 'basket': 2, 'dangling': 1, 'constant': 1, 'occlumency': 1, 'fears': 1, 'taste': 1, 'sharing': 1, 'tunnel': 2, 'pig': 1, 'expecto': 1, 'patronum': 1, 'bounded': 1, 'soared': 1, 'tying': 1, 'duck': 1, 'considering': 2, 'panting': 1, 'blazing': 1, 'upright': 1, 'sweeping': 1, 'previously': 1, 'broadly': 1, 'directed': 1, 'otherwise': 1, 'king': 2, 'cross': 2, 'glared': 1, 'deathly': 1, 'hallows': 1, 'unconscious': 1, 'require': 1, 'approached': 1, 'battle': 2, 'sisters': 1, 'continue': 1, 'carrows': 1, 'spirit': 1, 'noble': 1, 'perfect': 1, 'sprout': 1, 'steadily': 1, 'slept': 1, 'snitch': 1, 'shifting': 1, 'somewhat': 1}), 'lived': defaultdict(<class 'int'>, {'boy': 18, 'mr': 2, 'mrs': 7, 'dursley': 1, 'number': 7, 'four': 5, 'privet': 4, 'drive': 4, 'proud': 1, 'say': 9, 'perfectly': 1, 'normal': 2, 'thank': 1, 'much': 10, 'last': 12, 'people': 9, 'expect': 1, 'involved': 1, 'anything': 5, 'strange': 2, 'mysterious': 1, 'would': 20, 'spend': 1, 'next': 5, 'weeks': 3, 'cousin': 1, 'dudley': 3, 'know': 14, 'moment': 5, 'meeting': 1, 'secret': 3, 'country': 4, 'holding': 2, 'glasses': 1, 'saying': 2, 'hushed': 1, 'voices': 1, 'harry': 106, 'potter': 13, '1': 3, 'vanishing': 1, 'glass': 3, 'nearly': 2, 'ten': 4, 'years': 23, 'passed': 4, 'since': 9, 'dursleys': 5, 'woken': 1, 'find': 10, 'front': 8, 'step': 1, 'hardly': 1, 'changed': 1, 'sun': 3, 'rose': 3, 'longer': 2, 'baby': 4, 'photographs': 2, 'showed': 1, 'large': 4, 'blond': 1, 'first': 5, 'fair': 2, 'playing': 2, 'game': 1, 'father': 12, 'hugged': 1, 'kissed': 1, 'mother': 11, 'room': 6, 'held': 1, 'sign': 5, 'another': 2, 'house': 22, 'yet': 10, 'still': 16, 'asleep': 2, 'long': 14, 'aunt': 9, 'petunia': 4, 'awake': 3, 'voice': 10, 'made': 8, 'noise': 1, 'day': 6, 'get': 6, 'woke': 1, 'start': 3, 'leap': 1, 'every': 7, 'year': 7, 'birthday': 4, 'parents': 7, 'took': 7, 'friend': 3, 'adventure': 1, 'left': 9, 'behind': 9, 'figg': 2, 'mad': 1, 'old': 8, 'lady': 2, 'two': 5, 'away': 7, 'hated': 3, 'whole': 2, 'smelled': 1, 'look': 8, 'cats': 1, 'ever': 14, 'owned': 3, 'said': 68, 'looking': 17, 'furiously': 1, 'lay': 4, 'dark': 8, 'cupboard': 2, 'later': 2, 'wishing': 2, 'watch': 1, 'time': 10, 'sure': 4, 'risk': 1, 'sneaking': 1, 'kitchen': 3, 'food': 1, 'almost': 3, 'miserable': 1, 'could': 16, 'remember': 3, 'died': 11, 'car': 2, 'crash': 1, 'yeh': 4, 'powerful': 2, 'evil': 1, 'curse': 4, 'care': 6, 'yer': 4, 'mum': 4, 'dad': 4, 'even': 14, 'work': 3, 'famous': 3, 'one': 25, 'decided': 2, 'ter': 6, 'kill': 6, 'em': 2, 'except': 2, 'killed': 6, 'best': 3, 'witches': 4, 'wizards': 6, 'age': 2, 'bones': 3, 'lived': 10, 'something': 8, 'painful': 2, 'going': 6, 'mind': 6, 'hagrid': 22, 'story': 4, 'came': 5, 'close': 2, 'saw': 6, 'blinding': 1, 'flash': 1, 'green': 1, 'light': 5, 'clearly': 1, 'remembered': 4, 'else': 2, 'ron': 22, 'snape': 9, 'always': 2, 'taking': 3, 'points': 1, 'fred': 2, 'george': 1, 'come': 12, 'meet': 2, 'five': 1, 'three': 6, 'castle': 3, 'way': 5, 'across': 8, 'grounds': 3, 'small': 4, 'wooden': 1, 'edge': 1, 'forbidden': 1, 'forest': 7, 'crossbow': 1, 'pair': 1, 'outside': 2, 'door': 4, 'knocked': 2, 'heard': 4, 'frantic': 1, 'inside': 7, 'several': 4, 'booming': 1, 'us': 5, 'firenze': 2, 'might': 14, 'back': 7, 'bane': 1, 'stop': 3, 'dumbledore': 29, 'office': 6, 'looked': 8, 'around': 14, 'hoping': 2, 'see': 15, 'pointing': 2, 'right': 3, 'direction': 1, 'never': 20, 'told': 12, 'anyone': 7, 'sent': 3, 'began': 4, 'suddenly': 2, 'rang': 3, 'hall': 2, 'professor': 8, 'mcgonagall': 3, 'carrying': 1, 'pile': 2, 'books': 3, 'want': 7, 'sorry': 2, 'weasley': 2, 'sons': 1, 'taller': 1, 'rage': 3, 'broke': 3, 'beds': 2, 'empty': 3, 'note': 1, 'crashed': 1, 'worry': 1, 'wait': 2, 'gets': 2, 'home': 3, 'trouble': 4, 'like': 21, 'bill': 3, 'charlie': 1, 'percy': 3, 'perfect': 1, 'muttered': 1, 'book': 3, 'yelled': 2, 'filch': 3, 'roared': 1, 'quill': 1, 'without': 3, 'backward': 2, 'glance': 1, 'ran': 3, 'flat': 1, 'norris': 1, 'alongside': 3, 'peeves': 3, 'school': 4, 'poltergeist': 1, 'grinning': 1, 'cause': 3, 'help': 4, 'feeling': 4, 'grateful': 1, 'hopefully': 2, 'whatever': 3, 'done': 2, 'sounded': 2, 'though': 8, 'big': 1, 'think': 7, 'great': 11, 'panic': 1, 'quite': 2, 'explain': 1, 'hard': 2, 'prove': 1, 'hermione': 15, 'thousand': 2, 'ago': 4, 'hours': 1, 'night': 2, 'gap': 1, 'curtains': 2, 'poster': 2, 'watched': 1, 'snow': 3, 'starting': 2, 'past': 4, 'tower': 2, 'closed': 2, 'upward': 2, 'higher': 2, 'slightly': 4, 'gleaming': 1, 'oak': 2, 'ahead': 2, 'brass': 1, 'shape': 2, 'knew': 13, 'taken': 2, 'must': 5, 'polyjuice': 1, 'potion': 1, 'hey': 1, 'stepped': 3, 'stone': 5, 'staircase': 2, 'top': 6, 'opened': 2, 'silently': 1, 'entered': 4, 'alone': 5, 'happened': 2, 'hogwarts': 8, 'tell': 5, 'truth': 1, 'given': 1, 'accident': 1, 'gave': 4, 'nice': 1, 'shiny': 1, 'warned': 1, 'keep': 3, 'mouth': 3, 'shut': 1, 'happen': 1, 'monster': 1, 'power': 4, 'release': 1, 'upset': 2, 'ink': 4, 'bottle': 1, 'hurry': 1, 'write': 1, 'happening': 1, 'attacks': 2, 'seems': 1, 'riddle': 17, 'muggle': 9, 'born': 6, 'half': 4, 'blood': 3, 'sir': 3, 'witch': 4, 'orphanage': 3, 'enough': 2, 'name': 4, 'tom': 3, 'marvolo': 4, 'grandfather': 1, 'tongue': 1, 'thing': 3, 'sighed': 2, 'special': 1, 'circumstances': 1, 'mean': 2, 'land': 1, 'egg': 1, 'cared': 3, 'hidden': 6, 'table': 2, 'good': 6, 'man': 8, 'discovered': 1, 'death': 15, 'girl': 4, 'protected': 2, 'found': 2, 'wife': 1, 'family': 13, 'grown': 1, 'goodness': 1, 'remained': 1, 'courage': 1, 'attacked': 1, 'wizard': 5, 'mentioned': 1, 'roof': 2, 'uncle': 4, 'vernon': 4, 'hoped': 3, 'kept': 4, 'possible': 2, 'able': 4, 'magic': 4, 'fury': 1, 'days': 6, 'terror': 2, 'finding': 1, 'spent': 2, 'witchcraft': 1, 'wizardry': 1, 'however': 11, 'lock': 1, 'spellbooks': 1, 'wand': 4, 'cauldron': 1, 'marge': 2, 'sister': 6, 'whose': 6, 'forced': 1, 'call': 5, 'life': 7, 'garden': 2, 'often': 1, 'stay': 1, 'bear': 1, 'leave': 4, 'precious': 1, 'stood': 3, 'horribly': 1, 'fifth': 1, 'party': 1, 'little': 12, 'called': 4, 'many': 10, 'hill': 1, 'village': 7, 'windows': 2, 'boarded': 1, 'missing': 1, 'spreading': 2, 'face': 6, 'fine': 1, 'easily': 3, 'largest': 1, 'building': 1, 'miles': 2, 'damp': 1, 'leaving': 4, 'riddles': 4, 'arrived': 1, 'dramatically': 2, 'midst': 1, 'announced': 1, 'silent': 2, 'pub': 1, 'frank': 10, 'arrested': 1, 'cried': 2, 'run': 1, 'cottage': 1, 'war': 2, 'stiff': 1, 'leg': 2, 'dislike': 1, 'loud': 2, 'noises': 1, 'working': 3, 'far': 2, 'concerned': 1, 'police': 2, 'dot': 1, 'knowing': 3, 'knows': 1, 'stayed': 3, 'neither': 2, 'perhaps': 5, 'new': 5, 'owners': 2, 'nasty': 3, 'place': 14, 'absence': 2, 'started': 2, 'fall': 2, 'put': 6, 'use': 2, 'reasons': 2, 'nobody': 3, 'clear': 1, 'owner': 1, 'continued': 6, 'pay': 1, 'seventh': 3, 'bad': 1, 'lightning': 1, 'shaped': 1, 'cut': 1, 'forehead': 1, 'voldemort': 22, 'barely': 4, 'alive': 2, 'powers': 1, 'gone': 7, 'extinguished': 1, 'fled': 1, 'community': 2, 'lifted': 1, 'followers': 2, 'become': 1, 'shock': 3, 'discover': 2, 'everyone': 2, 'wizarding': 5, 'world': 4, 'teeth': 2, 'interested': 1, 'letter': 7, 'seemed': 6, 'funny': 1, 'understand': 4, 'making': 1, 'ordinary': 1, 'worst': 1, 'fear': 4, 'someone': 1, 'connected': 1, 'broomstick': 1, 'firebolt': 1, 'shoulder': 1, 'went': 1, 'upstairs': 1, 'rain': 2, 'louder': 2, 'accompanied': 1, 'wind': 2, 'mention': 3, 'pigwidgeon': 1, 'zooming': 1, 'cage': 2, 'sight': 1, 'packed': 2, 'trunks': 1, 'excitement': 2, 'owl': 2, 'throwing': 1, 'stared': 2, 'silence': 2, 'tear': 1, 'near': 1, 'wide': 4, 'hat': 3, 'song': 1, 'newly': 1, 'names': 2, 'well': 8, 'known': 8, 'gryffindor': 3, 'wild': 3, 'ravenclaw': 2, 'sweet': 2, 'hufflepuff': 1, 'broad': 1, 'slytherin': 2, 'shared': 1, 'wish': 1, 'hope': 1, 'dream': 1, 'daring': 1, 'afternoon': 2, 'lessons': 1, 'set': 2, 'north': 2, 'tightly': 1, 'silver': 1, 'led': 2, 'circular': 2, 'trapdoor': 1, 'ceiling': 1, 'trelawney': 1, 'familiar': 1, 'fire': 3, 'met': 3, 'nostrils': 1, 'emerged': 1, 'dim': 1, 'cast': 1, 'lamps': 1, 'draped': 1, 'scarves': 1, 'moody': 3, 'sat': 3, 'visited': 4, 'previous': 3, 'lockhart': 3, 'walls': 2, 'beaming': 2, 'winking': 1, 'pictures': 1, 'lupin': 5, 'likely': 2, 'fascinating': 2, 'creature': 3, 'study': 1, 'class': 1, 'full': 1, 'exceptionally': 1, 'odd': 1, 'objects': 2, 'supposed': 1, 'used': 2, 'certainly': 4, 'crouch': 1, 'disappeared': 2, 'within': 3, 'third': 2, 'ministry': 6, 'regret': 1, 'consider': 2, 'importance': 1, 'grew': 1, 'seen': 4, 'august': 2, 'read': 4, 'unlike': 1, 'friends': 1, 'seriously': 1, 'seem': 3, 'useful': 2, 'proved': 2, 'laughed': 2, 'walked': 3, 'snake': 2, 'circle': 2, 'grass': 3, 'upon': 9, 'fell': 4, 'love': 2, 'abandoned': 2, 'returned': 4, 'giving': 3, 'raised': 4, 'comfortable': 1, 'asking': 1, 'cleaning': 2, 'asked': 4, 'trying': 6, 'make': 2, 'fit': 1, 'human': 1, 'sirius': 3, 'waving': 1, 'hand': 10, 'dear': 1, 'unless': 2, 'count': 1, 'elf': 2, 'round': 1, 'ages': 1, 'mundungus': 1, 'appear': 1, 'paid': 2, 'thought': 6, 'free': 1, 'return': 2, 'live': 3, 'headquarters': 2, 'course': 7, 'security': 1, 'measure': 2, 'muggles': 4, 'wanted': 2, 'added': 3, 'protection': 2, 'anywhere': 1, 'keeper': 1, 'order': 2, 'umbridge': 1, 'floor': 2, 'cautiously': 2, 'gilderoy': 1, 'portraits': 1, 'tank': 1, 'various': 1, 'instruments': 1, 'yeah': 5, 'nodding': 1, 'swig': 1, 'makes': 1, 'decent': 3, 'bin': 1, 'eh': 2, 'pose': 1, 'mood': 1, 'gloomily': 1, 'teach': 2, 'hollow': 8, 'understood': 1, 'warning': 2, 'meant': 1, 'attempt': 3, 'better': 1, 'creatures': 2, 'attempts': 1, 'grawp': 1, 'english': 1, 'jus': 1, 'talk': 4, 'bit': 2, 'reckon': 4, 'international': 1, 'confederation': 1, 'warlock': 1, 'wizengamot': 1, 'insisted': 1, 'dead': 8, 'widely': 2, 'believed': 2, 'seize': 1, 'meanwhile': 3, 'drag': 1, 'somehow': 1, 'paper': 1, 'hospital': 2, 'wing': 2, 'sitting': 2, 'end': 1, 'bed': 3, 'listening': 1, 'size': 1, 'chair': 2, 'luna': 1, 'dropped': 2, 'visit': 5, 'clutching': 1, 'quibbler': 1, 'reading': 2, 'magazine': 1, 'upside': 1, 'apparently': 3, 'word': 2, 'darkly': 1, 'show': 1, 'helped': 1, 'handful': 1, 'chocolate': 1, 'immense': 1, 'bedside': 1, 'cabinet': 1, 'threw': 1, 'ginny': 4, 'neville': 1, 'ripped': 1, 'angrily': 1, 'bowed': 1, 'shaggy': 1, 'head': 7, 'nah': 1, 'quietly': 1, 'sit': 3, 'let': 5, 'leapt': 1, 'got': 8, 'go': 7, 'oh': 4, 'rather': 3, 'anybody': 2, 'fudge': 4, 'thrown': 1, 'powder': 1, 'fireplace': 1, 'emerald': 1, 'flames': 2, 'vanished': 4, 'sound': 2, 'prime': 2, 'minister': 2, 'motionless': 1, 'realized': 3, 'dare': 2, 'living': 2, 'soul': 6, 'believe': 3, 'wear': 2, 'tried': 2, 'convince': 2, 'indeed': 2, 'brought': 1, 'lack': 2, 'sleep': 1, 'cleared': 1, 'throat': 2, 'effort': 2, 'stopped': 2, 'spinning': 1, 'bowler': 1, 'murder': 3, 'momentarily': 1, 'anger': 2, 'middle': 3, 'aged': 1, 'woman': 2, 'killing': 1, 'lot': 2, 'locked': 1, 'exactly': 1, 'hundred': 2, 'loudly': 1, 'striding': 1, 'sofa': 1, 'lord': 7, 'pocket': 1, 'sorcerer': 1, 'retrieve': 1, 'prophecy': 1, 'certain': 1, 'pass': 2, 'disgust': 1, 'writhing': 1, 'stamping': 1, '—': 11, 'prefer': 1, 'bellatrix': 3, 'lestrange': 2, 'bearing': 1, 'phoenix': 1, 'kreacher': 2, 'permitted': 2, 'idea': 1, 'responsibility': 1, 'uncomfortable': 1, 'soft': 1, 'chairs': 1, 'drinks': 1, 'boxes': 1, 'plump': 1, 'cushions': 1, 'guessed': 1, 'horace': 2, 'maybe': 1, 'ought': 2, 'slughorn': 5, 'pale': 1, 'eyes': 12, 'injured': 2, 'turn': 1, 'guard': 1, 'undoubtedly': 1, 'try': 2, 'collect': 1, 'collection': 1, 'chosen': 2, 'words': 8, 'chill': 1, 'nothing': 2, 'surrounding': 2, 'mist': 1, 'stole': 2, 'reminded': 1, 'horrible': 1, 'particular': 1, 'meaning': 2, 'spoke': 4, 'evening': 2, 'thoughts': 2, 'feelings': 1, 'entirely': 1, 'elder': 2, 'brother': 7, 'summer': 1, 'quidditch': 1, 'laugh': 1, 'natural': 3, 'feel': 2, 'protective': 1, 'rip': 1, 'kedavra': 1, 'usually': 1, 'damage': 1, 'nod': 1, 'scar': 1, 'also': 3, 'already': 2, 'attacking': 1, 'murdered': 2, 'morfin': 3, 'need': 2, 'question': 3, 'admitted': 1, 'spot': 1, 'azkaban': 3, 'fight': 3, 'disturbed': 1, 'fact': 1, 'ring': 9, 'losing': 2, 'loss': 2, 'buried': 4, 'beside': 3, 'prison': 1, 'poor': 1, 'pop': 1, 'months': 2, 'learned': 1, 'ex': 1, 'boys': 1, 'girls': 1, 'bathroom': 1, 'careful': 1, 'give': 2, 'places': 3, 'bath': 1, 'curiosity': 1, 'evidently': 1, 'promise': 1, 'gruffly': 1, 'trusts': 1, 'dreadful': 1, 'giant': 1, 'spider': 1, 'everything': 4, 'rumors': 1, 'softly': 2, 'mass': 1, 'black': 1, 'trees': 1, 'true': 2, 'yes': 4, 'deep': 4, 'draught': 1, 'mug': 2, 'moving': 1, 'carefully': 1, 'cabin': 1, 'mead': 1, 'velvet': 1, 'ing': 1, 'becoming': 2, 'drink': 1, 'mopping': 1, 'happily': 1, 'explanation': 1, 'felix': 1, 'felicis': 1, 'described': 1, 'mere': 4, 'memory': 2, 'act': 2, 'hands': 3, 'fallen': 1, 'sinister': 1, 'fragment': 1, 'diary': 4, 'horcrux': 6, 'questions': 1, 'answered': 1, 'alarmed': 1, 'intended': 1, 'weapon': 1, 'invisible': 2, 'glad': 1, 'appreciate': 1, 'problem': 1, 'calmly': 1, 'seven': 1, 'six': 4, 'part': 7, 'body': 3, 'existence': 2, 'self': 2, 'piece': 3, 'attack': 1, 'lives': 3, 'forgive': 1, 'action': 2, 'tale': 2, 'exchange': 1, 'business': 1, 'stumbled': 1, 'succeeded': 1, 'side': 3, 'anymore': 1, 'hid': 2, 'enchantments': 1, 'shack': 1, 'take': 2, 'keeping': 1, 'eye': 1, 'open': 3, 'magical': 5, 'heartily': 1, 'destroyed': 2, 'random': 1, 'deserved': 1, 'felt': 8, 'cheerful': 1, 'sudden': 3, 'none': 2, 'rest': 1, 'short': 3, 'fellow': 1, 'gryffindors': 1, 'captain': 1, 'banned': 1, 'final': 2, 'match': 1, 'saturday': 1, 'morning': 1, 'ground': 1, 'shudder': 1, 'enormous': 1, 'eater': 1, 'running': 2, 'toward': 4, 'gates': 1, 'yell': 1, 'instant': 1, 'whether': 3, 'pushing': 1, 'feet': 2, 'staggered': 1, 'flicked': 1, 'early': 1, 'shall': 2, 'miss': 1, 'friendship': 1, 'compared': 3, 'loved': 4, 'headmasters': 1, 'cannot': 2, 'greater': 1, 'hour': 1, 'willing': 1, 'stretch': 1, 'dragon': 1, 'finished': 2, 'gaze': 1, 'picture': 1, 'auntie': 3, 'muriel': 4, 'streaming': 1, 'control': 1, 'bathilda': 8, 'bagshot': 4, 'godric': 11, 'forever': 2, 'dumbledores': 4, 'moved': 5, 'drained': 2, 'lost': 3, 'ones': 2, 'lily': 6, 'james': 5, 'g': 1, 'searched': 2, 'friendly': 2, 'wave': 2, 'glimpsed': 2, 'veil': 3, 'incredible': 2, 'treasure': 4, 'proof': 3, 'really': 4, 'warm': 2, 'parchment': 2, 'letters': 2, 'son': 2, 'impatiently': 2, 'brushing': 2, 'concentrating': 2, 'masked': 1, 'confusion': 1, 'change': 1, 'instead': 1, '¨c': 18, 'symbol': 3, 'point': 1, 'price': 1, 'doubt': 3, 'amongst': 1, 'wore': 1, 'square': 2, 'grimmauld': 2, 'brown': 1, 'twelve': 2, 'houses': 1, 'accepted': 1, 'amusing': 1, 'mistake': 1, 'caused': 1, 'eleven': 1, 'thirteen': 1, 'visitors': 1, 'cracked': 1, 'destroy': 1, 'golden': 1, 'doors': 3, 'hit': 1, 'efforts': 1, 'violent': 1, 'urge': 1, 'locket': 4, 'apart': 2, 'fingers': 1, 'attempted': 2, 'charm': 1, 'increasingly': 1, 'information': 1, 'horcruxes': 1, 'important': 1, 'sort': 1, 'borgin': 2, 'worked': 2, 'formed': 2, 'search': 2, 'entire': 1, 'pounding': 1, 'tent': 2, 'tears': 1, 'pouring': 1, 'minutes': 2, 'wet': 2, 'cold': 3, 'sword': 3, 'hiding': 2, 'families': 2, 'together': 3, 'support': 1, 'upper': 1, 'st': 1, 'sometimes': 1, 'west': 1, 'smith': 1, 'wedding': 1, 'skinny': 1, 'ankles': 1, 'sensed': 1, 'rushed': 1, 'murmured': 1, 'finger': 1, 'cover': 1, 'history': 1, 'suppose': 1, 'gasped': 1, 'cloak': 2, 'jacket': 2, 'forward': 3, 'icy': 2, 'air': 2, 'faces': 2, 'gazed': 2, 'wondering': 4, 'impossible': 2, 'kendra': 2, 'daughter': 2, 'ariana': 1, 'heart': 1, 'rita': 1, 'skeeter': 1, 'facts': 1, 'seeing': 1, 'grave': 2, 'worse': 1, 'hearing': 1, 'thinking': 1, 'roots': 1, 'graveyard': 1, 'ruined': 1, 'state': 1, 'potters': 1, 'tore': 1, 'neatly': 1, 'escaped': 1, 'merely': 1, 'signed': 1, 'others': 2, 'carved': 1, 'wood': 1, 'recent': 1, 'shining': 2, 'brightly': 1, 'sixteen': 1, 'worth': 1, 'things': 3, 'younger': 1, 'actually': 1, 'case': 1, 'aberforth': 1, 'dung': 1, 'albus': 3, 'anyway': 1, 'doge': 1, 'counted': 1, 'ill': 1, 'health': 1, 'satisfied': 1, 'welcome': 1, 'transfixed': 1, 'hanging': 1, 'stab': 2, 'move': 1, 'reflected': 1, 'hair': 2, 'swirling': 1, 'stooped': 1, 'pretending': 1, 'picked': 1, 'broken': 2, 'stained': 1, 'silk': 1, 'smoking': 1, 'sunk': 1, 'knees': 1, 'arms': 2, 'shaking': 1, 'crammed': 1, 'deserted': 1, 'christmas': 1, 'peering': 1, 'window': 2, 'neat': 1, 'windowsill': 1, 'snorted': 1, 'listen': 1, 'disapparated': 1, 'farther': 1, 'shouted': 1, 'whipped': 1, 'clothes': 1, 'wine': 1, 'thief': 1, 'slit': 1, 'oldest': 1, 'second': 2, 'turned': 2, 'amazement': 1, 'delight': 1, 'figure': 1, 'appeared': 1, 'sad': 1, 'separated': 1, 'says': 1, 'belong': 1, 'concern': 1, 'less': 1, 'expression': 1, 'glanced': 1, 'scared': 1, 'bloke': 1, 'widening': 1, 'astonished': 1, 'blimey': 1, 'hallows': 1, 'excitedly': 1, 'gaunt': 1, 'git': 1, 'pig': 1, 'centuries': 1, 'trust': 1, 'tales': 1, 'kids': 1, 'coat': 1, 'plan': 1, 'diagon': 1, 'alley': 1, 'burkes': 1, 'joining': 1, 'happy': 1, 'firmly': 1, 'eaters': 5, 'strike': 1, 'deadly': 1, 'blow': 1, 'remains': 1, 'fighting': 1, 'triumph': 1, 'mixture': 1, 'shame': 1, 'terrible': 2, 'trusted': 1, 'matters': 1, 'gold': 1, 'respect': 2, 'goblin': 4, 'shook': 1, 'goblins': 1, 'master': 2, 'object': 1, 'bought': 1, 'money': 1, 'replied': 1, 'suggest': 1, 'slipping': 1, 'stammered': 1, 'diadem': 2, 'angry': 1, 'stiffly': 1, 'obvious': 1, 'pull': 1, 'greatly': 1, 'chances': 1, 'crabbe': 1, 'goyle': 2, 'edging': 1, 'slowly': 1, 'lopsided': 1, 'malfoy': 1, 'corridor': 1, 'grunted': 1, 'charms': 1, 'split': 1, 'grin': 1, 'marble': 1, 'white': 1, 'blank': 1, 'whisper': 1, 'animal': 1, 'slumped': 1, 'standing': 2, 'grim': 1, 'safe': 1, 'wrong': 1, 'person': 1, 'severus': 1, 'smiled': 1, 'nodded': 1, 'traveled': 1, 'yaxley': 1, 'dolohov': 1, 'clearing': 2, 'monstrous': 1, 'aragog': 1, 'vast': 1, 'web': 1, 'driven': 1, 'burned': 1, 'flickering': 1, 'crowd': 1, 'completely': 1, 'considering': 1, 'smile': 1, 'curled': 1, 'spitting': 1, 'waiting': 2, 'struggling': 1, 'panting': 1, 'blazing': 1, 'lips': 1, 'save': 1, 'bring': 1, 'hero': 1, 'battle': 1, 'resist': 1, 'child': 1, 'member': 1, 'children': 1, 'brothers': 1, 'sisters': 1, 'join': 1, 'sprout': 1, 'hear': 1, 'shouting': 1, 'seizing': 1, 'pulling': 1, 'hug': 1, 'hundreds': 1, 'pressing': 1, 'determined': 1, 'touch': 1, 'reason': 1, 'steadily': 1, 'mingled': 1, 'grief': 1, 'guide': 1, 'slept': 1, 'company': 1}), 'mr': defaultdict(<class 'int'>, {'boy': 33, 'lived': 2, 'mrs': 318, 'dursley': 81, 'number': 49, 'four': 39, 'privet': 15, 'drive': 18, 'proud': 8, 'say': 110, 'perfectly': 11, 'normal': 14, 'thank': 29, 'much': 98, 'last': 113, 'people': 90, 'expect': 23, 'involved': 7, 'anything': 84, 'strange': 18, 'mysterious': 6, 'hold': 15, 'nonsense': 1, 'firm': 1, 'called': 58, 'made': 72, 'big': 23, 'man': 53, 'hardly': 17, 'neck': 14, 'although': 6, 'large': 57, 'mustache': 13, 'thin': 19, 'blonde': 10, 'nearly': 13, 'twice': 8, 'usual': 14, 'amount': 9, 'street': 15, 'dursleys': 36, 'knew': 72, 'potters': 11, 'small': 36, 'son': 61, 'never': 90, 'even': 74, 'seen': 51, 'another': 57, 'good': 131, 'reason': 9, 'keeping': 12, 'away': 81, 'want': 71, 'dudley': 69, 'child': 3, 'like': 193, 'woke': 5, 'dull': 5, 'gray': 12, 'tuesday': 5, 'story': 15, 'nothing': 47, 'sky': 19, 'outside': 36, 'suggest': 5, 'things': 34, 'would': 196, 'soon': 19, 'happening': 7, 'country': 5, 'mr': 1136, 'picked': 22, 'boring': 3, 'tie': 4, 'work': 40, 'happily': 4, 'screaming': 11, 'high': 18, 'chair': 31, 'none': 16, 'noticed': 24, 'owl': 30, 'past': 38, 'window': 40, 'half': 46, 'eight': 14, 'cheek': 6, 'tried': 48, 'kiss': 4, 'bye': 13, 'missed': 14, 'throwing': 6, 'walls': 20, 'little': 78, 'left': 86, 'house': 83, 'got': 245, 'car': 40, 'backed': 5, 'corner': 28, 'first': 84, 'sign': 37, 'something': 104, 'peculiar': 7, 'cat': 20, 'reading': 18, 'map': 37, 'second': 47, 'realize': 9, 'jerked': 4, 'head': 109, 'around': 197, 'look': 125, 'standing': 47, 'sight': 22, 'could': 211, 'thinking': 16, 'must': 75, 'trick': 7, 'light': 23, 'blinked': 8, 'stared': 40, 'back': 241, 'drove': 10, 'road': 9, 'watched': 22, 'mirror': 4, 'said': 1738, 'looking': 194, 'cats': 4, 'read': 34, 'signs': 3, 'gave': 54, 'shake': 7, 'put': 52, 'mind': 40, 'toward': 86, 'thought': 97, 'except': 17, 'order': 25, 'hoping': 7, 'get': 165, 'day': 45, 'edge': 13, 'driven': 6, 'else': 48, 'sat': 31, 'morning': 41, 'help': 42, 'noticing': 7, 'seemed': 67, 'lot': 39, 'strangely': 4, 'dressed': 11, 'cloaks': 4, 'bear': 6, 'funny': 22, 'clothes': 14, 'saw': 93, 'young': 35, 'supposed': 18, 'stupid': 15, 'new': 23, 'fashion': 9, 'fingers': 19, 'steering': 2, 'eyes': 180, 'fell': 42, 'quite': 67, 'close': 26, 'whispering': 3, 'excitedly': 14, 'together': 38, 'see': 177, 'couple': 27, 'older': 12, 'wearing': 46, 'emerald': 10, 'green': 38, 'cloak': 28, 'nerve': 5, 'struck': 7, 'probably': 19, 'silly': 9, 'obviously': 14, 'collecting': 6, 'yes': 142, 'moved': 33, 'minutes': 34, 'later': 48, 'arrived': 24, 'always': 27, 'office': 60, 'floor': 54, 'might': 77, 'found': 80, 'harder': 4, 'concentrate': 3, 'owls': 20, 'ing': 7, 'broad': 7, 'daylight': 4, 'though': 150, 'pointed': 21, 'gazed': 1, 'open': 37, 'mouthed': 2, 'sped': 6, 'overhead': 4, 'however': 55, 'free': 20, 'yelled': 14, 'five': 36, 'different': 22, 'several': 39, 'important': 20, 'telephone': 13, 'shouted': 49, 'bit': 53, 'mood': 4, 'single': 12, 'tin': 6, 'way': 97, 'clutching': 20, 'bag': 12, 'caught': 45, 'words': 29, 'saying': 45, 'right': 165, 'heard': 93, 'harry': 1441, 'stopped': 28, 'dead': 18, 'fear': 9, 'flooded': 3, 'looked': 221, 'wanted': 34, 'better': 44, 'dashed': 8, 'across': 46, 'hurried': 42, 'snapped': 23, 'seized': 19, 'building': 2, 'clock': 23, 'still': 164, 'worried': 15, 'walked': 43, 'straight': 16, 'someone': 33, 'door': 117, 'sorry': 41, 'grunted': 1, 'tiny': 19, 'old': 86, 'stumbled': 2, 'almost': 46, 'seconds': 23, 'realized': 10, 'violet': 3, 'seem': 36, 'upset': 14, 'knocked': 8, 'ground': 35, 'contrary': 6, 'face': 149, 'split': 3, 'wide': 4, 'smile': 39, 'voice': 130, 'stare': 8, 'dear': 55, 'sir': 54, 'today': 37, 'know': 251, 'gone': 32, 'muggles': 34, 'happy': 20, 'hugged': 9, 'middle': 17, 'stood': 70, 'spot': 13, 'complete': 9, 'stranger': 3, 'also': 13, 'muggle': 99, 'whatever': 8, 'rattled': 7, 'set': 32, 'home': 34, 'imagining': 3, 'hoped': 9, 'imagination': 1, 'pulled': 38, 'thing': 42, 'spotted': 8, 'sitting': 52, 'garden': 12, 'wall': 36, 'sure': 64, 'one': 230, 'loudly': 39, 'move': 29, 'stern': 9, 'behavior': 10, 'wondered': 10, 'trying': 46, 'pull': 3, 'let': 86, 'determined': 8, 'mention': 13, 'wife': 32, 'nice': 18, 'told': 109, 'dinner': 22, 'next': 57, 'problems': 1, 'daughter': 9, 'learned': 13, 'word': 74, 'act': 12, 'normally': 10, 'bed': 32, 'went': 58, 'living': 21, 'room': 98, 'time': 151, 'catch': 10, 'report': 11, 'evening': 14, 'news': 10, 'finally': 18, 'bird': 7, 'everywhere': 13, 'reported': 5, 'far': 29, 'apart': 14, 'tell': 111, 'instead': 22, 'rain': 2, 'promised': 3, 'yesterday': 10, 'shooting': 7, 'stars': 7, 'perhaps': 17, 'night': 60, 'early': 17, 'week': 22, 'promise': 6, 'wet': 4, 'tonight': 21, 'frozen': 4, 'armchair': 4, 'britain': 4, 'flying': 21, 'place': 60, 'whisper': 7, 'came': 60, 'er': 49, 'petunia': 37, 'sister': 6, 'lately': 7, 'expected': 16, 'shocked': 10, 'angry': 22, 'pretended': 3, 'sharply': 22, 'stuff': 12, 'mumbled': 12, 'well': 226, 'maybe': 16, 'crowd': 40, 'tea': 28, 'lips': 8, 'whether': 32, 'dared': 2, 'name': 37, 'potter': 173, 'decided': 10, 'dare': 16, 'casually': 4, 'age': 8, 'suppose': 17, 'stiffly': 7, 'nasty': 19, 'common': 5, 'ask': 45, 'oh': 120, 'heart': 22, 'sinking': 2, 'horribly': 2, 'agree': 9, 'subject': 6, 'upstairs': 16, 'bathroom': 6, 'crept': 6, 'bedroom': 15, 'peered': 10, 'front': 65, 'staring': 37, 'waiting': 28, 'related': 3, 'pair': 24, 'think': 167, 'asleep': 12, 'quickly': 55, 'lay': 8, 'awake': 4, 'turning': 24, 'come': 126, 'near': 14, 'kind': 17, 'mixed': 1, 'going': 84, 'yawned': 3, 'turned': 90, 'wrong': 19, 'drifting': 3, 'uneasy': 2, 'sleep': 10, 'showing': 12, 'statue': 2, 'fixed': 17, 'changed': 17, 'sun': 8, 'rose': 13, 'lit': 11, 'brass': 4, 'exactly': 25, 'photographs': 4, 'mantelpiece': 3, 'really': 57, 'showed': 12, 'passed': 29, 'ten': 32, 'years': 31, 'ago': 34, 'lots': 2, 'pictures': 2, 'furiously': 21, 'planned': 3, 'ought': 25, 'feel': 26, 'figg': 5, 'broken': 21, 'leg': 8, 'easy': 8, 'reminded': 8, 'whole': 23, 'year': 35, 'snowy': 3, 'marge': 2, 'uncle': 80, 'vernon': 76, 'suggested': 8, 'often': 8, 'spoke': 24, 'rather': 52, 'understand': 22, 'tail': 10, 'snake': 14, 'shook': 21, 'deafening': 5, 'shout': 11, 'behind': 90, 'jump': 7, 'believe': 23, 'fast': 15, 'punching': 3, 'ribs': 3, 'surprise': 18, 'hard': 27, 'written': 8, 'friends': 11, 'relatives': 2, 'belong': 1, 'library': 1, 'rude': 3, 'notes': 18, 'asking': 12, 'books': 19, 'yet': 39, 'letter': 23, 'addressed': 6, 'plainly': 4, 'mistake': 5, 'h': 7, 'cupboard': 9, 'stairs': 29, 'whinging': 1, 'envelope': 5, 'thick': 9, 'heavy': 10, 'yellowish': 3, 'parchment': 41, 'address': 4, 'ink': 13, 'go': 109, 'banging': 1, 'stick': 3, 'hall': 33, 'smallest': 3, 'strangled': 3, 'cry': 2, 'leapt': 16, 'seat': 25, 'ran': 22, 'stayed': 7, 'windowsill': 1, 'lights': 6, 'passing': 9, 'cars': 15, 'wondering': 12, 'ate': 4, 'cold': 27, 'toast': 9, 'breakfast': 9, 'finished': 18, 'owner': 5, 'table': 71, 'desk': 27, 'held': 23, 'grab': 4, 'hand': 137, 'woman': 15, 'take': 83, 'yeh': 7, 'reckon': 16, 'abou': 1, 'yer': 2, 'stretched': 10, 'hut': 4, 'rock': 5, 'sea': 6, 'hogwarts': 56, 'school': 55, 'witchcraft': 6, 'wizardry': 6, 'headmaster': 9, 'albus': 11, 'dumbledore': 237, 'merlin': 12, 'class': 17, 'warlock': 1, 'international': 6, 'wizards': 63, 'pleased': 9, 'accepted': 4, 'please': 52, 'find': 59, 'list': 28, 'necessary': 7, 'term': 10, 'september': 2, '1': 7, 'sincerely': 2, 'minerva': 5, 'mcgonagall': 49, 'silent': 11, 'soul': 1, 'whispered': 29, 'honor': 3, 'bar': 8, 'rushed': 4, 'tears': 14, 'welcome': 8, 'everyone': 61, 'pipe': 2, 'without': 42, 'realizing': 2, 'hagrid': 69, 'beaming': 20, 'great': 69, 'chairs': 12, 'moment': 92, 'shaking': 22, 'hands': 65, 'leaky': 15, 'cauldron': 35, 'meeting': 12, 'delighted': 15, 'dedalus': 6, 'top': 53, 'hat': 14, 'excitement': 12, 'bowed': 11, 'shop': 25, 'cried': 19, 'hear': 66, 'leading': 15, 'goblins': 4, 'counter': 11, 'goblin': 14, 'ter': 8, 'money': 23, 'outta': 2, 'safe': 13, 'key': 3, 'somewhere': 16, 'started': 32, 'pockets': 8, 'onto': 41, 'handful': 4, 'dog': 4, 'book': 18, 'nose': 28, 'question': 12, 'mother': 35, 'seems': 9, 'buying': 8, 'wand': 242, 'quarter': 7, 'inches': 18, 'long': 96, 'willow': 3, 'charm': 11, 'ollivander': 116, 'closer': 14, 'wished': 7, 'blink': 4, 'silvery': 3, 'father': 47, 'eleven': 11, 'power': 13, 'excellent': 11, 'transfiguration': 13, 'wizard': 105, 'course': 107, 'reflected': 4, 'misty': 9, 'touched': 8, 'lightning': 2, 'scar': 13, 'forehead': 13, 'white': 17, 'finger': 15, 'softly': 12, 'thirteen': 7, 'powerful': 7, 'oak': 4, 'sixteen': 6, 'expelled': 4, 'suddenly': 55, 'shuffling': 2, 'feet': 58, 'pieces': 2, 'added': 28, 'brightly': 20, 'use': 45, 'sit': 14, 'gripped': 6, 'pink': 18, 'umbrella': 3, 'tightly': 7, 'giving': 13, 'piercing': 4, 'measure': 6, 'silver': 13, 'pocket': 25, 'arm': 23, 'handed': 33, 'shoulder': 44, 'wrist': 2, 'elbow': 8, 'knee': 5, 'round': 25, 'every': 56, 'magical': 41, 'substance': 2, 'unicorn': 6, 'hairs': 1, 'phoenix': 17, 'feathers': 1, 'dragons': 6, 'two': 97, 'wands': 28, 'results': 2, 'nostrils': 7, 'shelves': 8, 'taking': 37, 'boxes': 4, 'crumpled': 7, 'heap': 6, 'try': 28, 'dragon': 8, 'nine': 23, 'give': 42, 'wave': 7, 'took': 75, 'feeling': 16, 'foolish': 3, 'waved': 18, 'snatched': 9, 'feather': 12, 'seven': 14, 'raised': 41, 'hair': 58, 'idea': 37, 'pile': 10, 'higher': 12, 'happier': 3, 'become': 4, 'tricky': 3, 'eh': 17, 'worry': 14, 'perfect': 5, 'match': 17, 'wonder': 7, 'unusual': 4, 'holly': 4, 'brought': 14, 'dusty': 5, 'air': 35, 'stream': 7, 'red': 26, 'gold': 37, 'sparks': 4, 'shot': 22, 'end': 35, 'dancing': 2, 'spots': 1, 'clapped': 7, 'indeed': 19, 'curious': 21, 'box': 29, 'wrapped': 3, 'brown': 20, 'paper': 21, 'muttering': 10, 'pale': 26, 'remember': 32, 'ever': 63, 'happens': 3, 'whose': 18, 'brother': 7, 'swallowed': 5, 'happen': 10, 'named': 8, 'terrible': 9, 'shivered': 3, 'liked': 7, 'paid': 5, 'galleons': 19, 'late': 22, 'afternoon': 13, 'hung': 2, 'low': 12, 'diagon': 10, 'alley': 16, 'explain': 8, 'best': 45, 'birthday': 10, 'life': 33, 'thinks': 18, 'special': 3, 'professor': 144, 'quirrell': 4, 'magic': 67, 'famous': 3, 'happened': 43, 'vol': 1, 'mean': 45, 'parents': 15, 'died': 10, 'note': 10, 'forest': 20, 'grounds': 18, 'forbidden': 8, 'pupils': 2, 'students': 25, 'twinkling': 4, 'flashed': 2, 'direction': 10, 'weasley': 1383, 'twins': 14, 'asked': 110, 'filch': 36, 'caretaker': 8, 'remind': 11, 'used': 23, 'classes': 4, 'corridors': 3, 'quidditch': 23, 'anyone': 43, 'interested': 6, 'playing': 7, 'teams': 4, 'contact': 4, 'madam': 21, 'hooch': 1, 'shock': 10, 'glasses': 19, 'fault': 12, 'quiet': 18, 'miss': 51, 'patil': 2, 'malfoy': 255, 'enough': 43, 'follow': 10, 'crabbe': 4, 'goyle': 3, 'triumphant': 2, 'faces': 11, 'walking': 18, 'wake': 3, 'strode': 19, 'castle': 14, 'making': 29, 'staying': 7, 'holidays': 6, 'signed': 3, 'christmas': 31, 'ron': 305, 'brothers': 7, 'visit': 8, 'charlie': 30, 'dungeons': 2, 'potions': 4, 'tree': 15, 'blocking': 2, 'corridor': 32, 'ahead': 5, 'enormous': 7, 'sticking': 2, 'bottom': 9, 'sorcerer': 5, 'stone': 24, 'powers': 5, 'transform': 2, 'metal': 6, 'pure': 6, 'make': 53, 'many': 41, 'centuries': 3, 'currently': 9, 'existence': 2, 'belongs': 3, 'nicolas': 2, 'flamel': 4, 'six': 17, 'hundred': 27, 'sixty': 6, 'fifth': 6, 'fifty': 11, 'hermione': 290, 'drag': 1, 'violently': 3, 'shut': 19, 'neville': 7, 'likely': 14, 'breathe': 1, 'fire': 50, 'norbert': 1, 'three': 57, 'believed': 4, 'says': 18, 'astronomy': 2, 'tower': 4, 'failed': 6, 'answer': 19, 'teacher': 3, 'cost': 6, 'dark': 85, 'warn': 7, 'granger': 33, 'sense': 18, 'gryffindor': 31, 'meant': 15, 'receive': 3, 'detentions': 6, 'longbottom': 7, 'gives': 6, 'walk': 20, 'especially': 2, 'days': 21, 'dangerous': 21, 'points': 21, 'taken': 23, 'gasped': 13, 'lose': 3, 'learn': 1, 'names': 11, 'following': 16, 'delivered': 2, 'detention': 7, 'meet': 12, 'entrance': 15, 'forgotten': 6, 'lost': 25, 'complain': 4, 'studying': 3, 'agreed': 12, 'unless': 9, 'need': 50, 'stay': 26, 'alive': 9, 'drink': 17, 'bring': 9, 'full': 25, 'strength': 3, 'die': 5, 'hidden': 14, 'nobody': 18, 'waited': 11, 'return': 10, 'chance': 16, 'sudden': 10, 'peeves': 8, 'hoarse': 1, 'bloody': 7, 'baron': 2, 'reasons': 1, 'invisible': 6, 'foot': 8, 'forgive': 2, 'joke': 12, 'business': 25, 'croaked': 2, 'fred': 138, 'george': 117, 'responsible': 3, 'send': 20, 'toilet': 11, 'doubt': 16, 'pomfrey': 8, 'felt': 44, 'ronald': 5, 'relieved': 3, 'extremely': 20, 'distracted': 4, 'manage': 5, 'food': 10, 'snape': 78, 'hated': 4, 'true': 10, 'unlike': 3, 'saved': 7, 'minds': 3, 'recent': 1, 'events': 7, 'account': 3, 'slytherins': 3, 'faded': 8, 'minute': 10, 'purple': 13, 'bad': 18, 'played': 3, 'game': 2, 'chess': 1, 'award': 4, 'buried': 4, 'arms': 15, 'strongly': 3, 'suspected': 3, 'burst': 22, 'gryffindors': 2, 'beside': 42, 'third': 23, 'deadly': 1, 'outstanding': 1, 'courage': 2, 'add': 7, 'smiling': 44, 'takes': 3, 'deal': 13, 'stand': 10, 'enemies': 2, 'therefore': 6, 'sort': 37, 'explosion': 2, 'loud': 11, 'noise': 16, 'erupted': 4, 'worst': 8, 'argument': 6, 'woken': 1, 'hours': 14, 'hooting': 1, 'roared': 19, 'control': 8, 'sentence': 5, 'rest': 35, 'family': 42, 'incredible': 2, 'crash': 3, 'kitchen': 51, 'scream': 4, 'mouth': 32, 'jumped': 13, 'throbbing': 1, 'aunt': 35, 'promptly': 13, 'foul': 3, 'may': 34, 'love': 10, 'rounded': 5, 'pretending': 7, 'dully': 3, 'precisely': 4, 'aim': 2, 'ideas': 2, 'tells': 7, 'wonderful': 11, 'bought': 12, 'dress': 4, 'write': 3, 'essay': 2, 'hero': 5, 'wrote': 8, 'ducked': 4, 'laughing': 12, 'fought': 2, 'keep': 43, 'bulging': 13, 'size': 7, 'balls': 3, 'instantly': 11, 'watching': 36, 'hedge': 2, 'creature': 7, 'slipped': 11, 'carpet': 2, 'sound': 21, 'steps': 16, 'landing': 8, 'dobby': 52, 'dying': 1, 'stomach': 7, 'disappear': 7, 'pudding': 5, 'mountain': 1, 'cream': 2, 'floating': 7, 'ceiling': 14, 'huge': 6, 'barn': 1, 'swooped': 4, 'dropped': 26, 'screamed': 10, 'shouting': 5, 'afraid': 20, 'birds': 6, 'shapes': 1, 'support': 7, 'advanced': 1, 'hissed': 4, 'brandishing': 8, 'received': 5, 'twelve': 16, 'underage': 5, 'permitted': 12, 'perform': 1, 'spells': 7, 'part': 7, 'side': 48, 'field': 29, 'dad': 37, 'soft': 3, 'slammed': 7, 'slumped': 4, 'closed': 25, 'bald': 7, 'children': 18, 'robes': 53, 'worn': 3, 'mundungus': 13, 'fletcher': 2, 'hex': 3, 'gulp': 2, 'sighed': 8, 'eagerly': 15, 'shrinking': 4, 'keys': 3, 'biting': 6, 'kettle': 10, 'pretty': 3, 'department': 46, 'questioning': 11, 'odd': 18, 'committee': 8, 'charms': 6, 'goodness': 9, 'bother': 3, 'sell': 4, 'keeps': 10, 'admit': 4, 'losing': 5, 'ignore': 1, 'instance': 2, 'appeared': 32, 'holding': 42, 'sword': 7, 'c': 2, 'molly': 40, 'arthur': 131, 'flashing': 2, 'imagine': 10, 'telling': 23, 'worked': 17, 'fly': 10, 'within': 13, 'law': 14, 'done': 42, 'um': 3, 'truth': 4, 'carry': 8, 'rubbish': 9, 'information': 28, 'blankly': 8, 'lord': 30, 'us': 94, 'sons': 10, 'flew': 8, 'boys': 19, 'leave': 30, 'muttered': 42, 'talking': 60, 'clanking': 2, 'fact': 15, 'everybody': 13, 'state': 4, 'socks': 4, 'force': 4, 'eat': 3, 'fourth': 4, 'questions': 10, 'service': 2, 'fascinating': 1, 'ways': 2, 'getting': 24, 'along': 42, 'burrow': 21, 'ginny': 101, 'already': 46, 'accidentally': 3, 'porridge': 4, 'bowl': 6, 'clatter': 2, 'retrieve': 3, 'emerged': 12, 'glowing': 2, 'setting': 11, 'offered': 7, 'letters': 9, 'identical': 4, 'knows': 19, 'w': 6, 'stammered': 5, 'traveled': 2, 'floo': 10, 'powder': 8, 'forgot': 5, 'buy': 8, 'underground': 17, 'mum': 5, 'watch': 21, 'nervously': 15, 'whipped': 4, 'awful': 3, 'fires': 3, 'choose': 2, 'spoken': 2, 'clearly': 21, 'fine': 35, 'helping': 7, 'brilliant': 4, 'crack': 10, 'bell': 5, 'stepped': 22, 'followed': 40, 'draco': 47, 'crossed': 9, 'lazily': 2, 'display': 3, 'rang': 3, 'touch': 10, 'reached': 46, 'glass': 10, 'eye': 53, 'bent': 6, 'examine': 3, 'shelf': 3, 'smart': 2, 'broomstick': 3, 'least': 14, 'dozen': 6, 'times': 21, 'appear': 8, 'less': 16, 'fond': 8, 'ah': 54, 'borgin': 76, 'greasy': 3, 'pleasure': 5, 'master': 40, 'show': 19, 'reasonably': 6, 'slightly': 49, 'ministry': 161, 'roll': 10, 'inside': 57, 'call': 12, 'pince': 4, 'trouble': 35, 'surely': 22, 'lip': 12, 'curled': 4, 'visited': 4, 'certain': 7, 'respect': 4, 'rumors': 7, 'protection': 8, 'bitten': 6, 'fool': 3, 'hot': 10, 'surge': 2, 'anger': 14, 'interrupted': 9, 'pointing': 41, 'cushion': 3, 'glory': 3, 'scurrying': 9, 'candle': 5, 'friend': 14, 'taste': 5, 'hope': 15, 'thief': 6, 'coldly': 25, 'pick': 14, 'fit': 12, 'teachers': 10, 'ashamed': 8, 'girl': 15, 'beat': 4, 'exam': 4, 'ha': 6, 'breath': 23, 'blood': 17, 'counting': 5, 'deep': 30, 'bow': 7, 'case': 20, 'shortly': 9, 'hurry': 21, 'drew': 6, 'nearer': 8, 'hiding': 8, 'examining': 6, 'objects': 14, 'cursed': 4, 'lives': 6, 'owners': 3, 'date': 2, 'cabinet': 8, 'forward': 44, 'handle': 3, 'wiped': 9, 'sleeve': 3, 'tomorrow': 14, 'manner': 5, 'stories': 6, 'darkly': 7, 'disappeared': 14, 'quietly': 44, 'wait': 21, 'grin': 5, 'sprinting': 4, 'crowded': 14, 'percy': 139, 'panted': 11, 'grate': 2, 'patch': 6, 'frantic': 2, 'coming': 38, 'grimly': 8, 'gasping': 2, 'began': 36, 'sweeping': 2, 'managed': 12, 'tap': 1, 'returned': 29, 'gotta': 1, 'packed': 4, 'guess': 5, 'burkes': 6, 'climbed': 3, 'gringotts': 4, 'lucius': 51, 'grim': 6, 'satisfaction': 4, 'careful': 12, 'bank': 5, 'indignantly': 11, 'marble': 3, 'introduce': 11, 'changing': 4, 'weasleys': 29, 'led': 18, 'means': 7, 'separated': 2, 'vaguely': 5, 'quill': 21, 'lee': 2, 'jordan': 1, 'robe': 2, 'flourish': 10, 'blotts': 9, 'hour': 11, 'step': 6, 'line': 12, 'wound': 2, 'gilderoy': 7, 'lockhart': 19, 'grabbed': 5, 'copy': 15, 'standard': 4, 'grade': 2, 'sneaked': 4, 'sounded': 16, 'breathless': 4, 'kept': 31, 'patting': 3, 'able': 32, 'slowly': 34, 'view': 14, 'hungry': 2, 'month': 6, 'pay': 19, 'jacket': 10, 'struggling': 4, 'sneering': 4, 'nodding': 10, 'busy': 24, 'paying': 7, 'battered': 5, 'guide': 3, 'flushed': 5, 'darker': 4, 'either': 14, 'company': 7, 'sink': 6, 'lower': 7, 'thud': 8, 'thrown': 6, 'knocking': 8, 'backward': 13, 'spellbooks': 2, 'thundering': 4, 'heads': 15, 'yell': 3, 'shrieking': 5, 'assistant': 10, 'louder': 11, 'break': 17, 'instant': 4, 'cut': 10, 'hit': 13, 'thrust': 9, 'glittering': 7, 'pulling': 24, 'grip': 3, 'beckoned': 9, 'swept': 20, 'ignored': 3, 'lifting': 2, 'straightened': 3, 'worth': 11, 'shopping': 6, 'traveling': 11, 'using': 17, 'leaving': 9, 'pub': 2, 'bus': 2, 'safely': 4, 'spare': 8, 'quills': 2, 'bits': 7, 'broke': 17, 'chicken': 7, 'yard': 15, 'carrying': 26, 'trunk': 17, 'trunks': 8, 'rat': 5, 'features': 1, 'opened': 49, 'magically': 2, 'luggage': 4, 'easily': 2, 'glanced': 16, 'resembled': 7, 'bench': 3, 'engine': 3, 'barely': 15, 'fireworks': 1, 'halt': 15, 'run': 23, 'shrieked': 9, 'diary': 19, 'clambered': 6, 'running': 24, 'button': 12, 'invisibility': 9, 'clouds': 2, 'king': 9, 'cross': 13, 'station': 18, 'express': 3, 'previous': 5, 'platform': 9, 'barrier': 6, 'briskly': 6, 'vanished': 15, 'grabbing': 1, 'headline': 4, 'aloud': 7, 'london': 8, 'convinced': 4, 'post': 4, 'hanging': 10, 'police': 2, 'works': 5, 'mad': 48, 'larger': 1, 'branches': 3, 'bewitched': 3, 'search': 4, 'considerable': 1, 'damage': 9, 'valuable': 1, 'whomping': 2, 'silence': 32, 'disappointment': 1, 'unable': 12, 'knees': 9, 'everything': 33, 'owned': 4, 'barked': 9, 'upon': 39, 'writing': 12, 'families': 4, 'choice': 3, 'cleared': 10, 'deserved': 4, 'pushed': 13, 'insides': 3, 'burning': 10, 'guilt': 6, 'facing': 6, 'summer': 17, 'moving': 16, 'handing': 15, 'double': 4, 'herbology': 1, 'flung': 4, 'shoulders': 12, 'pinned': 2, 'slide': 3, 'smirking': 3, 'creevey': 3, 'colin': 4, 'portrait': 4, 'fumbled': 1, 'camera': 1, 'picture': 14, 'start': 23, 'gulped': 7, 'argus': 4, 'loathed': 1, 'student': 9, 'party': 15, 'attend': 2, 'daresay': 9, 'feast': 4, 'kill': 4, 'scene': 10, 'norris': 4, 'nearest': 5, 'sometimes': 8, 'point': 26, 'bones': 7, 'longer': 17, 'hospital': 14, 'wing': 4, 'lopsided': 3, 'dream': 3, 'team': 6, 'sneered': 5, 'partner': 2, 'finnigan': 4, 'automatically': 2, 'slytherin': 3, 'play': 7, 'exploding': 5, 'snap': 5, 'bothering': 4, 'practice': 6, 'dueling': 1, 'private': 10, 'chosen': 1, 'bill': 84, 'spend': 4, 'duty': 7, 'prefect': 2, 'troubled': 1, 'present': 12, 'sweater': 4, 'cake': 3, 'card': 1, 'fresh': 4, 'since': 23, 'rule': 3, 'breaking': 5, 'planning': 2, 'dreading': 1, 'polyjuice': 2, 'potion': 3, 'forced': 13, 'laugh': 13, 'daily': 29, 'prophet': 32, 'enchanted': 7, 'crashed': 5, 'earlier': 6, 'draw': 7, 'ridiculous': 11, 'immediately': 13, 'clear': 11, 'impatiently': 12, 'azkaban': 22, 'fudge': 63, 'answered': 3, 'turn': 25, 'gasp': 6, 'black': 60, 'satisfied': 9, 'fang': 2, 'loss': 1, 'alarmed': 5, 'suspended': 7, 'appointment': 1, 'matter': 16, 'smoothly': 7, 'stop': 22, 'attacks': 6, 'upper': 3, 'sweating': 3, 'remains': 7, 'shaggy': 1, 'temper': 6, 'lead': 13, 'guards': 6, 'basket': 2, 'borns': 2, 'tone': 10, 'explaining': 2, 'dean': 13, 'self': 1, 'somehow': 11, 'kicked': 2, 'relief': 4, 'clearing': 21, 'empty': 24, 'circle': 4, 'trees': 23, 'roof': 1, 'ready': 13, 'fighting': 6, 'hollow': 4, 'glaring': 5, 'horn': 13, 'spiders': 1, 'aside': 24, 'backs': 4, 'legs': 8, 'waving': 15, 'screeched': 6, 'entire': 3, 'dormitory': 3, 'lasted': 1, 'footsteps': 20, 'peering': 7, 'opening': 5, 'wider': 2, 'quick': 16, 'doorway': 4, 'covered': 9, 'crying': 5, 'closely': 12, 'chest': 16, 'fawkes': 2, 'moon': 6, 'spectacles': 8, 'gently': 5, 'voldemort': 43, 'warm': 6, 'stunned': 11, 'picking': 3, 'riddle': 5, 'clever': 7, 'handsome': 6, 'sobbed': 11, 'b': 3, 'taught': 4, 'trust': 8, 'brain': 4, 'suspicious': 5, 'object': 3, 'juice': 2, 'basilisk': 1, 'victims': 2, 'okay': 13, 'harm': 2, 'deeply': 11, 'shaken': 3, 'thoughtfully': 5, 'bounced': 1, 'fury': 7, 'cowering': 2, 'heavily': 15, 'pleasantly': 6, 'crouching': 4, 'hem': 7, 'terror': 11, 'elf': 97, 'stained': 4, 'attempting': 7, 'finish': 15, 'cleaning': 3, 'malfoys': 10, 'shoes': 9, 'apparently': 25, 'polished': 5, 'usually': 14, 'sleek': 4, 'ignoring': 3, 'bobbing': 3, 'ankles': 2, 'killed': 4, 'job': 16, 'tales': 5, 'threatened': 1, 'curse': 11, 'paler': 3, 'slits': 2, 'person': 16, 'acting': 4, 'somebody': 16, 'hole': 7, 'center': 2, 'hitting': 5, 'fist': 9, 'plan': 7, 'level': 11, 'sharp': 15, 'discovered': 11, 'blame': 8, 'prove': 8, 'acted': 4, 'effect': 3, 'attacking': 3, 'killing': 1, 'memories': 6, 'otherwise': 1, 'speak': 26, 'understood': 9, 'nodded': 29, 'twisting': 3, 'ears': 19, 'punishment': 2, 'pain': 4, 'hurriedly': 3, 'certainly': 14, 'calmly': 6, 'possibly': 8, 'slimy': 6, 'filthy': 8, 'stuffed': 5, 'ripped': 5, 'threw': 21, 'ruined': 4, 'disgusting': 2, 'treasure': 2, 'given': 29, 'spat': 7, 'disbelief': 7, 'lunged': 2, 'servant': 3, 'shall': 25, 'bang': 4, 'livid': 4, 'threatening': 4, 'fiercely': 5, 'swung': 2, 'prize': 2, 'galleon': 5, 'spending': 2, 'holiday': 10, 'wizarding': 5, 'returning': 2, 'photograph': 5, 'spread': 8, 'plump': 9, 'balding': 6, 'flaming': 1, 'tall': 9, 'pet': 1, 'grinning': 12, 'broadly': 3, 'slit': 1, 'page': 7, 'begin': 3, 'quarters': 2, 'enjoy': 1, 'tom': 13, 'wooden': 5, 'staircase': 9, 'comfortable': 3, 'clicked': 1, 'beak': 3, 'fluttered': 3, 'chuckled': 2, 'stroking': 2, 'hedwig': 4, 'rapidly': 3, 'blue': 14, 'malkin': 4, 'explained': 16, 'simply': 6, 'blow': 2, 'serious': 12, 'sleeping': 9, 'scabbers': 4, 'problem': 11, 'poor': 16, 'crookshanks': 6, 'witch': 35, 'ages': 3, 'sarcastically': 2, 'thanks': 25, 'joined': 17, 'familiar': 9, 'sirius': 75, 'grave': 3, 'regular': 3, 'luck': 8, 'reward': 4, 'strained': 6, 'mark': 52, 'delicious': 1, 'dug': 2, 'chocolate': 5, 'curiously': 6, 'seriously': 13, 'snorted': 4, 'anymore': 11, 'favor': 8, 'casual': 3, 'pressure': 4, 'downstairs': 4, 'halfway': 7, 'passage': 5, 'voices': 7, 'recognized': 22, 'hesitated': 9, 'wanting': 13, 'arguing': 5, 'makes': 12, 'shrilly': 1, 'heaven': 2, 'sake': 2, 'knowing': 16, 'miserable': 3, 'guard': 4, 'wandering': 2, 'ended': 4, 'knight': 2, 'wood': 23, 'banged': 2, 'press': 4, 'escaped': 6, 'comes': 10, 'dealing': 4, 'join': 5, 'avoid': 7, 'save': 3, 'wearily': 4, 'climbing': 4, 'bottle': 15, 'lying': 14, 'headed': 9, 'shadows': 6, 'heaving': 1, 'laughter': 11, 'listened': 3, 'train': 24, 'listening': 9, 'muffled': 6, 'scared': 12, 'murdered': 2, 'panic': 6, 'stricken': 2, 'earth': 9, 'wherever': 1, 'girlfriend': 1, 'frame': 1, 'brow': 3, 'spitting': 1, 'lump': 3, 'indicated': 6, 'stuck': 5, 'marched': 12, 'short': 23, 'stretch': 3, 'pavement': 4, 'fashioned': 2, 'suit': 6, 'velvet': 2, 'glancing': 17, 'disgust': 1, 'journey': 1, 'compared': 2, 'twenty': 13, 'hats': 2, 'managing': 2, 'pairs': 2, 'strolled': 4, 'pushing': 7, 'trolley': 3, 'leaned': 12, 'hide': 4, 'curly': 1, 'shiny': 5, 'badge': 2, 'blocked': 12, 'talk': 20, 'speed': 2, 'looks': 27, 'anyway': 24, 'warning': 10, 'lowered': 6, 'throat': 5, 'continued': 24, 'aware': 12, 'dementors': 18, 'paused': 2, 'remembered': 13, 'guarding': 3, 'plain': 6, 'lupin': 50, 'brooms': 5, 'constant': 1, 'war': 2, 'attention': 10, 'painting': 4, 'professors': 1, 'hurrying': 10, 'fat': 7, 'lady': 6, 'lucky': 10, 'cackling': 3, 'poltergeist': 2, 'refused': 6, 'password': 2, 'attacked': 30, 'searched': 4, 'aback': 4, 'pause': 6, 'pass': 10, 'memory': 22, 'hogsmeade': 6, 'steal': 1, 'attack': 18, 'tunnel': 2, 'trip': 1, 'pounding': 3, 'conversation': 9, 'cornelius': 9, 'mentioned': 4, 'betrayed': 4, 'daring': 1, 'overheard': 4, 'official': 7, 'sobs': 5, 'shoved': 1, 'hippogriff': 5, 'responsibility': 2, 'clapping': 4, 'sob': 4, 'gigantic': 6, 'register': 5, 'concern': 5, 'creatures': 10, 'hearing': 9, 'meantime': 3, 'heaved': 8, 'boggart': 5, 'lurking': 2, 'real': 27, 'dementor': 3, 'sees': 2, 'store': 2, 'fright': 1, 'flint': 1, 'captain': 2, 'remove': 7, 'glinting': 2, 'firelight': 5, 'adding': 4, 'atmosphere': 6, 'remained': 12, 'shack': 2, 'alone': 18, 'mud': 2, 'mildly': 4, 'surprised': 19, 'extraordinary': 4, 'apparition': 6, 'midair': 1, 'piece': 15, 'throw': 3, 'quivering': 3, 'gift': 3, 'instructions': 10, 'gleamed': 2, 'presents': 7, 'froze': 5, 'message': 6, 'appearing': 4, 'beneath': 14, 'git': 6, 'situation': 8, 'astonishment': 5, 'idiot': 6, 'became': 12, 'horror': 3, 'wormtail': 4, 'wash': 3, 'fall': 4, 'jaw': 2, 'rigid': 3, 'directly': 7, 'men': 13, 'severus': 3, 'zonko': 2, 'speaking': 15, 'amazed': 2, 'possession': 6, 'particularly': 6, 'ear': 5, 'peter': 2, 'pettigrew': 3, 'ability': 1, 'deliver': 1, 'destroy': 2, 'mouthful': 2, 'difficulty': 2, 'tale': 4, 'form': 6, 'patronus': 4, 'charged': 2, 'ravenclaw': 4, 'confused': 3, 'thoughts': 8, 'clutched': 6, 'distance': 7, 'eyeing': 1, 'suspiciously': 5, 'world': 31, 'cup': 38, 'ice': 2, 'curiosity': 1, 'ill': 10, 'wasted': 1, 'sad': 3, 'riddles': 1, 'grown': 8, 'worse': 15, 'cared': 1, 'murderer': 3, 'drop': 8, 'natural': 3, 'village': 11, 'expression': 18, 'hurt': 5, 'dunno': 7, 'scars': 1, 'fully': 13, 'particular': 4, 'curses': 2, 'confusion': 1, 'increased': 2, 'sent': 29, 'glared': 4, 'final': 5, 'monday': 2, 'properly': 12, 'snarled': 3, 'wear': 1, 'slight': 4, 'rarely': 2, 'wore': 8, 'bothered': 1, 'anxious': 3, 'wild': 1, 'borrowed': 2, 'judge': 12, 'doubted': 3, 'spent': 5, 'curtains': 4, 'desire': 3, 'fireplace': 21, 'hang': 10, 'approached': 9, 'hammering': 4, 'shh': 4, 'damn': 5, 'block': 4, 'ouch': 2, 'others': 18, 'yeah': 53, 'squashed': 1, 'retreated': 7, 'sofa': 5, 'bellowed': 7, 'boarded': 5, 'cloud': 4, 'loose': 2, 'coffee': 3, 'gaped': 4, 'bright': 7, 'including': 11, 'brushing': 1, 'dust': 4, 'straightening': 5, 'settled': 8, 'aged': 7, 'thirty': 6, 'lowering': 4, 'blasted': 5, 'connected': 5, 'network': 5, 'repair': 4, 'disapparate': 6, 'bet': 10, 'gaping': 3, 'staggered': 8, 'upright': 2, 'hid': 2, 'hello': 12, 'winking': 2, 'glimpse': 4, 'swinging': 1, 'erm': 1, 'brick': 1, 'chewing': 1, 'tongue': 8, 'actually': 22, 'loved': 1, 'television': 2, 'collect': 3, 'collection': 3, 'reappeared': 3, 'clunk': 2, 'sounds': 7, 'edged': 1, 'gazing': 8, 'terrified': 14, 'attempted': 8, 'unfortunately': 4, 'nowhere': 3, 'cousin': 3, 'brave': 2, 'stab': 1, 'yep': 2, 'exchanged': 6, 'concerned': 8, 'kindly': 10, 'massive': 4, 'entered': 23, 'cracked': 1, 'evil': 4, 'sleeves': 8, 'flames': 9, 'crackling': 2, 'sweets': 1, 'spilled': 3, 'contents': 5, 'rolling': 17, 'colored': 3, 'shuddering': 1, 'helped': 9, 'grinned': 3, 'amazement': 4, 'honestly': 5, 'care': 15, 'till': 5, 'indignation': 3, 'causing': 5, 'suffering': 1, 'darted': 3, 'putting': 3, 'swollen': 2, 'fight': 8, 'advancing': 3, 'outstretched': 7, 'desperately': 5, 'simple': 9, 'practical': 3, 'correct': 13, 'sobbing': 4, 'rip': 7, 'completely': 15, 'figure': 9, 'angrily': 26, 'fun': 11, 'narrowly': 2, 'fleeting': 3, 'boots': 1, 'leather': 4, 'faint': 3, 'popping': 4, 'purpose': 2, 'earnestly': 3, 'narrowed': 4, 'suspicion': 2, 'husband': 9, 'intended': 2, 'eyed': 4, 'girls': 8, 'bushy': 2, 'teeth': 5, 'scarlet': 8, 'repeated': 13, 'shouts': 2, 'echoed': 5, 'slept': 1, 'posters': 5, 'favorite': 2, 'beds': 3, 'zooming': 2, 'enjoying': 3, 'obsessed': 5, 'according': 6, 'crouch': 398, 'opinion': 6, 'cakes': 2, 'increasingly': 1, 'talked': 2, 'pie': 1, 'sooner': 1, 'grateful': 3, 'games': 7, 'ludo': 55, 'bagman': 147, 'tickets': 12, 'member': 11, 'bertha': 13, 'jorkins': 7, 'missing': 8, 'frowning': 5, 'gotten': 2, 'plenty': 7, 'personal': 7, 'interest': 7, 'impressive': 2, 'sigh': 7, 'swig': 1, 'wine': 4, 'racing': 3, 'firebolt': 3, 'naturally': 6, 'position': 12, 'seeker': 2, 'conjured': 18, 'candles': 1, 'fluttering': 6, 'grass': 6, 'fed': 2, 'sleepy': 4, 'yawning': 5, 'stretching': 2, 'stirring': 1, 'pot': 7, 'checking': 11, 'test': 5, 'bustled': 6, 'apparate': 4, 'jeans': 5, 'winced': 3, 'treacle': 1, 'squad': 4, 'fair': 6, 'body': 13, 'vision': 6, 'abandoned': 1, 'startled': 4, 'mess': 5, 'prefer': 3, 'passageway': 1, 'rubbing': 7, 'miles': 3, 'difficult': 4, 'occasion': 2, 'months': 9, 'l': 3, 'friendly': 2, 'departure': 1, 'glowering': 1, 'kissed': 1, 'hoisted': 2, 'lovely': 6, 'chilly': 1, 'greenish': 2, 'drawing': 4, 'thousands': 6, 'speeding': 2, 'thousand': 4, 'places': 7, 'penetrate': 1, 'pack': 6, 'groups': 2, 'placed': 10, 'hill': 9, 'mass': 4, 'beyond': 12, 'st': 16, 'lane': 3, 'blackness': 1, 'deepest': 1, 'freezing': 1, 'climb': 1, 'occasionally': 2, 'holes': 9, 'slipping': 3, 'starting': 15, 'seize': 1, 'wiping': 4, 'portkey': 10, 'squinting': 4, 'searching': 8, 'figures': 5, 'starry': 2, 'amos': 51, 'ruddy': 3, 'faced': 11, 'beard': 19, 'boot': 9, 'diggory': 161, 'cedric': 30, 'seventeen': 5, 'hufflepuff': 2, 'beating': 2, 'live': 4, 'glad': 16, 'complaining': 1, 'widening': 8, 'broom': 6, 'area': 4, 'occurred': 6, 'color': 5, 'length': 1, 'newspaper': 8, 'drinks': 2, 'fifteen': 4, 'campsite': 26, 'roberts': 84, 'deserted': 9, 'mist': 3, 'cottage': 14, 'gate': 10, 'swam': 1, 'tents': 18, 'glance': 6, 'space': 17, 'corrected': 4, 'undertone': 5, 'uncomfortably': 4, 'foreign': 11, 'puzzled': 5, 'coins': 9, 'rummaged': 4, 'change': 15, 'hundreds': 7, 'loads': 8, 'bloke': 6, 'anxiously': 11, 'slid': 12, 'focus': 6, 'accompanied': 7, 'exhausted': 6, 'chin': 8, 'earshot': 6, 'needs': 6, 'bludgers': 7, 'anti': 6, 'security': 15, 'blimey': 7, 'disapparated': 12, 'gates': 11, 'wish': 5, 'ordinary': 6, 'possible': 17, 'weather': 4, 'tent': 33, 'silk': 2, 'farther': 3, 'floors': 3, 'attached': 1, 'fountain': 8, 'resist': 3, 'allowed': 7, 'land': 3, 'thoroughly': 6, 'shabby': 6, 'belonged': 2, 'flat': 4, 'oddly': 2, 'covers': 2, 'strong': 9, 'smell': 5, 'mopping': 2, 'handkerchief': 7, 'bunk': 3, 'fellow': 3, 'inner': 1, 'water': 5, 'shining': 2, 'smaller': 6, 'met': 13, 'success': 4, 'lack': 2, 'littered': 3, 'pitched': 8, 'alongside': 3, 'members': 8, 'mainly': 2, 'greatly': 4, 'cooking': 1, 'eggs': 2, 'sausages': 2, 'woods': 13, 'lunch': 5, 'plates': 4, 'striding': 6, 'prevent': 2, 'impression': 13, 'performed': 8, 'flick': 1, 'upward': 4, 'beamed': 3, 'fancy': 2, 'score': 3, 'considering': 1, 'ireland': 9, 'win': 4, 'disappointed': 7, 'sickles': 2, 'viktor': 13, 'krum': 56, 'gets': 9, 'snitch': 6, 'fake': 3, 'shone': 1, 'attitude': 3, 'boomed': 1, 'rattling': 4, 'cheers': 5, 'slip': 7, 'cheerfully': 3, 'barty': 25, 'bulgarian': 7, 'opposite': 4, 'stiff': 2, 'positively': 3, 'writhing': 1, 'troll': 4, 'vigorously': 2, 'october': 3, 'tentatively': 2, 'narrow': 3, 'highly': 15, 'rules': 2, 'dressing': 5, 'bite': 2, 'seats': 16, 'borrow': 3, 'breathlessly': 14, 'sunk': 4, 'choked': 3, 'cups': 3, 'falling': 5, 'wants': 23, 'listen': 10, 'desperate': 4, 'grandfather': 3, 'banned': 2, 'fairly': 5, 'eyebrows': 8, 'details': 2, 'kids': 4, 'cutting': 4, 'rise': 3, 'struggled': 2, 'curtly': 10, 'release': 2, 'oooh': 1, 'bags': 2, 'irish': 6, 'booming': 2, 'path': 6, 'excited': 6, 'lantern': 5, 'singing': 4, 'stadium': 10, 'immense': 2, 'surrounding': 6, 'task': 13, 'working': 12, 'inch': 4, 'anywhere': 9, 'doors': 35, 'stands': 4, 'highest': 3, 'golden': 20, 'goal': 2, 'posts': 1, 'female': 9, 'spun': 5, 'squeaked': 11, 'meanwhile': 6, 'filled': 10, 'minister': 27, 'edging': 2, 'row': 9, 'narcissa': 3, 'bowing': 3, 'allow': 9, 'tense': 6, 'mungo': 15, 'injuries': 4, 'considered': 5, 'gaze': 11, 'solid': 1, 'approval': 1, 'leaning': 4, 'veela': 12, 'gliding': 1, 'yells': 1, 'filling': 4, 'tugged': 1, 'lined': 9, 'bouncing': 2, 'bearded': 6, 'lamp': 3, 'applause': 17, 'rummaging': 5, 'stuffing': 1, 'chasers': 1, 'keeper': 4, 'dance': 5, 'screwed': 1, 'quaffle': 1, 'dive': 2, 'lynch': 2, 'throughout': 4, 'groan': 2, 'moaned': 3, 'trained': 2, 'omnioculars': 1, 'beautiful': 3, 'cruel': 1, 'wings': 3, 'bursting': 1, 'flooding': 2, 'separate': 1, 'battle': 2, 'owe': 2, 'scrambled': 2, 'gleefully': 2, 'plans': 4, 'decide': 4, 'reflection': 1, 'drawn': 4, 'insisted': 8, 'pajamas': 3, 'echoing': 2, 'canvas': 3, 'glow': 1, 'dreams': 1, 'urgent': 7, 'dimly': 2, 'noises': 4, 'screams': 2, 'heels': 4, 'blast': 3, 'grew': 2, 'illuminated': 2, 'upside': 2, 'reveal': 2, 'drawers': 3, 'cover': 7, 'begun': 3, 'sick': 3, 'rolled': 10, 'fetch': 5, 'sorted': 4, 'tore': 2, 'dashing': 1, 'source': 2, 'mon': 1, 'elves': 7, 'raw': 1, 'swore': 2, 'pop': 9, 'dry': 4, 'league': 1, 'blowing': 2, 'closing': 6, 'rage': 5, 'darting': 3, 'gesturing': 3, 'skull': 29, 'lie': 5, 'crime': 5, 'gown': 4, 'shakily': 4, 'incantation': 4, 'etched': 4, 'informed': 6, 'darkness': 13, 'vanish': 4, 'unconscious': 6, 'sounding': 12, 'snapping': 4, 'twigs': 4, 'rustling': 9, 'leaves': 14, 'limp': 6, 'winky': 124, 'transfixed': 5, 'blazing': 4, 'cannot': 11, 'prepared': 9, 'bushes': 4, 'non': 9, 'human': 8, 'goggling': 5, 'ghostly': 2, 'twitching': 3, 'saving': 4, 'stirred': 4, 'feebly': 3, 'wildly': 2, 'sternly': 1, 'moments': 13, 'explanation': 4, 'hey': 6, 'mine': 10, 'excuse': 8, 'incredulously': 6, 'carried': 5, 'jerking': 5, 'squealed': 5, 'streaming': 5, 'definitely': 4, 'growled': 5, 'spell': 13, 'trembled': 5, 'frantically': 7, 'flapping': 4, 'tip': 10, 'horrified': 6, 'serpent': 6, 'mere': 7, 'shadow': 5, 'smoke': 9, 'ghost': 4, 'triumph': 3, 'guilty': 9, 'precious': 3, 'teach': 5, 'unpleasant': 5, 'career': 3, 'arts': 5, 'finding': 4, 'whoever': 3, 'giant': 6, 'flickered': 5, 'seeing': 17, 'refuse': 5, 'assured': 5, 'punished': 5, 'p': 6, 'pity': 2, 'remain': 4, 'proper': 3, 'frightened': 21, 'surveying': 5, 'due': 3, 'urgently': 3, 'calling': 9, 'sack': 8, 'feelings': 3, 'discuss': 4, 'progress': 5, 'witches': 20, 'smoking': 4, 'poking': 2, 'bending': 8, 'entering': 2, 'bleeding': 6, 'shirt': 4, 'swelled': 3, 'rid': 5, 'afford': 1, 'symbol': 5, 'panicked': 1, 'shape': 2, 'followers': 1, 'whenever': 2, 'hovering': 3, 'sheet': 1, 'check': 6, 'death': 39, 'eaters': 11, 'supporters': 8, 'ones': 6, 'hopelessly': 1, 'avoided': 1, 'reminding': 3, 'eater': 17, 'reply': 3, 'ease': 1, 'dazed': 3, 'merry': 4, 'forget': 4, 'gathered': 2, 'discussion': 3, 'queue': 2, 'risen': 3, 'damp': 2, 'distractedly': 4, 'tight': 9, 'hug': 7, 'ow': 1, 'crammed': 6, 'pouring': 3, 'scanned': 4, 'rita': 15, 'skeeter': 13, 'wasting': 2, 'stamping': 1, 'humans': 2, 'article': 5, 'spluttered': 3, 'known': 10, 'sadly': 9, 'appearance': 4, 'bodies': 4, 'removed': 5, 'neither': 9, 'sunday': 3, 'prison': 1, 'mortal': 5, 'laughed': 9, 'shuddered': 2, 'tray': 10, 'weeks': 15, 'swiftly': 3, 'irritably': 5, 'hotly': 4, 'rising': 4, 'flattened': 4, 'clattering': 5, 'hurtled': 4, 'stroke': 2, 'preparing': 6, 'creeping': 6, 'scribbling': 5, 'hell': 5, 'groaned': 3, 'shell': 5, 'potato': 3, 'record': 1, 'charge': 9, 'caution': 2, 'reach': 7, 'stack': 4, 'dragging': 6, 'needed': 2, 'howling': 2, 'wind': 2, 'anybody': 13, 'corners': 2, 'twitched': 1, 'joking': 2, 'moody': 48, 'arrival': 8, 'aid': 3, 'ex': 4, 'auror': 10, 'difference': 7, 'murder': 5, 'false': 6, 'alarm': 9, 'escape': 8, 'staff': 4, 'remaining': 5, 'karkaroff': 33, 'madame': 21, 'maxime': 14, 'triwizard': 13, 'tournament': 20, 'shrugged': 8, 'polite': 2, 'severe': 2, 'joining': 3, 'champions': 22, 'efforts': 6, 'smiled': 8, 'murmur': 1, 'dennis': 1, 'tasks': 5, 'examined': 5, 'carefully': 8, 'surveyed': 1, 'various': 3, 'bored': 4, 'goblet': 8, 'decision': 5, 'stage': 1, 'group': 7, 'buzzing': 2, 'believes': 4, 'persuade': 5, 'judges': 11, 'eerie': 1, 'armed': 1, 'nature': 2, 'eager': 2, 'ensure': 2, 'condition': 5, 'hooked': 4, 'jolt': 3, 'delacour': 17, 'fleur': 47, 'hmm': 7, 'chose': 4, 'ze': 2, 'mental': 1, 'bunch': 3, 'flowers': 6, 'glided': 5, 'enthusiasm': 4, 'containing': 1, 'marks': 6, 'clean': 2, 'pronounced': 4, 'duck': 3, 'scowling': 3, 'gregorovitch': 4, 'mistaken': 4, 'lifted': 2, 'watery': 3, 'sunlight': 8, 'gleaming': 7, 'contained': 3, 'shared': 2, 'badges': 2, 'crouched': 1, 'visible': 3, 'distant': 5, 'horntail': 3, 'fangs': 7, 'enclosure': 2, 'whistle': 6, 'shown': 8, 'jet': 1, 'released': 5, 'swerved': 1, 'bludger': 1, 'soared': 2, 'revolving': 1, 'push': 1, 'breathing': 6, 'yelling': 1, 'youngest': 3, 'champion': 1, 'egg': 4, 'rushing': 2, 'raise': 6, 'twisted': 1, 'thumping': 2, 'cheering': 1, 'bare': 4, 'orange': 1, 'furious': 6, 'horrible': 7, 'bound': 4, 'masters': 3, 'defiantly': 2, 'grandmother': 2, 'shame': 5, 'firmly': 8, 'raising': 10, 'liking': 1, 'yellow': 4, 'enthusiastically': 5, 'lavender': 2, 'politely': 2, 'brand': 3, 'suffered': 4, 'afterward': 1, 'definite': 1, 'earned': 2, 'uncertainly': 1, 'public': 4, 'unfortunate': 2, 'willing': 1, 'sorts': 3, 'absence': 1, 'advice': 1, 'worrying': 1, 'dot': 4, 'ball': 3, 'sneaking': 7, 'tapestry': 1, 'proceeded': 2, 'concentrating': 2, 'harrys': 5, 'sank': 6, 'bath': 2, 'admitted': 2, 'surface': 2, 'glare': 4, 'landed': 2, 'neatly': 1, 'survive': 1, 'determination': 1, 'safety': 2, 'merely': 3, 'exasperated': 2, 'shows': 4, 'forty': 1, 'tying': 1, 'sacked': 1, 'launched': 2, 'pacing': 1, 'cave': 1, 'rats': 1, 'owlery': 4, 'focused': 1, 'swayed': 2, 'hic': 8, 'severely': 1, 'swaying': 4, 'butterbeer': 5, 'secret': 9, 'hastily': 10, 'irritated': 2, 'sending': 6, 'trusted': 1, 'maze': 1, 'enter': 2, 'durmstrang': 5, 'ship': 1, 'movement': 3, 'reaching': 4, 'recognize': 5, 'scratched': 3, 'neat': 7, 'treated': 3, 'nearby': 9, 'cautiously': 3, 'bringing': 5, 'sideways': 4, 'breathed': 3, 'utterly': 4, 'sliding': 4, 'effort': 6, 'arriving': 3, 'unaware': 7, 'notice': 2, 'recently': 2, 'gained': 1, 'stronger': 2, 'apprehensive': 6, 'sprinted': 3, 'curling': 1, 'gargoyle': 1, 'ugly': 2, 'beauxbatons': 3, 'carriage': 3, 'sprawled': 1, 'eyelids': 1, 'glittered': 1, 'wandlight': 1, 'theory': 3, 'dormitories': 2, 'puffy': 2, 'bat': 2, 'marauder': 1, 'classroom': 4, 'limped': 2, 'flask': 1, 'lime': 1, 'bowler': 2, 'lied': 1, 'pointless': 3, 'pretend': 8, 'chains': 3, 'glowed': 2, 'binding': 1, 'alert': 1, 'evidence': 8, 'filth': 2, 'greatest': 1, 'secrecy': 2, 'preferred': 2, 'regret': 2, 'fellows': 1, 'wise': 3, 'remorse': 2, 'dolohov': 2, 'torture': 2, 'murmured': 2, 'spy': 2, 'useful': 4, 'rookwood': 7, 'mysteries': 8, 'travers': 1, 'skin': 2, 'dungeon': 20, 'fading': 2, 'swirling': 3, 'relaxed': 2, 'cheerful': 4, 'younger': 3, 'tired': 5, 'awkwardly': 3, 'share': 1, 'dislike': 4, 'dim': 1, 'benches': 3, 'fists': 4, 'saturday': 3, 'ringing': 3, 'dissolved': 3, 'total': 2, 'frail': 4, 'trembling': 6, 'temple': 1, 'chained': 2, 'nervous': 6, 'cruciatus': 2, 'believing': 4, 'knowledge': 3, 'whereabouts': 4, 'swear': 2, 'frank': 2, 'deserve': 1, 'jeering': 1, 'struggle': 5, 'continuing': 1, 'pensieve': 5, 'undoubtedly': 1, 'marked': 4, 'trace': 4, 'consider': 3, 'importance': 1, 'caused': 3, 'reckons': 1, 'rush': 2, 'hate': 1, 'tortured': 3, 'dragged': 5, 'court': 5, 'milk': 2, 'beaten': 1, 'goes': 3, 'cause': 2, 'laid': 3, 'greenhouses': 1, 'letting': 4, 'fill': 4, 'ladies': 3, 'tied': 3, 'faithful': 3, 'abruptly': 2, 'future': 1, 'stooped': 3, 'largest': 1, 'gap': 1, 'blank': 3, 'convince': 2, 'innocent': 6, 'sprout': 1, 'calm': 6, 'cheeks': 4, 'summoning': 1, 'taller': 1, 'snakes': 2, 'deaths': 2, 'random': 1, 'painful': 2, 'interview': 3, 'grief': 1, 'cauldrons': 1, 'warned': 7, 'reasonable': 2, 'steady': 4, 'ripping': 1, 'presence': 6, 'decree': 1, 'duel': 1, 'risk': 5, 'slamming': 2, 'august': 3, 'history': 6, 'loony': 1, 'useless': 2, 'forwards': 4, 'controlled': 1, 'load': 4, 'realised': 3, 'imagined': 1, 'rolls': 1, 'goblets': 2, 'bottles': 2, 'haired': 4, 'tonks': 36, 'towards': 21, 'series': 1, 'knives': 2, 'dangling': 1, 'blinking': 3, 'toppled': 1, 'backwards': 1, 'hiss': 1, 'f': 1, 'favourite': 2, 'noses': 2, 'pig': 1, 'snout': 1, 'sides': 2, 'general': 2, 'widely': 4, 'legged': 2, 'replaced': 6, 'absolutely': 7, 'shifted': 3, 'refusing': 2, 'millicent': 1, 'community': 1, 'imperius': 4, 'mouths': 1, 'aurors': 3, 'advantage': 1, 'kingsley': 26, 'shacklebolt': 5, 'hunt': 1, 'frog': 2, 'cards': 3, 'locked': 2, 'decent': 1, 'bitterly': 1, 'eating': 2, 'clenched': 4, 'fork': 1, 'plate': 1, 'kreacher': 2, 'ok': 6, 'enforcement': 3, 'pressed': 11, 'checked': 6, 'dropping': 5, 'weakly': 3, 'grey': 3, 'dawn': 4, 'square': 4, 'arrive': 4, 'indicating': 7, 'windows': 7, 'women': 2, 'stopping': 5, 'despite': 2, 'folded': 3, 'cool': 8, 'wishes': 5, 'pleasant': 2, 'sprang': 1, 'fallen': 1, 'piles': 5, 'heading': 3, 'seated': 2, 'badly': 6, 'lift': 44, 'descended': 3, 'catching': 1, 'flapped': 4, 'colour': 1, 'inter': 1, 'desks': 3, 'upwards': 2, 'accidents': 2, 'headquarters': 5, 'worthy': 3, 'trailing': 1, 'wizengamot': 5, 'wedding': 6, 'magazine': 6, 'interesting': 1, 'tones': 1, 'coolly': 1, 'distinctly': 2, 'ajar': 1, 'revealing': 1, 'bore': 6, 'witness': 2, 'gloves': 2, 'placing': 2, 'squeezed': 2, 'quibbler': 8, 'midst': 3, 'flicked': 3, 'amusing': 3, 'zoomed': 1, 'unfolded': 2, 'investigate': 2, 'disappearing': 1, 'poked': 5, 'streaked': 3, 'skidded': 2, 'atrium': 7, 'statues': 1, 'sallow': 2, 'bode': 27, 'emotion': 2, 'flight': 4, 'rough': 1, 'torches': 1, 'iron': 3, 'lock': 1, 'wrenched': 2, 'collided': 2, 'lines': 2, 'jinx': 2, 'mounted': 3, 'strike': 2, 'deeper': 4, 'mid': 3, 'blond': 1, 'continue': 4, 'snakelike': 3, 'matters': 4, 'sneak': 5, 'comfort': 6, 'weak': 1, 'settle': 2, 'covering': 2, 'unlikely': 1, 'offer': 5, 'prefects': 3, 'drank': 2, 'emptied': 1, 'r': 2, 'riddikulus': 3, 'limping': 2, 'archway': 1, 'blurred': 1, 'chasing': 1, 'bend': 1, 'luna': 26, 'north': 1, 'grubbly': 1, 'plank': 1, 'lessons': 1, 'defensive': 2, 'expecting': 1, 'umbridge': 54, 'study': 2, 'learning': 1, 'secure': 1, 'thomas': 4, 'repeat': 7, 'complex': 2, 'understanding': 1, 'illegal': 1, 'examination': 1, 'parvati': 2, 'boiling': 1, 'stool': 1, 'stubby': 3, 'fingered': 1, 'danger': 4, 'sweetly': 5, 'decorated': 2, 'spreading': 1, 'seeking': 1, 'friday': 1, 'schoolbag': 2, 'unusually': 6, 'lace': 1, 'shifting': 2, 'teaching': 1, 'easier': 2, 'jinxes': 3, 'forgetting': 4, 'beginning': 3, 'lesson': 3, 'slightest': 3, 'homework': 2, 'flitwick': 1, 'wha': 1, 'requirement': 1, 'antidotes': 2, 'sized': 1, 'extra': 2, 'remembering': 3, 'madly': 1, 'twin': 4, 'broomsticks': 3, 'dreamed': 2, 'collapsed': 1, 'poisonous': 1, 'faintly': 1, 'approach': 4, 'magnificent': 1, 'perch': 1, 'portraits': 2, 'conditions': 1, 'blackened': 2, 'drinking': 1, 'exceptionally': 3, 'obvious': 1, 'godfather': 4, 'detail': 2, 'angle': 3, 'discussing': 2, 'trelawney': 1, 'crystal': 1, 'bubbles': 1, 'vicious': 1, 'oi': 1, 'ward': 13, 'propped': 5, 'pillows': 2, 'bedside': 6, 'poison': 3, 'werewolf': 5, 'personally': 1, 'finds': 2, 'cast': 5, 'bitter': 3, 'dirty': 4, 'weapon': 2, 'bone': 1, 'permission': 1, 'model': 1, 'wishing': 2, 'version': 1, 'beans': 1, 'truly': 3, 'dreadful': 1, 'crawled': 1, 'eaten': 1, 'id': 1, 'smirked': 1, 'lap': 5, 'greeted': 5, 'heartily': 3, 'healer': 16, 'entirely': 3, 'wounds': 3, 'ominous': 3, 'shriek': 1, 'visitors': 2, 'growing': 2, 'messing': 2, 'meaning': 1, 'produce': 2, 'speech': 6, 'language': 1, 'chat': 5, 'proudly': 1, 'announced': 1, 'threshold': 1, 'action': 1, 'unexpected': 2, 'antidote': 2, 'amongst': 2, 'forcing': 3, 'offering': 2, 'deliberately': 3, 'grimmauld': 5, 'opportunity': 1, 'surrounded': 3, 'hugging': 2, 'connection': 3, 'sharing': 2, 'lake': 2, 'prickling': 2, 'unpleasantly': 1, 'issued': 2, 'blinding': 1, 'rubbed': 1, 'dreaming': 3, 'plant': 12, 'injured': 4, 'accident': 7, 'health': 4, 'steadily': 5, 'devil': 3, 'toad': 2, 'scanning': 4, 'mail': 3, 'weekend': 1, 'lies': 3, 'pumpkin': 1, 'shrugging': 1, 'sweet': 2, 'widened': 1, 'teacup': 2, 'liquid': 1, 'proof': 4, 'clue': 1, 'gritted': 2, 'ambition': 3, 'cough': 1, 'achieved': 1, 'defence': 1, 'pressing': 1, 'montague': 1, 'marching': 1, 'tapped': 1, 'hatred': 1, 'slowed': 3, 'shade': 3, 'painfully': 3, 'gathering': 2, 'numb': 1, 'gripping': 1, 'thestral': 1, 'noisy': 1, 'bellatrix': 5, 'trapped': 1, 'realise': 1, 'sensed': 1, 'witnessed': 1, 'occlumency': 1, 'shower': 1, 'lovegood': 22, 'nevertheless': 5, 'bearing': 1, 'weird': 2, 'sisters': 1, 'appalled': 1, 'turns': 3, 'previously': 3, 'embarrassed': 1, 'hint': 1, 'respond': 3, 'prime': 1, 'resumed': 1, 'arranged': 2, 'experience': 1, 'prophecy': 1, '—': 59, 'midnight': 2, 'perched': 1, 'knock': 2, 'doorknob': 3, 'soup': 5, 'hopefully': 2, 'tough': 2, 'lightly': 2, 'g': 2, 'stones': 1, 'remus': 5, 'gaunt': 27, 'wandmaker': 6, 'gamekeeper': 1, 'coat': 3, 'protect': 1, 'torn': 1, 'bu': 1, 'curtain': 2, 'judging': 1, 'movements': 2, 'mingled': 3, 'necklace': 3, 'pausing': 1, 'squinted': 1, 'casting': 2, 'discover': 1, 'resigned': 3, 'fix': 1, 'quot': 4, 'honest': 2, 'arrested': 3, 'stubbornly': 3, 'compartment': 2, 'gesture': 2, 'slughorn': 4, 'guests': 2, 'knife': 1, 'ogden': 24, 'defend': 3, 'issuing': 1, 'pus': 2, 'morfin': 11, 'argue': 1, 'parseltongue': 2, 'hissing': 1, 'pots': 2, 'merope': 7, 'scum': 1, 'em': 1, 'mudblood': 1, 'wary': 1, 'ring': 2, 'howl': 1, 'locket': 2, 'proved': 2, 'complicated': 1, 'huddled': 1, 'scroll': 1, 'lestrange': 1, 'stan': 4, 'shunpike': 5, 'popular': 1, 'youth': 1, 'mend': 4, 'appreciate': 4, 'measures': 2, 'grow': 1, 'cole': 2, 'dumbledores': 2, 'deny': 1, 'chain': 1, 'stir': 1, 'peeling': 1, 'scrimgeour': 21, 'trusts': 1, 'song': 3, 'leaping': 2, 'james': 2, 'mane': 2, 'snow': 1, 'exchange': 4, 'awkward': 1, 'stormed': 1, 'mead': 3, 'spirit': 1, 'chase': 1, 'attempt': 2, 'hepzibah': 12, 'visiting': 1, 'armor': 1, 'feels': 3, 'ordered': 3, 'hokey': 2, 'seamus': 1, 'rosmerta': 6, 'horcrux': 1, 'knuckles': 1, 'jumping': 1, 'greyback': 4, 'transformed': 1, 'patted': 2, 'gestured': 1, 'avoiding': 1, 'pace': 1, '¨c': 87, 'guessed': 1, 'delight': 2, 'protective': 2, 'replied': 4, 'tricks': 1, 'tha': 1, 'ted': 2, 'hallway': 1, 'jerk': 1, 'spinning': 1, 'uncontrollably': 1, 'hoarsely': 1, 'sweat': 2, 'faintest': 2, 'silently': 1, 'goin': 1, 'bike': 2, 'drifted': 1, 'stolen': 1, 'married': 1, 'scowled': 2, 'sheets': 1, 'gnomes': 2, 'track': 2, 'enchantments': 1, 'laden': 2, 'approaching': 4, 'ave': 1, 'elder': 7, 'built': 1, 'parcel': 1, 'circling': 1, 'race': 1, 'fence': 1, 'bewildered': 3, 'rufus': 1, 'crashing': 1, 'lingered': 1, 'require': 1, 'demanded': 3, 'lamps': 1, 'cozy': 1, 'deluminator': 4, 'pose': 1, 'evidently': 1, 'sorting': 1, 'beedle': 4, 'serve': 1, 'giggled': 1, 'marquee': 1, 'directions': 1, 'repaired': 1, 'daddy': 2, 'gnome': 1, 'seizing': 1, 'talent': 1, 'urge': 3, 'aisle': 1, 'doge': 8, 'wheezy': 1, 'poured': 1, 'count': 2, 'aberforth': 5, 'elphias': 3, 'habit': 1, 'mafalda': 3, 'drawer': 2, 'poster': 1, 'dripping': 3, 'yaxley': 2, 'papers': 3, 'dirk': 6, 'mug': 1, 'cattermole': 2, 'phineas': 3, 'nigellus': 2, 'attempts': 1, 'painted': 1, 'headstone': 1, 'grindelwald': 4, 'godric': 1, 'beaded': 2, 'shaped': 1, 'eagle': 1, 'xenophilius': 24, 'somewhat': 1, 'bangs': 1, 'spiral': 1, 'protruding': 1, 'horned': 4, 'sugar': 1, 'deathly': 4, 'hallows': 5, 'assume': 1, 'original': 1, 'exist': 3, 'gather': 2, 'rare': 1, 'defeated': 3, 'outraged': 1, 'kid': 1, 'bridge': 1, 'underneath': 1, 'authority': 3, 'grasp': 1, 'capture': 1, 'jug': 2, 'rope': 1, 'cellar': 2, 'conscious': 2, 'fierce': 1, 'cliff': 1, 'freshly': 1, 'feeble': 1, 'griphook': 2, 'groped': 1, 'pouch': 1, 'palm': 1, 'branch': 1, 'drained': 2, 'possess': 2, 'immensely': 1, 'born': 1, 'bubble': 1, 'muriel': 2, 'serenely': 1, 'formed': 1, 'supported': 3, 'kissing': 2, 'package': 1, 'auntie': 1, 'brutal': 1, 'miserably': 2, 'lawn': 2, 'gloomily': 1, 'ariana': 1, 'oliver': 1, 'katie': 1, 'angelina': 1, 'johnson': 1, 'alicia': 1, 'spinnet': 1, 'centaur': 1, 'firenze': 1, 'petrified': 1, 'emerging': 1, 'parkinson': 1, 'ravenclaws': 1, 'tables': 1, 'defense': 1, 'kneeling': 1, 'ghosts': 1, 'height': 1, 'untidy': 1, 'ruffled': 1}), 'mrs': defaultdict(<class 'int'>, {'boy': 33, 'lived': 7, 'mr': 318, 'dursley': 55, 'number': 24, 'four': 19, 'privet': 8, 'drive': 9, 'proud': 3, 'say': 71, 'perfectly': 8, 'normal': 16, 'thank': 28, 'much': 79, 'last': 67, 'people': 51, 'expect': 23, 'involved': 7, 'anything': 52, 'strange': 5, 'mysterious': 7, 'hold': 7, 'nonsense': 4, 'firm': 1, 'called': 46, 'made': 64, 'big': 11, 'man': 27, 'hardly': 10, 'neck': 16, 'although': 4, 'large': 49, 'mustache': 1, 'thin': 11, 'blonde': 5, 'nearly': 19, 'twice': 11, 'usual': 15, 'amount': 3, 'came': 63, 'useful': 1, 'spent': 6, 'time': 119, 'craning': 3, 'garden': 17, 'dursleys': 33, 'small': 30, 'son': 31, 'dudley': 47, 'opinion': 2, 'anywhere': 5, 'everything': 29, 'wanted': 28, 'also': 15, 'secret': 5, 'greatest': 3, 'fear': 6, 'somebody': 6, 'would': 121, 'discover': 4, 'think': 120, 'could': 167, 'bear': 11, 'anyone': 31, 'found': 31, 'potters': 13, 'potter': 28, 'mrs': 448, 'sister': 25, 'met': 12, 'several': 17, 'years': 11, 'fact': 13, 'pretended': 5, 'good': 99, 'nothing': 42, 'husband': 23, 'possible': 8, 'shuddered': 5, 'arrived': 20, 'street': 16, 'knew': 38, 'never': 49, 'even': 52, 'seen': 36, 'another': 36, 'reason': 9, 'keeping': 4, 'away': 70, 'want': 81, 'child': 8, 'like': 171, 'woke': 3, 'dull': 6, 'gray': 8, 'tuesday': 2, 'story': 9, 'sky': 7, 'outside': 25, 'suggest': 2, 'things': 34, 'soon': 20, 'happening': 9, 'country': 7, 'picked': 10, 'boring': 2, 'tie': 1, 'work': 40, 'happily': 5, 'screaming': 9, 'high': 13, 'chair': 38, 'none': 12, 'noticed': 22, 'owl': 19, 'past': 27, 'window': 44, 'half': 24, 'eight': 7, 'cheek': 11, 'tried': 30, 'kiss': 9, 'bye': 11, 'missed': 7, 'throwing': 8, 'walls': 8, 'little': 58, 'left': 71, 'house': 65, 'got': 166, 'car': 15, 'backed': 2, 'lots': 1, 'harry': 1094, 'come': 108, 'sure': 46, 'might': 52, 'point': 15, 'worrying': 3, 'always': 20, 'upset': 7, 'mention': 6, 'blame': 4, 'cloaks': 6, 'lot': 36, 'harder': 12, 'concentrate': 1, 'afternoon': 10, 'building': 6, 'five': 9, 'clock': 25, 'move': 13, 'gave': 51, 'stern': 4, 'look': 118, 'cat': 42, 'behavior': 7, 'wondered': 8, 'trying': 29, 'pull': 6, 'together': 33, 'let': 69, 'still': 103, 'determined': 4, 'wife': 25, 'nice': 13, 'day': 27, 'told': 70, 'dinner': 39, 'next': 36, 'door': 128, 'problems': 2, 'daughter': 14, 'learned': 9, 'new': 57, 'word': 28, 'act': 7, 'normally': 6, 'put': 50, 'bed': 58, 'went': 36, 'living': 16, 'room': 119, 'night': 38, 'tonight': 9, 'sat': 30, 'frozen': 4, 'armchair': 4, 'shooting': 7, 'stars': 7, 'britain': 1, 'owls': 20, 'flying': 11, 'daylight': 1, 'place': 35, 'whisper': 11, 'carrying': 25, 'two': 79, 'cups': 3, 'tea': 17, 'something': 61, 'cleared': 7, 'throat': 10, 'nervously': 12, 'er': 13, 'petunia': 34, 'dear': 82, 'heard': 60, 'lately': 9, 'expected': 12, 'looked': 160, 'shocked': 2, 'angry': 9, 'said': 1104, 'sharply': 24, 'funny': 20, 'stuff': 13, 'news': 12, 'mumbled': 8, 'looking': 144, 'today': 18, 'snapped': 20, 'well': 163, 'thought': 70, 'maybe': 4, 'know': 164, 'crowd': 14, 'lips': 13, 'whether': 23, 'dared': 7, 'tell': 81, 'name': 34, 'decided': 10, 'dare': 9, 'instead': 8, 'casually': 6, 'age': 14, 'suppose': 16, 'stiffly': 8, 'nasty': 14, 'common': 10, 'ask': 34, 'oh': 121, 'yes': 59, 'heart': 16, 'sinking': 5, 'horribly': 6, 'quite': 34, 'agree': 6, 'subject': 8, 'upstairs': 25, 'bathroom': 6, 'crept': 4, 'bedroom': 28, 'peered': 4, 'front': 64, 'staring': 25, 'though': 98, 'waiting': 31, 'imagining': 2, 'related': 4, 'pair': 12, 'fell': 32, 'asleep': 13, 'quickly': 38, 'lay': 12, 'awake': 10, 'turning': 15, 'mind': 28, 'near': 11, 'kind': 16, 'see': 110, 'get': 103, 'mixed': 1, 'going': 92, 'yawned': 4, 'turned': 72, 'wrong': 25, 'darkness': 7, 'twelve': 10, 'times': 11, 'clicked': 1, 'lights': 1, 'whole': 18, 'tiny': 13, 'distance': 4, 'eyes': 118, 'watching': 24, 'eyed': 5, 'able': 19, 'pavement': 3, 'dumbledore': 175, 'slipped': 7, 'back': 222, 'inside': 26, 'cloak': 29, 'set': 47, 'toward': 39, 'wall': 20, 'rolled': 6, 'blankets': 3, 'without': 35, 'one': 130, 'hand': 87, 'closed': 18, 'letter': 16, 'beside': 24, 'slept': 5, 'knowing': 8, 'special': 2, 'famous': 2, 'woken': 1, 'hours': 13, 'scream': 7, 'opened': 38, 'milk': 2, 'bottles': 2, 'spend': 5, 'weeks': 6, 'cousin': 5, 'moment': 79, 'meeting': 15, 'camera': 2, 'control': 4, 'sixteen': 3, 'games': 1, 'ripping': 2, 'paper': 15, 'gold': 22, 'aunt': 26, 'telephone': 3, 'worried': 13, 'bad': 17, 'vernon': 30, 'figg': 96, 'broken': 8, 'leg': 10, 'take': 46, 'jerked': 5, 'head': 74, 'direction': 3, 'mouth': 27, 'open': 48, 'horror': 10, 'leap': 2, 'every': 40, 'year': 29, 'birthday': 14, 'parents': 19, 'took': 55, 'friend': 11, 'adventure': 4, 'behind': 79, 'mad': 34, 'old': 60, 'lady': 9, 'hated': 5, 'smelled': 2, 'photographs': 4, 'cats': 9, 'ever': 52, 'owned': 5, 'furiously': 7, 'planned': 2, 'ought': 9, 'feel': 26, 'sorry': 36, 'easy': 1, 'reminded': 6, 'snowy': 2, 'marge': 1, 'uncle': 31, 'suggested': 4, 'silly': 22, 'supposed': 29, 'wind': 6, 'must': 44, 'caught': 20, 'mid': 1, 'jump': 4, 'go': 119, 'worth': 3, 'piers': 2, 'spending': 1, 'somewhere': 5, 'school': 46, 'cupboard': 7, 'drove': 1, 'liked': 6, 'complain': 2, 'bank': 7, 'favorite': 9, 'subjects': 1, 'morning': 37, 'punishment': 2, 'allowed': 10, 'summer': 13, 'holidays': 8, 'started': 40, 'already': 23, 'crashed': 5, 'first': 47, 'racing': 3, 'bike': 1, 'knocked': 10, 'crossed': 9, 'glad': 8, 'gang': 5, 'visited': 1, 'single': 11, 'dennis': 2, 'stupid': 8, 'biggest': 4, 'horrible': 10, 'sick': 10, 'ran': 17, 'london': 7, 'buy': 10, 'leaving': 10, 'seem': 18, 'fond': 3, 'watch': 26, 'television': 2, 'bit': 48, 'chocolate': 5, 'cake': 12, 'entrance': 4, 'corridor': 21, 'third': 11, 'floor': 37, 'believe': 24, 'lost': 17, 'break': 9, 'purpose': 5, 'threatening': 4, 'lock': 4, 'dungeons': 2, 'professor': 46, 'quirrell': 1, 'passing': 5, 'filch': 60, 'norris': 70, 'dust': 10, 'colored': 8, 'creature': 2, 'bulging': 2, 'lamp': 6, 'corridors': 8, 'alone': 15, 'rule': 4, 'line': 8, 'appear': 4, 'later': 31, 'better': 49, 'except': 16, 'perhaps': 14, 'weasley': 1178, 'twins': 27, 'pop': 5, 'suddenly': 20, 'ghosts': 1, 'students': 11, 'ambition': 4, 'many': 25, 'give': 21, 'kick': 5, 'managed': 8, 'find': 23, 'classes': 1, 'magic': 22, 'waving': 11, 'wand': 85, 'saying': 24, 'words': 23, 'study': 2, 'wednesday': 5, 'hagrid': 50, 'lessons': 3, 'fang': 3, 'rested': 1, 'knee': 1, 'robes': 43, 'ron': 401, 'delighted': 2, 'hear': 22, 'call': 12, 'git': 2, 'fer': 1, 'ter': 2, 'introduce': 3, 'yeh': 2, 'everywhere': 3, 'rid': 9, 'snape': 29, 'lesson': 4, 'neville': 26, 'hospital': 11, 'wing': 7, 'evening': 16, 'giving': 12, 'advice': 1, 'curse': 11, 'remember': 15, 'block': 2, 'chance': 14, 'felt': 45, 'pushing': 10, 'luck': 5, 'breaking': 4, 'malfoys': 1, 'sneering': 1, 'face': 102, 'kept': 17, 'beat': 2, 'malfoy': 24, 'finds': 2, 'three': 41, 'us': 77, 'truth': 9, 'stop': 11, 'nerve': 5, 'loudly': 29, 'shut': 33, 'sort': 21, 'breathed': 2, 'squinting': 3, 'dark': 22, 'curled': 5, 'fast': 11, 'nearer': 6, 'goodness': 11, 'password': 1, 'exactly': 13, 'use': 8, 'hissed': 7, 'quiet': 12, 'beckoned': 4, 'forward': 25, 'along': 46, 'bars': 2, 'moonlight': 2, 'windows': 6, 'turn': 10, 'run': 8, 'lucky': 5, 'sped': 7, 'staircase': 8, 'crabbe': 2, 'yet': 20, 'crystal': 5, 'plates': 10, 'statues': 3, 'winked': 1, 'silver': 24, 'whispered': 53, 'noise': 23, 'raised': 22, 'someone': 20, 'speak': 10, 'around': 138, 'sweet': 15, 'lurking': 1, 'corner': 27, 'speaking': 9, 'struck': 5, 'waved': 16, 'madly': 2, 'follow': 3, 'silently': 4, 'voice': 96, 'barely': 13, 'whipped': 10, 'week': 6, 'making': 18, 'list': 10, 'staying': 10, 'signed': 2, 'probably': 9, 'best': 17, 'christmas': 28, 'brothers': 4, 'visit': 6, 'charlie': 32, 'end': 34, 'potions': 4, 'tree': 3, 'blocking': 2, 'ahead': 3, 'enormous': 8, 'feet': 38, 'sticking': 4, 'bottom': 5, 'loud': 18, 'finally': 20, 'table': 65, 'laden': 6, 'stack': 5, 'including': 7, 'pack': 8, 'grow': 5, 'wizard': 39, 'chess': 5, 'white': 12, 'disappeared': 12, 'feeling': 26, 'weasleys': 41, 'happy': 16, 'furious': 5, 'fight': 11, 'grounds': 3, 'cold': 19, 'wet': 7, 'gasping': 2, 'breath': 13, 'returned': 14, 'fire': 20, 'gryffindor': 11, 'push': 3, 'sudden': 8, 'discussion': 1, 'realized': 12, 'talking': 30, 'quick': 13, 'threw': 19, 'round': 16, 'stood': 43, 'thinking': 13, 'thing': 26, 'seemed': 56, 'safe': 8, 'mirror': 5, 'dunno': 4, 'anyway': 21, 'close': 28, 'wandering': 1, 'walk': 17, 'knock': 3, 'sound': 15, 'hermione': 253, 'serious': 4, 'state': 5, 'statue': 2, 'shadow': 2, 'distant': 5, 'sounded': 18, 'peeves': 18, 'swooping': 1, 'foot': 16, 'stairs': 35, 'spotted': 11, 'top': 27, 'ear': 20, 'shook': 17, 'climbed': 9, 'carefully': 8, 'meet': 12, 'else': 36, 'reached': 26, 'bobbing': 2, 'halfway': 9, 'carpet': 15, 'trip': 2, 'mom': 4, 'ginny': 176, 'younger': 3, 'pointing': 28, 'squealed': 4, 'rude': 5, 'smiled': 22, 'busy': 13, 'thanks': 26, 'fudge': 45, 'sweater': 9, 'ready': 9, 'purple': 16, 'faced': 8, 'cage': 6, 'station': 4, 'full': 41, 'ordinary': 5, 'terrified': 8, 'sight': 32, 'family': 32, 'manner': 2, 'hurry': 14, 'walked': 22, 'hung': 9, 'forgotten': 8, 'irritably': 4, 'effect': 4, 'simple': 5, 'sentence': 5, 'rest': 19, 'incredible': 1, 'gasped': 5, 'crash': 6, 'kitchen': 84, 'clapped': 5, 'hands': 42, 'jumped': 20, 'throbbing': 2, 'meant': 7, 'please': 21, 'mean': 34, 'promptly': 2, 'welcome': 4, 'home': 28, 'foul': 2, 'smile': 16, 'may': 12, 'love': 11, 'cried': 16, 'excellent': 3, 'rounded': 8, 'pretending': 9, 'lead': 5, 'drinks': 1, 'fifteen': 4, 'offering': 3, 'fat': 6, 'arm': 16, 'invisible': 3, 'woman': 16, 'perfect': 3, 'sniffed': 1, 'dully': 1, 'precisely': 7, 'aim': 1, 'ideas': 3, 'tells': 3, 'wonderful': 10, 'bought': 10, 'dress': 22, 'write': 4, 'essay': 1, 'hero': 1, 'wrote': 8, 'burst': 13, 'tears': 13, 'hugged': 14, 'ducked': 3, 'straight': 13, 'emerged': 4, 'right': 110, 'forcefully': 2, 'sons': 13, 'stay': 40, 'way': 63, 'coffee': 1, 'bring': 8, 'deal': 8, 'sealed': 2, 'ten': 12, 'shopping': 9, 'excited': 3, 'green': 16, 'size': 6, 'balls': 1, 'instantly': 6, 'hedge': 1, 'stared': 13, 'hall': 35, 'bowed': 2, 'low': 8, 'long': 84, 'nose': 21, 'touched': 7, 'wearing': 34, 'holes': 1, 'make': 30, 'box': 9, 'huge': 10, 'barn': 3, 'swooped': 5, 'dropped': 14, 'screamed': 10, 'shouting': 17, 'stayed': 6, 'enough': 43, 'afraid': 7, 'birds': 4, 'shapes': 3, 'idea': 23, 'joke': 17, 'flew': 15, 'sleep': 11, 'gone': 28, 'greenish': 3, 'color': 7, 'fixed': 8, 'wheeled': 3, 'marching': 4, 'across': 34, 'yard': 15, 'short': 11, 'plump': 10, 'ah': 12, 'fred': 207, 'george': 192, 'halt': 4, 'guilty': 4, 'pocket': 19, 'mum': 63, 'clearly': 14, 'winning': 2, 'deadly': 2, 'taller': 3, 'rage': 7, 'broke': 11, 'beds': 8, 'empty': 28, 'note': 3, 'worry': 14, 'care': 13, 'wait': 19, 'father': 39, 'gets': 5, 'trouble': 20, 'bill': 142, 'percy': 85, 'muttered': 31, 'taking': 17, 'book': 14, 'yelled': 9, 'prodding': 3, 'finger': 5, 'chest': 9, 'died': 13, 'job': 11, 'shouted': 35, 'hoarse': 3, 'pleased': 7, 'breakfast': 18, 'nervous': 4, 'deep': 7, 'mantelpiece': 6, 'books': 12, 'charm': 12, 'minute': 14, 'unless': 6, 'ears': 17, 'sink': 7, 'announced': 2, 'coming': 17, 'hour': 12, 'popular': 2, 'singing': 3, 'clattering': 7, 'cooking': 4, 'dirty': 3, 'looks': 21, 'sausages': 1, 'flicked': 1, 'began': 33, 'clean': 10, 'gently': 11, 'keep': 31, 'eating': 9, 'starving': 2, 'slightly': 33, 'expression': 26, 'cutting': 5, 'bread': 12, 'form': 6, 'figure': 6, 'appeared': 29, 'blimey': 9, 'tired': 6, 'setting': 11, 'knife': 7, 'fork': 3, 'fault': 6, 'de': 8, 'gnome': 6, 'getting': 21, 'completely': 11, 'glaring': 7, 'fly': 9, 'wide': 7, 'help': 40, 'lockhart': 24, 'pulled': 31, 'heavy': 13, 'groaned': 2, 'cover': 10, 'written': 3, 'fancy': 5, 'letters': 5, 'gilderoy': 11, 'guide': 3, 'photograph': 6, 'king': 5, 'blond': 2, 'hair': 54, 'bright': 5, 'blue': 10, 'wizarding': 4, 'world': 19, 'moving': 11, 'winking': 8, 'beamed': 10, 'knows': 11, 'ridiculous': 7, 'cheeks': 11, 'rather': 53, 'pink': 11, 'yawning': 5, 'admit': 1, 'key': 1, 'keeps': 5, 'shrinking': 1, 'losing': 2, 'ignore': 2, 'taken': 18, 'cars': 14, 'instance': 3, 'holding': 33, 'sword': 5, 'c': 7, 'molly': 71, 'arthur': 80, 'flashing': 4, 'imagine': 1, 'buying': 4, 'telling': 17, 'apart': 5, 'worked': 11, 'really': 57, 'um': 5, 'law': 7, 'carry': 4, 'muggle': 33, 'rubbish': 8, 'information': 3, 'blankly': 7, 'saw': 63, 'lord': 6, 'eh': 5, 'eagerly': 8, 'sparks': 5, 'boys': 11, 'indeed': 4, 'leave': 27, 'swelled': 4, 'show': 18, 'narrow': 4, 'passageway': 2, 'wound': 4, 'landing': 14, 'ajar': 1, 'considered': 1, 'unusual': 1, 'life': 18, 'however': 18, 'clanking': 6, 'everybody': 9, 'socks': 7, 'force': 6, 'eat': 9, 'fourth': 6, 'sit': 11, 'questions': 5, 'muggles': 12, 'ways': 2, 'hogwarts': 44, 'burrow': 18, 'sitting': 28, 'accidentally': 2, 'porridge': 5, 'bowl': 10, 'clatter': 1, 'knocking': 8, 'whenever': 3, 'entered': 26, 'dived': 3, 'retrieve': 1, 'glowing': 4, 'sun': 1, 'toast': 15, 'offered': 3, 'identical': 1, 'yellowish': 1, 'parchment': 20, 'addressed': 3, 'ink': 8, 'witch': 19, 'mother': 41, 'eye': 39, 'manage': 3, 'pick': 2, 'starting': 11, 'asked': 69, 'nodded': 18, 'roots': 1, 'flaming': 2, 'n': 5, 'alley': 19, 'clear': 11, 'planning': 3, 'hill': 1, 'paddock': 1, 'surrounded': 7, 'trees': 2, 'blocked': 2, 'view': 16, 'galleons': 3, 'sickles': 3, 'shops': 1, 'mentioned': 4, 'gringotts': 4, 'account': 1, 'connected': 4, 'stretch': 2, 'pile': 23, 'early': 9, 'following': 12, 'dozen': 4, 'bacon': 4, 'running': 31, 'sighed': 5, 'guests': 5, 'diagon': 14, 'underground': 3, 'floo': 5, 'powder': 5, 'used': 12, 'glittering': 4, 'stepped': 13, 'flames': 3, 'roar': 2, 'emerald': 3, 'rose': 4, 'higher': 2, 'vanished': 24, 'grate': 1, 'roared': 8, 'awful': 1, 'explain': 5, 'brilliant': 2, 'tucked': 2, 'advised': 2, 'fall': 4, 'fireplace': 6, 'panic': 4, 'hard': 14, 'grimly': 5, 'ruddy': 2, 'growled': 8, 'galloping': 1, 'handbag': 1, 'swing': 1, 'ing': 6, 'wildly': 2, 'onto': 25, 'glasses': 20, 'tap': 2, 'gotta': 2, 'yer': 1, 'strode': 4, 'shoulders': 9, 'packed': 6, 'guess': 1, 'borgin': 1, 'burkes': 1, 'grim': 9, 'satisfaction': 2, 'lucius': 3, 'careful': 9, 'goblin': 5, 'biting': 2, 'match': 5, 'indignantly': 7, 'distracted': 1, 'almost': 27, 'enjoyed': 1, 'journey': 8, 'vault': 4, 'dreadful': 6, 'far': 16, 'worse': 10, 'galleon': 1, 'corners': 7, 'sweeping': 6, 'bag': 18, 'contents': 3, 'hastily': 12, 'shoved': 2, 'coins': 1, 'leather': 1, 'marble': 1, 'steps': 17, 'separated': 1, 'vaguely': 6, 'quill': 7, 'lee': 4, 'jordan': 2, 'robe': 2, 'shop': 22, 'leaky': 4, 'cauldron': 15, 'drink': 4, 'flourish': 8, 'blotts': 8, 'step': 7, 'backs': 5, 'strolled': 4, 'winding': 1, 'bronze': 1, 'copies': 3, 'magical': 15, 'p': 4, 'actually': 10, 'witches': 5, 'calmly': 3, 'ladies': 1, 'squeezed': 5, 'grabbed': 5, 'copy': 7, 'standard': 4, 'spells': 9, 'grade': 5, 'sneaked': 4, 'standing': 30, 'granger': 9, 'breathless': 2, 'patting': 7, 'slowly': 12, 'seated': 4, 'pictures': 2, 'flushed': 2, 'darker': 1, 'either': 10, 'different': 3, 'pale': 14, 'company': 2, 'lower': 6, 'thud': 2, 'metal': 1, 'thrown': 3, 'backward': 6, 'spellbooks': 1, 'thundering': 3, 'heads': 14, 'yell': 5, 'dad': 13, 'shrieking': 2, 'shelves': 2, 'assistant': 4, 'louder': 8, 'sea': 1, 'instant': 6, 'outta': 1, 'waist': 3, 'hurried': 35, 'shaking': 20, 'fright': 3, 'fury': 3, 'fine': 22, 'children': 17, 'public': 5, 'asking': 8, 'bloke': 1, 'daily': 9, 'prophet': 9, 'using': 4, 'pub': 3, 'side': 22, 'bus': 1, 'stopped': 16, 'safely': 7, 'helping': 12, 'definitely': 9, 'whomping': 5, 'willow': 5, 'month': 2, 'difficult': 8, 'jealous': 1, 'conjured': 2, 'treacle': 1, 'pudding': 4, 'display': 1, 'fireworks': 2, 'red': 22, 'bounced': 3, 'ceiling': 11, 'mug': 3, 'hot': 10, 'dawn': 3, 'somehow': 4, 'great': 39, 'dashed': 6, 'mood': 4, 'spare': 6, 'quills': 2, 'dressed': 10, 'bits': 2, 'course': 43, 'features': 1, 'added': 24, 'trunk': 17, 'showed': 8, 'magically': 4, 'luggage': 8, 'easily': 1, 'glanced': 13, 'seat': 11, 'quarters': 3, 'visible': 1, 'solid': 2, 'barrier': 8, 'nine': 15, 'hurt': 3, 'done': 34, 'vanishing': 4, 'overhead': 2, 'minutes': 14, 'disappear': 1, 'briskly': 4, 'followed': 37, 'grabbing': 1, 'blink': 1, 'showing': 10, 'headline': 3, 'read': 7, 'aloud': 4, 'convinced': 5, 'post': 6, 'office': 26, 'tower': 3, 'hanging': 4, 'reported': 1, 'police': 4, 'six': 10, 'seven': 6, 'works': 1, 'smiling': 18, 'stealing': 3, 'surprised': 11, 'expelled': 5, 'till': 2, 'yells': 1, 'hundred': 3, 'echoed': 7, 'stone': 10, 'throughout': 2, 'received': 1, 'howler': 3, 'deserved': 2, 'pushed': 6, 'insides': 4, 'burning': 7, 'guilt': 2, 'facing': 5, 'mcgonagall': 22, 'handing': 5, 'double': 4, 'herbology': 2, 'thousand': 3, 'ones': 4, 'drowned': 5, 'pitched': 2, 'ankles': 3, 'gazing': 6, 'yellow': 3, 'caretaker': 8, 'argus': 9, 'battle': 2, 'nick': 2, 'frog': 2, 'brains': 4, 'dungeon': 4, 'cleaning': 4, 'sees': 1, 'dripping': 1, 'mud': 1, 'backing': 4, 'stare': 2, 'drawn': 2, 'spot': 13, 'power': 2, 'tapestry': 3, 'bang': 3, 'glance': 6, 'flat': 8, 'alongside': 5, 'poltergeist': 3, 'grinning': 11, 'cause': 4, 'grateful': 5, 'hopefully': 5, 'whatever': 9, 'stuffing': 2, 'envelope': 6, 'desk': 14, 'triumphant': 1, 'cabinet': 5, 'extremely': 5, 'valuable': 1, 'gleefully': 3, 'darted': 2, 'late': 13, 'lying': 17, 'water': 4, 'message': 6, 'beneath': 8, 'leapt': 11, 'tail': 7, 'stiff': 2, 'board': 8, 'seconds': 19, 'try': 8, 'alive': 10, 'usually': 4, 'grinned': 4, 'doubt': 6, 'shout': 4, 'clutching': 9, 'happened': 44, 'shrieked': 11, 'popping': 4, 'screeched': 5, 'murdered': 6, 'killed': 7, 'kill': 7, 'scene': 14, 'teachers': 4, 'swept': 9, 'miss': 10, 'nearest': 1, 'headmaster': 4, 'movement': 6, 'real': 9, 'lit': 3, 'candles': 3, 'polished': 1, 'surface': 4, 'examine': 4, 'exchanged': 4, 'tense': 3, 'sank': 5, 'chairs': 10, 'pool': 3, 'candlelight': 2, 'tip': 6, 'crooked': 3, 'inch': 8, 'closely': 9, 'moon': 3, 'spectacles': 5, 'fingers': 13, 'poking': 3, 'bent': 12, 'narrowed': 3, 'torture': 1, 'saved': 11, 'dry': 3, 'sobs': 3, 'slumped': 6, 'unable': 9, 'believed': 2, 'muttering': 4, 'tapping': 2, 'continued': 10, 'recently': 5, 'stuffed': 10, 'series': 2, 'attacks': 3, 'various': 7, 'remove': 3, 'straightened': 1, 'dead': 29, 'softly': 7, 'abruptly': 4, 'middle': 18, 'counting': 2, 'choked': 1, 'petrified': 2, 'cannot': 3, 'second': 37, 'advanced': 1, 'spat': 3, 'squib': 8, 'finished': 9, 'uncomfortably': 1, 'aware': 1, 'everyone': 43, 'snarled': 5, 'sprout': 5, 'potion': 12, 'draught': 1, 'excuse': 2, 'master': 7, 'awkward': 3, 'pause': 5, 'midnight': 5, 'comes': 3, 'frame': 2, 'days': 18, 'talk': 16, 'attack': 8, 'fresh': 5, 'minds': 2, 'pacing': 3, 'attacked': 8, 'mess': 5, 'gleamed': 2, 'brightly': 16, 'guarding': 6, 'crime': 2, 'detention': 2, 'breathing': 7, 'disturbed': 3, 'according': 4, 'honestly': 8, 'lip': 5, 'trembled': 3, 'often': 5, 'happen': 11, 'assured': 2, 'catch': 6, 'hope': 11, 'disgust': 3, 'climb': 3, 'difficulty': 1, 'chamber': 3, 'secrets': 2, 'frowning': 8, '1': 3, 'makes': 8, 'human': 1, 'spoke': 11, 'prefect': 11, 'badge': 14, 'complete': 4, 'shock': 9, 'girls': 7, 'shrugged': 8, 'striding': 7, 'flapping': 1, 'arms': 37, 'hotly': 2, 'cheering': 1, 'turns': 3, 'covering': 4, 'jumping': 5, 'meanwhile': 2, 'hidden': 1, 'roaring': 4, 'protective': 3, 'longbottom': 13, 'evil': 1, 'pointed': 14, 'thick': 7, 'term': 4, 'fit': 5, 'scarves': 2, 'tricky': 1, 'important': 13, 'colin': 1, 'creevey': 1, 'play': 2, 'game': 2, 'heaven': 4, 'sake': 7, 'exploding': 3, 'snap': 3, 'bothering': 4, 'practice': 2, 'dueling': 1, 'private': 4, 'chosen': 4, 'duty': 5, 'support': 4, 'troubled': 4, 'interesting': 3, 'facts': 6, 'quidditch': 9, 'team': 3, 'eagle': 1, 'feather': 3, 'present': 10, 'card': 1, 'surge': 1, 'since': 19, 'final': 2, 'footsteps': 10, 'poked': 1, 'lookout': 1, 'stretched': 7, 'moaning': 3, 'myrtle': 3, 'madam': 27, 'pomfrey': 10, 'report': 6, 'becoming': 1, 'moody': 37, 'meaning': 7, 'kindly': 3, 'heir': 2, 'slytherin': 2, 'alert': 1, 'suspicious': 2, 'monster': 2, 'basilisk': 2, 'bet': 6, 'warned': 4, 'person': 14, 'girl': 12, 'jaw': 3, 'halloween': 2, 'reflection': 3, 'scanned': 3, 'page': 5, 'sense': 10, 'entire': 1, 'send': 8, 'dormitory': 7, 'lasted': 1, 'crowded': 2, 'f': 2, 'e': 3, 'g': 4, 'reward': 2, 'silence': 19, 'doorway': 9, 'covered': 10, 'case': 7, 'blood': 17, 'crying': 6, 'flung': 3, 'beaming': 14, 'fawkes': 2, 'settled': 8, 'shoulder': 32, 'tight': 11, 'weakly': 7, 'hesitated': 10, 'laid': 6, 'upon': 26, 'sorting': 5, 'hat': 9, 'remained': 7, 'riddle': 11, 'diary': 3, 'growing': 4, 'arrival': 8, 'avoided': 3, 'anymore': 6, 'prove': 3, 'instinctively': 3, 'worst': 9, 'dangerous': 10, 'voldemort': 18, 'clever': 1, 'handsome': 5, 'sobbed': 22, 'b': 7, 'writing': 11, 'w': 5, 'taught': 3, 'trust': 3, 'juice': 1, 'daresay': 2, 'victims': 1, 'okay': 9, 'harm': 1, 'led': 10, 'deeply': 9, 'shaken': 2, 'minerva': 5, 'thoughtfully': 4, 'currently': 3, 'attend': 1, 'grin': 3, 'spread': 5, 'balding': 9, 'black': 63, 'picture': 13, 'closer': 7, 'strained': 2, 'thirteen': 4, 'azkaban': 5, 'guards': 2, 'mark': 4, 'bar': 3, 'bags': 1, 'start': 9, 'fifth': 2, 'newly': 1, 'youngest': 1, 'bowing': 3, 'simply': 5, 'aside': 11, 'seizing': 5, 'absolutely': 8, 'scowled': 4, 'hello': 16, 'exciting': 3, 'brand': 8, 'swelling': 1, 'pride': 2, 'notice': 4, 'prefects': 7, 'fun': 2, 'giggled': 2, 'change': 18, 'heaved': 3, 'sigh': 2, 'ministry': 36, 'couple': 9, 'curiously': 4, 'seriously': 3, 'snorted': 2, 'favor': 3, 'casual': 6, 'noticing': 7, 'pressure': 1, 'realize': 3, 'suffering': 1, 'properly': 9, 'sleepy': 3, 'rooms': 2, 'check': 11, 'downstairs': 26, 'passage': 4, 'voices': 11, 'recognized': 6, 'wanting': 10, 'arguing': 4, 'shrilly': 1, 'miserable': 1, 'guard': 4, 'quietly': 25, 'climbing': 4, 'bottle': 20, 'rat': 4, 'earlier': 3, 'waited': 5, 'headed': 10, 'crouching': 1, 'shadows': 5, 'heaving': 4, 'laughter': 10, 'listened': 4, 'search': 4, 'train': 32, 'listening': 7, 'muffled': 7, 'scared': 7, 'sirius': 127, 'obviously': 6, 'stricken': 2, 'earth': 8, 'wherever': 2, 'albus': 8, 'surely': 3, 'interrupted': 3, 'reading': 3, 'brow': 2, 'young': 10, 'curly': 1, 'walking': 13, 'shiny': 4, 'leaned': 7, 'need': 25, 'speed': 4, 'hex': 2, 'finish': 4, 'explained': 4, 'argument': 4, 'warning': 3, 'given': 19, 'lowered': 5, 'escaped': 2, 'dot': 1, 'bouncing': 3, 'traveled': 1, 'familiar': 2, 'map': 8, 'honeydukes': 1, 'smirking': 2, 'satisfied': 6, 'watched': 11, 'pass': 6, 'dementors': 37, 'flooded': 2, 'excitement': 5, 'heap': 2, 'presents': 8, 'maroon': 4, 'sent': 13, 'scarlet': 8, 'moved': 20, 'package': 7, 'betrayed': 1, 'peter': 1, 'remembered': 7, 'destroy': 4, 'strength': 1, 'clutched': 2, 'tightly': 6, 'platform': 15, 'eyeing': 7, 'suspiciously': 4, 'cup': 16, 'trolley': 4, 'bearing': 2, 'hedwig': 14, 'ice': 4, 'curiosity': 1, 'ill': 6, 'nobody': 21, 'wasted': 1, 'sad': 1, 'riddles': 1, 'grown': 4, 'tom': 12, 'cared': 3, 'murderer': 2, 'plainly': 3, 'apparently': 11, 'drop': 4, 'natural': 2, 'village': 3, 'particular': 3, 'matter': 7, 'curses': 2, 'moments': 5, 'pain': 4, 'twin': 2, 'sugar': 1, 'free': 7, 'gamekeeper': 4, 'sack': 4, 'rock': 1, 'cakes': 1, 'experience': 2, 'errol': 2, 'poor': 6, 'feeble': 1, 'needed': 4, 'ignored': 7, 'confusion': 1, 'increased': 1, 'glared': 3, 'takes': 1, 'monday': 2, 'drew': 5, 'held': 15, 'laugh': 11, 'square': 7, 'address': 4, 'mistake': 4, 'flashed': 3, 'gritted': 1, 'teeth': 8, 'interested': 7, 'rang': 6, 'treat': 2, 'merely': 4, 'hoped': 4, 'hog': 4, 'wear': 2, 'clothes': 6, 'slight': 4, 'rarely': 3, 'wore': 5, 'bothered': 2, 'anxious': 5, 'wizards': 15, 'yeah': 35, 'earnestly': 3, 'suspicion': 1, 'intended': 3, 'bushy': 2, 'brown': 11, 'haired': 10, 'repeated': 20, 'sleeping': 9, 'edged': 3, 'hallway': 2, 'upper': 3, 'stories': 3, 'slammed': 7, 'shouts': 1, 'posters': 2, 'shall': 9, 'eleven': 6, 'savagely': 2, 'pulling': 9, 'pots': 2, 'count': 2, 'possibly': 5, 'wave': 5, 'poured': 1, 'stirred': 3, 'wasting': 1, 'drawer': 2, 'shot': 6, 'knives': 3, 'soared': 12, 'tipped': 4, 'putting': 7, 'listen': 5, 'squeak': 3, 'giant': 4, 'smoking': 1, 'mon': 5, 'hurriedly': 5, 'handful': 1, 'paces': 2, 'legged': 5, 'ginger': 3, 'crookshanks': 11, 'air': 22, 'chasing': 3, 'directed': 1, 'tables': 5, 'grass': 2, 'flick': 2, 'nowhere': 5, 'increasingly': 1, 'cauldrons': 8, 'recent': 5, 'gives': 2, 'damn': 2, 'plenty': 5, 'treasure': 1, 'wish': 8, 'fashioned': 3, 'ireland': 3, 'thickly': 1, 'mouthful': 1, 'potato': 3, 'flattened': 4, 'viktor': 2, 'krum': 2, 'scar': 8, 'hurting': 1, 'dream': 2, 'checking': 8, 'crack': 18, 'tomorrow': 11, 'personal': 1, 'steep': 1, 'wake': 6, 'emerging': 1, 'stretching': 2, 'stirring': 1, 'pot': 7, 'tickets': 2, 'anxiously': 13, 'lie': 8, 'disappearing': 2, 'known': 8, 'student': 2, 'understood': 4, 'grumpily': 1, 'apparate': 3, 'passed': 23, 'test': 2, 'bustled': 3, 'failed': 1, 'miles': 1, 'ago': 2, 'attention': 3, 'occasion': 3, 'innocent': 4, 'tone': 4, 'accio': 6, 'objects': 5, 'zoomed': 4, 'grab': 4, 'outstretched': 4, 'tongue': 4, 'pockets': 5, 'unpleasant': 5, 'evidently': 4, 'summoning': 1, 'sorts': 1, 'unlikely': 2, 'places': 3, 'jacket': 1, 'jeans': 6, 'months': 2, 'wonder': 3, 'l': 2, 'atmosphere': 1, 'friendly': 2, 'departure': 4, 'glowering': 3, 'kissed': 7, 'hoisted': 3, 'lovely': 13, 'answer': 10, 'chilly': 1, 'land': 1, 'tents': 2, 'reckon': 7, 'holiday': 12, 'thoroughly': 3, 'shabby': 3, 'tent': 8, 'oddly': 4, 'covers': 3, 'strong': 5, 'smell': 5, 'mopping': 9, 'bald': 3, 'patch': 4, 'handkerchief': 2, 'peering': 9, 'bunk': 1, 'dean': 4, 'thomas': 1, 'seamus': 4, 'finnigan': 2, 'dangling': 2, 'dashing': 1, 'blackboard': 1, 'wiping': 8, 'field': 2, 'broom': 6, 'built': 3, 'anti': 2, 'shower': 1, 'hogsmeade': 1, 'tore': 2, 'sign': 5, 'sharing': 2, 'minister': 9, 'narcissa': 1, 'draco': 4, 'allow': 2, 'bulgarian': 1, 'understand': 13, 'floating': 3, 'illuminated': 1, 'roberts': 2, 'campsite': 2, 'upside': 3, 'reveal': 5, 'drawers': 2, 'struggled': 1, 'hooted': 3, 'smallest': 1, 'begun': 2, 'relaxed': 1, 'folded': 2, 'gap': 1, 'language': 1, 'hurrying': 15, 'blast': 2, 'light': 15, 'exhausted': 3, 'cry': 3, 'lane': 1, 'limp': 3, 'ground': 13, 'terror': 2, 'twinkling': 3, 'distractedly': 9, 'surprise': 5, 'seized': 12, 'hug': 7, 'banged': 1, 'ouch': 3, 'sob': 2, 'ow': 2, 'leading': 5, 'undertone': 4, 'says': 14, 'crammed': 3, 'insisted': 4, 'pouring': 2, 'handed': 9, 'newspaper': 1, 'widening': 1, 'article': 3, 'spluttered': 1, 'breathlessly': 2, 'edge': 9, 'wood': 3, 'crouch': 11, 'handle': 4, 'complaining': 2, 'security': 6, 'ruined': 2, 'mundungus': 40, 'fletcher': 3, 'propped': 2, 'grandfather': 2, 'useless': 5, 'otherwise': 4, 'golden': 6, 'prison': 1, 'position': 6, 'mortal': 9, 'working': 12, 'clearing': 1, 'department': 4, 'skeeter': 15, 'rita': 16, 'playing': 6, 'rain': 7, 'firebolt': 4, 'broomstick': 4, 'piece': 14, 'homework': 3, 'order': 25, 'express': 4, 'laughed': 5, 'spun': 5, 'traveling': 5, 'others': 24, 'calling': 6, 'warm': 9, 'tray': 9, 'somewhat': 4, 'bertha': 1, 'missing': 3, 'official': 1, 'rising': 13, 'pay': 2, 'winky': 1, 'accompanied': 2, 'velvet': 4, 'lace': 7, 'collar': 1, 'freshly': 5, 'piles': 3, 'occasions': 2, 'kidding': 2, 'disbelief': 3, 'smart': 2, 'stubbornly': 4, 'parcel': 4, 'less': 4, 'angrily': 13, 'choice': 4, 'split': 3, 'money': 4, 'slamming': 4, 'pigwidgeon': 4, 'urgent': 2, 'hurtled': 3, 'rummaging': 2, 'bending': 5, 'bangs': 1, 'men': 2, 'crumpled': 2, 'stroke': 1, 'diggory': 12, 'notes': 3, 'choose': 3, 'amos': 6, 'spreading': 3, 'thinks': 5, 'highly': 6, 'sternly': 4, 'borrow': 3, 'washed': 2, 'trunks': 11, 'heat': 1, 'sprang': 3, 'causing': 2, 'mist': 2, 'seats': 1, 'compartment': 3, 'seeing': 7, 'sooner': 3, 'whistle': 5, 'blew': 3, 'doors': 11, 'pleasure': 5, 'invite': 5, 'changed': 10, 'rules': 4, 'bellowed': 10, 'changing': 2, 'disapparated': 4, 'widened': 4, 'counted': 1, 'roll': 2, 'crate': 1, 'placed': 7, 'upright': 2, 'quivering': 2, 'strewn': 2, 'dobby': 7, 'violet': 2, 'sir': 4, 'squeaked': 2, 'knot': 3, 'vast': 3, 'sweets': 2, 'harrys': 3, 'flavor': 1, 'beans': 2, 'blowing': 3, 'dragon': 2, 'horntail': 1, 'wands': 5, 'wondering': 3, 'promised': 2, 'touch': 6, 'mine': 3, 'zonko': 1, 'prepared': 2, 'rushing': 2, 'plans': 4, 'hoping': 2, 'sell': 1, 'bagman': 4, 'gloomily': 2, 'examined': 4, 'marauder': 2, 'invisibility': 12, 'egg': 3, 'triwizard': 6, 'clue': 5, 'belongs': 1, 'champion': 3, 'hammering': 1, 'ripped': 2, 'stolen': 7, 'filthy': 8, 'heels': 4, 'masters': 3, 'directly': 6, 'drawing': 14, 'legs': 7, 'distinct': 1, 'impression': 3, 'filled': 8, 'bath': 3, 'unfortunate': 2, 'habit': 2, 'safety': 4, 'source': 2, 'bubble': 3, 'evidence': 1, 'stole': 2, 'staff': 2, 'return': 10, 'easter': 2, 'eggs': 7, 'smaller': 1, 'chicken': 4, 'arriving': 3, 'shortly': 5, 'unaware': 4, 'released': 2, 'gained': 1, 'hexes': 1, 'concentrating': 4, 'stunning': 4, 'spell': 5, 'practicing': 1, 'certain': 4, 'part': 6, 'charms': 3, 'classroom': 1, 'stunned': 4, 'row': 6, 'recognize': 6, 'rush': 3, 'anger': 3, 'hate': 3, 'tortured': 2, 'dragged': 5, 'court': 1, 'jolt': 1, 'inherited': 1, 'hooked': 1, 'fleur': 73, 'excitedly': 2, 'broadly': 2, 'delacour': 22, 'interest': 3, 'whatsoever': 2, 'fangs': 7, 'hmm': 2, 'knight': 1, 'cadogan': 2, 'previous': 3, 'surveying': 3, 'amazement': 2, 'marks': 3, 'tournament': 3, 'bother': 3, 'correct': 3, 'beaten': 2, 'goes': 5, 'beauxbatons': 3, 'carriage': 4, 'durmstrang': 3, 'ship': 2, 'length': 5, 'greenhouses': 2, 'lowering': 2, 'glancing': 8, 'wants': 11, 'questioning': 3, 'instructions': 5, 'sending': 4, 'castle': 6, 'lunch': 12, 'joined': 7, 'task': 4, 'exam': 2, 'names': 4, 'invented': 2, 'bearded': 2, 'girlfriend': 4, 'became': 14, 'feast': 2, 'ludo': 1, 'cornelius': 3, 'forest': 1, 'fluttering': 1, 'points': 1, 'applause': 2, 'politely': 3, 'stands': 2, 'cedric': 8, 'wormtail': 1, 'calm': 2, 'barty': 1, 'transformed': 2, 'dog': 20, 'flight': 1, 'needs': 7, 'peace': 1, 'certainly': 4, 'noisy': 1, 'pajamas': 3, 'cautiously': 3, 'goblet': 4, 'whispering': 2, 'removed': 7, 'ward': 16, 'professors': 2, 'demanded': 5, 'discovered': 1, 'forgive': 4, 'acting': 1, 'alarm': 3, 'bell': 3, 'forced': 7, 'death': 14, 'eaters': 8, 'insane': 1, 'prevent': 3, 'determination': 1, 'group': 6, 'proper': 4, 'pillows': 4, 'nudged': 2, 'bedside': 7, 'fighting': 7, 'maze': 1, 'prickling': 4, 'inner': 1, 'blinked': 3, 'wished': 8, 'memory': 2, 'weight': 5, 'spinning': 4, 'howl': 2, 'drank': 3, 'gulp': 6, 'painful': 4, 'contrary': 1, 'returning': 6, 'body': 22, 'interview': 4, 'grief': 2, 'beyond': 7, 'suffered': 1, 'least': 10, 'goyle': 1, 'shh': 1, 'silent': 4, 'nearby': 5, 'concealed': 5, 'bush': 2, 'floated': 2, 'faces': 8, 'opposite': 9, 'curtains': 16, 'curious': 4, 'whimpering': 1, 'stand': 8, 'raising': 3, 'heel': 2, 'panting': 2, 'grey': 5, 'string': 4, 'swinging': 5, 'wrist': 2, 'idiot': 4, 'effort': 6, 'rolling': 3, 'sweat': 2, 'swayed': 2, 'dangerously': 2, 'massive': 3, 'towards': 19, 'road': 2, 'secrecy': 1, 'hell': 1, 'ribs': 1, 'desire': 3, 'dragging': 6, 'orders': 2, 'bloodshot': 2, 'silvery': 10, 'recognised': 3, 'sneak': 6, 'thief': 5, 'ere': 6, 'bat': 7, 'attacking': 4, 'uncomfortable': 2, 'business': 11, 'opportunity': 5, 'judging': 2, 'food': 10, 'reach': 4, 'cowering': 2, 'waste': 4, 'remaining': 2, 'conscious': 2, 'staggered': 2, 'among': 2, 'panted': 4, 'impatiently': 7, 'june': 2, 'shuddering': 3, 'hang': 5, 'contact': 5, 'within': 9, 'swallowed': 5, 'scowling': 3, 'slow': 1, 'path': 2, 'stuck': 3, 'forwards': 6, 'weak': 5, 'threshold': 5, 'avoiding': 3, 'foreign': 1, 'ringing': 2, 'slip': 6, 'disgusting': 1, 'swear': 1, 'goggling': 3, 'brain': 6, 'astonished': 3, 'appalled': 1, 'driven': 1, 'explaining': 1, 'disappointed': 1, 'ignoring': 1, 'cloud': 6, 'non': 2, 'lives': 7, 'become': 4, 'details': 3, 'soaring': 2, 'whinging': 6, 'painfully': 2, 'horrified': 1, 'smoke': 6, 'urged': 1, 'frustration': 1, 'fists': 7, 'casting': 5, 'star': 1, 'hearing': 10, 'whose': 7, 'trapped': 3, 'blackened': 1, 'portraits': 6, 'chandelier': 1, 'shaped': 7, 'paler': 1, 'urgently': 1, 'noises': 3, 'lupin': 79, 'members': 6, 'meetings': 5, 'belonged': 3, 'elves': 2, 'snout': 1, 'doorknob': 3, 'serpent': 2, 'finding': 1, 'extendable': 7, 'dying': 3, 'kreacher': 14, 'odd': 7, 'forget': 4, 'wash': 2, 'elf': 12, 'tonks': 67, 'umbrella': 2, 'tripped': 1, 'skin': 2, 'awoke': 2, 'screwed': 1, 'brandishing': 2, 'tear': 3, 'filth': 4, 'scum': 2, 'troll': 1, 'abandoned': 5, 'attempt': 7, 'curtain': 1, 'howled': 1, 'traitor': 1, 'shame': 2, 'flesh': 2, 'littered': 2, 'rolls': 1, 'goblets': 5, 'wine': 3, 'horn': 3, 'immediately': 6, 'candle': 3, 'sounding': 8, 'exasperated': 3, 'repaired': 3, 'flash': 4, 'caused': 5, 'glimpse': 4, 'plan': 8, 'snatched': 3, 'billowing': 1, 'clouds': 2, 'obscured': 2, 'owe': 1, 'grunted': 1, 'especially': 1, 'pipe': 2, 'lingered': 1, 'enthusiastically': 4, 'apprehensive': 2, 'collecting': 1, 'blinking': 1, 'mate': 3, 'century': 1, 'bewitched': 5, 'iron': 4, 'butterbeer': 8, 'spilling': 2, 'landed': 6, 'save': 3, 'lifting': 1, 'responsibility': 1, 'plate': 4, 'rattling': 3, 'boggart': 14, 'gargoyle': 6, 'paid': 1, 'howling': 3, 'beg': 1, 'em': 2, 'coldly': 4, 'buried': 2, 'fetch': 3, 'godfather': 4, 'widely': 2, 'cross': 6, 'chase': 1, 'wary': 4, 'bolt': 1, 'clenched': 5, 'trace': 3, 'phoenix': 5, 'decision': 1, 'decide': 5, 'placing': 4, 'kneeling': 3, 'conversation': 7, 'shudder': 2, 'member': 6, 'trembling': 7, 'colour': 6, 'james': 3, 'sometimes': 7, 'responsible': 2, 'reminding': 1, 'replaced': 3, 'reply': 1, 'headquarters': 3, 'difference': 2, 'likes': 3, 'personally': 1, 'hopeful': 1, 'general': 9, 'version': 4, 'survived': 2, 'reasons': 3, 'fiercely': 4, 'curling': 2, 'locked': 5, 'rise': 3, 'cares': 2, 'wearily': 2, 'uncertainly': 2, 'taste': 1, 'portrait': 8, 'closing': 9, 'ok': 5, 'puzzled': 1, 'weapon': 3, 'powerful': 2, 'avada': 1, 'kedavra': 1, 'join': 10, 'mouths': 4, 'argue': 2, 'suit': 6, 'noble': 2, 'ancient': 6, 'sharp': 3, 'blank': 7, 'vanish': 5, 'creaked': 1, 'heading': 3, 'fully': 5, 'continue': 1, 'creaking': 1, 'distinctly': 2, 'creatures': 4, 'buzzing': 3, 'swarming': 1, 'peculiar': 2, 'tied': 3, 'liquid': 4, 'throw': 6, 'rats': 4, 'buckbeak': 3, 'polite': 2, 'neither': 3, 'screams': 4, 'ring': 3, 'chain': 1, 'kingsley': 12, 'shacklebolt': 3, 'hestia': 1, 'relieved': 7, 'party': 7, 'sofa': 5, 'bite': 1, 'poisonous': 3, 'antidote': 3, 'froze': 1, 'midair': 3, 'worn': 1, 'bucket': 2, 'struggling': 5, 'venom': 1, 'range': 1, 'class': 1, 'ended': 3, 'orange': 2, 'rushed': 1, 'devoted': 2, 'vision': 4, 'adding': 1, 'stopping': 5, 'dropping': 8, 'mail': 1, 'service': 2, 'prize': 1, 'realise': 3, 'unknown': 3, 'career': 3, 'longer': 12, 'damp': 4, 'unconscious': 2, 'dusty': 4, 'glass': 6, 'boxes': 4, 'pleasant': 4, 'firmly': 10, 'snatching': 5, 'concentration': 1, 'risk': 4, 'explosion': 2, 'letting': 2, 'steam': 2, 'likely': 1, 'bow': 4, 'seventeen': 3, 'decent': 2, 'wiped': 1, 'sunday': 1, 'bitterly': 4, 'pure': 5, 'panicked': 1, 'eager': 2, 'pressed': 6, 'prefer': 1, 'cast': 5, 'attempts': 1, 'brief': 3, 'tasks': 1, 'relief': 4, 'transfiguration': 1, 'teacher': 3, 'toilet': 6, 'helped': 9, 'repair': 1, 'wardrobe': 3, 'despite': 3, 'badly': 2, 'dreams': 2, 'snapping': 2, 'grimmauld': 8, 'live': 3, 'brick': 1, 'stomach': 6, 'question': 8, 'answered': 5, 'prospect': 1, 'shirt': 5, 'scrambled': 1, 'sniggered': 3, 'sprawled': 1, 'soft': 7, 'dressing': 6, 'gown': 4, 'scrimgeour': 16, 'required': 2, 'pieces': 3, 'chewing': 3, 'underage': 3, 'realised': 1, 'desperately': 1, 'checked': 4, 'bones': 13, 'barked': 2, 'judge': 1, 'perched': 5, 'bored': 4, 'record': 3, 'situation': 4, 'events': 2, 'bench': 1, 'eyebrows': 2, 'august': 1, 'alleyway': 4, 'magnolia': 2, 'approaching': 4, 'patches': 2, 'appearing': 3, 'gliding': 5, 'skinny': 2, 'creeping': 2, 'pit': 3, 'dementor': 7, 'eerie': 1, 'hovering': 1, 'inches': 6, 'smirked': 1, 'coolly': 1, 'happiness': 3, 'dug': 1, 'stronger': 1, 'confident': 1, 'fallen': 1, 'patronus': 7, 'charged': 2, 'chased': 2, 'papers': 6, 'frightened': 7, 'shuffled': 4, 'witness': 1, 'armchairs': 1, 'chained': 4, 'feelings': 3, 'wizengamot': 1, 'gathering': 4, 'packing': 2, 'seems': 3, 'considering': 1, 'war': 1, 'dance': 1, 'settle': 1, 'ate': 2, 'happier': 3, 'confused': 6, 'lonely': 1, 'keen': 2, 'raise': 2, 'experienced': 1, 'earshot': 2, 'unexpected': 1, 'nodding': 6, 'loads': 1, 'wider': 2, 'penetrate': 2, 'shriek': 4, 'kissing': 3, 'grip': 3, 'sincerely': 2, 'scabbers': 1, 'broomsticks': 2, 'add': 2, 'tentatively': 3, 'heartily': 3, 'forehead': 8, 'wrapped': 1, 'moan': 2, 'longing': 2, 'heavily': 4, 'stumped': 2, 'ages': 3, 'upwards': 1, 'gestured': 1, 'authority': 1, 'figures': 2, 'jinxes': 2, 'startled': 5, 'brother': 5, 'brought': 6, 'offer': 4, 'ninety': 3, 'sixty': 1, 'werewolf': 5, 'shorter': 2, 'emptied': 1, 'uneasy': 2, 'occurred': 3, 'poison': 1, 'oak': 1, 'jinx': 8, 'lungs': 1, 'falling': 4, 'icy': 2, 'croaked': 5, 'r': 10, 'riddikulus': 11, 'moaned': 5, 'gulped': 4, 'storm': 1, 'sobbing': 3, 'gaze': 5, 'frantically': 2, 'shakily': 1, 'promise': 5, 'battered': 2, 'image': 2, 'seared': 1, 'cut': 6, 'rubbing': 1, 'extraordinary': 1, 'luna': 4, 'gathered': 4, 'injury': 2, 'swaying': 3, 'fluttered': 2, 'sturgis': 2, 'bound': 7, 'mudbloods': 6, 'heavens': 2, 'wrenched': 3, 'september': 3, 'sunlight': 3, 'greeted': 4, 'pie': 1, 'laughing': 7, 'twenty': 2, 'families': 4, 'spirits': 2, 'tall': 3, 'limping': 3, 'archway': 2, 'hugging': 6, 'random': 1, 'catching': 2, 'hissing': 4, 'rapidly': 1, 'blurred': 2, 'bend': 1, 'false': 1, 'stubby': 2, 'church': 1, 'talked': 1, 'faintest': 2, 'hangings': 1, 'training': 1, 'pitch': 1, 'brushed': 1, 'owlery': 1, 'sunken': 2, 'shifting': 1, 'wings': 2, 'beak': 1, 'fashion': 1, 'cho': 2, 'problem': 1, 'umbridge': 31, 'described': 1, 'proceeded': 1, 'pausing': 1, 'signs': 1, 'headless': 1, 'truly': 2, 'persuade': 4, 'doubted': 3, 'permit': 4, 'appearance': 6, 'constant': 1, 'bleeding': 4, 'faintly': 4, 'whereabouts': 1, 'conditions': 1, 'die': 1, 'occasionally': 1, 'st': 2, 'mungo': 2, 'sideways': 3, 'swung': 7, 'wan': 2, 'lifted': 4, 'obvious': 1, 'nod': 4, 'ugly': 5, 'bone': 1, 'nah': 1, 'warlock': 1, 'queue': 1, 'marked': 2, 'lined': 3, 'bubbles': 1, 'visitors': 5, 'approval': 1, 'directions': 1, 'fellow': 2, 'bitten': 1, 'alarmed': 4, 'bitter': 2, 'exploded': 3, 'discussing': 1, 'charge': 2, 'snake': 3, 'reaction': 1, 'clearer': 3, 'beast': 1, 'kid': 1, 'means': 2, 'thoughts': 4, 'leaning': 4, 'rattled': 2, 'tunnel': 2, 'violently': 5, 'snow': 3, 'retreated': 5, 'hiding': 4, 'hungry': 3, 'fed': 2, 'model': 1, 'wishing': 1, 'painting': 1, 'suspected': 2, 'merry': 3, 'owner': 1, 'driving': 2, 'dislike': 1, 'damage': 2, 'remains': 2, 'lap': 3, 'healer': 8, 'gift': 1, 'entirely': 2, 'shake': 1, 'piercing': 1, 'wounds': 7, 'ominous': 3, 'scurrying': 3, 'messing': 2, 'sounds': 4, 'sprinted': 3, 'hippogriff': 1, 'bustling': 1, 'plant': 4, 'aisle': 3, 'surveyed': 1, 'spots': 2, 'amazed': 1, 'friends': 4, 'ashamed': 5, 'health': 1, 'followers': 1, 'aurors': 6, 'community': 1, 'edging': 1, 'daring': 1, 'gloves': 2, 'bin': 1, 'date': 1, 'gloom': 1, 'gas': 1, 'remain': 1, 'positively': 1, 'dread': 2, 'register': 1, 'violent': 1, 'gaping': 4, 'quarter': 4, 'withdrew': 5, 'chat': 2, 'roughly': 1, 'snakes': 1, 'spoken': 3, 'true': 7, 'compete': 1, 'cackling': 1, 'bursting': 3, 'smashed': 1, 'torches': 1, 'neatly': 1, 'fires': 1, 'pressing': 1, 'montague': 1, 'tapped': 3, 'weird': 1, 'sisters': 1, 'lied': 1, 'booming': 1, 'hi': 1, 'gnarled': 1, 'measures': 1, 'defensive': 2, 'complex': 1, 'protection': 4, 'tough': 3, '—': 27, 'fought': 1, 'spite': 1, 'lift': 4, 'gate': 6, 'bringing': 3, 'slughorn': 5, 'proved': 1, 'servant': 3, 'glow': 5, 'lantern': 3, 'squashed': 1, 'knees': 4, 'yesterday': 1, 'quot': 16, 'slid': 8, 'lime': 2, 'stream': 2, 'soup': 15, 'persuaded': 3, 'horace': 3, 'jerk': 2, 'charming': 2, 'shows': 1, 'emotion': 1, 'rufus': 4, 'response': 2, 'cursed': 1, 'eater': 3, 'dealing': 1, 'speech': 2, 'sheets': 2, 'basket': 5, 'un': 3, 'danger': 3, 'dim': 1, 'bodies': 1, 'desperate': 2, 'enforcement': 1, 'squad': 1, 'sorted': 1, 'lightly': 1, 'flowers': 3, 'disguise': 1, 'perch': 1, 'hunting': 1, 'groped': 3, 'defend': 1, 'faint': 1, 'arry': 3, 'revealed': 1, 'sheet': 3, 'married': 9, 'wow': 1, 'ze': 2, 'enjoy': 1, 'center': 1, 'powers': 1, 'outraged': 2, 'cuts': 2, 'forever': 1, 'amusing': 6, 'serenely': 2, 'breathe': 2, 'twisting': 3, 'runes': 1, 'feverishly': 1, 'defense': 2, 'arts': 2, 'neat': 2, 'punching': 1, 'proudly': 2, 'reasonably': 2, 'evenings': 1, 'stones': 2, 'accidents': 2, 'deaths': 2, 'remus': 10, 'gaunt': 2, 'streaked': 3, 'ragged': 2, 'karkaroff': 1, 'shack': 1, 'north': 1, 'regulus': 3, 'cream': 1, 'hollow': 2, 'sensation': 2, 'ollivander': 2, 'wandmaker': 1, 'cool': 1, 'captain': 1, 'ha': 2, 'saturday': 2, 'incredulously': 1, 'stormed': 4, 'comfort': 2, 'resembled': 1, 'joining': 1, 'stained': 2, 'pinned': 1, 'werewolves': 1, 'chains': 6, 'protect': 5, 'pretty': 3, 'malkin': 4, 'ankle': 1, 'torn': 3, 'stick': 8, 'lid': 1, 'groups': 1, 'intently': 3, 'bu': 1, 'comfortable': 4, 'ingredients': 2, 'studying': 2, 'farther': 2, 'tracks': 2, 'gripping': 1, 'poster': 1, 'fairly': 1, 'glare': 1, 'elbow': 1, 'tales': 1, 'swore': 2, 'gesture': 3, 'unfortunately': 2, 'momentarily': 2, 'precious': 1, 'examining': 2, 'cards': 1, 'absence': 2, 'hid': 2, 'annoyed': 3, 'wedding': 18, 'self': 1, 'peeling': 3, 'ave': 9, 'marched': 1, 'briefly': 1, 'attempted': 1, 'forgot': 1, 'therefore': 1, 'auror': 1, 'boarded': 2, 'load': 3, 'mounted': 1, 'appointment': 4, 'cole': 30, 'bewildered': 3, 'gaped': 6, 'invited': 5, 'feebly': 2, 'discuss': 2, 'future': 1, 'picking': 3, 'focus': 2, 'gazed': 2, 'extra': 2, 'drinking': 1, 'measure': 3, 'drained': 1, 'press': 3, 'advantage': 2, 'history': 1, 'born': 1, 'orphanage': 2, 'older': 3, 'baby': 3, 'happens': 2, 'enjoying': 1, 'named': 2, 'marvolo': 2, 'squinted': 1, 'grew': 3, 'swig': 1, 'chin': 2, 'cave': 1, 'impressed': 1, 'steady': 1, 'dumbledores': 1, 'bare': 1, 'command': 1, 'shuffling': 1, 'seventh': 1, 'mountain': 1, 'drifting': 1, 'accident': 1, 'leaves': 1, 'prat': 6, 'painted': 1, 'hairy': 1, 'wooden': 3, 'depths': 1, 'stir': 3, 'severus': 1, 'song': 1, 'issued': 1, 'leaping': 1, 'prince': 1, 'glimpsed': 1, 'cheerful': 1, 'deeper': 1, 'snitch': 4, 'necklace': 4, 'beautiful': 4, 'appreciate': 1, 'boat': 1, 'anybody': 6, 'hey': 2, 'risen': 2, 'mane': 2, 'exchange': 2, 'paused': 2, 'straightening': 1, 'guessed': 2, 'reaching': 1, 'assure': 1, 'arranged': 3, 'connection': 2, 'network': 2, 'dissolved': 2, 'loss': 4, 'watery': 2, 'fleeting': 1, 'pretend': 2, 'indicated': 3, 'respond': 2, 'tin': 2, 'bezoar': 1, 'goin': 1, 'lump': 1, 'fake': 1, 'horcrux': 2, 'knuckles': 1, 'darting': 2, 'bloody': 2, 'greyback': 2, 'height': 2, 'nostrils': 3, 'scars': 3, 'brave': 4, 'auntie': 2, 'muriel': 1, 'refusing': 1, 'patted': 2, 'steadily': 1, 'spiral': 1, 'deserted': 1, 'astronomy': 1, 'soul': 1, 'approached': 5, 'madame': 10, 'maxime': 1, 'ted': 1, '¨c': 81, 'bellatrix': 9, 'pronounced': 2, 'nevertheless': 2, 'portkey': 1, 'rucksack': 2, 'collapsed': 2, 'clambered': 3, 'etched': 2, 'reappeared': 1, 'attempting': 2, 'ease': 1, 'oi': 1, 'hoarsely': 2, 'hole': 6, 'god': 6, 'gleaming': 3, 'murmured': 2, 'opening': 2, 'pathetic': 2, 'huddled': 1, 'faded': 1, 'thestral': 3, 'scanning': 2, 'presence': 1, 'pairs': 2, 'rubbed': 2, 'agreed': 2, 'fist': 4, 'firewhisky': 1, 'avoid': 1, 'answering': 1, 'admitted': 1, 'saving': 1, 'drifted': 1, 'thirty': 1, 'corrected': 1, 'cornered': 1, 'concerned': 3, 'shade': 3, 'utter': 1, 'flatly': 1, 'united': 1, 'replied': 2, 'explanation': 3, 'resigned': 1, 'served': 2, 'immense': 1, 'scribbled': 1, 'magnificent': 1, 'floors': 1, 'skidded': 1, 'realizing': 1, 'contorted': 1, 'cozy': 1, 'horcruxes': 1, 'resentful': 1, 'beard': 4, 'boots': 2, 'aiming': 2, 'bushes': 2, 'glided': 4, 'stooped': 3, 'dazzling': 2, 'shoes': 2, 'elder': 1, 'desperation': 1, 'feed': 1, 'escape': 3, 'arrive': 1, 'finishing': 2, 'circling': 2, 'race': 2, 'possessions': 1, 'shared': 1, 'fail': 1, 'remembering': 1, 'ball': 2, 'sized': 3, 'amazing': 2, 'mouthed': 1, 'vicious': 1, 'astonishment': 1, 'fence': 1, 'respect': 1, 'earned': 1, 'regret': 2, 'temper': 1, 'lies': 2, 'limped': 1, 'refused': 1, 'deluminator': 2, 'serve': 1, 'relatives': 2, 'marquee': 2, 'larger': 1, 'shining': 1, 'lightning': 1, 'shifted': 1, 'terrible': 2, 'faster': 2, 'streaming': 1, 'brutal': 1, 'protest': 1, 'impossible': 1, 'crashing': 1, 'chill': 1, 'shone': 1, 'freezing': 1, 'yaxley': 18, 'cattermole': 62, 'despair': 2, 'stumbled': 2, 'masked': 2, 'unicorn': 4, 'sleeve': 3, 'chose': 1, 'locket': 3, 'intent': 1, 'mafalda': 1, 'fumbled': 1, 'dolores': 1, 'ruffled': 1, 'pity': 1, 'fluffy': 1, 'stupefy': 2, 'hit': 2, 'draw': 1, 'whirled': 1, 'sensed': 2, 'slimy': 1, 'grasped': 1, 'expecto': 4, 'patronum': 4, 'stag': 4, 'tugging': 1, 'binding': 1, 'fool': 1, 'swam': 2, 'cries': 1, 'sides': 1, 'atrium': 1, 'borns': 5, 'boomed': 1, 'punched': 3, 'apparition': 1, 'lack': 1, 'bagshot': 3, 'bathilda': 3, 'area': 1, 'gregorovitch': 1, 'suspended': 1, 'oliver': 1, 'katie': 1, 'angelina': 1, 'johnson': 1, 'alicia': 1, 'spinnet': 1, 'army': 1, 'requirement': 2, 'unusually': 1, 'equal': 1, 'aberforth': 2, 'hundreds': 2, 'kids': 1, 'transform': 1, 'naturally': 1, 'stroking': 1, 'killing': 1, 'duel': 1, 'twisted': 2, 'lestrange': 2, 'jets': 2, 'cracked': 1, 'aid': 1, 'toppled': 1, 'veil': 1}), 'dursley': defaultdict(<class 'int'>, {'boy': 8, 'lived': 1, 'mr': 81, 'mrs': 55, 'number': 11, 'four': 13, 'privet': 18, 'drive': 23, 'proud': 2, 'say': 14, 'perfectly': 3, 'normal': 9, 'thank': 2, 'much': 7, 'last': 12, 'people': 25, 'expect': 4, 'involved': 6, 'anything': 17, 'strange': 6, 'mysterious': 8, 'hold': 3, 'nonsense': 3, 'firm': 2, 'called': 8, 'made': 9, 'big': 2, 'man': 13, 'hardly': 4, 'neck': 4, 'although': 2, 'large': 12, 'mustache': 4, 'dursley': 76, 'thin': 2, 'blonde': 2, 'nearly': 2, 'twice': 2, 'usual': 3, 'amount': 2, 'came': 7, 'useful': 1, 'spent': 1, 'time': 16, 'craning': 1, 'garden': 5, 'dursleys': 10, 'small': 6, 'son': 12, 'dudley': 43, 'opinion': 1, 'anywhere': 3, 'everything': 1, 'wanted': 2, 'also': 3, 'secret': 2, 'greatest': 1, 'fear': 4, 'somebody': 3, 'would': 22, 'discover': 2, 'think': 9, 'could': 23, 'bear': 5, 'anyone': 4, 'found': 7, 'potters': 19, 'potter': 9, 'sister': 14, 'met': 3, 'several': 7, 'years': 5, 'fact': 4, 'pretended': 5, 'good': 10, 'nothing': 10, 'husband': 3, 'possible': 2, 'shuddered': 2, 'arrived': 4, 'street': 7, 'knew': 8, 'never': 14, 'even': 13, 'seen': 6, 'another': 6, 'reason': 5, 'keeping': 1, 'away': 6, 'want': 3, 'child': 1, 'like': 14, 'woke': 2, 'dull': 2, 'gray': 3, 'tuesday': 3, 'story': 4, 'sky': 3, 'outside': 6, 'suggest': 3, 'things': 11, 'soon': 4, 'happening': 4, 'country': 4, 'picked': 7, 'boring': 3, 'tie': 3, 'work': 3, 'happily': 4, 'screaming': 4, 'high': 4, 'chair': 6, 'none': 4, 'noticed': 6, 'owl': 9, 'past': 13, 'window': 10, 'half': 6, 'eight': 4, 'cheek': 3, 'tried': 7, 'kiss': 3, 'bye': 3, 'missed': 3, 'throwing': 3, 'walls': 3, 'little': 8, 'left': 9, 'house': 11, 'got': 13, 'car': 10, 'backed': 3, 'corner': 10, 'first': 6, 'sign': 10, 'something': 21, 'peculiar': 2, 'cat': 22, 'reading': 5, 'map': 5, 'second': 2, 'realize': 2, 'jerked': 3, 'head': 3, 'around': 9, 'look': 15, 'standing': 7, 'sight': 3, 'thinking': 3, 'must': 6, 'trick': 3, 'light': 3, 'blinked': 2, 'stared': 6, 'back': 16, 'drove': 4, 'road': 4, 'watched': 3, 'mirror': 4, 'said': 58, 'looking': 10, 'cats': 2, 'read': 4, 'signs': 2, 'gave': 11, 'shake': 1, 'put': 8, 'mind': 11, 'toward': 4, 'thought': 16, 'except': 1, 'order': 1, 'hoping': 2, 'get': 9, 'day': 7, 'edge': 2, 'driven': 2, 'else': 1, 'sat': 6, 'morning': 6, 'help': 2, 'noticing': 1, 'seemed': 7, 'lot': 17, 'strangely': 1, 'dressed': 3, 'cloaks': 4, 'funny': 11, 'clothes': 2, 'saw': 6, 'young': 4, 'supposed': 2, 'stupid': 2, 'new': 7, 'fashion': 2, 'fingers': 2, 'steering': 2, 'eyes': 12, 'fell': 15, 'quite': 9, 'close': 4, 'whispering': 3, 'excitedly': 2, 'together': 7, 'see': 10, 'couple': 2, 'older': 2, 'wearing': 8, 'emerald': 3, 'green': 3, 'cloak': 6, 'nerve': 3, 'struck': 3, 'probably': 5, 'silly': 4, 'obviously': 4, 'collecting': 5, 'yes': 15, 'moved': 3, 'minutes': 3, 'later': 3, 'always': 4, 'office': 3, 'floor': 3, 'might': 9, 'harder': 3, 'concentrate': 3, 'owls': 10, 'ing': 3, 'broad': 2, 'daylight': 4, 'though': 11, 'pointed': 2, 'gazed': 1, 'open': 5, 'mouthed': 1, 'sped': 1, 'overhead': 1, 'however': 1, 'free': 2, 'yelled': 2, 'five': 3, 'different': 2, 'important': 1, 'telephone': 3, 'shouted': 1, 'bit': 1, 'mood': 2, 'stretch': 1, 'single': 1, 'tin': 1, 'way': 5, 'clutching': 1, 'bag': 1, 'caught': 3, 'words': 1, 'saying': 3, 'right': 8, 'heard': 14, 'harry': 64, 'stopped': 3, 'dead': 4, 'flooded': 1, 'looked': 13, 'better': 2, 'dashed': 1, 'across': 3, 'hurried': 3, 'snapped': 5, 'seized': 1, 'come': 6, 'sure': 6, 'point': 5, 'worrying': 1, 'upset': 4, 'mention': 5, 'blame': 1, 'afternoon': 1, 'building': 2, 'clock': 2, 'still': 10, 'worried': 1, 'walked': 3, 'straight': 1, 'someone': 2, 'door': 11, 'sorry': 5, 'grunted': 2, 'tiny': 3, 'old': 4, 'stumbled': 1, 'almost': 6, 'seconds': 1, 'realized': 1, 'violet': 1, 'seem': 1, 'knocked': 1, 'ground': 1, 'contrary': 1, 'face': 4, 'split': 1, 'wide': 1, 'smile': 1, 'voice': 6, 'stare': 2, 'dear': 5, 'sir': 2, 'today': 6, 'know': 20, 'gone': 3, 'muggles': 2, 'happy': 4, 'hugged': 5, 'middle': 2, 'stood': 3, 'spot': 2, 'complete': 2, 'stranger': 2, 'muggle': 2, 'whatever': 2, 'rattled': 2, 'set': 3, 'home': 3, 'imagining': 4, 'hoped': 1, 'imagination': 1, 'pulled': 1, 'thing': 2, 'spotted': 1, 'sitting': 4, 'wall': 5, 'one': 8, 'loudly': 3, 'move': 2, 'stern': 3, 'behavior': 3, 'wondered': 7, 'trying': 5, 'pull': 3, 'let': 7, 'determined': 3, 'wife': 3, 'nice': 4, 'told': 13, 'dinner': 3, 'next': 7, 'problems': 2, 'daughter': 2, 'learned': 2, 'word': 12, 'act': 2, 'normally': 4, 'bed': 7, 'went': 4, 'living': 10, 'room': 12, 'catch': 1, 'report': 2, 'evening': 2, 'news': 6, 'finally': 4, 'bird': 1, 'everywhere': 1, 'reported': 1, 'far': 4, 'apart': 1, 'tell': 6, 'instead': 4, 'rain': 1, 'promised': 1, 'yesterday': 1, 'shooting': 7, 'stars': 8, 'perhaps': 1, 'night': 5, 'early': 2, 'week': 2, 'promise': 1, 'wet': 1, 'tonight': 2, 'frozen': 2, 'armchair': 2, 'britain': 2, 'flying': 2, 'place': 3, 'whisper': 4, 'carrying': 2, 'two': 10, 'cups': 2, 'tea': 5, 'cleared': 3, 'throat': 3, 'nervously': 2, 'er': 2, 'petunia': 21, 'lately': 3, 'expected': 3, 'shocked': 2, 'angry': 2, 'sharply': 4, 'stuff': 4, 'mumbled': 4, 'well': 14, 'maybe': 6, 'crowd': 4, 'lips': 3, 'whether': 5, 'dared': 4, 'name': 9, 'decided': 6, 'dare': 4, 'casually': 4, 'age': 4, 'suppose': 3, 'stiffly': 2, 'nasty': 3, 'common': 2, 'ask': 3, 'oh': 4, 'heart': 5, 'sinking': 4, 'horribly': 4, 'agree': 4, 'subject': 3, 'upstairs': 3, 'bathroom': 4, 'crept': 4, 'bedroom': 5, 'peered': 3, 'front': 10, 'staring': 3, 'waiting': 4, 'related': 2, 'pair': 2, 'asleep': 7, 'quickly': 5, 'lay': 3, 'awake': 3, 'turning': 3, 'near': 3, 'kind': 3, 'mixed': 2, 'going': 6, 'yawned': 3, 'turned': 3, 'wrong': 2, 'drifting': 1, 'uneasy': 1, 'sleep': 1, 'showing': 1, 'statue': 1, 'fixed': 1, 'twelve': 1, 'times': 2, 'clicked': 1, 'lights': 1, 'whole': 4, 'distance': 1, 'watching': 2, 'eyed': 1, 'able': 1, 'pavement': 1, 'dumbledore': 13, 'slipped': 1, 'inside': 3, 'blankets': 1, 'without': 2, 'hand': 2, 'closed': 4, 'letter': 4, 'beside': 1, 'slept': 1, 'knowing': 3, 'special': 1, 'famous': 1, 'woken': 2, 'hours': 6, 'scream': 3, 'opened': 2, 'milk': 1, 'bottles': 1, 'spend': 1, 'weeks': 3, 'cousin': 2, 'moment': 5, 'meeting': 1, 'holding': 1, 'changed': 2, 'sun': 2, 'rose': 1, 'lit': 1, 'brass': 1, 'exactly': 1, 'photographs': 2, 'mantelpiece': 2, 'really': 2, 'showed': 3, 'passed': 3, 'ten': 2, 'ago': 5, 'lots': 2, 'pictures': 2, 'pink': 5, 'ball': 1, 'colored': 1, 'longer': 2, 'baby': 1, 'blond': 1, 'fair': 1, 'playing': 1, 'game': 1, 'father': 1, 'kissed': 1, 'mother': 1, 'held': 1, 'tail': 1, 'snake': 2, 'shook': 3, 'deafening': 1, 'shout': 2, 'behind': 4, 'jump': 1, 'believe': 7, 'fast': 1, 'punching': 1, 'ribs': 1, 'surprise': 3, 'hard': 2, 'yet': 5, 'dad': 3, 'yeh': 5, 'mom': 2, 'uncle': 41, 'vernon': 50, 'noise': 3, 'leave': 2, 'sit': 2, 'breaking': 1, 'entering': 1, 'ah': 2, 'shut': 1, 'great': 3, 'giant': 4, 'reached': 1, 'sofa': 3, 'hands': 4, 'bent': 1, 'knot': 1, 'easily': 1, 'threw': 1, 'slightly': 1, 'sausages': 2, 'touch': 2, 'gives': 1, 'chuckled': 1, 'darkly': 1, 'need': 3, 'anymore': 1, 'worry': 1, 'hungry': 1, 'wonderful': 1, 'take': 2, 'nobody': 2, 'explain': 1, 'hagrid': 9, 'simply': 2, 'waved': 2, 'world': 6, 'mean': 5, 'yer': 1, 'parents': 1, 'boomed': 1, 'pale': 1, 'whispered': 1, 'sounded': 1, 'wildly': 1, 'suddenly': 2, 'stop': 3, 'furious': 2, 'spoke': 5, 'every': 7, 'trembled': 2, 'rage': 2, 'fer': 2, 'kept': 2, 'eagerly': 1, 'panic': 1, 'aunt': 10, 'gasp': 1, 'horror': 2, 'go': 3, 'heads': 1, 'end': 3, 'leapt': 2, 'drew': 2, 'battered': 1, 'umbrella': 2, 'coat': 1, 'pointing': 1, 'sword': 1, 'warning': 2, 'danger': 3, 'bearded': 1, 'courage': 1, 'failed': 1, 'flattened': 1, 'silent': 2, 'breathing': 1, 'worst': 1, 'birthday': 1, 'argument': 1, 'broken': 2, 'breakfast': 1, 'loud': 2, 'hooting': 1, 'third': 1, 'roared': 4, 'table': 3, 'control': 1, 'magic': 4, 'irritably': 1, 'effect': 1, 'simple': 1, 'sentence': 1, 'rest': 4, 'family': 6, 'incredible': 2, 'gasped': 2, 'crash': 2, 'kitchen': 3, 'clapped': 2, 'mouth': 3, 'jumped': 2, 'feet': 4, 'throbbing': 2, 'meant': 4, 'please': 2, 'load': 2, 'dung': 1, 'reckons': 1, 'inner': 1, 'circle': 1, 'rumors': 1, 'malfoy': 3, 'malfoys': 1, 'elf': 1, 'whoever': 1, 'wizarding': 1, 'fred': 1, 'yeah': 1, 'mum': 1, 'bottle': 1, 'quill': 2, 'began': 3, 'write': 1, 'pausing': 2, 'listen': 2, 'scratching': 1, 'find': 2, 'locked': 1, 'cupboard': 1, 'stairs': 3, 'summer': 3, 'enjoyed': 1, 'holidays': 2, 'relatives': 2, 'best': 2, 'friends': 1, 'hogwarts': 2, 'wizards': 3, 'used': 1, 'answered': 1, 'call': 1, 'speaking': 1, 'happened': 2, 'froze': 1, 'ron': 3, 'answer': 1, 'hello': 2, 'hear': 7, 'talk': 1, 'yelling': 1, 'started': 1, 'safe': 1, 'matters': 2, 'fudge': 3, 'pushed': 1, 'plate': 1, 'eat': 2, 'pleased': 2, 'unfortunate': 2, 'blowing': 2, 'miss': 4, 'members': 2, 'department': 2, 'memory': 2, 'harm': 2, 'done': 2, 'smiled': 2, 'teacup': 2, 'rather': 3, 'surveying': 1, 'favorite': 3, 'ears': 1, 'speak': 1, 'blue': 1, 'cold': 1, 'slowly': 2, 'shot': 1, 'gold': 1, 'expelled': 1, 'facing': 1, 'completely': 1, 'weird': 1, 'hedwig': 1, 'glasses': 1, 'slumped': 1, 'onto': 1, 'pillows': 1, 'leaky': 1, 'cauldron': 1, 'took': 2, 'increased': 1, 'writing': 1, 'sent': 1, 'letters': 1, 'glared': 1, 'aloud': 2, 'deal': 1, 'final': 1, 'quidditch': 1, 'cup': 1, 'takes': 1, 'monday': 1, 'train': 1, 'term': 1, 'express': 1, 'temper': 1, 'ever': 2, 'mentioned': 1, 'school': 1, 'screwed': 1, 'enormous': 1, 'remember': 1, 'unpleasant': 1, 'sort': 1, 'woman': 1, 'growled': 2, 'children': 1, 'red': 2, 'hair': 3, 'frowned': 1, 'questions': 1, 'watch': 1, 'television': 1, 'fluttered': 1, 'glad': 1, 'anyway': 3, 'singing': 2, 'song': 1, 'others': 1, 'laughing': 1, 'soft': 1, 'racing': 1, 'along': 3, 'figure': 1, 'accompanied': 1, 'faithful': 1, 'gang': 1, 'vast': 1, 'year': 2, 'talent': 1, 'change': 2, 'dangerous': 1, 'addressed': 3, 'shaking': 1, 'breath': 3, 'horrified': 1, 'envelope': 1, 'begun': 1, 'smoke': 1, 'urged': 1, 'happen': 1, 'wizengamot': 1, 'witness': 1, 'presence': 1, 'dementors': 1, 'alleyway': 1, 'plump': 1, 'air': 1, 'appearance': 2, 'pulling': 1, 'muffled': 1, 'cheers': 1, 'slytherin': 1, 'team': 1, 'silver': 2, 'shaped': 1, 'badges': 1, 'captain': 1, 'montague': 1, 'built': 1, 'lines': 1, 'massive': 1, 'hairy': 1, 'crabbe': 1, 'goyle': 1, 'blinking': 1, 'sunlight': 2, 'swinging': 1, 'beaters': 1, 'bats': 1, 'side': 1, 'gleaming': 1, 'bowler': 2, 'hat': 3, 'entirely': 1, 'mistaken': 1, 'impression': 2, 'dealing': 1, 'spirit': 1, 'moody': 3, 'aware': 2, 'business': 1, 'goes': 1, 'fill': 1, 'books': 1, 'tonks': 1, 'whose': 2, 'pushing': 1, 'reveal': 1, 'revolving': 1, 'magical': 1, 'eye': 1, 'backwards': 1, 'collided': 1, 'painfully': 1, 'luggage': 1, 'trolley': 1, 'give': 1, 'us': 4, 'three': 2, 'days': 2, 'row': 1, 'send': 1, 'coming': 3, 'feeling': 1, 'mid': 1, 'laughter': 1, 'clambered': 1, 'trunk': 1, 'wrenched': 1, 'deep': 2, 'daresay': 1, 'ran': 1, 'halt': 1, 'steps': 1, 'bottom': 1, 'long': 3, 'experience': 1, 'taught': 1, 'remain': 1, 'arm': 1, 'waist': 1, 'length': 1, 'beard': 1, 'moon': 1, 'spectacles': 1, 'perched': 1, 'crooked': 2, 'nose': 2, 'black': 2, 'traveling': 1, '1': 1, 'bushy': 1, 'dressing': 1, 'gown': 1, 'judging': 1, 'stunned': 2, 'disbelief': 1, 'threshold': 1, 'since': 2, 'visit': 2, 'peering': 1, 'doubt': 1, 'speech': 1, 'return': 1, '—': 2, 'temple': 1, 'reaching': 1, 'asked': 5, 'anxiously': 1, 'indeed': 1, 'discuss': 1, 'prefer': 1, 'shall': 2, 'upon': 1, 'entered': 1, 'shoulder': 1, 'wand': 1, 'rapidly': 1, 'barely': 1, 'casual': 1, 'flick': 1, 'headed': 1, 'add': 1, 'piece': 1, 'rucksack': 1, 'filled': 1, 'taking': 1, 'appeared': 1, 'top': 1, 'strolled': 1, 'downstairs': 1, 'pockets': 1, 'searched': 1, 'tone': 1, '¨c': 13, 'glaring': 2, 'staying': 2, 'felt': 2, 'mixture': 1, 'changing': 1, 'twenty': 1, 'packing': 1, 'unaware': 1, 'added': 1, 'case': 1, 'attempted': 1, 'boot': 1, 'collapsed': 1, 'pain': 1, 'according': 1, 'pacing': 1, 'repeated': 1, 'voldemort': 1, 'impatiently': 1, 'hundred': 1, 'already': 1, 'kingsley': 2, 'weasley': 1, 'shoulders': 1, 'angrily': 1, 'guessed': 1, 'attempting': 1, 'ward': 1, 'fully': 1, 'grown': 1, 'arrival': 1, 'shacklebolt': 1, 'arthur': 1, 'continued': 1, 'pace': 1, 'hung': 1, 'low': 1, 'lawn': 1, 'ministry': 1, 'abruptly': 1, 'surprised': 1, 'protect': 1, 'seems': 1, 'innocent': 1, 'victims': 1, 'guilty': 1, 'marked': 1, 'ought': 1, 'protection': 1, 'laughed': 2, 'attacked': 1, 'course': 2, 'hundreds': 1, 'thousands': 1, 'seeing': 1, 'feed': 1, 'despair': 1, 'hope': 1, 'seventeen': 1, 'death': 1, 'eaters': 1, 'inferi': 1, 'means': 1, 'bodies': 1, 'enchanted': 1, 'dark': 1, 'wizard': 1, 'ruddy': 1, 'spluttered': 1, 'clever': 2, 'personally': 1, 'utterly': 1, 'dedalus': 3, 'clearly': 1, 'losing': 1, 'confidence': 1, 'plan': 1, 'muttered': 1, 'rippling': 1, 'indignantly': 1, 'neither': 1, 'hestia': 4, 'clear': 1, 'frightening': 1, 'broke': 1, 'silence': 1, 'surely': 1, 'bewildered': 2, 'certainly': 2, 'hurry': 2, 'marched': 2, 'follow': 2, 'outraged': 1, 'attitude': 1, 'witches': 1})}\n",
            "Co-occurrence Matrix Shape: torch.Size([4298, 4298])\n"
          ]
        }
      ],
      "source": [
        "from typing import List, Dict, Tuple\n",
        "import string\n",
        "from collections import defaultdict\n",
        "from nltk.corpus import stopwords\n",
        "import nltk\n",
        "import torch\n",
        "import re\n",
        "import os\n",
        "import numpy as np\n",
        "\n",
        "# Make sure to download stopwords once\n",
        "nltk.download('stopwords')\n",
        "\n",
        "def read_book_files(files: List[str], cutoff: int = 10, window_size: int = 20, verbose: bool = False) -> Tuple[Dict[str, int], Dict[str, Dict[str, int]], torch.Tensor]:\n",
        "    \"\"\"\n",
        "    Input:\n",
        "        files - a list of file paths;\n",
        "        cutoff - vocabulary excludes words with occurrence counts < cutoff;\n",
        "        window_size - size of the left and right windows (individually);\n",
        "        verbose - when set to False, prints nothing.\n",
        "    Outputs a tuple of:\n",
        "        voc - mapping of vocabulary words to indices;\n",
        "        dd_cnt - dictionary of dictionaries containing co-occurrence counts;\n",
        "        X - Tensor with |vocab| x |vocab| size representing co-occurrence counts.\n",
        "    \"\"\"\n",
        "    list_of_books = files\n",
        "    my_vocab = defaultdict(int)\n",
        "\n",
        "    # Get the standard list of stopwords\n",
        "    stop_words = set(stopwords.words('english'))\n",
        "\n",
        "    # Define a set of tokens to always retain\n",
        "    always_keep_tokens = {'—', '¨c', '1', '”'}\n",
        "\n",
        "    # Define a translation table to remove all punctuations except the tokens in always_keep_tokens\n",
        "    punctuation_to_replace = string.punctuation.replace('—', '').replace('”', '')\n",
        "    translator = str.maketrans(punctuation_to_replace, ' ' * len(punctuation_to_replace))\n",
        "\n",
        "    # Step 1: Build the vocabulary\n",
        "    for book in list_of_books:\n",
        "        with open(book, \"r\", encoding=\"utf-8\", errors=\"ignore\") as f:\n",
        "            # Skip the first line (assuming it is the title)\n",
        "            next(f)\n",
        "\n",
        "            for line in f:\n",
        "                # Remove enclosing quotes if present\n",
        "                line = line.strip().strip('\"')\n",
        "\n",
        "                # Replace punctuations with a space (excluding '—' and '”')\n",
        "                my_line = line.translate(translator)\n",
        "\n",
        "                # Process each word in the line\n",
        "                for word in my_line.split():\n",
        "                    word = word.lower()\n",
        "\n",
        "                    # If the word is in the always_keep_tokens, include it in the vocabulary\n",
        "                    if word in always_keep_tokens:\n",
        "                        my_vocab[word] += 1\n",
        "                    # Apply normal rules for other words\n",
        "                    elif word not in stop_words and (word.isalpha() or word in always_keep_tokens):\n",
        "                        my_vocab[word] += 1\n",
        "\n",
        "    # Remove words with counts < cutoff\n",
        "    my_new_vocab = {k: v for k, v in my_vocab.items() if v >= cutoff}\n",
        "    if verbose:\n",
        "        print(f\"Number of unique words after cutoff: {len(my_new_vocab)}\")\n",
        "\n",
        "    # Step 2: Sort the vocabulary and create a vocabulary index mapping\n",
        "    sorted_vocab_list = sorted(my_new_vocab.keys())\n",
        "    vocab_index = {word: idx for idx, word in enumerate(sorted_vocab_list)}\n",
        "\n",
        "    # Step 3: Initialize co-occurrence dictionary and matrix\n",
        "    dd_cnt = defaultdict(lambda: defaultdict(int))\n",
        "    vocab_size = len(sorted_vocab_list)\n",
        "    X = torch.zeros((vocab_size, vocab_size), dtype=torch.int32)\n",
        "\n",
        "    # Step 4: Populate co-occurrence counts using efficient matrix operations\n",
        "    for book in list_of_books:\n",
        "        with open(book, \"r\", encoding=\"utf-8\", errors=\"ignore\") as f:\n",
        "            next(f)\n",
        "            chapter_lines = []\n",
        "\n",
        "            # Read all lines in the chapter\n",
        "            for line in f:\n",
        "                line = line.strip().strip('\"')\n",
        "                my_line = line.translate(translator)\n",
        "                chapter_lines.append(my_line.lower())\n",
        "\n",
        "            # Tokenize the entire chapter\n",
        "            chapter_text = ' '.join(chapter_lines)\n",
        "            tokens = chapter_text.split()\n",
        "            tokens = [t for t in tokens if t in vocab_index]\n",
        "\n",
        "            # Create a list of indices for the tokens\n",
        "            token_indices = [vocab_index[word] for word in tokens]\n",
        "\n",
        "            # Use a sliding window to populate co-occurrence counts\n",
        "            for idx in range(len(token_indices)):\n",
        "                word_idx = token_indices[idx]\n",
        "                left_context = token_indices[max(0, idx - window_size): idx]\n",
        "                right_context = token_indices[idx + 1: idx + 1 + window_size]\n",
        "                context = left_context + right_context\n",
        "\n",
        "                # Update co-occurrence matrix using tensor operations\n",
        "                context_indices = torch.tensor(context, dtype=torch.long)\n",
        "                X[word_idx, context_indices] += 1\n",
        "\n",
        "                # Update co-occurrence dictionary\n",
        "                for context_word_idx in context:\n",
        "                    context_word = sorted_vocab_list[context_word_idx]\n",
        "                    dd_cnt[sorted_vocab_list[word_idx]][context_word] += 1\n",
        "\n",
        "    return vocab_index, dd_cnt, X\n",
        "\n",
        "\n",
        "# Example usage\n",
        "voc, dd_cnt, my_X = read_book_files(\n",
        "    [\"HPBook1.txt\", \"HPBook2.txt\", \"HPBook3.txt\", \"HPBook4.txt\", \"HPBook5.txt\", \"HPBook6.txt\", \"HPBook7.txt\"],\n",
        "    cutoff=16,\n",
        "    window_size=20,\n",
        "    verbose=True\n",
        ")\n",
        "\n",
        "print(\"Vocabulary:\", voc)\n",
        "print(\"Co-occurrence Dictionary Sample:\", dict(list(dd_cnt.items())[:5]))\n",
        "print(\"Co-occurrence Matrix Shape:\", my_X.shape)\n"
      ]
    },
    {
      "cell_type": "code",
      "execution_count": 43,
      "metadata": {},
      "outputs": [
        {
          "name": "stdout",
          "output_type": "stream",
          "text": [
            "{'1': 0, 'aback': 1, 'abandoned': 2, 'abbott': 3, 'aberforth': 4, 'ability': 5, 'able': 6, 'abou': 7, 'abruptly': 8, 'absence': 9, 'absolutely': 10, 'accept': 11, 'accepted': 12, 'accident': 13, 'accidentally': 14, 'accidents': 15, 'accio': 16, 'accompanied': 17, 'according': 18, 'account': 19, 'achieved': 20, 'aching': 21, 'across': 22, 'act': 23, 'acted': 24, 'acting': 25, 'action': 26, 'actually': 27, 'add': 28, 'added': 29, 'adding': 30, 'address': 31, 'addressed': 32, 'admit': 33, 'admitted': 34, 'advanced': 35, 'advancing': 36, 'advantage': 37, 'adventure': 38, 'advice': 39, 'advised': 40, 'afford': 41, 'afraid': 42, 'afternoon': 43, 'afterward': 44, 'age': 45, 'aged': 46, 'ages': 47, 'ago': 48, 'agony': 49, 'agree': 50, 'agreed': 51, 'ah': 52, 'ahead': 53, 'aid': 54, 'aim': 55, 'aimed': 56, 'aiming': 57, 'air': 58, 'aisle': 59, 'ajar': 60, 'alarm': 61, 'alarmed': 62, 'albus': 63, 'alecto': 64, 'alert': 65, 'alicia': 66, 'alive': 67, 'alley': 68, 'alleyway': 69, 'allow': 70, 'allowed': 71, 'allowing': 72, 'almost': 73, 'alone': 74, 'along': 75, 'alongside': 76, 'aloud': 77, 'already': 78, 'also': 79, 'although': 80, 'always': 81, 'amazed': 82, 'amazement': 83, 'amazing': 84, 'ambition': 85, 'among': 86, 'amongst': 87, 'amos': 88, 'amount': 89, 'amused': 90, 'amusing': 91, 'amycus': 92, 'ancient': 93, 'angelina': 94, 'anger': 95, 'angle': 96, 'angrily': 97, 'angry': 98, 'animagus': 99, 'animal': 100, 'animals': 101, 'ankle': 102, 'ankles': 103, 'announced': 104, 'annoyed': 105, 'another': 106, 'answer': 107, 'answered': 108, 'answering': 109, 'answers': 110, 'anti': 111, 'antidote': 112, 'antidotes': 113, 'anxious': 114, 'anxiously': 115, 'anybody': 116, 'anymore': 117, 'anyone': 118, 'anythin': 119, 'anything': 120, 'anyway': 121, 'anywhere': 122, 'apart': 123, 'appalled': 124, 'apparate': 125, 'apparently': 126, 'apparition': 127, 'appear': 128, 'appearance': 129, 'appeared': 130, 'appearing': 131, 'applause': 132, 'appointment': 133, 'appreciate': 134, 'apprehensive': 135, 'approach': 136, 'approached': 137, 'approaching': 138, 'approval': 139, 'aragog': 140, 'archway': 141, 'area': 142, 'argue': 143, 'arguing': 144, 'argument': 145, 'argus': 146, 'ariana': 147, 'arithmancy': 148, 'arm': 149, 'armchair': 150, 'armchairs': 151, 'armed': 152, 'armor': 153, 'arms': 154, 'army': 155, 'around': 156, 'arranged': 157, 'arrested': 158, 'arrival': 159, 'arrive': 160, 'arrived': 161, 'arriving': 162, 'arrogant': 163, 'arry': 164, 'arthur': 165, 'article': 166, 'arts': 167, 'ashamed': 168, 'aside': 169, 'ask': 170, 'asked': 171, 'asking': 172, 'asleep': 173, 'assistant': 174, 'assume': 175, 'assure': 176, 'assured': 177, 'astonished': 178, 'astonishment': 179, 'astronomy': 180, 'ate': 181, 'atmosphere': 182, 'atrium': 183, 'attached': 184, 'attack': 185, 'attacked': 186, 'attacking': 187, 'attacks': 188, 'attempt': 189, 'attempted': 190, 'attempting': 191, 'attempts': 192, 'attend': 193, 'attention': 194, 'attitude': 195, 'august': 196, 'aunt': 197, 'auntie': 198, 'auror': 199, 'aurors': 200, 'authority': 201, 'automatically': 202, 'avada': 203, 'ave': 204, 'avery': 205, 'avoid': 206, 'avoided': 207, 'avoiding': 208, 'awake': 209, 'award': 210, 'aware': 211, 'away': 212, 'awful': 213, 'awkward': 214, 'awkwardly': 215, 'awoke': 216, 'azkaban': 217, 'b': 218, 'baby': 219, 'back': 220, 'backed': 221, 'backing': 222, 'backs': 223, 'backward': 224, 'backwards': 225, 'bacon': 226, 'bad': 227, 'badge': 228, 'badges': 229, 'badly': 230, 'bag': 231, 'bagman': 232, 'bags': 233, 'bagshot': 234, 'bald': 235, 'balding': 236, 'ball': 237, 'balls': 238, 'bane': 239, 'bang': 240, 'banged': 241, 'banging': 242, 'bangs': 243, 'bank': 244, 'banned': 245, 'bar': 246, 'bare': 247, 'barely': 248, 'barked': 249, 'barman': 250, 'barn': 251, 'baron': 252, 'barrier': 253, 'bars': 254, 'barty': 255, 'basilisk': 256, 'basin': 257, 'basket': 258, 'bat': 259, 'bath': 260, 'bathilda': 261, 'bathroom': 262, 'bats': 263, 'battered': 264, 'battle': 265, 'beaded': 266, 'beak': 267, 'beam': 268, 'beamed': 269, 'beaming': 270, 'beans': 271, 'bear': 272, 'beard': 273, 'bearded': 274, 'bearing': 275, 'beast': 276, 'beat': 277, 'beaten': 278, 'beaters': 279, 'beating': 280, 'beautiful': 281, 'beauxbatons': 282, 'became': 283, 'beckoned': 284, 'become': 285, 'becoming': 286, 'bed': 287, 'bedroom': 288, 'beds': 289, 'bedside': 290, 'beedle': 291, 'beetle': 292, 'beg': 293, 'began': 294, 'begin': 295, 'beginning': 296, 'begun': 297, 'behavior': 298, 'behind': 299, 'believe': 300, 'believed': 301, 'believes': 302, 'believing': 303, 'bell': 304, 'bellatrix': 305, 'bellowed': 306, 'belong': 307, 'belonged': 308, 'belongs': 309, 'bench': 310, 'benches': 311, 'bend': 312, 'bending': 313, 'beneath': 314, 'bent': 315, 'bertha': 316, 'beside': 317, 'best': 318, 'bet': 319, 'betrayed': 320, 'better': 321, 'bewildered': 322, 'bewitched': 323, 'beyond': 324, 'bezoar': 325, 'big': 326, 'bigger': 327, 'biggest': 328, 'bike': 329, 'bill': 330, 'billowing': 331, 'bin': 332, 'binding': 333, 'binns': 334, 'bird': 335, 'birds': 336, 'birthday': 337, 'bit': 338, 'bite': 339, 'biting': 340, 'bits': 341, 'bitten': 342, 'bitter': 343, 'bitterly': 344, 'bizarre': 345, 'black': 346, 'blackboard': 347, 'blackened': 348, 'blackness': 349, 'blame': 350, 'blank': 351, 'blankets': 352, 'blankly': 353, 'blast': 354, 'blasted': 355, 'blazing': 356, 'bleeding': 357, 'blew': 358, 'blimey': 359, 'blind': 360, 'blinding': 361, 'blink': 362, 'blinked': 363, 'blinking': 364, 'block': 365, 'blocked': 366, 'blocking': 367, 'bloke': 368, 'blond': 369, 'blonde': 370, 'blood': 371, 'bloodshot': 372, 'bloody': 373, 'blotts': 374, 'blow': 375, 'blowing': 376, 'blown': 377, 'bludger': 378, 'bludgers': 379, 'blue': 380, 'blurred': 381, 'board': 382, 'boarded': 383, 'boat': 384, 'bobbing': 385, 'bode': 386, 'bodies': 387, 'body': 388, 'boggart': 389, 'boiling': 390, 'bolt': 391, 'bone': 392, 'bones': 393, 'book': 394, 'books': 395, 'boomed': 396, 'booming': 397, 'boot': 398, 'boots': 399, 'bore': 400, 'bored': 401, 'borgin': 402, 'boring': 403, 'born': 404, 'borns': 405, 'borrow': 406, 'borrowed': 407, 'bother': 408, 'bothered': 409, 'bothering': 410, 'bottle': 411, 'bottles': 412, 'bottom': 413, 'bought': 414, 'bounced': 415, 'bouncing': 416, 'bound': 417, 'bounded': 418, 'bow': 419, 'bowed': 420, 'bowing': 421, 'bowl': 422, 'bowler': 423, 'box': 424, 'boxes': 425, 'boy': 426, 'boys': 427, 'brain': 428, 'brains': 429, 'branch': 430, 'branches': 431, 'brand': 432, 'brandishing': 433, 'brass': 434, 'brave': 435, 'bread': 436, 'break': 437, 'breakfast': 438, 'breaking': 439, 'breath': 440, 'breathe': 441, 'breathed': 442, 'breathing': 443, 'breathless': 444, 'breathlessly': 445, 'breeze': 446, 'brick': 447, 'bridge': 448, 'brief': 449, 'briefly': 450, 'bright': 451, 'brightly': 452, 'brilliant': 453, 'bring': 454, 'bringing': 455, 'briskly': 456, 'britain': 457, 'broad': 458, 'broadly': 459, 'broke': 460, 'broken': 461, 'bronze': 462, 'broom': 463, 'brooms': 464, 'broomstick': 465, 'broomsticks': 466, 'brother': 467, 'brothers': 468, 'brought': 469, 'brow': 470, 'brown': 471, 'brushed': 472, 'brushing': 473, 'brutal': 474, 'bu': 475, 'bubble': 476, 'bubbles': 477, 'buckbeak': 478, 'bucket': 479, 'building': 480, 'built': 481, 'bulgarian': 482, 'bulging': 483, 'bunch': 484, 'bunk': 485, 'buried': 486, 'burkes': 487, 'burn': 488, 'burned': 489, 'burning': 490, 'burrow': 491, 'burst': 492, 'bursting': 493, 'bus': 494, 'bush': 495, 'bushes': 496, 'bushy': 497, 'business': 498, 'bustled': 499, 'bustling': 500, 'busy': 501, 'butterbeer': 502, 'button': 503, 'buy': 504, 'buying': 505, 'buzzing': 506, 'bye': 507, 'c': 508, 'cabin': 509, 'cabinet': 510, 'cackling': 511, 'cadogan': 512, 'cage': 513, 'cake': 514, 'cakes': 515, 'call': 516, 'called': 517, 'calling': 518, 'calm': 519, 'calmly': 520, 'came': 521, 'camera': 522, 'campsite': 523, 'candle': 524, 'candlelight': 525, 'candles': 526, 'cannot': 527, 'canvas': 528, 'capable': 529, 'captain': 530, 'capture': 531, 'car': 532, 'card': 533, 'cards': 534, 'care': 535, 'cared': 536, 'career': 537, 'careful': 538, 'carefully': 539, 'cares': 540, 'caretaker': 541, 'carpet': 542, 'carriage': 543, 'carriages': 544, 'carried': 545, 'carrows': 546, 'carry': 547, 'carrying': 548, 'cars': 549, 'cart': 550, 'carved': 551, 'case': 552, 'cast': 553, 'casting': 554, 'castle': 555, 'casual': 556, 'casually': 557, 'cat': 558, 'catch': 559, 'catching': 560, 'cats': 561, 'cattermole': 562, 'caught': 563, 'cauldron': 564, 'cauldrons': 565, 'cause': 566, 'caused': 567, 'causing': 568, 'caution': 569, 'cautiously': 570, 'cave': 571, 'cedric': 572, 'ceiling': 573, 'cellar': 574, 'centaur': 575, 'centaurs': 576, 'center': 577, 'centuries': 578, 'century': 579, 'certain': 580, 'certainly': 581, 'chain': 582, 'chained': 583, 'chains': 584, 'chair': 585, 'chairs': 586, 'chamber': 587, 'champion': 588, 'champions': 589, 'chance': 590, 'chances': 591, 'chandelier': 592, 'chang': 593, 'change': 594, 'changed': 595, 'changing': 596, 'chapter': 597, 'charge': 598, 'charged': 599, 'charlie': 600, 'charm': 601, 'charming': 602, 'charms': 603, 'chart': 604, 'chase': 605, 'chased': 606, 'chaser': 607, 'chasers': 608, 'chasing': 609, 'chat': 610, 'chattering': 611, 'check': 612, 'checked': 613, 'checking': 614, 'cheek': 615, 'cheeks': 616, 'cheer': 617, 'cheered': 618, 'cheerful': 619, 'cheerfully': 620, 'cheering': 621, 'cheers': 622, 'chess': 623, 'chest': 624, 'chewing': 625, 'chicken': 626, 'child': 627, 'children': 628, 'chill': 629, 'chilly': 630, 'chin': 631, 'cho': 632, 'chocolate': 633, 'choice': 634, 'choked': 635, 'choose': 636, 'chose': 637, 'chosen': 638, 'christmas': 639, 'chuckled': 640, 'church': 641, 'circle': 642, 'circling': 643, 'circular': 644, 'circumstances': 645, 'clambered': 646, 'clamped': 647, 'clanking': 648, 'clapped': 649, 'clapping': 650, 'class': 651, 'classes': 652, 'classroom': 653, 'clatter': 654, 'clattering': 655, 'clean': 656, 'cleaning': 657, 'clear': 658, 'cleared': 659, 'clearer': 660, 'clearing': 661, 'clearly': 662, 'clenched': 663, 'clever': 664, 'clicked': 665, 'clicking': 666, 'cliff': 667, 'climb': 668, 'climbed': 669, 'climbing': 670, 'clipboard': 671, 'cloak': 672, 'cloaks': 673, 'clock': 674, 'close': 675, 'closed': 676, 'closely': 677, 'closer': 678, 'closest': 679, 'closing': 680, 'clothes': 681, 'cloud': 682, 'clouds': 683, 'club': 684, 'clue': 685, 'clunk': 686, 'clutched': 687, 'clutching': 688, 'coat': 689, 'coffee': 690, 'coins': 691, 'cold': 692, 'coldly': 693, 'cole': 694, 'colin': 695, 'collapsed': 696, 'collar': 697, 'collect': 698, 'collecting': 699, 'collection': 700, 'collided': 701, 'color': 702, 'colored': 703, 'colour': 704, 'come': 705, 'comes': 706, 'comfort': 707, 'comfortable': 708, 'comin': 709, 'coming': 710, 'command': 711, 'committee': 712, 'common': 713, 'community': 714, 'company': 715, 'compared': 716, 'compartment': 717, 'compete': 718, 'complain': 719, 'complaining': 720, 'complete': 721, 'completely': 722, 'complex': 723, 'complicated': 724, 'concealed': 725, 'concentrate': 726, 'concentrating': 727, 'concentration': 728, 'concern': 729, 'concerned': 730, 'condition': 731, 'conditions': 732, 'confederation': 733, 'confidence': 734, 'confident': 735, 'confused': 736, 'confusion': 737, 'conjured': 738, 'connected': 739, 'connection': 740, 'conscious': 741, 'consider': 742, 'considerable': 743, 'considered': 744, 'considering': 745, 'constant': 746, 'contact': 747, 'contained': 748, 'containing': 749, 'contents': 750, 'continue': 751, 'continued': 752, 'continuing': 753, 'contorted': 754, 'contrary': 755, 'control': 756, 'controlled': 757, 'conversation': 758, 'convince': 759, 'convinced': 760, 'cooking': 761, 'cool': 762, 'coolly': 763, 'copies': 764, 'copy': 765, 'cornelius': 766, 'corner': 767, 'cornered': 768, 'corners': 769, 'correct': 770, 'corrected': 771, 'corridor': 772, 'corridors': 773, 'cost': 774, 'cottage': 775, 'cough': 776, 'could': 777, 'count': 778, 'counted': 779, 'counter': 780, 'counting': 781, 'country': 782, 'couple': 783, 'courage': 784, 'course': 785, 'court': 786, 'courtyard': 787, 'cousin': 788, 'cover': 789, 'covered': 790, 'covering': 791, 'covers': 792, 'cowering': 793, 'cozy': 794, 'crabbe': 795, 'crack': 796, 'cracked': 797, 'crackling': 798, 'crammed': 799, 'craning': 800, 'crash': 801, 'crashed': 802, 'crashing': 803, 'crate': 804, 'crawled': 805, 'creaked': 806, 'creaking': 807, 'cream': 808, 'creature': 809, 'creatures': 810, 'creeping': 811, 'creevey': 812, 'crept': 813, 'cried': 814, 'cries': 815, 'crime': 816, 'croaked': 817, 'crooked': 818, 'crookshanks': 819, 'cross': 820, 'crossbow': 821, 'crossed': 822, 'crossing': 823, 'crouch': 824, 'crouched': 825, 'crouching': 826, 'crowd': 827, 'crowded': 828, 'cruciatus': 829, 'cruel': 830, 'crumpled': 831, 'cry': 832, 'crying': 833, 'crystal': 834, 'cup': 835, 'cupboard': 836, 'cups': 837, 'curiosity': 838, 'curious': 839, 'curiously': 840, 'curled': 841, 'curling': 842, 'curly': 843, 'currently': 844, 'curse': 845, 'cursed': 846, 'curses': 847, 'curtain': 848, 'curtains': 849, 'curtly': 850, 'curved': 851, 'cushion': 852, 'cushions': 853, 'cut': 854, 'cuts': 855, 'cutting': 856, 'da': 857, 'dad': 858, 'daddy': 859, 'daily': 860, 'dais': 861, 'damage': 862, 'damn': 863, 'damp': 864, 'dance': 865, 'dancing': 866, 'danger': 867, 'dangerous': 868, 'dangerously': 869, 'dangling': 870, 'dare': 871, 'dared': 872, 'daresay': 873, 'daring': 874, 'dark': 875, 'darker': 876, 'darkly': 877, 'darkness': 878, 'darted': 879, 'darting': 880, 'dashed': 881, 'dashing': 882, 'date': 883, 'daughter': 884, 'davies': 885, 'dawlish': 886, 'dawn': 887, 'day': 888, 'daylight': 889, 'days': 890, 'dazed': 891, 'dazzling': 892, 'de': 893, 'dead': 894, 'deadly': 895, 'deafening': 896, 'deal': 897, 'dealing': 898, 'dean': 899, 'dear': 900, 'death': 901, 'deathly': 902, 'deaths': 903, 'decent': 904, 'decide': 905, 'decided': 906, 'decision': 907, 'decorated': 908, 'decree': 909, 'dedalus': 910, 'deep': 911, 'deeper': 912, 'deepest': 913, 'deeply': 914, 'defeated': 915, 'defence': 916, 'defend': 917, 'defense': 918, 'defensive': 919, 'defiantly': 920, 'definite': 921, 'definitely': 922, 'delacour': 923, 'deliberately': 924, 'delicious': 925, 'delight': 926, 'delighted': 927, 'deliver': 928, 'delivered': 929, 'deluminator': 930, 'demanded': 931, 'dementor': 932, 'dementors': 933, 'dennis': 934, 'deny': 935, 'departed': 936, 'department': 937, 'departure': 938, 'depths': 939, 'descended': 940, 'descending': 941, 'described': 942, 'deserted': 943, 'deserve': 944, 'deserved': 945, 'desire': 946, 'desk': 947, 'desks': 948, 'despair': 949, 'desperate': 950, 'desperately': 951, 'desperation': 952, 'despite': 953, 'destination': 954, 'destroy': 955, 'destroyed': 956, 'detail': 957, 'details': 958, 'detention': 959, 'detentions': 960, 'determination': 961, 'determined': 962, 'devil': 963, 'devoted': 964, 'diadem': 965, 'diagon': 966, 'diary': 967, 'die': 968, 'died': 969, 'difference': 970, 'different': 971, 'difficult': 972, 'difficulty': 973, 'diggory': 974, 'dim': 975, 'dimly': 976, 'dinner': 977, 'dippet': 978, 'directed': 979, 'direction': 980, 'directions': 981, 'directly': 982, 'dirk': 983, 'dirty': 984, 'disapparate': 985, 'disapparated': 986, 'disappear': 987, 'disappeared': 988, 'disappearing': 989, 'disappointed': 990, 'disappointment': 991, 'disbelief': 992, 'discover': 993, 'discovered': 994, 'discuss': 995, 'discussed': 996, 'discussing': 997, 'discussion': 998, 'disgruntled': 999, 'disguise': 1000, 'disgust': 1001, 'disgusting': 1002, 'dislike': 1003, 'display': 1004, 'dissolved': 1005, 'distance': 1006, 'distant': 1007, 'distinct': 1008, 'distinctly': 1009, 'distracted': 1010, 'distractedly': 1011, 'disturbed': 1012, 'dive': 1013, 'dived': 1014, 'divination': 1015, 'dobby': 1016, 'dodged': 1017, 'doe': 1018, 'dog': 1019, 'doge': 1020, 'doin': 1021, 'dolohov': 1022, 'dolores': 1023, 'done': 1024, 'door': 1025, 'doorknob': 1026, 'doors': 1027, 'doorway': 1028, 'dormitories': 1029, 'dormitory': 1030, 'dot': 1031, 'double': 1032, 'doubt': 1033, 'doubted': 1034, 'downstairs': 1035, 'dozen': 1036, 'draco': 1037, 'drag': 1038, 'dragged': 1039, 'dragging': 1040, 'dragon': 1041, 'dragons': 1042, 'drained': 1043, 'dramatically': 1044, 'drank': 1045, 'draped': 1046, 'draught': 1047, 'draw': 1048, 'drawer': 1049, 'drawers': 1050, 'drawing': 1051, 'drawn': 1052, 'dread': 1053, 'dreadful': 1054, 'dreading': 1055, 'dream': 1056, 'dreamed': 1057, 'dreaming': 1058, 'dreams': 1059, 'dress': 1060, 'dressed': 1061, 'dressing': 1062, 'drew': 1063, 'dried': 1064, 'drifted': 1065, 'drifting': 1066, 'drink': 1067, 'drinking': 1068, 'drinks': 1069, 'dripping': 1070, 'drive': 1071, 'driven': 1072, 'driving': 1073, 'drop': 1074, 'dropped': 1075, 'dropping': 1076, 'drops': 1077, 'drove': 1078, 'drowned': 1079, 'dry': 1080, 'duck': 1081, 'ducked': 1082, 'dudley': 1083, 'due': 1084, 'duel': 1085, 'dueling': 1086, 'dug': 1087, 'dull': 1088, 'dully': 1089, 'dumbledore': 1090, 'dumbledores': 1091, 'dung': 1092, 'dungeon': 1093, 'dungeons': 1094, 'dunno': 1095, 'durmstrang': 1096, 'dursley': 1097, 'dursleys': 1098, 'dust': 1099, 'dusty': 1100, 'duty': 1101, 'dying': 1102, 'e': 1103, 'eager': 1104, 'eagerly': 1105, 'eagle': 1106, 'ear': 1107, 'earlier': 1108, 'early': 1109, 'earned': 1110, 'earnestly': 1111, 'ears': 1112, 'earshot': 1113, 'earth': 1114, 'ease': 1115, 'easier': 1116, 'easily': 1117, 'easter': 1118, 'easy': 1119, 'eat': 1120, 'eaten': 1121, 'eater': 1122, 'eaters': 1123, 'eating': 1124, 'echoed': 1125, 'echoing': 1126, 'edge': 1127, 'edged': 1128, 'edges': 1129, 'edging': 1130, 'educational': 1131, 'eerie': 1132, 'effect': 1133, 'effort': 1134, 'efforts': 1135, 'egg': 1136, 'eggs': 1137, 'eh': 1138, 'eight': 1139, 'either': 1140, 'elbow': 1141, 'elder': 1142, 'eleven': 1143, 'elf': 1144, 'elphias': 1145, 'else': 1146, 'elves': 1147, 'em': 1148, 'embarrassed': 1149, 'emerald': 1150, 'emerged': 1151, 'emerging': 1152, 'emotion': 1153, 'emptied': 1154, 'empty': 1155, 'enchanted': 1156, 'enchantments': 1157, 'enclosure': 1158, 'end': 1159, 'ended': 1160, 'ends': 1161, 'enemies': 1162, 'enemy': 1163, 'enforcement': 1164, 'engine': 1165, 'english': 1166, 'enjoy': 1167, 'enjoyed': 1168, 'enjoying': 1169, 'enormous': 1170, 'enough': 1171, 'ensure': 1172, 'enter': 1173, 'entered': 1174, 'entering': 1175, 'enthusiasm': 1176, 'enthusiastically': 1177, 'entire': 1178, 'entirely': 1179, 'entrance': 1180, 'envelope': 1181, 'equal': 1182, 'er': 1183, 'ere': 1184, 'erm': 1185, 'ern': 1186, 'ernie': 1187, 'errol': 1188, 'erupted': 1189, 'escape': 1190, 'escaped': 1191, 'especially': 1192, 'essay': 1193, 'essential': 1194, 'etched': 1195, 'even': 1196, 'evening': 1197, 'evenings': 1198, 'events': 1199, 'ever': 1200, 'every': 1201, 'everybody': 1202, 'everyone': 1203, 'everything': 1204, 'everywhere': 1205, 'evidence': 1206, 'evidently': 1207, 'evil': 1208, 'ex': 1209, 'exactly': 1210, 'exam': 1211, 'examination': 1212, 'examine': 1213, 'examined': 1214, 'examining': 1215, 'exams': 1216, 'exasperated': 1217, 'excellent': 1218, 'except': 1219, 'exceptionally': 1220, 'exchange': 1221, 'exchanged': 1222, 'excited': 1223, 'excitedly': 1224, 'excitement': 1225, 'exciting': 1226, 'excuse': 1227, 'exhausted': 1228, 'exist': 1229, 'existence': 1230, 'expect': 1231, 'expected': 1232, 'expecting': 1233, 'expecto': 1234, 'expelled': 1235, 'expelliarmus': 1236, 'experience': 1237, 'experienced': 1238, 'explain': 1239, 'explained': 1240, 'explaining': 1241, 'explanation': 1242, 'exploded': 1243, 'exploding': 1244, 'explosion': 1245, 'express': 1246, 'expression': 1247, 'expressions': 1248, 'extendable': 1249, 'extinguished': 1250, 'extra': 1251, 'extraordinary': 1252, 'extremely': 1253, 'eye': 1254, 'eyebrows': 1255, 'eyed': 1256, 'eyeing': 1257, 'eyelids': 1258, 'eyes': 1259, 'f': 1260, 'face': 1261, 'faced': 1262, 'faces': 1263, 'facing': 1264, 'fact': 1265, 'facts': 1266, 'faded': 1267, 'fading': 1268, 'fail': 1269, 'failed': 1270, 'faint': 1271, 'faintest': 1272, 'faintly': 1273, 'fair': 1274, 'fairly': 1275, 'faithful': 1276, 'fake': 1277, 'fall': 1278, 'fallen': 1279, 'falling': 1280, 'false': 1281, 'familiar': 1282, 'families': 1283, 'family': 1284, 'famous': 1285, 'fan': 1286, 'fancy': 1287, 'fang': 1288, 'fangs': 1289, 'far': 1290, 'farther': 1291, 'fascinating': 1292, 'fashion': 1293, 'fashioned': 1294, 'fast': 1295, 'faster': 1296, 'fat': 1297, 'father': 1298, 'fault': 1299, 'favor': 1300, 'favorite': 1301, 'favourite': 1302, 'fawkes': 1303, 'fear': 1304, 'feared': 1305, 'fears': 1306, 'feast': 1307, 'feather': 1308, 'feathers': 1309, 'features': 1310, 'fed': 1311, 'feeble': 1312, 'feebly': 1313, 'feed': 1314, 'feel': 1315, 'feeling': 1316, 'feelings': 1317, 'feels': 1318, 'feet': 1319, 'felicis': 1320, 'felix': 1321, 'fell': 1322, 'fellow': 1323, 'fellows': 1324, 'felt': 1325, 'female': 1326, 'fence': 1327, 'fer': 1328, 'ferret': 1329, 'fetch': 1330, 'feverishly': 1331, 'field': 1332, 'fierce': 1333, 'fiercely': 1334, 'fiery': 1335, 'fifteen': 1336, 'fifth': 1337, 'fifty': 1338, 'figg': 1339, 'fight': 1340, 'fighting': 1341, 'figure': 1342, 'figures': 1343, 'filch': 1344, 'filed': 1345, 'fill': 1346, 'filled': 1347, 'filling': 1348, 'filth': 1349, 'filthy': 1350, 'final': 1351, 'finally': 1352, 'finch': 1353, 'find': 1354, 'finding': 1355, 'finds': 1356, 'fine': 1357, 'finger': 1358, 'fingered': 1359, 'fingers': 1360, 'finish': 1361, 'finished': 1362, 'finishing': 1363, 'finnigan': 1364, 'fire': 1365, 'firebolt': 1366, 'firelight': 1367, 'firenze': 1368, 'fireplace': 1369, 'fires': 1370, 'firewhisky': 1371, 'fireworks': 1372, 'firm': 1373, 'firmly': 1374, 'firs': 1375, 'first': 1376, 'fish': 1377, 'fist': 1378, 'fists': 1379, 'fit': 1380, 'five': 1381, 'fix': 1382, 'fixed': 1383, 'flame': 1384, 'flamel': 1385, 'flames': 1386, 'flaming': 1387, 'flapped': 1388, 'flapping': 1389, 'flash': 1390, 'flashed': 1391, 'flashing': 1392, 'flask': 1393, 'flat': 1394, 'flatly': 1395, 'flattened': 1396, 'flavor': 1397, 'fled': 1398, 'fleeting': 1399, 'flesh': 1400, 'fletcher': 1401, 'fleur': 1402, 'flew': 1403, 'flick': 1404, 'flicked': 1405, 'flickered': 1406, 'flickering': 1407, 'flight': 1408, 'flint': 1409, 'flitwick': 1410, 'floated': 1411, 'floating': 1412, 'floo': 1413, 'flooded': 1414, 'flooding': 1415, 'floor': 1416, 'floors': 1417, 'flourish': 1418, 'flowers': 1419, 'flown': 1420, 'fluffy': 1421, 'flung': 1422, 'flushed': 1423, 'fluttered': 1424, 'fluttering': 1425, 'fly': 1426, 'flying': 1427, 'focus': 1428, 'focused': 1429, 'folded': 1430, 'follow': 1431, 'followed': 1432, 'followers': 1433, 'following': 1434, 'fond': 1435, 'food': 1436, 'fool': 1437, 'foolish': 1438, 'foot': 1439, 'footsteps': 1440, 'forbidden': 1441, 'force': 1442, 'forced': 1443, 'forcefully': 1444, 'forcing': 1445, 'forehead': 1446, 'foreign': 1447, 'forest': 1448, 'forever': 1449, 'forget': 1450, 'forgetting': 1451, 'forgive': 1452, 'forgot': 1453, 'forgotten': 1454, 'fork': 1455, 'form': 1456, 'formed': 1457, 'forming': 1458, 'fortune': 1459, 'forty': 1460, 'forward': 1461, 'forwards': 1462, 'fought': 1463, 'foul': 1464, 'found': 1465, 'fountain': 1466, 'four': 1467, 'fourteen': 1468, 'fourth': 1469, 'fragment': 1470, 'fragments': 1471, 'frail': 1472, 'frame': 1473, 'frames': 1474, 'frank': 1475, 'frantic': 1476, 'frantically': 1477, 'fred': 1478, 'free': 1479, 'freedom': 1480, 'freezing': 1481, 'fresh': 1482, 'freshly': 1483, 'friday': 1484, 'friend': 1485, 'friendly': 1486, 'friends': 1487, 'friendship': 1488, 'fright': 1489, 'frightened': 1490, 'frightening': 1491, 'frog': 1492, 'front': 1493, 'frowned': 1494, 'frowning': 1495, 'froze': 1496, 'frozen': 1497, 'frustration': 1498, 'fudge': 1499, 'full': 1500, 'fully': 1501, 'fumbled': 1502, 'fun': 1503, 'funeral': 1504, 'funny': 1505, 'furious': 1506, 'furiously': 1507, 'fury': 1508, 'future': 1509, 'g': 1510, 'gain': 1511, 'gained': 1512, 'galleon': 1513, 'galleons': 1514, 'galloping': 1515, 'game': 1516, 'gamekeeper': 1517, 'games': 1518, 'gang': 1519, 'gap': 1520, 'gaped': 1521, 'gaping': 1522, 'garden': 1523, 'gargoyle': 1524, 'gas': 1525, 'gasp': 1526, 'gasped': 1527, 'gasping': 1528, 'gate': 1529, 'gates': 1530, 'gather': 1531, 'gathered': 1532, 'gathering': 1533, 'gaunt': 1534, 'gave': 1535, 'gaze': 1536, 'gazed': 1537, 'gazing': 1538, 'general': 1539, 'generally': 1540, 'gentle': 1541, 'gently': 1542, 'george': 1543, 'gesture': 1544, 'gestured': 1545, 'gesturing': 1546, 'get': 1547, 'gets': 1548, 'gettin': 1549, 'getting': 1550, 'ghost': 1551, 'ghostly': 1552, 'ghosts': 1553, 'giant': 1554, 'giants': 1555, 'gift': 1556, 'gigantic': 1557, 'giggled': 1558, 'giggling': 1559, 'gilderoy': 1560, 'ginger': 1561, 'ginny': 1562, 'girl': 1563, 'girlfriend': 1564, 'girls': 1565, 'git': 1566, 'give': 1567, 'given': 1568, 'gives': 1569, 'giving': 1570, 'glad': 1571, 'glance': 1572, 'glanced': 1573, 'glancing': 1574, 'glare': 1575, 'glared': 1576, 'glaring': 1577, 'glass': 1578, 'glasses': 1579, 'gleamed': 1580, 'gleaming': 1581, 'gleefully': 1582, 'glided': 1583, 'gliding': 1584, 'glimpse': 1585, 'glimpsed': 1586, 'glinting': 1587, 'glittered': 1588, 'glittering': 1589, 'gloom': 1590, 'gloomily': 1591, 'gloomy': 1592, 'glory': 1593, 'gloves': 1594, 'glow': 1595, 'glowed': 1596, 'glowering': 1597, 'glowing': 1598, 'gnarled': 1599, 'gnome': 1600, 'gnomes': 1601, 'go': 1602, 'goal': 1603, 'goals': 1604, 'goblet': 1605, 'goblets': 1606, 'goblin': 1607, 'goblins': 1608, 'god': 1609, 'godfather': 1610, 'godric': 1611, 'goes': 1612, 'goggling': 1613, 'goin': 1614, 'going': 1615, 'gold': 1616, 'golden': 1617, 'gone': 1618, 'good': 1619, 'goodness': 1620, 'got': 1621, 'gotta': 1622, 'gotten': 1623, 'gown': 1624, 'goyle': 1625, 'grab': 1626, 'grabbed': 1627, 'grabbing': 1628, 'grade': 1629, 'gran': 1630, 'grandfather': 1631, 'grandmother': 1632, 'granger': 1633, 'grasp': 1634, 'grasped': 1635, 'grass': 1636, 'grate': 1637, 'grateful': 1638, 'grave': 1639, 'graveyard': 1640, 'grawp': 1641, 'gray': 1642, 'greasy': 1643, 'great': 1644, 'greater': 1645, 'greatest': 1646, 'greatly': 1647, 'green': 1648, 'greenhouse': 1649, 'greenhouses': 1650, 'greenish': 1651, 'greeted': 1652, 'gregorovitch': 1653, 'grew': 1654, 'grey': 1655, 'greyback': 1656, 'grief': 1657, 'grim': 1658, 'grimly': 1659, 'grimmauld': 1660, 'grin': 1661, 'grindelwald': 1662, 'gringotts': 1663, 'grinned': 1664, 'grinning': 1665, 'grip': 1666, 'griphook': 1667, 'gripped': 1668, 'gripping': 1669, 'gritted': 1670, 'groan': 1671, 'groaned': 1672, 'groped': 1673, 'ground': 1674, 'grounds': 1675, 'group': 1676, 'groups': 1677, 'grow': 1678, 'growing': 1679, 'growled': 1680, 'grown': 1681, 'grubbly': 1682, 'grubby': 1683, 'gruffly': 1684, 'grumpily': 1685, 'grunted': 1686, 'gryffindor': 1687, 'gryffindors': 1688, 'guard': 1689, 'guarding': 1690, 'guards': 1691, 'guess': 1692, 'guessed': 1693, 'guests': 1694, 'guide': 1695, 'guilt': 1696, 'guilty': 1697, 'gulp': 1698, 'gulped': 1699, 'h': 1700, 'ha': 1701, 'habit': 1702, 'hagrid': 1703, 'hair': 1704, 'haired': 1705, 'hairs': 1706, 'hairy': 1707, 'half': 1708, 'halfway': 1709, 'hall': 1710, 'halloween': 1711, 'hallows': 1712, 'hallway': 1713, 'halt': 1714, 'hammering': 1715, 'hand': 1716, 'handbag': 1717, 'handed': 1718, 'handful': 1719, 'handing': 1720, 'handkerchief': 1721, 'handle': 1722, 'hands': 1723, 'handsome': 1724, 'hang': 1725, 'hanging': 1726, 'hangings': 1727, 'hannah': 1728, 'happen': 1729, 'happened': 1730, 'happening': 1731, 'happens': 1732, 'happier': 1733, 'happily': 1734, 'happiness': 1735, 'happy': 1736, 'hard': 1737, 'harder': 1738, 'hardly': 1739, 'harm': 1740, 'harry': 1741, 'harrys': 1742, 'harsh': 1743, 'hastily': 1744, 'hat': 1745, 'hate': 1746, 'hated': 1747, 'hatred': 1748, 'hats': 1749, 'head': 1750, 'headed': 1751, 'heading': 1752, 'headless': 1753, 'headline': 1754, 'headmaster': 1755, 'headmasters': 1756, 'headmistress': 1757, 'headquarters': 1758, 'heads': 1759, 'headstone': 1760, 'healer': 1761, 'health': 1762, 'heap': 1763, 'hear': 1764, 'heard': 1765, 'hearing': 1766, 'heart': 1767, 'heartily': 1768, 'heat': 1769, 'heaved': 1770, 'heaven': 1771, 'heavens': 1772, 'heavily': 1773, 'heaving': 1774, 'heavy': 1775, 'hedge': 1776, 'hedwig': 1777, 'heel': 1778, 'heels': 1779, 'height': 1780, 'heir': 1781, 'held': 1782, 'hell': 1783, 'hello': 1784, 'help': 1785, 'helped': 1786, 'helping': 1787, 'hem': 1788, 'hepzibah': 1789, 'herbology': 1790, 'hermione': 1791, 'hero': 1792, 'hesitated': 1793, 'hestia': 1794, 'hex': 1795, 'hexes': 1796, 'hey': 1797, 'hi': 1798, 'hic': 1799, 'hid': 1800, 'hidden': 1801, 'hide': 1802, 'hiding': 1803, 'high': 1804, 'higher': 1805, 'highest': 1806, 'highly': 1807, 'hill': 1808, 'hint': 1809, 'hippogriff': 1810, 'hiss': 1811, 'hissed': 1812, 'hissing': 1813, 'history': 1814, 'hit': 1815, 'hitting': 1816, 'hmm': 1817, 'hoarse': 1818, 'hoarsely': 1819, 'hog': 1820, 'hogsmeade': 1821, 'hogwarts': 1822, 'hoisted': 1823, 'hokey': 1824, 'hold': 1825, 'holding': 1826, 'hole': 1827, 'holes': 1828, 'holiday': 1829, 'holidays': 1830, 'hollow': 1831, 'holly': 1832, 'home': 1833, 'homework': 1834, 'honest': 1835, 'honestly': 1836, 'honeydukes': 1837, 'honor': 1838, 'hooch': 1839, 'hood': 1840, 'hooded': 1841, 'hooked': 1842, 'hoop': 1843, 'hoops': 1844, 'hooted': 1845, 'hooting': 1846, 'hope': 1847, 'hoped': 1848, 'hopeful': 1849, 'hopefully': 1850, 'hopelessly': 1851, 'hoping': 1852, 'horace': 1853, 'horcrux': 1854, 'horcruxes': 1855, 'horn': 1856, 'horned': 1857, 'horntail': 1858, 'horrible': 1859, 'horribly': 1860, 'horrified': 1861, 'horror': 1862, 'horse': 1863, 'horses': 1864, 'hospital': 1865, 'hot': 1866, 'hotly': 1867, 'hour': 1868, 'hours': 1869, 'house': 1870, 'houses': 1871, 'hovering': 1872, 'however': 1873, 'howl': 1874, 'howled': 1875, 'howler': 1876, 'howling': 1877, 'huddled': 1878, 'hufflepuff': 1879, 'hufflepuffs': 1880, 'hug': 1881, 'huge': 1882, 'hugged': 1883, 'hugging': 1884, 'human': 1885, 'humans': 1886, 'hundred': 1887, 'hundreds': 1888, 'hung': 1889, 'hungry': 1890, 'hunt': 1891, 'hunting': 1892, 'hurried': 1893, 'hurriedly': 1894, 'hurry': 1895, 'hurrying': 1896, 'hurt': 1897, 'hurting': 1898, 'hurtled': 1899, 'hurtling': 1900, 'husband': 1901, 'hushed': 1902, 'hut': 1903, 'ice': 1904, 'icy': 1905, 'id': 1906, 'idea': 1907, 'ideas': 1908, 'identical': 1909, 'idiot': 1910, 'ignore': 1911, 'ignored': 1912, 'ignoring': 1913, 'ill': 1914, 'illegal': 1915, 'illuminated': 1916, 'im': 1917, 'image': 1918, 'imagination': 1919, 'imagine': 1920, 'imagined': 1921, 'imagining': 1922, 'immediate': 1923, 'immediately': 1924, 'immense': 1925, 'immensely': 1926, 'impatiently': 1927, 'imperius': 1928, 'importance': 1929, 'important': 1930, 'impossible': 1931, 'impressed': 1932, 'impression': 1933, 'impressive': 1934, 'incantation': 1935, 'inch': 1936, 'inches': 1937, 'including': 1938, 'increased': 1939, 'increasingly': 1940, 'incredible': 1941, 'incredulously': 1942, 'indeed': 1943, 'indicated': 1944, 'indicating': 1945, 'indignantly': 1946, 'indignation': 1947, 'inferi': 1948, 'information': 1949, 'informed': 1950, 'ing': 1951, 'ingredients': 1952, 'inherited': 1953, 'injured': 1954, 'injuries': 1955, 'injury': 1956, 'ink': 1957, 'inner': 1958, 'innocent': 1959, 'inquisitor': 1960, 'insane': 1961, 'inside': 1962, 'insides': 1963, 'insisted': 1964, 'instance': 1965, 'instant': 1966, 'instantly': 1967, 'instead': 1968, 'instinctively': 1969, 'instructions': 1970, 'instruments': 1971, 'insult': 1972, 'intended': 1973, 'intent': 1974, 'intently': 1975, 'inter': 1976, 'interest': 1977, 'interested': 1978, 'interesting': 1979, 'international': 1980, 'interrupted': 1981, 'interview': 1982, 'introduce': 1983, 'invented': 1984, 'investigate': 1985, 'invisibility': 1986, 'invisible': 1987, 'invitation': 1988, 'invite': 1989, 'invited': 1990, 'involved': 1991, 'ireland': 1992, 'irish': 1993, 'iron': 1994, 'irritably': 1995, 'irritated': 1996, 'issued': 1997, 'issuing': 1998, 'jacket': 1999, 'james': 2000, 'jar': 2001, 'jaw': 2002, 'jealous': 2003, 'jeans': 2004, 'jeering': 2005, 'jerk': 2006, 'jerked': 2007, 'jerking': 2008, 'jet': 2009, 'jets': 2010, 'jinx': 2011, 'jinxes': 2012, 'job': 2013, 'johnson': 2014, 'join': 2015, 'joined': 2016, 'joining': 2017, 'joke': 2018, 'joking': 2019, 'jolt': 2020, 'jordan': 2021, 'jorkins': 2022, 'journey': 2023, 'judge': 2024, 'judges': 2025, 'judging': 2026, 'jug': 2027, 'juice': 2028, 'jump': 2029, 'jumped': 2030, 'jumping': 2031, 'june': 2032, 'jus': 2033, 'justin': 2034, 'karkaroff': 2035, 'katie': 2036, 'kedavra': 2037, 'keen': 2038, 'keep': 2039, 'keeper': 2040, 'keeping': 2041, 'keeps': 2042, 'kendra': 2043, 'kept': 2044, 'kettle': 2045, 'key': 2046, 'keys': 2047, 'kick': 2048, 'kicked': 2049, 'kid': 2050, 'kidding': 2051, 'kids': 2052, 'kill': 2053, 'killed': 2054, 'killing': 2055, 'kind': 2056, 'kindly': 2057, 'king': 2058, 'kingsley': 2059, 'kiss': 2060, 'kissed': 2061, 'kissing': 2062, 'kitchen': 2063, 'kitchens': 2064, 'knee': 2065, 'kneeling': 2066, 'knees': 2067, 'knew': 2068, 'knife': 2069, 'knight': 2070, 'knives': 2071, 'knock': 2072, 'knocked': 2073, 'knocking': 2074, 'knot': 2075, 'know': 2076, 'knowing': 2077, 'knowledge': 2078, 'known': 2079, 'knows': 2080, 'knuckles': 2081, 'kreacher': 2082, 'krum': 2083, 'l': 2084, 'lace': 2085, 'lack': 2086, 'ladder': 2087, 'laden': 2088, 'ladies': 2089, 'lady': 2090, 'laid': 2091, 'lake': 2092, 'lamp': 2093, 'lamps': 2094, 'land': 2095, 'landed': 2096, 'landing': 2097, 'lane': 2098, 'language': 2099, 'lantern': 2100, 'lap': 2101, 'large': 2102, 'larger': 2103, 'largest': 2104, 'last': 2105, 'lasted': 2106, 'late': 2107, 'lately': 2108, 'later': 2109, 'laugh': 2110, 'laughed': 2111, 'laughing': 2112, 'laughter': 2113, 'launched': 2114, 'lavender': 2115, 'law': 2116, 'lawn': 2117, 'lawns': 2118, 'lay': 2119, 'lazily': 2120, 'lead': 2121, 'leading': 2122, 'league': 2123, 'leaky': 2124, 'leaned': 2125, 'leaning': 2126, 'leanne': 2127, 'leap': 2128, 'leaping': 2129, 'leapt': 2130, 'learn': 2131, 'learned': 2132, 'learning': 2133, 'least': 2134, 'leather': 2135, 'leave': 2136, 'leaves': 2137, 'leaving': 2138, 'led': 2139, 'lee': 2140, 'left': 2141, 'leg': 2142, 'legged': 2143, 'legs': 2144, 'length': 2145, 'less': 2146, 'lesson': 2147, 'lessons': 2148, 'lestrange': 2149, 'let': 2150, 'letter': 2151, 'letters': 2152, 'letting': 2153, 'level': 2154, 'liar': 2155, 'library': 2156, 'lid': 2157, 'lie': 2158, 'lied': 2159, 'lies': 2160, 'life': 2161, 'lift': 2162, 'lifted': 2163, 'lifting': 2164, 'light': 2165, 'lightly': 2166, 'lightning': 2167, 'lights': 2168, 'like': 2169, 'liked': 2170, 'likely': 2171, 'likes': 2172, 'liking': 2173, 'lily': 2174, 'lime': 2175, 'limp': 2176, 'limped': 2177, 'limping': 2178, 'line': 2179, 'lined': 2180, 'lines': 2181, 'lingered': 2182, 'lip': 2183, 'lips': 2184, 'liquid': 2185, 'list': 2186, 'listen': 2187, 'listened': 2188, 'listening': 2189, 'lit': 2190, 'littered': 2191, 'little': 2192, 'live': 2193, 'lived': 2194, 'lives': 2195, 'livid': 2196, 'living': 2197, 'load': 2198, 'loads': 2199, 'loathed': 2200, 'lock': 2201, 'locked': 2202, 'locker': 2203, 'locket': 2204, 'lockhart': 2205, 'london': 2206, 'lonely': 2207, 'long': 2208, 'longbottom': 2209, 'longer': 2210, 'longing': 2211, 'look': 2212, 'looked': 2213, 'lookin': 2214, 'looking': 2215, 'lookout': 2216, 'looks': 2217, 'loony': 2218, 'loose': 2219, 'lopsided': 2220, 'lord': 2221, 'lose': 2222, 'losing': 2223, 'loss': 2224, 'lost': 2225, 'lot': 2226, 'lots': 2227, 'loud': 2228, 'louder': 2229, 'loudly': 2230, 'love': 2231, 'loved': 2232, 'lovegood': 2233, 'lovely': 2234, 'low': 2235, 'lower': 2236, 'lowered': 2237, 'lowering': 2238, 'lucius': 2239, 'luck': 2240, 'lucky': 2241, 'ludo': 2242, 'luggage': 2243, 'lumos': 2244, 'lump': 2245, 'luna': 2246, 'lunch': 2247, 'lunged': 2248, 'lungs': 2249, 'lupin': 2250, 'lurking': 2251, 'lying': 2252, 'lynch': 2253, 'macmillan': 2254, 'macnair': 2255, 'mad': 2256, 'madam': 2257, 'madame': 2258, 'made': 2259, 'madly': 2260, 'mafalda': 2261, 'magazine': 2262, 'magic': 2263, 'magical': 2264, 'magically': 2265, 'magnificent': 2266, 'magnified': 2267, 'magnolia': 2268, 'magorian': 2269, 'mail': 2270, 'main': 2271, 'mainly': 2272, 'make': 2273, 'makes': 2274, 'making': 2275, 'malfoy': 2276, 'malfoys': 2277, 'malkin': 2278, 'man': 2279, 'manage': 2280, 'managed': 2281, 'managing': 2282, 'mane': 2283, 'manner': 2284, 'mantelpiece': 2285, 'many': 2286, 'map': 2287, 'marauder': 2288, 'marble': 2289, 'march': 2290, 'marchbanks': 2291, 'marched': 2292, 'marching': 2293, 'marge': 2294, 'marietta': 2295, 'mark': 2296, 'marked': 2297, 'marks': 2298, 'maroon': 2299, 'marquee': 2300, 'married': 2301, 'marvolo': 2302, 'masked': 2303, 'mass': 2304, 'massive': 2305, 'master': 2306, 'masters': 2307, 'match': 2308, 'mate': 2309, 'matter': 2310, 'matters': 2311, 'maxime': 2312, 'may': 2313, 'maybe': 2314, 'maze': 2315, 'mcgonagall': 2316, 'mclaggen': 2317, 'mead': 2318, 'mean': 2319, 'meaning': 2320, 'means': 2321, 'meant': 2322, 'meantime': 2323, 'meanwhile': 2324, 'measure': 2325, 'measures': 2326, 'meet': 2327, 'meeting': 2328, 'meetings': 2329, 'member': 2330, 'members': 2331, 'memories': 2332, 'memory': 2333, 'men': 2334, 'mend': 2335, 'mental': 2336, 'mention': 2337, 'mentioned': 2338, 'mercy': 2339, 'mere': 2340, 'merely': 2341, 'merlin': 2342, 'merope': 2343, 'merpeople': 2344, 'merry': 2345, 'mess': 2346, 'message': 2347, 'messing': 2348, 'met': 2349, 'metal': 2350, 'michael': 2351, 'mid': 2352, 'midair': 2353, 'middle': 2354, 'midnight': 2355, 'midst': 2356, 'might': 2357, 'mildly': 2358, 'miles': 2359, 'milk': 2360, 'millicent': 2361, 'mind': 2362, 'minds': 2363, 'mine': 2364, 'minerva': 2365, 'mingled': 2366, 'minister': 2367, 'ministry': 2368, 'minute': 2369, 'minutes': 2370, 'mirror': 2371, 'miserable': 2372, 'miserably': 2373, 'miss': 2374, 'missed': 2375, 'missing': 2376, 'mission': 2377, 'mist': 2378, 'mistake': 2379, 'mistaken': 2380, 'mistress': 2381, 'misty': 2382, 'mixed': 2383, 'mixture': 2384, 'moan': 2385, 'moaned': 2386, 'moaning': 2387, 'model': 2388, 'molly': 2389, 'mom': 2390, 'moment': 2391, 'momentarily': 2392, 'moments': 2393, 'mon': 2394, 'monday': 2395, 'money': 2396, 'monster': 2397, 'monsters': 2398, 'monstrous': 2399, 'montague': 2400, 'month': 2401, 'months': 2402, 'mood': 2403, 'moody': 2404, 'moon': 2405, 'moonlight': 2406, 'mopping': 2407, 'morfin': 2408, 'morning': 2409, 'mortal': 2410, 'mother': 2411, 'motionless': 2412, 'motorbike': 2413, 'mountain': 2414, 'mountains': 2415, 'mounted': 2416, 'mouth': 2417, 'mouthed': 2418, 'mouthful': 2419, 'mouths': 2420, 'move': 2421, 'moved': 2422, 'movement': 2423, 'movements': 2424, 'moving': 2425, 'mr': 2426, 'mrs': 2427, 'much': 2428, 'mud': 2429, 'mudblood': 2430, 'mudbloods': 2431, 'muddy': 2432, 'muffled': 2433, 'mug': 2434, 'muggle': 2435, 'muggles': 2436, 'mum': 2437, 'mumbled': 2438, 'mundungus': 2439, 'mungo': 2440, 'murder': 2441, 'murdered': 2442, 'murderer': 2443, 'muriel': 2444, 'murmur': 2445, 'murmured': 2446, 'music': 2447, 'must': 2448, 'mustache': 2449, 'muttered': 2450, 'muttering': 2451, 'myrtle': 2452, 'mysteries': 2453, 'mysterious': 2454, 'n': 2455, 'nagini': 2456, 'nah': 2457, 'name': 2458, 'named': 2459, 'names': 2460, 'narcissa': 2461, 'narrow': 2462, 'narrowed': 2463, 'narrowly': 2464, 'nasty': 2465, 'natural': 2466, 'naturally': 2467, 'nature': 2468, 'near': 2469, 'nearby': 2470, 'nearer': 2471, 'nearest': 2472, 'nearly': 2473, 'neat': 2474, 'neatly': 2475, 'necessary': 2476, 'neck': 2477, 'necklace': 2478, 'necks': 2479, 'need': 2480, 'needed': 2481, 'needs': 2482, 'neither': 2483, 'nerve': 2484, 'nerves': 2485, 'nervous': 2486, 'nervously': 2487, 'network': 2488, 'never': 2489, 'nevertheless': 2490, 'neville': 2491, 'new': 2492, 'newly': 2493, 'news': 2494, 'newspaper': 2495, 'next': 2496, 'nice': 2497, 'nick': 2498, 'nicolas': 2499, 'nigellus': 2500, 'night': 2501, 'nightmare': 2502, 'nimbus': 2503, 'nine': 2504, 'ninety': 2505, 'noble': 2506, 'nobody': 2507, 'nod': 2508, 'nodded': 2509, 'nodding': 2510, 'noise': 2511, 'noises': 2512, 'noisy': 2513, 'non': 2514, 'none': 2515, 'nonsense': 2516, 'norbert': 2517, 'normal': 2518, 'normally': 2519, 'norris': 2520, 'north': 2521, 'nose': 2522, 'noses': 2523, 'nostrils': 2524, 'note': 2525, 'notes': 2526, 'nothin': 2527, 'nothing': 2528, 'notice': 2529, 'noticed': 2530, 'noticing': 2531, 'nowhere': 2532, 'nudged': 2533, 'numb': 2534, 'number': 2535, 'oak': 2536, 'obey': 2537, 'object': 2538, 'objects': 2539, 'obscured': 2540, 'obsessed': 2541, 'obvious': 2542, 'obviously': 2543, 'occasion': 2544, 'occasionally': 2545, 'occasions': 2546, 'occlumency': 2547, 'occurred': 2548, 'october': 2549, 'odd': 2550, 'oddly': 2551, 'offer': 2552, 'offered': 2553, 'offering': 2554, 'office': 2555, 'official': 2556, 'often': 2557, 'ogden': 2558, 'oh': 2559, 'oi': 2560, 'ok': 2561, 'okay': 2562, 'old': 2563, 'older': 2564, 'oldest': 2565, 'oliver': 2566, 'ollivander': 2567, 'ominous': 2568, 'omnioculars': 2569, 'one': 2570, 'ones': 2571, 'onto': 2572, 'oooh': 2573, 'open': 2574, 'opened': 2575, 'opening': 2576, 'opinion': 2577, 'opportunity': 2578, 'opposite': 2579, 'orange': 2580, 'order': 2581, 'ordered': 2582, 'orders': 2583, 'ordinary': 2584, 'original': 2585, 'orphanage': 2586, 'others': 2587, 'otherwise': 2588, 'ouch': 2589, 'ought': 2590, 'outline': 2591, 'outraged': 2592, 'outside': 2593, 'outstanding': 2594, 'outstretched': 2595, 'outta': 2596, 'overcome': 2597, 'overgrown': 2598, 'overhead': 2599, 'overheard': 2600, 'ow': 2601, 'owe': 2602, 'owl': 2603, 'owlery': 2604, 'owls': 2605, 'owned': 2606, 'owner': 2607, 'owners': 2608, 'p': 2609, 'pace': 2610, 'paces': 2611, 'pacing': 2612, 'pack': 2613, 'package': 2614, 'packed': 2615, 'packing': 2616, 'paddock': 2617, 'padma': 2618, 'page': 2619, 'pages': 2620, 'paid': 2621, 'pain': 2622, 'painful': 2623, 'painfully': 2624, 'painted': 2625, 'painting': 2626, 'pair': 2627, 'pairs': 2628, 'pajamas': 2629, 'pale': 2630, 'paler': 2631, 'palm': 2632, 'panic': 2633, 'panicked': 2634, 'pansy': 2635, 'panted': 2636, 'panting': 2637, 'paper': 2638, 'papers': 2639, 'parcel': 2640, 'parchment': 2641, 'parents': 2642, 'parkinson': 2643, 'parseltongue': 2644, 'part': 2645, 'parted': 2646, 'particular': 2647, 'particularly': 2648, 'partner': 2649, 'party': 2650, 'parvati': 2651, 'pass': 2652, 'passage': 2653, 'passageway': 2654, 'passed': 2655, 'passing': 2656, 'password': 2657, 'past': 2658, 'patch': 2659, 'patches': 2660, 'path': 2661, 'pathetic': 2662, 'patil': 2663, 'patronum': 2664, 'patronus': 2665, 'patted': 2666, 'patting': 2667, 'pause': 2668, 'paused': 2669, 'pausing': 2670, 'pavement': 2671, 'pay': 2672, 'paying': 2673, 'peace': 2674, 'pearly': 2675, 'peculiar': 2676, 'peeling': 2677, 'peered': 2678, 'peering': 2679, 'peeves': 2680, 'penalty': 2681, 'penetrate': 2682, 'pensieve': 2683, 'people': 2684, 'perch': 2685, 'perched': 2686, 'percy': 2687, 'perfect': 2688, 'perfectly': 2689, 'perform': 2690, 'performed': 2691, 'perhaps': 2692, 'permission': 2693, 'permit': 2694, 'permitted': 2695, 'perplexed': 2696, 'person': 2697, 'personal': 2698, 'personally': 2699, 'persuade': 2700, 'persuaded': 2701, 'pet': 2702, 'peter': 2703, 'petrified': 2704, 'pettigrew': 2705, 'petunia': 2706, 'phineas': 2707, 'phoenix': 2708, 'photograph': 2709, 'photographs': 2710, 'pick': 2711, 'picked': 2712, 'picking': 2713, 'picture': 2714, 'pictures': 2715, 'pie': 2716, 'piece': 2717, 'pieces': 2718, 'piercing': 2719, 'piers': 2720, 'pig': 2721, 'pigwidgeon': 2722, 'pile': 2723, 'piles': 2724, 'pillow': 2725, 'pillows': 2726, 'pince': 2727, 'pink': 2728, 'pinned': 2729, 'pipe': 2730, 'pit': 2731, 'pitch': 2732, 'pitched': 2733, 'pity': 2734, 'place': 2735, 'placed': 2736, 'places': 2737, 'placing': 2738, 'plain': 2739, 'plainly': 2740, 'plan': 2741, 'plank': 2742, 'planned': 2743, 'planning': 2744, 'plans': 2745, 'plant': 2746, 'plants': 2747, 'plate': 2748, 'plates': 2749, 'platform': 2750, 'play': 2751, 'played': 2752, 'player': 2753, 'players': 2754, 'playing': 2755, 'pleasant': 2756, 'pleasantly': 2757, 'please': 2758, 'pleased': 2759, 'pleasure': 2760, 'plenty': 2761, 'plump': 2762, 'plunged': 2763, 'pocket': 2764, 'pockets': 2765, 'point': 2766, 'pointed': 2767, 'pointing': 2768, 'pointless': 2769, 'points': 2770, 'poison': 2771, 'poisonous': 2772, 'poke': 2773, 'poked': 2774, 'poking': 2775, 'police': 2776, 'polished': 2777, 'polite': 2778, 'politely': 2779, 'poltergeist': 2780, 'polyjuice': 2781, 'pomfrey': 2782, 'pool': 2783, 'poor': 2784, 'pop': 2785, 'popping': 2786, 'popular': 2787, 'porridge': 2788, 'portkey': 2789, 'portrait': 2790, 'portraits': 2791, 'pose': 2792, 'position': 2793, 'positively': 2794, 'possess': 2795, 'possessed': 2796, 'possession': 2797, 'possessions': 2798, 'possibility': 2799, 'possible': 2800, 'possibly': 2801, 'post': 2802, 'poster': 2803, 'posters': 2804, 'posts': 2805, 'pot': 2806, 'potato': 2807, 'potion': 2808, 'potions': 2809, 'pots': 2810, 'potter': 2811, 'potters': 2812, 'pouch': 2813, 'pounded': 2814, 'pounding': 2815, 'poured': 2816, 'pouring': 2817, 'powder': 2818, 'power': 2819, 'powerful': 2820, 'powers': 2821, 'practical': 2822, 'practice': 2823, 'practices': 2824, 'practicing': 2825, 'practise': 2826, 'prat': 2827, 'precious': 2828, 'precisely': 2829, 'prefect': 2830, 'prefects': 2831, 'prefer': 2832, 'preferred': 2833, 'prepared': 2834, 'preparing': 2835, 'presence': 2836, 'present': 2837, 'presents': 2838, 'press': 2839, 'pressed': 2840, 'pressing': 2841, 'pressure': 2842, 'pretend': 2843, 'pretended': 2844, 'pretending': 2845, 'pretty': 2846, 'prevent': 2847, 'previous': 2848, 'previously': 2849, 'price': 2850, 'prickling': 2851, 'pride': 2852, 'prime': 2853, 'prince': 2854, 'prison': 2855, 'prisoners': 2856, 'private': 2857, 'privet': 2858, 'prize': 2859, 'probably': 2860, 'problem': 2861, 'problems': 2862, 'proceeded': 2863, 'prodding': 2864, 'produce': 2865, 'professor': 2866, 'professors': 2867, 'progress': 2868, 'promise': 2869, 'promised': 2870, 'promptly': 2871, 'pronounced': 2872, 'proof': 2873, 'proper': 2874, 'properly': 2875, 'prophecy': 2876, 'prophet': 2877, 'propped': 2878, 'prospect': 2879, 'protect': 2880, 'protected': 2881, 'protection': 2882, 'protective': 2883, 'protest': 2884, 'protruding': 2885, 'proud': 2886, 'proudly': 2887, 'prove': 2888, 'proved': 2889, 'pub': 2890, 'public': 2891, 'pudding': 2892, 'puffy': 2893, 'pull': 2894, 'pulled': 2895, 'pulling': 2896, 'pumpkin': 2897, 'punched': 2898, 'punching': 2899, 'punish': 2900, 'punished': 2901, 'punishment': 2902, 'pupils': 2903, 'pure': 2904, 'purple': 2905, 'purpose': 2906, 'pus': 2907, 'push': 2908, 'pushed': 2909, 'pushing': 2910, 'put': 2911, 'putting': 2912, 'puzzled': 2913, 'quaffle': 2914, 'quality': 2915, 'quarter': 2916, 'quarters': 2917, 'question': 2918, 'questioning': 2919, 'questions': 2920, 'queue': 2921, 'quibbler': 2922, 'quick': 2923, 'quickly': 2924, 'quidditch': 2925, 'quiet': 2926, 'quietly': 2927, 'quill': 2928, 'quills': 2929, 'quirrell': 2930, 'quite': 2931, 'quivering': 2932, 'quot': 2933, 'r': 2934, 'race': 2935, 'racing': 2936, 'rack': 2937, 'rage': 2938, 'ragged': 2939, 'rain': 2940, 'raise': 2941, 'raised': 2942, 'raising': 2943, 'ran': 2944, 'random': 2945, 'rang': 2946, 'range': 2947, 'rapidly': 2948, 'rare': 2949, 'rarely': 2950, 'rat': 2951, 'rather': 2952, 'rats': 2953, 'rattled': 2954, 'rattling': 2955, 'ravenclaw': 2956, 'ravenclaws': 2957, 'raw': 2958, 'reach': 2959, 'reached': 2960, 'reaching': 2961, 'reaction': 2962, 'read': 2963, 'reading': 2964, 'ready': 2965, 'real': 2966, 'realise': 2967, 'realised': 2968, 'realize': 2969, 'realized': 2970, 'realizing': 2971, 'really': 2972, 'reappeared': 2973, 'rear': 2974, 'reason': 2975, 'reasonable': 2976, 'reasonably': 2977, 'reasons': 2978, 'receive': 2979, 'received': 2980, 'recent': 2981, 'recently': 2982, 'reckon': 2983, 'reckons': 2984, 'recognised': 2985, 'recognize': 2986, 'recognized': 2987, 'record': 2988, 'red': 2989, 'reflected': 2990, 'reflection': 2991, 'refuse': 2992, 'refused': 2993, 'refusing': 2994, 'register': 2995, 'regret': 2996, 'regular': 2997, 'regulus': 2998, 'related': 2999, 'relatives': 3000, 'relaxed': 3001, 'release': 3002, 'released': 3003, 'relief': 3004, 'relieved': 3005, 'reluctantly': 3006, 'remain': 3007, 'remained': 3008, 'remaining': 3009, 'remains': 3010, 'remember': 3011, 'remembered': 3012, 'remembering': 3013, 'remind': 3014, 'reminded': 3015, 'reminding': 3016, 'remorse': 3017, 'remove': 3018, 'removed': 3019, 'remus': 3020, 'repair': 3021, 'repaired': 3022, 'repeat': 3023, 'repeated': 3024, 'replaced': 3025, 'replied': 3026, 'reply': 3027, 'report': 3028, 'reported': 3029, 'request': 3030, 'require': 3031, 'required': 3032, 'requirement': 3033, 'rescue': 3034, 'resembled': 3035, 'resentful': 3036, 'resigned': 3037, 'resist': 3038, 'respect': 3039, 'respond': 3040, 'response': 3041, 'responsibility': 3042, 'responsible': 3043, 'rest': 3044, 'rested': 3045, 'resting': 3046, 'results': 3047, 'resumed': 3048, 'retreated': 3049, 'retrieve': 3050, 'return': 3051, 'returned': 3052, 'returning': 3053, 'reveal': 3054, 'revealed': 3055, 'revealing': 3056, 'revenge': 3057, 'revolving': 3058, 'reward': 3059, 'ribs': 3060, 'rid': 3061, 'riddikulus': 3062, 'riddle': 3063, 'riddles': 3064, 'ride': 3065, 'ridiculous': 3066, 'righ': 3067, 'right': 3068, 'rigid': 3069, 'ring': 3070, 'ringing': 3071, 'rip': 3072, 'ripped': 3073, 'ripping': 3074, 'rippling': 3075, 'rise': 3076, 'risen': 3077, 'rising': 3078, 'risk': 3079, 'rita': 3080, 'river': 3081, 'road': 3082, 'roar': 3083, 'roared': 3084, 'roaring': 3085, 'robe': 3086, 'roberts': 3087, 'robes': 3088, 'rock': 3089, 'roger': 3090, 'roll': 3091, 'rolled': 3092, 'rolling': 3093, 'rolls': 3094, 'romilda': 3095, 'ron': 3096, 'ronald': 3097, 'ronan': 3098, 'roof': 3099, 'rookwood': 3100, 'room': 3101, 'rooms': 3102, 'roots': 3103, 'rope': 3104, 'ropes': 3105, 'rose': 3106, 'rosmerta': 3107, 'rough': 3108, 'roughly': 3109, 'round': 3110, 'rounded': 3111, 'row': 3112, 'rows': 3113, 'rubbed': 3114, 'rubbing': 3115, 'rubbish': 3116, 'rucksack': 3117, 'ruddy': 3118, 'rude': 3119, 'ruffled': 3120, 'rufus': 3121, 'ruined': 3122, 'rule': 3123, 'rules': 3124, 'rumbling': 3125, 'rummaged': 3126, 'rummaging': 3127, 'rumors': 3128, 'run': 3129, 'runes': 3130, 'running': 3131, 'rush': 3132, 'rushed': 3133, 'rushing': 3134, 'rustling': 3135, 'sack': 3136, 'sacked': 3137, 'sad': 3138, 'sadly': 3139, 'safe': 3140, 'safely': 3141, 'safety': 3142, 'said': 3143, 'sake': 3144, 'sallow': 3145, 'sank': 3146, 'sarcastically': 3147, 'sat': 3148, 'satisfaction': 3149, 'satisfied': 3150, 'saturday': 3151, 'sausages': 3152, 'savagely': 3153, 'save': 3154, 'saved': 3155, 'saving': 3156, 'saw': 3157, 'say': 3158, 'saying': 3159, 'says': 3160, 'scabbers': 3161, 'scabior': 3162, 'scales': 3163, 'scanned': 3164, 'scanning': 3165, 'scar': 3166, 'scared': 3167, 'scarlet': 3168, 'scars': 3169, 'scarves': 3170, 'scattered': 3171, 'scene': 3172, 'schedule': 3173, 'school': 3174, 'schoolbag': 3175, 'scooped': 3176, 'score': 3177, 'scored': 3178, 'scowled': 3179, 'scowling': 3180, 'scrambled': 3181, 'scratched': 3182, 'scratching': 3183, 'scream': 3184, 'screamed': 3185, 'screaming': 3186, 'screams': 3187, 'screech': 3188, 'screeched': 3189, 'screwed': 3190, 'scribbled': 3191, 'scribbling': 3192, 'scrimgeour': 3193, 'scroll': 3194, 'scum': 3195, 'scurrying': 3196, 'sea': 3197, 'sealed': 3198, 'seamus': 3199, 'search': 3200, 'searched': 3201, 'searching': 3202, 'seared': 3203, 'seat': 3204, 'seated': 3205, 'seats': 3206, 'second': 3207, 'seconds': 3208, 'secrecy': 3209, 'secret': 3210, 'secrets': 3211, 'section': 3212, 'secure': 3213, 'security': 3214, 'see': 3215, 'seeing': 3216, 'seek': 3217, 'seeker': 3218, 'seeking': 3219, 'seem': 3220, 'seemed': 3221, 'seems': 3222, 'seen': 3223, 'sees': 3224, 'seize': 3225, 'seized': 3226, 'seizing': 3227, 'self': 3228, 'sell': 3229, 'send': 3230, 'sending': 3231, 'sensation': 3232, 'sense': 3233, 'sensed': 3234, 'senses': 3235, 'sent': 3236, 'sentence': 3237, 'separate': 3238, 'separated': 3239, 'september': 3240, 'serenely': 3241, 'series': 3242, 'serious': 3243, 'seriously': 3244, 'serpent': 3245, 'servant': 3246, 'serve': 3247, 'served': 3248, 'service': 3249, 'set': 3250, 'setting': 3251, 'settle': 3252, 'settled': 3253, 'seven': 3254, 'seventeen': 3255, 'seventh': 3256, 'several': 3257, 'severe': 3258, 'severely': 3259, 'severus': 3260, 'shabby': 3261, 'shack': 3262, 'shacklebolt': 3263, 'shade': 3264, 'shadow': 3265, 'shadows': 3266, 'shadowy': 3267, 'shaggy': 3268, 'shake': 3269, 'shaken': 3270, 'shakily': 3271, 'shaking': 3272, 'shall': 3273, 'shame': 3274, 'shape': 3275, 'shaped': 3276, 'shapes': 3277, 'share': 3278, 'shared': 3279, 'sharing': 3280, 'sharp': 3281, 'sharply': 3282, 'shattered': 3283, 'sheet': 3284, 'sheets': 3285, 'shelf': 3286, 'shell': 3287, 'shelves': 3288, 'shh': 3289, 'shield': 3290, 'shifted': 3291, 'shifting': 3292, 'shimmering': 3293, 'shining': 3294, 'shiny': 3295, 'ship': 3296, 'shirt': 3297, 'shivered': 3298, 'shivering': 3299, 'shock': 3300, 'shocked': 3301, 'shoes': 3302, 'shone': 3303, 'shook': 3304, 'shooting': 3305, 'shop': 3306, 'shopping': 3307, 'shops': 3308, 'short': 3309, 'shorter': 3310, 'shortly': 3311, 'shot': 3312, 'shoulder': 3313, 'shoulders': 3314, 'shout': 3315, 'shouted': 3316, 'shouting': 3317, 'shouts': 3318, 'shoved': 3319, 'show': 3320, 'showed': 3321, 'shower': 3322, 'showing': 3323, 'shown': 3324, 'shows': 3325, 'shriek': 3326, 'shrieked': 3327, 'shrieking': 3328, 'shrilly': 3329, 'shrinking': 3330, 'shrugged': 3331, 'shrugging': 3332, 'shudder': 3333, 'shuddered': 3334, 'shuddering': 3335, 'shuffled': 3336, 'shuffling': 3337, 'shunpike': 3338, 'shut': 3339, 'sick': 3340, 'sickles': 3341, 'side': 3342, 'sidecar': 3343, 'sides': 3344, 'sideways': 3345, 'sigh': 3346, 'sighed': 3347, 'sight': 3348, 'sign': 3349, 'signed': 3350, 'signs': 3351, 'silence': 3352, 'silent': 3353, 'silently': 3354, 'silk': 3355, 'silly': 3356, 'silver': 3357, 'silvery': 3358, 'simple': 3359, 'simply': 3360, 'since': 3361, 'sincerely': 3362, 'singing': 3363, 'single': 3364, 'sinister': 3365, 'sink': 3366, 'sinking': 3367, 'sir': 3368, 'sirius': 3369, 'sister': 3370, 'sisters': 3371, 'sit': 3372, 'sitting': 3373, 'situation': 3374, 'six': 3375, 'sixteen': 3376, 'sixth': 3377, 'sixty': 3378, 'size': 3379, 'sized': 3380, 'skeeter': 3381, 'skidded': 3382, 'skin': 3383, 'skinny': 3384, 'skrewt': 3385, 'skrewts': 3386, 'skull': 3387, 'sky': 3388, 'slammed': 3389, 'slamming': 3390, 'sleek': 3391, 'sleep': 3392, 'sleeping': 3393, 'sleepy': 3394, 'sleeve': 3395, 'sleeves': 3396, 'slept': 3397, 'slid': 3398, 'slide': 3399, 'sliding': 3400, 'slight': 3401, 'slightest': 3402, 'slightly': 3403, 'slimy': 3404, 'slip': 3405, 'slipped': 3406, 'slipping': 3407, 'slit': 3408, 'slithering': 3409, 'slits': 3410, 'sloping': 3411, 'slow': 3412, 'slowed': 3413, 'slowly': 3414, 'slug': 3415, 'slughorn': 3416, 'slugs': 3417, 'slumped': 3418, 'slytherin': 3419, 'slytherins': 3420, 'small': 3421, 'smaller': 3422, 'smallest': 3423, 'smart': 3424, 'smashed': 3425, 'smell': 3426, 'smelled': 3427, 'smile': 3428, 'smiled': 3429, 'smiling': 3430, 'smirked': 3431, 'smirking': 3432, 'smith': 3433, 'smoke': 3434, 'smoking': 3435, 'smooth': 3436, 'smoothly': 3437, 'snake': 3438, 'snakelike': 3439, 'snakes': 3440, 'snap': 3441, 'snape': 3442, 'snapped': 3443, 'snapping': 3444, 'snarled': 3445, 'snatched': 3446, 'snatching': 3447, 'sneak': 3448, 'sneaked': 3449, 'sneaking': 3450, 'sneakoscope': 3451, 'sneer': 3452, 'sneered': 3453, 'sneering': 3454, 'sniffed': 3455, 'sniggered': 3456, 'snitch': 3457, 'snorted': 3458, 'snout': 3459, 'snow': 3460, 'snowy': 3461, 'soared': 3462, 'soaring': 3463, 'sob': 3464, 'sobbed': 3465, 'sobbing': 3466, 'sobs': 3467, 'socks': 3468, 'sofa': 3469, 'soft': 3470, 'softly': 3471, 'solid': 3472, 'solution': 3473, 'somebody': 3474, 'somehow': 3475, 'someone': 3476, 'something': 3477, 'sometimes': 3478, 'somewhat': 3479, 'somewhere': 3480, 'son': 3481, 'song': 3482, 'sons': 3483, 'soon': 3484, 'sooner': 3485, 'sorcerer': 3486, 'sorry': 3487, 'sort': 3488, 'sorted': 3489, 'sorting': 3490, 'sorts': 3491, 'sought': 3492, 'soul': 3493, 'sound': 3494, 'sounded': 3495, 'sounding': 3496, 'sounds': 3497, 'soup': 3498, 'source': 3499, 'space': 3500, 'spare': 3501, 'sparkling': 3502, 'sparks': 3503, 'spat': 3504, 'speak': 3505, 'speaking': 3506, 'special': 3507, 'spectacles': 3508, 'spectacular': 3509, 'sped': 3510, 'speech': 3511, 'speed': 3512, 'speeding': 3513, 'spell': 3514, 'spellbooks': 3515, 'spells': 3516, 'spend': 3517, 'spending': 3518, 'spent': 3519, 'spider': 3520, 'spiders': 3521, 'spilled': 3522, 'spilling': 3523, 'spinnet': 3524, 'spinning': 3525, 'spiral': 3526, 'spirit': 3527, 'spirits': 3528, 'spite': 3529, 'spitting': 3530, 'split': 3531, 'spluttered': 3532, 'spoke': 3533, 'spoken': 3534, 'spot': 3535, 'spots': 3536, 'spotted': 3537, 'sprang': 3538, 'sprawled': 3539, 'spread': 3540, 'spreading': 3541, 'sprinted': 3542, 'sprinting': 3543, 'sprout': 3544, 'spun': 3545, 'spy': 3546, 'squad': 3547, 'square': 3548, 'squashed': 3549, 'squeak': 3550, 'squeaked': 3551, 'squealed': 3552, 'squeezed': 3553, 'squeezing': 3554, 'squib': 3555, 'squinted': 3556, 'squinting': 3557, 'st': 3558, 'stab': 3559, 'stack': 3560, 'stadium': 3561, 'staff': 3562, 'stag': 3563, 'stage': 3564, 'staggered': 3565, 'stained': 3566, 'staircase': 3567, 'stairs': 3568, 'stalked': 3569, 'stammered': 3570, 'stamping': 3571, 'stan': 3572, 'stand': 3573, 'standard': 3574, 'standing': 3575, 'stands': 3576, 'star': 3577, 'stare': 3578, 'stared': 3579, 'staring': 3580, 'starry': 3581, 'stars': 3582, 'start': 3583, 'started': 3584, 'starting': 3585, 'startled': 3586, 'starving': 3587, 'state': 3588, 'station': 3589, 'statue': 3590, 'statues': 3591, 'stay': 3592, 'stayed': 3593, 'staying': 3594, 'steadily': 3595, 'steady': 3596, 'steak': 3597, 'steal': 3598, 'stealing': 3599, 'steam': 3600, 'steep': 3601, 'steering': 3602, 'step': 3603, 'stepped': 3604, 'steps': 3605, 'stern': 3606, 'sternly': 3607, 'stick': 3608, 'sticking': 3609, 'stiff': 3610, 'stiffly': 3611, 'still': 3612, 'stir': 3613, 'stirred': 3614, 'stirring': 3615, 'stole': 3616, 'stolen': 3617, 'stomach': 3618, 'stone': 3619, 'stones': 3620, 'stood': 3621, 'stool': 3622, 'stooped': 3623, 'stop': 3624, 'stopped': 3625, 'stopping': 3626, 'store': 3627, 'stories': 3628, 'storm': 3629, 'stormed': 3630, 'story': 3631, 'straight': 3632, 'straightened': 3633, 'straightening': 3634, 'strained': 3635, 'straining': 3636, 'strange': 3637, 'strangely': 3638, 'stranger': 3639, 'strangled': 3640, 'streaked': 3641, 'stream': 3642, 'streaming': 3643, 'street': 3644, 'strength': 3645, 'stretch': 3646, 'stretched': 3647, 'stretching': 3648, 'strewn': 3649, 'stricken': 3650, 'striding': 3651, 'strike': 3652, 'string': 3653, 'strode': 3654, 'stroke': 3655, 'stroking': 3656, 'strolled': 3657, 'strong': 3658, 'stronger': 3659, 'strongly': 3660, 'struck': 3661, 'struggle': 3662, 'struggled': 3663, 'struggling': 3664, 'stubbornly': 3665, 'stubby': 3666, 'stuck': 3667, 'student': 3668, 'students': 3669, 'study': 3670, 'studying': 3671, 'stuff': 3672, 'stuffed': 3673, 'stuffing': 3674, 'stumbled': 3675, 'stumped': 3676, 'stunned': 3677, 'stunning': 3678, 'stupefy': 3679, 'stupid': 3680, 'sturgis': 3681, 'subject': 3682, 'subjects': 3683, 'substance': 3684, 'succeeded': 3685, 'success': 3686, 'sudden': 3687, 'suddenly': 3688, 'suffered': 3689, 'suffering': 3690, 'sugar': 3691, 'suggest': 3692, 'suggested': 3693, 'suit': 3694, 'summer': 3695, 'summon': 3696, 'summoning': 3697, 'sun': 3698, 'sunday': 3699, 'sunk': 3700, 'sunken': 3701, 'sunlight': 3702, 'support': 3703, 'supported': 3704, 'supporters': 3705, 'suppose': 3706, 'supposed': 3707, 'suppress': 3708, 'sure': 3709, 'surely': 3710, 'surface': 3711, 'surge': 3712, 'surprise': 3713, 'surprised': 3714, 'surrounded': 3715, 'surrounding': 3716, 'surveyed': 3717, 'surveying': 3718, 'survive': 3719, 'survived': 3720, 'suspected': 3721, 'suspended': 3722, 'suspicion': 3723, 'suspicious': 3724, 'suspiciously': 3725, 'swallowed': 3726, 'swam': 3727, 'swarming': 3728, 'swayed': 3729, 'swaying': 3730, 'swear': 3731, 'sweat': 3732, 'sweater': 3733, 'sweating': 3734, 'sweaty': 3735, 'sweeping': 3736, 'sweet': 3737, 'sweetly': 3738, 'sweets': 3739, 'swelled': 3740, 'swelling': 3741, 'swept': 3742, 'swerved': 3743, 'swiftly': 3744, 'swig': 3745, 'swimming': 3746, 'swing': 3747, 'swinging': 3748, 'swirling': 3749, 'swollen': 3750, 'swooped': 3751, 'swooping': 3752, 'sword': 3753, 'swore': 3754, 'sworn': 3755, 'swung': 3756, 'symbol': 3757, 'table': 3758, 'tables': 3759, 'tail': 3760, 'take': 3761, 'taken': 3762, 'takes': 3763, 'taking': 3764, 'tale': 3765, 'talent': 3766, 'tales': 3767, 'talk': 3768, 'talked': 3769, 'talking': 3770, 'tall': 3771, 'taller': 3772, 'tangled': 3773, 'tank': 3774, 'tap': 3775, 'tapestry': 3776, 'tapped': 3777, 'tapping': 3778, 'task': 3779, 'tasks': 3780, 'taste': 3781, 'taught': 3782, 'tea': 3783, 'teach': 3784, 'teacher': 3785, 'teachers': 3786, 'teaching': 3787, 'teacup': 3788, 'team': 3789, 'teams': 3790, 'tear': 3791, 'tearing': 3792, 'tears': 3793, 'ted': 3794, 'teeth': 3795, 'telephone': 3796, 'telescope': 3797, 'television': 3798, 'tell': 3799, 'telling': 3800, 'tells': 3801, 'temper': 3802, 'temple': 3803, 'ten': 3804, 'tense': 3805, 'tent': 3806, 'tentatively': 3807, 'tents': 3808, 'ter': 3809, 'term': 3810, 'terms': 3811, 'terrible': 3812, 'terrified': 3813, 'terror': 3814, 'test': 3815, 'tested': 3816, 'tha': 3817, 'thank': 3818, 'thanks': 3819, 'theory': 3820, 'therefore': 3821, 'thestral': 3822, 'thestrals': 3823, 'thick': 3824, 'thickly': 3825, 'thicknesse': 3826, 'thief': 3827, 'thin': 3828, 'thing': 3829, 'things': 3830, 'think': 3831, 'thinking': 3832, 'thinks': 3833, 'third': 3834, 'thirteen': 3835, 'thirty': 3836, 'thomas': 3837, 'thoroughly': 3838, 'though': 3839, 'thought': 3840, 'thoughtfully': 3841, 'thoughts': 3842, 'thousand': 3843, 'thousands': 3844, 'thrashing': 3845, 'thread': 3846, 'threatened': 3847, 'threatening': 3848, 'three': 3849, 'threshold': 3850, 'threw': 3851, 'throat': 3852, 'throbbing': 3853, 'throughout': 3854, 'throw': 3855, 'throwing': 3856, 'thrown': 3857, 'thrust': 3858, 'thud': 3859, 'thumping': 3860, 'thundering': 3861, 'thursday': 3862, 'tickets': 3863, 'tie': 3864, 'tied': 3865, 'tight': 3866, 'tightly': 3867, 'till': 3868, 'time': 3869, 'times': 3870, 'tin': 3871, 'tiny': 3872, 'tip': 3873, 'tipped': 3874, 'tips': 3875, 'tired': 3876, 'toad': 3877, 'toast': 3878, 'today': 3879, 'toes': 3880, 'together': 3881, 'toilet': 3882, 'told': 3883, 'tom': 3884, 'tomorrow': 3885, 'tone': 3886, 'tones': 3887, 'tongue': 3888, 'tonight': 3889, 'tonks': 3890, 'took': 3891, 'top': 3892, 'topmost': 3893, 'toppled': 3894, 'torches': 3895, 'tore': 3896, 'torn': 3897, 'torture': 3898, 'tortured': 3899, 'total': 3900, 'touch': 3901, 'touched': 3902, 'touching': 3903, 'tough': 3904, 'tournament': 3905, 'toward': 3906, 'towards': 3907, 'tower': 3908, 'towering': 3909, 'trace': 3910, 'track': 3911, 'tracks': 3912, 'trailing': 3913, 'train': 3914, 'trained': 3915, 'training': 3916, 'traitor': 3917, 'transfiguration': 3918, 'transfixed': 3919, 'transform': 3920, 'transformed': 3921, 'transparent': 3922, 'trapdoor': 3923, 'trapped': 3924, 'traveled': 3925, 'traveling': 3926, 'travers': 3927, 'tray': 3928, 'treacle': 3929, 'treasure': 3930, 'treat': 3931, 'treated': 3932, 'tree': 3933, 'trees': 3934, 'trelawney': 3935, 'trembled': 3936, 'trembling': 3937, 'trevor': 3938, 'trick': 3939, 'tricks': 3940, 'tricky': 3941, 'tried': 3942, 'trip': 3943, 'tripped': 3944, 'triumph': 3945, 'triumphant': 3946, 'triwizard': 3947, 'troll': 3948, 'trolley': 3949, 'trolls': 3950, 'trouble': 3951, 'troubled': 3952, 'true': 3953, 'truly': 3954, 'trunk': 3955, 'trunks': 3956, 'trust': 3957, 'trusted': 3958, 'trusts': 3959, 'truth': 3960, 'try': 3961, 'trying': 3962, 'tucked': 3963, 'tuesday': 3964, 'tugged': 3965, 'tugging': 3966, 'tunnel': 3967, 'turban': 3968, 'turn': 3969, 'turned': 3970, 'turning': 3971, 'turns': 3972, 'twelve': 3973, 'twenty': 3974, 'twice': 3975, 'twigs': 3976, 'twin': 3977, 'twinkling': 3978, 'twins': 3979, 'twisted': 3980, 'twisting': 3981, 'twitched': 3982, 'twitching': 3983, 'two': 3984, 'tying': 3985, 'ugly': 3986, 'um': 3987, 'umbrella': 3988, 'umbridge': 3989, 'un': 3990, 'unable': 3991, 'unaware': 3992, 'uncertainly': 3993, 'uncle': 3994, 'uncomfortable': 3995, 'uncomfortably': 3996, 'unconscious': 3997, 'uncontrollably': 3998, 'underage': 3999, 'underground': 4000, 'underneath': 4001, 'understand': 4002, 'understanding': 4003, 'understood': 4004, 'undertone': 4005, 'undoubtedly': 4006, 'uneasy': 4007, 'unexpected': 4008, 'unfolded': 4009, 'unfortunate': 4010, 'unfortunately': 4011, 'unicorn': 4012, 'united': 4013, 'unknown': 4014, 'unless': 4015, 'unlike': 4016, 'unlikely': 4017, 'unpleasant': 4018, 'unpleasantly': 4019, 'untidy': 4020, 'unusual': 4021, 'unusually': 4022, 'upon': 4023, 'upper': 4024, 'upright': 4025, 'upset': 4026, 'upside': 4027, 'upstairs': 4028, 'upward': 4029, 'upwards': 4030, 'urge': 4031, 'urged': 4032, 'urgent': 4033, 'urgently': 4034, 'us': 4035, 'use': 4036, 'used': 4037, 'useful': 4038, 'useless': 4039, 'uses': 4040, 'using': 4041, 'usual': 4042, 'usually': 4043, 'utter': 4044, 'utterly': 4045, 'vaguely': 4046, 'valuable': 4047, 'vanish': 4048, 'vanished': 4049, 'vanishing': 4050, 'various': 4051, 'vast': 4052, 'vault': 4053, 'veela': 4054, 'veil': 4055, 'velvet': 4056, 'venom': 4057, 'vernon': 4058, 'version': 4059, 'vicious': 4060, 'victims': 4061, 'view': 4062, 'vigorously': 4063, 'viktor': 4064, 'village': 4065, 'violent': 4066, 'violently': 4067, 'violet': 4068, 'visible': 4069, 'vision': 4070, 'visit': 4071, 'visited': 4072, 'visiting': 4073, 'visitors': 4074, 'vivid': 4075, 'voice': 4076, 'voices': 4077, 'vol': 4078, 'voldemort': 4079, 'voldemorts': 4080, 'w': 4081, 'wailing': 4082, 'waist': 4083, 'wait': 4084, 'waited': 4085, 'waiting': 4086, 'wake': 4087, 'walk': 4088, 'walked': 4089, 'walking': 4090, 'wall': 4091, 'walls': 4092, 'wan': 4093, 'wand': 4094, 'wandered': 4095, 'wandering': 4096, 'wandlight': 4097, 'wandmaker': 4098, 'wands': 4099, 'want': 4100, 'wanted': 4101, 'wanting': 4102, 'wants': 4103, 'war': 4104, 'ward': 4105, 'wardrobe': 4106, 'warlock': 4107, 'warm': 4108, 'warmth': 4109, 'warn': 4110, 'warned': 4111, 'warning': 4112, 'warrington': 4113, 'wary': 4114, 'wash': 4115, 'washed': 4116, 'waste': 4117, 'wasted': 4118, 'wasting': 4119, 'watch': 4120, 'watched': 4121, 'watching': 4122, 'water': 4123, 'watery': 4124, 'wave': 4125, 'waved': 4126, 'waving': 4127, 'way': 4128, 'ways': 4129, 'weak': 4130, 'weakly': 4131, 'weapon': 4132, 'wear': 4133, 'wearily': 4134, 'wearing': 4135, 'weasley': 4136, 'weasleys': 4137, 'weather': 4138, 'web': 4139, 'wedding': 4140, 'wednesday': 4141, 'week': 4142, 'weekend': 4143, 'weeks': 4144, 'weight': 4145, 'weird': 4146, 'welcome': 4147, 'well': 4148, 'went': 4149, 'werewolf': 4150, 'werewolves': 4151, 'west': 4152, 'wet': 4153, 'wha': 4154, 'whatever': 4155, 'whatsoever': 4156, 'wheeled': 4157, 'wheezy': 4158, 'whenever': 4159, 'whereabouts': 4160, 'wherever': 4161, 'whether': 4162, 'whimpering': 4163, 'whinging': 4164, 'whipped': 4165, 'whirled': 4166, 'whisper': 4167, 'whispered': 4168, 'whispering': 4169, 'whistle': 4170, 'whistling': 4171, 'white': 4172, 'whoever': 4173, 'whole': 4174, 'whomping': 4175, 'whose': 4176, 'wide': 4177, 'widely': 4178, 'widened': 4179, 'widening': 4180, 'wider': 4181, 'wife': 4182, 'wild': 4183, 'wildly': 4184, 'willing': 4185, 'willow': 4186, 'win': 4187, 'winced': 4188, 'wind': 4189, 'winding': 4190, 'window': 4191, 'windows': 4192, 'windowsill': 4193, 'wine': 4194, 'wing': 4195, 'winged': 4196, 'wings': 4197, 'winked': 4198, 'winking': 4199, 'winky': 4200, 'winning': 4201, 'wipe': 4202, 'wiped': 4203, 'wiping': 4204, 'wise': 4205, 'wish': 4206, 'wished': 4207, 'wishes': 4208, 'wishing': 4209, 'witch': 4210, 'witchcraft': 4211, 'witches': 4212, 'withdrew': 4213, 'within': 4214, 'without': 4215, 'witness': 4216, 'witnessed': 4217, 'wizard': 4218, 'wizarding': 4219, 'wizardry': 4220, 'wizards': 4221, 'wizengamot': 4222, 'woke': 4223, 'woken': 4224, 'woman': 4225, 'women': 4226, 'wonder': 4227, 'wondered': 4228, 'wonderful': 4229, 'wondering': 4230, 'wood': 4231, 'wooden': 4232, 'woods': 4233, 'word': 4234, 'words': 4235, 'wore': 4236, 'work': 4237, 'worked': 4238, 'working': 4239, 'works': 4240, 'world': 4241, 'wormtail': 4242, 'worn': 4243, 'worried': 4244, 'worry': 4245, 'worrying': 4246, 'worse': 4247, 'worst': 4248, 'worth': 4249, 'worthy': 4250, 'would': 4251, 'wound': 4252, 'wounds': 4253, 'wow': 4254, 'wrapped': 4255, 'wrenched': 4256, 'wrist': 4257, 'write': 4258, 'writhing': 4259, 'writing': 4260, 'written': 4261, 'wrong': 4262, 'wrote': 4263, 'xenophilius': 4264, 'yard': 4265, 'yards': 4266, 'yawned': 4267, 'yawning': 4268, 'yaxley': 4269, 'yeah': 4270, 'year': 4271, 'years': 4272, 'yeh': 4273, 'yell': 4274, 'yelled': 4275, 'yelling': 4276, 'yellow': 4277, 'yellowish': 4278, 'yells': 4279, 'yep': 4280, 'yer': 4281, 'yes': 4282, 'yesterday': 4283, 'yet': 4284, 'young': 4285, 'younger': 4286, 'youngest': 4287, 'youth': 4288, 'zabini': 4289, 'zacharias': 4290, 'ze': 4291, 'zonko': 4292, 'zoomed': 4293, 'zooming': 4294, '¨c': 4295, '—': 4296, '”': 4297}\n",
            "{'1': 0, 'aback': 1, 'abandoned': 2, 'abbott': 3, 'aberforth': 4, 'ability': 5, 'able': 6, 'abou': 7, 'abruptly': 8, 'absence': 9, 'absolutely': 10, 'accept': 11, 'accepted': 12, 'accident': 13, 'accidentally': 14, 'accidents': 15, 'accio': 16, 'accompanied': 17, 'according': 18, 'account': 19, 'achieved': 20, 'aching': 21, 'across': 22, 'act': 23, 'acted': 24, 'acting': 25, 'action': 26, 'actually': 27, 'add': 28, 'added': 29, 'adding': 30, 'address': 31, 'addressed': 32, 'admit': 33, 'admitted': 34, 'advanced': 35, 'advancing': 36, 'advantage': 37, 'adventure': 38, 'advice': 39, 'advised': 40, 'afford': 41, 'afraid': 42, 'afternoon': 43, 'afterward': 44, 'age': 45, 'aged': 46, 'ages': 47, 'ago': 48, 'agony': 49, 'agree': 50, 'agreed': 51, 'ah': 52, 'ahead': 53, 'aid': 54, 'aim': 55, 'aimed': 56, 'aiming': 57, 'air': 58, 'aisle': 59, 'ajar': 60, 'alarm': 61, 'alarmed': 62, 'albus': 63, 'alecto': 64, 'alert': 65, 'alicia': 66, 'alive': 67, 'alley': 68, 'alleyway': 69, 'allow': 70, 'allowed': 71, 'allowing': 72, 'almost': 73, 'alone': 74, 'along': 75, 'alongside': 76, 'aloud': 77, 'already': 78, 'also': 79, 'although': 80, 'always': 81, 'amazed': 82, 'amazement': 83, 'amazing': 84, 'ambition': 85, 'among': 86, 'amongst': 87, 'amos': 88, 'amount': 89, 'amused': 90, 'amusing': 91, 'amycus': 92, 'ancient': 93, 'angelina': 94, 'anger': 95, 'angle': 96, 'angrily': 97, 'angry': 98, 'animagus': 99, 'animal': 100, 'animals': 101, 'ankle': 102, 'ankles': 103, 'announced': 104, 'annoyed': 105, 'another': 106, 'answer': 107, 'answered': 108, 'answering': 109, 'answers': 110, 'anti': 111, 'antidote': 112, 'antidotes': 113, 'anxious': 114, 'anxiously': 115, 'anybody': 116, 'anymore': 117, 'anyone': 118, 'anythin': 119, 'anything': 120, 'anyway': 121, 'anywhere': 122, 'apart': 123, 'appalled': 124, 'apparate': 125, 'apparently': 126, 'apparition': 127, 'appear': 128, 'appearance': 129, 'appeared': 130, 'appearing': 131, 'applause': 132, 'appointment': 133, 'appreciate': 134, 'apprehensive': 135, 'approach': 136, 'approached': 137, 'approaching': 138, 'approval': 139, 'aragog': 140, 'archway': 141, 'area': 142, 'argue': 143, 'arguing': 144, 'argument': 145, 'argus': 146, 'ariana': 147, 'arithmancy': 148, 'arm': 149, 'armchair': 150, 'armchairs': 151, 'armed': 152, 'armor': 153, 'arms': 154, 'army': 155, 'around': 156, 'arranged': 157, 'arrested': 158, 'arrival': 159, 'arrive': 160, 'arrived': 161, 'arriving': 162, 'arrogant': 163, 'arry': 164, 'arthur': 165, 'article': 166, 'arts': 167, 'ashamed': 168, 'aside': 169, 'ask': 170, 'asked': 171, 'asking': 172, 'asleep': 173, 'assistant': 174, 'assume': 175, 'assure': 176, 'assured': 177, 'astonished': 178, 'astonishment': 179, 'astronomy': 180, 'ate': 181, 'atmosphere': 182, 'atrium': 183, 'attached': 184, 'attack': 185, 'attacked': 186, 'attacking': 187, 'attacks': 188, 'attempt': 189, 'attempted': 190, 'attempting': 191, 'attempts': 192, 'attend': 193, 'attention': 194, 'attitude': 195, 'august': 196, 'aunt': 197, 'auntie': 198, 'auror': 199, 'aurors': 200, 'authority': 201, 'automatically': 202, 'avada': 203, 'ave': 204, 'avery': 205, 'avoid': 206, 'avoided': 207, 'avoiding': 208, 'awake': 209, 'award': 210, 'aware': 211, 'away': 212, 'awful': 213, 'awkward': 214, 'awkwardly': 215, 'awoke': 216, 'azkaban': 217, 'b': 218, 'baby': 219, 'back': 220, 'backed': 221, 'backing': 222, 'backs': 223, 'backward': 224, 'backwards': 225, 'bacon': 226, 'bad': 227, 'badge': 228, 'badges': 229, 'badly': 230, 'bag': 231, 'bagman': 232, 'bags': 233, 'bagshot': 234, 'bald': 235, 'balding': 236, 'ball': 237, 'balls': 238, 'bane': 239, 'bang': 240, 'banged': 241, 'banging': 242, 'bangs': 243, 'bank': 244, 'banned': 245, 'bar': 246, 'bare': 247, 'barely': 248, 'barked': 249, 'barman': 250, 'barn': 251, 'baron': 252, 'barrier': 253, 'bars': 254, 'barty': 255, 'basilisk': 256, 'basin': 257, 'basket': 258, 'bat': 259, 'bath': 260, 'bathilda': 261, 'bathroom': 262, 'bats': 263, 'battered': 264, 'battle': 265, 'beaded': 266, 'beak': 267, 'beam': 268, 'beamed': 269, 'beaming': 270, 'beans': 271, 'bear': 272, 'beard': 273, 'bearded': 274, 'bearing': 275, 'beast': 276, 'beat': 277, 'beaten': 278, 'beaters': 279, 'beating': 280, 'beautiful': 281, 'beauxbatons': 282, 'became': 283, 'beckoned': 284, 'become': 285, 'becoming': 286, 'bed': 287, 'bedroom': 288, 'beds': 289, 'bedside': 290, 'beedle': 291, 'beetle': 292, 'beg': 293, 'began': 294, 'begin': 295, 'beginning': 296, 'begun': 297, 'behavior': 298, 'behind': 299, 'believe': 300, 'believed': 301, 'believes': 302, 'believing': 303, 'bell': 304, 'bellatrix': 305, 'bellowed': 306, 'belong': 307, 'belonged': 308, 'belongs': 309, 'bench': 310, 'benches': 311, 'bend': 312, 'bending': 313, 'beneath': 314, 'bent': 315, 'bertha': 316, 'beside': 317, 'best': 318, 'bet': 319, 'betrayed': 320, 'better': 321, 'bewildered': 322, 'bewitched': 323, 'beyond': 324, 'bezoar': 325, 'big': 326, 'bigger': 327, 'biggest': 328, 'bike': 329, 'bill': 330, 'billowing': 331, 'bin': 332, 'binding': 333, 'binns': 334, 'bird': 335, 'birds': 336, 'birthday': 337, 'bit': 338, 'bite': 339, 'biting': 340, 'bits': 341, 'bitten': 342, 'bitter': 343, 'bitterly': 344, 'bizarre': 345, 'black': 346, 'blackboard': 347, 'blackened': 348, 'blackness': 349, 'blame': 350, 'blank': 351, 'blankets': 352, 'blankly': 353, 'blast': 354, 'blasted': 355, 'blazing': 356, 'bleeding': 357, 'blew': 358, 'blimey': 359, 'blind': 360, 'blinding': 361, 'blink': 362, 'blinked': 363, 'blinking': 364, 'block': 365, 'blocked': 366, 'blocking': 367, 'bloke': 368, 'blond': 369, 'blonde': 370, 'blood': 371, 'bloodshot': 372, 'bloody': 373, 'blotts': 374, 'blow': 375, 'blowing': 376, 'blown': 377, 'bludger': 378, 'bludgers': 379, 'blue': 380, 'blurred': 381, 'board': 382, 'boarded': 383, 'boat': 384, 'bobbing': 385, 'bode': 386, 'bodies': 387, 'body': 388, 'boggart': 389, 'boiling': 390, 'bolt': 391, 'bone': 392, 'bones': 393, 'book': 394, 'books': 395, 'boomed': 396, 'booming': 397, 'boot': 398, 'boots': 399, 'bore': 400, 'bored': 401, 'borgin': 402, 'boring': 403, 'born': 404, 'borns': 405, 'borrow': 406, 'borrowed': 407, 'bother': 408, 'bothered': 409, 'bothering': 410, 'bottle': 411, 'bottles': 412, 'bottom': 413, 'bought': 414, 'bounced': 415, 'bouncing': 416, 'bound': 417, 'bounded': 418, 'bow': 419, 'bowed': 420, 'bowing': 421, 'bowl': 422, 'bowler': 423, 'box': 424, 'boxes': 425, 'boy': 426, 'boys': 427, 'brain': 428, 'brains': 429, 'branch': 430, 'branches': 431, 'brand': 432, 'brandishing': 433, 'brass': 434, 'brave': 435, 'bread': 436, 'break': 437, 'breakfast': 438, 'breaking': 439, 'breath': 440, 'breathe': 441, 'breathed': 442, 'breathing': 443, 'breathless': 444, 'breathlessly': 445, 'breeze': 446, 'brick': 447, 'bridge': 448, 'brief': 449, 'briefly': 450, 'bright': 451, 'brightly': 452, 'brilliant': 453, 'bring': 454, 'bringing': 455, 'briskly': 456, 'britain': 457, 'broad': 458, 'broadly': 459, 'broke': 460, 'broken': 461, 'bronze': 462, 'broom': 463, 'brooms': 464, 'broomstick': 465, 'broomsticks': 466, 'brother': 467, 'brothers': 468, 'brought': 469, 'brow': 470, 'brown': 471, 'brushed': 472, 'brushing': 473, 'brutal': 474, 'bu': 475, 'bubble': 476, 'bubbles': 477, 'buckbeak': 478, 'bucket': 479, 'building': 480, 'built': 481, 'bulgarian': 482, 'bulging': 483, 'bunch': 484, 'bunk': 485, 'buried': 486, 'burkes': 487, 'burn': 488, 'burned': 489, 'burning': 490, 'burrow': 491, 'burst': 492, 'bursting': 493, 'bus': 494, 'bush': 495, 'bushes': 496, 'bushy': 497, 'business': 498, 'bustled': 499, 'bustling': 500, 'busy': 501, 'butterbeer': 502, 'button': 503, 'buy': 504, 'buying': 505, 'buzzing': 506, 'bye': 507, 'c': 508, 'cabin': 509, 'cabinet': 510, 'cackling': 511, 'cadogan': 512, 'cage': 513, 'cake': 514, 'cakes': 515, 'call': 516, 'called': 517, 'calling': 518, 'calm': 519, 'calmly': 520, 'came': 521, 'camera': 522, 'campsite': 523, 'candle': 524, 'candlelight': 525, 'candles': 526, 'cannot': 527, 'canvas': 528, 'capable': 529, 'captain': 530, 'capture': 531, 'car': 532, 'card': 533, 'cards': 534, 'care': 535, 'cared': 536, 'career': 537, 'careful': 538, 'carefully': 539, 'cares': 540, 'caretaker': 541, 'carpet': 542, 'carriage': 543, 'carriages': 544, 'carried': 545, 'carrows': 546, 'carry': 547, 'carrying': 548, 'cars': 549, 'cart': 550, 'carved': 551, 'case': 552, 'cast': 553, 'casting': 554, 'castle': 555, 'casual': 556, 'casually': 557, 'cat': 558, 'catch': 559, 'catching': 560, 'cats': 561, 'cattermole': 562, 'caught': 563, 'cauldron': 564, 'cauldrons': 565, 'cause': 566, 'caused': 567, 'causing': 568, 'caution': 569, 'cautiously': 570, 'cave': 571, 'cedric': 572, 'ceiling': 573, 'cellar': 574, 'centaur': 575, 'centaurs': 576, 'center': 577, 'centuries': 578, 'century': 579, 'certain': 580, 'certainly': 581, 'chain': 582, 'chained': 583, 'chains': 584, 'chair': 585, 'chairs': 586, 'chamber': 587, 'champion': 588, 'champions': 589, 'chance': 590, 'chances': 591, 'chandelier': 592, 'chang': 593, 'change': 594, 'changed': 595, 'changing': 596, 'chapter': 597, 'charge': 598, 'charged': 599, 'charlie': 600, 'charm': 601, 'charming': 602, 'charms': 603, 'chart': 604, 'chase': 605, 'chased': 606, 'chaser': 607, 'chasers': 608, 'chasing': 609, 'chat': 610, 'chattering': 611, 'check': 612, 'checked': 613, 'checking': 614, 'cheek': 615, 'cheeks': 616, 'cheer': 617, 'cheered': 618, 'cheerful': 619, 'cheerfully': 620, 'cheering': 621, 'cheers': 622, 'chess': 623, 'chest': 624, 'chewing': 625, 'chicken': 626, 'child': 627, 'children': 628, 'chill': 629, 'chilly': 630, 'chin': 631, 'cho': 632, 'chocolate': 633, 'choice': 634, 'choked': 635, 'choose': 636, 'chose': 637, 'chosen': 638, 'christmas': 639, 'chuckled': 640, 'church': 641, 'circle': 642, 'circling': 643, 'circular': 644, 'circumstances': 645, 'clambered': 646, 'clamped': 647, 'clanking': 648, 'clapped': 649, 'clapping': 650, 'class': 651, 'classes': 652, 'classroom': 653, 'clatter': 654, 'clattering': 655, 'clean': 656, 'cleaning': 657, 'clear': 658, 'cleared': 659, 'clearer': 660, 'clearing': 661, 'clearly': 662, 'clenched': 663, 'clever': 664, 'clicked': 665, 'clicking': 666, 'cliff': 667, 'climb': 668, 'climbed': 669, 'climbing': 670, 'clipboard': 671, 'cloak': 672, 'cloaks': 673, 'clock': 674, 'close': 675, 'closed': 676, 'closely': 677, 'closer': 678, 'closest': 679, 'closing': 680, 'clothes': 681, 'cloud': 682, 'clouds': 683, 'club': 684, 'clue': 685, 'clunk': 686, 'clutched': 687, 'clutching': 688, 'coat': 689, 'coffee': 690, 'coins': 691, 'cold': 692, 'coldly': 693, 'cole': 694, 'colin': 695, 'collapsed': 696, 'collar': 697, 'collect': 698, 'collecting': 699, 'collection': 700, 'collided': 701, 'color': 702, 'colored': 703, 'colour': 704, 'come': 705, 'comes': 706, 'comfort': 707, 'comfortable': 708, 'comin': 709, 'coming': 710, 'command': 711, 'committee': 712, 'common': 713, 'community': 714, 'company': 715, 'compared': 716, 'compartment': 717, 'compete': 718, 'complain': 719, 'complaining': 720, 'complete': 721, 'completely': 722, 'complex': 723, 'complicated': 724, 'concealed': 725, 'concentrate': 726, 'concentrating': 727, 'concentration': 728, 'concern': 729, 'concerned': 730, 'condition': 731, 'conditions': 732, 'confederation': 733, 'confidence': 734, 'confident': 735, 'confused': 736, 'confusion': 737, 'conjured': 738, 'connected': 739, 'connection': 740, 'conscious': 741, 'consider': 742, 'considerable': 743, 'considered': 744, 'considering': 745, 'constant': 746, 'contact': 747, 'contained': 748, 'containing': 749, 'contents': 750, 'continue': 751, 'continued': 752, 'continuing': 753, 'contorted': 754, 'contrary': 755, 'control': 756, 'controlled': 757, 'conversation': 758, 'convince': 759, 'convinced': 760, 'cooking': 761, 'cool': 762, 'coolly': 763, 'copies': 764, 'copy': 765, 'cornelius': 766, 'corner': 767, 'cornered': 768, 'corners': 769, 'correct': 770, 'corrected': 771, 'corridor': 772, 'corridors': 773, 'cost': 774, 'cottage': 775, 'cough': 776, 'could': 777, 'count': 778, 'counted': 779, 'counter': 780, 'counting': 781, 'country': 782, 'couple': 783, 'courage': 784, 'course': 785, 'court': 786, 'courtyard': 787, 'cousin': 788, 'cover': 789, 'covered': 790, 'covering': 791, 'covers': 792, 'cowering': 793, 'cozy': 794, 'crabbe': 795, 'crack': 796, 'cracked': 797, 'crackling': 798, 'crammed': 799, 'craning': 800, 'crash': 801, 'crashed': 802, 'crashing': 803, 'crate': 804, 'crawled': 805, 'creaked': 806, 'creaking': 807, 'cream': 808, 'creature': 809, 'creatures': 810, 'creeping': 811, 'creevey': 812, 'crept': 813, 'cried': 814, 'cries': 815, 'crime': 816, 'croaked': 817, 'crooked': 818, 'crookshanks': 819, 'cross': 820, 'crossbow': 821, 'crossed': 822, 'crossing': 823, 'crouch': 824, 'crouched': 825, 'crouching': 826, 'crowd': 827, 'crowded': 828, 'cruciatus': 829, 'cruel': 830, 'crumpled': 831, 'cry': 832, 'crying': 833, 'crystal': 834, 'cup': 835, 'cupboard': 836, 'cups': 837, 'curiosity': 838, 'curious': 839, 'curiously': 840, 'curled': 841, 'curling': 842, 'curly': 843, 'currently': 844, 'curse': 845, 'cursed': 846, 'curses': 847, 'curtain': 848, 'curtains': 849, 'curtly': 850, 'curved': 851, 'cushion': 852, 'cushions': 853, 'cut': 854, 'cuts': 855, 'cutting': 856, 'da': 857, 'dad': 858, 'daddy': 859, 'daily': 860, 'dais': 861, 'damage': 862, 'damn': 863, 'damp': 864, 'dance': 865, 'dancing': 866, 'danger': 867, 'dangerous': 868, 'dangerously': 869, 'dangling': 870, 'dare': 871, 'dared': 872, 'daresay': 873, 'daring': 874, 'dark': 875, 'darker': 876, 'darkly': 877, 'darkness': 878, 'darted': 879, 'darting': 880, 'dashed': 881, 'dashing': 882, 'date': 883, 'daughter': 884, 'davies': 885, 'dawlish': 886, 'dawn': 887, 'day': 888, 'daylight': 889, 'days': 890, 'dazed': 891, 'dazzling': 892, 'de': 893, 'dead': 894, 'deadly': 895, 'deafening': 896, 'deal': 897, 'dealing': 898, 'dean': 899, 'dear': 900, 'death': 901, 'deathly': 902, 'deaths': 903, 'decent': 904, 'decide': 905, 'decided': 906, 'decision': 907, 'decorated': 908, 'decree': 909, 'dedalus': 910, 'deep': 911, 'deeper': 912, 'deepest': 913, 'deeply': 914, 'defeated': 915, 'defence': 916, 'defend': 917, 'defense': 918, 'defensive': 919, 'defiantly': 920, 'definite': 921, 'definitely': 922, 'delacour': 923, 'deliberately': 924, 'delicious': 925, 'delight': 926, 'delighted': 927, 'deliver': 928, 'delivered': 929, 'deluminator': 930, 'demanded': 931, 'dementor': 932, 'dementors': 933, 'dennis': 934, 'deny': 935, 'departed': 936, 'department': 937, 'departure': 938, 'depths': 939, 'descended': 940, 'descending': 941, 'described': 942, 'deserted': 943, 'deserve': 944, 'deserved': 945, 'desire': 946, 'desk': 947, 'desks': 948, 'despair': 949, 'desperate': 950, 'desperately': 951, 'desperation': 952, 'despite': 953, 'destination': 954, 'destroy': 955, 'destroyed': 956, 'detail': 957, 'details': 958, 'detention': 959, 'detentions': 960, 'determination': 961, 'determined': 962, 'devil': 963, 'devoted': 964, 'diadem': 965, 'diagon': 966, 'diary': 967, 'die': 968, 'died': 969, 'difference': 970, 'different': 971, 'difficult': 972, 'difficulty': 973, 'diggory': 974, 'dim': 975, 'dimly': 976, 'dinner': 977, 'dippet': 978, 'directed': 979, 'direction': 980, 'directions': 981, 'directly': 982, 'dirk': 983, 'dirty': 984, 'disapparate': 985, 'disapparated': 986, 'disappear': 987, 'disappeared': 988, 'disappearing': 989, 'disappointed': 990, 'disappointment': 991, 'disbelief': 992, 'discover': 993, 'discovered': 994, 'discuss': 995, 'discussed': 996, 'discussing': 997, 'discussion': 998, 'disgruntled': 999, 'disguise': 1000, 'disgust': 1001, 'disgusting': 1002, 'dislike': 1003, 'display': 1004, 'dissolved': 1005, 'distance': 1006, 'distant': 1007, 'distinct': 1008, 'distinctly': 1009, 'distracted': 1010, 'distractedly': 1011, 'disturbed': 1012, 'dive': 1013, 'dived': 1014, 'divination': 1015, 'dobby': 1016, 'dodged': 1017, 'doe': 1018, 'dog': 1019, 'doge': 1020, 'doin': 1021, 'dolohov': 1022, 'dolores': 1023, 'done': 1024, 'door': 1025, 'doorknob': 1026, 'doors': 1027, 'doorway': 1028, 'dormitories': 1029, 'dormitory': 1030, 'dot': 1031, 'double': 1032, 'doubt': 1033, 'doubted': 1034, 'downstairs': 1035, 'dozen': 1036, 'draco': 1037, 'drag': 1038, 'dragged': 1039, 'dragging': 1040, 'dragon': 1041, 'dragons': 1042, 'drained': 1043, 'dramatically': 1044, 'drank': 1045, 'draped': 1046, 'draught': 1047, 'draw': 1048, 'drawer': 1049, 'drawers': 1050, 'drawing': 1051, 'drawn': 1052, 'dread': 1053, 'dreadful': 1054, 'dreading': 1055, 'dream': 1056, 'dreamed': 1057, 'dreaming': 1058, 'dreams': 1059, 'dress': 1060, 'dressed': 1061, 'dressing': 1062, 'drew': 1063, 'dried': 1064, 'drifted': 1065, 'drifting': 1066, 'drink': 1067, 'drinking': 1068, 'drinks': 1069, 'dripping': 1070, 'drive': 1071, 'driven': 1072, 'driving': 1073, 'drop': 1074, 'dropped': 1075, 'dropping': 1076, 'drops': 1077, 'drove': 1078, 'drowned': 1079, 'dry': 1080, 'duck': 1081, 'ducked': 1082, 'dudley': 1083, 'due': 1084, 'duel': 1085, 'dueling': 1086, 'dug': 1087, 'dull': 1088, 'dully': 1089, 'dumbledore': 1090, 'dumbledores': 1091, 'dung': 1092, 'dungeon': 1093, 'dungeons': 1094, 'dunno': 1095, 'durmstrang': 1096, 'dursley': 1097, 'dursleys': 1098, 'dust': 1099, 'dusty': 1100, 'duty': 1101, 'dying': 1102, 'e': 1103, 'eager': 1104, 'eagerly': 1105, 'eagle': 1106, 'ear': 1107, 'earlier': 1108, 'early': 1109, 'earned': 1110, 'earnestly': 1111, 'ears': 1112, 'earshot': 1113, 'earth': 1114, 'ease': 1115, 'easier': 1116, 'easily': 1117, 'easter': 1118, 'easy': 1119, 'eat': 1120, 'eaten': 1121, 'eater': 1122, 'eaters': 1123, 'eating': 1124, 'echoed': 1125, 'echoing': 1126, 'edge': 1127, 'edged': 1128, 'edges': 1129, 'edging': 1130, 'educational': 1131, 'eerie': 1132, 'effect': 1133, 'effort': 1134, 'efforts': 1135, 'egg': 1136, 'eggs': 1137, 'eh': 1138, 'eight': 1139, 'either': 1140, 'elbow': 1141, 'elder': 1142, 'eleven': 1143, 'elf': 1144, 'elphias': 1145, 'else': 1146, 'elves': 1147, 'em': 1148, 'embarrassed': 1149, 'emerald': 1150, 'emerged': 1151, 'emerging': 1152, 'emotion': 1153, 'emptied': 1154, 'empty': 1155, 'enchanted': 1156, 'enchantments': 1157, 'enclosure': 1158, 'end': 1159, 'ended': 1160, 'ends': 1161, 'enemies': 1162, 'enemy': 1163, 'enforcement': 1164, 'engine': 1165, 'english': 1166, 'enjoy': 1167, 'enjoyed': 1168, 'enjoying': 1169, 'enormous': 1170, 'enough': 1171, 'ensure': 1172, 'enter': 1173, 'entered': 1174, 'entering': 1175, 'enthusiasm': 1176, 'enthusiastically': 1177, 'entire': 1178, 'entirely': 1179, 'entrance': 1180, 'envelope': 1181, 'equal': 1182, 'er': 1183, 'ere': 1184, 'erm': 1185, 'ern': 1186, 'ernie': 1187, 'errol': 1188, 'erupted': 1189, 'escape': 1190, 'escaped': 1191, 'especially': 1192, 'essay': 1193, 'essential': 1194, 'etched': 1195, 'even': 1196, 'evening': 1197, 'evenings': 1198, 'events': 1199, 'ever': 1200, 'every': 1201, 'everybody': 1202, 'everyone': 1203, 'everything': 1204, 'everywhere': 1205, 'evidence': 1206, 'evidently': 1207, 'evil': 1208, 'ex': 1209, 'exactly': 1210, 'exam': 1211, 'examination': 1212, 'examine': 1213, 'examined': 1214, 'examining': 1215, 'exams': 1216, 'exasperated': 1217, 'excellent': 1218, 'except': 1219, 'exceptionally': 1220, 'exchange': 1221, 'exchanged': 1222, 'excited': 1223, 'excitedly': 1224, 'excitement': 1225, 'exciting': 1226, 'excuse': 1227, 'exhausted': 1228, 'exist': 1229, 'existence': 1230, 'expect': 1231, 'expected': 1232, 'expecting': 1233, 'expecto': 1234, 'expelled': 1235, 'expelliarmus': 1236, 'experience': 1237, 'experienced': 1238, 'explain': 1239, 'explained': 1240, 'explaining': 1241, 'explanation': 1242, 'exploded': 1243, 'exploding': 1244, 'explosion': 1245, 'express': 1246, 'expression': 1247, 'expressions': 1248, 'extendable': 1249, 'extinguished': 1250, 'extra': 1251, 'extraordinary': 1252, 'extremely': 1253, 'eye': 1254, 'eyebrows': 1255, 'eyed': 1256, 'eyeing': 1257, 'eyelids': 1258, 'eyes': 1259, 'f': 1260, 'face': 1261, 'faced': 1262, 'faces': 1263, 'facing': 1264, 'fact': 1265, 'facts': 1266, 'faded': 1267, 'fading': 1268, 'fail': 1269, 'failed': 1270, 'faint': 1271, 'faintest': 1272, 'faintly': 1273, 'fair': 1274, 'fairly': 1275, 'faithful': 1276, 'fake': 1277, 'fall': 1278, 'fallen': 1279, 'falling': 1280, 'false': 1281, 'familiar': 1282, 'families': 1283, 'family': 1284, 'famous': 1285, 'fan': 1286, 'fancy': 1287, 'fang': 1288, 'fangs': 1289, 'far': 1290, 'farther': 1291, 'fascinating': 1292, 'fashion': 1293, 'fashioned': 1294, 'fast': 1295, 'faster': 1296, 'fat': 1297, 'father': 1298, 'fault': 1299, 'favor': 1300, 'favorite': 1301, 'favourite': 1302, 'fawkes': 1303, 'fear': 1304, 'feared': 1305, 'fears': 1306, 'feast': 1307, 'feather': 1308, 'feathers': 1309, 'features': 1310, 'fed': 1311, 'feeble': 1312, 'feebly': 1313, 'feed': 1314, 'feel': 1315, 'feeling': 1316, 'feelings': 1317, 'feels': 1318, 'feet': 1319, 'felicis': 1320, 'felix': 1321, 'fell': 1322, 'fellow': 1323, 'fellows': 1324, 'felt': 1325, 'female': 1326, 'fence': 1327, 'fer': 1328, 'ferret': 1329, 'fetch': 1330, 'feverishly': 1331, 'field': 1332, 'fierce': 1333, 'fiercely': 1334, 'fiery': 1335, 'fifteen': 1336, 'fifth': 1337, 'fifty': 1338, 'figg': 1339, 'fight': 1340, 'fighting': 1341, 'figure': 1342, 'figures': 1343, 'filch': 1344, 'filed': 1345, 'fill': 1346, 'filled': 1347, 'filling': 1348, 'filth': 1349, 'filthy': 1350, 'final': 1351, 'finally': 1352, 'finch': 1353, 'find': 1354, 'finding': 1355, 'finds': 1356, 'fine': 1357, 'finger': 1358, 'fingered': 1359, 'fingers': 1360, 'finish': 1361, 'finished': 1362, 'finishing': 1363, 'finnigan': 1364, 'fire': 1365, 'firebolt': 1366, 'firelight': 1367, 'firenze': 1368, 'fireplace': 1369, 'fires': 1370, 'firewhisky': 1371, 'fireworks': 1372, 'firm': 1373, 'firmly': 1374, 'firs': 1375, 'first': 1376, 'fish': 1377, 'fist': 1378, 'fists': 1379, 'fit': 1380, 'five': 1381, 'fix': 1382, 'fixed': 1383, 'flame': 1384, 'flamel': 1385, 'flames': 1386, 'flaming': 1387, 'flapped': 1388, 'flapping': 1389, 'flash': 1390, 'flashed': 1391, 'flashing': 1392, 'flask': 1393, 'flat': 1394, 'flatly': 1395, 'flattened': 1396, 'flavor': 1397, 'fled': 1398, 'fleeting': 1399, 'flesh': 1400, 'fletcher': 1401, 'fleur': 1402, 'flew': 1403, 'flick': 1404, 'flicked': 1405, 'flickered': 1406, 'flickering': 1407, 'flight': 1408, 'flint': 1409, 'flitwick': 1410, 'floated': 1411, 'floating': 1412, 'floo': 1413, 'flooded': 1414, 'flooding': 1415, 'floor': 1416, 'floors': 1417, 'flourish': 1418, 'flowers': 1419, 'flown': 1420, 'fluffy': 1421, 'flung': 1422, 'flushed': 1423, 'fluttered': 1424, 'fluttering': 1425, 'fly': 1426, 'flying': 1427, 'focus': 1428, 'focused': 1429, 'folded': 1430, 'follow': 1431, 'followed': 1432, 'followers': 1433, 'following': 1434, 'fond': 1435, 'food': 1436, 'fool': 1437, 'foolish': 1438, 'foot': 1439, 'footsteps': 1440, 'forbidden': 1441, 'force': 1442, 'forced': 1443, 'forcefully': 1444, 'forcing': 1445, 'forehead': 1446, 'foreign': 1447, 'forest': 1448, 'forever': 1449, 'forget': 1450, 'forgetting': 1451, 'forgive': 1452, 'forgot': 1453, 'forgotten': 1454, 'fork': 1455, 'form': 1456, 'formed': 1457, 'forming': 1458, 'fortune': 1459, 'forty': 1460, 'forward': 1461, 'forwards': 1462, 'fought': 1463, 'foul': 1464, 'found': 1465, 'fountain': 1466, 'four': 1467, 'fourteen': 1468, 'fourth': 1469, 'fragment': 1470, 'fragments': 1471, 'frail': 1472, 'frame': 1473, 'frames': 1474, 'frank': 1475, 'frantic': 1476, 'frantically': 1477, 'fred': 1478, 'free': 1479, 'freedom': 1480, 'freezing': 1481, 'fresh': 1482, 'freshly': 1483, 'friday': 1484, 'friend': 1485, 'friendly': 1486, 'friends': 1487, 'friendship': 1488, 'fright': 1489, 'frightened': 1490, 'frightening': 1491, 'frog': 1492, 'front': 1493, 'frowned': 1494, 'frowning': 1495, 'froze': 1496, 'frozen': 1497, 'frustration': 1498, 'fudge': 1499, 'full': 1500, 'fully': 1501, 'fumbled': 1502, 'fun': 1503, 'funeral': 1504, 'funny': 1505, 'furious': 1506, 'furiously': 1507, 'fury': 1508, 'future': 1509, 'g': 1510, 'gain': 1511, 'gained': 1512, 'galleon': 1513, 'galleons': 1514, 'galloping': 1515, 'game': 1516, 'gamekeeper': 1517, 'games': 1518, 'gang': 1519, 'gap': 1520, 'gaped': 1521, 'gaping': 1522, 'garden': 1523, 'gargoyle': 1524, 'gas': 1525, 'gasp': 1526, 'gasped': 1527, 'gasping': 1528, 'gate': 1529, 'gates': 1530, 'gather': 1531, 'gathered': 1532, 'gathering': 1533, 'gaunt': 1534, 'gave': 1535, 'gaze': 1536, 'gazed': 1537, 'gazing': 1538, 'general': 1539, 'generally': 1540, 'gentle': 1541, 'gently': 1542, 'george': 1543, 'gesture': 1544, 'gestured': 1545, 'gesturing': 1546, 'get': 1547, 'gets': 1548, 'gettin': 1549, 'getting': 1550, 'ghost': 1551, 'ghostly': 1552, 'ghosts': 1553, 'giant': 1554, 'giants': 1555, 'gift': 1556, 'gigantic': 1557, 'giggled': 1558, 'giggling': 1559, 'gilderoy': 1560, 'ginger': 1561, 'ginny': 1562, 'girl': 1563, 'girlfriend': 1564, 'girls': 1565, 'git': 1566, 'give': 1567, 'given': 1568, 'gives': 1569, 'giving': 1570, 'glad': 1571, 'glance': 1572, 'glanced': 1573, 'glancing': 1574, 'glare': 1575, 'glared': 1576, 'glaring': 1577, 'glass': 1578, 'glasses': 1579, 'gleamed': 1580, 'gleaming': 1581, 'gleefully': 1582, 'glided': 1583, 'gliding': 1584, 'glimpse': 1585, 'glimpsed': 1586, 'glinting': 1587, 'glittered': 1588, 'glittering': 1589, 'gloom': 1590, 'gloomily': 1591, 'gloomy': 1592, 'glory': 1593, 'gloves': 1594, 'glow': 1595, 'glowed': 1596, 'glowering': 1597, 'glowing': 1598, 'gnarled': 1599, 'gnome': 1600, 'gnomes': 1601, 'go': 1602, 'goal': 1603, 'goals': 1604, 'goblet': 1605, 'goblets': 1606, 'goblin': 1607, 'goblins': 1608, 'god': 1609, 'godfather': 1610, 'godric': 1611, 'goes': 1612, 'goggling': 1613, 'goin': 1614, 'going': 1615, 'gold': 1616, 'golden': 1617, 'gone': 1618, 'good': 1619, 'goodness': 1620, 'got': 1621, 'gotta': 1622, 'gotten': 1623, 'gown': 1624, 'goyle': 1625, 'grab': 1626, 'grabbed': 1627, 'grabbing': 1628, 'grade': 1629, 'gran': 1630, 'grandfather': 1631, 'grandmother': 1632, 'granger': 1633, 'grasp': 1634, 'grasped': 1635, 'grass': 1636, 'grate': 1637, 'grateful': 1638, 'grave': 1639, 'graveyard': 1640, 'grawp': 1641, 'gray': 1642, 'greasy': 1643, 'great': 1644, 'greater': 1645, 'greatest': 1646, 'greatly': 1647, 'green': 1648, 'greenhouse': 1649, 'greenhouses': 1650, 'greenish': 1651, 'greeted': 1652, 'gregorovitch': 1653, 'grew': 1654, 'grey': 1655, 'greyback': 1656, 'grief': 1657, 'grim': 1658, 'grimly': 1659, 'grimmauld': 1660, 'grin': 1661, 'grindelwald': 1662, 'gringotts': 1663, 'grinned': 1664, 'grinning': 1665, 'grip': 1666, 'griphook': 1667, 'gripped': 1668, 'gripping': 1669, 'gritted': 1670, 'groan': 1671, 'groaned': 1672, 'groped': 1673, 'ground': 1674, 'grounds': 1675, 'group': 1676, 'groups': 1677, 'grow': 1678, 'growing': 1679, 'growled': 1680, 'grown': 1681, 'grubbly': 1682, 'grubby': 1683, 'gruffly': 1684, 'grumpily': 1685, 'grunted': 1686, 'gryffindor': 1687, 'gryffindors': 1688, 'guard': 1689, 'guarding': 1690, 'guards': 1691, 'guess': 1692, 'guessed': 1693, 'guests': 1694, 'guide': 1695, 'guilt': 1696, 'guilty': 1697, 'gulp': 1698, 'gulped': 1699, 'h': 1700, 'ha': 1701, 'habit': 1702, 'hagrid': 1703, 'hair': 1704, 'haired': 1705, 'hairs': 1706, 'hairy': 1707, 'half': 1708, 'halfway': 1709, 'hall': 1710, 'halloween': 1711, 'hallows': 1712, 'hallway': 1713, 'halt': 1714, 'hammering': 1715, 'hand': 1716, 'handbag': 1717, 'handed': 1718, 'handful': 1719, 'handing': 1720, 'handkerchief': 1721, 'handle': 1722, 'hands': 1723, 'handsome': 1724, 'hang': 1725, 'hanging': 1726, 'hangings': 1727, 'hannah': 1728, 'happen': 1729, 'happened': 1730, 'happening': 1731, 'happens': 1732, 'happier': 1733, 'happily': 1734, 'happiness': 1735, 'happy': 1736, 'hard': 1737, 'harder': 1738, 'hardly': 1739, 'harm': 1740, 'harry': 1741, 'harrys': 1742, 'harsh': 1743, 'hastily': 1744, 'hat': 1745, 'hate': 1746, 'hated': 1747, 'hatred': 1748, 'hats': 1749, 'head': 1750, 'headed': 1751, 'heading': 1752, 'headless': 1753, 'headline': 1754, 'headmaster': 1755, 'headmasters': 1756, 'headmistress': 1757, 'headquarters': 1758, 'heads': 1759, 'headstone': 1760, 'healer': 1761, 'health': 1762, 'heap': 1763, 'hear': 1764, 'heard': 1765, 'hearing': 1766, 'heart': 1767, 'heartily': 1768, 'heat': 1769, 'heaved': 1770, 'heaven': 1771, 'heavens': 1772, 'heavily': 1773, 'heaving': 1774, 'heavy': 1775, 'hedge': 1776, 'hedwig': 1777, 'heel': 1778, 'heels': 1779, 'height': 1780, 'heir': 1781, 'held': 1782, 'hell': 1783, 'hello': 1784, 'help': 1785, 'helped': 1786, 'helping': 1787, 'hem': 1788, 'hepzibah': 1789, 'herbology': 1790, 'hermione': 1791, 'hero': 1792, 'hesitated': 1793, 'hestia': 1794, 'hex': 1795, 'hexes': 1796, 'hey': 1797, 'hi': 1798, 'hic': 1799, 'hid': 1800, 'hidden': 1801, 'hide': 1802, 'hiding': 1803, 'high': 1804, 'higher': 1805, 'highest': 1806, 'highly': 1807, 'hill': 1808, 'hint': 1809, 'hippogriff': 1810, 'hiss': 1811, 'hissed': 1812, 'hissing': 1813, 'history': 1814, 'hit': 1815, 'hitting': 1816, 'hmm': 1817, 'hoarse': 1818, 'hoarsely': 1819, 'hog': 1820, 'hogsmeade': 1821, 'hogwarts': 1822, 'hoisted': 1823, 'hokey': 1824, 'hold': 1825, 'holding': 1826, 'hole': 1827, 'holes': 1828, 'holiday': 1829, 'holidays': 1830, 'hollow': 1831, 'holly': 1832, 'home': 1833, 'homework': 1834, 'honest': 1835, 'honestly': 1836, 'honeydukes': 1837, 'honor': 1838, 'hooch': 1839, 'hood': 1840, 'hooded': 1841, 'hooked': 1842, 'hoop': 1843, 'hoops': 1844, 'hooted': 1845, 'hooting': 1846, 'hope': 1847, 'hoped': 1848, 'hopeful': 1849, 'hopefully': 1850, 'hopelessly': 1851, 'hoping': 1852, 'horace': 1853, 'horcrux': 1854, 'horcruxes': 1855, 'horn': 1856, 'horned': 1857, 'horntail': 1858, 'horrible': 1859, 'horribly': 1860, 'horrified': 1861, 'horror': 1862, 'horse': 1863, 'horses': 1864, 'hospital': 1865, 'hot': 1866, 'hotly': 1867, 'hour': 1868, 'hours': 1869, 'house': 1870, 'houses': 1871, 'hovering': 1872, 'however': 1873, 'howl': 1874, 'howled': 1875, 'howler': 1876, 'howling': 1877, 'huddled': 1878, 'hufflepuff': 1879, 'hufflepuffs': 1880, 'hug': 1881, 'huge': 1882, 'hugged': 1883, 'hugging': 1884, 'human': 1885, 'humans': 1886, 'hundred': 1887, 'hundreds': 1888, 'hung': 1889, 'hungry': 1890, 'hunt': 1891, 'hunting': 1892, 'hurried': 1893, 'hurriedly': 1894, 'hurry': 1895, 'hurrying': 1896, 'hurt': 1897, 'hurting': 1898, 'hurtled': 1899, 'hurtling': 1900, 'husband': 1901, 'hushed': 1902, 'hut': 1903, 'ice': 1904, 'icy': 1905, 'id': 1906, 'idea': 1907, 'ideas': 1908, 'identical': 1909, 'idiot': 1910, 'ignore': 1911, 'ignored': 1912, 'ignoring': 1913, 'ill': 1914, 'illegal': 1915, 'illuminated': 1916, 'im': 1917, 'image': 1918, 'imagination': 1919, 'imagine': 1920, 'imagined': 1921, 'imagining': 1922, 'immediate': 1923, 'immediately': 1924, 'immense': 1925, 'immensely': 1926, 'impatiently': 1927, 'imperius': 1928, 'importance': 1929, 'important': 1930, 'impossible': 1931, 'impressed': 1932, 'impression': 1933, 'impressive': 1934, 'incantation': 1935, 'inch': 1936, 'inches': 1937, 'including': 1938, 'increased': 1939, 'increasingly': 1940, 'incredible': 1941, 'incredulously': 1942, 'indeed': 1943, 'indicated': 1944, 'indicating': 1945, 'indignantly': 1946, 'indignation': 1947, 'inferi': 1948, 'information': 1949, 'informed': 1950, 'ing': 1951, 'ingredients': 1952, 'inherited': 1953, 'injured': 1954, 'injuries': 1955, 'injury': 1956, 'ink': 1957, 'inner': 1958, 'innocent': 1959, 'inquisitor': 1960, 'insane': 1961, 'inside': 1962, 'insides': 1963, 'insisted': 1964, 'instance': 1965, 'instant': 1966, 'instantly': 1967, 'instead': 1968, 'instinctively': 1969, 'instructions': 1970, 'instruments': 1971, 'insult': 1972, 'intended': 1973, 'intent': 1974, 'intently': 1975, 'inter': 1976, 'interest': 1977, 'interested': 1978, 'interesting': 1979, 'international': 1980, 'interrupted': 1981, 'interview': 1982, 'introduce': 1983, 'invented': 1984, 'investigate': 1985, 'invisibility': 1986, 'invisible': 1987, 'invitation': 1988, 'invite': 1989, 'invited': 1990, 'involved': 1991, 'ireland': 1992, 'irish': 1993, 'iron': 1994, 'irritably': 1995, 'irritated': 1996, 'issued': 1997, 'issuing': 1998, 'jacket': 1999, 'james': 2000, 'jar': 2001, 'jaw': 2002, 'jealous': 2003, 'jeans': 2004, 'jeering': 2005, 'jerk': 2006, 'jerked': 2007, 'jerking': 2008, 'jet': 2009, 'jets': 2010, 'jinx': 2011, 'jinxes': 2012, 'job': 2013, 'johnson': 2014, 'join': 2015, 'joined': 2016, 'joining': 2017, 'joke': 2018, 'joking': 2019, 'jolt': 2020, 'jordan': 2021, 'jorkins': 2022, 'journey': 2023, 'judge': 2024, 'judges': 2025, 'judging': 2026, 'jug': 2027, 'juice': 2028, 'jump': 2029, 'jumped': 2030, 'jumping': 2031, 'june': 2032, 'jus': 2033, 'justin': 2034, 'karkaroff': 2035, 'katie': 2036, 'kedavra': 2037, 'keen': 2038, 'keep': 2039, 'keeper': 2040, 'keeping': 2041, 'keeps': 2042, 'kendra': 2043, 'kept': 2044, 'kettle': 2045, 'key': 2046, 'keys': 2047, 'kick': 2048, 'kicked': 2049, 'kid': 2050, 'kidding': 2051, 'kids': 2052, 'kill': 2053, 'killed': 2054, 'killing': 2055, 'kind': 2056, 'kindly': 2057, 'king': 2058, 'kingsley': 2059, 'kiss': 2060, 'kissed': 2061, 'kissing': 2062, 'kitchen': 2063, 'kitchens': 2064, 'knee': 2065, 'kneeling': 2066, 'knees': 2067, 'knew': 2068, 'knife': 2069, 'knight': 2070, 'knives': 2071, 'knock': 2072, 'knocked': 2073, 'knocking': 2074, 'knot': 2075, 'know': 2076, 'knowing': 2077, 'knowledge': 2078, 'known': 2079, 'knows': 2080, 'knuckles': 2081, 'kreacher': 2082, 'krum': 2083, 'l': 2084, 'lace': 2085, 'lack': 2086, 'ladder': 2087, 'laden': 2088, 'ladies': 2089, 'lady': 2090, 'laid': 2091, 'lake': 2092, 'lamp': 2093, 'lamps': 2094, 'land': 2095, 'landed': 2096, 'landing': 2097, 'lane': 2098, 'language': 2099, 'lantern': 2100, 'lap': 2101, 'large': 2102, 'larger': 2103, 'largest': 2104, 'last': 2105, 'lasted': 2106, 'late': 2107, 'lately': 2108, 'later': 2109, 'laugh': 2110, 'laughed': 2111, 'laughing': 2112, 'laughter': 2113, 'launched': 2114, 'lavender': 2115, 'law': 2116, 'lawn': 2117, 'lawns': 2118, 'lay': 2119, 'lazily': 2120, 'lead': 2121, 'leading': 2122, 'league': 2123, 'leaky': 2124, 'leaned': 2125, 'leaning': 2126, 'leanne': 2127, 'leap': 2128, 'leaping': 2129, 'leapt': 2130, 'learn': 2131, 'learned': 2132, 'learning': 2133, 'least': 2134, 'leather': 2135, 'leave': 2136, 'leaves': 2137, 'leaving': 2138, 'led': 2139, 'lee': 2140, 'left': 2141, 'leg': 2142, 'legged': 2143, 'legs': 2144, 'length': 2145, 'less': 2146, 'lesson': 2147, 'lessons': 2148, 'lestrange': 2149, 'let': 2150, 'letter': 2151, 'letters': 2152, 'letting': 2153, 'level': 2154, 'liar': 2155, 'library': 2156, 'lid': 2157, 'lie': 2158, 'lied': 2159, 'lies': 2160, 'life': 2161, 'lift': 2162, 'lifted': 2163, 'lifting': 2164, 'light': 2165, 'lightly': 2166, 'lightning': 2167, 'lights': 2168, 'like': 2169, 'liked': 2170, 'likely': 2171, 'likes': 2172, 'liking': 2173, 'lily': 2174, 'lime': 2175, 'limp': 2176, 'limped': 2177, 'limping': 2178, 'line': 2179, 'lined': 2180, 'lines': 2181, 'lingered': 2182, 'lip': 2183, 'lips': 2184, 'liquid': 2185, 'list': 2186, 'listen': 2187, 'listened': 2188, 'listening': 2189, 'lit': 2190, 'littered': 2191, 'little': 2192, 'live': 2193, 'lived': 2194, 'lives': 2195, 'livid': 2196, 'living': 2197, 'load': 2198, 'loads': 2199, 'loathed': 2200, 'lock': 2201, 'locked': 2202, 'locker': 2203, 'locket': 2204, 'lockhart': 2205, 'london': 2206, 'lonely': 2207, 'long': 2208, 'longbottom': 2209, 'longer': 2210, 'longing': 2211, 'look': 2212, 'looked': 2213, 'lookin': 2214, 'looking': 2215, 'lookout': 2216, 'looks': 2217, 'loony': 2218, 'loose': 2219, 'lopsided': 2220, 'lord': 2221, 'lose': 2222, 'losing': 2223, 'loss': 2224, 'lost': 2225, 'lot': 2226, 'lots': 2227, 'loud': 2228, 'louder': 2229, 'loudly': 2230, 'love': 2231, 'loved': 2232, 'lovegood': 2233, 'lovely': 2234, 'low': 2235, 'lower': 2236, 'lowered': 2237, 'lowering': 2238, 'lucius': 2239, 'luck': 2240, 'lucky': 2241, 'ludo': 2242, 'luggage': 2243, 'lumos': 2244, 'lump': 2245, 'luna': 2246, 'lunch': 2247, 'lunged': 2248, 'lungs': 2249, 'lupin': 2250, 'lurking': 2251, 'lying': 2252, 'lynch': 2253, 'macmillan': 2254, 'macnair': 2255, 'mad': 2256, 'madam': 2257, 'madame': 2258, 'made': 2259, 'madly': 2260, 'mafalda': 2261, 'magazine': 2262, 'magic': 2263, 'magical': 2264, 'magically': 2265, 'magnificent': 2266, 'magnified': 2267, 'magnolia': 2268, 'magorian': 2269, 'mail': 2270, 'main': 2271, 'mainly': 2272, 'make': 2273, 'makes': 2274, 'making': 2275, 'malfoy': 2276, 'malfoys': 2277, 'malkin': 2278, 'man': 2279, 'manage': 2280, 'managed': 2281, 'managing': 2282, 'mane': 2283, 'manner': 2284, 'mantelpiece': 2285, 'many': 2286, 'map': 2287, 'marauder': 2288, 'marble': 2289, 'march': 2290, 'marchbanks': 2291, 'marched': 2292, 'marching': 2293, 'marge': 2294, 'marietta': 2295, 'mark': 2296, 'marked': 2297, 'marks': 2298, 'maroon': 2299, 'marquee': 2300, 'married': 2301, 'marvolo': 2302, 'masked': 2303, 'mass': 2304, 'massive': 2305, 'master': 2306, 'masters': 2307, 'match': 2308, 'mate': 2309, 'matter': 2310, 'matters': 2311, 'maxime': 2312, 'may': 2313, 'maybe': 2314, 'maze': 2315, 'mcgonagall': 2316, 'mclaggen': 2317, 'mead': 2318, 'mean': 2319, 'meaning': 2320, 'means': 2321, 'meant': 2322, 'meantime': 2323, 'meanwhile': 2324, 'measure': 2325, 'measures': 2326, 'meet': 2327, 'meeting': 2328, 'meetings': 2329, 'member': 2330, 'members': 2331, 'memories': 2332, 'memory': 2333, 'men': 2334, 'mend': 2335, 'mental': 2336, 'mention': 2337, 'mentioned': 2338, 'mercy': 2339, 'mere': 2340, 'merely': 2341, 'merlin': 2342, 'merope': 2343, 'merpeople': 2344, 'merry': 2345, 'mess': 2346, 'message': 2347, 'messing': 2348, 'met': 2349, 'metal': 2350, 'michael': 2351, 'mid': 2352, 'midair': 2353, 'middle': 2354, 'midnight': 2355, 'midst': 2356, 'might': 2357, 'mildly': 2358, 'miles': 2359, 'milk': 2360, 'millicent': 2361, 'mind': 2362, 'minds': 2363, 'mine': 2364, 'minerva': 2365, 'mingled': 2366, 'minister': 2367, 'ministry': 2368, 'minute': 2369, 'minutes': 2370, 'mirror': 2371, 'miserable': 2372, 'miserably': 2373, 'miss': 2374, 'missed': 2375, 'missing': 2376, 'mission': 2377, 'mist': 2378, 'mistake': 2379, 'mistaken': 2380, 'mistress': 2381, 'misty': 2382, 'mixed': 2383, 'mixture': 2384, 'moan': 2385, 'moaned': 2386, 'moaning': 2387, 'model': 2388, 'molly': 2389, 'mom': 2390, 'moment': 2391, 'momentarily': 2392, 'moments': 2393, 'mon': 2394, 'monday': 2395, 'money': 2396, 'monster': 2397, 'monsters': 2398, 'monstrous': 2399, 'montague': 2400, 'month': 2401, 'months': 2402, 'mood': 2403, 'moody': 2404, 'moon': 2405, 'moonlight': 2406, 'mopping': 2407, 'morfin': 2408, 'morning': 2409, 'mortal': 2410, 'mother': 2411, 'motionless': 2412, 'motorbike': 2413, 'mountain': 2414, 'mountains': 2415, 'mounted': 2416, 'mouth': 2417, 'mouthed': 2418, 'mouthful': 2419, 'mouths': 2420, 'move': 2421, 'moved': 2422, 'movement': 2423, 'movements': 2424, 'moving': 2425, 'mr': 2426, 'mrs': 2427, 'much': 2428, 'mud': 2429, 'mudblood': 2430, 'mudbloods': 2431, 'muddy': 2432, 'muffled': 2433, 'mug': 2434, 'muggle': 2435, 'muggles': 2436, 'mum': 2437, 'mumbled': 2438, 'mundungus': 2439, 'mungo': 2440, 'murder': 2441, 'murdered': 2442, 'murderer': 2443, 'muriel': 2444, 'murmur': 2445, 'murmured': 2446, 'music': 2447, 'must': 2448, 'mustache': 2449, 'muttered': 2450, 'muttering': 2451, 'myrtle': 2452, 'mysteries': 2453, 'mysterious': 2454, 'n': 2455, 'nagini': 2456, 'nah': 2457, 'name': 2458, 'named': 2459, 'names': 2460, 'narcissa': 2461, 'narrow': 2462, 'narrowed': 2463, 'narrowly': 2464, 'nasty': 2465, 'natural': 2466, 'naturally': 2467, 'nature': 2468, 'near': 2469, 'nearby': 2470, 'nearer': 2471, 'nearest': 2472, 'nearly': 2473, 'neat': 2474, 'neatly': 2475, 'necessary': 2476, 'neck': 2477, 'necklace': 2478, 'necks': 2479, 'need': 2480, 'needed': 2481, 'needs': 2482, 'neither': 2483, 'nerve': 2484, 'nerves': 2485, 'nervous': 2486, 'nervously': 2487, 'network': 2488, 'never': 2489, 'nevertheless': 2490, 'neville': 2491, 'new': 2492, 'newly': 2493, 'news': 2494, 'newspaper': 2495, 'next': 2496, 'nice': 2497, 'nick': 2498, 'nicolas': 2499, 'nigellus': 2500, 'night': 2501, 'nightmare': 2502, 'nimbus': 2503, 'nine': 2504, 'ninety': 2505, 'noble': 2506, 'nobody': 2507, 'nod': 2508, 'nodded': 2509, 'nodding': 2510, 'noise': 2511, 'noises': 2512, 'noisy': 2513, 'non': 2514, 'none': 2515, 'nonsense': 2516, 'norbert': 2517, 'normal': 2518, 'normally': 2519, 'norris': 2520, 'north': 2521, 'nose': 2522, 'noses': 2523, 'nostrils': 2524, 'note': 2525, 'notes': 2526, 'nothin': 2527, 'nothing': 2528, 'notice': 2529, 'noticed': 2530, 'noticing': 2531, 'nowhere': 2532, 'nudged': 2533, 'numb': 2534, 'number': 2535, 'oak': 2536, 'obey': 2537, 'object': 2538, 'objects': 2539, 'obscured': 2540, 'obsessed': 2541, 'obvious': 2542, 'obviously': 2543, 'occasion': 2544, 'occasionally': 2545, 'occasions': 2546, 'occlumency': 2547, 'occurred': 2548, 'october': 2549, 'odd': 2550, 'oddly': 2551, 'offer': 2552, 'offered': 2553, 'offering': 2554, 'office': 2555, 'official': 2556, 'often': 2557, 'ogden': 2558, 'oh': 2559, 'oi': 2560, 'ok': 2561, 'okay': 2562, 'old': 2563, 'older': 2564, 'oldest': 2565, 'oliver': 2566, 'ollivander': 2567, 'ominous': 2568, 'omnioculars': 2569, 'one': 2570, 'ones': 2571, 'onto': 2572, 'oooh': 2573, 'open': 2574, 'opened': 2575, 'opening': 2576, 'opinion': 2577, 'opportunity': 2578, 'opposite': 2579, 'orange': 2580, 'order': 2581, 'ordered': 2582, 'orders': 2583, 'ordinary': 2584, 'original': 2585, 'orphanage': 2586, 'others': 2587, 'otherwise': 2588, 'ouch': 2589, 'ought': 2590, 'outline': 2591, 'outraged': 2592, 'outside': 2593, 'outstanding': 2594, 'outstretched': 2595, 'outta': 2596, 'overcome': 2597, 'overgrown': 2598, 'overhead': 2599, 'overheard': 2600, 'ow': 2601, 'owe': 2602, 'owl': 2603, 'owlery': 2604, 'owls': 2605, 'owned': 2606, 'owner': 2607, 'owners': 2608, 'p': 2609, 'pace': 2610, 'paces': 2611, 'pacing': 2612, 'pack': 2613, 'package': 2614, 'packed': 2615, 'packing': 2616, 'paddock': 2617, 'padma': 2618, 'page': 2619, 'pages': 2620, 'paid': 2621, 'pain': 2622, 'painful': 2623, 'painfully': 2624, 'painted': 2625, 'painting': 2626, 'pair': 2627, 'pairs': 2628, 'pajamas': 2629, 'pale': 2630, 'paler': 2631, 'palm': 2632, 'panic': 2633, 'panicked': 2634, 'pansy': 2635, 'panted': 2636, 'panting': 2637, 'paper': 2638, 'papers': 2639, 'parcel': 2640, 'parchment': 2641, 'parents': 2642, 'parkinson': 2643, 'parseltongue': 2644, 'part': 2645, 'parted': 2646, 'particular': 2647, 'particularly': 2648, 'partner': 2649, 'party': 2650, 'parvati': 2651, 'pass': 2652, 'passage': 2653, 'passageway': 2654, 'passed': 2655, 'passing': 2656, 'password': 2657, 'past': 2658, 'patch': 2659, 'patches': 2660, 'path': 2661, 'pathetic': 2662, 'patil': 2663, 'patronum': 2664, 'patronus': 2665, 'patted': 2666, 'patting': 2667, 'pause': 2668, 'paused': 2669, 'pausing': 2670, 'pavement': 2671, 'pay': 2672, 'paying': 2673, 'peace': 2674, 'pearly': 2675, 'peculiar': 2676, 'peeling': 2677, 'peered': 2678, 'peering': 2679, 'peeves': 2680, 'penalty': 2681, 'penetrate': 2682, 'pensieve': 2683, 'people': 2684, 'perch': 2685, 'perched': 2686, 'percy': 2687, 'perfect': 2688, 'perfectly': 2689, 'perform': 2690, 'performed': 2691, 'perhaps': 2692, 'permission': 2693, 'permit': 2694, 'permitted': 2695, 'perplexed': 2696, 'person': 2697, 'personal': 2698, 'personally': 2699, 'persuade': 2700, 'persuaded': 2701, 'pet': 2702, 'peter': 2703, 'petrified': 2704, 'pettigrew': 2705, 'petunia': 2706, 'phineas': 2707, 'phoenix': 2708, 'photograph': 2709, 'photographs': 2710, 'pick': 2711, 'picked': 2712, 'picking': 2713, 'picture': 2714, 'pictures': 2715, 'pie': 2716, 'piece': 2717, 'pieces': 2718, 'piercing': 2719, 'piers': 2720, 'pig': 2721, 'pigwidgeon': 2722, 'pile': 2723, 'piles': 2724, 'pillow': 2725, 'pillows': 2726, 'pince': 2727, 'pink': 2728, 'pinned': 2729, 'pipe': 2730, 'pit': 2731, 'pitch': 2732, 'pitched': 2733, 'pity': 2734, 'place': 2735, 'placed': 2736, 'places': 2737, 'placing': 2738, 'plain': 2739, 'plainly': 2740, 'plan': 2741, 'plank': 2742, 'planned': 2743, 'planning': 2744, 'plans': 2745, 'plant': 2746, 'plants': 2747, 'plate': 2748, 'plates': 2749, 'platform': 2750, 'play': 2751, 'played': 2752, 'player': 2753, 'players': 2754, 'playing': 2755, 'pleasant': 2756, 'pleasantly': 2757, 'please': 2758, 'pleased': 2759, 'pleasure': 2760, 'plenty': 2761, 'plump': 2762, 'plunged': 2763, 'pocket': 2764, 'pockets': 2765, 'point': 2766, 'pointed': 2767, 'pointing': 2768, 'pointless': 2769, 'points': 2770, 'poison': 2771, 'poisonous': 2772, 'poke': 2773, 'poked': 2774, 'poking': 2775, 'police': 2776, 'polished': 2777, 'polite': 2778, 'politely': 2779, 'poltergeist': 2780, 'polyjuice': 2781, 'pomfrey': 2782, 'pool': 2783, 'poor': 2784, 'pop': 2785, 'popping': 2786, 'popular': 2787, 'porridge': 2788, 'portkey': 2789, 'portrait': 2790, 'portraits': 2791, 'pose': 2792, 'position': 2793, 'positively': 2794, 'possess': 2795, 'possessed': 2796, 'possession': 2797, 'possessions': 2798, 'possibility': 2799, 'possible': 2800, 'possibly': 2801, 'post': 2802, 'poster': 2803, 'posters': 2804, 'posts': 2805, 'pot': 2806, 'potato': 2807, 'potion': 2808, 'potions': 2809, 'pots': 2810, 'potter': 2811, 'potters': 2812, 'pouch': 2813, 'pounded': 2814, 'pounding': 2815, 'poured': 2816, 'pouring': 2817, 'powder': 2818, 'power': 2819, 'powerful': 2820, 'powers': 2821, 'practical': 2822, 'practice': 2823, 'practices': 2824, 'practicing': 2825, 'practise': 2826, 'prat': 2827, 'precious': 2828, 'precisely': 2829, 'prefect': 2830, 'prefects': 2831, 'prefer': 2832, 'preferred': 2833, 'prepared': 2834, 'preparing': 2835, 'presence': 2836, 'present': 2837, 'presents': 2838, 'press': 2839, 'pressed': 2840, 'pressing': 2841, 'pressure': 2842, 'pretend': 2843, 'pretended': 2844, 'pretending': 2845, 'pretty': 2846, 'prevent': 2847, 'previous': 2848, 'previously': 2849, 'price': 2850, 'prickling': 2851, 'pride': 2852, 'prime': 2853, 'prince': 2854, 'prison': 2855, 'prisoners': 2856, 'private': 2857, 'privet': 2858, 'prize': 2859, 'probably': 2860, 'problem': 2861, 'problems': 2862, 'proceeded': 2863, 'prodding': 2864, 'produce': 2865, 'professor': 2866, 'professors': 2867, 'progress': 2868, 'promise': 2869, 'promised': 2870, 'promptly': 2871, 'pronounced': 2872, 'proof': 2873, 'proper': 2874, 'properly': 2875, 'prophecy': 2876, 'prophet': 2877, 'propped': 2878, 'prospect': 2879, 'protect': 2880, 'protected': 2881, 'protection': 2882, 'protective': 2883, 'protest': 2884, 'protruding': 2885, 'proud': 2886, 'proudly': 2887, 'prove': 2888, 'proved': 2889, 'pub': 2890, 'public': 2891, 'pudding': 2892, 'puffy': 2893, 'pull': 2894, 'pulled': 2895, 'pulling': 2896, 'pumpkin': 2897, 'punched': 2898, 'punching': 2899, 'punish': 2900, 'punished': 2901, 'punishment': 2902, 'pupils': 2903, 'pure': 2904, 'purple': 2905, 'purpose': 2906, 'pus': 2907, 'push': 2908, 'pushed': 2909, 'pushing': 2910, 'put': 2911, 'putting': 2912, 'puzzled': 2913, 'quaffle': 2914, 'quality': 2915, 'quarter': 2916, 'quarters': 2917, 'question': 2918, 'questioning': 2919, 'questions': 2920, 'queue': 2921, 'quibbler': 2922, 'quick': 2923, 'quickly': 2924, 'quidditch': 2925, 'quiet': 2926, 'quietly': 2927, 'quill': 2928, 'quills': 2929, 'quirrell': 2930, 'quite': 2931, 'quivering': 2932, 'quot': 2933, 'r': 2934, 'race': 2935, 'racing': 2936, 'rack': 2937, 'rage': 2938, 'ragged': 2939, 'rain': 2940, 'raise': 2941, 'raised': 2942, 'raising': 2943, 'ran': 2944, 'random': 2945, 'rang': 2946, 'range': 2947, 'rapidly': 2948, 'rare': 2949, 'rarely': 2950, 'rat': 2951, 'rather': 2952, 'rats': 2953, 'rattled': 2954, 'rattling': 2955, 'ravenclaw': 2956, 'ravenclaws': 2957, 'raw': 2958, 'reach': 2959, 'reached': 2960, 'reaching': 2961, 'reaction': 2962, 'read': 2963, 'reading': 2964, 'ready': 2965, 'real': 2966, 'realise': 2967, 'realised': 2968, 'realize': 2969, 'realized': 2970, 'realizing': 2971, 'really': 2972, 'reappeared': 2973, 'rear': 2974, 'reason': 2975, 'reasonable': 2976, 'reasonably': 2977, 'reasons': 2978, 'receive': 2979, 'received': 2980, 'recent': 2981, 'recently': 2982, 'reckon': 2983, 'reckons': 2984, 'recognised': 2985, 'recognize': 2986, 'recognized': 2987, 'record': 2988, 'red': 2989, 'reflected': 2990, 'reflection': 2991, 'refuse': 2992, 'refused': 2993, 'refusing': 2994, 'register': 2995, 'regret': 2996, 'regular': 2997, 'regulus': 2998, 'related': 2999, 'relatives': 3000, 'relaxed': 3001, 'release': 3002, 'released': 3003, 'relief': 3004, 'relieved': 3005, 'reluctantly': 3006, 'remain': 3007, 'remained': 3008, 'remaining': 3009, 'remains': 3010, 'remember': 3011, 'remembered': 3012, 'remembering': 3013, 'remind': 3014, 'reminded': 3015, 'reminding': 3016, 'remorse': 3017, 'remove': 3018, 'removed': 3019, 'remus': 3020, 'repair': 3021, 'repaired': 3022, 'repeat': 3023, 'repeated': 3024, 'replaced': 3025, 'replied': 3026, 'reply': 3027, 'report': 3028, 'reported': 3029, 'request': 3030, 'require': 3031, 'required': 3032, 'requirement': 3033, 'rescue': 3034, 'resembled': 3035, 'resentful': 3036, 'resigned': 3037, 'resist': 3038, 'respect': 3039, 'respond': 3040, 'response': 3041, 'responsibility': 3042, 'responsible': 3043, 'rest': 3044, 'rested': 3045, 'resting': 3046, 'results': 3047, 'resumed': 3048, 'retreated': 3049, 'retrieve': 3050, 'return': 3051, 'returned': 3052, 'returning': 3053, 'reveal': 3054, 'revealed': 3055, 'revealing': 3056, 'revenge': 3057, 'revolving': 3058, 'reward': 3059, 'ribs': 3060, 'rid': 3061, 'riddikulus': 3062, 'riddle': 3063, 'riddles': 3064, 'ride': 3065, 'ridiculous': 3066, 'righ': 3067, 'right': 3068, 'rigid': 3069, 'ring': 3070, 'ringing': 3071, 'rip': 3072, 'ripped': 3073, 'ripping': 3074, 'rippling': 3075, 'rise': 3076, 'risen': 3077, 'rising': 3078, 'risk': 3079, 'rita': 3080, 'river': 3081, 'road': 3082, 'roar': 3083, 'roared': 3084, 'roaring': 3085, 'robe': 3086, 'roberts': 3087, 'robes': 3088, 'rock': 3089, 'roger': 3090, 'roll': 3091, 'rolled': 3092, 'rolling': 3093, 'rolls': 3094, 'romilda': 3095, 'ron': 3096, 'ronald': 3097, 'ronan': 3098, 'roof': 3099, 'rookwood': 3100, 'room': 3101, 'rooms': 3102, 'roots': 3103, 'rope': 3104, 'ropes': 3105, 'rose': 3106, 'rosmerta': 3107, 'rough': 3108, 'roughly': 3109, 'round': 3110, 'rounded': 3111, 'row': 3112, 'rows': 3113, 'rubbed': 3114, 'rubbing': 3115, 'rubbish': 3116, 'rucksack': 3117, 'ruddy': 3118, 'rude': 3119, 'ruffled': 3120, 'rufus': 3121, 'ruined': 3122, 'rule': 3123, 'rules': 3124, 'rumbling': 3125, 'rummaged': 3126, 'rummaging': 3127, 'rumors': 3128, 'run': 3129, 'runes': 3130, 'running': 3131, 'rush': 3132, 'rushed': 3133, 'rushing': 3134, 'rustling': 3135, 'sack': 3136, 'sacked': 3137, 'sad': 3138, 'sadly': 3139, 'safe': 3140, 'safely': 3141, 'safety': 3142, 'said': 3143, 'sake': 3144, 'sallow': 3145, 'sank': 3146, 'sarcastically': 3147, 'sat': 3148, 'satisfaction': 3149, 'satisfied': 3150, 'saturday': 3151, 'sausages': 3152, 'savagely': 3153, 'save': 3154, 'saved': 3155, 'saving': 3156, 'saw': 3157, 'say': 3158, 'saying': 3159, 'says': 3160, 'scabbers': 3161, 'scabior': 3162, 'scales': 3163, 'scanned': 3164, 'scanning': 3165, 'scar': 3166, 'scared': 3167, 'scarlet': 3168, 'scars': 3169, 'scarves': 3170, 'scattered': 3171, 'scene': 3172, 'schedule': 3173, 'school': 3174, 'schoolbag': 3175, 'scooped': 3176, 'score': 3177, 'scored': 3178, 'scowled': 3179, 'scowling': 3180, 'scrambled': 3181, 'scratched': 3182, 'scratching': 3183, 'scream': 3184, 'screamed': 3185, 'screaming': 3186, 'screams': 3187, 'screech': 3188, 'screeched': 3189, 'screwed': 3190, 'scribbled': 3191, 'scribbling': 3192, 'scrimgeour': 3193, 'scroll': 3194, 'scum': 3195, 'scurrying': 3196, 'sea': 3197, 'sealed': 3198, 'seamus': 3199, 'search': 3200, 'searched': 3201, 'searching': 3202, 'seared': 3203, 'seat': 3204, 'seated': 3205, 'seats': 3206, 'second': 3207, 'seconds': 3208, 'secrecy': 3209, 'secret': 3210, 'secrets': 3211, 'section': 3212, 'secure': 3213, 'security': 3214, 'see': 3215, 'seeing': 3216, 'seek': 3217, 'seeker': 3218, 'seeking': 3219, 'seem': 3220, 'seemed': 3221, 'seems': 3222, 'seen': 3223, 'sees': 3224, 'seize': 3225, 'seized': 3226, 'seizing': 3227, 'self': 3228, 'sell': 3229, 'send': 3230, 'sending': 3231, 'sensation': 3232, 'sense': 3233, 'sensed': 3234, 'senses': 3235, 'sent': 3236, 'sentence': 3237, 'separate': 3238, 'separated': 3239, 'september': 3240, 'serenely': 3241, 'series': 3242, 'serious': 3243, 'seriously': 3244, 'serpent': 3245, 'servant': 3246, 'serve': 3247, 'served': 3248, 'service': 3249, 'set': 3250, 'setting': 3251, 'settle': 3252, 'settled': 3253, 'seven': 3254, 'seventeen': 3255, 'seventh': 3256, 'several': 3257, 'severe': 3258, 'severely': 3259, 'severus': 3260, 'shabby': 3261, 'shack': 3262, 'shacklebolt': 3263, 'shade': 3264, 'shadow': 3265, 'shadows': 3266, 'shadowy': 3267, 'shaggy': 3268, 'shake': 3269, 'shaken': 3270, 'shakily': 3271, 'shaking': 3272, 'shall': 3273, 'shame': 3274, 'shape': 3275, 'shaped': 3276, 'shapes': 3277, 'share': 3278, 'shared': 3279, 'sharing': 3280, 'sharp': 3281, 'sharply': 3282, 'shattered': 3283, 'sheet': 3284, 'sheets': 3285, 'shelf': 3286, 'shell': 3287, 'shelves': 3288, 'shh': 3289, 'shield': 3290, 'shifted': 3291, 'shifting': 3292, 'shimmering': 3293, 'shining': 3294, 'shiny': 3295, 'ship': 3296, 'shirt': 3297, 'shivered': 3298, 'shivering': 3299, 'shock': 3300, 'shocked': 3301, 'shoes': 3302, 'shone': 3303, 'shook': 3304, 'shooting': 3305, 'shop': 3306, 'shopping': 3307, 'shops': 3308, 'short': 3309, 'shorter': 3310, 'shortly': 3311, 'shot': 3312, 'shoulder': 3313, 'shoulders': 3314, 'shout': 3315, 'shouted': 3316, 'shouting': 3317, 'shouts': 3318, 'shoved': 3319, 'show': 3320, 'showed': 3321, 'shower': 3322, 'showing': 3323, 'shown': 3324, 'shows': 3325, 'shriek': 3326, 'shrieked': 3327, 'shrieking': 3328, 'shrilly': 3329, 'shrinking': 3330, 'shrugged': 3331, 'shrugging': 3332, 'shudder': 3333, 'shuddered': 3334, 'shuddering': 3335, 'shuffled': 3336, 'shuffling': 3337, 'shunpike': 3338, 'shut': 3339, 'sick': 3340, 'sickles': 3341, 'side': 3342, 'sidecar': 3343, 'sides': 3344, 'sideways': 3345, 'sigh': 3346, 'sighed': 3347, 'sight': 3348, 'sign': 3349, 'signed': 3350, 'signs': 3351, 'silence': 3352, 'silent': 3353, 'silently': 3354, 'silk': 3355, 'silly': 3356, 'silver': 3357, 'silvery': 3358, 'simple': 3359, 'simply': 3360, 'since': 3361, 'sincerely': 3362, 'singing': 3363, 'single': 3364, 'sinister': 3365, 'sink': 3366, 'sinking': 3367, 'sir': 3368, 'sirius': 3369, 'sister': 3370, 'sisters': 3371, 'sit': 3372, 'sitting': 3373, 'situation': 3374, 'six': 3375, 'sixteen': 3376, 'sixth': 3377, 'sixty': 3378, 'size': 3379, 'sized': 3380, 'skeeter': 3381, 'skidded': 3382, 'skin': 3383, 'skinny': 3384, 'skrewt': 3385, 'skrewts': 3386, 'skull': 3387, 'sky': 3388, 'slammed': 3389, 'slamming': 3390, 'sleek': 3391, 'sleep': 3392, 'sleeping': 3393, 'sleepy': 3394, 'sleeve': 3395, 'sleeves': 3396, 'slept': 3397, 'slid': 3398, 'slide': 3399, 'sliding': 3400, 'slight': 3401, 'slightest': 3402, 'slightly': 3403, 'slimy': 3404, 'slip': 3405, 'slipped': 3406, 'slipping': 3407, 'slit': 3408, 'slithering': 3409, 'slits': 3410, 'sloping': 3411, 'slow': 3412, 'slowed': 3413, 'slowly': 3414, 'slug': 3415, 'slughorn': 3416, 'slugs': 3417, 'slumped': 3418, 'slytherin': 3419, 'slytherins': 3420, 'small': 3421, 'smaller': 3422, 'smallest': 3423, 'smart': 3424, 'smashed': 3425, 'smell': 3426, 'smelled': 3427, 'smile': 3428, 'smiled': 3429, 'smiling': 3430, 'smirked': 3431, 'smirking': 3432, 'smith': 3433, 'smoke': 3434, 'smoking': 3435, 'smooth': 3436, 'smoothly': 3437, 'snake': 3438, 'snakelike': 3439, 'snakes': 3440, 'snap': 3441, 'snape': 3442, 'snapped': 3443, 'snapping': 3444, 'snarled': 3445, 'snatched': 3446, 'snatching': 3447, 'sneak': 3448, 'sneaked': 3449, 'sneaking': 3450, 'sneakoscope': 3451, 'sneer': 3452, 'sneered': 3453, 'sneering': 3454, 'sniffed': 3455, 'sniggered': 3456, 'snitch': 3457, 'snorted': 3458, 'snout': 3459, 'snow': 3460, 'snowy': 3461, 'soared': 3462, 'soaring': 3463, 'sob': 3464, 'sobbed': 3465, 'sobbing': 3466, 'sobs': 3467, 'socks': 3468, 'sofa': 3469, 'soft': 3470, 'softly': 3471, 'solid': 3472, 'solution': 3473, 'somebody': 3474, 'somehow': 3475, 'someone': 3476, 'something': 3477, 'sometimes': 3478, 'somewhat': 3479, 'somewhere': 3480, 'son': 3481, 'song': 3482, 'sons': 3483, 'soon': 3484, 'sooner': 3485, 'sorcerer': 3486, 'sorry': 3487, 'sort': 3488, 'sorted': 3489, 'sorting': 3490, 'sorts': 3491, 'sought': 3492, 'soul': 3493, 'sound': 3494, 'sounded': 3495, 'sounding': 3496, 'sounds': 3497, 'soup': 3498, 'source': 3499, 'space': 3500, 'spare': 3501, 'sparkling': 3502, 'sparks': 3503, 'spat': 3504, 'speak': 3505, 'speaking': 3506, 'special': 3507, 'spectacles': 3508, 'spectacular': 3509, 'sped': 3510, 'speech': 3511, 'speed': 3512, 'speeding': 3513, 'spell': 3514, 'spellbooks': 3515, 'spells': 3516, 'spend': 3517, 'spending': 3518, 'spent': 3519, 'spider': 3520, 'spiders': 3521, 'spilled': 3522, 'spilling': 3523, 'spinnet': 3524, 'spinning': 3525, 'spiral': 3526, 'spirit': 3527, 'spirits': 3528, 'spite': 3529, 'spitting': 3530, 'split': 3531, 'spluttered': 3532, 'spoke': 3533, 'spoken': 3534, 'spot': 3535, 'spots': 3536, 'spotted': 3537, 'sprang': 3538, 'sprawled': 3539, 'spread': 3540, 'spreading': 3541, 'sprinted': 3542, 'sprinting': 3543, 'sprout': 3544, 'spun': 3545, 'spy': 3546, 'squad': 3547, 'square': 3548, 'squashed': 3549, 'squeak': 3550, 'squeaked': 3551, 'squealed': 3552, 'squeezed': 3553, 'squeezing': 3554, 'squib': 3555, 'squinted': 3556, 'squinting': 3557, 'st': 3558, 'stab': 3559, 'stack': 3560, 'stadium': 3561, 'staff': 3562, 'stag': 3563, 'stage': 3564, 'staggered': 3565, 'stained': 3566, 'staircase': 3567, 'stairs': 3568, 'stalked': 3569, 'stammered': 3570, 'stamping': 3571, 'stan': 3572, 'stand': 3573, 'standard': 3574, 'standing': 3575, 'stands': 3576, 'star': 3577, 'stare': 3578, 'stared': 3579, 'staring': 3580, 'starry': 3581, 'stars': 3582, 'start': 3583, 'started': 3584, 'starting': 3585, 'startled': 3586, 'starving': 3587, 'state': 3588, 'station': 3589, 'statue': 3590, 'statues': 3591, 'stay': 3592, 'stayed': 3593, 'staying': 3594, 'steadily': 3595, 'steady': 3596, 'steak': 3597, 'steal': 3598, 'stealing': 3599, 'steam': 3600, 'steep': 3601, 'steering': 3602, 'step': 3603, 'stepped': 3604, 'steps': 3605, 'stern': 3606, 'sternly': 3607, 'stick': 3608, 'sticking': 3609, 'stiff': 3610, 'stiffly': 3611, 'still': 3612, 'stir': 3613, 'stirred': 3614, 'stirring': 3615, 'stole': 3616, 'stolen': 3617, 'stomach': 3618, 'stone': 3619, 'stones': 3620, 'stood': 3621, 'stool': 3622, 'stooped': 3623, 'stop': 3624, 'stopped': 3625, 'stopping': 3626, 'store': 3627, 'stories': 3628, 'storm': 3629, 'stormed': 3630, 'story': 3631, 'straight': 3632, 'straightened': 3633, 'straightening': 3634, 'strained': 3635, 'straining': 3636, 'strange': 3637, 'strangely': 3638, 'stranger': 3639, 'strangled': 3640, 'streaked': 3641, 'stream': 3642, 'streaming': 3643, 'street': 3644, 'strength': 3645, 'stretch': 3646, 'stretched': 3647, 'stretching': 3648, 'strewn': 3649, 'stricken': 3650, 'striding': 3651, 'strike': 3652, 'string': 3653, 'strode': 3654, 'stroke': 3655, 'stroking': 3656, 'strolled': 3657, 'strong': 3658, 'stronger': 3659, 'strongly': 3660, 'struck': 3661, 'struggle': 3662, 'struggled': 3663, 'struggling': 3664, 'stubbornly': 3665, 'stubby': 3666, 'stuck': 3667, 'student': 3668, 'students': 3669, 'study': 3670, 'studying': 3671, 'stuff': 3672, 'stuffed': 3673, 'stuffing': 3674, 'stumbled': 3675, 'stumped': 3676, 'stunned': 3677, 'stunning': 3678, 'stupefy': 3679, 'stupid': 3680, 'sturgis': 3681, 'subject': 3682, 'subjects': 3683, 'substance': 3684, 'succeeded': 3685, 'success': 3686, 'sudden': 3687, 'suddenly': 3688, 'suffered': 3689, 'suffering': 3690, 'sugar': 3691, 'suggest': 3692, 'suggested': 3693, 'suit': 3694, 'summer': 3695, 'summon': 3696, 'summoning': 3697, 'sun': 3698, 'sunday': 3699, 'sunk': 3700, 'sunken': 3701, 'sunlight': 3702, 'support': 3703, 'supported': 3704, 'supporters': 3705, 'suppose': 3706, 'supposed': 3707, 'suppress': 3708, 'sure': 3709, 'surely': 3710, 'surface': 3711, 'surge': 3712, 'surprise': 3713, 'surprised': 3714, 'surrounded': 3715, 'surrounding': 3716, 'surveyed': 3717, 'surveying': 3718, 'survive': 3719, 'survived': 3720, 'suspected': 3721, 'suspended': 3722, 'suspicion': 3723, 'suspicious': 3724, 'suspiciously': 3725, 'swallowed': 3726, 'swam': 3727, 'swarming': 3728, 'swayed': 3729, 'swaying': 3730, 'swear': 3731, 'sweat': 3732, 'sweater': 3733, 'sweating': 3734, 'sweaty': 3735, 'sweeping': 3736, 'sweet': 3737, 'sweetly': 3738, 'sweets': 3739, 'swelled': 3740, 'swelling': 3741, 'swept': 3742, 'swerved': 3743, 'swiftly': 3744, 'swig': 3745, 'swimming': 3746, 'swing': 3747, 'swinging': 3748, 'swirling': 3749, 'swollen': 3750, 'swooped': 3751, 'swooping': 3752, 'sword': 3753, 'swore': 3754, 'sworn': 3755, 'swung': 3756, 'symbol': 3757, 'table': 3758, 'tables': 3759, 'tail': 3760, 'take': 3761, 'taken': 3762, 'takes': 3763, 'taking': 3764, 'tale': 3765, 'talent': 3766, 'tales': 3767, 'talk': 3768, 'talked': 3769, 'talking': 3770, 'tall': 3771, 'taller': 3772, 'tangled': 3773, 'tank': 3774, 'tap': 3775, 'tapestry': 3776, 'tapped': 3777, 'tapping': 3778, 'task': 3779, 'tasks': 3780, 'taste': 3781, 'taught': 3782, 'tea': 3783, 'teach': 3784, 'teacher': 3785, 'teachers': 3786, 'teaching': 3787, 'teacup': 3788, 'team': 3789, 'teams': 3790, 'tear': 3791, 'tearing': 3792, 'tears': 3793, 'ted': 3794, 'teeth': 3795, 'telephone': 3796, 'telescope': 3797, 'television': 3798, 'tell': 3799, 'telling': 3800, 'tells': 3801, 'temper': 3802, 'temple': 3803, 'ten': 3804, 'tense': 3805, 'tent': 3806, 'tentatively': 3807, 'tents': 3808, 'ter': 3809, 'term': 3810, 'terms': 3811, 'terrible': 3812, 'terrified': 3813, 'terror': 3814, 'test': 3815, 'tested': 3816, 'tha': 3817, 'thank': 3818, 'thanks': 3819, 'theory': 3820, 'therefore': 3821, 'thestral': 3822, 'thestrals': 3823, 'thick': 3824, 'thickly': 3825, 'thicknesse': 3826, 'thief': 3827, 'thin': 3828, 'thing': 3829, 'things': 3830, 'think': 3831, 'thinking': 3832, 'thinks': 3833, 'third': 3834, 'thirteen': 3835, 'thirty': 3836, 'thomas': 3837, 'thoroughly': 3838, 'though': 3839, 'thought': 3840, 'thoughtfully': 3841, 'thoughts': 3842, 'thousand': 3843, 'thousands': 3844, 'thrashing': 3845, 'thread': 3846, 'threatened': 3847, 'threatening': 3848, 'three': 3849, 'threshold': 3850, 'threw': 3851, 'throat': 3852, 'throbbing': 3853, 'throughout': 3854, 'throw': 3855, 'throwing': 3856, 'thrown': 3857, 'thrust': 3858, 'thud': 3859, 'thumping': 3860, 'thundering': 3861, 'thursday': 3862, 'tickets': 3863, 'tie': 3864, 'tied': 3865, 'tight': 3866, 'tightly': 3867, 'till': 3868, 'time': 3869, 'times': 3870, 'tin': 3871, 'tiny': 3872, 'tip': 3873, 'tipped': 3874, 'tips': 3875, 'tired': 3876, 'toad': 3877, 'toast': 3878, 'today': 3879, 'toes': 3880, 'together': 3881, 'toilet': 3882, 'told': 3883, 'tom': 3884, 'tomorrow': 3885, 'tone': 3886, 'tones': 3887, 'tongue': 3888, 'tonight': 3889, 'tonks': 3890, 'took': 3891, 'top': 3892, 'topmost': 3893, 'toppled': 3894, 'torches': 3895, 'tore': 3896, 'torn': 3897, 'torture': 3898, 'tortured': 3899, 'total': 3900, 'touch': 3901, 'touched': 3902, 'touching': 3903, 'tough': 3904, 'tournament': 3905, 'toward': 3906, 'towards': 3907, 'tower': 3908, 'towering': 3909, 'trace': 3910, 'track': 3911, 'tracks': 3912, 'trailing': 3913, 'train': 3914, 'trained': 3915, 'training': 3916, 'traitor': 3917, 'transfiguration': 3918, 'transfixed': 3919, 'transform': 3920, 'transformed': 3921, 'transparent': 3922, 'trapdoor': 3923, 'trapped': 3924, 'traveled': 3925, 'traveling': 3926, 'travers': 3927, 'tray': 3928, 'treacle': 3929, 'treasure': 3930, 'treat': 3931, 'treated': 3932, 'tree': 3933, 'trees': 3934, 'trelawney': 3935, 'trembled': 3936, 'trembling': 3937, 'trevor': 3938, 'trick': 3939, 'tricks': 3940, 'tricky': 3941, 'tried': 3942, 'trip': 3943, 'tripped': 3944, 'triumph': 3945, 'triumphant': 3946, 'triwizard': 3947, 'troll': 3948, 'trolley': 3949, 'trolls': 3950, 'trouble': 3951, 'troubled': 3952, 'true': 3953, 'truly': 3954, 'trunk': 3955, 'trunks': 3956, 'trust': 3957, 'trusted': 3958, 'trusts': 3959, 'truth': 3960, 'try': 3961, 'trying': 3962, 'tucked': 3963, 'tuesday': 3964, 'tugged': 3965, 'tugging': 3966, 'tunnel': 3967, 'turban': 3968, 'turn': 3969, 'turned': 3970, 'turning': 3971, 'turns': 3972, 'twelve': 3973, 'twenty': 3974, 'twice': 3975, 'twigs': 3976, 'twin': 3977, 'twinkling': 3978, 'twins': 3979, 'twisted': 3980, 'twisting': 3981, 'twitched': 3982, 'twitching': 3983, 'two': 3984, 'tying': 3985, 'ugly': 3986, 'um': 3987, 'umbrella': 3988, 'umbridge': 3989, 'un': 3990, 'unable': 3991, 'unaware': 3992, 'uncertainly': 3993, 'uncle': 3994, 'uncomfortable': 3995, 'uncomfortably': 3996, 'unconscious': 3997, 'uncontrollably': 3998, 'underage': 3999, 'underground': 4000, 'underneath': 4001, 'understand': 4002, 'understanding': 4003, 'understood': 4004, 'undertone': 4005, 'undoubtedly': 4006, 'uneasy': 4007, 'unexpected': 4008, 'unfolded': 4009, 'unfortunate': 4010, 'unfortunately': 4011, 'unicorn': 4012, 'united': 4013, 'unknown': 4014, 'unless': 4015, 'unlike': 4016, 'unlikely': 4017, 'unpleasant': 4018, 'unpleasantly': 4019, 'untidy': 4020, 'unusual': 4021, 'unusually': 4022, 'upon': 4023, 'upper': 4024, 'upright': 4025, 'upset': 4026, 'upside': 4027, 'upstairs': 4028, 'upward': 4029, 'upwards': 4030, 'urge': 4031, 'urged': 4032, 'urgent': 4033, 'urgently': 4034, 'us': 4035, 'use': 4036, 'used': 4037, 'useful': 4038, 'useless': 4039, 'uses': 4040, 'using': 4041, 'usual': 4042, 'usually': 4043, 'utter': 4044, 'utterly': 4045, 'vaguely': 4046, 'valuable': 4047, 'vanish': 4048, 'vanished': 4049, 'vanishing': 4050, 'various': 4051, 'vast': 4052, 'vault': 4053, 'veela': 4054, 'veil': 4055, 'velvet': 4056, 'venom': 4057, 'vernon': 4058, 'version': 4059, 'vicious': 4060, 'victims': 4061, 'view': 4062, 'vigorously': 4063, 'viktor': 4064, 'village': 4065, 'violent': 4066, 'violently': 4067, 'violet': 4068, 'visible': 4069, 'vision': 4070, 'visit': 4071, 'visited': 4072, 'visiting': 4073, 'visitors': 4074, 'vivid': 4075, 'voice': 4076, 'voices': 4077, 'vol': 4078, 'voldemort': 4079, 'voldemorts': 4080, 'w': 4081, 'wailing': 4082, 'waist': 4083, 'wait': 4084, 'waited': 4085, 'waiting': 4086, 'wake': 4087, 'walk': 4088, 'walked': 4089, 'walking': 4090, 'wall': 4091, 'walls': 4092, 'wan': 4093, 'wand': 4094, 'wandered': 4095, 'wandering': 4096, 'wandlight': 4097, 'wandmaker': 4098, 'wands': 4099, 'want': 4100, 'wanted': 4101, 'wanting': 4102, 'wants': 4103, 'war': 4104, 'ward': 4105, 'wardrobe': 4106, 'warlock': 4107, 'warm': 4108, 'warmth': 4109, 'warn': 4110, 'warned': 4111, 'warning': 4112, 'warrington': 4113, 'wary': 4114, 'wash': 4115, 'washed': 4116, 'waste': 4117, 'wasted': 4118, 'wasting': 4119, 'watch': 4120, 'watched': 4121, 'watching': 4122, 'water': 4123, 'watery': 4124, 'wave': 4125, 'waved': 4126, 'waving': 4127, 'way': 4128, 'ways': 4129, 'weak': 4130, 'weakly': 4131, 'weapon': 4132, 'wear': 4133, 'wearily': 4134, 'wearing': 4135, 'weasley': 4136, 'weasleys': 4137, 'weather': 4138, 'web': 4139, 'wedding': 4140, 'wednesday': 4141, 'week': 4142, 'weekend': 4143, 'weeks': 4144, 'weight': 4145, 'weird': 4146, 'welcome': 4147, 'well': 4148, 'went': 4149, 'werewolf': 4150, 'werewolves': 4151, 'west': 4152, 'wet': 4153, 'wha': 4154, 'whatever': 4155, 'whatsoever': 4156, 'wheeled': 4157, 'wheezy': 4158, 'whenever': 4159, 'whereabouts': 4160, 'wherever': 4161, 'whether': 4162, 'whimpering': 4163, 'whinging': 4164, 'whipped': 4165, 'whirled': 4166, 'whisper': 4167, 'whispered': 4168, 'whispering': 4169, 'whistle': 4170, 'whistling': 4171, 'white': 4172, 'whoever': 4173, 'whole': 4174, 'whomping': 4175, 'whose': 4176, 'wide': 4177, 'widely': 4178, 'widened': 4179, 'widening': 4180, 'wider': 4181, 'wife': 4182, 'wild': 4183, 'wildly': 4184, 'willing': 4185, 'willow': 4186, 'win': 4187, 'winced': 4188, 'wind': 4189, 'winding': 4190, 'window': 4191, 'windows': 4192, 'windowsill': 4193, 'wine': 4194, 'wing': 4195, 'winged': 4196, 'wings': 4197, 'winked': 4198, 'winking': 4199, 'winky': 4200, 'winning': 4201, 'wipe': 4202, 'wiped': 4203, 'wiping': 4204, 'wise': 4205, 'wish': 4206, 'wished': 4207, 'wishes': 4208, 'wishing': 4209, 'witch': 4210, 'witchcraft': 4211, 'witches': 4212, 'withdrew': 4213, 'within': 4214, 'without': 4215, 'witness': 4216, 'witnessed': 4217, 'wizard': 4218, 'wizarding': 4219, 'wizardry': 4220, 'wizards': 4221, 'wizengamot': 4222, 'woke': 4223, 'woken': 4224, 'woman': 4225, 'women': 4226, 'wonder': 4227, 'wondered': 4228, 'wonderful': 4229, 'wondering': 4230, 'wood': 4231, 'wooden': 4232, 'woods': 4233, 'word': 4234, 'words': 4235, 'wore': 4236, 'work': 4237, 'worked': 4238, 'working': 4239, 'works': 4240, 'world': 4241, 'wormtail': 4242, 'worn': 4243, 'worried': 4244, 'worry': 4245, 'worrying': 4246, 'worse': 4247, 'worst': 4248, 'worth': 4249, 'worthy': 4250, 'would': 4251, 'wound': 4252, 'wounds': 4253, 'wow': 4254, 'wrapped': 4255, 'wrenched': 4256, 'wrist': 4257, 'write': 4258, 'writhing': 4259, 'writing': 4260, 'written': 4261, 'wrong': 4262, 'wrote': 4263, 'xenophilius': 4264, 'yard': 4265, 'yards': 4266, 'yawned': 4267, 'yawning': 4268, 'yaxley': 4269, 'yeah': 4270, 'year': 4271, 'years': 4272, 'yeh': 4273, 'yell': 4274, 'yelled': 4275, 'yelling': 4276, 'yellow': 4277, 'yellowish': 4278, 'yells': 4279, 'yep': 4280, 'yer': 4281, 'yes': 4282, 'yesterday': 4283, 'yet': 4284, 'young': 4285, 'younger': 4286, 'youngest': 4287, 'youth': 4288, 'zabini': 4289, 'zacharias': 4290, 'ze': 4291, 'zonko': 4292, 'zoomed': 4293, 'zooming': 4294, '¨c': 4295, '—': 4296, '”': 4297}\n",
            "Both vocab dictionaries are identical.\n",
            "Items in their_voc but not in my_voc:\n",
            "[]\n",
            "\n",
            "Items in my_voc but not in their_voc:\n",
            "[]\n",
            "len of only_in_my_voc: 0\n"
          ]
        }
      ],
      "source": [
        "print(voc ) \n",
        "print( vocab)\n",
        "def compare_vocab_dicts(voc1: Dict[str, int], voc2: Dict[str, int]) -> bool:\n",
        "    \"\"\"\n",
        "    Compare two vocabulary dictionaries to ensure that they have the same keys and values.\n",
        "    \n",
        "    Input:\n",
        "        voc1 - first vocabulary dictionary;\n",
        "        voc2 - second vocabulary dictionary.\n",
        "    Output:\n",
        "        True if both dictionaries are identical, False otherwise.\n",
        "    \"\"\"\n",
        "    if voc1 == voc2:\n",
        "        print(\"Both vocab dictionaries are identical.\")\n",
        "        return True\n",
        "    else:\n",
        "        print(\"Vocab dictionaries differ.\")\n",
        "        # Find keys that are in one dict but not the other\n",
        "        diff_keys_1 = set(voc1.keys()) - set(voc2.keys())\n",
        "        diff_keys_2 = set(voc2.keys()) - set(voc1.keys())\n",
        "        \n",
        "        if diff_keys_1:\n",
        "            print(f\"Keys in voc1 but not in voc2: {diff_keys_1}\")\n",
        "        if diff_keys_2:\n",
        "            print(f\"Keys in voc2 but not in voc1: {diff_keys_2}\")\n",
        "        \n",
        "        # Compare values for matching keys\n",
        "        common_keys = set(voc1.keys()).intersection(voc2.keys())\n",
        "        for key in common_keys:\n",
        "            if voc1[key] != voc2[key]:\n",
        "                print(f\"Difference in value for key '{key}': voc1={voc1[key]}, voc2={voc2[key]}\")\n",
        "        \n",
        "        return False\n",
        "\n",
        "# Example usage\n",
        "compare_vocab_dicts(vocab, voc)\n",
        "their_voc = list(vocab.keys())\n",
        "their_voc.sort()\n",
        "\n",
        "my_voc = list(voc.keys())\n",
        "my_voc.sort()\n",
        "\n",
        "##Find elements present in their_voc but not in my_voc\n",
        "only_in_their_voc = list(set(their_voc) - set(my_voc))\n",
        "\n",
        "# Find elements present in my_voc but not in their_voc\n",
        "only_in_my_voc = list(set(my_voc) - set(their_voc))\n",
        "\n",
        "print(\"Items in their_voc but not in my_voc:\")\n",
        "print(only_in_their_voc)\n",
        "\n",
        "print(\"\\nItems in my_voc but not in their_voc:\")\n",
        "print(only_in_my_voc)\n",
        "print(f\"len of only_in_my_voc: {len(only_in_my_voc)}\")\n"
      ]
    },
    {
      "cell_type": "code",
      "execution_count": null,
      "metadata": {},
      "outputs": [],
      "source": []
    },
    {
      "cell_type": "code",
      "execution_count": 48,
      "metadata": {
        "id": "qWtcGMkLpvY5"
      },
      "outputs": [],
      "source": [
        "# TEST\n",
        "# YOUR CODE HERE - Fill in the found cutoff and window_size values\n",
        "# it shouldn't take more than 2min\n",
        "#%%time\n",
        "my_vocab, my_contexts, my_X = read_book_files([ f\"HPBook{n}.txt\" for n in range(1,8) ], cutoff=16, window_size=20)"
      ]
    },
    {
      "cell_type": "code",
      "execution_count": 49,
      "metadata": {},
      "outputs": [
        {
          "name": "stdout",
          "output_type": "stream",
          "text": [
            "torch.Size([4298, 4298])\n"
          ]
        }
      ],
      "source": [
        "# print type  of my_contexts\n",
        "print(my_X.size() )"
      ]
    },
    {
      "cell_type": "code",
      "execution_count": 50,
      "metadata": {
        "id": "etLoCWEw5ay7"
      },
      "outputs": [],
      "source": [
        "# TEST c9\n",
        "# This makes sure the value types are as expected\n",
        "assert my_vocab['1'] == 0\n",
        "assert isinstance(my_vocab, dict)\n",
        "assert isinstance(my_contexts, dict)\n",
        "assert 'potter' in my_contexts['harry']\n",
        "assert isinstance(my_X, torch.Tensor)\n",
        "assert my_X.size() == (4298,4298)"
      ]
    },
    {
      "cell_type": "markdown",
      "metadata": {
        "id": "t29uPQsQhBnr"
      },
      "source": [
        "<font color=\"red\">**Don't clear the output of the above cell!**</font>"
      ]
    },
    {
      "cell_type": "markdown",
      "metadata": {
        "id": "EwjIMegPnE7_"
      },
      "source": [
        "#### i6 [3pt]\n",
        "\n",
        "What are the values of `cutoff` and `window_size` that replicates the provided counts?\n",
        "\n",
        "Briefly describe the process of finding the correct underlying algorithm of `read_book_files` and the correct values of `cutoff` and `window_size`.  \n",
        "Be concise. 100-150 words can be more than enough for the description."
      ]
    },
    {
      "cell_type": "markdown",
      "metadata": {
        "id": "UIslxPDHnBWh",
        "nbgrader": {
          "grade": true,
          "grade_id": "Interpretation5",
          "locked": false,
          "points": 1,
          "schema_version": 3,
          "solution": true,
          "task": false
        },
        "tags": []
      },
      "source": [
        "**ANSWER**: <font color=\"red\">YOUR ANSWER HERE</font>"
      ]
    },
    {
      "cell_type": "markdown",
      "metadata": {
        "id": "5h2l-Sw7gel9"
      },
      "source": [
        "### Optional\n",
        "If you are done, you can continue experimenting in order to understand the system's behaviour better. For example: how does training and hyperparameter choice affect the model's performance?\n",
        "Repeat the training using your own hyperparameters (vector space dimensionality, optimizer parameters, the number of training epochs, a different random seed, etc.).\n",
        "\n",
        "During the training loop, print the qualitative benchmarks every few epochs. Do they keep improving? Is there any disadvantage to exhaustively training until convergence?\n",
        "\n",
        "Now you have all the tools at hand to train the word vectors on any textual corpus."
      ]
    },
    {
      "cell_type": "markdown",
      "metadata": {
        "id": "nbgNN_S8W9Y6"
      },
      "source": [
        "# Acknowledgment\n",
        "\n",
        "The jupyter notebook was initially created by Konstantinos Kogkalidis and Tejaswini Deoskar.  \n",
        "Recent changes, including adaptation to the Colab environment and the exercise on reconstructing a co-occurrence matrix, are by Lasha Abzianidze."
      ]
    }
  ],
  "metadata": {
    "colab": {
      "provenance": [],
      "toc_visible": true
    },
    "kernelspec": {
      "display_name": "PyTorch",
      "language": "python",
      "name": "python3"
    },
    "language_info": {
      "codemirror_mode": {
        "name": "ipython",
        "version": 3
      },
      "file_extension": ".py",
      "mimetype": "text/x-python",
      "name": "python",
      "nbconvert_exporter": "python",
      "pygments_lexer": "ipython3",
      "version": "3.10.15"
    },
    "toc-showmarkdowntxt": false
  },
  "nbformat": 4,
  "nbformat_minor": 0
}
